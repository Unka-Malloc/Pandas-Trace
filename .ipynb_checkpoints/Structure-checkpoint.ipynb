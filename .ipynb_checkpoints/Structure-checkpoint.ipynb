{
 "cells": [
  {
   "cell_type": "markdown",
   "metadata": {},
   "source": [
    "# Relation"
   ]
  },
  {
   "cell_type": "markdown",
   "metadata": {
    "collapsed": true
   },
   "source": [
    "pysdql takes `pysdql.Relation` as the only entrance of the programme. Users are expected to create an `pysdql.Relation` object to start all the operations. `pysdql.Relation` is actually designed as a task manager class rather than a data entity class. Its name is simply intended to give the user the illusion that they were manipulating tables or matrices. `pysdql.Relation` is responsible for receiving the data from the user and then invokes appropriate functions depending on the data type and passing it on to the real data entity class. "
   ]
  },
  {
   "cell_type": "markdown",
   "metadata": {},
   "source": [
    "`pysdql.Relation` class has many ways of receiving data from users. For example, the name of a relation should be given by the user in construction. In fact, this is the only argument required for construction."
   ]
  },
  {
   "cell_type": "code",
   "execution_count": 1,
   "metadata": {},
   "outputs": [],
   "source": [
    "import pysdql\n",
    "\n",
    "r = pysdql.Relation(name='R')"
   ]
  },
  {
   "cell_type": "markdown",
   "metadata": {},
   "source": [
    "Even though it is not clever to require users to type the name of the variable twice, it is a last resort. Python does not provide a memory reflection mechanism for variables, i.e. it is impossible to get the name of the variable corresponding to it in memory from the variable itself."
   ]
  },
  {
   "cell_type": "markdown",
   "metadata": {},
   "source": [
    "## Slicing"
   ]
  },
  {
   "cell_type": "markdown",
   "metadata": {},
   "source": [
    "By slicing the `pysdql.Relation` object, i.e. `R[_]`, the user can perform selection and projection operations to extract the rows and columns that satisfy the conditions. This is implemented by overloading `__getitem__` method of `pysdql.Relation` class."
   ]
  },
  {
   "cell_type": "markdown",
   "metadata": {},
   "source": [
    "### Projection"
   ]
  },
  {
   "cell_type": "markdown",
   "metadata": {},
   "source": [
    "Users can select columns by passing a list of strings of column names into the slicing function, i.e. `R[['col1', 'col2', ..., 'coln']]` The type of the list of columns must be `List[str]`"
   ]
  },
  {
   "cell_type": "code",
   "execution_count": 2,
   "metadata": {},
   "outputs": [
    {
     "name": "stdout",
     "output_type": "stream",
     "text": [
      "let rmp = sum (<r_k, r_v> in R) { < A=r_k.A, B=r_k.B > } in\n"
     ]
    }
   ],
   "source": [
    "ab = r[['A', 'B']]"
   ]
  },
  {
   "cell_type": "markdown",
   "metadata": {},
   "source": [
    "If the `pysdql.Relation` is sliced by a string of column name, i.e. `R['column_name']`, an `ColUnit` object will be returned, which represents a single column of the relation."
   ]
  },
  {
   "cell_type": "code",
   "execution_count": 3,
   "metadata": {},
   "outputs": [
    {
     "data": {
      "text/plain": [
       "pysdql.core.dtypes.ColumnUnit.ColUnit"
      ]
     },
     "execution_count": 3,
     "metadata": {},
     "output_type": "execute_result"
    }
   ],
   "source": [
    "type(r['A'])"
   ]
  },
  {
   "cell_type": "markdown",
   "metadata": {},
   "source": [
    "Other than `R['Col']`, `pysdql` also support `R.col` to select a single column."
   ]
  },
  {
   "cell_type": "code",
   "execution_count": 4,
   "metadata": {},
   "outputs": [
    {
     "data": {
      "text/plain": [
       "pysdql.core.dtypes.ColumnUnit.ColUnit"
      ]
     },
     "execution_count": 4,
     "metadata": {},
     "output_type": "execute_result"
    }
   ],
   "source": [
    "type(r.A)"
   ]
  },
  {
   "cell_type": "markdown",
   "metadata": {},
   "source": [
    "`ColUnit` is designed to compose conditional expressions. It represents a single column of the relation. Whereas `ColExpr` represents the arithmetic operations between columns. For example, `r['A'] * r['B']` represents the multiplication of columns `A` and `B` of the relation `R`. `pysdql` supports addition (`+`), subtraction (`-`), multiplication (`*`) and division (`/`) by overloading the corresponding built-in functions as following."
   ]
  },
  {
   "cell_type": "markdown",
   "metadata": {},
   "source": [
    "| Operation | Built-in Method |\n",
    "| ------ | ----------- |\n",
    "| `+` | `__add__` |\n",
    "| `-` | `__sub__` |\n",
    "| `*` | `__mul__` |\n",
    "| `/` | `__truediv__` |"
   ]
  },
  {
   "cell_type": "code",
   "execution_count": 5,
   "metadata": {},
   "outputs": [
    {
     "data": {
      "text/plain": [
       "pysdql.core.dtypes.ColumnExpr.ColExpr"
      ]
     },
     "execution_count": 5,
     "metadata": {},
     "output_type": "execute_result"
    }
   ],
   "source": [
    "type((r['A'] + r['B']) * r['C'])"
   ]
  },
  {
   "cell_type": "markdown",
   "metadata": {},
   "source": [
    "When `ColUnit` is compared with other values, a conditional expression is generated and a `CondUnit` object is returned. For example, `R['A'] > 1` indicates the rows that satisfy the value of `A` greater than `1`. `pysdql` supports `>, >=, ==, =<, <` by overloading the corresponding built-in functions as following."
   ]
  },
  {
   "cell_type": "markdown",
   "metadata": {},
   "source": [
    "| Operation | Built-in Method |\n",
    "| ------ | ----------- |\n",
    "| `>` | `__gt__` |\n",
    "| `>=` | `__ge__` |\n",
    "| `==` | `__eq__` |\n",
    "| `<=` | `__le__` |\n",
    "| `<` | `__lt__` |"
   ]
  },
  {
   "cell_type": "code",
   "execution_count": 6,
   "metadata": {},
   "outputs": [
    {
     "data": {
      "text/plain": [
       "pysdql.core.dtypes.ConditionalUnit.CondUnit"
      ]
     },
     "execution_count": 6,
     "metadata": {},
     "output_type": "execute_result"
    }
   ],
   "source": [
    "type(r['A'] > 1)"
   ]
  },
  {
   "cell_type": "markdown",
   "metadata": {},
   "source": [
    "In the `ColUnit` class, when the `__eq__` method is overloaded, the `__hash__` method must be also overloaded to allow it to appear as a key in the dictionary to facilitate support for aggregation functions."
   ]
  },
  {
   "cell_type": "markdown",
   "metadata": {},
   "source": [
    "`CondUnit` represents a collection of conditional expressions. The user can concatnate conditions with logical operators `&` (and), `|` (or) and `~` (not). This is by overloading the corresponding built-in functions as following. Please be aware that Python keywords `and`, `or`, `not` are not the same to these logical operators. Those keywords only returns `True` or `False` and cannot be overloaded."
   ]
  },
  {
   "cell_type": "markdown",
   "metadata": {},
   "source": [
    "| Operation | Built-in Method |\n",
    "| ------ | ----------- |\n",
    "| `&` | `__and__` |\n",
    "| `\\|` | `__or__` |\n",
    "| `~` | `__invert__` |"
   ]
  },
  {
   "cell_type": "code",
   "execution_count": 7,
   "metadata": {},
   "outputs": [
    {
     "data": {
      "text/plain": [
       "pysdql.core.dtypes.ConditionalUnit.CondUnit"
      ]
     },
     "execution_count": 7,
     "metadata": {},
     "output_type": "execute_result"
    }
   ],
   "source": [
    "type((r['A'] > 1) & (r['B'] > 1))"
   ]
  },
  {
   "cell_type": "markdown",
   "metadata": {},
   "source": [
    "`TypeError` occurs when `CondUnit` objects are not wrapped by brackets `( )`. Therefore, please always use brackets on both sides of operators."
   ]
  },
  {
   "cell_type": "code",
   "execution_count": 8,
   "metadata": {},
   "outputs": [
    {
     "name": "stderr",
     "output_type": "stream",
     "text": [
      "Traceback (most recent call last):\n",
      "  File \"C:\\Users\\Y\\AppData\\Local\\Temp\\ipykernel_5220\\513163917.py\", line 4, in <cell line: 3>\n",
      "    r['A'] > 1 & r['B'] > 1\n",
      "TypeError: unsupported operand type(s) for &: 'int' and 'ColUnit'\n"
     ]
    }
   ],
   "source": [
    "import traceback\n",
    "\n",
    "try:\n",
    "    r['A'] > 1 & r['B'] > 1\n",
    "except Exception as e:\n",
    "    traceback.print_exc()"
   ]
  },
  {
   "cell_type": "markdown",
   "metadata": {},
   "source": [
    "There exists reverse methods for operators mentioned above. For example, `1 + r['A']` invokes the reverse method `__radd__` instead of `__add__`. The following table shows the reverse methods corresponding to the operators."
   ]
  },
  {
   "cell_type": "markdown",
   "metadata": {},
   "source": [
    "| Operation | Built-in Method | Reverse Method |\n",
    "| ------ | ----------- | ----------- |\n",
    "| `+` | `__add__` | `__radd__` |\n",
    "| `-` | `__sub__` | `__rsub__` |\n",
    "| `*` | `__mul__` | `__rmul__` |\n",
    "| `/` | `__truediv__` | `__rtruediv__` |\n",
    "| `&` | `__and__` | `__rand__` |\n",
    "| `\\|` | `__or__` | `__ror__` |"
   ]
  },
  {
   "cell_type": "markdown",
   "metadata": {},
   "source": [
    "### Selection"
   ]
  },
  {
   "cell_type": "markdown",
   "metadata": {},
   "source": [
    "Users can select rows that satisfy conditions by passing `CondUnit` or `CondExpr` object as arguments into the slicing function. For example, the following cells represent selection of rows that `A` is greater than `B` and `C` is less than `100`."
   ]
  },
  {
   "cell_type": "code",
   "execution_count": 9,
   "metadata": {},
   "outputs": [
    {
     "name": "stdout",
     "output_type": "stream",
     "text": [
      "let rmp = sum (<r_k, r_v> in R) if (r_k.A > r_k.B && r_k.C < 100) then { r_k } in\n"
     ]
    }
   ],
   "source": [
    "s = r[(r['A'] > r['B']) & (r['C'] < 100)]"
   ]
  },
  {
   "cell_type": "code",
   "execution_count": 13,
   "metadata": {},
   "outputs": [
    {
     "name": "stdout",
     "output_type": "stream",
     "text": [
      "let rmp = sum (<r_k, r_v> in R) if (r_k.A > r_k.B && r_k.C < 100) then { r_k } in\n"
     ]
    }
   ],
   "source": [
    "s = r[(r.A > r.B) & (r.C < 100)]"
   ]
  },
  {
   "cell_type": "markdown",
   "metadata": {},
   "source": [
    "Take columns `A` and `B` from the rows that satisfy the condition `(r['A'] > r['B']) & (r['C'] < 100)`."
   ]
  },
  {
   "cell_type": "code",
   "execution_count": 10,
   "metadata": {},
   "outputs": [
    {
     "name": "stdout",
     "output_type": "stream",
     "text": [
      "let rmp = sum (<r_k, r_v> in R) if (r_k.A > r_k.B && r_k.C < 100) then { r_k } in\n",
      "let tmp = sum (<r_k, r_v> in rmp) { < A=r_k.A, C=r_k.C > } in\n",
      "tmp\n"
     ]
    }
   ],
   "source": [
    "s = r[(r['A'] > r['B']) & (r['C'] < 100)][['A', 'C']].show()"
   ]
  },
  {
   "cell_type": "markdown",
   "metadata": {},
   "source": [
    "The fucntion `show()` represents that print the output on the terminal of the SDQL database. It simply repeat the name of the latest generated relation and returns `None`. `show()` is required at the end of the python script since it is impossible for `pysdql` to recognize the end of the queries."
   ]
  },
  {
   "cell_type": "markdown",
   "metadata": {},
   "source": [
    "### Other Conditional"
   ]
  },
  {
   "cell_type": "markdown",
   "metadata": {},
   "source": [
    "#### isin()"
   ]
  },
  {
   "cell_type": "code",
   "execution_count": 11,
   "metadata": {},
   "outputs": [
    {
     "name": "stdout",
     "output_type": "stream",
     "text": [
      "let smp = sum (<s_k, s_v> in S) if (s_k.A == \"banana\" || s_k.A == \"apple\") then { s_k } in\n",
      "smp\n"
     ]
    }
   ],
   "source": [
    "r = pysdql.Relation('R')\n",
    "s = pysdql.Relation('S')\n",
    "\n",
    "s[s['A'].isin(['apple', 'banana'])].show()"
   ]
  },
  {
   "cell_type": "markdown",
   "metadata": {},
   "source": [
    "#### exsists()"
   ]
  },
  {
   "cell_type": "code",
   "execution_count": 12,
   "metadata": {},
   "outputs": [
    {
     "name": "stdout",
     "output_type": "stream",
     "text": [
      "let rmp = sum (<r_k, r_v> in R) if ((sum (<s_k, s_v> in S) s_v) > 0) then { r_k } in\n",
      "rmp\n"
     ]
    }
   ],
   "source": [
    "r[s.exists()].show()"
   ]
  },
  {
   "cell_type": "markdown",
   "metadata": {},
   "source": [
    "## Group By"
   ]
  },
  {
   "cell_type": "code",
   "execution_count": null,
   "metadata": {},
   "outputs": [],
   "source": []
  }
 ],
 "metadata": {
  "kernelspec": {
   "display_name": "Python 3 (ipykernel)",
   "language": "python",
   "name": "python3"
  },
  "language_info": {
   "codemirror_mode": {
    "name": "ipython",
    "version": 3
   },
   "file_extension": ".py",
   "mimetype": "text/x-python",
   "name": "python",
   "nbconvert_exporter": "python",
   "pygments_lexer": "ipython3",
   "version": "3.9.7"
  }
 },
 "nbformat": 4,
 "nbformat_minor": 1
}
