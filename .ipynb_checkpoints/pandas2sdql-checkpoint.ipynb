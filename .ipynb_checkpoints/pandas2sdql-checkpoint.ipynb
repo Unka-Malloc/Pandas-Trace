{
 "cells": [
  {
   "cell_type": "code",
   "execution_count": 1,
   "metadata": {
    "pycharm": {
     "is_executing": true
    }
   },
   "outputs": [],
   "source": [
    "from pysdql import DataFrame\n",
    "import pysdql as pd\n",
    "from pysdql.core.dtypes.sdql_ir import (\n",
    "    ConstantExpr,\n",
    "    PrintAST,\n",
    "    GenerateSDQLCode,\n",
    ")"
   ]
  },
  {
   "cell_type": "markdown",
   "metadata": {},
   "source": [
    "# Q1"
   ]
  },
  {
   "cell_type": "code",
   "execution_count": 2,
   "metadata": {
    "pycharm": {
     "name": "#%%\n"
    }
   },
   "outputs": [],
   "source": [
    "li = DataFrame()\n",
    "\n",
    "li_filt = li[(li.l_shipdate <= \"1998-09-02\")]\n",
    "li_filt[\"disc_price\"] = li_filt.l_extendedprice * (1 - li_filt.l_discount)\n",
    "li_filt[\"charge\"] = li_filt.l_extendedprice * (1 - li_filt.l_discount) * (1 + li_filt.l_tax)\n",
    "\n",
    "result = li_filt \\\n",
    "    .groupby([\"l_returnflag\", \"l_linestatus\"]) \\\n",
    "    .agg(sum_qty=(\"l_quantity\", \"sum\"),\n",
    "         sum_base_price=(\"l_extendedprice\", \"sum\"),\n",
    "         sum_disc_price=(\"disc_price\", \"sum\"),\n",
    "         sum_charge=(\"charge\", \"sum\"),\n",
    "         count_order=(\"l_quantity\", \"count\")\n",
    "         )"
   ]
  },
  {
   "cell_type": "code",
   "execution_count": 3,
   "metadata": {},
   "outputs": [
    {
     "name": "stdout",
     "output_type": "stream",
     "text": [
      "{'iter': False, 'op': CompareExpr(CompareSymbol.LTE, RecAccessExpr(PairAccessExpr(x_li, 0), 'l_shipdate'), ConstantExpr(19980902)), 'op_type': <class 'pysdql.core.dtypes.CondExpr.CondExpr'>, 'on': li, 'ret_type': None}\n",
      "{'iter': False, 'op': {'disc_price': MulExpr(RecAccessExpr(PairAccessExpr(x_li, 0), 'l_extendedprice'), SubExpr(ConstantExpr(1), RecAccessExpr(PairAccessExpr(x_li, 0), 'l_discount')))}, 'op_type': <class 'pysdql.core.dtypes.VirColEl.VirColEl'>, 'on': li, 'ret_type': None}\n",
      "{'iter': False, 'op': {'charge': MulExpr(MulExpr(RecAccessExpr(PairAccessExpr(x_li, 0), 'l_extendedprice'), SubExpr(ConstantExpr(1), RecAccessExpr(PairAccessExpr(x_li, 0), 'l_discount'))), AddExpr(ConstantExpr(1), RecAccessExpr(PairAccessExpr(x_li, 0), 'l_tax')))}, 'op_type': <class 'pysdql.core.dtypes.VirColEl.VirColEl'>, 'on': li, 'ret_type': None}\n",
      "{'iter': True, 'op': {'sum_qty': RecAccessExpr(PairAccessExpr(x_li, 0), 'l_quantity'), 'sum_base_price': RecAccessExpr(PairAccessExpr(x_li, 0), 'l_extendedprice'), 'sum_disc_price': RecAccessExpr(PairAccessExpr(x_li, 0), 'disc_price'), 'sum_charge': RecAccessExpr(PairAccessExpr(x_li, 0), 'charge'), 'count_order': ConstantExpr(1)}, 'op_type': <class 'pysdql.core.dtypes.GroupByAgg.GroupByAgg'>, 'on': li, 'ret_type': None}\n"
     ]
    }
   ],
   "source": [
    "print(result.operations)"
   ]
  },
  {
   "cell_type": "code",
   "execution_count": 4,
   "metadata": {},
   "outputs": [
    {
     "name": "stdout",
     "output_type": "stream",
     "text": [
      "LetExpr(li_groupby_agg, SumExpr(x_li, db->li_dataset, IfExpr(CompareExpr(CompareSymbol.LTE, RecAccessExpr(PairAccessExpr(x_li, 0), 'l_shipdate'), ConstantExpr(19980902)), DicConsExpr([(RecConsExpr([('l_returnflag', RecAccessExpr(PairAccessExpr(x_li, 0), 'l_returnflag')), ('l_linestatus', RecAccessExpr(PairAccessExpr(x_li, 0), 'l_linestatus'))]), RecConsExpr([('sum_qty', RecAccessExpr(PairAccessExpr(x_li, 0), 'l_quantity')), ('sum_base_price', RecAccessExpr(PairAccessExpr(x_li, 0), 'l_extendedprice')), ('sum_disc_price', MulExpr(RecAccessExpr(PairAccessExpr(x_li, 0), 'l_extendedprice'), SubExpr(ConstantExpr(1), RecAccessExpr(PairAccessExpr(x_li, 0), 'l_discount')))), ('sum_charge', RecAccessExpr(PairAccessExpr(x_li, 0), 'charge')), ('count_order', ConstantExpr(1)), ('sum_qty', RecAccessExpr(PairAccessExpr(x_li, 0), 'l_quantity')), ('sum_base_price', RecAccessExpr(PairAccessExpr(x_li, 0), 'l_extendedprice')), ('sum_disc_price', RecAccessExpr(PairAccessExpr(x_li, 0), 'disc_price')), ('sum_charge', MulExpr(MulExpr(RecAccessExpr(PairAccessExpr(x_li, 0), 'l_extendedprice'), SubExpr(ConstantExpr(1), RecAccessExpr(PairAccessExpr(x_li, 0), 'l_discount'))), AddExpr(ConstantExpr(1), RecAccessExpr(PairAccessExpr(x_li, 0), 'l_tax')))), ('count_order', ConstantExpr(1))]))]), ConstantExpr(None)), False), LetExpr(li_filter_insert_insert_groupby_agg, SumExpr(v2, li_groupby_agg, DicConsExpr([(ConcatExpr(PairAccessExpr(v2, 0), PairAccessExpr(v2, 1)), ConstantExpr(True))]), True), LetExpr(out, li_filter_insert_insert_groupby_agg, ConstantExpr(True))))\n"
     ]
    }
   ],
   "source": [
    "print(result.optimize())"
   ]
  },
  {
   "cell_type": "code",
   "execution_count": 5,
   "metadata": {
    "scrolled": false
   },
   "outputs": [
    {
     "name": "stdout",
     "output_type": "stream",
     "text": [
      "nodeType: <class 'pysdql.core.dtypes.sdql_ir.LetExpr'> | ID: 169\n",
      "├───── nodeType: <class 'pysdql.core.dtypes.sdql_ir.VarExpr'> | ID: 116 | name: li_groupby_agg\n",
      "├───── nodeType: <class 'pysdql.core.dtypes.sdql_ir.SumExpr'> | ID: 153\n",
      "│      ├───── nodeType: <class 'pysdql.core.dtypes.sdql_ir.VarExpr'> | ID: 117 | name: x_li\n",
      "│      ├───── nodeType: <class 'pysdql.core.dtypes.sdql_ir.VarExpr'> | ID: 118 | name: db->li_dataset\n",
      "│      ├───── nodeType: <class 'pysdql.core.dtypes.sdql_ir.IfExpr'> | ID: 151\n",
      "│      │      ├───── nodeType: <class 'pysdql.core.dtypes.sdql_ir.CompareExpr'> | ID: 140 | compareType: CompareSymbol.LTE\n",
      "│      │      │      ├───── nodeType: <class 'pysdql.core.dtypes.sdql_ir.RecAccessExpr'> | ID: 3 | name: l_shipdate\n",
      "│      │      │      │      └───── nodeType: <class 'pysdql.core.dtypes.sdql_ir.PairAccessExpr'> | ID: 2 | index: 0\n",
      "│      │      │      │             └───── nodeType: <class 'pysdql.core.dtypes.sdql_ir.VarExpr'> | ID: 1 | name: x_li\n",
      "│      │      │      └───── nodeType: <class 'pysdql.core.dtypes.sdql_ir.ConstantExpr'> | ID: 4 | value: 19980902 | valueType: <pysdql.core.dtypes.sdql_ir.IntType object at 0x000001E3B6458070>\n",
      "│      │      ├───── nodeType: <class 'pysdql.core.dtypes.sdql_ir.DicConsExpr'> | ID: 149\n",
      "│      │      │      ├───── nodeType: <class 'pysdql.core.dtypes.sdql_ir.RecConsExpr'> | ID: 147\n",
      "│      │      │      │      ├───── nodeType: <class 'pysdql.core.dtypes.sdql_ir.RecAccessExpr'> | ID: 143 | name: l_returnflag\n",
      "│      │      │      │      │      └───── nodeType: <class 'pysdql.core.dtypes.sdql_ir.PairAccessExpr'> | ID: 142 | index: 0\n",
      "│      │      │      │      │             └───── nodeType: <class 'pysdql.core.dtypes.sdql_ir.VarExpr'> | ID: 141 | name: x_li\n",
      "│      │      │      │      └───── nodeType: <class 'pysdql.core.dtypes.sdql_ir.RecAccessExpr'> | ID: 146 | name: l_linestatus\n",
      "│      │      │      │             └───── nodeType: <class 'pysdql.core.dtypes.sdql_ir.PairAccessExpr'> | ID: 145 | index: 0\n",
      "│      │      │      │                    └───── nodeType: <class 'pysdql.core.dtypes.sdql_ir.VarExpr'> | ID: 144 | name: x_li\n",
      "│      │      │      └───── nodeType: <class 'pysdql.core.dtypes.sdql_ir.RecConsExpr'> | ID: 148\n",
      "│      │      │             ├───── nodeType: <class 'pysdql.core.dtypes.sdql_ir.RecAccessExpr'> | ID: 31 | name: l_quantity\n",
      "│      │      │             │      └───── nodeType: <class 'pysdql.core.dtypes.sdql_ir.PairAccessExpr'> | ID: 30 | index: 0\n",
      "│      │      │             │             └───── nodeType: <class 'pysdql.core.dtypes.sdql_ir.VarExpr'> | ID: 29 | name: x_li\n",
      "│      │      │             ├───── nodeType: <class 'pysdql.core.dtypes.sdql_ir.RecAccessExpr'> | ID: 34 | name: l_extendedprice\n",
      "│      │      │             │      └───── nodeType: <class 'pysdql.core.dtypes.sdql_ir.PairAccessExpr'> | ID: 33 | index: 0\n",
      "│      │      │             │             └───── nodeType: <class 'pysdql.core.dtypes.sdql_ir.VarExpr'> | ID: 32 | name: x_li\n",
      "│      │      │             ├───── nodeType: <class 'pysdql.core.dtypes.sdql_ir.MulExpr'> | ID: 13\n",
      "│      │      │             │      ├───── nodeType: <class 'pysdql.core.dtypes.sdql_ir.RecAccessExpr'> | ID: 12 | name: l_extendedprice\n",
      "│      │      │             │      │      └───── nodeType: <class 'pysdql.core.dtypes.sdql_ir.PairAccessExpr'> | ID: 11 | index: 0\n",
      "│      │      │             │      │             └───── nodeType: <class 'pysdql.core.dtypes.sdql_ir.VarExpr'> | ID: 10 | name: x_li\n",
      "│      │      │             │      └───── nodeType: <class 'pysdql.core.dtypes.sdql_ir.SubExpr'> | ID: 9\n",
      "│      │      │             │             ├───── nodeType: <class 'pysdql.core.dtypes.sdql_ir.ConstantExpr'> | ID: 5 | value: 1 | valueType: <pysdql.core.dtypes.sdql_ir.IntType object at 0x000001E3B6458490>\n",
      "│      │      │             │             └───── nodeType: <class 'pysdql.core.dtypes.sdql_ir.RecAccessExpr'> | ID: 8 | name: l_discount\n",
      "│      │      │             │                    └───── nodeType: <class 'pysdql.core.dtypes.sdql_ir.PairAccessExpr'> | ID: 7 | index: 0\n",
      "│      │      │             │                           └───── nodeType: <class 'pysdql.core.dtypes.sdql_ir.VarExpr'> | ID: 6 | name: x_li\n",
      "│      │      │             ├───── nodeType: <class 'pysdql.core.dtypes.sdql_ir.RecAccessExpr'> | ID: 40 | name: charge\n",
      "│      │      │             │      └───── nodeType: <class 'pysdql.core.dtypes.sdql_ir.PairAccessExpr'> | ID: 39 | index: 0\n",
      "│      │      │             │             └───── nodeType: <class 'pysdql.core.dtypes.sdql_ir.VarExpr'> | ID: 38 | name: x_li\n",
      "│      │      │             ├───── nodeType: <class 'pysdql.core.dtypes.sdql_ir.ConstantExpr'> | ID: 44 | value: 1 | valueType: <pysdql.core.dtypes.sdql_ir.IntType object at 0x000001E3B645F880>\n",
      "│      │      │             ├───── nodeType: <class 'pysdql.core.dtypes.sdql_ir.RecAccessExpr'> | ID: 31 | name: l_quantity\n",
      "│      │      │             │      └───── nodeType: <class 'pysdql.core.dtypes.sdql_ir.PairAccessExpr'> | ID: 30 | index: 0\n",
      "│      │      │             │             └───── nodeType: <class 'pysdql.core.dtypes.sdql_ir.VarExpr'> | ID: 29 | name: x_li\n",
      "│      │      │             ├───── nodeType: <class 'pysdql.core.dtypes.sdql_ir.RecAccessExpr'> | ID: 34 | name: l_extendedprice\n",
      "│      │      │             │      └───── nodeType: <class 'pysdql.core.dtypes.sdql_ir.PairAccessExpr'> | ID: 33 | index: 0\n",
      "│      │      │             │             └───── nodeType: <class 'pysdql.core.dtypes.sdql_ir.VarExpr'> | ID: 32 | name: x_li\n",
      "│      │      │             ├───── nodeType: <class 'pysdql.core.dtypes.sdql_ir.RecAccessExpr'> | ID: 37 | name: disc_price\n",
      "│      │      │             │      └───── nodeType: <class 'pysdql.core.dtypes.sdql_ir.PairAccessExpr'> | ID: 36 | index: 0\n",
      "│      │      │             │             └───── nodeType: <class 'pysdql.core.dtypes.sdql_ir.VarExpr'> | ID: 35 | name: x_li\n",
      "│      │      │             ├───── nodeType: <class 'pysdql.core.dtypes.sdql_ir.MulExpr'> | ID: 28\n",
      "│      │      │             │      ├───── nodeType: <class 'pysdql.core.dtypes.sdql_ir.MulExpr'> | ID: 22\n",
      "│      │      │             │      │      ├───── nodeType: <class 'pysdql.core.dtypes.sdql_ir.RecAccessExpr'> | ID: 21 | name: l_extendedprice\n",
      "│      │      │             │      │      │      └───── nodeType: <class 'pysdql.core.dtypes.sdql_ir.PairAccessExpr'> | ID: 20 | index: 0\n",
      "│      │      │             │      │      │             └───── nodeType: <class 'pysdql.core.dtypes.sdql_ir.VarExpr'> | ID: 19 | name: x_li\n",
      "│      │      │             │      │      └───── nodeType: <class 'pysdql.core.dtypes.sdql_ir.SubExpr'> | ID: 18\n",
      "│      │      │             │      │             ├───── nodeType: <class 'pysdql.core.dtypes.sdql_ir.ConstantExpr'> | ID: 14 | value: 1 | valueType: <pysdql.core.dtypes.sdql_ir.IntType object at 0x000001E3B6458B80>\n",
      "│      │      │             │      │             └───── nodeType: <class 'pysdql.core.dtypes.sdql_ir.RecAccessExpr'> | ID: 17 | name: l_discount\n",
      "│      │      │             │      │                    └───── nodeType: <class 'pysdql.core.dtypes.sdql_ir.PairAccessExpr'> | ID: 16 | index: 0\n",
      "│      │      │             │      │                           └───── nodeType: <class 'pysdql.core.dtypes.sdql_ir.VarExpr'> | ID: 15 | name: x_li\n",
      "│      │      │             │      └───── nodeType: <class 'pysdql.core.dtypes.sdql_ir.AddExpr'> | ID: 27\n",
      "│      │      │             │             ├───── nodeType: <class 'pysdql.core.dtypes.sdql_ir.ConstantExpr'> | ID: 23 | value: 1 | valueType: <pysdql.core.dtypes.sdql_ir.IntType object at 0x000001E3B6458F40>\n",
      "│      │      │             │             └───── nodeType: <class 'pysdql.core.dtypes.sdql_ir.RecAccessExpr'> | ID: 26 | name: l_tax\n",
      "│      │      │             │                    └───── nodeType: <class 'pysdql.core.dtypes.sdql_ir.PairAccessExpr'> | ID: 25 | index: 0\n",
      "│      │      │             │                           └───── nodeType: <class 'pysdql.core.dtypes.sdql_ir.VarExpr'> | ID: 24 | name: x_li\n",
      "│      │      │             └───── nodeType: <class 'pysdql.core.dtypes.sdql_ir.ConstantExpr'> | ID: 44 | value: 1 | valueType: <pysdql.core.dtypes.sdql_ir.IntType object at 0x000001E3B645F880>\n",
      "│      │      └───── nodeType: <class 'pysdql.core.dtypes.sdql_ir.ConstantExpr'> | ID: 150 | value: None | valueType: None\n",
      "│      └───── nodeType: <class 'pysdql.core.dtypes.sdql_ir.VarExpr'> | ID: 154 | name: v4\n",
      "└───── nodeType: <class 'pysdql.core.dtypes.sdql_ir.LetExpr'> | ID: 168\n",
      "       ├───── nodeType: <class 'pysdql.core.dtypes.sdql_ir.VarExpr'> | ID: 120 | name: li_filter_insert_insert_groupby_agg\n",
      "       ├───── nodeType: <class 'pysdql.core.dtypes.sdql_ir.SumExpr'> | ID: 162\n",
      "       │      ├───── nodeType: <class 'pysdql.core.dtypes.sdql_ir.VarExpr'> | ID: 156 | name: v5\n",
      "       │      ├───── nodeType: <class 'pysdql.core.dtypes.sdql_ir.VarExpr'> | ID: 116 | name: li_groupby_agg\n",
      "       │      ├───── nodeType: <class 'pysdql.core.dtypes.sdql_ir.DicConsExpr'> | ID: 161\n",
      "       │      │      ├───── nodeType: <class 'pysdql.core.dtypes.sdql_ir.ConcatExpr'> | ID: 159\n",
      "       │      │      │      ├───── nodeType: <class 'pysdql.core.dtypes.sdql_ir.PairAccessExpr'> | ID: 157 | index: 0\n",
      "       │      │      │      │      └───── nodeType: <class 'pysdql.core.dtypes.sdql_ir.VarExpr'> | ID: 156 | name: v5\n",
      "       │      │      │      └───── nodeType: <class 'pysdql.core.dtypes.sdql_ir.PairAccessExpr'> | ID: 158 | index: 1\n",
      "       │      │      │             └───── nodeType: <class 'pysdql.core.dtypes.sdql_ir.VarExpr'> | ID: 156 | name: v5\n",
      "       │      │      └───── nodeType: <class 'pysdql.core.dtypes.sdql_ir.ConstantExpr'> | ID: 160 | value: True | valueType: <pysdql.core.dtypes.sdql_ir.BoolType object at 0x000001E3B63EDAF0>\n",
      "       │      └───── nodeType: <class 'pysdql.core.dtypes.sdql_ir.VarExpr'> | ID: 163 | name: v6\n",
      "       └───── nodeType: <class 'pysdql.core.dtypes.sdql_ir.LetExpr'> | ID: 167\n",
      "              ├───── nodeType: <class 'pysdql.core.dtypes.sdql_ir.VarExpr'> | ID: 165 | name: out\n",
      "              ├───── nodeType: <class 'pysdql.core.dtypes.sdql_ir.VarExpr'> | ID: 120 | name: li_filter_insert_insert_groupby_agg\n",
      "              └───── nodeType: <class 'pysdql.core.dtypes.sdql_ir.ConstantExpr'> | ID: 166 | value: True | valueType: <pysdql.core.dtypes.sdql_ir.BoolType object at 0x000001E3B645FF70>\n"
     ]
    }
   ],
   "source": [
    "PrintAST(result.optimize())"
   ]
  },
  {
   "cell_type": "code",
   "execution_count": 6,
   "metadata": {},
   "outputs": [
    {
     "name": "stdout",
     "output_type": "stream",
     "text": [
      "let li_groupby_agg = sum (x_li in db->li_dataset) if (x_li[0].l_shipdate <= 19980902) then { < l_returnflag: x_li[0].l_returnflag, l_linestatus: x_li[0].l_linestatus> -> < sum_qty: x_li[0].l_quantity, sum_base_price: x_li[0].l_extendedprice, sum_disc_price: x_li[0].l_extendedprice * 1 - x_li[0].l_discount, sum_charge: x_li[0].charge, count_order: 1, sum_qty: x_li[0].l_quantity, sum_base_price: x_li[0].l_extendedprice, sum_disc_price: x_li[0].disc_price, sum_charge: x_li[0].l_extendedprice * 1 - x_li[0].l_discount * 1 + x_li[0].l_tax, count_order: 1> } else none in let li_filter_insert_insert_groupby_agg = sum (v8 in li_groupby_agg) { recordconcat(v8[0],v8[1]) -> true } in let out = li_filter_insert_insert_groupby_agg in true\n"
     ]
    }
   ],
   "source": [
    "print(GenerateSDQLCode(result.optimize()))"
   ]
  },
  {
   "cell_type": "markdown",
   "metadata": {},
   "source": [
    "# Q3"
   ]
  },
  {
   "cell_type": "code",
   "execution_count": 7,
   "metadata": {},
   "outputs": [],
   "source": [
    "cu = DataFrame()\n",
    "ord = DataFrame()\n",
    "li = DataFrame()\n",
    "\n",
    "cu_filt = cu[cu.c_mktsegment == \"BUILDING\"]\n",
    "cu_filt = cu_filt[[\"c_custkey\"]]\n",
    "\n",
    "# print(cu_filt.operations)\n",
    "\n",
    "ord_filt = ord[ord.o_orderdate < \"1995-03-15\"]\n",
    "ord_cu_join = pd.merge(cu_filt, ord_filt, left_on=\"c_custkey\", right_on=\"o_custkey\", how=\"inner\")\n",
    "ord_cu_join = ord_cu_join[[\"o_orderkey\", \"o_orderdate\", \"o_shippriority\"]]\n",
    "\n",
    "# li_filt = li[li.l_shipdate > \"1995-03-15\"]\n",
    "# li_order_join = pd.merge(ord_cu_join, li_filt, left_on=\"o_orderkey\", right_on=\"l_orderkey\", how=\"inner\")\n",
    "# li_order_join[\"revenue\"] = li_order_join.l_extendedprice * (1 - li_order_join.l_discount)\n",
    "#\n",
    "# result = li_order_join \\\n",
    "#     .groupby([\"l_orderkey\", \"o_orderdate\", \"o_shippriority\"]) \\\n",
    "#     .agg(revenue=(\"revenue\", \"sum\"))\n",
    "\n",
    "# return result"
   ]
  },
  {
   "cell_type": "code",
   "execution_count": 8,
   "metadata": {},
   "outputs": [
    {
     "name": "stdout",
     "output_type": "stream",
     "text": [
      "{'iter': False, 'op': CompareExpr(CompareSymbol.EQ, RecAccessExpr(PairAccessExpr(x_cu, 0), 'c_mktsegment'), ConstantExpr(\"BUILDING\")), 'op_type': <class 'pysdql.core.dtypes.CondExpr.CondExpr'>, 'on': cu, 'ret_type': None}\n",
      "{'iter': False, 'op': {'proj_on': cu, 'proj_cols': ['c_custkey']}, 'op_type': <class 'pysdql.core.dtypes.ColProjExpr.ColProjExpr'>, 'on': cu, 'ret_type': None}\n",
      "{'iter': True, 'op': {'left': cu, 'right': ord, 'how': 'inner', 'left_on': 'c_custkey', 'right_on': 'o_custkey'}, 'op_type': <class 'pysdql.core.dtypes.MergeExpr.MergeExpr'>, 'on': cu, 'ret_type': None}\n"
     ]
    }
   ],
   "source": [
    "print(cu_filt.operations)"
   ]
  },
  {
   "cell_type": "code",
   "execution_count": 9,
   "metadata": {},
   "outputs": [
    {
     "name": "stdout",
     "output_type": "stream",
     "text": [
      "{'iter': False, 'op': CompareExpr(CompareSymbol.LT, RecAccessExpr(PairAccessExpr(x_ord, 0), 'o_orderdate'), ConstantExpr(19950315)), 'op_type': <class 'pysdql.core.dtypes.CondExpr.CondExpr'>, 'on': ord, 'ret_type': None}\n",
      "{'iter': True, 'op': {'left': cu, 'right': ord, 'how': 'inner', 'left_on': 'c_custkey', 'right_on': 'o_custkey'}, 'op_type': <class 'pysdql.core.dtypes.MergeExpr.MergeExpr'>, 'on': ord, 'ret_type': None}\n",
      "{'iter': False, 'op': {'proj_on': ord, 'proj_cols': ['o_orderkey', 'o_orderdate', 'o_shippriority']}, 'op_type': <class 'pysdql.core.dtypes.ColProjExpr.ColProjExpr'>, 'on': ord, 'ret_type': None}\n"
     ]
    }
   ],
   "source": [
    "print(ord_cu_join.operations)"
   ]
  },
  {
   "cell_type": "code",
   "execution_count": 10,
   "metadata": {},
   "outputs": [
    {
     "name": "stdout",
     "output_type": "stream",
     "text": [
      "LetExpr(cu_filter_proj_merge, SumExpr(x_cu, db->cu_dataset, IfExpr(CompareExpr(CompareSymbol.EQ, RecAccessExpr(PairAccessExpr(x_cu, 0), 'c_mktsegment'), ConstantExpr(\"BUILDING\")), DicConsExpr([(RecConsExpr([('c_custkey', RecAccessExpr(PairAccessExpr(x_cu, 0), 'c_custkey'))]), RecConsExpr([('c_custkey', RecAccessExpr(PairAccessExpr(x_cu, 0), 'c_custkey'))]))]), ConstantExpr(None)), False), ConstantExpr(\"Here is the right part of hash join!\"))\n"
     ]
    }
   ],
   "source": [
    "print(cu_filt.merge_left_stmt(ConstantExpr('Here is the right part of hash join!')))"
   ]
  },
  {
   "cell_type": "code",
   "execution_count": 11,
   "metadata": {},
   "outputs": [
    {
     "name": "stdout",
     "output_type": "stream",
     "text": [
      "LetExpr(ord_filter_merge_proj, SumExpr(x_ord, db->ord_dataset, IfExpr(CompareExpr(CompareSymbol.LT, RecAccessExpr(PairAccessExpr(x_ord, 0), 'o_orderdate'), ConstantExpr(19950315)), IfExpr(CompareExpr(CompareSymbol.NE, DicLookupExpr(cu_filter_proj_merge, RecAccessExpr(PairAccessExpr(x_ord, 0), 'o_custkey')), ConstantExpr(None)), DicConsExpr([(RecConsExpr([('o_custkey', RecAccessExpr(PairAccessExpr(x_ord, 0), 'o_custkey'))]), RecConsExpr([('o_orderkey', RecAccessExpr(PairAccessExpr(x_ord, 0), 'o_orderkey')), ('o_orderdate', RecAccessExpr(PairAccessExpr(x_ord, 0), 'o_orderdate')), ('o_shippriority', RecAccessExpr(PairAccessExpr(x_ord, 0), 'o_shippriority'))]))]), ConstantExpr(None)), ConstantExpr(None)), False), ConstantExpr(\"Here is the next LetExpr!\"))\n"
     ]
    }
   ],
   "source": [
    "print(ord_cu_join.merge_right_stmt(ConstantExpr('Here is the next LetExpr!')))"
   ]
  },
  {
   "cell_type": "markdown",
   "metadata": {},
   "source": [
    "# Q6"
   ]
  },
  {
   "cell_type": "code",
   "execution_count": 12,
   "metadata": {
    "pycharm": {
     "name": "#%%\n"
    }
   },
   "outputs": [],
   "source": [
    "li = DataFrame()\n",
    "\n",
    "li_filt = li[\n",
    "    (li.l_shipdate >= \"1994-01-01\") &\n",
    "    (li.l_shipdate < \"1995-01-01\") &\n",
    "    (li.l_discount >= 0.05) &\n",
    "    (li.l_discount <= 0.07) &\n",
    "    (li.l_quantity < 24)\n",
    "    ]\n",
    "\n",
    "result = (li_filt.l_extendedprice * li_filt.l_discount).sum()"
   ]
  },
  {
   "cell_type": "code",
   "execution_count": 13,
   "metadata": {},
   "outputs": [
    {
     "name": "stdout",
     "output_type": "stream",
     "text": [
      "{'iter': False, 'op': MulExpr(MulExpr(MulExpr(MulExpr(CompareExpr(CompareSymbol.GTE, RecAccessExpr(PairAccessExpr(x_li, 0), 'l_shipdate'), ConstantExpr(19940101)), CompareExpr(CompareSymbol.LT, RecAccessExpr(PairAccessExpr(x_li, 0), 'l_shipdate'), ConstantExpr(19950101))), CompareExpr(CompareSymbol.GTE, RecAccessExpr(PairAccessExpr(x_li, 0), 'l_discount'), ConstantExpr(0.05))), CompareExpr(CompareSymbol.LTE, RecAccessExpr(PairAccessExpr(x_li, 0), 'l_discount'), ConstantExpr(0.07))), CompareExpr(CompareSymbol.LT, RecAccessExpr(PairAccessExpr(x_li, 0), 'l_quantity'), ConstantExpr(24))), 'op_type': <class 'pysdql.core.dtypes.CondExpr.CondExpr'>, 'on': li, 'ret_type': None}\n",
      "{'iter': True, 'op': MulExpr(RecAccessExpr(PairAccessExpr(x_li, 0), 'l_extendedprice'), RecAccessExpr(PairAccessExpr(x_li, 0), 'l_discount')), 'op_type': <class 'pysdql.core.dtypes.AggrExpr.AggrExpr'>, 'on': li, 'ret_type': None}\n"
     ]
    }
   ],
   "source": [
    "print(result.operations)"
   ]
  },
  {
   "cell_type": "code",
   "execution_count": 14,
   "metadata": {},
   "outputs": [
    {
     "name": "stdout",
     "output_type": "stream",
     "text": [
      "LetExpr(result, SumExpr(x_li, db->li_dataset, IfExpr(MulExpr(MulExpr(MulExpr(MulExpr(CompareExpr(CompareSymbol.GTE, RecAccessExpr(PairAccessExpr(x_li, 0), 'l_shipdate'), ConstantExpr(19940101)), CompareExpr(CompareSymbol.LT, RecAccessExpr(PairAccessExpr(x_li, 0), 'l_shipdate'), ConstantExpr(19950101))), CompareExpr(CompareSymbol.GTE, RecAccessExpr(PairAccessExpr(x_li, 0), 'l_discount'), ConstantExpr(0.05))), CompareExpr(CompareSymbol.LTE, RecAccessExpr(PairAccessExpr(x_li, 0), 'l_discount'), ConstantExpr(0.07))), CompareExpr(CompareSymbol.LT, RecAccessExpr(PairAccessExpr(x_li, 0), 'l_quantity'), ConstantExpr(24))), MulExpr(RecAccessExpr(PairAccessExpr(x_li, 0), 'l_extendedprice'), RecAccessExpr(PairAccessExpr(x_li, 0), 'l_discount')), ConstantExpr(0.0)), False), LetExpr(out, result, ConstantExpr(True)))\n"
     ]
    }
   ],
   "source": [
    "print(result.optimize())"
   ]
  },
  {
   "cell_type": "code",
   "execution_count": 15,
   "metadata": {},
   "outputs": [
    {
     "name": "stdout",
     "output_type": "stream",
     "text": [
      "nodeType: <class 'pysdql.core.dtypes.sdql_ir.LetExpr'> | ID: 520\n",
      "├───── nodeType: <class 'pysdql.core.dtypes.sdql_ir.VarExpr'> | ID: 513 | name: result\n",
      "├───── nodeType: <class 'pysdql.core.dtypes.sdql_ir.SumExpr'> | ID: 514\n",
      "│      ├───── nodeType: <class 'pysdql.core.dtypes.sdql_ir.VarExpr'> | ID: 481 | name: x_li\n",
      "│      ├───── nodeType: <class 'pysdql.core.dtypes.sdql_ir.VarExpr'> | ID: 482 | name: db->li_dataset\n",
      "│      ├───── nodeType: <class 'pysdql.core.dtypes.sdql_ir.IfExpr'> | ID: 511\n",
      "│      │      ├───── nodeType: <class 'pysdql.core.dtypes.sdql_ir.MulExpr'> | ID: 510\n",
      "│      │      │      ├───── nodeType: <class 'pysdql.core.dtypes.sdql_ir.MulExpr'> | ID: 419\n",
      "│      │      │      │      ├───── nodeType: <class 'pysdql.core.dtypes.sdql_ir.MulExpr'> | ID: 413\n",
      "│      │      │      │      │      ├───── nodeType: <class 'pysdql.core.dtypes.sdql_ir.MulExpr'> | ID: 407\n",
      "│      │      │      │      │      │      ├───── nodeType: <class 'pysdql.core.dtypes.sdql_ir.CompareExpr'> | ID: 405 | compareType: CompareSymbol.GTE\n",
      "│      │      │      │      │      │      │      ├───── nodeType: <class 'pysdql.core.dtypes.sdql_ir.RecAccessExpr'> | ID: 399 | name: l_shipdate\n",
      "│      │      │      │      │      │      │      │      └───── nodeType: <class 'pysdql.core.dtypes.sdql_ir.PairAccessExpr'> | ID: 398 | index: 0\n",
      "│      │      │      │      │      │      │      │             └───── nodeType: <class 'pysdql.core.dtypes.sdql_ir.VarExpr'> | ID: 397 | name: x_li\n",
      "│      │      │      │      │      │      │      └───── nodeType: <class 'pysdql.core.dtypes.sdql_ir.ConstantExpr'> | ID: 400 | value: 19940101 | valueType: <pysdql.core.dtypes.sdql_ir.IntType object at 0x000001E3B640B670>\n",
      "│      │      │      │      │      │      └───── nodeType: <class 'pysdql.core.dtypes.sdql_ir.CompareExpr'> | ID: 406 | compareType: CompareSymbol.LT\n",
      "│      │      │      │      │      │             ├───── nodeType: <class 'pysdql.core.dtypes.sdql_ir.RecAccessExpr'> | ID: 403 | name: l_shipdate\n",
      "│      │      │      │      │      │             │      └───── nodeType: <class 'pysdql.core.dtypes.sdql_ir.PairAccessExpr'> | ID: 402 | index: 0\n",
      "│      │      │      │      │      │             │             └───── nodeType: <class 'pysdql.core.dtypes.sdql_ir.VarExpr'> | ID: 401 | name: x_li\n",
      "│      │      │      │      │      │             └───── nodeType: <class 'pysdql.core.dtypes.sdql_ir.ConstantExpr'> | ID: 404 | value: 19950101 | valueType: <pysdql.core.dtypes.sdql_ir.IntType object at 0x000001E3B640B430>\n",
      "│      │      │      │      │      └───── nodeType: <class 'pysdql.core.dtypes.sdql_ir.CompareExpr'> | ID: 412 | compareType: CompareSymbol.GTE\n",
      "│      │      │      │      │             ├───── nodeType: <class 'pysdql.core.dtypes.sdql_ir.RecAccessExpr'> | ID: 410 | name: l_discount\n",
      "│      │      │      │      │             │      └───── nodeType: <class 'pysdql.core.dtypes.sdql_ir.PairAccessExpr'> | ID: 409 | index: 0\n",
      "│      │      │      │      │             │             └───── nodeType: <class 'pysdql.core.dtypes.sdql_ir.VarExpr'> | ID: 408 | name: x_li\n",
      "│      │      │      │      │             └───── nodeType: <class 'pysdql.core.dtypes.sdql_ir.ConstantExpr'> | ID: 411 | value: 0.05 | valueType: <pysdql.core.dtypes.sdql_ir.FloatType object at 0x000001E3B640E970>\n",
      "│      │      │      │      └───── nodeType: <class 'pysdql.core.dtypes.sdql_ir.CompareExpr'> | ID: 418 | compareType: CompareSymbol.LTE\n",
      "│      │      │      │             ├───── nodeType: <class 'pysdql.core.dtypes.sdql_ir.RecAccessExpr'> | ID: 416 | name: l_discount\n",
      "│      │      │      │             │      └───── nodeType: <class 'pysdql.core.dtypes.sdql_ir.PairAccessExpr'> | ID: 415 | index: 0\n",
      "│      │      │      │             │             └───── nodeType: <class 'pysdql.core.dtypes.sdql_ir.VarExpr'> | ID: 414 | name: x_li\n",
      "│      │      │      │             └───── nodeType: <class 'pysdql.core.dtypes.sdql_ir.ConstantExpr'> | ID: 417 | value: 0.07 | valueType: <pysdql.core.dtypes.sdql_ir.FloatType object at 0x000001E3B640ECD0>\n",
      "│      │      │      └───── nodeType: <class 'pysdql.core.dtypes.sdql_ir.CompareExpr'> | ID: 424 | compareType: CompareSymbol.LT\n",
      "│      │      │             ├───── nodeType: <class 'pysdql.core.dtypes.sdql_ir.RecAccessExpr'> | ID: 422 | name: l_quantity\n",
      "│      │      │             │      └───── nodeType: <class 'pysdql.core.dtypes.sdql_ir.PairAccessExpr'> | ID: 421 | index: 0\n",
      "│      │      │             │             └───── nodeType: <class 'pysdql.core.dtypes.sdql_ir.VarExpr'> | ID: 420 | name: x_li\n",
      "│      │      │             └───── nodeType: <class 'pysdql.core.dtypes.sdql_ir.ConstantExpr'> | ID: 423 | value: 24 | valueType: <pysdql.core.dtypes.sdql_ir.IntType object at 0x000001E3B640EF70>\n",
      "│      │      ├───── nodeType: <class 'pysdql.core.dtypes.sdql_ir.MulExpr'> | ID: 432\n",
      "│      │      │      ├───── nodeType: <class 'pysdql.core.dtypes.sdql_ir.RecAccessExpr'> | ID: 428 | name: l_extendedprice\n",
      "│      │      │      │      └───── nodeType: <class 'pysdql.core.dtypes.sdql_ir.PairAccessExpr'> | ID: 427 | index: 0\n",
      "│      │      │      │             └───── nodeType: <class 'pysdql.core.dtypes.sdql_ir.VarExpr'> | ID: 426 | name: x_li\n",
      "│      │      │      └───── nodeType: <class 'pysdql.core.dtypes.sdql_ir.RecAccessExpr'> | ID: 431 | name: l_discount\n",
      "│      │      │             └───── nodeType: <class 'pysdql.core.dtypes.sdql_ir.PairAccessExpr'> | ID: 430 | index: 0\n",
      "│      │      │                    └───── nodeType: <class 'pysdql.core.dtypes.sdql_ir.VarExpr'> | ID: 429 | name: x_li\n",
      "│      │      └───── nodeType: <class 'pysdql.core.dtypes.sdql_ir.ConstantExpr'> | ID: 433 | value: 0.0 | valueType: <pysdql.core.dtypes.sdql_ir.FloatType object at 0x000001E3B6417340>\n",
      "│      └───── nodeType: <class 'pysdql.core.dtypes.sdql_ir.VarExpr'> | ID: 515 | name: v13\n",
      "└───── nodeType: <class 'pysdql.core.dtypes.sdql_ir.LetExpr'> | ID: 519\n",
      "       ├───── nodeType: <class 'pysdql.core.dtypes.sdql_ir.VarExpr'> | ID: 517 | name: out\n",
      "       ├───── nodeType: <class 'pysdql.core.dtypes.sdql_ir.VarExpr'> | ID: 513 | name: result\n",
      "       └───── nodeType: <class 'pysdql.core.dtypes.sdql_ir.ConstantExpr'> | ID: 518 | value: True | valueType: <pysdql.core.dtypes.sdql_ir.BoolType object at 0x000001E3B6417AC0>\n"
     ]
    }
   ],
   "source": [
    "PrintAST(result.optimize())"
   ]
  },
  {
   "cell_type": "code",
   "execution_count": 16,
   "metadata": {},
   "outputs": [
    {
     "name": "stdout",
     "output_type": "stream",
     "text": [
      "let result = sum (x_li in db->li_dataset) if (x_li[0].l_shipdate >= 19940101 * x_li[0].l_shipdate < 19950101 * x_li[0].l_discount >= 0.05 * x_li[0].l_discount <= 0.07 * x_li[0].l_quantity < 24) then x_li[0].l_extendedprice * x_li[0].l_discount else 0.0 in let out = result in true\n"
     ]
    }
   ],
   "source": [
    "print(GenerateSDQLCode(result.optimize()))"
   ]
  },
  {
   "cell_type": "code",
   "execution_count": null,
   "metadata": {},
   "outputs": [],
   "source": []
  }
 ],
 "metadata": {
  "kernelspec": {
   "display_name": "Python 3 (ipykernel)",
   "language": "python",
   "name": "python3"
  },
  "language_info": {
   "codemirror_mode": {
    "name": "ipython",
    "version": 3
   },
   "file_extension": ".py",
   "mimetype": "text/x-python",
   "name": "python",
   "nbconvert_exporter": "python",
   "pygments_lexer": "ipython3",
   "version": "3.8.13"
  }
 },
 "nbformat": 4,
 "nbformat_minor": 1
}
