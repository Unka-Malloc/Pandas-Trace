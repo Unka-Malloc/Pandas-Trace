{
 "cells": [
  {
   "cell_type": "code",
   "execution_count": 1,
   "metadata": {
    "pycharm": {
     "is_executing": true
    },
    "scrolled": false
   },
   "outputs": [
    {
     "name": "stdout",
     "output_type": "stream",
     "text": [
      ">> Query 16 (Q16) <<\n",
      ">> Optimized Query <<\n",
      "============================================================\n",
      "brand45 = \"Brand#45\"\n",
      "mediumpolished = \"MEDIUM POLISHED\"\n",
      "customer = \"Customer\"\n",
      "complaints = \"Complaints\"\n",
      "part_part = pa.sum(lambda x_part: ({x_part[0].p_partkey: record({\"p_partkey\": x_part[0].p_partkey, \"p_brand\": x_part[0].p_brand, \"p_type\": x_part[0].p_type, \"p_size\": x_part[0].p_size})}) if (((((x_part[0].p_brand != brand45) * (startsWith(x_part[0].p_type, mediumpolished) == False))) * (((((((((((((((x_part[0].p_size == 9) + (x_part[0].p_size == 36))) + (x_part[0].p_size == 49))) + (x_part[0].p_size == 14))) + (x_part[0].p_size == 23))) + (x_part[0].p_size == 45))) + (x_part[0].p_size == 19))) + (x_part[0].p_size == 3))))) else (None))\n",
      "\n",
      "supplier_part = su.sum(lambda x_supplier: ({x_supplier[0].s_suppkey: True}) if (((firstIndex(x_supplier[0].s_comment, customer) != ((-1) * (1))) * (firstIndex(x_supplier[0].s_comment, complaints) > ((firstIndex(x_supplier[0].s_comment, customer)) + (7))))) else (None))\n",
      "\n",
      "partsupp_aggr = ps.sum(lambda x_partsupp: (({record({\"p_brand\": part_part[x_partsupp[0].ps_partkey].p_brand, \"p_type\": part_part[x_partsupp[0].ps_partkey].p_type, \"p_size\": part_part[x_partsupp[0].ps_partkey].p_size}): 1}) if (supplier_part[x_partsupp[0].ps_suppkey] == None) else (None)) if (part_part[x_partsupp[0].ps_partkey] != None) else (None))\n",
      "\n",
      "results = partsupp_aggr.sum(lambda x_partsupp_aggr: {record({\"p_brand\": x_partsupp_aggr[0].p_brand, \"p_type\": x_partsupp_aggr[0].p_type, \"p_size\": x_partsupp_aggr[0].p_size, \"supplier_cnt\": x_partsupp_aggr[1]}): True})\n",
      "\n",
      "============================================================\n",
      ">> Comparing SDQL with Pandas ... <<\n",
      "============================================================\n",
      "\u001b[32m Query 16: Pass \u001b[0m\n",
      "============================================================\n",
      ">> Query 20 (Q20) <<\n",
      ">> Optimized Query <<\n",
      "============================================================\n",
      "canada = \"CANADA\"\n",
      "forest = \"forest\"\n",
      "nation_part = na.sum(lambda x_nation: ({x_nation[0].n_nationkey: True}) if (x_nation[0].n_name == canada) else (None))\n",
      "\n",
      "part_part = pa.sum(lambda x_part: ({x_part[0].p_partkey: True}) if (startsWith(x_part[0].p_name, forest)) else (None))\n",
      "\n",
      "supplier_part = su.sum(lambda x_supplier: {x_supplier[0].s_suppkey: True})\n",
      "\n",
      "lineitem_part = li.sum(lambda x_lineitem: ((({record({\"l_partkey\": x_lineitem[0].l_partkey, \"l_suppkey\": x_lineitem[0].l_suppkey}): record({\"sum_quantity\": x_lineitem[0].l_quantity})}) if (part_part[x_lineitem[0].l_partkey] != None) else (None)) if (supplier_part[x_lineitem[0].l_suppkey] != None) else (None)) if (((x_lineitem[0].l_shipdate >= 19940101) * (x_lineitem[0].l_shipdate < 19950101))) else (None))\n",
      "\n",
      "lineitem_partsupp = ps.sum(lambda x_partsupp: (({x_partsupp[0].ps_suppkey: True}) if (x_partsupp[0].ps_availqty > ((lineitem_part[record({\"ps_partkey\": x_partsupp[0].ps_partkey, \"ps_suppkey\": x_partsupp[0].ps_suppkey})].sum_quantity) * (0.5))) else (None)) if (lineitem_part[record({\"ps_partkey\": x_partsupp[0].ps_partkey, \"ps_suppkey\": x_partsupp[0].ps_suppkey})] != None) else (None))\n",
      "\n",
      "results = su.sum(lambda x_supplier: (({record({\"s_name\": x_supplier[0].s_name, \"s_address\": x_supplier[0].s_address}): True}) if (nation_part[x_supplier[0].s_nationkey] != None) else (None)) if (lineitem_partsupp[x_supplier[0].s_suppkey] != None) else (None))\n",
      "\n",
      "============================================================\n",
      ">> Optimized Query <<\n",
      "============================================================\n",
      "canada = \"CANADA\"\n",
      "forest = \"forest\"\n",
      "nation_part = na.sum(lambda x_nation: ({x_nation[0].n_nationkey: True}) if (x_nation[0].n_name == canada) else (None))\n",
      "\n",
      "part_part = pa.sum(lambda x_part: ({x_part[0].p_partkey: True}) if (startsWith(x_part[0].p_name, forest)) else (None))\n",
      "\n",
      "supplier_part = su.sum(lambda x_supplier: {x_supplier[0].s_suppkey: True})\n",
      "\n",
      "lineitem_part = li.sum(lambda x_lineitem: ((((({record({\"l_partkey\": x_lineitem[0].l_partkey, \"l_suppkey\": x_lineitem[0].l_suppkey}): record({\"sum_quantity\": x_lineitem[0].l_quantity})}) if (part_part[x_lineitem[0].l_partkey] != None) else (None)) if (supplier_part[x_lineitem[0].l_suppkey] != None) else (None)) if (part_part[x_lineitem[0].l_partkey] != None) else (None)) if (supplier_part[x_lineitem[0].l_suppkey] != None) else (None)) if (((x_lineitem[0].l_shipdate >= 19940101) * (x_lineitem[0].l_shipdate < 19950101))) else (None))\n",
      "\n",
      "lineitem_partsupp = ps.sum(lambda x_partsupp: (({x_partsupp[0].ps_suppkey: True}) if (x_partsupp[0].ps_availqty > ((lineitem_part[record({\"ps_partkey\": x_partsupp[0].ps_partkey, \"ps_suppkey\": x_partsupp[0].ps_suppkey})].sum_quantity) * (0.5))) else (None)) if (lineitem_part[record({\"ps_partkey\": x_partsupp[0].ps_partkey, \"ps_suppkey\": x_partsupp[0].ps_suppkey})] != None) else (None))\n",
      "\n",
      "results = su.sum(lambda x_supplier: (({record({\"s_name\": x_supplier[0].s_name, \"s_address\": x_supplier[0].s_address}): True}) if (nation_part[x_supplier[0].s_nationkey] != None) else (None)) if (lineitem_partsupp[x_supplier[0].s_suppkey] != None) else (None))\n",
      "\n",
      "============================================================\n",
      ">> Comparing SDQL with Pandas ... <<\n",
      "============================================================\n",
      "\u001b[32m Query 20: Pass \u001b[0m\n",
      "============================================================\n",
      "16: \u001b[32m Pass \u001b[0m (\u001b[31m Weak: If a dict is empty, then dict[key] should be None instead of asserting an Exception \u001b[0m)\n",
      "20: \u001b[32m Pass \u001b[0m\n",
      "============================================================\n"
     ]
    }
   ],
   "source": [
    "import pysdql\n",
    "\n",
    "test_some = pysdql.tpch_query([2, 16, 20, 21], verbose=False)"
   ]
  }
 ],
 "metadata": {
  "kernelspec": {
   "display_name": "Python 3 (ipykernel)",
   "language": "python",
   "name": "python3"
  },
  "language_info": {
   "codemirror_mode": {
    "name": "ipython",
    "version": 3
   },
   "file_extension": ".py",
   "mimetype": "text/x-python",
   "name": "python",
   "nbconvert_exporter": "python",
   "pygments_lexer": "ipython3",
   "version": "3.9.7"
  }
 },
 "nbformat": 4,
 "nbformat_minor": 1
}
