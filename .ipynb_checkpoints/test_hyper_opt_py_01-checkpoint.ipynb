{
 "cells": [
  {
   "cell_type": "code",
   "execution_count": 1,
   "metadata": {},
   "outputs": [],
   "source": [
    "# Hyper - Optimized - Python - 0.1 SF"
   ]
  },
  {
   "cell_type": "code",
   "execution_count": 2,
   "metadata": {
    "scrolled": false
   },
   "outputs": [],
   "source": [
    "import pysdql"
   ]
  },
  {
   "cell_type": "code",
   "execution_count": null,
   "metadata": {
    "pycharm": {
     "name": "#%%\n"
    },
    "scrolled": false
   },
   "outputs": [
    {
     "name": "stdout",
     "output_type": "stream",
     "text": [
      ">> Query 1 (Q1) <<\n",
      ">> Optimized Query <<\n",
      "============================================================\n",
      "lineitem_aggr = li.sum(lambda x_lineitem: ({record({\"l_returnflag\": x_lineitem[0].l_returnflag, \"l_linestatus\": x_lineitem[0].l_linestatus}): record({\"sum_qty\": x_lineitem[0].l_quantity, \"sum_base_price\": x_lineitem[0].l_extendedprice, \"sum_disc_price\": ((x_lineitem[0].l_extendedprice) * (((1.0) - (x_lineitem[0].l_discount)))), \"sum_charge\": ((((x_lineitem[0].l_extendedprice) * (((1.0) - (x_lineitem[0].l_discount))))) * (((1.0) + (x_lineitem[0].l_tax)))), \"avg_disc_sum_for_mean\": x_lineitem[0].l_discount, \"count_order\": 1.0})}) if (x_lineitem[0].l_shipdate <= 19980902) else (None))\n",
      "\n",
      "results = lineitem_aggr.sum(lambda x_lineitem_aggr: {record({\"l_returnflag\": x_lineitem_aggr[0].l_returnflag, \"l_linestatus\": x_lineitem_aggr[0].l_linestatus, \"sum_qty\": x_lineitem_aggr[1].sum_qty, \"sum_base_price\": x_lineitem_aggr[1].sum_base_price, \"sum_disc_price\": x_lineitem_aggr[1].sum_disc_price, \"sum_charge\": x_lineitem_aggr[1].sum_charge, \"avg_qty\": ((x_lineitem_aggr[1].sum_qty) / (x_lineitem_aggr[1].count_order)), \"avg_price\": ((x_lineitem_aggr[1].sum_base_price) / (x_lineitem_aggr[1].count_order)), \"avg_disc\": ((x_lineitem_aggr[1].avg_disc_sum_for_mean) / (x_lineitem_aggr[1].count_order)), \"count_order\": x_lineitem_aggr[1].count_order}): True})\n",
      "\n",
      "============================================================\n"
     ]
    }
   ],
   "source": [
    "pysdql.tpch_query(range(1, 23), verbose=False, optimize=True)"
   ]
  }
 ],
 "metadata": {
  "kernelspec": {
   "display_name": "PyCharm (UG4-Proj)",
   "language": "python",
   "name": "pycharm-5d2f5fca"
  },
  "language_info": {
   "codemirror_mode": {
    "name": "ipython",
    "version": 3
   },
   "file_extension": ".py",
   "mimetype": "text/x-python",
   "name": "python",
   "nbconvert_exporter": "python",
   "pygments_lexer": "ipython3",
   "version": "3.10.10"
  }
 },
 "nbformat": 4,
 "nbformat_minor": 1
}
