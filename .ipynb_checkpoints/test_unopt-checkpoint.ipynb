{
 "cells": [
  {
   "cell_type": "code",
   "execution_count": 1,
   "metadata": {
    "pycharm": {
     "is_executing": true
    },
    "scrolled": false
   },
   "outputs": [],
   "source": [
    "import pysdql"
   ]
  },
  {
   "cell_type": "code",
   "execution_count": 2,
   "metadata": {},
   "outputs": [
    {
     "name": "stdout",
     "output_type": "stream",
     "text": [
      ">> Query 1 (Q1) <<\n",
      ">> Optimized Query <<\n",
      "============================================================\n",
      "v0 = li.sum(lambda x: (({x[0]: x[1]}) if (x[0].l_shipdate <= 19980902) else (None)) if (x[0] != None) else (None))\n",
      "\n",
      "v1 = v0.sum(lambda x: (({x[0].concat(record({\"disc_price\": ((x[0].l_extendedprice) * (((1.0) - (x[0].l_discount))))})): x[1]}) if (True) else (None)) if (x[0] != None) else (None))\n",
      "\n",
      "v2 = v1.sum(lambda x: (({x[0].concat(record({\"charge\": ((((x[0].l_extendedprice) * (((1.0) - (x[0].l_discount))))) * (((1.0) + (x[0].l_tax))))})): x[1]}) if (True) else (None)) if (x[0] != None) else (None))\n",
      "\n",
      "v3 = v2.sum(lambda x: (({record({\"l_returnflag\": x[0].l_returnflag, \"l_linestatus\": x[0].l_linestatus}): record({\"sum_qty\": x[0].l_quantity, \"sum_base_price\": x[0].l_extendedprice, \"sum_disc_price\": x[0].disc_price, \"sum_charge\": x[0].charge, \"count_order\": 1})}) if (True) else (None)) if (x[0] != None) else (None))\n",
      "\n",
      "v4 = v3.sum(lambda x: (({x[0].concat(x[1]): True}) if (True) else (None)) if (x[0] != None) else (None))\n",
      "\n",
      "results = v4\n",
      "============================================================\n",
      "\u001b[36m SDQL Execution Time: 79.99744319915771 s \u001b[0m\n",
      "\u001b[36m Pandas Execution Time: 0.20898890495300293 s \u001b[0m\n",
      "\u001b[36m DuckDB Execution Time: 0.0283200740814209 s \u001b[0m\n",
      "============================================================\n",
      ">> Comparing Pandas with Duck ... <<\n",
      "============================================================\n",
      "\u001b[32m Check Pandas with DuckDB: Pass \u001b[0m\n",
      "============================================================\n",
      "============================================================\n",
      ">> Comparing SDQL with Pandas ... <<\n",
      "============================================================\n",
      "\u001b[32m Query 1: Pass \u001b[0m\n",
      "============================================================\n",
      "1: \u001b[32m Pass \u001b[0m\n",
      "============================================================\n"
     ]
    },
    {
     "data": {
      "text/plain": [
       "True"
      ]
     },
     "execution_count": 2,
     "metadata": {},
     "output_type": "execute_result"
    }
   ],
   "source": [
    "pysdql.tpch_query(1, verbose=False, optimize=False)"
   ]
  },
  {
   "cell_type": "code",
   "execution_count": 3,
   "metadata": {},
   "outputs": [
    {
     "name": "stdout",
     "output_type": "stream",
     "text": [
      ">> Query 3 (Q3) <<\n",
      ">> Optimized Query <<\n",
      "============================================================\n",
      "building = \"BUILDING\"\n",
      "v0 = li.sum(lambda x: (({x[0]: x[1]}) if (x[0].l_shipdate > 19950315) else (None)) if (x[0] != None) else (None))\n",
      "\n",
      "customer_orders_lineitem_probe = v0\n",
      "v0 = ord.sum(lambda x: (({x[0]: x[1]}) if (x[0].o_orderdate < 19950315) else (None)) if (x[0] != None) else (None))\n",
      "\n",
      "customer_orders_probe = v0\n",
      "v0 = cu.sum(lambda x: (({x[0]: x[1]}) if (x[0].c_mktsegment == building) else (None)) if (x[0] != None) else (None))\n",
      "\n",
      "customer_orders_part = v0\n",
      "build_side = customer_orders_part.sum(lambda x: (({x[0].c_custkey: sr_dict({x[0]: x[1]})}) if (True) else (None)) if (x[0] != None) else (None))\n",
      "\n",
      "v0 = customer_orders_probe.sum(lambda x: (({build_side[x[0].o_custkey].sum(lambda y: x[0].concat(y[0]))\n",
      ": True}) if (build_side[x[0].o_custkey] != None) else (None)) if (x[0] != None) else (None))\n",
      "\n",
      "customer_orders_lineitem_part = v0\n",
      "build_side = customer_orders_lineitem_part.sum(lambda x: (({x[0].o_orderkey: sr_dict({x[0]: x[1]})}) if (True) else (None)) if (x[0] != None) else (None))\n",
      "\n",
      "v0 = customer_orders_lineitem_probe.sum(lambda x: (({build_side[x[0].l_orderkey].sum(lambda y: x[0].concat(y[0]))\n",
      ": True}) if (build_side[x[0].l_orderkey] != None) else (None)) if (x[0] != None) else (None))\n",
      "\n",
      "v1 = v0.sum(lambda x: (({x[0].concat(record({\"revenue\": ((x[0].l_extendedprice) * (((1.0) - (x[0].l_discount))))})): x[1]}) if (True) else (None)) if (x[0] != None) else (None))\n",
      "\n",
      "v2 = v1.sum(lambda x: (({record({\"l_orderkey\": x[0].l_orderkey, \"o_orderdate\": x[0].o_orderdate, \"o_shippriority\": x[0].o_shippriority}): record({\"revenue\": x[0].revenue})}) if (True) else (None)) if (x[0] != None) else (None))\n",
      "\n",
      "v3 = v2.sum(lambda x: (({x[0].concat(x[1]): True}) if (True) else (None)) if (x[0] != None) else (None))\n",
      "\n",
      "results = v3\n",
      "============================================================\n",
      "\u001b[36m SDQL Execution Time: 20.59056544303894 s \u001b[0m\n",
      "\u001b[36m Pandas Execution Time: 0.1426384449005127 s \u001b[0m\n",
      "\u001b[36m DuckDB Execution Time: 0.030945301055908203 s \u001b[0m\n",
      "============================================================\n",
      ">> Comparing Pandas with Duck ... <<\n",
      "============================================================\n",
      "\u001b[32m Check Pandas with DuckDB: Pass \u001b[0m\n",
      "============================================================\n",
      "============================================================\n",
      ">> Comparing SDQL with Pandas ... <<\n",
      "============================================================\n",
      "\u001b[32m Query 3: Pass \u001b[0m\n",
      "============================================================\n",
      "3: \u001b[32m Pass \u001b[0m\n",
      "============================================================\n"
     ]
    },
    {
     "data": {
      "text/plain": [
       "True"
      ]
     },
     "execution_count": 3,
     "metadata": {},
     "output_type": "execute_result"
    }
   ],
   "source": [
    "pysdql.tpch_query(3, verbose=False, optimize=False)"
   ]
  },
  {
   "cell_type": "code",
   "execution_count": 4,
   "metadata": {},
   "outputs": [
    {
     "name": "stdout",
     "output_type": "stream",
     "text": [
      ">> Query 4 (Q4) <<\n",
      ">> Optimized Query <<\n",
      "============================================================\n",
      "isin_build = li.sum(lambda x: (({x[0].l_orderkey: True}) if (True) else (None)) if (x[0] != None) else (None))\n",
      "\n",
      "v0 = ord.sum(lambda x: ((({x[0]: True}) if (isin_build[x[0].o_orderkey] != None) else (None)) if (True) else (None)) if (x[0] != None) else (None))\n",
      "\n",
      "v1 = v0.sum(lambda x: (({x[0]: x[1]}) if (((x[0].o_orderdate >= 19930701) * (x[0].o_orderdate < 19931001))) else (None)) if (x[0] != None) else (None))\n",
      "\n",
      "v2 = v1.sum(lambda x: (({record({\"o_orderpriority\": x[0].o_orderpriority}): record({\"order_count\": 1})}) if (True) else (None)) if (x[0] != None) else (None))\n",
      "\n",
      "v3 = v2.sum(lambda x: (({x[0].concat(x[1]): True}) if (True) else (None)) if (x[0] != None) else (None))\n",
      "\n",
      "results = v3\n",
      "============================================================\n",
      "\u001b[36m SDQL Execution Time: 11.222571849822998 s \u001b[0m\n",
      "\u001b[36m Pandas Execution Time: 0.12988591194152832 s \u001b[0m\n",
      "\u001b[36m DuckDB Execution Time: 0.039060115814208984 s \u001b[0m\n",
      "============================================================\n",
      ">> Comparing Pandas with Duck ... <<\n",
      "============================================================\n",
      "\u001b[32m Check Pandas with DuckDB: Pass \u001b[0m\n",
      "============================================================\n",
      "============================================================\n",
      ">> Comparing SDQL with Pandas ... <<\n",
      "Not found {'o_orderpriority': '1-URGENT', 'order_count': 1099}\n",
      "Failed while looking for order_count == 1099\n",
      "The answer is as following:\n",
      "  o_orderpriority  order_count\n",
      "0        1-URGENT          999\n",
      "============================================================\n",
      "\u001b[0m Query 4: Fail \u001b[0m\n",
      "============================================================\n",
      "4: \u001b[0m Fail \u001b[0m\n",
      "============================================================\n"
     ]
    },
    {
     "data": {
      "text/plain": [
       "False"
      ]
     },
     "execution_count": 4,
     "metadata": {},
     "output_type": "execute_result"
    }
   ],
   "source": [
    "pysdql.tpch_query(4, verbose=False, optimize=False)"
   ]
  },
  {
   "cell_type": "code",
   "execution_count": null,
   "metadata": {},
   "outputs": [
    {
     "name": "stdout",
     "output_type": "stream",
     "text": [
      ">> Query 5 (Q5) <<\n",
      ">> Optimized Query <<\n",
      "============================================================\n",
      "asia = \"ASIA\"\n",
      "region_nation_customer_orders_lineitem_probe = li\n",
      "v0 = ord.sum(lambda x: (({x[0]: x[1]}) if (((x[0].o_orderdate >= 19940101) * (x[0].o_orderdate < 19961231))) else (None)) if (x[0] != None) else (None))\n",
      "\n",
      "region_nation_customer_orders_probe = v0\n",
      "region_nation_customer_probe = cu\n",
      "region_nation_probe = na\n",
      "v0 = re.sum(lambda x: (({x[0]: x[1]}) if (x[0].r_name == asia) else (None)) if (x[0] != None) else (None))\n",
      "\n",
      "region_nation_part = v0\n",
      "build_side = region_nation_part.sum(lambda x: (({x[0].r_regionkey: sr_dict({x[0]: x[1]})}) if (True) else (None)) if (x[0] != None) else (None))\n",
      "\n",
      "v0 = region_nation_probe.sum(lambda x: (({build_side[x[0].n_regionkey].sum(lambda y: x[0].concat(y[0]))\n",
      ": True}) if (build_side[x[0].n_regionkey] != None) else (None)) if (x[0] != None) else (None))\n",
      "\n",
      "region_nation_customer_part = v0\n",
      "build_side = region_nation_customer_part.sum(lambda x: (({x[0].n_nationkey: sr_dict({x[0]: x[1]})}) if (True) else (None)) if (x[0] != None) else (None))\n",
      "\n",
      "v0 = region_nation_customer_probe.sum(lambda x: (({build_side[x[0].c_nationkey].sum(lambda y: x[0].concat(y[0]))\n",
      ": True}) if (build_side[x[0].c_nationkey] != None) else (None)) if (x[0] != None) else (None))\n",
      "\n",
      "region_nation_customer_orders_part = v0\n",
      "build_side = region_nation_customer_orders_part.sum(lambda x: (({x[0].c_custkey: sr_dict({x[0]: x[1]})}) if (True) else (None)) if (x[0] != None) else (None))\n",
      "\n",
      "v0 = region_nation_customer_orders_probe.sum(lambda x: (({build_side[x[0].o_custkey].sum(lambda y: x[0].concat(y[0]))\n",
      ": True}) if (build_side[x[0].o_custkey] != None) else (None)) if (x[0] != None) else (None))\n",
      "\n",
      "region_nation_customer_orders_lineitem_part = v0\n",
      "build_side = region_nation_customer_orders_lineitem_part.sum(lambda x: (({x[0].o_orderkey: sr_dict({x[0]: x[1]})}) if (True) else (None)) if (x[0] != None) else (None))\n",
      "\n",
      "v0 = region_nation_customer_orders_lineitem_probe.sum(lambda x: (({build_side[x[0].l_orderkey].sum(lambda y: x[0].concat(y[0]))\n",
      ": True}) if (build_side[x[0].l_orderkey] != None) else (None)) if (x[0] != None) else (None))\n",
      "\n",
      "supplier_region_nation_customer_orders_lineitem_probe = v0\n",
      "supplier_region_nation_customer_orders_lineitem_part = su\n",
      "build_side = supplier_region_nation_customer_orders_lineitem_part.sum(lambda x: (({record({\"s_suppkey\": x[0].s_suppkey, \"s_nationkey\": x[0].s_nationkey}): sr_dict({x[0]: x[1]})}) if (True) else (None)) if (x[0] != None) else (None))\n",
      "\n",
      "v0 = supplier_region_nation_customer_orders_lineitem_probe.sum(lambda x: (({build_side[record({\"l_suppkey\": x[0].l_suppkey, \"c_nationkey\": x[0].c_nationkey})].sum(lambda y: x[0].concat(y[0]))\n",
      ": True}) if (build_side[record({\"l_suppkey\": x[0].l_suppkey, \"c_nationkey\": x[0].c_nationkey})] != None) else (None)) if (x[0] != None) else (None))\n",
      "\n",
      "v1 = v0.sum(lambda x: (({x[0].concat(record({\"revenue\": ((x[0].l_extendedprice) * (((1.0) - (x[0].l_discount))))})): x[1]}) if (True) else (None)) if (x[0] != None) else (None))\n",
      "\n",
      "v2 = v1.sum(lambda x: (({record({\"n_name\": x[0].n_name}): record({\"revenue\": x[0].revenue})}) if (True) else (None)) if (x[0] != None) else (None))\n",
      "\n",
      "v3 = v2.sum(lambda x: (({x[0].concat(x[1]): True}) if (True) else (None)) if (x[0] != None) else (None))\n",
      "\n",
      "results = v3\n",
      "============================================================\n",
      "\u001b[36m SDQL Execution Time: 14.989617824554443 s \u001b[0m\n"
     ]
    }
   ],
   "source": [
    "pysdql.tpch_query(5, verbose=False, optimize=False)"
   ]
  },
  {
   "cell_type": "code",
   "execution_count": null,
   "metadata": {},
   "outputs": [],
   "source": [
    "pysdql.tpch_query(6, verbose=False, optimize=False)"
   ]
  },
  {
   "cell_type": "code",
   "execution_count": null,
   "metadata": {
    "scrolled": false
   },
   "outputs": [],
   "source": [
    "pysdql.tpch_query(7, verbose=False, optimize=False)"
   ]
  },
  {
   "cell_type": "code",
   "execution_count": null,
   "metadata": {},
   "outputs": [],
   "source": [
    "pysdql.tpch_query(9, verbose=False, optimize=False)"
   ]
  },
  {
   "cell_type": "code",
   "execution_count": null,
   "metadata": {},
   "outputs": [],
   "source": [
    "pysdql.tpch_query(10, verbose=False, optimize=False)"
   ]
  },
  {
   "cell_type": "code",
   "execution_count": null,
   "metadata": {},
   "outputs": [],
   "source": [
    "pysdql.tpch_query(19, verbose=False, optimize=False)"
   ]
  },
  {
   "cell_type": "code",
   "execution_count": null,
   "metadata": {},
   "outputs": [],
   "source": [
    "pysdql.tpch_query(21, verbose=False, optimize=False)"
   ]
  }
 ],
 "metadata": {
  "kernelspec": {
   "display_name": "Python 3 (ipykernel)",
   "language": "python",
   "name": "python3"
  },
  "language_info": {
   "codemirror_mode": {
    "name": "ipython",
    "version": 3
   },
   "file_extension": ".py",
   "mimetype": "text/x-python",
   "name": "python",
   "nbconvert_exporter": "python",
   "pygments_lexer": "ipython3",
   "version": "3.9.7"
  }
 },
 "nbformat": 4,
 "nbformat_minor": 1
}
