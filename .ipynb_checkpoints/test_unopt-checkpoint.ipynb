{
 "cells": [
  {
   "cell_type": "code",
   "execution_count": 1,
   "metadata": {
    "pycharm": {
     "is_executing": true
    },
    "scrolled": false
   },
   "outputs": [],
   "source": [
    "import pysdql"
   ]
  },
  {
   "cell_type": "code",
   "execution_count": 2,
   "metadata": {},
   "outputs": [
    {
     "name": "stdout",
     "output_type": "stream",
     "text": [
      ">> Query 1 (Q1) <<\n",
      ">> Optimized Query <<\n",
      "============================================================\n",
      "v0 = li.sum(lambda x: (({x[0]: x[1]}) if (x[0].l_shipdate <= 19980902) else (None)) if (x[0] != None) else (None))\n",
      "\n",
      "v1 = v0.sum(lambda x: (({x[0].concat(record({\"disc_price\": ((x[0].l_extendedprice) * (((1.0) - (x[0].l_discount))))})): x[1]}) if (True) else (None)) if (x[0] != None) else (None))\n",
      "\n",
      "v2 = v1.sum(lambda x: (({x[0].concat(record({\"charge\": ((((x[0].l_extendedprice) * (((1.0) - (x[0].l_discount))))) * (((1.0) + (x[0].l_tax))))})): x[1]}) if (True) else (None)) if (x[0] != None) else (None))\n",
      "\n",
      "v3 = v2.sum(lambda x: (({record({\"l_returnflag\": x[0].l_returnflag, \"l_linestatus\": x[0].l_linestatus}): record({\"sum_qty\": x[0].l_quantity, \"sum_base_price\": x[0].l_extendedprice, \"sum_disc_price\": x[0].disc_price, \"sum_charge\": x[0].charge, \"count_order\": 1})}) if (True) else (None)) if (x[0] != None) else (None))\n",
      "\n",
      "v4 = v3.sum(lambda x: (({x[0].concat(x[1]): True}) if (True) else (None)) if (x[0] != None) else (None))\n",
      "\n",
      "results = v4\n",
      "============================================================\n",
      "\u001b[36m SDQL Execution Time: 78.7064802646637 s \u001b[0m\n",
      "\u001b[36m Pandas Execution Time: 0.2082066535949707 s \u001b[0m\n",
      "\u001b[36m DuckDB Execution Time: 0.030036449432373047 s \u001b[0m\n",
      "============================================================\n",
      ">> Comparing Pandas with Duck ... <<\n",
      "============================================================\n",
      "\u001b[32m Check Pandas with DuckDB: Pass \u001b[0m\n",
      "============================================================\n",
      "============================================================\n",
      ">> Comparing SDQL with Pandas ... <<\n",
      "============================================================\n",
      "\u001b[32m Query 1: Pass \u001b[0m\n",
      "============================================================\n",
      "1: \u001b[32m Pass \u001b[0m\n",
      "============================================================\n"
     ]
    },
    {
     "data": {
      "text/plain": [
       "True"
      ]
     },
     "execution_count": 2,
     "metadata": {},
     "output_type": "execute_result"
    }
   ],
   "source": [
    "pysdql.tpch_query(1, verbose=False, optimize=False)"
   ]
  },
  {
   "cell_type": "code",
   "execution_count": 3,
   "metadata": {},
   "outputs": [
    {
     "name": "stdout",
     "output_type": "stream",
     "text": [
      ">> Query 3 (Q3) <<\n",
      ">> Optimized Query <<\n",
      "============================================================\n",
      "building = \"BUILDING\"\n",
      "v0 = li.sum(lambda x: (({x[0]: x[1]}) if (x[0].l_shipdate > 19950315) else (None)) if (x[0] != None) else (None))\n",
      "\n",
      "customer_orders_lineitem_probe = v0\n",
      "v0 = ord.sum(lambda x: (({x[0]: x[1]}) if (x[0].o_orderdate < 19950315) else (None)) if (x[0] != None) else (None))\n",
      "\n",
      "customer_orders_probe = v0\n",
      "v0 = cu.sum(lambda x: (({x[0]: x[1]}) if (x[0].c_mktsegment == building) else (None)) if (x[0] != None) else (None))\n",
      "\n",
      "customer_orders_part = v0\n",
      "build_side = customer_orders_part.sum(lambda x: (({x[0].c_custkey: sr_dict({x[0]: x[1]})}) if (True) else (None)) if (x[0] != None) else (None))\n",
      "\n",
      "v0 = customer_orders_probe.sum(lambda x: (({build_side[x[0].o_custkey].sum(lambda y: x[0].concat(y[0]))\n",
      ": True}) if (build_side[x[0].o_custkey] != None) else (None)) if (x[0] != None) else (None))\n",
      "\n",
      "customer_orders_lineitem_part = v0\n",
      "build_side = customer_orders_lineitem_part.sum(lambda x: (({x[0].o_orderkey: sr_dict({x[0]: x[1]})}) if (True) else (None)) if (x[0] != None) else (None))\n",
      "\n",
      "v0 = customer_orders_lineitem_probe.sum(lambda x: (({build_side[x[0].l_orderkey].sum(lambda y: x[0].concat(y[0]))\n",
      ": True}) if (build_side[x[0].l_orderkey] != None) else (None)) if (x[0] != None) else (None))\n",
      "\n",
      "v1 = v0.sum(lambda x: (({x[0].concat(record({\"revenue\": ((x[0].l_extendedprice) * (((1.0) - (x[0].l_discount))))})): x[1]}) if (True) else (None)) if (x[0] != None) else (None))\n",
      "\n",
      "v2 = v1.sum(lambda x: (({record({\"l_orderkey\": x[0].l_orderkey, \"o_orderdate\": x[0].o_orderdate, \"o_shippriority\": x[0].o_shippriority}): record({\"revenue\": x[0].revenue})}) if (True) else (None)) if (x[0] != None) else (None))\n",
      "\n",
      "v3 = v2.sum(lambda x: (({x[0].concat(x[1]): True}) if (True) else (None)) if (x[0] != None) else (None))\n",
      "\n",
      "results = v3\n",
      "============================================================\n",
      "\u001b[36m SDQL Execution Time: 21.01128125190735 s \u001b[0m\n",
      "\u001b[36m Pandas Execution Time: 0.15531301498413086 s \u001b[0m\n",
      "\u001b[36m DuckDB Execution Time: 0.03320431709289551 s \u001b[0m\n",
      "============================================================\n",
      ">> Comparing Pandas with Duck ... <<\n",
      "============================================================\n",
      "\u001b[32m Check Pandas with DuckDB: Pass \u001b[0m\n",
      "============================================================\n",
      "============================================================\n",
      ">> Comparing SDQL with Pandas ... <<\n",
      "============================================================\n",
      "\u001b[32m Query 3: Pass \u001b[0m\n",
      "============================================================\n",
      "3: \u001b[32m Pass \u001b[0m\n",
      "============================================================\n"
     ]
    },
    {
     "data": {
      "text/plain": [
       "True"
      ]
     },
     "execution_count": 3,
     "metadata": {},
     "output_type": "execute_result"
    }
   ],
   "source": [
    "pysdql.tpch_query(3, verbose=False, optimize=False)"
   ]
  },
  {
   "cell_type": "code",
   "execution_count": 4,
   "metadata": {},
   "outputs": [
    {
     "name": "stdout",
     "output_type": "stream",
     "text": [
      ">> Query 4 (Q4) <<\n",
      ">> Optimized Query <<\n",
      "============================================================\n",
      "isin_build = li.sum(lambda x: (({x[0].l_orderkey: True}) if (True) else (None)) if (x[0] != None) else (None))\n",
      "\n",
      "v0 = ord.sum(lambda x: ((({x[0]: True}) if (isin_build[x[0].o_orderkey] != None) else (None)) if (True) else (None)) if (x[0] != None) else (None))\n",
      "\n",
      "v1 = v0.sum(lambda x: (({x[0]: x[1]}) if (((x[0].o_orderdate >= 19930701) * (x[0].o_orderdate < 19931001))) else (None)) if (x[0] != None) else (None))\n",
      "\n",
      "v2 = v1.sum(lambda x: (({record({\"o_orderpriority\": x[0].o_orderpriority}): record({\"order_count\": 1})}) if (True) else (None)) if (x[0] != None) else (None))\n",
      "\n",
      "v3 = v2.sum(lambda x: (({x[0].concat(x[1]): True}) if (True) else (None)) if (x[0] != None) else (None))\n",
      "\n",
      "results = v3\n",
      "============================================================\n",
      "\u001b[36m SDQL Execution Time: 11.17604684829712 s \u001b[0m\n",
      "\u001b[36m Pandas Execution Time: 0.14987826347351074 s \u001b[0m\n",
      "\u001b[36m DuckDB Execution Time: 0.0390625 s \u001b[0m\n",
      "============================================================\n",
      ">> Comparing Pandas with Duck ... <<\n",
      "============================================================\n",
      "\u001b[32m Check Pandas with DuckDB: Pass \u001b[0m\n",
      "============================================================\n",
      "============================================================\n",
      ">> Comparing SDQL with Pandas ... <<\n",
      "Not found {'o_orderpriority': '1-URGENT', 'order_count': 1099}\n",
      "Failed while looking for order_count == 1099\n",
      "The answer is as following:\n",
      "  o_orderpriority  order_count\n",
      "0        1-URGENT          999\n",
      "============================================================\n",
      "\u001b[0m Query 4: Fail \u001b[0m\n",
      "============================================================\n",
      "4: \u001b[0m Fail \u001b[0m\n",
      "============================================================\n"
     ]
    },
    {
     "data": {
      "text/plain": [
       "False"
      ]
     },
     "execution_count": 4,
     "metadata": {},
     "output_type": "execute_result"
    }
   ],
   "source": [
    "pysdql.tpch_query(4, verbose=False, optimize=False)"
   ]
  },
  {
   "cell_type": "code",
   "execution_count": 5,
   "metadata": {},
   "outputs": [
    {
     "name": "stdout",
     "output_type": "stream",
     "text": [
      ">> Query 6 (Q6) <<\n",
      ">> Optimized Query <<\n",
      "============================================================\n",
      "v0 = li.sum(lambda x: (({x[0]: x[1]}) if (((((((((x[0].l_shipdate >= 19940101) * (x[0].l_shipdate < 19950101))) * (x[0].l_discount >= 0.05))) * (x[0].l_discount <= 0.07))) * (x[0].l_quantity < 24))) else (None)) if (x[0] != None) else (None))\n",
      "\n",
      "v1 = v0.sum(lambda x: (({x[0].concat(record({\"revenue\": ((x[0].l_extendedprice) * (x[0].l_discount))})): x[1]}) if (True) else (None)) if (x[0] != None) else (None))\n",
      "\n",
      "v2 = v1.sum(lambda x: ((record({\"revenue\": x[0].revenue})) if (True) else (None)) if (x[0] != None) else (None))\n",
      "\n",
      "v3 = v2.sum(lambda x: (({v2: True}) if (True) else (None)) if (x[0] != None) else (None))\n",
      "\n",
      "results = v3\n",
      "============================================================\n",
      "\u001b[36m SDQL Execution Time: 11.050109148025513 s \u001b[0m\n",
      "\u001b[36m Pandas Execution Time: 0.0673832893371582 s \u001b[0m\n",
      "\u001b[36m DuckDB Execution Time: 0.014648914337158203 s \u001b[0m\n",
      "============================================================\n",
      ">> Comparing Pandas with Duck ... <<\n",
      "============================================================\n",
      "\u001b[32m Check Pandas with DuckDB: Pass \u001b[0m\n",
      "============================================================\n",
      "============================================================\n",
      ">> Comparing SDQL with Pandas ... <<\n",
      "============================================================\n",
      "\u001b[32m Query 6: Pass \u001b[0m\n",
      "============================================================\n",
      "6: \u001b[32m Pass \u001b[0m\n",
      "============================================================\n"
     ]
    },
    {
     "data": {
      "text/plain": [
       "True"
      ]
     },
     "execution_count": 5,
     "metadata": {},
     "output_type": "execute_result"
    }
   ],
   "source": [
    "pysdql.tpch_query(6, verbose=False, optimize=False)"
   ]
  },
  {
   "cell_type": "code",
   "execution_count": 6,
   "metadata": {},
   "outputs": [
    {
     "name": "stdout",
     "output_type": "stream",
     "text": [
      ">> Query 10 (Q10) <<\n",
      "Unexpected operation in type <class 'pysdql.core.dtypes.ColProjExpr.ColProjExpr'>\n",
      "Unexpected operation in type <class 'pysdql.core.dtypes.ColProjExpr.ColProjExpr'>\n",
      ">> Optimized Query <<\n",
      "============================================================\n",
      "r = \"R\"\n",
      "v0 = li.sum(lambda x: (({x[0]: x[1]}) if (x[0].l_returnflag == r) else (None)) if (x[0] != None) else (None))\n",
      "\n",
      "nation_customer_orders_lineitem_probe = v0\n",
      "v0 = ord.sum(lambda x: (({x[0]: x[1]}) if (((x[0].o_orderdate >= 19931001) * (x[0].o_orderdate < 19940101))) else (None)) if (x[0] != None) else (None))\n",
      "\n",
      "customer_orders_probe = v0\n",
      "v0 = cu.sum(lambda x: (({x[0]: x[1]}) if (True) else (None)) if (x[0] != None) else (None))\n",
      "\n",
      "customer_orders_part = v0\n",
      "build_side = customer_orders_part.sum(lambda x: (({x[0].c_custkey: sr_dict({x[0]: x[1]})}) if (True) else (None)) if (x[0] != None) else (None))\n",
      "\n",
      "v0 = customer_orders_probe.sum(lambda x: (({build_side[x[0].o_custkey].sum(lambda y: x[0].concat(y[0]))\n",
      ": True}) if (build_side[x[0].o_custkey] != None) else (None)) if (x[0] != None) else (None))\n",
      "\n",
      "nation_customer_orders_probe = v0\n",
      "nation_customer_orders_part = na\n",
      "build_side = nation_customer_orders_part.sum(lambda x: (({x[0].n_nationkey: sr_dict({x[0]: x[1]})}) if (True) else (None)) if (x[0] != None) else (None))\n",
      "\n",
      "v0 = nation_customer_orders_probe.sum(lambda x: (({build_side[x[0].c_nationkey].sum(lambda y: x[0].concat(y[0]))\n",
      ": True}) if (build_side[x[0].c_nationkey] != None) else (None)) if (x[0] != None) else (None))\n",
      "\n",
      "v1 = v0.sum(lambda x: (({x[0]: x[1]}) if (True) else (None)) if (x[0] != None) else (None))\n",
      "\n",
      "nation_customer_orders_lineitem_part = v1\n",
      "build_side = nation_customer_orders_lineitem_part.sum(lambda x: (({x[0].o_orderkey: sr_dict({x[0]: x[1]})}) if (True) else (None)) if (x[0] != None) else (None))\n",
      "\n",
      "v0 = nation_customer_orders_lineitem_probe.sum(lambda x: (({build_side[x[0].l_orderkey].sum(lambda y: x[0].concat(y[0]))\n",
      ": True}) if (build_side[x[0].l_orderkey] != None) else (None)) if (x[0] != None) else (None))\n",
      "\n",
      "v1 = v0.sum(lambda x: (({x[0].concat(record({\"revenue\": ((x[0].l_extendedprice) * (((1.0) - (x[0].l_discount))))})): x[1]}) if (True) else (None)) if (x[0] != None) else (None))\n",
      "\n",
      "v2 = v1.sum(lambda x: (({record({\"c_custkey\": x[0].c_custkey, \"c_name\": x[0].c_name, \"c_acctbal\": x[0].c_acctbal, \"c_phone\": x[0].c_phone, \"n_name\": x[0].n_name, \"c_address\": x[0].c_address, \"c_comment\": x[0].c_comment}): record({\"revenue\": x[0].revenue})}) if (True) else (None)) if (x[0] != None) else (None))\n",
      "\n",
      "v3 = v2.sum(lambda x: (({x[0].concat(x[1]): True}) if (True) else (None)) if (x[0] != None) else (None))\n",
      "\n",
      "results = v3\n",
      "============================================================\n",
      "\u001b[36m SDQL Execution Time: 15.761569738388062 s \u001b[0m\n",
      "\u001b[36m Pandas Execution Time: 0.14258027076721191 s \u001b[0m\n",
      "\u001b[36m DuckDB Execution Time: 0.0439455509185791 s \u001b[0m\n",
      "============================================================\n",
      ">> Comparing Pandas with Duck ... <<\n",
      "============================================================\n",
      "\u001b[32m Check Pandas with DuckDB: Pass \u001b[0m\n",
      "============================================================\n",
      "============================================================\n",
      ">> Comparing SDQL with Pandas ... <<\n",
      "============================================================\n",
      "\u001b[32m Query 10: Pass \u001b[0m\n",
      "============================================================\n",
      "10: \u001b[32m Pass \u001b[0m\n",
      "============================================================\n"
     ]
    },
    {
     "data": {
      "text/plain": [
       "True"
      ]
     },
     "execution_count": 6,
     "metadata": {},
     "output_type": "execute_result"
    }
   ],
   "source": [
    "pysdql.tpch_query(10, verbose=False, optimize=False)"
   ]
  },
  {
   "cell_type": "code",
   "execution_count": null,
   "metadata": {},
   "outputs": [],
   "source": []
  }
 ],
 "metadata": {
  "kernelspec": {
   "display_name": "Python 3 (ipykernel)",
   "language": "python",
   "name": "python3"
  },
  "language_info": {
   "codemirror_mode": {
    "name": "ipython",
    "version": 3
   },
   "file_extension": ".py",
   "mimetype": "text/x-python",
   "name": "python",
   "nbconvert_exporter": "python",
   "pygments_lexer": "ipython3",
   "version": "3.9.7"
  }
 },
 "nbformat": 4,
 "nbformat_minor": 1
}
