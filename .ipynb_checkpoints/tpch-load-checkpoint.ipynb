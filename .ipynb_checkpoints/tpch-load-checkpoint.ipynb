{
 "cells": [
  {
   "cell_type": "code",
   "execution_count": 1,
   "metadata": {},
   "outputs": [],
   "source": [
    "from datetime import datetime, timedelta\n",
    "from time import time\n",
    "import pysdql\n",
    "import pysdql as pd\n",
    "\n",
    "data_path = 'T:/UG4-Proj/datasets/10M'\n",
    "sdql_database_path = r'T:/sdql'"
   ]
  },
  {
   "cell_type": "code",
   "execution_count": 2,
   "metadata": {},
   "outputs": [
    {
     "name": "stderr",
     "output_type": "stream",
     "text": [
      "[info] welcome to sbt 1.6.0 (Oracle Corporation Java 17)\n",
      "[info] loading project definition from T:\\sdql\\project\n",
      "[info] loading settings for project sdql from build.sbt ...\n",
      "[info] set current project to sdql (in build file:/T:/sdql/)\n",
      "[info] sbt server started at local:sbt-server-ec9dcaf7bfc5935dead3\n",
      "[warn] sbt server could not start in 10s\n",
      "\u001b[?2004h>....[info] running sdql.driver.Main interpret T:/UG4-Proj/output/Q00.sdql\n",
      "true\n",
      "Running Time: 0.6740753 s\n",
      "[success] Total time: 1 s, completed 2022年7月31日 下午12:39:25\n",
      "========================================================\n",
      "pysdql execution time: 16.02576518058777\n"
     ]
    },
    {
     "data": {
      "text/plain": [
       "true\n",
       "Running Time: 0.6740753 s"
      ]
     },
     "execution_count": 2,
     "metadata": {},
     "output_type": "execute_result"
    }
   ],
   "source": [
    "lineitem = pd.read_table(rf'{data_path}/lineitem.tbl', sep='|', index_col=False, header=None, names=pysdql.LINEITEM_COLS)\n",
    "pysdql.db_driver(db_path=sdql_database_path, name='lineitem_load').run(lineitem.loading)"
   ]
  },
  {
   "cell_type": "code",
   "execution_count": 3,
   "metadata": {},
   "outputs": [
    {
     "name": "stderr",
     "output_type": "stream",
     "text": [
      "[info] welcome to sbt 1.6.0 (Oracle Corporation Java 17)\n",
      "[info] loading project definition from T:\\sdql\\project\n",
      "[info] loading settings for project sdql from build.sbt ...\n",
      "[info] set current project to sdql (in build file:/T:/sdql/)\n",
      "[info] sbt server started at local:sbt-server-ec9dcaf7bfc5935dead3\n",
      "[warn] sbt server could not start in 10s\n",
      "\u001b[?2004h>....[info] running sdql.driver.Main interpret T:/UG4-Proj/output/Q00.sdql\n",
      "true\n",
      "Running Time: 0.2966683 s\n",
      "[success] Total time: 1 s, completed 2022年7月31日 下午12:39:41\n",
      "========================================================\n",
      "pysdql execution time: 15.679812908172607\n"
     ]
    },
    {
     "data": {
      "text/plain": [
       "true\n",
       "Running Time: 0.2966683 s"
      ]
     },
     "execution_count": 3,
     "metadata": {},
     "output_type": "execute_result"
    }
   ],
   "source": [
    "part = pd.read_table(rf'{data_path}/part.tbl', sep='|', index_col=False, header=None, names=pysdql.PART_COLS)\n",
    "pysdql.db_driver(db_path=sdql_database_path, name='part_load').run(part.loading)"
   ]
  },
  {
   "cell_type": "code",
   "execution_count": 4,
   "metadata": {},
   "outputs": [
    {
     "name": "stderr",
     "output_type": "stream",
     "text": [
      "[info] welcome to sbt 1.6.0 (Oracle Corporation Java 17)\n",
      "[info] loading project definition from T:\\sdql\\project\n",
      "[info] loading settings for project sdql from build.sbt ...\n",
      "[info] set current project to sdql (in build file:/T:/sdql/)\n",
      "[info] sbt server started at local:sbt-server-ec9dcaf7bfc5935dead3\n",
      "[warn] sbt server could not start in 10s\n",
      "\u001b[?2004h>....[info] running sdql.driver.Main interpret T:/UG4-Proj/output/Q00.sdql\n",
      "true\n",
      "Running Time: 0.2578652 s\n",
      "[success] Total time: 1 s, completed 2022年7月31日 下午12:39:56\n",
      "========================================================\n",
      "pysdql execution time: 15.644003868103027\n"
     ]
    },
    {
     "data": {
      "text/plain": [
       "true\n",
       "Running Time: 0.2578652 s"
      ]
     },
     "execution_count": 4,
     "metadata": {},
     "output_type": "execute_result"
    }
   ],
   "source": [
    "supplier = pd.read_table(rf'{data_path}/supplier.tbl', sep='|', index_col=False, header=None, names=pysdql.SUPPLIER_COLS)\n",
    "pysdql.db_driver(db_path=sdql_database_path, name='supplier_load').run(supplier.loading)"
   ]
  },
  {
   "cell_type": "code",
   "execution_count": 5,
   "metadata": {},
   "outputs": [
    {
     "name": "stderr",
     "output_type": "stream",
     "text": [
      "[info] welcome to sbt 1.6.0 (Oracle Corporation Java 17)\n",
      "[info] loading project definition from T:\\sdql\\project\n",
      "[info] loading settings for project sdql from build.sbt ...\n",
      "[info] set current project to sdql (in build file:/T:/sdql/)\n",
      "[info] sbt server started at local:sbt-server-ec9dcaf7bfc5935dead3\n",
      "[warn] sbt server could not start in 10s\n",
      "\u001b[?2004h>....[info] running sdql.driver.Main interpret T:/UG4-Proj/output/Q00.sdql\n",
      "true\n",
      "Running Time: 0.297668 s\n",
      "[success] Total time: 1 s, completed 2022年7月31日 下午12:40:12\n",
      "========================================================\n",
      "pysdql execution time: 15.615817308425903\n"
     ]
    },
    {
     "data": {
      "text/plain": [
       "true\n",
       "Running Time: 0.297668 s"
      ]
     },
     "execution_count": 5,
     "metadata": {},
     "output_type": "execute_result"
    }
   ],
   "source": [
    "customer = pd.read_table(rf'{data_path}/customer.tbl', sep='|', index_col=False, header=None, names=pysdql.CUSTOMER_COLS)\n",
    "pysdql.db_driver(db_path=sdql_database_path, name='customer_load').run(customer.loading)"
   ]
  },
  {
   "cell_type": "code",
   "execution_count": 6,
   "metadata": {},
   "outputs": [
    {
     "name": "stderr",
     "output_type": "stream",
     "text": [
      "[info] welcome to sbt 1.6.0 (Oracle Corporation Java 17)\n",
      "[info] loading project definition from T:\\sdql\\project\n",
      "[info] loading settings for project sdql from build.sbt ...\n",
      "[info] set current project to sdql (in build file:/T:/sdql/)\n",
      "[info] sbt server started at local:sbt-server-ec9dcaf7bfc5935dead3\n",
      "[warn] sbt server could not start in 10s\n",
      "\u001b[?2004h>....[info] running sdql.driver.Main interpret T:/UG4-Proj/output/Q00.sdql\n",
      "true\n",
      "Running Time: 0.3622438 s\n",
      "[success] Total time: 1 s, completed 2022年7月31日 下午12:40:28\n",
      "========================================================\n",
      "pysdql execution time: 15.659555673599243\n"
     ]
    },
    {
     "data": {
      "text/plain": [
       "true\n",
       "Running Time: 0.3622438 s"
      ]
     },
     "execution_count": 6,
     "metadata": {},
     "output_type": "execute_result"
    }
   ],
   "source": [
    "partsupp = pd.read_table(rf'{data_path}/partsupp.tbl', sep='|', index_col=False, header=None, names=pysdql.PARTSUPP_COLS)\n",
    "pysdql.db_driver(db_path=sdql_database_path, name='partsupp_load').run(partsupp.loading)"
   ]
  },
  {
   "cell_type": "code",
   "execution_count": 7,
   "metadata": {},
   "outputs": [
    {
     "name": "stderr",
     "output_type": "stream",
     "text": [
      "[info] welcome to sbt 1.6.0 (Oracle Corporation Java 17)\n",
      "[info] loading project definition from T:\\sdql\\project\n",
      "[info] loading settings for project sdql from build.sbt ...\n",
      "[info] set current project to sdql (in build file:/T:/sdql/)\n",
      "[info] sbt server started at local:sbt-server-ec9dcaf7bfc5935dead3\n",
      "[warn] sbt server could not start in 10s\n",
      "\u001b[?2004h>....[info] running sdql.driver.Main interpret T:/UG4-Proj/output/Q00.sdql\n",
      "true\n",
      "Running Time: 0.2527814 s\n",
      "[success] Total time: 1 s, completed 2022年7月31日 下午12:40:43\n",
      "========================================================\n",
      "pysdql execution time: 15.58472990989685\n"
     ]
    },
    {
     "data": {
      "text/plain": [
       "true\n",
       "Running Time: 0.2527814 s"
      ]
     },
     "execution_count": 7,
     "metadata": {},
     "output_type": "execute_result"
    }
   ],
   "source": [
    "nation = pd.read_table(rf'{data_path}/nation.tbl', sep='|', index_col=False, header=None, names=pysdql.NATION_COLS)\n",
    "pysdql.db_driver(db_path=sdql_database_path, name='nation_load').run(nation.loading)"
   ]
  },
  {
   "cell_type": "code",
   "execution_count": 8,
   "metadata": {},
   "outputs": [
    {
     "name": "stderr",
     "output_type": "stream",
     "text": [
      "[info] welcome to sbt 1.6.0 (Oracle Corporation Java 17)\n",
      "[info] loading project definition from T:\\sdql\\project\n",
      "[info] loading settings for project sdql from build.sbt ...\n",
      "[info] set current project to sdql (in build file:/T:/sdql/)\n",
      "[info] sbt server started at local:sbt-server-ec9dcaf7bfc5935dead3\n",
      "[warn] sbt server could not start in 10s\n",
      "\u001b[?2004h>....[info] running sdql.driver.Main interpret T:/UG4-Proj/output/Q00.sdql\n",
      "true\n",
      "Running Time: 0.2422353 s\n",
      "[success] Total time: 1 s, completed 2022年7月31日 下午12:40:59\n",
      "========================================================\n",
      "pysdql execution time: 15.746008157730103\n"
     ]
    },
    {
     "data": {
      "text/plain": [
       "true\n",
       "Running Time: 0.2422353 s"
      ]
     },
     "execution_count": 8,
     "metadata": {},
     "output_type": "execute_result"
    }
   ],
   "source": [
    "region = pd.read_table(rf'{data_path}/region.tbl', sep='|', index_col=False, header=None, names=pysdql.REGION_COLS)\n",
    "pysdql.db_driver(db_path=sdql_database_path, name='region_load').run(region.loading)"
   ]
  },
  {
   "cell_type": "code",
   "execution_count": 9,
   "metadata": {},
   "outputs": [
    {
     "name": "stderr",
     "output_type": "stream",
     "text": [
      "[info] welcome to sbt 1.6.0 (Oracle Corporation Java 17)\n",
      "[info] loading project definition from T:\\sdql\\project\n",
      "[info] loading settings for project sdql from build.sbt ...\n",
      "[info] set current project to sdql (in build file:/T:/sdql/)\n",
      "[info] sbt server started at local:sbt-server-ec9dcaf7bfc5935dead3\n",
      "[warn] sbt server could not start in 10s\n",
      "\u001b[?2004h>....[info] running sdql.driver.Main interpret T:/UG4-Proj/output/Q00.sdql\n",
      "true\n",
      "Running Time: 0.4314925 s\n",
      "[success] Total time: 1 s, completed 2022年7月31日 下午12:41:15\n",
      "========================================================\n",
      "pysdql execution time: 15.805615663528442\n"
     ]
    },
    {
     "data": {
      "text/plain": [
       "true\n",
       "Running Time: 0.4314925 s"
      ]
     },
     "execution_count": 9,
     "metadata": {},
     "output_type": "execute_result"
    }
   ],
   "source": [
    "orders = pd.read_table(rf'{data_path}/orders.tbl', sep='|', index_col=False, header=None, names=pysdql.ORDERS_COLS)\n",
    "pysdql.db_driver(db_path=sdql_database_path, name='orders_load').run(orders.loading)"
   ]
  },
  {
   "cell_type": "code",
   "execution_count": null,
   "metadata": {},
   "outputs": [],
   "source": []
  },
  {
   "cell_type": "code",
   "execution_count": null,
   "metadata": {},
   "outputs": [],
   "source": []
  },
  {
   "cell_type": "code",
   "execution_count": null,
   "metadata": {},
   "outputs": [],
   "source": []
  },
  {
   "cell_type": "code",
   "execution_count": null,
   "metadata": {},
   "outputs": [],
   "source": []
  },
  {
   "cell_type": "code",
   "execution_count": null,
   "metadata": {},
   "outputs": [],
   "source": []
  },
  {
   "cell_type": "code",
   "execution_count": null,
   "metadata": {},
   "outputs": [],
   "source": []
  },
  {
   "cell_type": "code",
   "execution_count": null,
   "metadata": {},
   "outputs": [],
   "source": []
  },
  {
   "cell_type": "code",
   "execution_count": null,
   "metadata": {},
   "outputs": [],
   "source": []
  }
 ],
 "metadata": {
  "kernelspec": {
   "display_name": "Python 3 (ipykernel)",
   "language": "python",
   "name": "python3"
  },
  "language_info": {
   "codemirror_mode": {
    "name": "ipython",
    "version": 3
   },
   "file_extension": ".py",
   "mimetype": "text/x-python",
   "name": "python",
   "nbconvert_exporter": "python",
   "pygments_lexer": "ipython3",
   "version": "3.8.13"
  }
 },
 "nbformat": 4,
 "nbformat_minor": 1
}
