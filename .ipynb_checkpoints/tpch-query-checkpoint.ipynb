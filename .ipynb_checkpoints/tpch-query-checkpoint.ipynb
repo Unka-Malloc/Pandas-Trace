{
 "cells": [
  {
   "cell_type": "markdown",
   "metadata": {
    "collapsed": true
   },
   "source": [
    "# TPCH - 1"
   ]
  },
  {
   "cell_type": "code",
   "execution_count": 1,
   "metadata": {},
   "outputs": [
    {
     "name": "stdout",
     "output_type": "stream",
     "text": [
      "========================================================\n",
      "let lineitem = { < l_orderkey = 1, l_partkey = 1, l_suppkey = 1, l_linenumber = 1, l_quantity = 17, l_extendedprice = 15317.0, l_discount = 0.04, l_tax = 0.02, l_returnflag = \"N\", l_linestatus = \"O\", l_shipdate = 19960313, l_commitdate = 19960212, l_receiptdate = 19960322, l_shipinstruct = \"DELIVER IN PERSON\", l_shipmode = \"TRUCK\", l_comment = \"egular courts above the\" > -> 1, \n",
      "< l_orderkey = 1, l_partkey = 1, l_suppkey = 1, l_linenumber = 2, l_quantity = 36, l_extendedprice = 32436.0, l_discount = 0.09, l_tax = 0.06, l_returnflag = \"N\", l_linestatus = \"O\", l_shipdate = 19960412, l_commitdate = 19960228, l_receiptdate = 19960420, l_shipinstruct = \"TAKE BACK RETURN\", l_shipmode = \"MAIL\", l_comment = \"ly final dependencies: slyly bold \" > -> 1, \n",
      "< l_orderkey = 1, l_partkey = 1, l_suppkey = 1, l_linenumber = 3, l_quantity = 8, l_extendedprice = 7208.0, l_discount = 0.1, l_tax = 0.02, l_returnflag = \"N\", l_linestatus = \"O\", l_shipdate = 19960129, l_commitdate = 19960305, l_receiptdate = 19960131, l_shipinstruct = \"TAKE BACK RETURN\", l_shipmode = \"REG AIR\", l_comment = \"riously. regular, express dep\" > -> 1, \n",
      "< l_orderkey = 1, l_partkey = 1, l_suppkey = 1, l_linenumber = 4, l_quantity = 28, l_extendedprice = 25228.0, l_discount = 0.09, l_tax = 0.06, l_returnflag = \"N\", l_linestatus = \"O\", l_shipdate = 19960421, l_commitdate = 19960330, l_receiptdate = 19960516, l_shipinstruct = \"NONE\", l_shipmode = \"AIR\", l_comment = \"lites. fluffily even de\" > -> 1, \n",
      "< l_orderkey = 1, l_partkey = 1, l_suppkey = 1, l_linenumber = 5, l_quantity = 24, l_extendedprice = 21624.0, l_discount = 0.1, l_tax = 0.04, l_returnflag = \"N\", l_linestatus = \"O\", l_shipdate = 19960330, l_commitdate = 19960314, l_receiptdate = 19960401, l_shipinstruct = \"NONE\", l_shipmode = \"FOB\", l_comment = \" pending foxes. slyly re\" > -> 1, \n",
      "< l_orderkey = 1, l_partkey = 1, l_suppkey = 1, l_linenumber = 6, l_quantity = 32, l_extendedprice = 28832.0, l_discount = 0.07, l_tax = 0.02, l_returnflag = \"N\", l_linestatus = \"O\", l_shipdate = 19960130, l_commitdate = 19960207, l_receiptdate = 19960203, l_shipinstruct = \"DELIVER IN PERSON\", l_shipmode = \"MAIL\", l_comment = \"arefully slyly ex\" > -> 1 }\n",
      "let lmp = sum (<l_k, l_v> in lineitem) if ((l_k.l_shipdate <= 19960313)) then { l_k -> 1 } else {  }\n",
      "let tmpa = sum (<l_k, l_v> in lmp) { < l_returnflag=l_k.l_returnflag, l_linestatus=l_k.l_linestatus > -> { l_k -> l_v } }\n",
      "let tmp = sum (<ta_k, ta_v> in tmpa) { < l_returnflag=ta_k.l_returnflag, l_linestatus=ta_k.l_linestatus, group=ta_v > -> 1 }\n",
      "let tmpb = sum (<t_k, t_v> in tmp) sum (<g_k, g_v> in t_k.group) { < l_returnflag=t_k.l_returnflag, l_linestatus=t_k.l_linestatus > -> < sum_qty=g_k.l_quantity * g_v, sum_base_price=g_k.l_extendedprice * g_v, sum_disc_price=(g_k.l_extendedprice * (1 - g_k.l_discount)) * g_v, sum_charge=((g_k.l_extendedprice * (1 - g_k.l_discount)) * (1 + g_k.l_tax)) * g_v, avg_qty_sum=g_k.l_quantity * g_v, avg_qty_count=g_v, avg_price_sum=g_k.l_extendedprice * g_v, avg_price_count=g_v, avg_disc_sum=g_k.l_discount * g_v, avg_disc_count=g_v, count_order=g_v > }\n",
      "let aggr_lmp = sum (<tb_k, tb_v> in tmpb) { < l_returnflag=tb_k.l_returnflag, l_linestatus=tb_k.l_linestatus, sum_qty=tb_v.sum_qty, sum_base_price=tb_v.sum_base_price, sum_disc_price=tb_v.sum_disc_price, sum_charge=tb_v.sum_charge, avg_qty=(tb_v.avg_qty_sum / tb_v.avg_qty_count), avg_price=(tb_v.avg_price_sum / tb_v.avg_price_count), avg_disc=(tb_v.avg_disc_sum / tb_v.avg_disc_count), count_order=tb_v.count_order > -> 1 }\n",
      "aggr_lmp\n",
      "========================================================\n",
      "[info] welcome to sbt 1.6.0 (Oracle Corporation Java 17)\n",
      "[info] loading project definition from T:\\sdql\\project\n",
      "[info] loading settings for project sdql from build.sbt ...\n",
      "[info] set current project to sdql (in build file:/T:/sdql/)\n",
      "[info]\n",
      "[info] Here are some highlights of this release:\n",
      "[info]   - Improved JDK 17 support\n",
      "[info]   - Improved Build Server Protocol (BSP) support\n",
      "[info]   - Tab completion of global keys\n",
      "[info] See https://eed3si9n.com/sbt-1.6.0 for full release notes.\n",
      "[info] Hide the banner for this release by running `skipBanner`.\n",
      "[error] server failed to start on local:sbt-server-ec9dcaf7bfc5935dead3. java.io.IOException: Could not create lock for \\\\.\\pipe\\sbt-server-ec9dcaf7bfc5935dead3_lock, error 5\n",
      "\u001b[?2004h>....[info] running sdql.driver.Main interpret T:/UG4-Proj/sdql_scripts/q.sdql\n",
      "{<l_returnflag = N, l_linestatus = O, sum_qty = 57, sum_base_price = 51357.0, sum_disc_price = 48005.28, sum_charge = 48965.3856, avg_qty = 19.0, avg_price = 17119.0, avg_disc = 0.07, count_order = 3> -> 1}\n",
      "[success] Total time: 1 s, completed 2022年7月14日 下午11:39:12\n"
     ]
    },
    {
     "data": {
      "text/plain": [
       "{<l_returnflag = N, l_linestatus = O, sum_qty = 57, sum_base_price = 51357.0, sum_disc_price = 48005.28, sum_charge = 48965.3856, avg_qty = 19.0, avg_price = 17119.0, avg_disc = 0.07, count_order = 3> -> 1}"
      ]
     },
     "execution_count": 1,
     "metadata": {},
     "output_type": "execute_result"
    }
   ],
   "source": [
    "import pysdql\n",
    "\n",
    "db_driver = pysdql.driver(db_path=r'T:/sdql')\n",
    "\n",
    "lineitem = pysdql.read_tbl(path=r'T:/UG4-Proj/datasets/lineitem.tbl', header=pysdql.LINEITEM_COLS)\n",
    "\n",
    "r = lineitem[lineitem['l_shipdate'] <= 19960313]\n",
    "r = r.groupby(['l_returnflag', 'l_linestatus'])\n",
    "r = r.aggr(sum_qty=(lineitem['l_quantity'], 'sum'),\n",
    "           sum_base_price=(lineitem['l_extendedprice'], 'sum'),\n",
    "           sum_disc_price=(lineitem['l_extendedprice'] * (1 - lineitem['l_discount']), 'sum'),\n",
    "           sum_charge=(lineitem['l_extendedprice'] * (1 - lineitem['l_discount']) * (1 + lineitem['l_tax']), 'sum'),\n",
    "           avg_qty=(lineitem['l_quantity'], 'avg'),\n",
    "           avg_price=(lineitem['l_extendedprice'], 'avg'),\n",
    "           avg_disc=(lineitem['l_discount'], 'avg'),\n",
    "           count_order=(lineitem['*'], 'count'))\n",
    "\n",
    "db_driver.run(r)"
   ]
  },
  {
   "cell_type": "markdown",
   "metadata": {},
   "source": [
    "# TPCH - 6"
   ]
  },
  {
   "cell_type": "code",
   "execution_count": 2,
   "metadata": {},
   "outputs": [
    {
     "name": "stdout",
     "output_type": "stream",
     "text": [
      "========================================================\n",
      "let lineitem = { < l_orderkey = 1, l_partkey = 1, l_suppkey = 1, l_linenumber = 1, l_quantity = 17, l_extendedprice = 15317.0, l_discount = 0.04, l_tax = 0.02, l_returnflag = \"N\", l_linestatus = \"O\", l_shipdate = 19960313, l_commitdate = 19960212, l_receiptdate = 19960322, l_shipinstruct = \"DELIVER IN PERSON\", l_shipmode = \"TRUCK\", l_comment = \"egular courts above the\" > -> 1, \n",
      "< l_orderkey = 1, l_partkey = 1, l_suppkey = 1, l_linenumber = 2, l_quantity = 36, l_extendedprice = 32436.0, l_discount = 0.09, l_tax = 0.06, l_returnflag = \"N\", l_linestatus = \"O\", l_shipdate = 19960412, l_commitdate = 19960228, l_receiptdate = 19960420, l_shipinstruct = \"TAKE BACK RETURN\", l_shipmode = \"MAIL\", l_comment = \"ly final dependencies: slyly bold \" > -> 1, \n",
      "< l_orderkey = 1, l_partkey = 1, l_suppkey = 1, l_linenumber = 3, l_quantity = 8, l_extendedprice = 7208.0, l_discount = 0.1, l_tax = 0.02, l_returnflag = \"N\", l_linestatus = \"O\", l_shipdate = 19960129, l_commitdate = 19960305, l_receiptdate = 19960131, l_shipinstruct = \"TAKE BACK RETURN\", l_shipmode = \"REG AIR\", l_comment = \"riously. regular, express dep\" > -> 1, \n",
      "< l_orderkey = 1, l_partkey = 1, l_suppkey = 1, l_linenumber = 4, l_quantity = 28, l_extendedprice = 25228.0, l_discount = 0.09, l_tax = 0.06, l_returnflag = \"N\", l_linestatus = \"O\", l_shipdate = 19960421, l_commitdate = 19960330, l_receiptdate = 19960516, l_shipinstruct = \"NONE\", l_shipmode = \"AIR\", l_comment = \"lites. fluffily even de\" > -> 1, \n",
      "< l_orderkey = 1, l_partkey = 1, l_suppkey = 1, l_linenumber = 5, l_quantity = 24, l_extendedprice = 21624.0, l_discount = 0.1, l_tax = 0.04, l_returnflag = \"N\", l_linestatus = \"O\", l_shipdate = 19960330, l_commitdate = 19960314, l_receiptdate = 19960401, l_shipinstruct = \"NONE\", l_shipmode = \"FOB\", l_comment = \" pending foxes. slyly re\" > -> 1, \n",
      "< l_orderkey = 1, l_partkey = 1, l_suppkey = 1, l_linenumber = 6, l_quantity = 32, l_extendedprice = 28832.0, l_discount = 0.07, l_tax = 0.02, l_returnflag = \"N\", l_linestatus = \"O\", l_shipdate = 19960130, l_commitdate = 19960207, l_receiptdate = 19960203, l_shipinstruct = \"DELIVER IN PERSON\", l_shipmode = \"MAIL\", l_comment = \"arefully slyly ex\" > -> 1 }\n",
      "let lmp = sum (<l_k, l_v> in lineitem) if ((((((19960301 <= l_k.l_shipdate) && (l_k.l_shipdate < 19970301)) && (0.09 < l_k.l_discount)) && (l_k.l_discount < 1.01)) && (20 < l_k.l_quantity))) then { l_k -> 1 } else {  }\n",
      "let tmp = sum (<l_k, l_v> in lmp) < revenue=(l_k.l_extendedprice * l_k.l_discount) * l_v >\n",
      "let tmpa = { < revenue=tmp.revenue > -> 1 }\n",
      "tmpa\n",
      "========================================================\n",
      "[info] welcome to sbt 1.6.0 (Oracle Corporation Java 17)\n",
      "[info] loading project definition from T:\\sdql\\project\n",
      "[info] loading settings for project sdql from build.sbt ...\n",
      "[info] set current project to sdql (in build file:/T:/sdql/)\n",
      "[info]\n",
      "[info] Here are some highlights of this release:\n",
      "[info]   - Improved JDK 17 support\n",
      "[info]   - Improved Build Server Protocol (BSP) support\n",
      "[info]   - Tab completion of global keys\n",
      "[info] See https://eed3si9n.com/sbt-1.6.0 for full release notes.\n",
      "[info] Hide the banner for this release by running `skipBanner`.\n",
      "[error] server failed to start on local:sbt-server-ec9dcaf7bfc5935dead3. java.io.IOException: Could not create lock for \\\\.\\pipe\\sbt-server-ec9dcaf7bfc5935dead3_lock, error 5\n",
      "\u001b[?2004h>....[info] running sdql.driver.Main interpret T:/UG4-Proj/sdql_scripts/q.sdql\n",
      "{<revenue = 2162.4> -> 1}\n",
      "[success] Total time: 1 s, completed 2022年7月14日 下午11:39:17\n"
     ]
    },
    {
     "data": {
      "text/plain": [
       "{<revenue = 2162.4> -> 1}"
      ]
     },
     "execution_count": 2,
     "metadata": {},
     "output_type": "execute_result"
    }
   ],
   "source": [
    "import pysdql\n",
    "db_driver = pysdql.driver(db_path=r'T:/sdql')\n",
    "\n",
    "lineitem = pysdql.read_tbl(path=r'T:/UG4-Proj/datasets/lineitem.tbl', header=pysdql.LINEITEM_COLS)\n",
    "\n",
    "r = lineitem[(lineitem.l_shipdate >= 19960301)\n",
    "             & (lineitem.l_shipdate < 19970301)\n",
    "             & (lineitem.l_discount > 0.09)\n",
    "             & (lineitem.l_discount < 1.01)\n",
    "             & (lineitem.l_quantity > 20)]\n",
    "\n",
    "r = r.aggr(revenue=(lineitem['l_extendedprice'] * lineitem['l_discount'], 'sum'))\n",
    "\n",
    "db_driver.run(r)"
   ]
  },
  {
   "cell_type": "code",
   "execution_count": null,
   "metadata": {},
   "outputs": [],
   "source": []
  }
 ],
 "metadata": {
  "kernelspec": {
   "display_name": "Python 3 (ipykernel)",
   "language": "python",
   "name": "python3"
  },
  "language_info": {
   "codemirror_mode": {
    "name": "ipython",
    "version": 3
   },
   "file_extension": ".py",
   "mimetype": "text/x-python",
   "name": "python",
   "nbconvert_exporter": "python",
   "pygments_lexer": "ipython3",
   "version": "3.9.7"
  }
 },
 "nbformat": 4,
 "nbformat_minor": 1
}
