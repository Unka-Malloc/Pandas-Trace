{
 "cells": [
  {
   "cell_type": "markdown",
   "metadata": {
    "collapsed": true
   },
   "source": [
    "# TPCH - 1"
   ]
  },
  {
   "cell_type": "code",
   "execution_count": 1,
   "metadata": {
    "pycharm": {
     "is_executing": true
    }
   },
   "outputs": [
    {
     "name": "stdout",
     "output_type": "stream",
     "text": [
      "========================================================\n",
      "let lineitem = load[{<l_orderkey: int, l_partkey: int, l_suppkey: int, l_linenumber: int, l_quantity: int, l_extendedprice: double, l_discount: double, l_tax: double, l_returnflag: string, l_linestatus: string, l_shipdate: date, l_commitdate: date, l_receiptdate: date, l_shipinstruct: string, l_shipmode: string, l_comment: string> -> int}](\"T:/UG4-Proj/datasets/lineitem.tbl\")\n",
      "let lmp = sum (<lin_k, lin_v> in lineitem) if ((lin_k.l_shipdate <= date(19990215))) then { lin_k -> 1 } else {  }\n",
      "let tmpa = sum (<l_k, l_v> in lmp) { < l_returnflag=l_k.l_returnflag, l_linestatus=l_k.l_linestatus > -> { l_k -> l_v } }\n",
      "let tmp = sum (<ta_k, ta_v> in tmpa) { < l_returnflag=ta_k.l_returnflag, l_linestatus=ta_k.l_linestatus, group=ta_v > -> 1 }\n",
      "let tmpb = sum (<t_k, t_v> in tmp) sum (<g_k, g_v> in t_k.group) { < l_returnflag=t_k.l_returnflag, l_linestatus=t_k.l_linestatus > -> < sum_qty=g_k.l_quantity * g_v, sum_base_price=g_k.l_extendedprice * g_v, sum_disc_price=(g_k.l_extendedprice * (1 - g_k.l_discount)) * g_v, sum_charge=((g_k.l_extendedprice * (1 - g_k.l_discount)) * (1 + g_k.l_tax)) * g_v, avg_qty_sum=g_k.l_quantity * g_v, avg_qty_count=g_v, avg_price_sum=g_k.l_extendedprice * g_v, avg_price_count=g_v, avg_disc_sum=g_k.l_discount * g_v, avg_disc_count=g_v, count_order=g_v > }\n",
      "let aggr_lmp = sum (<tb_k, tb_v> in tmpb) { < l_returnflag=tb_k.l_returnflag, l_linestatus=tb_k.l_linestatus, sum_qty=tb_v.sum_qty, sum_base_price=tb_v.sum_base_price, sum_disc_price=tb_v.sum_disc_price, sum_charge=tb_v.sum_charge, avg_qty=(tb_v.avg_qty_sum / tb_v.avg_qty_count), avg_price=(tb_v.avg_price_sum / tb_v.avg_price_count), avg_disc=(tb_v.avg_disc_sum / tb_v.avg_disc_count), count_order=tb_v.count_order > -> 1 }\n",
      "aggr_lmp\n",
      "========================================================\n",
      "[info] welcome to sbt 1.6.0 (Oracle Corporation Java 17)\n",
      "[info] loading project definition from T:\\sdql\\project\n",
      "[info] loading settings for project sdql from build.sbt ...\n",
      "[info] set current project to sdql (in build file:/T:/sdql/)\n",
      "[info]\n",
      "[info] Here are some highlights of this release:\n",
      "[info]   - Improved JDK 17 support\n",
      "[info]   - Improved Build Server Protocol (BSP) support\n",
      "[info]   - Tab completion of global keys\n",
      "[info] See https://eed3si9n.com/sbt-1.6.0 for full release notes.\n",
      "[info] Hide the banner for this release by running `skipBanner`.\n",
      "[error] server failed to start on local:sbt-server-ec9dcaf7bfc5935dead3. java.io.IOException: Could not create lock for \\\\.\\pipe\\sbt-server-ec9dcaf7bfc5935dead3_lock, error 5\n",
      "\u001b[?2004h>....[info] running sdql.driver.Main interpret T:/UG4-Proj/sdql_scripts/q.sdql\n",
      "{<l_returnflag = N, l_linestatus = O, sum_qty = 77372, sum_base_price = 7.759263143000013E7, sum_disc_price = 7.375810409310006E7, sum_charge = 7.670202845039211E7, avg_qty = 25.518469656992085, avg_price = 25591.237279023786, avg_disc = 0.04971635883905017, count_order = 3032> -> 1, <l_returnflag = A, l_linestatus = F, sum_qty = 37474, sum_base_price = 3.7569624639999956E7, sum_disc_price = 3.567619209700001E7, sum_charge = 3.710141622242408E7, avg_qty = 25.35453315290934, avg_price = 25419.231826792937, avg_disc = 0.05086603518267946, count_order = 1478> -> 1, <l_returnflag = R, l_linestatus = F, sum_qty = 36511, sum_base_price = 3.657084124000005E7, sum_disc_price = 3.47384728758E7, sum_charge = 3.6169060112192966E7, avg_qty = 25.059025394646532, avg_price = 25100.096938915613, avg_disc = 0.050027453671928776, count_order = 1457> -> 1, <l_returnflag = N, l_linestatus = F, sum_qty = 1041, sum_base_price = 1041301.0700000003, sum_disc_price = 999060.8979999999, sum_charge = 1036450.8022800001, avg_qty = 27.39473684210526, avg_price = 27402.65973684211, avg_disc = 0.042894736842105284, count_order = 38> -> 1}\n",
      "[success] Total time: 46 s, completed 2022年7月20日 下午12:26:36\n",
      "========================================================\n",
      "pysdql execution time: 51.10913562774658\n"
     ]
    },
    {
     "data": {
      "text/plain": [
       "{<l_returnflag = N, l_linestatus = O, sum_qty = 77372, sum_base_price = 7.759263143000013E7, sum_disc_price = 7.375810409310006E7, sum_charge = 7.670202845039211E7, avg_qty = 25.518469656992085, avg_price = 25591.237279023786, avg_disc = 0.04971635883905017, count_order = 3032> -> 1, <l_returnflag = A, l_linestatus = F, sum_qty = 37474, sum_base_price = 3.7569624639999956E7, sum_disc_price = 3.567619209700001E7, sum_charge = 3.710141622242408E7, avg_qty = 25.35453315290934, avg_price = 25419.231826792937, avg_disc = 0.05086603518267946, count_order = 1478> -> 1, <l_returnflag = R, l_linestatus = F, sum_qty = 36511, sum_base_price = 3.657084124000005E7, sum_disc_price = 3.47384728758E7, sum_charge = 3.6169060112192966E7, avg_qty = 25.059025394646532, avg_price = 25100.096938915613, avg_disc = 0.050027453671928776, count_order = 1457> -> 1, <l_returnflag = N, l_linestatus = F, sum_qty = 1041, sum_base_price = 1041301.0700000003, sum_disc_price = 999060.8979999999, sum_charge = 1036450.8022800001, avg_qty = 27.39473684210526, avg_price = 27402.65973684211, avg_disc = 0.042894736842105284, count_order = 38> -> 1}"
      ]
     },
     "execution_count": 1,
     "metadata": {},
     "output_type": "execute_result"
    }
   ],
   "source": [
    "from datetime import datetime, timedelta\n",
    "import pysdql\n",
    "\n",
    "db_driver = pysdql.db_driver(db_path=r'T:/sdql')\n",
    "\n",
    "lineitem = pysdql.read_tbl(path=r'T:/UG4-Proj/datasets/lineitem.tbl', header=pysdql.LINEITEM_COLS)\n",
    "\n",
    "d1 = datetime.strptime('1998-12-01', \"%Y-%m-%d\")\n",
    "d3 = d1 + timedelta(days=76)\n",
    "var1 = d3.strftime(\"%Y-%m-%d\")\n",
    "\n",
    "r = lineitem[(lineitem['l_shipdate'] <= var1)]\n",
    "r = r.groupby(['l_returnflag', 'l_linestatus'])\n",
    "r = r.aggr(sum_qty=(r['l_quantity'], 'sum'),\n",
    "           sum_base_price=(r['l_extendedprice'], 'sum'),\n",
    "           sum_disc_price=(r['l_extendedprice'] * (1 - r['l_discount']), 'sum'),\n",
    "           sum_charge=(r['l_extendedprice'] * (1 - r['l_discount']) * (1 + r['l_tax']), 'sum'),\n",
    "           avg_qty=(r['l_quantity'], 'avg'),\n",
    "           avg_price=(r['l_extendedprice'], 'avg'),\n",
    "           avg_disc=(r['l_discount'], 'avg'),\n",
    "           count_order=('*', 'count'))\n",
    "\n",
    "db_driver.run(r)"
   ]
  },
  {
   "cell_type": "markdown",
   "metadata": {},
   "source": [
    "# TPCH - 3"
   ]
  },
  {
   "cell_type": "code",
   "execution_count": 2,
   "metadata": {},
   "outputs": [
    {
     "name": "stdout",
     "output_type": "stream",
     "text": [
      "========================================================\n",
      "let lineitem = load[{<l_orderkey: int, l_partkey: int, l_suppkey: int, l_linenumber: int, l_quantity: int, l_extendedprice: double, l_discount: double, l_tax: double, l_returnflag: string, l_linestatus: string, l_shipdate: date, l_commitdate: date, l_receiptdate: date, l_shipinstruct: string, l_shipmode: string, l_comment: string> -> int}](\"T:/UG4-Proj/datasets/lineitem.tbl\")\n",
      "let orders = load[{<o_orderkey: int, o_custkey: int, o_orderstatus: string, o_totalprice: double, o_orderdate: date, o_orderpriority: string, o_clerk: string, o_shippriority: int, o_comment: string> -> int}](\"T:/UG4-Proj/datasets/orders.tbl\")\n",
      "let customer = load[{<c_custkey: int, c_name: string, c_address: string, c_nationkey: int, c_phone: string, c_acctbal: double, c_mktsegment: string, c_comment: string> -> int}](\"T:/UG4-Proj/datasets/customer.tbl\")\n",
      "let Rm0 = sum (<cus_k, cus_v> in customer) sum (<ord_k, ord_v> in orders) if ((cus_k.c_custkey == ord_k.o_custkey)) then { concat(cus_k, ord_k) -> cus_v * ord_v } else {  }\n",
      "let Rm1 = sum (<r0_k, r0_v> in Rm0) sum (<lin_k, lin_v> in lineitem) if ((r0_k.o_orderkey == lin_k.l_orderkey)) then { concat(r0_k, lin_k) -> r0_v * lin_v } else {  }\n",
      "let rmp = sum (<r1_k, r1_v> in Rm1) if ((((r1_k.c_mktsegment == \"BUILDING\") && (r1_k.o_orderdate < date(19950322))) && (date(19950322) < r1_k.l_shipdate))) then { r1_k -> 1 } else {  }\n",
      "let tmpa = sum (<r_k, r_v> in rmp) { < l_orderkey=r_k.l_orderkey, o_orderdate=r_k.o_orderdate, o_shippriority=r_k.o_shippriority > -> { r_k -> r_v } }\n",
      "let tmp = sum (<ta_k, ta_v> in tmpa) { < l_orderkey=ta_k.l_orderkey, o_orderdate=ta_k.o_orderdate, o_shippriority=ta_k.o_shippriority, group=ta_v > -> 1 }\n",
      "let tmpb = sum (<t_k, t_v> in tmp) sum (<g_k, g_v> in t_k.group) { < l_orderkey=t_k.l_orderkey, o_orderdate=t_k.o_orderdate, o_shippriority=t_k.o_shippriority > -> < revenue=(g_k.l_extendedprice * (1 - g_k.l_discount)) * g_v > }\n",
      "let aggr_rmp = sum (<tb_k, tb_v> in tmpb) { < l_orderkey=tb_k.l_orderkey, o_orderdate=tb_k.o_orderdate, o_shippriority=tb_k.o_shippriority, revenue=tb_v.revenue > -> 1 }\n",
      "aggr_rmp\n",
      "========================================================\n",
      "[info] welcome to sbt 1.6.0 (Oracle Corporation Java 17)\n",
      "[info] loading project definition from T:\\sdql\\project\n",
      "[info] loading settings for project sdql from build.sbt ...\n",
      "[info] set current project to sdql (in build file:/T:/sdql/)\n",
      "[info]\n",
      "[info] Here are some highlights of this release:\n",
      "[info]   - Improved JDK 17 support\n",
      "[info]   - Improved Build Server Protocol (BSP) support\n",
      "[info]   - Tab completion of global keys\n",
      "[info] See https://eed3si9n.com/sbt-1.6.0 for full release notes.\n",
      "[info] Hide the banner for this release by running `skipBanner`.\n",
      "[error] server failed to start on local:sbt-server-ec9dcaf7bfc5935dead3. java.io.IOException: Could not create lock for \\\\.\\pipe\\sbt-server-ec9dcaf7bfc5935dead3_lock, error 5\n",
      "\u001b[?2004h>....[info] running sdql.driver.Main interpret T:/UG4-Proj/sdql_scripts/q.sdql\n",
      "{<l_orderkey = 3492, o_orderdate = DateValue(19941124), o_shippriority = 0, revenue = 43716.072400000005> -> 1, <l_orderkey = 1637, o_orderdate = DateValue(19950208), o_shippriority = 0, revenue = 87438.8481> -> 1, <l_orderkey = 775, o_orderdate = DateValue(19950318), o_shippriority = 0, revenue = 55713.6063> -> 1, <l_orderkey = 998, o_orderdate = DateValue(19941126), o_shippriority = 0, revenue = 6811.434> -> 1, <l_orderkey = 742, o_orderdate = DateValue(19941223), o_shippriority = 0, revenue = 43728.048> -> 1, <l_orderkey = 5191, o_orderdate = DateValue(19941211), o_shippriority = 0, revenue = 49378.309400000006> -> 1, <l_orderkey = 3430, o_orderdate = DateValue(19941212), o_shippriority = 0, revenue = 4726.6775> -> 1, <l_orderkey = 2883, o_orderdate = DateValue(19950123), o_shippriority = 0, revenue = 36666.9612> -> 1}\n",
      "[success] Total time: 59 s, completed 2022年7月20日 下午12:27:40\n",
      "========================================================\n",
      "pysdql execution time: 64.12688612937927\n"
     ]
    },
    {
     "data": {
      "text/plain": [
       "{<l_orderkey = 3492, o_orderdate = DateValue(19941124), o_shippriority = 0, revenue = 43716.072400000005> -> 1, <l_orderkey = 1637, o_orderdate = DateValue(19950208), o_shippriority = 0, revenue = 87438.8481> -> 1, <l_orderkey = 775, o_orderdate = DateValue(19950318), o_shippriority = 0, revenue = 55713.6063> -> 1, <l_orderkey = 998, o_orderdate = DateValue(19941126), o_shippriority = 0, revenue = 6811.434> -> 1, <l_orderkey = 742, o_orderdate = DateValue(19941223), o_shippriority = 0, revenue = 43728.048> -> 1, <l_orderkey = 5191, o_orderdate = DateValue(19941211), o_shippriority = 0, revenue = 49378.309400000006> -> 1, <l_orderkey = 3430, o_orderdate = DateValue(19941212), o_shippriority = 0, revenue = 4726.6775> -> 1, <l_orderkey = 2883, o_orderdate = DateValue(19950123), o_shippriority = 0, revenue = 36666.9612> -> 1}"
      ]
     },
     "execution_count": 2,
     "metadata": {},
     "output_type": "execute_result"
    }
   ],
   "source": [
    "import pysdql\n",
    "\n",
    "var1 = 'BUILDING'\n",
    "var2 = '1995-03-22'\n",
    "\n",
    "db_driver = pysdql.db_driver(db_path=r'T:/sdql')\n",
    "\n",
    "customer = pysdql.read_tbl(path=r'T:/UG4-Proj/datasets/customer.tbl', header=pysdql.CUSTOMER_COLS)\n",
    "orders = pysdql.read_tbl(path=r'T:/UG4-Proj/datasets/orders.tbl', header=pysdql.ORDERS_COLS)\n",
    "lineitem = pysdql.read_tbl(path=r'T:/UG4-Proj/datasets/lineitem.tbl', header=pysdql.LINEITEM_COLS)\n",
    "\n",
    "r = customer.merge(orders, on=(customer['c_custkey'] == orders['o_custkey']))\n",
    "r = r.merge(lineitem, on=(r['o_orderkey'] == lineitem['l_orderkey']))\n",
    "\n",
    "r = r[(r['c_mktsegment'] == var1)\n",
    "      & (r['o_orderdate'] < var2)\n",
    "      & (r['l_shipdate'] > var2)]\n",
    "\n",
    "r = r.groupby(['l_orderkey', 'o_orderdate', 'o_shippriority']) \\\n",
    "    .aggr(revenue=((r['l_extendedprice'] * (1 - r['l_discount'])), 'sum'))\n",
    "\n",
    "db_driver.run(r)"
   ]
  },
  {
   "cell_type": "markdown",
   "metadata": {},
   "source": [
    "# TPCH - 4"
   ]
  },
  {
   "cell_type": "code",
   "execution_count": 3,
   "metadata": {},
   "outputs": [
    {
     "name": "stdout",
     "output_type": "stream",
     "text": [
      "========================================================\n",
      "let orders = load[{<o_orderkey: int, o_custkey: int, o_orderstatus: string, o_totalprice: double, o_orderdate: date, o_orderpriority: string, o_clerk: string, o_shippriority: int, o_comment: string> -> int}](\"T:/UG4-Proj/datasets/orders.tbl\")\n",
      "let lineitem = load[{<l_orderkey: int, l_partkey: int, l_suppkey: int, l_linenumber: int, l_quantity: int, l_extendedprice: double, l_discount: double, l_tax: double, l_returnflag: string, l_linestatus: string, l_shipdate: date, l_commitdate: date, l_receiptdate: date, l_shipinstruct: string, l_shipmode: string, l_comment: string> -> int}](\"T:/UG4-Proj/datasets/lineitem.tbl\")\n",
      "let lmp = sum (<lin_k, lin_v> in lineitem) if ((lin_k.l_commitdate < lin_k.l_receiptdate)) then { lin_k -> 1 } else {  }\n",
      "let Rm0 = sum (<l_k, l_v> in lmp) sum (<ord_k, ord_v> in orders) if ((l_k.l_orderkey == ord_k.o_orderkey)) then { concat(l_k, ord_k) -> l_v * ord_v } else {  }\n",
      "let count_Rm0 = sum (<r0_k, r0_v> in Rm0) r0_v\n",
      "let omp = sum (<ord_k, ord_v> in orders) if ((((date(19960501) <= ord_k.o_orderdate) && (ord_k.o_orderdate < date(19960801))) && (0 < count_Rm0))) then { ord_k -> 1 } else {  }\n",
      "let tmpa = sum (<o_k, o_v> in omp) { < o_orderpriority=o_k.o_orderpriority > -> { o_k -> o_v } }\n",
      "let tmp = sum (<ta_k, ta_v> in tmpa) { < o_orderpriority=ta_k.o_orderpriority, group=ta_v > -> 1 }\n",
      "let tmpb = sum (<t_k, t_v> in tmp) sum (<g_k, g_v> in t_k.group) { < o_orderpriority=t_k.o_orderpriority > -> < order_count=g_v > }\n",
      "let aggr_omp = sum (<tb_k, tb_v> in tmpb) { < o_orderpriority=tb_k.o_orderpriority, order_count=tb_v.order_count > -> 1 }\n",
      "aggr_omp\n",
      "========================================================\n",
      "[info] welcome to sbt 1.6.0 (Oracle Corporation Java 17)\n",
      "[info] loading project definition from T:\\sdql\\project\n",
      "[info] loading settings for project sdql from build.sbt ...\n",
      "[info] set current project to sdql (in build file:/T:/sdql/)\n",
      "[info]\n",
      "[info] Here are some highlights of this release:\n",
      "[info]   - Improved JDK 17 support\n",
      "[info]   - Improved Build Server Protocol (BSP) support\n",
      "[info]   - Tab completion of global keys\n",
      "[info] See https://eed3si9n.com/sbt-1.6.0 for full release notes.\n",
      "[info] Hide the banner for this release by running `skipBanner`.\n",
      "[error] server failed to start on local:sbt-server-ec9dcaf7bfc5935dead3. java.io.IOException: Could not create lock for \\\\.\\pipe\\sbt-server-ec9dcaf7bfc5935dead3_lock, error 5\n",
      "\u001b[?2004h>....[info] running sdql.driver.Main interpret T:/UG4-Proj/sdql_scripts/q.sdql\n",
      "{<o_orderpriority = 1-URGENT, order_count = 13> -> 1, <o_orderpriority = 4-NOT SPECIFIED, order_count = 12> -> 1, <o_orderpriority = 5-LOW, order_count = 7> -> 1, <o_orderpriority = 2-HIGH, order_count = 7> -> 1, <o_orderpriority = 3-MEDIUM, order_count = 9> -> 1}\n",
      "[success] Total time: 49 s, completed 2022年7月20日 下午12:28:34\n",
      "========================================================\n",
      "pysdql execution time: 53.96070957183838\n"
     ]
    },
    {
     "data": {
      "text/plain": [
       "{<o_orderpriority = 1-URGENT, order_count = 13> -> 1, <o_orderpriority = 4-NOT SPECIFIED, order_count = 12> -> 1, <o_orderpriority = 5-LOW, order_count = 7> -> 1, <o_orderpriority = 2-HIGH, order_count = 7> -> 1, <o_orderpriority = 3-MEDIUM, order_count = 9> -> 1}"
      ]
     },
     "execution_count": 3,
     "metadata": {},
     "output_type": "execute_result"
    }
   ],
   "source": [
    "import pysdql\n",
    "\n",
    "var1 = '1996-05-01'\n",
    "var2 = '1996-08-01'  # var1 + 3 month\n",
    "\n",
    "db_driver = pysdql.db_driver(db_path=r'T:/sdql')\n",
    "\n",
    "lineitem = pysdql.read_tbl(path=r'T:/UG4-Proj/datasets/lineitem.tbl', header=pysdql.LINEITEM_COLS)\n",
    "orders = pysdql.read_tbl(path=r'T:/UG4-Proj/datasets/orders.tbl', header=pysdql.ORDERS_COLS)\n",
    "\n",
    "r = lineitem[(lineitem['l_commitdate'] < lineitem['l_receiptdate'])]\n",
    "r = r.merge(orders, on=(r['l_orderkey'] == orders['o_orderkey']))\n",
    "\n",
    "s = orders[(orders['o_orderdate'] >= var1) & (orders['o_orderdate'] < var2) & r.exists()]\n",
    "\n",
    "s = s.groupby(['o_orderpriority']).aggr(order_count=('*', 'count'))\n",
    "\n",
    "db_driver.run(s)"
   ]
  },
  {
   "cell_type": "markdown",
   "metadata": {},
   "source": [
    "# TPCH - 5"
   ]
  },
  {
   "cell_type": "code",
   "execution_count": 4,
   "metadata": {
    "scrolled": false
   },
   "outputs": [
    {
     "name": "stdout",
     "output_type": "stream",
     "text": [
      "========================================================\n",
      "let region = load[{<r_regionkey: int, r_name: string, r_comment: string> -> int}](\"T:/UG4-Proj/datasets/region.tbl\")\n",
      "let nation = load[{<n_nationkey: int, n_name: string, n_regionkey: int, n_comment: string> -> int}](\"T:/UG4-Proj/datasets/nation.tbl\")\n",
      "let supplier = load[{<s_suppkey: int, s_name: string, s_address: string, s_nationkey: int, s_phone: string, s_acctbal: double, s_comment: string> -> int}](\"T:/UG4-Proj/datasets/supplier.tbl\")\n",
      "let lineitem = load[{<l_orderkey: int, l_partkey: int, l_suppkey: int, l_linenumber: int, l_quantity: int, l_extendedprice: double, l_discount: double, l_tax: double, l_returnflag: string, l_linestatus: string, l_shipdate: date, l_commitdate: date, l_receiptdate: date, l_shipinstruct: string, l_shipmode: string, l_comment: string> -> int}](\"T:/UG4-Proj/datasets/lineitem.tbl\")\n",
      "let orders = load[{<o_orderkey: int, o_custkey: int, o_orderstatus: string, o_totalprice: double, o_orderdate: date, o_orderpriority: string, o_clerk: string, o_shippriority: int, o_comment: string> -> int}](\"T:/UG4-Proj/datasets/orders.tbl\")\n",
      "let customer = load[{<c_custkey: int, c_name: string, c_address: string, c_nationkey: int, c_phone: string, c_acctbal: double, c_mktsegment: string, c_comment: string> -> int}](\"T:/UG4-Proj/datasets/customer.tbl\")\n",
      "let Rm0 = sum (<cus_k, cus_v> in customer) sum (<ord_k, ord_v> in orders) if ((cus_k.c_custkey == ord_k.o_custkey)) then { concat(cus_k, ord_k) -> cus_v * ord_v } else {  }\n",
      "let Rm1 = sum (<r0_k, r0_v> in Rm0) sum (<lin_k, lin_v> in lineitem) if ((r0_k.o_orderkey == lin_k.l_orderkey)) then { concat(r0_k, lin_k) -> r0_v * lin_v } else {  }\n",
      "let Rm2 = sum (<r1_k, r1_v> in Rm1) sum (<sup_k, sup_v> in supplier) if (((r1_k.l_suppkey == sup_k.s_suppkey) && (r1_k.c_nationkey == sup_k.s_nationkey))) then { concat(r1_k, sup_k) -> r1_v * sup_v } else {  }\n",
      "let Rm3 = sum (<r2_k, r2_v> in Rm2) sum (<nat_k, nat_v> in nation) if ((r2_k.s_nationkey == nat_k.n_nationkey)) then { concat(r2_k, nat_k) -> r2_v * nat_v } else {  }\n",
      "let Rm4 = sum (<r3_k, r3_v> in Rm3) sum (<reg_k, reg_v> in region) if ((r3_k.n_regionkey == reg_k.r_regionkey)) then { concat(r3_k, reg_k) -> r3_v * reg_v } else {  }\n",
      "let rmp = sum (<r4_k, r4_v> in Rm4) if ((((r4_k.r_name == \"MIDDLE EAST\") && (date(19930101) <= r4_k.o_orderdate)) && (r4_k.o_orderdate < date(19940101)))) then { r4_k -> 1 } else {  }\n",
      "let tmpa = sum (<r_k, r_v> in rmp) { < n_name=r_k.n_name > -> { r_k -> r_v } }\n",
      "let tmp = sum (<ta_k, ta_v> in tmpa) { < n_name=ta_k.n_name, group=ta_v > -> 1 }\n",
      "let tmpb = sum (<t_k, t_v> in tmp) sum (<g_k, g_v> in t_k.group) { < n_name=t_k.n_name > -> < revenue=(g_k.l_extendedprice * (1 - g_k.l_discount)) * g_v > }\n",
      "let aggr_rmp = sum (<tb_k, tb_v> in tmpb) { < n_name=tb_k.n_name, revenue=tb_v.revenue > -> 1 }\n",
      "aggr_rmp\n",
      "========================================================\n",
      "[info] welcome to sbt 1.6.0 (Oracle Corporation Java 17)\n",
      "[info] loading project definition from T:\\sdql\\project\n",
      "[info] loading settings for project sdql from build.sbt ...\n",
      "[info] set current project to sdql (in build file:/T:/sdql/)\n",
      "[info]\n",
      "[info] Here are some highlights of this release:\n",
      "[info]   - Improved JDK 17 support\n",
      "[info]   - Improved Build Server Protocol (BSP) support\n",
      "[info]   - Tab completion of global keys\n",
      "[info] See https://eed3si9n.com/sbt-1.6.0 for full release notes.\n",
      "[info] Hide the banner for this release by running `skipBanner`.\n",
      "[error] server failed to start on local:sbt-server-ec9dcaf7bfc5935dead3. java.io.IOException: Could not create lock for \\\\.\\pipe\\sbt-server-ec9dcaf7bfc5935dead3_lock, error 5\n",
      "\u001b[?2004h>....[info] running sdql.driver.Main interpret T:/UG4-Proj/sdql_scripts/q.sdql\n",
      "{<n_name = IRAN, revenue = 183980.59919999997> -> 1, <n_name = IRAQ, revenue = 194852.39520000003> -> 1}\n",
      "[success] Total time: 62 s (01:02), completed 2022年7月20日 下午12:29:41\n",
      "========================================================\n",
      "pysdql execution time: 67.02116680145264\n"
     ]
    },
    {
     "data": {
      "text/plain": [
       "{<n_name = IRAN, revenue = 183980.59919999997> -> 1, <n_name = IRAQ, revenue = 194852.39520000003> -> 1}"
      ]
     },
     "execution_count": 4,
     "metadata": {},
     "output_type": "execute_result"
    }
   ],
   "source": [
    "import pysdql\n",
    "\n",
    "db_driver = pysdql.db_driver(db_path=r'T:/sdql')\n",
    "\n",
    "var1 = 'MIDDLE EAST'\n",
    "var2 = '1993-01-01'\n",
    "var3 = '1994-01-01'  # var2 + 1 year\n",
    "\n",
    "customer = pysdql.read_tbl(path=r'T:/UG4-Proj/datasets/customer.tbl', header=pysdql.CUSTOMER_COLS)\n",
    "orders = pysdql.read_tbl(path=r'T:/UG4-Proj/datasets/orders.tbl', header=pysdql.ORDERS_COLS)\n",
    "lineitem = pysdql.read_tbl(path=r'T:/UG4-Proj/datasets/lineitem.tbl', header=pysdql.LINEITEM_COLS)\n",
    "supplier = pysdql.read_tbl(path=r'T:/UG4-Proj/datasets/supplier.tbl', header=pysdql.SUPPLIER_COLS)\n",
    "nation = pysdql.read_tbl(path=r'T:/UG4-Proj/datasets/nation.tbl', header=pysdql.NATION_COLS)\n",
    "region = pysdql.read_tbl(path=r'T:/UG4-Proj/datasets/region.tbl', header=pysdql.REGION_COLS)\n",
    "\n",
    "r = customer.merge(right=orders, on=(customer['c_custkey'] == orders['o_custkey']))\n",
    "r = r.merge(lineitem, on=(r['o_orderkey'] == lineitem['l_orderkey']))\n",
    "r = r.merge(supplier, on=((r['l_suppkey'] == supplier['s_suppkey'])\n",
    "                          & (r['c_nationkey'] == supplier['s_nationkey'])\n",
    "                          )\n",
    "            )\n",
    "r = r.merge(nation, on=(r['s_nationkey'] == nation['n_nationkey']))\n",
    "r = r.merge(region, on=(r['n_regionkey'] == region['r_regionkey']))\n",
    "\n",
    "r = r[(region['r_name'] == var1)\n",
    "      & (orders['o_orderdate'] >= var2)\n",
    "      & (orders['o_orderdate'] < var3)]\n",
    "\n",
    "r = r.groupby(['n_name']).aggr(revenue=((lineitem['l_extendedprice'] * (1 - lineitem['l_discount'])), 'sum'))\n",
    "\n",
    "db_driver.run(r)"
   ]
  },
  {
   "cell_type": "markdown",
   "metadata": {},
   "source": [
    "# TPCH - 6"
   ]
  },
  {
   "cell_type": "code",
   "execution_count": 5,
   "metadata": {},
   "outputs": [
    {
     "name": "stdout",
     "output_type": "stream",
     "text": [
      "========================================================\n",
      "let lineitem = load[{<l_orderkey: int, l_partkey: int, l_suppkey: int, l_linenumber: int, l_quantity: int, l_extendedprice: double, l_discount: double, l_tax: double, l_returnflag: string, l_linestatus: string, l_shipdate: date, l_commitdate: date, l_receiptdate: date, l_shipinstruct: string, l_shipmode: string, l_comment: string> -> int}](\"T:/UG4-Proj/datasets/lineitem.tbl\")\n",
      "let lmp = sum (<lin_k, lin_v> in lineitem) if ((((((date(19930101) <= lin_k.l_shipdate) && (lin_k.l_shipdate < date(19940101))) && (0.060000000000000005 < lin_k.l_discount)) && (lin_k.l_discount < 0.08)) && (lin_k.l_quantity < 25))) then { lin_k -> 1 } else {  }\n",
      "let tmp = sum (<l_k, l_v> in lmp) < revenue=(l_k.l_extendedprice * l_k.l_discount) * l_v >\n",
      "let tmpa = { < revenue=tmp.revenue > -> 1 }\n",
      "tmpa\n",
      "========================================================\n",
      "[info] welcome to sbt 1.6.0 (Oracle Corporation Java 17)\n",
      "[info] loading project definition from T:\\sdql\\project\n",
      "[info] loading settings for project sdql from build.sbt ...\n",
      "[info] set current project to sdql (in build file:/T:/sdql/)\n",
      "[info]\n",
      "[info] Here are some highlights of this release:\n",
      "[info]   - Improved JDK 17 support\n",
      "[info]   - Improved Build Server Protocol (BSP) support\n",
      "[info]   - Tab completion of global keys\n",
      "[info] See https://eed3si9n.com/sbt-1.6.0 for full release notes.\n",
      "[info] Hide the banner for this release by running `skipBanner`.\n",
      "[error] server failed to start on local:sbt-server-ec9dcaf7bfc5935dead3. java.io.IOException: Could not create lock for \\\\.\\pipe\\sbt-server-ec9dcaf7bfc5935dead3_lock, error 5\n",
      "\u001b[?2004h>....[info] running sdql.driver.Main interpret T:/UG4-Proj/sdql_scripts/q.sdql\n",
      "{<revenue = 53485.054300000025> -> 1}\n",
      "[success] Total time: 1 s, completed 2022年7月20日 下午12:29:48\n",
      "========================================================\n",
      "pysdql execution time: 6.4508216381073\n"
     ]
    },
    {
     "data": {
      "text/plain": [
       "{<revenue = 53485.054300000025> -> 1}"
      ]
     },
     "execution_count": 5,
     "metadata": {},
     "output_type": "execute_result"
    }
   ],
   "source": [
    "import pysdql\n",
    "\n",
    "var1 = '1993-01-01'\n",
    "var2 = '1994-01-01'  # var1 + 1 year\n",
    "discount = 0.07\n",
    "var3 = discount - 0.01\n",
    "var4 = discount + 0.01\n",
    "var5 = 25\n",
    "\n",
    "db_driver = pysdql.db_driver(db_path=r'T:/sdql')\n",
    "\n",
    "lineitem = pysdql.read_tbl(path=r'T:/UG4-Proj/datasets/lineitem.tbl', header=pysdql.LINEITEM_COLS)\n",
    "\n",
    "r = lineitem[(lineitem['l_shipdate'] >= var1) & (lineitem['l_shipdate'] < var2)\n",
    "             & (lineitem['l_discount'] > var3) & (lineitem['l_discount'] < var4)\n",
    "             & (lineitem['l_quantity'] < var5)]\n",
    "\n",
    "r = r.aggr(revenue=(r['l_extendedprice'] * r['l_discount'], 'sum'))\n",
    "\n",
    "db_driver.run(r)"
   ]
  },
  {
   "cell_type": "markdown",
   "metadata": {},
   "source": [
    "# TPCH - 7"
   ]
  },
  {
   "cell_type": "code",
   "execution_count": 6,
   "metadata": {
    "pycharm": {
     "name": "#%%\n"
    }
   },
   "outputs": [
    {
     "name": "stdout",
     "output_type": "stream",
     "text": [
      "========================================================\n",
      "let orders = load[{<o_orderkey: int, o_custkey: int, o_orderstatus: string, o_totalprice: double, o_orderdate: date, o_orderpriority: string, o_clerk: string, o_shippriority: int, o_comment: string> -> int}](\"T:/UG4-Proj/datasets/orders.tbl\")\n",
      "let lineitem = load[{<l_orderkey: int, l_partkey: int, l_suppkey: int, l_linenumber: int, l_quantity: int, l_extendedprice: double, l_discount: double, l_tax: double, l_returnflag: string, l_linestatus: string, l_shipdate: date, l_commitdate: date, l_receiptdate: date, l_shipinstruct: string, l_shipmode: string, l_comment: string> -> int}](\"T:/UG4-Proj/datasets/lineitem.tbl\")\n",
      "let n2 = load[{<n2_nationkey: int, n2_name: string, n2_regionkey: int, n2_comment: string> -> int}](\"T:/UG4-Proj/datasets/nation.tbl\")\n",
      "let customer = load[{<c_custkey: int, c_name: string, c_address: string, c_nationkey: int, c_phone: string, c_acctbal: double, c_mktsegment: string, c_comment: string> -> int}](\"T:/UG4-Proj/datasets/customer.tbl\")\n",
      "let Rm0 = sum (<cus_k, cus_v> in customer) sum (<n2_k, n2_v> in n2) if ((cus_k.c_nationkey == n2_k.n2_nationkey)) then { concat(cus_k, n2_k) -> cus_v * n2_v } else {  }\n",
      "let r2 = Rm0\n",
      "let n1 = load[{<n1_nationkey: int, n1_name: string, n1_regionkey: int, n1_comment: string> -> int}](\"T:/UG4-Proj/datasets/nation.tbl\")\n",
      "let supplier = load[{<s_suppkey: int, s_name: string, s_address: string, s_nationkey: int, s_phone: string, s_acctbal: double, s_comment: string> -> int}](\"T:/UG4-Proj/datasets/supplier.tbl\")\n",
      "let Rm0 = sum (<sup_k, sup_v> in supplier) sum (<n1_k, n1_v> in n1) if ((sup_k.s_nationkey == n1_k.n1_nationkey)) then { concat(sup_k, n1_k) -> sup_v * n1_v } else {  }\n",
      "let r1 = Rm0\n",
      "let Rm1 = sum (<r1_k, r1_v> in r1) sum (<r2_k, r2_v> in r2) if ((((r1_k.n1_name == \"MOZAMBIQUE\") && (r2_k.n2_name == \"JORDAN\")) || ((r1_k.n1_name == \"JORDAN\") && (r2_k.n2_name == \"MOZAMBIQUE\")))) then { concat(r1_k, r2_k) -> r1_v * r2_v } else {  }\n",
      "let Rm2 = sum (<r1_k, r1_v> in Rm1) sum (<lin_k, lin_v> in lineitem) if ((r1_k.s_suppkey == lin_k.l_suppkey)) then { concat(r1_k, lin_k) -> r1_v * lin_v } else {  }\n",
      "let Rm3 = sum (<r2_k, r2_v> in Rm2) sum (<ord_k, ord_v> in orders) if (((r2_k.l_orderkey == ord_k.o_orderkey) && (r2_k.c_custkey == ord_k.o_custkey))) then { concat(r2_k, ord_k) -> r2_v * ord_v } else {  }\n",
      "let rmp = sum (<r3_k, r3_v> in Rm3) if (((date(19950101) <= r3_k.l_shipdate) && (r3_k.l_shipdate <= date(19961231)))) then { r3_k -> 1 } else {  }\n",
      "let tmp = sum (<r_k, r_v> in rmp) { concat(r_k, < supp_nation=r_k.n1_name >) -> 1 }\n",
      "let tmpa = sum (<t_k, t_v> in tmp) { concat(t_k, < cust_nation=t_k.n2_name >) -> 1 }\n",
      "let tmpb = sum (<ta_k, ta_v> in tmpa) { concat(ta_k, < volume=(ta_k.l_extendedprice * (1 - ta_k.l_discount)) >) -> 1 }\n",
      "let tmpc = sum (<tb_k, tb_v> in tmpb) { concat(tb_k, < l_year=ext(`Year`, tb_k.l_shipdate) >) -> 1 }\n",
      "let tmpd = sum (<tc_k, tc_v> in tmpc) { < supp_nation=tc_k.supp_nation, cust_nation=tc_k.cust_nation, l_year=tc_k.l_year, volume=tc_k.volume > -> 1 }\n",
      "let shiping = tmpd\n",
      "let tmpe = sum (<s_k, s_v> in shiping) { < supp_nation=s_k.supp_nation, cust_nation=s_k.cust_nation, l_year=s_k.l_year > -> { s_k -> s_v } }\n",
      "let smp = sum (<te_k, te_v> in tmpe) { < supp_nation=te_k.supp_nation, cust_nation=te_k.cust_nation, l_year=te_k.l_year, group=te_v > -> 1 }\n",
      "let tmpf = sum (<s_k, s_v> in smp) sum (<g_k, g_v> in s_k.group) { < supp_nation=s_k.supp_nation, cust_nation=s_k.cust_nation, l_year=s_k.l_year > -> < revenue=g_k.volume * g_v > }\n",
      "let aggr_shiping = sum (<tf_k, tf_v> in tmpf) { < supp_nation=tf_k.supp_nation, cust_nation=tf_k.cust_nation, l_year=tf_k.l_year, revenue=tf_v.revenue > -> 1 }\n",
      "aggr_shiping\n",
      "========================================================\n",
      "[info] welcome to sbt 1.6.0 (Oracle Corporation Java 17)\n",
      "[info] loading project definition from T:\\sdql\\project\n",
      "[info] loading settings for project sdql from build.sbt ...\n",
      "[info] set current project to sdql (in build file:/T:/sdql/)\n",
      "[info]\n",
      "[info] Here are some highlights of this release:\n",
      "[info]   - Improved JDK 17 support\n",
      "[info]   - Improved Build Server Protocol (BSP) support\n",
      "[info]   - Tab completion of global keys\n",
      "[info] See https://eed3si9n.com/sbt-1.6.0 for full release notes.\n",
      "[info] Hide the banner for this release by running `skipBanner`.\n",
      "[error] server failed to start on local:sbt-server-ec9dcaf7bfc5935dead3. java.io.IOException: Could not create lock for \\\\.\\pipe\\sbt-server-ec9dcaf7bfc5935dead3_lock, error 5\n",
      "\u001b[?2004h>....[info] running sdql.driver.Main interpret T:/UG4-Proj/sdql_scripts/q.sdql\n",
      "[error] java.lang.Exception: Error: `sum(<Sym(r2_k),Sym(r2_v)> <- ZeroValue) ...` doesn't have a dictionary range: `class sdql.ir.ZeroValue$`\n",
      "[error] \tat sdql.package$.raise(package.scala:6)\n",
      "[error] \tat sdql.backend.Interpreter$.run(Interpreter.scala:118)\n",
      "[error] \tat sdql.backend.Interpreter$.run(Interpreter.scala:21)\n",
      "[error] \tat sdql.backend.Interpreter$.apply(Interpreter.scala:11)\n",
      "[error] \tat sdql.driver.Main$.main(Main.scala:19)\n",
      "[error] \tat sdql.driver.Main.main(Main.scala)\n",
      "[error] \tat java.base/jdk.internal.reflect.NativeMethodAccessorImpl.invoke0(Native Method)\n",
      "[error] \tat java.base/jdk.internal.reflect.NativeMethodAccessorImpl.invoke(NativeMethodAccessorImpl.java:77)\n",
      "[error] \tat java.base/jdk.internal.reflect.DelegatingMethodAccessorImpl.invoke(DelegatingMethodAccessorImpl.java:43)\n",
      "[error] \tat java.base/java.lang.reflect.Method.invoke(Method.java:568)\n",
      "[error] stack trace is suppressed; run 'last Compile / run' for the full output\n",
      "[error] (Compile / run) java.lang.Exception: Error: `sum(<Sym(r2_k),Sym(r2_v)> <- ZeroValue) ...` doesn't have a dictionary range: `class sdql.ir.ZeroValue$`\n",
      "[error] Total time: 1 s, completed 2022年7月20日 下午12:29:54\n",
      "========================================================\n",
      "pysdql execution time: 6.217610597610474\n"
     ]
    },
    {
     "data": {
      "text/plain": [
       "[error] java.lang.Exception: Error: `sum(<Sym(r2_k),Sym(r2_v)> <- ZeroValue) ...` doesn't have a dictionary range: `class sdql.ir.ZeroValue$`[error] \tat sdql.package$.raise(package.scala:6)[error] \tat sdql.backend.Interpreter$.run(Interpreter.scala:118)[error] \tat sdql.backend.Interpreter$.run(Interpreter.scala:21)[error] \tat sdql.backend.Interpreter$.apply(Interpreter.scala:11)[error] \tat sdql.driver.Main$.main(Main.scala:19)[error] \tat sdql.driver.Main.main(Main.scala)[error] \tat java.base/jdk.internal.reflect.NativeMethodAccessorImpl.invoke0(Native Method)[error] \tat java.base/jdk.internal.reflect.NativeMethodAccessorImpl.invoke(NativeMethodAccessorImpl.java:77)[error] \tat java.base/jdk.internal.reflect.DelegatingMethodAccessorImpl.invoke(DelegatingMethodAccessorImpl.java:43)[error] \tat java.base/java.lang.reflect.Method.invoke(Method.java:568)[error] stack trace is suppressed; run 'last Compile / run' for the full output[error] (Compile / run) java.lang.Exception: Error: `sum(<Sym(r2_k),Sym(r2_v)> <- ZeroValue) ...` doesn't have a dictionary range: `class sdql.ir.ZeroValue$`"
      ]
     },
     "execution_count": 6,
     "metadata": {},
     "output_type": "execute_result"
    }
   ],
   "source": [
    "import pysdql\n",
    "\n",
    "var1 = 'MOZAMBIQUE'\n",
    "var2 = 'JORDAN'\n",
    "\n",
    "db_driver = pysdql.db_driver(db_path=r'T:/sdql')\n",
    "\n",
    "supplier = pysdql.read_tbl(path=r'T:/UG4-Proj/datasets/supplier.tbl', header=pysdql.SUPPLIER_COLS)\n",
    "lineitem = pysdql.read_tbl(path=r'T:/UG4-Proj/datasets/lineitem.tbl', header=pysdql.LINEITEM_COLS)\n",
    "orders = pysdql.read_tbl(path=r'T:/UG4-Proj/datasets/orders.tbl', header=pysdql.ORDERS_COLS)\n",
    "customer = pysdql.read_tbl(path=r'T:/UG4-Proj/datasets/customer.tbl', header=pysdql.CUSTOMER_COLS)\n",
    "n1_cols = ['n1_nationkey', 'n1_name', 'n1_regionkey', 'n1_comment']\n",
    "n2_cols = ['n2_nationkey', 'n2_name', 'n2_regionkey', 'n2_comment']\n",
    "n1 = pysdql.read_tbl(path=r'T:/UG4-Proj/datasets/nation.tbl', header=n1_cols, name='n1')\n",
    "n2 = pysdql.read_tbl(path=r'T:/UG4-Proj/datasets/nation.tbl', header=n2_cols, name='n2')\n",
    "r1 = supplier.merge(n1, on=(supplier['s_nationkey'] == n1['n1_nationkey'])).rename('r1')\n",
    "\n",
    "r2 = customer.merge(n2, on=(customer['c_nationkey'] == n2['n2_nationkey'])).rename('r2')\n",
    "\n",
    "r = r1.merge(r2, on=((r1['n1_name'] == 'MOZAMBIQUE') & (r2['n2_name'] == 'JORDAN'))\n",
    "                        | ((r1['n1_name'] == 'JORDAN') & (r2['n2_name'] == 'MOZAMBIQUE')))\n",
    "\n",
    "r = r.merge(lineitem, on=(r['s_suppkey'] == lineitem['l_suppkey']))\n",
    "r = r.merge(orders, on=(r['l_orderkey'] == orders['o_orderkey']) & (r['c_custkey'] == orders['o_custkey']))\n",
    "\n",
    "r = r[(r['l_shipdate'] >= '1995-01-01') & (r['l_shipdate'] <= '1996-12-31')]\n",
    "\n",
    "r['supp_nation'] = r['n1_name']\n",
    "r['cust_nation'] = r['n2_name']\n",
    "r['volume'] = r['l_extendedprice'] * (1 - r['l_discount'])\n",
    "r['l_year'] = r['l_shipdate'].year\n",
    "\n",
    "r = r[['supp_nation', 'cust_nation', 'l_year', 'volume']].rename('shiping')\n",
    "\n",
    "r = r.groupby(['supp_nation', 'cust_nation', 'l_year']).aggr(revenue=(r['volume'], 'sum'))\n",
    "\n",
    "db_driver.run(r)"
   ]
  },
  {
   "cell_type": "markdown",
   "metadata": {},
   "source": [
    "# TPCH - 8"
   ]
  },
  {
   "cell_type": "code",
   "execution_count": 7,
   "metadata": {
    "pycharm": {
     "name": "#%%\n"
    }
   },
   "outputs": [
    {
     "name": "stdout",
     "output_type": "stream",
     "text": [
      "========================================================\n",
      "let part = load[{<p_partkey: int, p_name: string, p_mfgr: string, p_brand: string, p_type: string, p_size: int, p_container: string, p_retailprice: double, p_comment: string> -> int}](\"T:/UG4-Proj/datasets/part.tbl\")\n",
      "let n2 = load[{<n2_nationkey: int, n2_name: string, n2_regionkey: int, n2_comment: string> -> int}](\"T:/UG4-Proj/datasets/nation.tbl\")\n",
      "let supplier = load[{<s_suppkey: int, s_name: string, s_address: string, s_nationkey: int, s_phone: string, s_acctbal: double, s_comment: string> -> int}](\"T:/UG4-Proj/datasets/supplier.tbl\")\n",
      "let Rm0 = sum (<sup_k, sup_v> in supplier) sum (<n2_k, n2_v> in n2) if ((sup_k.s_nationkey == n2_k.n2_nationkey)) then { concat(sup_k, n2_k) -> sup_v * n2_v } else {  }\n",
      "let r2 = Rm0\n",
      "let lineitem = load[{<l_orderkey: int, l_partkey: int, l_suppkey: int, l_linenumber: int, l_quantity: int, l_extendedprice: double, l_discount: double, l_tax: double, l_returnflag: string, l_linestatus: string, l_shipdate: date, l_commitdate: date, l_receiptdate: date, l_shipinstruct: string, l_shipmode: string, l_comment: string> -> int}](\"T:/UG4-Proj/datasets/lineitem.tbl\")\n",
      "let orders = load[{<o_orderkey: int, o_custkey: int, o_orderstatus: string, o_totalprice: double, o_orderdate: date, o_orderpriority: string, o_clerk: string, o_shippriority: int, o_comment: string> -> int}](\"T:/UG4-Proj/datasets/orders.tbl\")\n",
      "let region = load[{<r_regionkey: int, r_name: string, r_comment: string> -> int}](\"T:/UG4-Proj/datasets/region.tbl\")\n",
      "let n1 = load[{<n1_nationkey: int, n1_name: string, n1_regionkey: int, n1_comment: string> -> int}](\"T:/UG4-Proj/datasets/nation.tbl\")\n",
      "let customer = load[{<c_custkey: int, c_name: string, c_address: string, c_nationkey: int, c_phone: string, c_acctbal: double, c_mktsegment: string, c_comment: string> -> int}](\"T:/UG4-Proj/datasets/customer.tbl\")\n",
      "let Rm0 = sum (<cus_k, cus_v> in customer) sum (<n1_k, n1_v> in n1) if ((cus_k.c_nationkey == n1_k.n1_nationkey)) then { concat(cus_k, n1_k) -> cus_v * n1_v } else {  }\n",
      "let Rm1 = sum (<r0_k, r0_v> in Rm0) sum (<reg_k, reg_v> in region) if ((r0_k.n1_regionkey == reg_k.r_regionkey)) then { concat(r0_k, reg_k) -> r0_v * reg_v } else {  }\n",
      "let rmp = sum (<r1_k, r1_v> in Rm1) if ((r1_k.r_name == \"MIDDLE EAST\")) then { r1_k -> 1 } else {  }\n",
      "let Rm2 = sum (<r_k, r_v> in rmp) sum (<ord_k, ord_v> in orders) if ((r_k.c_custkey == ord_k.o_custkey)) then { concat(r_k, ord_k) -> r_v * ord_v } else {  }\n",
      "let tmp = sum (<r2_k, r2_v> in Rm2) if (((date(19950101) <= r2_k.o_orderdate) && (r2_k.o_orderdate <= date(19961231)))) then { r2_k -> 1 } else {  }\n",
      "let Rm3 = sum (<t_k, t_v> in tmp) sum (<lin_k, lin_v> in lineitem) if ((t_k.o_orderkey == lin_k.l_orderkey)) then { concat(t_k, lin_k) -> t_v * lin_v } else {  }\n",
      "let r1 = Rm3\n",
      "let Rm4 = sum (<r1_k, r1_v> in r1) sum (<r2_k, r2_v> in r2) if ((r1_k.l_suppkey == r2_k.s_suppkey)) then { concat(r1_k, r2_k) -> r1_v * r2_v } else {  }\n",
      "let Rm5 = sum (<r4_k, r4_v> in Rm4) sum (<par_k, par_v> in part) if ((r4_k.l_partkey == par_k.p_partkey)) then { concat(r4_k, par_k) -> r4_v * par_v } else {  }\n",
      "let tmpa = sum (<r5_k, r5_v> in Rm5) if ((r5_k.p_type == \"SMALL ANODIZED COPPER\")) then { r5_k -> 1 } else {  }\n",
      "let tmpb = sum (<ta_k, ta_v> in tmpa) { concat(ta_k, < o_year=ext(`Year`, ta_k.o_orderdate) >) -> 1 }\n",
      "let tmpc = sum (<tb_k, tb_v> in tmpb) { concat(tb_k, < volume=(tb_k.l_extendedprice * (1 - tb_k.l_discount)) >) -> 1 }\n",
      "let tmpd = sum (<tc_k, tc_v> in tmpc) { concat(tc_k, < nation=tc_k.n2_name >) -> 1 }\n",
      "let tmpe = sum (<td_k, td_v> in tmpd) { < o_year=td_k.o_year, volume=td_k.volume, nation=td_k.nation > -> 1 }\n",
      "let all_nations = tmpe\n",
      "let amp = sum (<an_k, an_v> in all_nations) if ((an_k.nation == \"JORDAN\")) then { concat(an_k, < mkt_value=an_k.volume >) -> 1 } else { concat(an_k, < mkt_value=0 >) -> 1 }\n",
      "let tmpf = sum (<a_k, a_v> in amp) { concat(a_k, < mkt_value=(a_k.mkt_value / a_k.volume) >) -> 1 }\n",
      "let tmph = sum (<tf_k, tf_v> in tmpf) { < o_year=tf_k.o_year > -> { tf_k -> tf_v } }\n",
      "let tmpg = sum (<th_k, th_v> in tmph) { < o_year=th_k.o_year, group=th_v > -> 1 }\n",
      "let tmpi = sum (<tg_k, tg_v> in tmpg) sum (<g_k, g_v> in tg_k.group) { < o_year=tg_k.o_year > -> < mkt_share=g_k.mkt_value * g_v > }\n",
      "let aggr_tmpf = sum (<ti_k, ti_v> in tmpi) { < o_year=ti_k.o_year, mkt_share=ti_v.mkt_share > -> 1 }\n",
      "aggr_tmpf\n",
      "========================================================\n",
      "[info] welcome to sbt 1.6.0 (Oracle Corporation Java 17)\n",
      "[info] loading project definition from T:\\sdql\\project\n",
      "[info] loading settings for project sdql from build.sbt ...\n",
      "[info] set current project to sdql (in build file:/T:/sdql/)\n",
      "[info]\n",
      "[info] Here are some highlights of this release:\n",
      "[info]   - Improved JDK 17 support\n",
      "[info]   - Improved Build Server Protocol (BSP) support\n",
      "[info]   - Tab completion of global keys\n",
      "[info] See https://eed3si9n.com/sbt-1.6.0 for full release notes.\n",
      "[info] Hide the banner for this release by running `skipBanner`.\n",
      "[error] server failed to start on local:sbt-server-ec9dcaf7bfc5935dead3. java.io.IOException: Could not create lock for \\\\.\\pipe\\sbt-server-ec9dcaf7bfc5935dead3_lock, error 5\n",
      "\u001b[?2004h>....[info] running sdql.driver.Main interpret T:/UG4-Proj/sdql_scripts/q.sdql\n",
      "{<o_year = 1995, mkt_share = 0> -> 1}\n",
      "[success] Total time: 5 s, completed 2022年7月20日 下午12:30:04\n",
      "========================================================\n",
      "pysdql execution time: 10.153164625167847\n"
     ]
    },
    {
     "data": {
      "text/plain": [
       "{<o_year = 1995, mkt_share = 0> -> 1}"
      ]
     },
     "execution_count": 7,
     "metadata": {},
     "output_type": "execute_result"
    }
   ],
   "source": [
    "var1 = 'JORDAN'\n",
    "var2 = 'MIDDLE EAST'\n",
    "var3 = 'SMALL ANODIZED COPPER'\n",
    "db_driver = pysdql.db_driver(db_path=r'T:/sdql')\n",
    "\n",
    "part = pysdql.read_tbl(path=r'T:/UG4-Proj/datasets/part.tbl', header=pysdql.PART_COLS)\n",
    "supplier = pysdql.read_tbl(path=r'T:/UG4-Proj/datasets/supplier.tbl', header=pysdql.SUPPLIER_COLS)\n",
    "lineitem = pysdql.read_tbl(path=r'T:/UG4-Proj/datasets/lineitem.tbl', header=pysdql.LINEITEM_COLS)\n",
    "orders = pysdql.read_tbl(path=r'T:/UG4-Proj/datasets/orders.tbl', header=pysdql.ORDERS_COLS)\n",
    "customer = pysdql.read_tbl(path=r'T:/UG4-Proj/datasets/customer.tbl', header=pysdql.CUSTOMER_COLS)\n",
    "region = pysdql.read_tbl(path=r'T:/UG4-Proj/datasets/region.tbl', header=pysdql.REGION_COLS)\n",
    "n1_cols = ['n1_nationkey', 'n1_name', 'n1_regionkey', 'n1_comment']\n",
    "n2_cols = ['n2_nationkey', 'n2_name', 'n2_regionkey', 'n2_comment']\n",
    "n1 = pysdql.read_tbl(path=r'T:/UG4-Proj/datasets/nation.tbl', header=n1_cols, name='n1')\n",
    "n2 = pysdql.read_tbl(path=r'T:/UG4-Proj/datasets/nation.tbl', header=n2_cols, name='n2')\n",
    "\n",
    "r1 = customer.merge(n1, on=customer['c_nationkey'] == n1['n1_nationkey'])\n",
    "r1 = r1.merge(region, on=r1['n1_regionkey'] == region['r_regionkey'])\n",
    "\n",
    "r1 = r1[(r1['r_name'] == var2)]\n",
    "\n",
    "r1 = r1.merge(orders, on=r1['c_custkey'] == orders['o_custkey'])\n",
    "\n",
    "r1 = r1[(r1['o_orderdate'] >= '1995-01-01') & (r1['o_orderdate'] <= '1996-12-31')]\n",
    "\n",
    "r1 = r1.merge(lineitem, on=r1['o_orderkey'] == lineitem['l_orderkey']).rename('r1')\n",
    "r2 = supplier.merge(n2, on=supplier['s_nationkey'] == n2['n2_nationkey']).rename('r2')\n",
    "\n",
    "r1 = r1.merge(r2, on=r1['l_suppkey'] == r2['s_suppkey'])\n",
    "r = r1.merge(part, on=r1['l_partkey'] == part['p_partkey'])\n",
    "\n",
    "r = r[(r['p_type'] == var3)]\n",
    "\n",
    "r['o_year'] = r['o_orderdate'].year\n",
    "r['volume'] = r['l_extendedprice'] * (1 - r['l_discount'])\n",
    "r['nation'] = r['n2_name']\n",
    "\n",
    "r = r[['o_year', 'volume', 'nation']]\n",
    "all_nations = r.rename('all_nations')\n",
    "\n",
    "all_nations['mkt_value'] = all_nations.case(all_nations['nation'] == var1, all_nations['volume'], 0)\n",
    "all_nations['mkt_value'] = all_nations['mkt_value'] / all_nations['volume']\n",
    "\n",
    "s = all_nations.groupby(['o_year']).aggr(mkt_share=(all_nations['mkt_value'], 'sum'))\n",
    "\n",
    "db_driver.run(s)"
   ]
  },
  {
   "cell_type": "markdown",
   "metadata": {},
   "source": [
    "# TPCH - 9"
   ]
  },
  {
   "cell_type": "code",
   "execution_count": 22,
   "metadata": {
    "pycharm": {
     "name": "#%%\n"
    },
    "scrolled": false
   },
   "outputs": [
    {
     "name": "stdout",
     "output_type": "stream",
     "text": [
      "========================================================\n",
      "let orders = load[{<o_orderkey: int, o_custkey: int, o_orderstatus: string, o_totalprice: double, o_orderdate: date, o_orderpriority: string, o_clerk: string, o_shippriority: int, o_comment: string> -> int}](\"T:/UG4-Proj/datasets/orders.tbl\")\n",
      "let lineitem = load[{<l_orderkey: int, l_partkey: int, l_suppkey: int, l_linenumber: int, l_quantity: int, l_extendedprice: double, l_discount: double, l_tax: double, l_returnflag: string, l_linestatus: string, l_shipdate: date, l_commitdate: date, l_receiptdate: date, l_shipinstruct: string, l_shipmode: string, l_comment: string> -> int}](\"T:/UG4-Proj/datasets/lineitem.tbl\")\n",
      "let partsupp = load[{<ps_partkey: int, ps_suppkey: int, ps_availqty: int, ps_supplycost: double, ps_comment: string> -> int}](\"T:/UG4-Proj/datasets/partsupp.tbl\")\n",
      "let part = load[{<p_partkey: int, p_name: string, p_mfgr: string, p_brand: string, p_type: string, p_size: int, p_container: string, p_retailprice: double, p_comment: string> -> int}](\"T:/UG4-Proj/datasets/part.tbl\")\n",
      "let pmp = sum (<par_k, par_v> in part) if (ext(`StrStartsWith`, par_k.p_name, \"cornflower\")) then { par_k -> 1 } else {  }\n",
      "let sub_p = pmp\n",
      "let Rm0 = sum (<sp_k, sp_v> in sub_p) sum (<psup_k, psup_v> in partsupp) if ((sp_k.p_partkey == psup_k.ps_partkey)) then { concat(sp_k, psup_k) -> sp_v * psup_v } else {  }\n",
      "let r1 = Rm0\n",
      "let nation = load[{<n_nationkey: int, n_name: string, n_regionkey: int, n_comment: string> -> int}](\"T:/UG4-Proj/datasets/nation.tbl\")\n",
      "let supplier = load[{<s_suppkey: int, s_name: string, s_address: string, s_nationkey: int, s_phone: string, s_acctbal: double, s_comment: string> -> int}](\"T:/UG4-Proj/datasets/supplier.tbl\")\n",
      "let Rm0 = sum (<sup_k, sup_v> in supplier) sum (<nat_k, nat_v> in nation) if ((sup_k.s_nationkey == nat_k.n_nationkey)) then { concat(sup_k, nat_k) -> sup_v * nat_v } else {  }\n",
      "let Rm1 = sum (<r0_k, r0_v> in Rm0) sum (<r1_k, r1_v> in r1) if ((r0_k.s_suppkey == r1_k.ps_suppkey)) then { concat(r0_k, r1_k) -> r0_v * r1_v } else {  }\n",
      "let r2 = Rm1\n",
      "let Rm2 = sum (<r2_k, r2_v> in r2) sum (<lin_k, lin_v> in lineitem) if (((r2_k.s_suppkey == lin_k.l_suppkey) && (r2_k.ps_suppkey == lin_k.l_suppkey))) then { concat(r2_k, lin_k) -> r2_v * lin_v } else {  }\n",
      "let Rm3 = sum (<r2_k, r2_v> in Rm2) sum (<ord_k, ord_v> in orders) if ((r2_k.l_orderkey == ord_k.o_orderkey)) then { concat(r2_k, ord_k) -> r2_v * ord_v } else {  }\n",
      "let r = Rm3\n",
      "let rmp = sum (<r_k, r_v> in r) { concat(r_k, < nation=r_k.n_name >) -> 1 }\n",
      "let tmp = sum (<r_k, r_v> in rmp) { concat(r_k, < o_year=ext(`Year`, r_k.o_orderdate) >) -> 1 }\n",
      "let tmpa = sum (<t_k, t_v> in tmp) { concat(t_k, < amount=((t_k.l_extendedprice * (1 - t_k.l_discount)) - (t_k.ps_supplycost * t_k.l_quantity)) >) -> 1 }\n",
      "let tmpb = sum (<ta_k, ta_v> in tmpa) { < nation=ta_k.nation, o_year=ta_k.o_year, amount=ta_k.amount > -> 1 }\n",
      "let profit = tmpb\n",
      "let tmpd = sum (<p_k, p_v> in profit) { < nation=p_k.nation, o_year=p_k.o_year > -> { p_k -> p_v } }\n",
      "let tmpc = sum (<td_k, td_v> in tmpd) { < nation=td_k.nation, o_year=td_k.o_year, group=td_v > -> 1 }\n",
      "let tmpe = sum (<tc_k, tc_v> in tmpc) sum (<g_k, g_v> in tc_k.group) { < nation=tc_k.nation, o_year=tc_k.o_year > -> < sum_profit=g_k.amount * g_v > }\n",
      "let aggr_profit = sum (<te_k, te_v> in tmpe) { < nation=te_k.nation, o_year=te_k.o_year, sum_profit=te_v.sum_profit > -> 1 }\n",
      "aggr_profit\n",
      "========================================================\n",
      "[info] welcome to sbt 1.6.0 (Oracle Corporation Java 17)\n",
      "[info] loading project definition from T:\\sdql\\project\n",
      "[info] loading settings for project sdql from build.sbt ...\n",
      "[info] set current project to sdql (in build file:/T:/sdql/)\n",
      "[info]\n",
      "[info] Here are some highlights of this release:\n",
      "[info]   - Improved JDK 17 support\n",
      "[info]   - Improved Build Server Protocol (BSP) support\n",
      "[info]   - Tab completion of global keys\n",
      "[info] See https://eed3si9n.com/sbt-1.6.0 for full release notes.\n",
      "[info] Hide the banner for this release by running `skipBanner`.\n",
      "[error] server failed to start on local:sbt-server-ec9dcaf7bfc5935dead3. java.io.IOException: Could not create lock for \\\\.\\pipe\\sbt-server-ec9dcaf7bfc5935dead3_lock, error 5\n",
      "\u001b[?2004h>....[info] running sdql.driver.Main interpret T:/UG4-Proj/sdql_scripts/q.sdql\n",
      "{<nation = UNITED KINGDOM, o_year = 1993, sum_profit = 1255630.9392000001> -> 1, <nation = IRAN, o_year = 1996, sum_profit = 4247711.794399998> -> 1, <nation = IRAQ, o_year = 1996, sum_profit = 2867742.3636000003> -> 1, <nation = PERU, o_year = 1993, sum_profit = 1483256.8842> -> 1, <nation = ARGENTINA, o_year = 1995, sum_profit = 1642866.8516> -> 1, <nation = IRAN, o_year = 1994, sum_profit = 3328476.553399998> -> 1, <nation = IRAQ, o_year = 1995, sum_profit = 2111850.346199999> -> 1, <nation = IRAQ, o_year = 1992, sum_profit = 2501160.7879999992> -> 1, <nation = UNITED KINGDOM, o_year = 1996, sum_profit = 1506323.1003999994> -> 1, <nation = IRAQ, o_year = 1993, sum_profit = 2250890.355600001> -> 1, <nation = IRAN, o_year = 1995, sum_profit = 3201627.9369999995> -> 1, <nation = ARGENTINA, o_year = 1994, sum_profit = 1682303.1093999993> -> 1, <nation = IRAQ, o_year = 1998, sum_profit = 1527687.5272> -> 1, <nation = ETHIOPIA, o_year = 1993, sum_profit = 131003.24009999982> -> 1, <nation = ETHIOPIA, o_year = 1996, sum_profit = 108764.17839999983> -> 1, <nation = UNITED KINGDOM, o_year = 1992, sum_profit = 1299813.6944> -> 1, <nation = UNITED KINGDOM, o_year = 1998, sum_profit = 832640.9911999999> -> 1, <nation = UNITED KINGDOM, o_year = 1994, sum_profit = 1023568.6916> -> 1, <nation = ARGENTINA, o_year = 1992, sum_profit = 1826905.226999999> -> 1, <nation = PERU, o_year = 1997, sum_profit = 1797977.7496000004> -> 1, <nation = ETHIOPIA, o_year = 1994, sum_profit = 124997.74429999985> -> 1, <nation = UNITED KINGDOM, o_year = 1997, sum_profit = 1050517.1134> -> 1, <nation = KENYA, o_year = 1995, sum_profit = 1082219.4230000002> -> 1, <nation = KENYA, o_year = 1996, sum_profit = 1171141.1204999997> -> 1, <nation = IRAN, o_year = 1993, sum_profit = 3500464.5432000016> -> 1, <nation = KENYA, o_year = 1992, sum_profit = 1478980.9288000003> -> 1, <nation = ARGENTINA, o_year = 1996, sum_profit = 1600254.309400001> -> 1, <nation = PERU, o_year = 1995, sum_profit = 1756830.3462000007> -> 1, <nation = UNITED KINGDOM, o_year = 1995, sum_profit = 1169880.0690000001> -> 1, <nation = IRAN, o_year = 1998, sum_profit = 2346427.1484> -> 1, <nation = IRAN, o_year = 1997, sum_profit = 3608563.1882> -> 1, <nation = ETHIOPIA, o_year = 1997, sum_profit = 100366.70249999985> -> 1, <nation = ETHIOPIA, o_year = 1995, sum_profit = 108763.9620999999> -> 1, <nation = ARGENTINA, o_year = 1993, sum_profit = 1708000.1409999996> -> 1, <nation = KENYA, o_year = 1997, sum_profit = 1297319.5731> -> 1, <nation = KENYA, o_year = 1993, sum_profit = 1335882.3124000002> -> 1, <nation = IRAQ, o_year = 1994, sum_profit = 1889430.9706000003> -> 1, <nation = PERU, o_year = 1996, sum_profit = 1734677.4902> -> 1, <nation = ARGENTINA, o_year = 1998, sum_profit = 1034894.3665999998> -> 1, <nation = ETHIOPIA, o_year = 1992, sum_profit = 67830.66109999988> -> 1, <nation = IRAN, o_year = 1992, sum_profit = 2310845.3005999997> -> 1, <nation = KENYA, o_year = 1994, sum_profit = 1268858.1668> -> 1, <nation = ETHIOPIA, o_year = 1998, sum_profit = 76260.36269999991> -> 1, <nation = PERU, o_year = 1994, sum_profit = 1494880.5701999997> -> 1, <nation = PERU, o_year = 1992, sum_profit = 1608645.3540000005> -> 1, <nation = ARGENTINA, o_year = 1997, sum_profit = 1551643.0648> -> 1, <nation = KENYA, o_year = 1998, sum_profit = 825673.1588999998> -> 1, <nation = PERU, o_year = 1998, sum_profit = 891239.0521999998> -> 1, <nation = IRAQ, o_year = 1997, sum_profit = 3115742.3498000004> -> 1}\n",
      "[success] Total time: 698 s (11:38), completed 2022年7月20日 下午12:58:51\n",
      "========================================================\n",
      "pysdql execution time: 702.8024606704712\n"
     ]
    },
    {
     "data": {
      "text/plain": [
       "{<nation = UNITED KINGDOM, o_year = 1993, sum_profit = 1255630.9392000001> -> 1, <nation = IRAN, o_year = 1996, sum_profit = 4247711.794399998> -> 1, <nation = IRAQ, o_year = 1996, sum_profit = 2867742.3636000003> -> 1, <nation = PERU, o_year = 1993, sum_profit = 1483256.8842> -> 1, <nation = ARGENTINA, o_year = 1995, sum_profit = 1642866.8516> -> 1, <nation = IRAN, o_year = 1994, sum_profit = 3328476.553399998> -> 1, <nation = IRAQ, o_year = 1995, sum_profit = 2111850.346199999> -> 1, <nation = IRAQ, o_year = 1992, sum_profit = 2501160.7879999992> -> 1, <nation = UNITED KINGDOM, o_year = 1996, sum_profit = 1506323.1003999994> -> 1, <nation = IRAQ, o_year = 1993, sum_profit = 2250890.355600001> -> 1, <nation = IRAN, o_year = 1995, sum_profit = 3201627.9369999995> -> 1, <nation = ARGENTINA, o_year = 1994, sum_profit = 1682303.1093999993> -> 1, <nation = IRAQ, o_year = 1998, sum_profit = 1527687.5272> -> 1, <nation = ETHIOPIA, o_year = 1993, sum_profit = 131003.24009999982> -> 1, <nation = ETHIOPIA, o_year = 1996, sum_profit = 108764.17839999983> -> 1, <nation = UNITED KINGDOM, o_year = 1992, sum_profit = 1299813.6944> -> 1, <nation = UNITED KINGDOM, o_year = 1998, sum_profit = 832640.9911999999> -> 1, <nation = UNITED KINGDOM, o_year = 1994, sum_profit = 1023568.6916> -> 1, <nation = ARGENTINA, o_year = 1992, sum_profit = 1826905.226999999> -> 1, <nation = PERU, o_year = 1997, sum_profit = 1797977.7496000004> -> 1, <nation = ETHIOPIA, o_year = 1994, sum_profit = 124997.74429999985> -> 1, <nation = UNITED KINGDOM, o_year = 1997, sum_profit = 1050517.1134> -> 1, <nation = KENYA, o_year = 1995, sum_profit = 1082219.4230000002> -> 1, <nation = KENYA, o_year = 1996, sum_profit = 1171141.1204999997> -> 1, <nation = IRAN, o_year = 1993, sum_profit = 3500464.5432000016> -> 1, <nation = KENYA, o_year = 1992, sum_profit = 1478980.9288000003> -> 1, <nation = ARGENTINA, o_year = 1996, sum_profit = 1600254.309400001> -> 1, <nation = PERU, o_year = 1995, sum_profit = 1756830.3462000007> -> 1, <nation = UNITED KINGDOM, o_year = 1995, sum_profit = 1169880.0690000001> -> 1, <nation = IRAN, o_year = 1998, sum_profit = 2346427.1484> -> 1, <nation = IRAN, o_year = 1997, sum_profit = 3608563.1882> -> 1, <nation = ETHIOPIA, o_year = 1997, sum_profit = 100366.70249999985> -> 1, <nation = ETHIOPIA, o_year = 1995, sum_profit = 108763.9620999999> -> 1, <nation = ARGENTINA, o_year = 1993, sum_profit = 1708000.1409999996> -> 1, <nation = KENYA, o_year = 1997, sum_profit = 1297319.5731> -> 1, <nation = KENYA, o_year = 1993, sum_profit = 1335882.3124000002> -> 1, <nation = IRAQ, o_year = 1994, sum_profit = 1889430.9706000003> -> 1, <nation = PERU, o_year = 1996, sum_profit = 1734677.4902> -> 1, <nation = ARGENTINA, o_year = 1998, sum_profit = 1034894.3665999998> -> 1, <nation = ETHIOPIA, o_year = 1992, sum_profit = 67830.66109999988> -> 1, <nation = IRAN, o_year = 1992, sum_profit = 2310845.3005999997> -> 1, <nation = KENYA, o_year = 1994, sum_profit = 1268858.1668> -> 1, <nation = ETHIOPIA, o_year = 1998, sum_profit = 76260.36269999991> -> 1, <nation = PERU, o_year = 1994, sum_profit = 1494880.5701999997> -> 1, <nation = PERU, o_year = 1992, sum_profit = 1608645.3540000005> -> 1, <nation = ARGENTINA, o_year = 1997, sum_profit = 1551643.0648> -> 1, <nation = KENYA, o_year = 1998, sum_profit = 825673.1588999998> -> 1, <nation = PERU, o_year = 1998, sum_profit = 891239.0521999998> -> 1, <nation = IRAQ, o_year = 1997, sum_profit = 3115742.3498000004> -> 1}"
      ]
     },
     "execution_count": 22,
     "metadata": {},
     "output_type": "execute_result"
    }
   ],
   "source": [
    "var1 = 'cornflower'\n",
    "\n",
    "part = pysdql.read_tbl(path=r'T:/UG4-Proj/datasets/part.tbl', header=pysdql.PART_COLS)\n",
    "supplier = pysdql.read_tbl(path=r'T:/UG4-Proj/datasets/supplier.tbl', header=pysdql.SUPPLIER_COLS)\n",
    "lineitem = pysdql.read_tbl(path=r'T:/UG4-Proj/datasets/lineitem.tbl', header=pysdql.LINEITEM_COLS)\n",
    "partsupp = pysdql.read_tbl(path=r'T:/UG4-Proj/datasets/partsupp.tbl', header=pysdql.PARTSUPP_COLS)\n",
    "orders = pysdql.read_tbl(path=r'T:/UG4-Proj/datasets/orders.tbl', header=pysdql.ORDERS_COLS)\n",
    "nation = pysdql.read_tbl(path=r'T:/UG4-Proj/datasets/nation.tbl', header=pysdql.NATION_COLS)\n",
    "\n",
    "# part_p\n",
    "sub_p = part[part['p_name'].startswith(var1)].rename('sub_p')\n",
    "\n",
    "# hash join (part, partsupp)\n",
    "r1 = sub_p.merge(partsupp, on=sub_p['p_partkey'] == partsupp['ps_partkey']).rename('r1')\n",
    "\n",
    "# hash join (supplier, nation)\n",
    "r2 = supplier.merge(nation, on=(supplier['s_nationkey'] == nation['n_nationkey']))\n",
    "\n",
    "# hash join ((supplier, nation), (part, partsupp))\n",
    "r2 = r2.merge(r1, on=(r2['s_suppkey'] == r1['ps_suppkey'])).rename('r2')\n",
    "r = r2.merge(lineitem, on=(r2['s_suppkey'] == lineitem['l_suppkey']) & (r2['ps_suppkey'] == lineitem['l_suppkey']))\n",
    "r = r.merge(orders, on=(r['l_orderkey'] == orders['o_orderkey'])).rename('r')\n",
    "\n",
    "r['nation'] = r['n_name']\n",
    "r['o_year'] = r['o_orderdate'].year\n",
    "r['amount'] = r['l_extendedprice'] * (1 - r['l_discount']) - r['ps_supplycost'] * r['l_quantity']\n",
    "\n",
    "profit = r[['nation', 'o_year', 'amount']].rename('profit')\n",
    "\n",
    "s = profit.groupby(['nation', 'o_year']).aggr(sum_profit=(profit['amount'], 'sum'))\n",
    "\n",
    "pysdql.db_driver(db_path=r'T:/sdql').run(s)"
   ]
  },
  {
   "cell_type": "markdown",
   "metadata": {},
   "source": [
    "# TPCH - 10"
   ]
  },
  {
   "cell_type": "code",
   "execution_count": 9,
   "metadata": {
    "scrolled": false
   },
   "outputs": [
    {
     "name": "stdout",
     "output_type": "stream",
     "text": [
      "========================================================\n",
      "let lineitem = load[{<l_orderkey: int, l_partkey: int, l_suppkey: int, l_linenumber: int, l_quantity: int, l_extendedprice: double, l_discount: double, l_tax: double, l_returnflag: string, l_linestatus: string, l_shipdate: date, l_commitdate: date, l_receiptdate: date, l_shipinstruct: string, l_shipmode: string, l_comment: string> -> int}](\"T:/UG4-Proj/datasets/lineitem.tbl\")\n",
      "let lmp = sum (<lin_k, lin_v> in lineitem) if ((lin_k.l_returnflag == \"R\")) then { lin_k -> 1 } else {  }\n",
      "let part_l = lmp\n",
      "let nation = load[{<n_nationkey: int, n_name: string, n_regionkey: int, n_comment: string> -> int}](\"T:/UG4-Proj/datasets/nation.tbl\")\n",
      "let orders = load[{<o_orderkey: int, o_custkey: int, o_orderstatus: string, o_totalprice: double, o_orderdate: date, o_orderpriority: string, o_clerk: string, o_shippriority: int, o_comment: string> -> int}](\"T:/UG4-Proj/datasets/orders.tbl\")\n",
      "let omp = sum (<ord_k, ord_v> in orders) if (((date(19930801) <= ord_k.o_orderdate) && (ord_k.o_orderdate < date(19931101)))) then { ord_k -> 1 } else {  }\n",
      "let part_o = omp\n",
      "let customer = load[{<c_custkey: int, c_name: string, c_address: string, c_nationkey: int, c_phone: string, c_acctbal: double, c_mktsegment: string, c_comment: string> -> int}](\"T:/UG4-Proj/datasets/customer.tbl\")\n",
      "let Rm0 = sum (<cus_k, cus_v> in customer) sum (<po_k, po_v> in part_o) if ((cus_k.c_custkey == po_k.o_custkey)) then { concat(cus_k, po_k) -> cus_v * po_v } else {  }\n",
      "let Rm1 = sum (<r0_k, r0_v> in Rm0) sum (<nat_k, nat_v> in nation) if ((r0_k.c_nationkey == nat_k.n_nationkey)) then { concat(r0_k, nat_k) -> r0_v * nat_v } else {  }\n",
      "let Rm2 = sum (<r1_k, r1_v> in Rm1) sum (<pl_k, pl_v> in part_l) if ((r1_k.o_custkey == pl_k.l_orderkey)) then { concat(r1_k, pl_k) -> r1_v * pl_v } else {  }\n",
      "let tmp = sum (<r2_k, r2_v> in Rm2) { < c_custkey=r2_k.c_custkey, c_name=r2_k.c_name, c_acctbal=r2_k.c_acctbal, c_phone=r2_k.c_phone, n_name=r2_k.n_name, c_address=r2_k.c_address, c_comment=r2_k.c_comment > -> { r2_k -> r2_v } }\n",
      "let rmp = sum (<t_k, t_v> in tmp) { < c_custkey=t_k.c_custkey, c_name=t_k.c_name, c_acctbal=t_k.c_acctbal, c_phone=t_k.c_phone, n_name=t_k.n_name, c_address=t_k.c_address, c_comment=t_k.c_comment, group=t_v > -> 1 }\n",
      "let tmpa = sum (<r_k, r_v> in rmp) sum (<g_k, g_v> in r_k.group) { < c_custkey=r_k.c_custkey, c_name=r_k.c_name, c_acctbal=r_k.c_acctbal, c_phone=r_k.c_phone, n_name=r_k.n_name, c_address=r_k.c_address, c_comment=r_k.c_comment > -> < revenue=(g_k.l_extendedprice * (1 - g_k.l_discount)) * g_v > }\n",
      "let aggr_Rm2 = sum (<ta_k, ta_v> in tmpa) { < c_custkey=ta_k.c_custkey, c_name=ta_k.c_name, c_acctbal=ta_k.c_acctbal, c_phone=ta_k.c_phone, n_name=ta_k.n_name, c_address=ta_k.c_address, c_comment=ta_k.c_comment, revenue=ta_v.revenue > -> 1 }\n",
      "aggr_Rm2\n",
      "========================================================\n",
      "[info] welcome to sbt 1.6.0 (Oracle Corporation Java 17)\n",
      "[info] loading project definition from T:\\sdql\\project\n",
      "[info] loading settings for project sdql from build.sbt ...\n",
      "[info] set current project to sdql (in build file:/T:/sdql/)\n",
      "[info]\n",
      "[info] Here are some highlights of this release:\n",
      "[info]   - Improved JDK 17 support\n",
      "[info]   - Improved Build Server Protocol (BSP) support\n",
      "[info]   - Tab completion of global keys\n",
      "[info] See https://eed3si9n.com/sbt-1.6.0 for full release notes.\n",
      "[info] Hide the banner for this release by running `skipBanner`.\n",
      "[error] server failed to start on local:sbt-server-ec9dcaf7bfc5935dead3. java.io.IOException: Could not create lock for \\\\.\\pipe\\sbt-server-ec9dcaf7bfc5935dead3_lock, error 5\n",
      "\u001b[?2004h>....[info] running sdql.driver.Main interpret T:/UG4-Proj/sdql_scripts/q.sdql\n",
      "{<c_custkey = 97, c_name = Customer#000000097, c_acctbal = 2164.48, c_phone = 27-588-919-5638, n_name = PERU, c_address = OApyejbhJG,0Iw3j rd1M, c_comment = haggle slyly. bold, special ideas are blithely above the thinly bold theo\n",
      ", revenue = 61459.7804> -> 1, <c_custkey = 70, c_name = Customer#000000070, c_acctbal = 4867.52, c_phone = 32-828-107-2832, n_name = RUSSIA, c_address = mFowIuhnHjp2GjCiYYavkW kUwOjIaTCQ, c_comment = fter the special asymptotes. ideas after the unusual frets cajole quickly regular pinto be\n",
      ", revenue = 40120.1103> -> 1, <c_custkey = 131, c_name = Customer#000000131, c_acctbal = 8595.53, c_phone = 21-840-210-3572, n_name = IRAQ, c_address = jyN6lAjb1FtH10rMC,XzlWyCBrg75, c_comment = jole special packages. furiously final dependencies about the furiously speci\n",
      ", revenue = 43260.479999999996> -> 1, <c_custkey = 64, c_name = Customer#000000064, c_acctbal = -646.64, c_phone = 13-558-731-7204, n_name = CANADA, c_address = MbCeGY20kaKK3oalJD,OT, c_comment = structions after the quietly ironic theodolites cajole be\n",
      ", revenue = 19672.296> -> 1}\n",
      "[success] Total time: 9 s, completed 2022年7月20日 下午12:41:50\n",
      "========================================================\n",
      "pysdql execution time: 14.54463791847229\n"
     ]
    },
    {
     "data": {
      "text/plain": [
       "{<c_custkey = 97, c_name = Customer#000000097, c_acctbal = 2164.48, c_phone = 27-588-919-5638, n_name = PERU, c_address = OApyejbhJG,0Iw3j rd1M, c_comment = haggle slyly. bold, special ideas are blithely above the thinly bold theo, revenue = 61459.7804> -> 1, <c_custkey = 70, c_name = Customer#000000070, c_acctbal = 4867.52, c_phone = 32-828-107-2832, n_name = RUSSIA, c_address = mFowIuhnHjp2GjCiYYavkW kUwOjIaTCQ, c_comment = fter the special asymptotes. ideas after the unusual frets cajole quickly regular pinto be, revenue = 40120.1103> -> 1, <c_custkey = 131, c_name = Customer#000000131, c_acctbal = 8595.53, c_phone = 21-840-210-3572, n_name = IRAQ, c_address = jyN6lAjb1FtH10rMC,XzlWyCBrg75, c_comment = jole special packages. furiously final dependencies about the furiously speci, revenue = 43260.479999999996> -> 1, <c_custkey = 64, c_name = Customer#000000064, c_acctbal = -646.64, c_phone = 13-558-731-7204, n_name = CANADA, c_address = MbCeGY20kaKK3oalJD,OT, c_comment = structions after the quietly ironic theodolites cajole be, revenue = 19672.296> -> 1}"
      ]
     },
     "execution_count": 9,
     "metadata": {},
     "output_type": "execute_result"
    }
   ],
   "source": [
    "var1 = '1993-08-01'\n",
    "var2 = '1993-11-01'  # var1 + 3 month\n",
    "\n",
    "db_driver = pysdql.db_driver(db_path=r'T:/sdql')\n",
    "\n",
    "customer = pysdql.read_tbl(path=r'T:/UG4-Proj/datasets/customer.tbl', header=pysdql.CUSTOMER_COLS)\n",
    "orders = pysdql.read_tbl(path=r'T:/UG4-Proj/datasets/orders.tbl', header=pysdql.ORDERS_COLS)\n",
    "lineitem = pysdql.read_tbl(path=r'T:/UG4-Proj/datasets/lineitem.tbl', header=pysdql.LINEITEM_COLS)\n",
    "nation = pysdql.read_tbl(path=r'T:/UG4-Proj/datasets/nation.tbl', header=pysdql.NATION_COLS)\n",
    "\n",
    "part_o = orders[(orders['o_orderdate'] >= var1) & (orders['o_orderdate'] < var2)].rename('part_o')\n",
    "\n",
    "r = customer.merge(part_o, on=customer['c_custkey'] == part_o['o_custkey'])\n",
    "\n",
    "r = r.merge(nation, on=r['c_nationkey'] == nation['n_nationkey'])\n",
    "\n",
    "part_l = lineitem[lineitem['l_returnflag'] == 'R'].rename('part_l')\n",
    "\n",
    "r = r.merge(part_l, on=r['o_custkey'] == part_l['l_orderkey'])\n",
    "\n",
    "r = r.groupby(['c_custkey', 'c_name', 'c_acctbal', 'c_phone', 'n_name', 'c_address', 'c_comment'])\\\n",
    "    .aggr(revenue=((r['l_extendedprice'] * (1 - r['l_discount'])), 'sum'))\n",
    "db_driver.run(r)"
   ]
  },
  {
   "cell_type": "markdown",
   "metadata": {},
   "source": [
    "# TPCH - 11"
   ]
  },
  {
   "cell_type": "code",
   "execution_count": 10,
   "metadata": {
    "scrolled": false
   },
   "outputs": [
    {
     "name": "stdout",
     "output_type": "stream",
     "text": [
      "========================================================\n",
      "let partsupp = load[{<ps_partkey: int, ps_suppkey: int, ps_availqty: int, ps_supplycost: double, ps_comment: string> -> int}](\"T:/UG4-Proj/datasets/partsupp.tbl\")\n",
      "let supplier = load[{<s_suppkey: int, s_name: string, s_address: string, s_nationkey: int, s_phone: string, s_acctbal: double, s_comment: string> -> int}](\"T:/UG4-Proj/datasets/supplier.tbl\")\n",
      "let nation = load[{<n_nationkey: int, n_name: string, n_regionkey: int, n_comment: string> -> int}](\"T:/UG4-Proj/datasets/nation.tbl\")\n",
      "let nmp = sum (<nat_k, nat_v> in nation) if ((nat_k.n_name == \"PERU\")) then { nat_k -> 1 } else {  }\n",
      "let sub_n = nmp\n",
      "let Rm0 = sum (<sn_k, sn_v> in sub_n) sum (<sup_k, sup_v> in supplier) if ((sn_k.n_nationkey == sup_k.s_nationkey)) then { concat(sn_k, sup_k) -> sn_v * sup_v } else {  }\n",
      "let join_ns = Rm0\n",
      "let Rm1 = sum (<jn_k, jn_v> in join_ns) sum (<psup_k, psup_v> in partsupp) if ((jn_k.s_suppkey == psup_k.ps_suppkey)) then { concat(jn_k, psup_k) -> jn_v * psup_v } else {  }\n",
      "let r1 = Rm1\n",
      "let agg_val = sum (<r1_k, r1_v> in r1) r1_v\n",
      "let supplier = load[{<s_suppkey: int, s_name: string, s_address: string, s_nationkey: int, s_phone: string, s_acctbal: double, s_comment: string> -> int}](\"T:/UG4-Proj/datasets/supplier.tbl\")\n",
      "let nmp = sum (<nat_k, nat_v> in nation) if ((nat_k.n_name == \"PERU\")) then { nat_k -> 1 } else {  }\n",
      "let Rm0 = sum (<sn_k, sn_v> in sub_n) sum (<sup_k, sup_v> in supplier) if ((sn_k.n_nationkey == sup_k.s_nationkey)) then { concat(sn_k, sup_k) -> sn_v * sup_v } else {  }\n",
      "let Rm1 = sum (<jn_k, jn_v> in join_ns) sum (<psup_k, psup_v> in partsupp) if ((jn_k.s_suppkey == psup_k.ps_suppkey)) then { concat(jn_k, psup_k) -> jn_v * psup_v } else {  }\n",
      "let agg_val = sum (<r1_k, r1_v> in r1) r1_v\n",
      "let tmp = sum (<r1_k, r1_v> in r1) { < ps_partkey=r1_k.ps_partkey > -> { r1_k -> r1_v } }\n",
      "let rmp = sum (<t_k, t_v> in tmp) { < ps_partkey=t_k.ps_partkey, group=t_v > -> 1 }\n",
      "let hvmp = sum (<r_k, r_v> in rmp) sum (<g_k, g_v> in r_k.group) { < ps_partkey=r_k.ps_partkey > -> < val=((g_k.ps_supplycost * g_k.ps_availqty) * g_v) > }\n",
      "let hvR = sum (<hv_k, hv_v> in hvmp) if ((agg_val < hv_v.val)) then { < ps_partkey=hv_k.ps_partkey > -> 1 } else {  }\n",
      "let fhr1 = sum (<r1_k, r1_v> in r1) sum (<h_k, h_v> in hvR) if ((h_k.ps_partkey == r1_k.ps_partkey)) then { r1_k -> 1 } else {  }\n",
      "let tmpa = sum (<f1_k, f1_v> in fhr1) { < ps_partkey=f1_k.ps_partkey > -> { f1_k -> f1_v } }\n",
      "let fmp = sum (<ta_k, ta_v> in tmpa) { < ps_partkey=ta_k.ps_partkey, group=ta_v > -> 1 }\n",
      "let tmpb = sum (<f_k, f_v> in fmp) sum (<g_k, g_v> in f_k.group) { < ps_partkey=f_k.ps_partkey > -> < value=(g_k.ps_supplycost * g_k.ps_availqty) * g_v > }\n",
      "let aggr_fhr1 = sum (<tb_k, tb_v> in tmpb) { < ps_partkey=tb_k.ps_partkey, value=tb_v.value > -> 1 }\n",
      "aggr_fhr1\n",
      "========================================================\n",
      "[info] welcome to sbt 1.6.0 (Oracle Corporation Java 17)\n",
      "[info] loading project definition from T:\\sdql\\project\n",
      "[info] loading settings for project sdql from build.sbt ...\n",
      "[info] set current project to sdql (in build file:/T:/sdql/)\n",
      "[info]\n",
      "[info] Here are some highlights of this release:\n",
      "[info]   - Improved JDK 17 support\n",
      "[info]   - Improved Build Server Protocol (BSP) support\n",
      "[info]   - Tab completion of global keys\n",
      "[info] See https://eed3si9n.com/sbt-1.6.0 for full release notes.\n",
      "[info] Hide the banner for this release by running `skipBanner`.\n",
      "[error] server failed to start on local:sbt-server-ec9dcaf7bfc5935dead3. java.io.IOException: Could not create lock for \\\\.\\pipe\\sbt-server-ec9dcaf7bfc5935dead3_lock, error 5\n",
      "\u001b[?2004h>....[info] running sdql.driver.Main interpret T:/UG4-Proj/sdql_scripts/q.sdql\n",
      "{<ps_partkey = 97, value = 4314022.47> -> 1, <ps_partkey = 164, value = 2643604.15> -> 1, <ps_partkey = 171, value = 1998922.56> -> 1, <ps_partkey = 72, value = 2023966.94> -> 1, <ps_partkey = 62, value = 2056642.72> -> 1, <ps_partkey = 44, value = 607304.7000000001> -> 1, <ps_partkey = 141, value = 231038.80000000002> -> 1, <ps_partkey = 17, value = 1.3534598E7> -> 1, <ps_partkey = 170, value = 4371681.399999999> -> 1, <ps_partkey = 50, value = 1036069.2799999999> -> 1, <ps_partkey = 122, value = 3226213.8800000004> -> 1, <ps_partkey = 135, value = 873132.22> -> 1, <ps_partkey = 166, value = 4239796.54> -> 1, <ps_partkey = 40, value = 7662503.61> -> 1, <ps_partkey = 150, value = 4245428.61> -> 1, <ps_partkey = 148, value = 1424237.3699999999> -> 1, <ps_partkey = 194, value = 626466.0> -> 1, <ps_partkey = 179, value = 751076.4999999999> -> 1, <ps_partkey = 94, value = 2687324.8800000004> -> 1, <ps_partkey = 42, value = 107882.52> -> 1, <ps_partkey = 56, value = 5440869.45> -> 1, <ps_partkey = 140, value = 1205933.31> -> 1, <ps_partkey = 11, value = 4552359.66> -> 1, <ps_partkey = 199, value = 381417.48000000004> -> 1, <ps_partkey = 132, value = 3634867.0999999996> -> 1, <ps_partkey = 163, value = 5548992.48> -> 1, <ps_partkey = 35, value = 5604884.25> -> 1, <ps_partkey = 10, value = 2940546.24> -> 1, <ps_partkey = 101, value = 33664.950000000004> -> 1, <ps_partkey = 1, value = 1456050.96> -> 1, <ps_partkey = 57, value = 365882.92> -> 1, <ps_partkey = 103, value = 1866682.7200000002> -> 1, <ps_partkey = 178, value = 695176.94> -> 1, <ps_partkey = 145, value = 567974.4> -> 1, <ps_partkey = 53, value = 6179193.36> -> 1, <ps_partkey = 144, value = 419880.24> -> 1, <ps_partkey = 180, value = 6187728.92> -> 1, <ps_partkey = 200, value = 2422399.1999999997> -> 1, <ps_partkey = 23, value = 591863.07> -> 1, <ps_partkey = 64, value = 5490141.5> -> 1, <ps_partkey = 142, value = 3295040.64> -> 1, <ps_partkey = 172, value = 1571479.54> -> 1, <ps_partkey = 90, value = 1.373279748E7> -> 1, <ps_partkey = 4, value = 1102037.6> -> 1, <ps_partkey = 87, value = 1.168637671E7> -> 1, <ps_partkey = 167, value = 3288831.1> -> 1, <ps_partkey = 157, value = 2000148.16> -> 1, <ps_partkey = 18, value = 2501227.75> -> 1, <ps_partkey = 60, value = 6897784.01> -> 1, <ps_partkey = 59, value = 372372.0> -> 1, <ps_partkey = 108, value = 1182720.06> -> 1, <ps_partkey = 128, value = 6150602.9399999995> -> 1, <ps_partkey = 47, value = 2044422.2799999998> -> 1, <ps_partkey = 49, value = 485134.14> -> 1, <ps_partkey = 114, value = 3429966.9699999997> -> 1, <ps_partkey = 8, value = 379106.64> -> 1, <ps_partkey = 73, value = 1215990.96> -> 1, <ps_partkey = 96, value = 2823364.5999999996> -> 1, <ps_partkey = 107, value = 1218049.47> -> 1, <ps_partkey = 95, value = 362309.74> -> 1, <ps_partkey = 159, value = 2939663.79> -> 1, <ps_partkey = 3, value = 2528031.8> -> 1, <ps_partkey = 137, value = 2911222.77> -> 1, <ps_partkey = 20, value = 1977305.5799999998> -> 1, <ps_partkey = 147, value = 6989079.88> -> 1, <ps_partkey = 22, value = 2813659.4400000004> -> 1, <ps_partkey = 156, value = 800339.55> -> 1, <ps_partkey = 161, value = 6663701.13> -> 1, <ps_partkey = 63, value = 2932839.25> -> 1, <ps_partkey = 98, value = 478577.0> -> 1, <ps_partkey = 80, value = 4350491.149999999> -> 1, <ps_partkey = 32, value = 6846704.2> -> 1, <ps_partkey = 190, value = 7017966.9> -> 1, <ps_partkey = 129, value = 1751796.41> -> 1, <ps_partkey = 149, value = 1281966.48> -> 1, <ps_partkey = 41, value = 2329702.2600000002> -> 1, <ps_partkey = 169, value = 6239980.67> -> 1, <ps_partkey = 195, value = 32723.02> -> 1, <ps_partkey = 100, value = 3868459.85> -> 1, <ps_partkey = 104, value = 2457281.22> -> 1, <ps_partkey = 99, value = 3760269.31> -> 1, <ps_partkey = 61, value = 3017869.88> -> 1, <ps_partkey = 196, value = 2429515.15> -> 1, <ps_partkey = 187, value = 1.214970141E7> -> 1, <ps_partkey = 78, value = 4182608.58> -> 1, <ps_partkey = 69, value = 6970845.15> -> 1, <ps_partkey = 28, value = 6657301.64> -> 1, <ps_partkey = 110, value = 1575891.7200000002> -> 1, <ps_partkey = 153, value = 7755681.279999999> -> 1, <ps_partkey = 160, value = 9603044.139999999> -> 1, <ps_partkey = 125, value = 4473736.359999999> -> 1, <ps_partkey = 106, value = 437974.39999999997> -> 1, <ps_partkey = 198, value = 1403881.3> -> 1, <ps_partkey = 67, value = 3040109.5100000002> -> 1, <ps_partkey = 5, value = 487669.56000000006> -> 1, <ps_partkey = 197, value = 1.532715414E7> -> 1, <ps_partkey = 7, value = 5694706.92> -> 1, <ps_partkey = 70, value = 1579752.72> -> 1, <ps_partkey = 126, value = 461263.74> -> 1, <ps_partkey = 127, value = 5455023.140000001> -> 1, <ps_partkey = 6, value = 2142145.68> -> 1, <ps_partkey = 130, value = 1100816.64> -> 1, <ps_partkey = 111, value = 7093041.7700000005> -> 1, <ps_partkey = 118, value = 4834899.05> -> 1, <ps_partkey = 123, value = 4612955.220000001> -> 1, <ps_partkey = 29, value = 6751706.920000001> -> 1, <ps_partkey = 117, value = 4812298.94> -> 1, <ps_partkey = 120, value = 1001220.9600000001> -> 1, <ps_partkey = 25, value = 5479970.600000001> -> 1, <ps_partkey = 45, value = 3019876.3000000003> -> 1, <ps_partkey = 37, value = 6027604.5200000005> -> 1, <ps_partkey = 177, value = 55445.25> -> 1, <ps_partkey = 66, value = 235991.91999999998> -> 1, <ps_partkey = 71, value = 1995378.53> -> 1, <ps_partkey = 79, value = 2912681.07> -> 1, <ps_partkey = 30, value = 4714801.35> -> 1, <ps_partkey = 173, value = 5409250.08> -> 1, <ps_partkey = 105, value = 42668.78> -> 1, <ps_partkey = 14, value = 8028694.640000001> -> 1, <ps_partkey = 162, value = 271336.8> -> 1, <ps_partkey = 48, value = 3717809.16> -> 1, <ps_partkey = 26, value = 5867999.4> -> 1, <ps_partkey = 77, value = 140715.84> -> 1, <ps_partkey = 27, value = 937305.11> -> 1}\n",
      "[success] Total time: 2 s, completed 2022年7月20日 下午12:41:57\n",
      "========================================================\n",
      "pysdql execution time: 6.652003049850464\n"
     ]
    },
    {
     "data": {
      "text/plain": [
       "{<ps_partkey = 97, value = 4314022.47> -> 1, <ps_partkey = 164, value = 2643604.15> -> 1, <ps_partkey = 171, value = 1998922.56> -> 1, <ps_partkey = 72, value = 2023966.94> -> 1, <ps_partkey = 62, value = 2056642.72> -> 1, <ps_partkey = 44, value = 607304.7000000001> -> 1, <ps_partkey = 141, value = 231038.80000000002> -> 1, <ps_partkey = 17, value = 1.3534598E7> -> 1, <ps_partkey = 170, value = 4371681.399999999> -> 1, <ps_partkey = 50, value = 1036069.2799999999> -> 1, <ps_partkey = 122, value = 3226213.8800000004> -> 1, <ps_partkey = 135, value = 873132.22> -> 1, <ps_partkey = 166, value = 4239796.54> -> 1, <ps_partkey = 40, value = 7662503.61> -> 1, <ps_partkey = 150, value = 4245428.61> -> 1, <ps_partkey = 148, value = 1424237.3699999999> -> 1, <ps_partkey = 194, value = 626466.0> -> 1, <ps_partkey = 179, value = 751076.4999999999> -> 1, <ps_partkey = 94, value = 2687324.8800000004> -> 1, <ps_partkey = 42, value = 107882.52> -> 1, <ps_partkey = 56, value = 5440869.45> -> 1, <ps_partkey = 140, value = 1205933.31> -> 1, <ps_partkey = 11, value = 4552359.66> -> 1, <ps_partkey = 199, value = 381417.48000000004> -> 1, <ps_partkey = 132, value = 3634867.0999999996> -> 1, <ps_partkey = 163, value = 5548992.48> -> 1, <ps_partkey = 35, value = 5604884.25> -> 1, <ps_partkey = 10, value = 2940546.24> -> 1, <ps_partkey = 101, value = 33664.950000000004> -> 1, <ps_partkey = 1, value = 1456050.96> -> 1, <ps_partkey = 57, value = 365882.92> -> 1, <ps_partkey = 103, value = 1866682.7200000002> -> 1, <ps_partkey = 178, value = 695176.94> -> 1, <ps_partkey = 145, value = 567974.4> -> 1, <ps_partkey = 53, value = 6179193.36> -> 1, <ps_partkey = 144, value = 419880.24> -> 1, <ps_partkey = 180, value = 6187728.92> -> 1, <ps_partkey = 200, value = 2422399.1999999997> -> 1, <ps_partkey = 23, value = 591863.07> -> 1, <ps_partkey = 64, value = 5490141.5> -> 1, <ps_partkey = 142, value = 3295040.64> -> 1, <ps_partkey = 172, value = 1571479.54> -> 1, <ps_partkey = 90, value = 1.373279748E7> -> 1, <ps_partkey = 4, value = 1102037.6> -> 1, <ps_partkey = 87, value = 1.168637671E7> -> 1, <ps_partkey = 167, value = 3288831.1> -> 1, <ps_partkey = 157, value = 2000148.16> -> 1, <ps_partkey = 18, value = 2501227.75> -> 1, <ps_partkey = 60, value = 6897784.01> -> 1, <ps_partkey = 59, value = 372372.0> -> 1, <ps_partkey = 108, value = 1182720.06> -> 1, <ps_partkey = 128, value = 6150602.9399999995> -> 1, <ps_partkey = 47, value = 2044422.2799999998> -> 1, <ps_partkey = 49, value = 485134.14> -> 1, <ps_partkey = 114, value = 3429966.9699999997> -> 1, <ps_partkey = 8, value = 379106.64> -> 1, <ps_partkey = 73, value = 1215990.96> -> 1, <ps_partkey = 96, value = 2823364.5999999996> -> 1, <ps_partkey = 107, value = 1218049.47> -> 1, <ps_partkey = 95, value = 362309.74> -> 1, <ps_partkey = 159, value = 2939663.79> -> 1, <ps_partkey = 3, value = 2528031.8> -> 1, <ps_partkey = 137, value = 2911222.77> -> 1, <ps_partkey = 20, value = 1977305.5799999998> -> 1, <ps_partkey = 147, value = 6989079.88> -> 1, <ps_partkey = 22, value = 2813659.4400000004> -> 1, <ps_partkey = 156, value = 800339.55> -> 1, <ps_partkey = 161, value = 6663701.13> -> 1, <ps_partkey = 63, value = 2932839.25> -> 1, <ps_partkey = 98, value = 478577.0> -> 1, <ps_partkey = 80, value = 4350491.149999999> -> 1, <ps_partkey = 32, value = 6846704.2> -> 1, <ps_partkey = 190, value = 7017966.9> -> 1, <ps_partkey = 129, value = 1751796.41> -> 1, <ps_partkey = 149, value = 1281966.48> -> 1, <ps_partkey = 41, value = 2329702.2600000002> -> 1, <ps_partkey = 169, value = 6239980.67> -> 1, <ps_partkey = 195, value = 32723.02> -> 1, <ps_partkey = 100, value = 3868459.85> -> 1, <ps_partkey = 104, value = 2457281.22> -> 1, <ps_partkey = 99, value = 3760269.31> -> 1, <ps_partkey = 61, value = 3017869.88> -> 1, <ps_partkey = 196, value = 2429515.15> -> 1, <ps_partkey = 187, value = 1.214970141E7> -> 1, <ps_partkey = 78, value = 4182608.58> -> 1, <ps_partkey = 69, value = 6970845.15> -> 1, <ps_partkey = 28, value = 6657301.64> -> 1, <ps_partkey = 110, value = 1575891.7200000002> -> 1, <ps_partkey = 153, value = 7755681.279999999> -> 1, <ps_partkey = 160, value = 9603044.139999999> -> 1, <ps_partkey = 125, value = 4473736.359999999> -> 1, <ps_partkey = 106, value = 437974.39999999997> -> 1, <ps_partkey = 198, value = 1403881.3> -> 1, <ps_partkey = 67, value = 3040109.5100000002> -> 1, <ps_partkey = 5, value = 487669.56000000006> -> 1, <ps_partkey = 197, value = 1.532715414E7> -> 1, <ps_partkey = 7, value = 5694706.92> -> 1, <ps_partkey = 70, value = 1579752.72> -> 1, <ps_partkey = 126, value = 461263.74> -> 1, <ps_partkey = 127, value = 5455023.140000001> -> 1, <ps_partkey = 6, value = 2142145.68> -> 1, <ps_partkey = 130, value = 1100816.64> -> 1, <ps_partkey = 111, value = 7093041.7700000005> -> 1, <ps_partkey = 118, value = 4834899.05> -> 1, <ps_partkey = 123, value = 4612955.220000001> -> 1, <ps_partkey = 29, value = 6751706.920000001> -> 1, <ps_partkey = 117, value = 4812298.94> -> 1, <ps_partkey = 120, value = 1001220.9600000001> -> 1, <ps_partkey = 25, value = 5479970.600000001> -> 1, <ps_partkey = 45, value = 3019876.3000000003> -> 1, <ps_partkey = 37, value = 6027604.5200000005> -> 1, <ps_partkey = 177, value = 55445.25> -> 1, <ps_partkey = 66, value = 235991.91999999998> -> 1, <ps_partkey = 71, value = 1995378.53> -> 1, <ps_partkey = 79, value = 2912681.07> -> 1, <ps_partkey = 30, value = 4714801.35> -> 1, <ps_partkey = 173, value = 5409250.08> -> 1, <ps_partkey = 105, value = 42668.78> -> 1, <ps_partkey = 14, value = 8028694.640000001> -> 1, <ps_partkey = 162, value = 271336.8> -> 1, <ps_partkey = 48, value = 3717809.16> -> 1, <ps_partkey = 26, value = 5867999.4> -> 1, <ps_partkey = 77, value = 140715.84> -> 1, <ps_partkey = 27, value = 937305.11> -> 1}"
      ]
     },
     "execution_count": 10,
     "metadata": {},
     "output_type": "execute_result"
    }
   ],
   "source": [
    "var1 = 'PERU'\n",
    "var2 = 0.0001\n",
    "\n",
    "db_driver = pysdql.db_driver(db_path=r'T:/sdql')\n",
    "\n",
    "partsupp = pysdql.read_tbl(path=r'T:/UG4-Proj/datasets/partsupp.tbl', header=pysdql.PARTSUPP_COLS)\n",
    "supplier = pysdql.read_tbl(path=r'T:/UG4-Proj/datasets/supplier.tbl', header=pysdql.SUPPLIER_COLS)\n",
    "nation = pysdql.read_tbl(path=r'T:/UG4-Proj/datasets/nation.tbl', header=pysdql.NATION_COLS)\n",
    "\n",
    "sub_n = nation[(nation['n_name'] == var1)].rename('sub_n')\n",
    "\n",
    "join_ns = sub_n.merge(supplier, on=(sub_n['n_nationkey'] == supplier['s_nationkey'])).rename('join_ns')\n",
    "r1 = join_ns.merge(partsupp, join_ns['s_suppkey'] == partsupp['ps_suppkey']).rename('r1')\n",
    "\n",
    "agg_val = (r1['ps_supplycost'] * r1['ps_availqty'] * 1).sum()\n",
    "\n",
    "# GOURPBY HAVING\n",
    "r = r1.groupby(['ps_partkey']).filter(lambda x: (x['ps_supplycost'] * x['ps_availqty']).sum() > agg_val)\n",
    "\n",
    "# SELECT GROUPBY AGGREGATION\n",
    "r = r.groupby(['ps_partkey']).aggr(value=(r['ps_supplycost'] * r['ps_availqty'], 'sum'))\n",
    "\n",
    "db_driver.run(r)"
   ]
  },
  {
   "cell_type": "markdown",
   "metadata": {},
   "source": [
    "# TPCH - 12"
   ]
  },
  {
   "cell_type": "code",
   "execution_count": 11,
   "metadata": {
    "pycharm": {
     "name": "#%%\n"
    }
   },
   "outputs": [
    {
     "name": "stdout",
     "output_type": "stream",
     "text": [
      "========================================================\n",
      "let lineitem = load[{<l_orderkey: int, l_partkey: int, l_suppkey: int, l_linenumber: int, l_quantity: int, l_extendedprice: double, l_discount: double, l_tax: double, l_returnflag: string, l_linestatus: string, l_shipdate: date, l_commitdate: date, l_receiptdate: date, l_shipinstruct: string, l_shipmode: string, l_comment: string> -> int}](\"T:/UG4-Proj/datasets/lineitem.tbl\")\n",
      "let lmp = sum (<lin_k, lin_v> in lineitem) if (((((((lin_k.l_shipmode == \"AIR\") || (lin_k.l_shipmode == \"FOB\")) && (lin_k.l_commitdate < lin_k.l_receiptdate)) && (lin_k.l_shipdate < lin_k.l_commitdate)) && (date(19950101) <= lin_k.l_receiptdate)) && (lin_k.l_receiptdate < date(19960101)))) then { lin_k -> 1 } else {  }\n",
      "let sub_l = lmp\n",
      "let orders = load[{<o_orderkey: int, o_custkey: int, o_orderstatus: string, o_totalprice: double, o_orderdate: date, o_orderpriority: string, o_clerk: string, o_shippriority: int, o_comment: string> -> int}](\"T:/UG4-Proj/datasets/orders.tbl\")\n",
      "let Rm0 = sum (<ord_k, ord_v> in orders) sum (<sl_k, sl_v> in sub_l) if ((ord_k.o_orderkey == sl_k.l_orderkey)) then { concat(ord_k, sl_k) -> ord_v * sl_v } else {  }\n",
      "let rmp = sum (<r0_k, r0_v> in Rm0) if (((r0_k.o_orderpriority == \"1-URGENT\") || (r0_k.o_orderpriority == \"2-HIGH\"))) then { concat(r0_k, < high_line_priority=1 >) -> 1 } else { concat(r0_k, < high_line_priority=0 >) -> 1 }\n",
      "let tmp = sum (<r_k, r_v> in rmp) if (((r_k.o_orderpriority != \"1-URGENT\") || (r_k.o_orderpriority != \"2-HIGH\"))) then { concat(r_k, < low_line_priority=1 >) -> 1 } else { concat(r_k, < low_line_priority=0 >) -> 1 }\n",
      "let tmpb = sum (<t_k, t_v> in tmp) { < l_shipmode=t_k.l_shipmode > -> { t_k -> t_v } }\n",
      "let tmpa = sum (<tb_k, tb_v> in tmpb) { < l_shipmode=tb_k.l_shipmode, group=tb_v > -> 1 }\n",
      "let tmpc = sum (<ta_k, ta_v> in tmpa) sum (<g_k, g_v> in ta_k.group) { < l_shipmode=ta_k.l_shipmode > -> < high_line_count=g_k.high_line_priority * g_v, low_line_count=g_k.low_line_priority * g_v > }\n",
      "let aggr_tmp = sum (<tc_k, tc_v> in tmpc) { < l_shipmode=tc_k.l_shipmode, high_line_count=tc_v.high_line_count, low_line_count=tc_v.low_line_count > -> 1 }\n",
      "aggr_tmp\n",
      "========================================================\n",
      "[info] welcome to sbt 1.6.0 (Oracle Corporation Java 17)\n",
      "[info] loading project definition from T:\\sdql\\project\n",
      "[info] loading settings for project sdql from build.sbt ...\n",
      "[info] set current project to sdql (in build file:/T:/sdql/)\n",
      "[info]\n",
      "[info] Here are some highlights of this release:\n",
      "[info]   - Improved JDK 17 support\n",
      "[info]   - Improved Build Server Protocol (BSP) support\n",
      "[info]   - Tab completion of global keys\n",
      "[info] See https://eed3si9n.com/sbt-1.6.0 for full release notes.\n",
      "[info] Hide the banner for this release by running `skipBanner`.\n",
      "[error] server failed to start on local:sbt-server-ec9dcaf7bfc5935dead3. java.io.IOException: Could not create lock for \\\\.\\pipe\\sbt-server-ec9dcaf7bfc5935dead3_lock, error 5\n",
      "\u001b[?2004h>....[info] running sdql.driver.Main interpret T:/UG4-Proj/sdql_scripts/q.sdql\n",
      "{<l_shipmode = FOB, high_line_count = 6, low_line_count = 12> -> 1, <l_shipmode = AIR, high_line_count = 8, low_line_count = 13> -> 1}\n",
      "[success] Total time: 2 s, completed 2022年7月20日 下午12:42:04\n",
      "========================================================\n",
      "pysdql execution time: 6.803020715713501\n"
     ]
    },
    {
     "data": {
      "text/plain": [
       "{<l_shipmode = FOB, high_line_count = 6, low_line_count = 12> -> 1, <l_shipmode = AIR, high_line_count = 8, low_line_count = 13> -> 1}"
      ]
     },
     "execution_count": 11,
     "metadata": {},
     "output_type": "execute_result"
    }
   ],
   "source": [
    "var1 = 'FOB'\n",
    "var2 = 'AIR'\n",
    "var3 = '1995-01-01'\n",
    "var4 = '1996-01-01'\n",
    "\n",
    "db_driver = pysdql.db_driver(db_path=r'T:/sdql')\n",
    "\n",
    "orders = pysdql.read_tbl(path=r'T:/UG4-Proj/datasets/orders.tbl', header=pysdql.ORDERS_COLS)\n",
    "lineitem = pysdql.read_tbl(path=r'T:/UG4-Proj/datasets/lineitem.tbl', header=pysdql.LINEITEM_COLS)\n",
    "\n",
    "sub_l = lineitem[(lineitem['l_shipmode'].isin((var1, var2)))\n",
    "                 & (lineitem['l_commitdate'] < lineitem['l_receiptdate'])\n",
    "                 & (lineitem['l_shipdate'] < lineitem['l_commitdate'])\n",
    "                 & (lineitem['l_receiptdate'] >= var3) & (lineitem['l_receiptdate'] < var4)].rename('sub_l')\n",
    "\n",
    "r = orders.merge(sub_l, on=(orders['o_orderkey'] == sub_l['l_orderkey']))\n",
    "\n",
    "r['high_line_priority'] = r.case((r['o_orderpriority'] == '1-URGENT') | (r['o_orderpriority'] == '2-HIGH'), 1, 0)\n",
    "r['low_line_priority'] = r.case((r['o_orderpriority'] != '1-URGENT') | (r['o_orderpriority'] != '2-HIGH'), 1, 0)\n",
    "\n",
    "r = r.groupby(['l_shipmode']).aggr(high_line_count=(r['high_line_priority'], 'sum'),\n",
    "                                   low_line_count=(r['low_line_priority'], 'sum'))\n",
    "\n",
    "db_driver.run(r)"
   ]
  },
  {
   "cell_type": "markdown",
   "metadata": {},
   "source": [
    "# TPCH - 13"
   ]
  },
  {
   "cell_type": "code",
   "execution_count": 21,
   "metadata": {
    "pycharm": {
     "name": "#%%\n"
    }
   },
   "outputs": [
    {
     "name": "stdout",
     "output_type": "stream",
     "text": [
      "========================================================\n",
      "let orders = load[{<o_orderkey: int, o_custkey: int, o_orderstatus: string, o_totalprice: double, o_orderdate: date, o_orderpriority: string, o_clerk: string, o_shippriority: int, o_comment: string> -> int}](\"T:/UG4-Proj/datasets/orders.tbl\")\n",
      "let omp = sum (<ord_k, ord_v> in orders) if (!(ext(`StrContainsN`, ord_k.o_comment, \"special\", \"requests\"))) then { ord_k -> 1 } else {  }\n",
      "let sub_o = omp\n",
      "let customer = load[{<c_custkey: int, c_name: string, c_address: string, c_nationkey: int, c_phone: string, c_acctbal: double, c_mktsegment: string, c_comment: string> -> int}](\"T:/UG4-Proj/datasets/customer.tbl\")\n",
      "let Rm0 = sum (<cus_k, cus_v> in customer) sum (<so_k, so_v> in sub_o) if ((cus_k.c_custkey == so_k.o_custkey)) then { concat(cus_k, so_k) -> cus_v * so_v } else {  }\n",
      "let tmp = sum (<r0_k, r0_v> in Rm0) { < c_custkey=r0_k.c_custkey > -> { r0_k -> r0_v } }\n",
      "let rmp = sum (<t_k, t_v> in tmp) { < c_custkey=t_k.c_custkey, group=t_v > -> 1 }\n",
      "let tmpa = sum (<r_k, r_v> in rmp) sum (<g_k, g_v> in r_k.group) { < c_custkey=r_k.c_custkey > -> < c_count=g_v > }\n",
      "let aggr_Rm0 = sum (<ta_k, ta_v> in tmpa) { < c_custkey=ta_k.c_custkey, c_count=ta_v.c_count > -> 1 }\n",
      "let c_orders = aggr_Rm0\n",
      "let tmpb = sum (<co_k, co_v> in c_orders) { < c_count=co_k.c_count > -> { co_k -> co_v } }\n",
      "let cmp = sum (<tb_k, tb_v> in tmpb) { < c_count=tb_k.c_count, group=tb_v > -> 1 }\n",
      "let tmpc = sum (<c_k, c_v> in cmp) sum (<g_k, g_v> in c_k.group) { < c_count=c_k.c_count > -> < custdist=g_v > }\n",
      "let aggr_c_orders = sum (<tc_k, tc_v> in tmpc) { < c_count=tc_k.c_count, custdist=tc_v.custdist > -> 1 }\n",
      "aggr_c_orders\n",
      "========================================================\n",
      "[info] welcome to sbt 1.6.0 (Oracle Corporation Java 17)\n",
      "[info] loading project definition from T:\\sdql\\project\n",
      "[info] loading settings for project sdql from build.sbt ...\n",
      "[info] set current project to sdql (in build file:/T:/sdql/)\n",
      "[info]\n",
      "[info] Here are some highlights of this release:\n",
      "[info]   - Improved JDK 17 support\n",
      "[info]   - Improved Build Server Protocol (BSP) support\n",
      "[info]   - Tab completion of global keys\n",
      "[info] See https://eed3si9n.com/sbt-1.6.0 for full release notes.\n",
      "[info] Hide the banner for this release by running `skipBanner`.\n",
      "[error] server failed to start on local:sbt-server-ec9dcaf7bfc5935dead3. java.io.IOException: Could not create lock for \\\\.\\pipe\\sbt-server-ec9dcaf7bfc5935dead3_lock, error 5\n",
      "\u001b[?2004h>....[info] running sdql.driver.Main interpret T:/UG4-Proj/sdql_scripts/q.sdql\n",
      "{<c_count = 26, custdist = 3> -> 1, <c_count = 29, custdist = 2> -> 1, <c_count = 5, custdist = 3> -> 1, <c_count = 7, custdist = 4> -> 1, <c_count = 8, custdist = 4> -> 1, <c_count = 22, custdist = 4> -> 1, <c_count = 9, custdist = 6> -> 1, <c_count = 16, custdist = 9> -> 1, <c_count = 15, custdist = 2> -> 1, <c_count = 4, custdist = 3> -> 1, <c_count = 6, custdist = 3> -> 1, <c_count = 18, custdist = 4> -> 1, <c_count = 17, custdist = 6> -> 1, <c_count = 21, custdist = 3> -> 1, <c_count = 19, custdist = 3> -> 1, <c_count = 12, custdist = 8> -> 1, <c_count = 11, custdist = 3> -> 1, <c_count = 28, custdist = 1> -> 1, <c_count = 24, custdist = 2> -> 1, <c_count = 13, custdist = 4> -> 1, <c_count = 23, custdist = 4> -> 1, <c_count = 10, custdist = 6> -> 1, <c_count = 3, custdist = 1> -> 1, <c_count = 14, custdist = 5> -> 1, <c_count = 25, custdist = 1> -> 1, <c_count = 20, custdist = 6> -> 1}\n",
      "[success] Total time: 6 s, completed 2022年7月20日 下午12:47:08\n",
      "========================================================\n",
      "pysdql execution time: 10.884823560714722\n"
     ]
    },
    {
     "data": {
      "text/plain": [
       "{<c_count = 26, custdist = 3> -> 1, <c_count = 29, custdist = 2> -> 1, <c_count = 5, custdist = 3> -> 1, <c_count = 7, custdist = 4> -> 1, <c_count = 8, custdist = 4> -> 1, <c_count = 22, custdist = 4> -> 1, <c_count = 9, custdist = 6> -> 1, <c_count = 16, custdist = 9> -> 1, <c_count = 15, custdist = 2> -> 1, <c_count = 4, custdist = 3> -> 1, <c_count = 6, custdist = 3> -> 1, <c_count = 18, custdist = 4> -> 1, <c_count = 17, custdist = 6> -> 1, <c_count = 21, custdist = 3> -> 1, <c_count = 19, custdist = 3> -> 1, <c_count = 12, custdist = 8> -> 1, <c_count = 11, custdist = 3> -> 1, <c_count = 28, custdist = 1> -> 1, <c_count = 24, custdist = 2> -> 1, <c_count = 13, custdist = 4> -> 1, <c_count = 23, custdist = 4> -> 1, <c_count = 10, custdist = 6> -> 1, <c_count = 3, custdist = 1> -> 1, <c_count = 14, custdist = 5> -> 1, <c_count = 25, custdist = 1> -> 1, <c_count = 20, custdist = 6> -> 1}"
      ]
     },
     "execution_count": 21,
     "metadata": {},
     "output_type": "execute_result"
    }
   ],
   "source": [
    "var1 = 'special'\n",
    "var2 = 'requests'\n",
    "\n",
    "orders = pysdql.read_tbl(path=r'T:/UG4-Proj/datasets/orders.tbl', header=pysdql.ORDERS_COLS)\n",
    "customer = pysdql.read_tbl(path=r'T:/UG4-Proj/datasets/customer.tbl', header=pysdql.CUSTOMER_COLS)\n",
    "\n",
    "sub_o = orders[orders['o_comment'].str.not_contains(var1, var2)].rename('sub_o')\n",
    "\n",
    "# LEFT OUTER JOIN ?\n",
    "r = customer.merge(sub_o, on=(customer['c_custkey'] == sub_o['o_custkey']))\n",
    "\n",
    "c_orders = r.groupby(['c_custkey']).aggr(c_count=(r['o_orderkey'], 'count')).rename('c_orders')\n",
    "\n",
    "s = c_orders.groupby(['c_count']).aggr(custdist=('*', 'count'))\n",
    "\n",
    "pysdql.db_driver(db_path=r'T:/sdql').run(s)"
   ]
  },
  {
   "cell_type": "markdown",
   "metadata": {},
   "source": [
    "# TPCH - 14"
   ]
  },
  {
   "cell_type": "code",
   "execution_count": 13,
   "metadata": {
    "pycharm": {
     "name": "#%%\n"
    }
   },
   "outputs": [
    {
     "name": "stdout",
     "output_type": "stream",
     "text": [
      "========================================================\n",
      "let part = load[{<p_partkey: int, p_name: string, p_mfgr: string, p_brand: string, p_type: string, p_size: int, p_container: string, p_retailprice: double, p_comment: string> -> int}](\"T:/UG4-Proj/datasets/part.tbl\")\n",
      "let lineitem = load[{<l_orderkey: int, l_partkey: int, l_suppkey: int, l_linenumber: int, l_quantity: int, l_extendedprice: double, l_discount: double, l_tax: double, l_returnflag: string, l_linestatus: string, l_shipdate: date, l_commitdate: date, l_receiptdate: date, l_shipinstruct: string, l_shipmode: string, l_comment: string> -> int}](\"T:/UG4-Proj/datasets/lineitem.tbl\")\n",
      "let lmp = sum (<lin_k, lin_v> in lineitem) if (((date(19950301) <= lin_k.l_shipdate) && (lin_k.l_shipdate < date(19950401)))) then { lin_k -> 1 } else {  }\n",
      "let sub_l = lmp\n",
      "let Rm0 = sum (<sl_k, sl_v> in sub_l) sum (<par_k, par_v> in part) if ((sl_k.l_partkey == par_k.p_partkey)) then { concat(sl_k, par_k) -> sl_v * par_v } else {  }\n",
      "let rmp = sum (<r0_k, r0_v> in Rm0) if (ext(`StrStartsWith`, r0_k.p_type, \"PROMO\")) then { concat(r0_k, < promo=(r0_k.l_extendedprice * (1 - r0_k.l_discount)) >) -> 1 } else { concat(r0_k, < promo=0 >) -> 1 }\n",
      "let tmp = sum (<r_k, r_v> in rmp) < promo_revenue=((100 * r_k.promo) / (r_k.l_extendedprice * (1 - r_k.l_discount))) * r_v >\n",
      "let tmpa = { < promo_revenue=tmp.promo_revenue > -> 1 }\n",
      "tmpa\n",
      "========================================================\n",
      "[info] welcome to sbt 1.6.0 (Oracle Corporation Java 17)\n",
      "[info] loading project definition from T:\\sdql\\project\n",
      "[info] loading settings for project sdql from build.sbt ...\n",
      "[info] set current project to sdql (in build file:/T:/sdql/)\n",
      "[info]\n",
      "[info] Here are some highlights of this release:\n",
      "[info]   - Improved JDK 17 support\n",
      "[info]   - Improved Build Server Protocol (BSP) support\n",
      "[info]   - Tab completion of global keys\n",
      "[info] See https://eed3si9n.com/sbt-1.6.0 for full release notes.\n",
      "[info] Hide the banner for this release by running `skipBanner`.\n",
      "[error] server failed to start on local:sbt-server-ec9dcaf7bfc5935dead3. java.io.IOException: Could not create lock for \\\\.\\pipe\\sbt-server-ec9dcaf7bfc5935dead3_lock, error 5\n",
      "\u001b[?2004h>....[info] running sdql.driver.Main interpret T:/UG4-Proj/sdql_scripts/q.sdql\n",
      "{<promo_revenue = 700.0> -> 1}\n",
      "[success] Total time: 2 s, completed 2022年7月20日 下午12:42:18\n",
      "========================================================\n",
      "pysdql execution time: 6.667018413543701\n"
     ]
    },
    {
     "data": {
      "text/plain": [
       "{<promo_revenue = 700.0> -> 1}"
      ]
     },
     "execution_count": 13,
     "metadata": {},
     "output_type": "execute_result"
    }
   ],
   "source": [
    "var1 = '1995-03-01'\n",
    "var2 = '1995-04-01'  # var1 + 1 month\n",
    "\n",
    "lineitem = pysdql.read_tbl(path=r'T:/UG4-Proj/datasets/lineitem.tbl', header=pysdql.LINEITEM_COLS)\n",
    "part = pysdql.read_tbl(path=r'T:/UG4-Proj/datasets/part.tbl', header=pysdql.PART_COLS)\n",
    "\n",
    "sub_l = lineitem[(lineitem['l_shipdate'] >= var1) & (lineitem['l_shipdate'] < var2)].rename('sub_l')\n",
    "r = sub_l.merge(part, on=sub_l['l_partkey'] == part['p_partkey'])\n",
    "\n",
    "r['promo'] = r.case(r['p_type'].startswith('PROMO'), r['l_extendedprice'] * (1 - r['l_discount']), 0)\n",
    "\n",
    "r = r.aggr(promo_revenue=(100 * r['promo'] / (r['l_extendedprice'] * (1 - r['l_discount'])), 'sum'))\n",
    "\n",
    "pysdql.db_driver(db_path=r'T:/sdql').run(r)"
   ]
  },
  {
   "cell_type": "markdown",
   "metadata": {},
   "source": [
    "# TPCH - 16"
   ]
  },
  {
   "cell_type": "code",
   "execution_count": 14,
   "metadata": {
    "pycharm": {
     "name": "#%%\n"
    }
   },
   "outputs": [
    {
     "name": "stdout",
     "output_type": "stream",
     "text": [
      "========================================================\n",
      "let supplier = load[{<s_suppkey: int, s_name: string, s_address: string, s_nationkey: int, s_phone: string, s_acctbal: double, s_comment: string> -> int}](\"T:/UG4-Proj/datasets/supplier.tbl\")\n",
      "let smp = sum (<sup_k, sup_v> in supplier) if (ext(`StrContainsN`, sup_k.s_comment, \"Customer\", \"Complaints\")) then { sup_k -> 1 } else {  }\n",
      "let sub_s = smp\n",
      "let partsupp = load[{<ps_partkey: int, ps_suppkey: int, ps_availqty: int, ps_supplycost: double, ps_comment: string> -> int}](\"T:/UG4-Proj/datasets/partsupp.tbl\")\n",
      "let part = load[{<p_partkey: int, p_name: string, p_mfgr: string, p_brand: string, p_type: string, p_size: int, p_container: string, p_retailprice: double, p_comment: string> -> int}](\"T:/UG4-Proj/datasets/part.tbl\")\n",
      "let pmp = sum (<par_k, par_v> in part) if ((((par_k.p_brand != \"Brand#21\") && !(ext(`StrStartsWith`, par_k.p_type, \"SMALL ANODIZED\"))) && ((((((((par_k.p_size == 42) || (par_k.p_size == 10)) || (par_k.p_size == 48)) || (par_k.p_size == 33)) || (par_k.p_size == 18)) || (par_k.p_size == 16)) || (par_k.p_size == 8)) || (par_k.p_size == 3)))) then { par_k -> 1 } else {  }\n",
      "let sub_p = pmp\n",
      "let Rm0 = sum (<sp_k, sp_v> in sub_p) sum (<psup_k, psup_v> in partsupp) if ((sp_k.p_partkey == psup_k.ps_partkey)) then { concat(sp_k, psup_k) -> sp_v * psup_v } else {  }\n",
      "let rmp = if ((sub_s == { })) then Rm0 else sum (<r0_k, r0_v> in Rm0) sum (<ss_k, ss_v> in sub_s) if ((!((r0_k.ps_suppkey == ss_k.s_suppkey)))) then { r0_k -> 1 } else {  }\n",
      "let tmp = sum (<r0_k, r0_v> in Rm0) sum (<ss_k, ss_v> in sub_s) if ((!((r0_k.ps_suppkey == ss_k.s_suppkey)))) then { r0_k -> 1 } else {  }\n",
      "let tmpb = sum (<t_k, t_v> in tmp) { < p_brand=t_k.p_brand, p_type=t_k.p_type, p_size=t_k.p_size > -> { t_k -> t_v } }\n",
      "let tmpa = sum (<tb_k, tb_v> in tmpb) { < p_brand=tb_k.p_brand, p_type=tb_k.p_type, p_size=tb_k.p_size, group=tb_v > -> 1 }\n",
      "let tmpc = sum (<ta_k, ta_v> in tmpa) sum (<g_k, g_v> in ta_k.group) { < p_brand=ta_k.p_brand, p_type=ta_k.p_type, p_size=ta_k.p_size > -> < supplier_cnt=g_k.ps_suppkey * g_v > }\n",
      "let aggr_tmp = sum (<tc_k, tc_v> in tmpc) { < p_brand=tc_k.p_brand, p_type=tc_k.p_type, p_size=tc_k.p_size, supplier_cnt=tc_v.supplier_cnt > -> 1 }\n",
      "aggr_tmp\n",
      "========================================================\n",
      "[info] welcome to sbt 1.6.0 (Oracle Corporation Java 17)\n",
      "[info] loading project definition from T:\\sdql\\project\n",
      "[info] loading settings for project sdql from build.sbt ...\n",
      "[info] set current project to sdql (in build file:/T:/sdql/)\n",
      "[info]\n",
      "[info] Here are some highlights of this release:\n",
      "[info]   - Improved JDK 17 support\n",
      "[info]   - Improved Build Server Protocol (BSP) support\n",
      "[info]   - Tab completion of global keys\n",
      "[info] See https://eed3si9n.com/sbt-1.6.0 for full release notes.\n",
      "[info] Hide the banner for this release by running `skipBanner`.\n",
      "[error] server failed to start on local:sbt-server-ec9dcaf7bfc5935dead3. java.io.IOException: Could not create lock for \\\\.\\pipe\\sbt-server-ec9dcaf7bfc5935dead3_lock, error 5\n",
      "\u001b[?2004h>....[info] running sdql.driver.Main interpret T:/UG4-Proj/sdql_scripts/q.sdql\n",
      "[error] java.lang.Exception: Error: `sum(<Sym(t_k),Sym(t_v)> <- ZeroValue) ...` doesn't have a dictionary range: `class sdql.ir.ZeroValue$`\n",
      "[error] \tat sdql.package$.raise(package.scala:6)\n",
      "[error] \tat sdql.backend.Interpreter$.run(Interpreter.scala:118)\n",
      "[error] \tat sdql.backend.Interpreter$.run(Interpreter.scala:21)\n",
      "[error] \tat sdql.backend.Interpreter$.apply(Interpreter.scala:11)\n",
      "[error] \tat sdql.driver.Main$.main(Main.scala:19)\n",
      "[error] \tat sdql.driver.Main.main(Main.scala)\n",
      "[error] \tat java.base/jdk.internal.reflect.NativeMethodAccessorImpl.invoke0(Native Method)\n",
      "[error] \tat java.base/jdk.internal.reflect.NativeMethodAccessorImpl.invoke(NativeMethodAccessorImpl.java:77)\n",
      "[error] \tat java.base/jdk.internal.reflect.DelegatingMethodAccessorImpl.invoke(DelegatingMethodAccessorImpl.java:43)\n",
      "[error] \tat java.base/java.lang.reflect.Method.invoke(Method.java:568)\n",
      "[error] stack trace is suppressed; run 'last Compile / run' for the full output\n",
      "[error] (Compile / run) java.lang.Exception: Error: `sum(<Sym(t_k),Sym(t_v)> <- ZeroValue) ...` doesn't have a dictionary range: `class sdql.ir.ZeroValue$`\n",
      "[error] Total time: 1 s, completed 2022年7月20日 下午12:42:24\n",
      "========================================================\n",
      "pysdql execution time: 6.282669544219971\n"
     ]
    },
    {
     "data": {
      "text/plain": [
       "[error] java.lang.Exception: Error: `sum(<Sym(t_k),Sym(t_v)> <- ZeroValue) ...` doesn't have a dictionary range: `class sdql.ir.ZeroValue$`[error] \tat sdql.package$.raise(package.scala:6)[error] \tat sdql.backend.Interpreter$.run(Interpreter.scala:118)[error] \tat sdql.backend.Interpreter$.run(Interpreter.scala:21)[error] \tat sdql.backend.Interpreter$.apply(Interpreter.scala:11)[error] \tat sdql.driver.Main$.main(Main.scala:19)[error] \tat sdql.driver.Main.main(Main.scala)[error] \tat java.base/jdk.internal.reflect.NativeMethodAccessorImpl.invoke0(Native Method)[error] \tat java.base/jdk.internal.reflect.NativeMethodAccessorImpl.invoke(NativeMethodAccessorImpl.java:77)[error] \tat java.base/jdk.internal.reflect.DelegatingMethodAccessorImpl.invoke(DelegatingMethodAccessorImpl.java:43)[error] \tat java.base/java.lang.reflect.Method.invoke(Method.java:568)[error] stack trace is suppressed; run 'last Compile / run' for the full output[error] (Compile / run) java.lang.Exception: Error: `sum(<Sym(t_k),Sym(t_v)> <- ZeroValue) ...` doesn't have a dictionary range: `class sdql.ir.ZeroValue$`"
      ]
     },
     "execution_count": 14,
     "metadata": {},
     "output_type": "execute_result"
    }
   ],
   "source": [
    "var1 = 'Brand#21'\n",
    "var2 = 'SMALL ANODIZED'\n",
    "var3 = (48, 33, 18, 16, 8, 3, 10, 42)\n",
    "\n",
    "supplier = pysdql.read_tbl(path=r'T:/UG4-Proj/datasets/supplier.tbl', header=pysdql.SUPPLIER_COLS)\n",
    "part = pysdql.read_tbl(path=r'T:/UG4-Proj/datasets/part.tbl', header=pysdql.PART_COLS)\n",
    "partsupp = pysdql.read_tbl(path=r'T:/UG4-Proj/datasets/partsupp.tbl', header=pysdql.PARTSUPP_COLS)\n",
    "\n",
    "sub_s = supplier[supplier['s_comment'].contains('Customer', 'Complaints')].rename('sub_s')\n",
    "\n",
    "sub_p = part[(part['p_brand'] != 'Brand#21')\n",
    "             & (~part['p_type'].str.startswith('SMALL ANODIZED'))\n",
    "             & (part['p_size'].isin(var3))].rename('sub_p')\n",
    "\n",
    "r = sub_p.merge(partsupp, on=sub_p['p_partkey'] == partsupp['ps_partkey'])\n",
    "\n",
    "r = r[~(r['ps_suppkey'].isin(sub_s['s_suppkey']))]\n",
    "\n",
    "# COUNT (DISTINCT value) ?\n",
    "r = r.groupby(['p_brand', 'p_type', 'p_size']).aggr(supplier_cnt=(r['ps_suppkey'], 'sum'))\n",
    "\n",
    "pysdql.db_driver(db_path=r'T:/sdql').run(r, block=False)"
   ]
  },
  {
   "cell_type": "markdown",
   "metadata": {},
   "source": [
    "# TPCH - 17"
   ]
  },
  {
   "cell_type": "code",
   "execution_count": 15,
   "metadata": {
    "scrolled": false
   },
   "outputs": [
    {
     "name": "stdout",
     "output_type": "stream",
     "text": [
      "========================================================\n",
      "let lineitem = load[{<l_orderkey: int, l_partkey: int, l_suppkey: int, l_linenumber: int, l_quantity: int, l_extendedprice: double, l_discount: double, l_tax: double, l_returnflag: string, l_linestatus: string, l_shipdate: date, l_commitdate: date, l_receiptdate: date, l_shipinstruct: string, l_shipmode: string, l_comment: string> -> int}](\"T:/UG4-Proj/datasets/lineitem.tbl\")\n",
      "let tmp = sum (<lin_k, lin_v> in lineitem) { < l_partkey=lin_k.l_partkey > -> { lin_k -> lin_v } }\n",
      "let lmp = sum (<t_k, t_v> in tmp) { < l_partkey=t_k.l_partkey, group=t_v > -> 1 }\n",
      "let tmpa = sum (<l_k, l_v> in lmp) sum (<g_k, g_v> in l_k.group) { < l_partkey=l_k.l_partkey > -> < avg_quantity_sum=(0.2 * g_k.l_quantity) * g_v, avg_quantity_count=g_v > }\n",
      "let aggr_lineitem = sum (<ta_k, ta_v> in tmpa) { < agg_partkey=ta_k.l_partkey, avg_quantity=(ta_v.avg_quantity_sum / ta_v.avg_quantity_count) > -> 1 }\n",
      "let part_agg = aggr_lineitem\n",
      "let part = load[{<p_partkey: int, p_name: string, p_mfgr: string, p_brand: string, p_type: string, p_size: int, p_container: string, p_retailprice: double, p_comment: string> -> int}](\"T:/UG4-Proj/datasets/part.tbl\")\n",
      "let pmp = sum (<par_k, par_v> in part) if (((par_k.p_brand == \"Brand#11\") && (par_k.p_container == \"WRAP CAN\"))) then { par_k -> 1 } else {  }\n",
      "let sub_p = pmp\n",
      "let Rm0 = sum (<sp_k, sp_v> in sub_p) sum (<pa_k, pa_v> in part_agg) if ((sp_k.p_partkey == pa_k.agg_partkey)) then { concat(sp_k, pa_k) -> sp_v * pa_v } else {  }\n",
      "let rmp = sum (<r0_k, r0_v> in Rm0) if ((r0_k.l_quantity < r0_k.avg_quantity)) then { r0_k -> 1 } else {  }\n",
      "let tmpb = sum (<r_k, r_v> in rmp) < avg_yearly=(r_k.l_extendedprice / 7.0) * r_v >\n",
      "let tmpc = { < avg_yearly=tmpb.avg_yearly > -> 1 }\n",
      "tmpc\n",
      "========================================================\n",
      "[info] welcome to sbt 1.6.0 (Oracle Corporation Java 17)\n",
      "[info] loading project definition from T:\\sdql\\project\n",
      "[info] loading settings for project sdql from build.sbt ...\n",
      "[info] set current project to sdql (in build file:/T:/sdql/)\n",
      "[info]\n",
      "[info] Here are some highlights of this release:\n",
      "[info]   - Improved JDK 17 support\n",
      "[info]   - Improved Build Server Protocol (BSP) support\n",
      "[info]   - Tab completion of global keys\n",
      "[info] See https://eed3si9n.com/sbt-1.6.0 for full release notes.\n",
      "[info] Hide the banner for this release by running `skipBanner`.\n",
      "[error] server failed to start on local:sbt-server-ec9dcaf7bfc5935dead3. java.io.IOException: Could not create lock for \\\\.\\pipe\\sbt-server-ec9dcaf7bfc5935dead3_lock, error 5\n",
      "\u001b[?2004h>....[info] running sdql.driver.Main interpret T:/UG4-Proj/sdql_scripts/q.sdql\n",
      "[error] java.lang.Exception: Error: `sum(<Sym(r0_k),Sym(r0_v)> <- ZeroValue) ...` doesn't have a dictionary range: `class sdql.ir.ZeroValue$`\n",
      "[error] \tat sdql.package$.raise(package.scala:6)\n",
      "[error] \tat sdql.backend.Interpreter$.run(Interpreter.scala:118)\n",
      "[error] \tat sdql.backend.Interpreter$.run(Interpreter.scala:21)\n",
      "[error] \tat sdql.backend.Interpreter$.apply(Interpreter.scala:11)\n",
      "[error] \tat sdql.driver.Main$.main(Main.scala:19)\n",
      "[error] \tat sdql.driver.Main.main(Main.scala)\n",
      "[error] \tat java.base/jdk.internal.reflect.NativeMethodAccessorImpl.invoke0(Native Method)\n",
      "[error] \tat java.base/jdk.internal.reflect.NativeMethodAccessorImpl.invoke(NativeMethodAccessorImpl.java:77)\n",
      "[error] \tat java.base/jdk.internal.reflect.DelegatingMethodAccessorImpl.invoke(DelegatingMethodAccessorImpl.java:43)\n",
      "[error] \tat java.base/java.lang.reflect.Method.invoke(Method.java:568)\n",
      "[error] stack trace is suppressed; run 'last Compile / run' for the full output\n",
      "[error] (Compile / run) java.lang.Exception: Error: `sum(<Sym(r0_k),Sym(r0_v)> <- ZeroValue) ...` doesn't have a dictionary range: `class sdql.ir.ZeroValue$`\n",
      "[error] Total time: 11 s, completed 2022年7月20日 下午12:42:40\n",
      "========================================================\n",
      "pysdql execution time: 16.116547107696533\n"
     ]
    },
    {
     "data": {
      "text/plain": [
       "[error] java.lang.Exception: Error: `sum(<Sym(r0_k),Sym(r0_v)> <- ZeroValue) ...` doesn't have a dictionary range: `class sdql.ir.ZeroValue$`[error] \tat sdql.package$.raise(package.scala:6)[error] \tat sdql.backend.Interpreter$.run(Interpreter.scala:118)[error] \tat sdql.backend.Interpreter$.run(Interpreter.scala:21)[error] \tat sdql.backend.Interpreter$.apply(Interpreter.scala:11)[error] \tat sdql.driver.Main$.main(Main.scala:19)[error] \tat sdql.driver.Main.main(Main.scala)[error] \tat java.base/jdk.internal.reflect.NativeMethodAccessorImpl.invoke0(Native Method)[error] \tat java.base/jdk.internal.reflect.NativeMethodAccessorImpl.invoke(NativeMethodAccessorImpl.java:77)[error] \tat java.base/jdk.internal.reflect.DelegatingMethodAccessorImpl.invoke(DelegatingMethodAccessorImpl.java:43)[error] \tat java.base/java.lang.reflect.Method.invoke(Method.java:568)[error] stack trace is suppressed; run 'last Compile / run' for the full output[error] (Compile / run) java.lang.Exception: Error: `sum(<Sym(r0_k),Sym(r0_v)> <- ZeroValue) ...` doesn't have a dictionary range: `class sdql.ir.ZeroValue$`"
      ]
     },
     "execution_count": 15,
     "metadata": {},
     "output_type": "execute_result"
    }
   ],
   "source": [
    "var1 = 'Brand#11'\n",
    "var2 = 'WRAP CAN'\n",
    "\n",
    "db_driver = pysdql.db_driver(db_path=r'T:/sdql')\n",
    "\n",
    "lineitem = pysdql.read_tbl(path=r'T:/UG4-Proj/datasets/lineitem.tbl', header=pysdql.LINEITEM_COLS)\n",
    "part = pysdql.read_tbl(path=r'T:/UG4-Proj/datasets/part.tbl', header=pysdql.PART_COLS)\n",
    "\n",
    "part_agg = lineitem.groupby(['l_partkey']) \\\n",
    "    .aggr(agg_partkey=lineitem['l_partkey'], avg_quantity=(0.2 * lineitem['l_quantity'], 'avg')) \\\n",
    "    .rename('part_agg')\n",
    "\n",
    "sub_p = part[(part['p_brand'] == var1) & (part['p_container'] == var2)].rename('sub_p')\n",
    "\n",
    "r = sub_p.merge(part_agg, on=sub_p['p_partkey'] == part_agg['agg_partkey'])\n",
    "\n",
    "r = r[(r['l_quantity'] < r['avg_quantity'])]\n",
    "\n",
    "r = r.aggr(avg_yearly=((lineitem['l_extendedprice'] / 7.0), 'sum'))\n",
    "\n",
    "db_driver.run(r)"
   ]
  },
  {
   "cell_type": "markdown",
   "metadata": {},
   "source": [
    "# TPCH - 18"
   ]
  },
  {
   "cell_type": "code",
   "execution_count": 24,
   "metadata": {
    "pycharm": {
     "name": "#%%\n"
    }
   },
   "outputs": [
    {
     "name": "stdout",
     "output_type": "stream",
     "text": [
      "========================================================\n",
      "let lineitem = load[{<l_orderkey: int, l_partkey: int, l_suppkey: int, l_linenumber: int, l_quantity: int, l_extendedprice: double, l_discount: double, l_tax: double, l_returnflag: string, l_linestatus: string, l_shipdate: date, l_commitdate: date, l_receiptdate: date, l_shipinstruct: string, l_shipmode: string, l_comment: string> -> int}](\"T:/UG4-Proj/datasets/lineitem.tbl\")\n",
      "let tmp = sum (<lin_k, lin_v> in lineitem) { < l_orderkey=lin_k.l_orderkey > -> { lin_k -> lin_v } }\n",
      "let lmp = sum (<t_k, t_v> in tmp) { < l_orderkey=t_k.l_orderkey, group=t_v > -> 1 }\n",
      "let hvmp = sum (<l_k, l_v> in lmp) sum (<g_k, g_v> in l_k.group) { < l_orderkey=l_k.l_orderkey > -> < val=(g_k.l_quantity * g_v) > }\n",
      "let hvR = sum (<hv_k, hv_v> in hvmp) if ((231 < hv_v.val)) then { < l_orderkey=hv_k.l_orderkey > -> 1 } else {  }\n",
      "let fhv_lineitem = sum (<lin_k, lin_v> in lineitem) sum (<h_k, h_v> in hvR) if ((h_k.l_orderkey == lin_k.l_orderkey)) then { lin_k -> 1 } else {  }\n",
      "let orders = load[{<o_orderkey: int, o_custkey: int, o_orderstatus: string, o_totalprice: double, o_orderdate: date, o_orderpriority: string, o_clerk: string, o_shippriority: int, o_comment: string> -> int}](\"T:/UG4-Proj/datasets/orders.tbl\")\n",
      "let omp = sum (<ord_k, ord_v> in orders) sum (<fl_k, fl_v> in fhv_lineitem) if ((ord_k.o_orderkey == fl_k.l_orderkey)) then { ord_k -> 1 } else {  }\n",
      "let customer = load[{<c_custkey: int, c_name: string, c_address: string, c_nationkey: int, c_phone: string, c_acctbal: double, c_mktsegment: string, c_comment: string> -> int}](\"T:/UG4-Proj/datasets/customer.tbl\")\n",
      "let Rm0 = sum (<cus_k, cus_v> in customer) sum (<o_k, o_v> in omp) if ((cus_k.c_custkey == o_k.o_custkey)) then { concat(cus_k, o_k) -> cus_v * o_v } else {  }\n",
      "let Rm1 = sum (<r0_k, r0_v> in Rm0) sum (<lin_k, lin_v> in lineitem) if ((r0_k.o_orderkey == lin_k.l_orderkey)) then { concat(r0_k, lin_k) -> r0_v * lin_v } else {  }\n",
      "let tmpa = sum (<r1_k, r1_v> in Rm1) { < c_name=r1_k.c_name, c_custkey=r1_k.c_custkey, o_orderkey=r1_k.o_orderkey, o_orderdate=r1_k.o_orderdate, o_totalprice=r1_k.o_totalprice > -> { r1_k -> r1_v } }\n",
      "let rmp = sum (<ta_k, ta_v> in tmpa) { < c_name=ta_k.c_name, c_custkey=ta_k.c_custkey, o_orderkey=ta_k.o_orderkey, o_orderdate=ta_k.o_orderdate, o_totalprice=ta_k.o_totalprice, group=ta_v > -> 1 }\n",
      "let tmpb = sum (<r_k, r_v> in rmp) sum (<g_k, g_v> in r_k.group) { < c_name=r_k.c_name, c_custkey=r_k.c_custkey, o_orderkey=r_k.o_orderkey, o_orderdate=r_k.o_orderdate, o_totalprice=r_k.o_totalprice > -> < l_quantity_sum=g_k.l_quantity * r_v > }\n",
      "let aggr_Rm1 = sum (<tb_k, tb_v> in tmpb) { < c_name=tb_k.c_name, c_custkey=tb_k.c_custkey, o_orderkey=tb_k.o_orderkey, o_orderdate=tb_k.o_orderdate, o_totalprice=tb_k.o_totalprice, l_quantity_sum=tb_v.l_quantity_sum > -> 1 }\n",
      "aggr_Rm1\n",
      "========================================================\n",
      "[info] welcome to sbt 1.6.0 (Oracle Corporation Java 17)\n",
      "[info] loading project definition from T:\\sdql\\project\n",
      "[info] loading settings for project sdql from build.sbt ...\n",
      "[info] set current project to sdql (in build file:/T:/sdql/)\n",
      "[info]\n",
      "[info] Here are some highlights of this release:\n",
      "[info]   - Improved JDK 17 support\n",
      "[info]   - Improved Build Server Protocol (BSP) support\n",
      "[info]   - Tab completion of global keys\n",
      "[info] See https://eed3si9n.com/sbt-1.6.0 for full release notes.\n",
      "[info] Hide the banner for this release by running `skipBanner`.\n",
      "[error] server failed to start on local:sbt-server-ec9dcaf7bfc5935dead3. java.io.IOException: Could not create lock for \\\\.\\pipe\\sbt-server-ec9dcaf7bfc5935dead3_lock, error 5\n",
      "\u001b[?2004h>....[info] running sdql.driver.Main interpret T:/UG4-Proj/sdql_scripts/q.sdql\n",
      "{<c_name = Customer#000000076, c_custkey = 76, o_orderkey = 5158, o_orderdate = DateValue(19970121), o_totalprice = 240284.95, l_quantity_sum = 248> -> 1, <c_name = Customer#000000076, c_custkey = 76, o_orderkey = 1477, o_orderdate = DateValue(19970824), o_totalprice = 231831.35, l_quantity_sum = 236> -> 1, <c_name = Customer#000000131, c_custkey = 131, o_orderkey = 4484, o_orderdate = DateValue(19961224), o_totalprice = 237947.61, l_quantity_sum = 243> -> 1, <c_name = Customer#000000146, c_custkey = 146, o_orderkey = 5925, o_orderdate = DateValue(19951113), o_totalprice = 242588.87, l_quantity_sum = 242> -> 1, <c_name = Customer#000000068, c_custkey = 68, o_orderkey = 2208, o_orderdate = DateValue(19950501), o_totalprice = 245388.06, l_quantity_sum = 256> -> 1, <c_name = Customer#000000029, c_custkey = 29, o_orderkey = 1121, o_orderdate = DateValue(19970113), o_totalprice = 241837.88, l_quantity_sum = 242> -> 1, <c_name = Customer#000000010, c_custkey = 10, o_orderkey = 4421, o_orderdate = DateValue(19970404), o_totalprice = 258779.02, l_quantity_sum = 255> -> 1, <c_name = Customer#000000115, c_custkey = 115, o_orderkey = 645, o_orderdate = DateValue(19941203), o_totalprice = 234763.73, l_quantity_sum = 245> -> 1, <c_name = Customer#000000070, c_custkey = 70, o_orderkey = 2567, o_orderdate = DateValue(19980227), o_totalprice = 263411.29, l_quantity_sum = 266> -> 1, <c_name = Customer#000000052, c_custkey = 52, o_orderkey = 5765, o_orderdate = DateValue(19941215), o_totalprice = 249900.42, l_quantity_sum = 247> -> 1, <c_name = Customer#000000028, c_custkey = 28, o_orderkey = 2306, o_orderdate = DateValue(19950726), o_totalprice = 244704.23, l_quantity_sum = 235> -> 1, <c_name = Customer#000000082, c_custkey = 82, o_orderkey = 3460, o_orderdate = DateValue(19951003), o_totalprice = 245976.74, l_quantity_sum = 254> -> 1, <c_name = Customer#000000044, c_custkey = 44, o_orderkey = 4645, o_orderdate = DateValue(19940920), o_totalprice = 231012.22, l_quantity_sum = 248> -> 1, <c_name = Customer#000000067, c_custkey = 67, o_orderkey = 3907, o_orderdate = DateValue(19920819), o_totalprice = 240457.56, l_quantity_sum = 239> -> 1, <c_name = Customer#000000142, c_custkey = 142, o_orderkey = 5699, o_orderdate = DateValue(19920730), o_totalprice = 226314.91, l_quantity_sum = 240> -> 1, <c_name = Customer#000000089, c_custkey = 89, o_orderkey = 5957, o_orderdate = DateValue(19931227), o_totalprice = 230949.45, l_quantity_sum = 242> -> 1, <c_name = Customer#000000067, c_custkey = 67, o_orderkey = 928, o_orderdate = DateValue(19950302), o_totalprice = 228136.49, l_quantity_sum = 241> -> 1}\n",
      "[success] Total time: 24 s, completed 2022年7月20日 下午1:08:19\n",
      "========================================================\n",
      "pysdql execution time: 29.526103258132935\n"
     ]
    },
    {
     "data": {
      "text/plain": [
       "{<c_name = Customer#000000076, c_custkey = 76, o_orderkey = 5158, o_orderdate = DateValue(19970121), o_totalprice = 240284.95, l_quantity_sum = 248> -> 1, <c_name = Customer#000000076, c_custkey = 76, o_orderkey = 1477, o_orderdate = DateValue(19970824), o_totalprice = 231831.35, l_quantity_sum = 236> -> 1, <c_name = Customer#000000131, c_custkey = 131, o_orderkey = 4484, o_orderdate = DateValue(19961224), o_totalprice = 237947.61, l_quantity_sum = 243> -> 1, <c_name = Customer#000000146, c_custkey = 146, o_orderkey = 5925, o_orderdate = DateValue(19951113), o_totalprice = 242588.87, l_quantity_sum = 242> -> 1, <c_name = Customer#000000068, c_custkey = 68, o_orderkey = 2208, o_orderdate = DateValue(19950501), o_totalprice = 245388.06, l_quantity_sum = 256> -> 1, <c_name = Customer#000000029, c_custkey = 29, o_orderkey = 1121, o_orderdate = DateValue(19970113), o_totalprice = 241837.88, l_quantity_sum = 242> -> 1, <c_name = Customer#000000010, c_custkey = 10, o_orderkey = 4421, o_orderdate = DateValue(19970404), o_totalprice = 258779.02, l_quantity_sum = 255> -> 1, <c_name = Customer#000000115, c_custkey = 115, o_orderkey = 645, o_orderdate = DateValue(19941203), o_totalprice = 234763.73, l_quantity_sum = 245> -> 1, <c_name = Customer#000000070, c_custkey = 70, o_orderkey = 2567, o_orderdate = DateValue(19980227), o_totalprice = 263411.29, l_quantity_sum = 266> -> 1, <c_name = Customer#000000052, c_custkey = 52, o_orderkey = 5765, o_orderdate = DateValue(19941215), o_totalprice = 249900.42, l_quantity_sum = 247> -> 1, <c_name = Customer#000000028, c_custkey = 28, o_orderkey = 2306, o_orderdate = DateValue(19950726), o_totalprice = 244704.23, l_quantity_sum = 235> -> 1, <c_name = Customer#000000082, c_custkey = 82, o_orderkey = 3460, o_orderdate = DateValue(19951003), o_totalprice = 245976.74, l_quantity_sum = 254> -> 1, <c_name = Customer#000000044, c_custkey = 44, o_orderkey = 4645, o_orderdate = DateValue(19940920), o_totalprice = 231012.22, l_quantity_sum = 248> -> 1, <c_name = Customer#000000067, c_custkey = 67, o_orderkey = 3907, o_orderdate = DateValue(19920819), o_totalprice = 240457.56, l_quantity_sum = 239> -> 1, <c_name = Customer#000000142, c_custkey = 142, o_orderkey = 5699, o_orderdate = DateValue(19920730), o_totalprice = 226314.91, l_quantity_sum = 240> -> 1, <c_name = Customer#000000089, c_custkey = 89, o_orderkey = 5957, o_orderdate = DateValue(19931227), o_totalprice = 230949.45, l_quantity_sum = 242> -> 1, <c_name = Customer#000000067, c_custkey = 67, o_orderkey = 928, o_orderdate = DateValue(19950302), o_totalprice = 228136.49, l_quantity_sum = 241> -> 1}"
      ]
     },
     "execution_count": 24,
     "metadata": {},
     "output_type": "execute_result"
    }
   ],
   "source": [
    "var1 = 231\n",
    "\n",
    "db_driver = pysdql.db_driver(db_path=r'T:/sdql')\n",
    "\n",
    "customer = pysdql.read_tbl(path=r'T:/UG4-Proj/datasets/customer.tbl', header=pysdql.CUSTOMER_COLS)\n",
    "orders = pysdql.read_tbl(path=r'T:/UG4-Proj/datasets/orders.tbl', header=pysdql.ORDERS_COLS)\n",
    "lineitem = pysdql.read_tbl(path=r'T:/UG4-Proj/datasets/lineitem.tbl', header=pysdql.LINEITEM_COLS)\n",
    "\n",
    "aggr_l = lineitem.groupby(['l_orderkey']).filter(lambda x: x['l_quantity'].sum() > var1)\n",
    "\n",
    "sub_o = orders[(orders['o_orderkey'].isin(aggr_l['l_orderkey']))]\n",
    "\n",
    "r = customer.merge(sub_o, on=(customer['c_custkey'] == sub_o['o_custkey']))\n",
    "r = r.merge(lineitem, on=r['o_orderkey'] == lineitem['l_orderkey'])\n",
    "\n",
    "r = r.groupby(['c_name', 'c_custkey', 'o_orderkey', 'o_orderdate', 'o_totalprice'])\\\n",
    "    .aggr({r['l_quantity']: 'sum'})\n",
    "\n",
    "db_driver.run(r)"
   ]
  },
  {
   "cell_type": "markdown",
   "metadata": {},
   "source": [
    "# TPCH - 19"
   ]
  },
  {
   "cell_type": "code",
   "execution_count": 17,
   "metadata": {},
   "outputs": [
    {
     "name": "stdout",
     "output_type": "stream",
     "text": [
      "========================================================\n",
      "let part = load[{<p_partkey: int, p_name: string, p_mfgr: string, p_brand: string, p_type: string, p_size: int, p_container: string, p_retailprice: double, p_comment: string> -> int}](\"T:/UG4-Proj/datasets/part.tbl\")\n",
      "let pmp = sum (<par_k, par_v> in part) if (((((((par_k.p_brand == \"Brand#54\") && ((((par_k.p_container == \"SM PKG\") || (par_k.p_container == \"SM PACK\")) || (par_k.p_container == \"SM CASE\")) || (par_k.p_container == \"SM BOX\"))) && (1 <= par_k.p_size)) && (par_k.p_size <= 5)) || ((((par_k.p_brand == \"Brand#22\") && ((((par_k.p_container == \"MED PACK\") || (par_k.p_container == \"MED PKG\")) || (par_k.p_container == \"MED BAG\")) || (par_k.p_container == \"MED BOX\"))) && (1 <= par_k.p_size)) && (par_k.p_size <= 10))) || ((((par_k.p_brand == \"Brand#13\") && ((((par_k.p_container == \"LG PKG\") || (par_k.p_container == \"LG PACK\")) || (par_k.p_container == \"LG CASE\")) || (par_k.p_container == \"LG BOX\"))) && (1 <= par_k.p_size)) && (par_k.p_size <= 15)))) then { par_k -> 1 } else {  }\n",
      "let sub_p = pmp\n",
      "let lineitem = load[{<l_orderkey: int, l_partkey: int, l_suppkey: int, l_linenumber: int, l_quantity: int, l_extendedprice: double, l_discount: double, l_tax: double, l_returnflag: string, l_linestatus: string, l_shipdate: date, l_commitdate: date, l_receiptdate: date, l_shipinstruct: string, l_shipmode: string, l_comment: string> -> int}](\"T:/UG4-Proj/datasets/lineitem.tbl\")\n",
      "let lmp = sum (<lin_k, lin_v> in lineitem) if (((((((1 <= lin_k.l_quantity) && (lin_k.l_quantity <= 11)) && ((lin_k.l_shipmode == \"AIR REG\") || (lin_k.l_shipmode == \"AIR\"))) && (lin_k.l_shipinstruct == \"DELIVER IN PERSON\")) || ((((18 <= lin_k.l_quantity) && (lin_k.l_quantity <= 28)) && ((lin_k.l_shipmode == \"AIR REG\") || (lin_k.l_shipmode == \"AIR\"))) && (lin_k.l_shipinstruct == \"DELIVER IN PERSON\"))) || ((((26 <= lin_k.l_quantity) && (lin_k.l_quantity <= 36)) && ((lin_k.l_shipmode == \"AIR REG\") || (lin_k.l_shipmode == \"AIR\"))) && (lin_k.l_shipinstruct == \"DELIVER IN PERSON\")))) then { lin_k -> 1 } else {  }\n",
      "let sub_l = lmp\n",
      "let Rm0 = sum (<sl_k, sl_v> in sub_l) sum (<sp_k, sp_v> in sub_p) if ((sl_k.l_partkey == sp_k.p_partkey)) then { concat(sl_k, sp_k) -> sl_v * sp_v } else {  }\n",
      "let rmp = sum (<r0_k, r0_v> in Rm0) < revenue=(r0_k.l_extendedprice * (1 - r0_k.l_discount)) * r0_v >\n",
      "let tmp = { < revenue=rmp.revenue > -> 1 }\n",
      "tmp\n",
      "========================================================\n",
      "[info] welcome to sbt 1.6.0 (Oracle Corporation Java 17)\n",
      "[info] loading project definition from T:\\sdql\\project\n",
      "[info] loading settings for project sdql from build.sbt ...\n",
      "[info] set current project to sdql (in build file:/T:/sdql/)\n",
      "[info]\n",
      "[info] Here are some highlights of this release:\n",
      "[info]   - Improved JDK 17 support\n",
      "[info]   - Improved Build Server Protocol (BSP) support\n",
      "[info]   - Tab completion of global keys\n",
      "[info] See https://eed3si9n.com/sbt-1.6.0 for full release notes.\n",
      "[info] Hide the banner for this release by running `skipBanner`.\n",
      "[error] server failed to start on local:sbt-server-ec9dcaf7bfc5935dead3. java.io.IOException: Could not create lock for \\\\.\\pipe\\sbt-server-ec9dcaf7bfc5935dead3_lock, error 5\n",
      "\u001b[?2004h>....[info] running sdql.driver.Main interpret T:/UG4-Proj/sdql_scripts/q.sdql\n",
      "{<revenue = 865.92> -> 1}\n",
      "[success] Total time: 2 s, completed 2022年7月20日 下午12:45:59\n",
      "========================================================\n",
      "pysdql execution time: 6.9362592697143555\n"
     ]
    },
    {
     "data": {
      "text/plain": [
       "{<revenue = 865.92> -> 1}"
      ]
     },
     "execution_count": 17,
     "metadata": {},
     "output_type": "execute_result"
    }
   ],
   "source": [
    "var1 = 'Brand#54'\n",
    "var2 = 'Brand#22'\n",
    "var3 = 'Brand#12'\n",
    "var4 = 1\n",
    "var4_1 = var4 + 10\n",
    "var5 = 18\n",
    "var5_1 = var5 + 10\n",
    "var6 = 26\n",
    "var6_1 = var6 + 10\n",
    "\n",
    "db_driver = pysdql.db_driver(db_path=r'T:/sdql')\n",
    "\n",
    "lineitem = pysdql.read_tbl(path=r'T:/UG4-Proj/datasets/lineitem.tbl', header=pysdql.LINEITEM_COLS)\n",
    "part = pysdql.read_tbl(path=r'T:/UG4-Proj/datasets/part.tbl', header=pysdql.PART_COLS)\n",
    "\n",
    "a1 = (part['p_brand'] == var1) \\\n",
    "     & (part['p_container'].isin(('SM CASE', 'SM BOX', 'SM PACK', 'SM PKG'))) \\\n",
    "     & (part['p_size'] >= 1) & (part['p_size'] <= 5)\n",
    "\n",
    "a2 = (part['p_brand'] == var2) \\\n",
    "     & (part['p_container'].isin(('MED BAG', 'MED BOX', 'MED PKG', 'MED PACK'))) \\\n",
    "     & (part['p_size'] >= 1) & (part['p_size'] <= 10)\n",
    "\n",
    "a3 = (part['p_brand'] == 'Brand#13') \\\n",
    "     & (part['p_container'].isin(('LG CASE', 'LG BOX', 'LG PACK', 'LG PKG'))) \\\n",
    "     & (part['p_size'] >= 1) & (part['p_size'] <= 15)\n",
    "\n",
    "sub_p = part[a1 | a2 | a3].rename('sub_p')\n",
    "\n",
    "b1 = (lineitem['l_quantity'] >= var4) & (lineitem['l_quantity'] <= var4_1) \\\n",
    "     & (lineitem['l_shipmode'].isin(('AIR', 'AIR REG'))) \\\n",
    "     & (lineitem['l_shipinstruct'] == 'DELIVER IN PERSON')\n",
    "\n",
    "b2 = (lineitem['l_quantity'] >= var5) & (lineitem['l_quantity'] <= var5_1) \\\n",
    "     & (lineitem['l_shipmode'].isin(('AIR', 'AIR REG'))) \\\n",
    "     & (lineitem['l_shipinstruct'] == 'DELIVER IN PERSON')\n",
    "\n",
    "b3 = (lineitem['l_quantity'] >= var6) \\\n",
    "     & (lineitem['l_quantity'] <= var6_1) \\\n",
    "     & (lineitem['l_shipmode'].isin(('AIR', 'AIR REG'))) \\\n",
    "     & (lineitem['l_shipinstruct'] == 'DELIVER IN PERSON')\n",
    "\n",
    "sub_l = lineitem[b1 | b2 | b3].rename('sub_l')\n",
    "\n",
    "r = sub_l.merge(sub_p, on=(sub_l['l_partkey'] == sub_p['p_partkey']))\n",
    "\n",
    "r = r.aggr(revenue=((r['l_extendedprice'] * (1 - r['l_discount'])), 'sum'))\n",
    "\n",
    "db_driver.run(r)"
   ]
  },
  {
   "cell_type": "markdown",
   "metadata": {},
   "source": [
    "# TPCH - 20"
   ]
  },
  {
   "cell_type": "code",
   "execution_count": 18,
   "metadata": {},
   "outputs": [
    {
     "name": "stdout",
     "output_type": "stream",
     "text": [
      "========================================================\n",
      "let supplier = load[{<s_suppkey: int, s_name: string, s_address: string, s_nationkey: int, s_phone: string, s_acctbal: double, s_comment: string> -> int}](\"T:/UG4-Proj/datasets/supplier.tbl\")\n",
      "let Rm0 = sum (<sup_k, sup_v> in supplier) sum (<sn_k, sn_v> in sub_n) if ((sup_k.s_nationkey == sn_k.n_nationkey)) then { concat(sup_k, sn_k) -> sup_v * sn_v } else {  }\n",
      "supplier\n",
      "========================================================\n",
      "[info] welcome to sbt 1.6.0 (Oracle Corporation Java 17)\n",
      "[info] loading project definition from T:\\sdql\\project\n",
      "[info] loading settings for project sdql from build.sbt ...\n",
      "[info] set current project to sdql (in build file:/T:/sdql/)\n",
      "[info]\n",
      "[info] Here are some highlights of this release:\n",
      "[info]   - Improved JDK 17 support\n",
      "[info]   - Improved Build Server Protocol (BSP) support\n",
      "[info]   - Tab completion of global keys\n",
      "[info] See https://eed3si9n.com/sbt-1.6.0 for full release notes.\n",
      "[info] Hide the banner for this release by running `skipBanner`.\n",
      "[error] server failed to start on local:sbt-server-ec9dcaf7bfc5935dead3. java.io.IOException: Could not create lock for \\\\.\\pipe\\sbt-server-ec9dcaf7bfc5935dead3_lock, error 5\n",
      "\u001b[?2004h>....[info] running sdql.driver.Main interpret T:/UG4-Proj/sdql_scripts/q.sdql\n",
      "[error] java.lang.Exception: Error: Variable `sub_n` not in scope!\n",
      "[error] \tat sdql.package$.raise(package.scala:6)\n",
      "[error] \tat sdql.backend.Interpreter$.run(Interpreter.scala:17)\n",
      "[error] \tat sdql.backend.Interpreter$.run(Interpreter.scala:105)\n",
      "[error] \tat sdql.backend.Interpreter$.$anonfun$run$8(Interpreter.scala:113)\n",
      "[error] \tat sdql.backend.Interpreter$.$anonfun$run$8$adapted(Interpreter.scala:112)\n",
      "[error] \tat scala.collection.immutable.HashMap$HashMap1.foreach(HashMap.scala:399)\n",
      "[error] \tat scala.collection.immutable.HashMap$HashTrieMap.foreach(HashMap.scala:725)\n",
      "[error] \tat scala.collection.immutable.HashMap$HashTrieMap.foreach(HashMap.scala:725)\n",
      "[error] \tat sdql.backend.Interpreter$.run(Interpreter.scala:112)\n",
      "[error] \tat sdql.backend.Interpreter$.run(Interpreter.scala:21)\n",
      "[error] \tat sdql.backend.Interpreter$.apply(Interpreter.scala:11)\n",
      "[error] \tat sdql.driver.Main$.main(Main.scala:19)\n",
      "[error] \tat sdql.driver.Main.main(Main.scala)\n",
      "[error] \tat java.base/jdk.internal.reflect.NativeMethodAccessorImpl.invoke0(Native Method)\n",
      "[error] \tat java.base/jdk.internal.reflect.NativeMethodAccessorImpl.invoke(NativeMethodAccessorImpl.java:77)\n",
      "[error] \tat java.base/jdk.internal.reflect.DelegatingMethodAccessorImpl.invoke(DelegatingMethodAccessorImpl.java:43)\n",
      "[error] \tat java.base/java.lang.reflect.Method.invoke(Method.java:568)\n",
      "[error] stack trace is suppressed; run 'last Compile / run' for the full output\n",
      "[error] (Compile / run) java.lang.Exception: Error: Variable `sub_n` not in scope!\n",
      "[error] Total time: 1 s, completed 2022年7月20日 下午12:46:05\n",
      "========================================================\n",
      "pysdql execution time: 5.967385768890381\n"
     ]
    },
    {
     "data": {
      "text/plain": [
       "[error] java.lang.Exception: Error: Variable `sub_n` not in scope![error] \tat sdql.package$.raise(package.scala:6)[error] \tat sdql.backend.Interpreter$.run(Interpreter.scala:17)[error] \tat sdql.backend.Interpreter$.run(Interpreter.scala:105)[error] \tat sdql.backend.Interpreter$.$anonfun$run$8(Interpreter.scala:113)[error] \tat sdql.backend.Interpreter$.$anonfun$run$8$adapted(Interpreter.scala:112)[error] \tat scala.collection.immutable.HashMap$HashMap1.foreach(HashMap.scala:399)[error] \tat scala.collection.immutable.HashMap$HashTrieMap.foreach(HashMap.scala:725)[error] \tat scala.collection.immutable.HashMap$HashTrieMap.foreach(HashMap.scala:725)[error] \tat sdql.backend.Interpreter$.run(Interpreter.scala:112)[error] \tat sdql.backend.Interpreter$.run(Interpreter.scala:21)[error] \tat sdql.backend.Interpreter$.apply(Interpreter.scala:11)[error] \tat sdql.driver.Main$.main(Main.scala:19)[error] \tat sdql.driver.Main.main(Main.scala)[error] \tat java.base/jdk.internal.reflect.NativeMethodAccessorImpl.invoke0(Native Method)[error] \tat java.base/jdk.internal.reflect.NativeMethodAccessorImpl.invoke(NativeMethodAccessorImpl.java:77)[error] \tat java.base/jdk.internal.reflect.DelegatingMethodAccessorImpl.invoke(DelegatingMethodAccessorImpl.java:43)[error] \tat java.base/java.lang.reflect.Method.invoke(Method.java:568)[error] stack trace is suppressed; run 'last Compile / run' for the full output[error] (Compile / run) java.lang.Exception: Error: Variable `sub_n` not in scope!"
      ]
     },
     "execution_count": 18,
     "metadata": {},
     "output_type": "execute_result"
    }
   ],
   "source": [
    "var1 = 'orange'\n",
    "var2 = '1994-01-01'\n",
    "var2_1 = '1995-01-01'  # var2 + 1 year\n",
    "var3 = 'FRANCE'\n",
    "\n",
    "db_driver = pysdql.db_driver(db_path=r'T:/sdql')\n",
    "\n",
    "lineitem = pysdql.read_tbl(path=r'T:/UG4-Proj/datasets/lineitem.tbl', header=pysdql.LINEITEM_COLS)\n",
    "part = pysdql.read_tbl(path=r'T:/UG4-Proj/datasets/part.tbl', header=pysdql.PART_COLS)\n",
    "partsupp = pysdql.read_tbl(path=r'T:/UG4-Proj/datasets/partsupp.tbl', header=pysdql.PARTSUPP_COLS)\n",
    "supplier = pysdql.read_tbl(path=r'T:/UG4-Proj/datasets/supplier.tbl', header=pysdql.SUPPLIER_COLS)\n",
    "nation = pysdql.read_tbl(path=r'T:/UG4-Proj/datasets/nation.tbl', header=pysdql.NATION_COLS)\n",
    "\n",
    "sub_l = lineitem[(lineitem['l_shipdate'] >= var2) & (lineitem['l_shipdate'] < var2_1)].rename('sub_l')\n",
    "agg_lineitem = sub_l.groupby(['l_partkey', 'l_suppkey']) \\\n",
    "    .aggr(agg_partkey=sub_l['l_partkey'],\n",
    "          agg_suppkey=sub_l['l_suppkey'],\n",
    "          agg_quantity=(0.5 * sub_l['l_quantity'], 'sum')) \\\n",
    "    .rename('agg_lineitem')\n",
    "\n",
    "sub_p = part[part['p_name'].startswith(var1)].rename('sub_p')\n",
    "\n",
    "r = partsupp.merge(agg_lineitem, on=(partsupp['ps_partkey'] == agg_lineitem['agg_partkey'])\n",
    "                                    & (partsupp['ps_suppkey'] == agg_lineitem['agg_suppkey']))\n",
    "\n",
    "r = r[(r['ps_partkey'].isin(sub_p['p_partkey']) & (r['ps_availqty'] > r['agg_quantity']))]\n",
    "\n",
    "sub_n = nation[(nation['n_name'] == var3)].rename('sub_n')\n",
    "\n",
    "s = supplier.merge(sub_n, on=supplier['s_nationkey'] == sub_n['n_nationkey'])\n",
    "\n",
    "s = s[(s['s_suppkey'].isin(r['ps_suppkey']))]\n",
    "\n",
    "s = s[['s_name', 's_address']]\n",
    "\n",
    "db_driver.run(supplier)"
   ]
  },
  {
   "cell_type": "markdown",
   "metadata": {},
   "source": [
    "# TPCH - 21"
   ]
  },
  {
   "cell_type": "code",
   "execution_count": 19,
   "metadata": {
    "pycharm": {
     "name": "#%%\n"
    }
   },
   "outputs": [
    {
     "name": "stdout",
     "output_type": "stream",
     "text": [
      "========================================================\n",
      "let l1 = load[{<l1_orderkey: int, l1_partkey: int, l1_suppkey: int, l1_linenumber: int, l1_quantity: int, l1_extendedprice: double, l1_discount: double, l1_tax: double, l1_returnflag: string, l1_linestatus: string, l1_shipdate: date, l1_commitdate: date, l1_receiptdate: date, l1_shipinstruct: string, l1_shipmode: string, l1_comment: string> -> int}](\"T:/UG4-Proj/datasets/lineitem.tbl\")\n",
      "let lmp = sum (<l1_k, l1_v> in l1) if ((l1_k.l1_commitdate < l1_k.l1_receiptdate)) then { l1_k -> 1 } else {  }\n",
      "let l3 = load[{<l3_orderkey: int, l3_partkey: int, l3_suppkey: int, l3_linenumber: int, l3_quantity: int, l3_extendedprice: double, l3_discount: double, l3_tax: double, l3_returnflag: string, l3_linestatus: string, l3_shipdate: date, l3_commitdate: date, l3_receiptdate: date, l3_shipinstruct: string, l3_shipmode: string, l3_comment: string> -> int}](\"T:/UG4-Proj/datasets/lineitem.tbl\")\n",
      "let lmp = sum (<l3_k, l3_v> in l3) if ((l3_k.l3_commitdate < l3_k.l3_receiptdate)) then { l3_k -> 1 } else {  }\n",
      "let Rm0 = sum (<l3_k, l3_v> in l3) sum (<l_k, l_v> in lmp) if (((l3_k.l3_orderkey == l_k.l1_orderkey) && (l3_k.l3_suppkey != l_k.l1_suppkey))) then { concat(l3_k, l_k) -> l3_v * l_v } else {  }\n",
      "let r2 = Rm0\n",
      "let count_r2 = sum (<r2_k, r2_v> in r2) r2_v\n",
      "let orders = load[{<o_orderkey: int, o_custkey: int, o_orderstatus: string, o_totalprice: double, o_orderdate: date, o_orderpriority: string, o_clerk: string, o_shippriority: int, o_comment: string> -> int}](\"T:/UG4-Proj/datasets/orders.tbl\")\n",
      "let omp = sum (<ord_k, ord_v> in orders) if ((ord_k.o_orderstatus == \"F\")) then { ord_k -> 1 } else {  }\n",
      "let lmp = sum (<l1_k, l1_v> in l1) if ((l1_k.l1_commitdate < l1_k.l1_receiptdate)) then { l1_k -> 1 } else {  }\n",
      "let nation = load[{<n_nationkey: int, n_name: string, n_regionkey: int, n_comment: string> -> int}](\"T:/UG4-Proj/datasets/nation.tbl\")\n",
      "let nmp = sum (<nat_k, nat_v> in nation) if ((nat_k.n_name == \"INDIA\")) then { nat_k -> 1 } else {  }\n",
      "let sub_n = nmp\n",
      "let supplier = load[{<s_suppkey: int, s_name: string, s_address: string, s_nationkey: int, s_phone: string, s_acctbal: double, s_comment: string> -> int}](\"T:/UG4-Proj/datasets/supplier.tbl\")\n",
      "let Rm0 = sum (<sup_k, sup_v> in supplier) sum (<sn_k, sn_v> in sub_n) if ((sup_k.s_nationkey == sn_k.n_nationkey)) then { concat(sup_k, sn_k) -> sup_v * sn_v } else {  }\n",
      "let join_ns = Rm0\n",
      "let Rm1 = sum (<jn_k, jn_v> in join_ns) sum (<l_k, l_v> in lmp) if ((jn_k.s_suppkey == l_k.l1_suppkey)) then { concat(jn_k, l_k) -> jn_v * l_v } else {  }\n",
      "let Rm2 = sum (<r1_k, r1_v> in Rm1) sum (<o_k, o_v> in omp) if ((r1_k.l1_orderkey == o_k.o_orderkey)) then { concat(r1_k, o_k) -> r1_v * o_v } else {  }\n",
      "let rmp = sum (<r2_k, r2_v> in Rm2) if (((0 < count_r1) && (count_r2 == 0))) then { r2_k -> 1 } else {  }\n",
      "Rm2\n",
      "========================================================\n",
      "[info] welcome to sbt 1.6.0 (Oracle Corporation Java 17)\n",
      "[info] loading project definition from T:\\sdql\\project\n",
      "[info] loading settings for project sdql from build.sbt ...\n",
      "[info] set current project to sdql (in build file:/T:/sdql/)\n",
      "[info]\n",
      "[info] Here are some highlights of this release:\n",
      "[info]   - Improved JDK 17 support\n",
      "[info]   - Improved Build Server Protocol (BSP) support\n",
      "[info]   - Tab completion of global keys\n",
      "[info] See https://eed3si9n.com/sbt-1.6.0 for full release notes.\n",
      "[info] Hide the banner for this release by running `skipBanner`.\n",
      "[error] server failed to start on local:sbt-server-ec9dcaf7bfc5935dead3. java.io.IOException: Could not create lock for \\\\.\\pipe\\sbt-server-ec9dcaf7bfc5935dead3_lock, error 5\n",
      "\u001b[?2004h>....[info] running sdql.driver.Main interpret T:/UG4-Proj/sdql_scripts/q.sdql\n",
      "[error] java.lang.Exception: Error: `RecordValue(ArrayBuffer((l3_orderkey,3264), (l3_partkey,131), (l3_suppkey,2), (l3_linenumber,2), (l3_quantity,34), (l3_extendedprice,35058.42), (l3_discount,0.0), (l3_tax,0.010000000000000002), (l3_returnflag,N), (l3_linestatus,O), (l3_shipdate,DateValue(19970103)), (l3_commitdate,DateValue(19970106)), (l3_receiptdate,DateValue(19970129)), (l3_shipinstruct,TAKE BACK RETURN), (l3_shipmode,REG AIR), (l3_comment,rns haggle carefully. blit\n",
      "))).l1_orderkey`: not field named `l1_orderkey`\n",
      "[error] \tat sdql.package$.raise(package.scala:6)\n",
      "[error] \tat sdql.backend.Interpreter$.run(Interpreter.scala:72)\n",
      "[error] \tat sdql.backend.Interpreter$.run(Interpreter.scala:45)\n",
      "[error] \tat sdql.backend.Interpreter$.run(Interpreter.scala:38)\n",
      "[error] \tat sdql.backend.Interpreter$.run(Interpreter.scala:38)\n",
      "[error] \tat sdql.backend.Interpreter$.$anonfun$run$8(Interpreter.scala:113)\n",
      "[error] \tat sdql.backend.Interpreter$.$anonfun$run$8$adapted(Interpreter.scala:112)\n",
      "[error] \tat scala.collection.immutable.HashMap$HashMap1.foreach(HashMap.scala:399)\n",
      "[error] \tat scala.collection.immutable.HashMap$HashTrieMap.foreach(HashMap.scala:725)\n",
      "[error] \tat scala.collection.immutable.HashMap$HashTrieMap.foreach(HashMap.scala:725)\n",
      "[error] \tat scala.collection.immutable.HashMap$HashTrieMap.foreach(HashMap.scala:725)\n",
      "[error] \tat sdql.backend.Interpreter$.run(Interpreter.scala:112)\n",
      "[error] \tat sdql.backend.Interpreter$.$anonfun$run$8(Interpreter.scala:113)\n",
      "[error] \tat sdql.backend.Interpreter$.$anonfun$run$8$adapted(Interpreter.scala:112)\n",
      "[error] \tat scala.collection.immutable.HashMap$HashMap1.foreach(HashMap.scala:399)\n",
      "[error] \tat scala.collection.immutable.HashMap$HashTrieMap.foreach(HashMap.scala:725)\n",
      "[error] \tat scala.collection.immutable.HashMap$HashTrieMap.foreach(HashMap.scala:725)\n",
      "[error] \tat scala.collection.immutable.HashMap$HashTrieMap.foreach(HashMap.scala:725)\n",
      "[error] \tat sdql.backend.Interpreter$.run(Interpreter.scala:112)\n",
      "[error] \tat sdql.backend.Interpreter$.run(Interpreter.scala:21)\n",
      "[error] \tat sdql.backend.Interpreter$.apply(Interpreter.scala:11)\n",
      "[error] \tat sdql.driver.Main$.main(Main.scala:19)\n",
      "[error] \tat sdql.driver.Main.main(Main.scala)\n",
      "[error] \tat java.base/jdk.internal.reflect.NativeMethodAccessorImpl.invoke0(Native Method)\n",
      "[error] \tat java.base/jdk.internal.reflect.NativeMethodAccessorImpl.invoke(NativeMethodAccessorImpl.java:77)\n",
      "[error] \tat java.base/jdk.internal.reflect.DelegatingMethodAccessorImpl.invoke(DelegatingMethodAccessorImpl.java:43)\n",
      "[error] \tat java.base/java.lang.reflect.Method.invoke(Method.java:568)\n",
      "[error] stack trace is suppressed; run 'last Compile / run' for the full output\n",
      "[error] (Compile / run) java.lang.Exception: Error: `RecordValue(ArrayBuffer((l3_orderkey,3264), (l3_partkey,131), (l3_suppkey,2), (l3_linenumber,2), (l3_quantity,34), (l3_extendedprice,35058.42), (l3_discount,0.0), (l3_tax,0.010000000000000002), (l3_returnflag,N), (l3_linestatus,O), (l3_shipdate,DateValue(19970103)), (l3_commitdate,DateValue(19970106)), (l3_receiptdate,DateValue(19970129)), (l3_shipinstruct,TAKE BACK RETURN), (l3_shipmode,REG AIR), (l3_comment,rns haggle carefully. blit\n",
      "))).l1_orderkey`: not field named `l1_orderkey`\n",
      "[error] Total time: 41 s, completed 2022年7月20日 下午12:46:52\n",
      "========================================================\n",
      "pysdql execution time: 46.53700876235962\n"
     ]
    },
    {
     "data": {
      "text/plain": [
       "[error] java.lang.Exception: Error: `RecordValue(ArrayBuffer((l3_orderkey,3264), (l3_partkey,131), (l3_suppkey,2), (l3_linenumber,2), (l3_quantity,34), (l3_extendedprice,35058.42), (l3_discount,0.0), (l3_tax,0.010000000000000002), (l3_returnflag,N), (l3_linestatus,O), (l3_shipdate,DateValue(19970103)), (l3_commitdate,DateValue(19970106)), (l3_receiptdate,DateValue(19970129)), (l3_shipinstruct,TAKE BACK RETURN), (l3_shipmode,REG AIR), (l3_comment,rns haggle carefully. blit))).l1_orderkey`: not field named `l1_orderkey`[error] \tat sdql.package$.raise(package.scala:6)[error] \tat sdql.backend.Interpreter$.run(Interpreter.scala:72)[error] \tat sdql.backend.Interpreter$.run(Interpreter.scala:45)[error] \tat sdql.backend.Interpreter$.run(Interpreter.scala:38)[error] \tat sdql.backend.Interpreter$.run(Interpreter.scala:38)[error] \tat sdql.backend.Interpreter$.$anonfun$run$8(Interpreter.scala:113)[error] \tat sdql.backend.Interpreter$.$anonfun$run$8$adapted(Interpreter.scala:112)[error] \tat scala.collection.immutable.HashMap$HashMap1.foreach(HashMap.scala:399)[error] \tat scala.collection.immutable.HashMap$HashTrieMap.foreach(HashMap.scala:725)[error] \tat scala.collection.immutable.HashMap$HashTrieMap.foreach(HashMap.scala:725)[error] \tat scala.collection.immutable.HashMap$HashTrieMap.foreach(HashMap.scala:725)[error] \tat sdql.backend.Interpreter$.run(Interpreter.scala:112)[error] \tat sdql.backend.Interpreter$.$anonfun$run$8(Interpreter.scala:113)[error] \tat sdql.backend.Interpreter$.$anonfun$run$8$adapted(Interpreter.scala:112)[error] \tat scala.collection.immutable.HashMap$HashMap1.foreach(HashMap.scala:399)[error] \tat scala.collection.immutable.HashMap$HashTrieMap.foreach(HashMap.scala:725)[error] \tat scala.collection.immutable.HashMap$HashTrieMap.foreach(HashMap.scala:725)[error] \tat scala.collection.immutable.HashMap$HashTrieMap.foreach(HashMap.scala:725)[error] \tat sdql.backend.Interpreter$.run(Interpreter.scala:112)[error] \tat sdql.backend.Interpreter$.run(Interpreter.scala:21)[error] \tat sdql.backend.Interpreter$.apply(Interpreter.scala:11)[error] \tat sdql.driver.Main$.main(Main.scala:19)[error] \tat sdql.driver.Main.main(Main.scala)[error] \tat java.base/jdk.internal.reflect.NativeMethodAccessorImpl.invoke0(Native Method)[error] \tat java.base/jdk.internal.reflect.NativeMethodAccessorImpl.invoke(NativeMethodAccessorImpl.java:77)[error] \tat java.base/jdk.internal.reflect.DelegatingMethodAccessorImpl.invoke(DelegatingMethodAccessorImpl.java:43)[error] \tat java.base/java.lang.reflect.Method.invoke(Method.java:568)[error] stack trace is suppressed; run 'last Compile / run' for the full output[error] (Compile / run) java.lang.Exception: Error: `RecordValue(ArrayBuffer((l3_orderkey,3264), (l3_partkey,131), (l3_suppkey,2), (l3_linenumber,2), (l3_quantity,34), (l3_extendedprice,35058.42), (l3_discount,0.0), (l3_tax,0.010000000000000002), (l3_returnflag,N), (l3_linestatus,O), (l3_shipdate,DateValue(19970103)), (l3_commitdate,DateValue(19970106)), (l3_receiptdate,DateValue(19970129)), (l3_shipinstruct,TAKE BACK RETURN), (l3_shipmode,REG AIR), (l3_comment,rns haggle carefully. blit))).l1_orderkey`: not field named `l1_orderkey`"
      ]
     },
     "execution_count": 19,
     "metadata": {},
     "output_type": "execute_result"
    }
   ],
   "source": [
    "var1 = 'INDIA'\n",
    "\n",
    "db_driver = pysdql.db_driver(db_path=r'T:/sdql')\n",
    "\n",
    "supplier = pysdql.read_tbl(path=r'T:/UG4-Proj/datasets/supplier.tbl', header=pysdql.SUPPLIER_COLS)\n",
    "l1_cols = ['l1_orderkey', 'l1_partkey', 'l1_suppkey', 'l1_linenumber', 'l1_quantity', 'l1_extendedprice',\n",
    "           'l1_discount', 'l1_tax', 'l1_returnflag', 'l1_linestatus', 'l1_shipdate', 'l1_commitdate',\n",
    "           'l1_receiptdate', 'l1_shipinstruct', 'l1_shipmode', 'l1_comment']\n",
    "l1 = pysdql.read_tbl(path=r'T:/UG4-Proj/datasets/lineitem.tbl', header=l1_cols, name='l1')\n",
    "l2_cols = ['l2_orderkey', 'l2_partkey', 'l2_suppkey', 'l2_linenumber', 'l2_quantity', 'l2_extendedprice',\n",
    "           'l2_discount', 'l2_tax', 'l2_returnflag', 'l2_linestatus', 'l2_shipdate', 'l2_commitdate',\n",
    "           'l2_receiptdate', 'l2_shipinstruct', 'l2_shipmode', 'l2_comment']\n",
    "l2 = pysdql.read_tbl(path=r'T:/UG4-Proj/datasets/lineitem.tbl', header=l2_cols, name='l2')\n",
    "l3_cols = ['l3_orderkey', 'l3_partkey', 'l3_suppkey', 'l3_linenumber', 'l3_quantity', 'l3_extendedprice',\n",
    "           'l3_discount', 'l3_tax', 'l3_returnflag', 'l3_linestatus', 'l3_shipdate', 'l3_commitdate',\n",
    "           'l3_receiptdate', 'l3_shipinstruct', 'l3_shipmode', 'l3_comment']\n",
    "l3 = pysdql.read_tbl(path=r'T:/UG4-Proj/datasets/lineitem.tbl', header=l3_cols, name='l3')\n",
    "orders = pysdql.read_tbl(path=r'T:/UG4-Proj/datasets/orders.tbl', header=pysdql.ORDERS_COLS)\n",
    "nation = pysdql.read_tbl(path=r'T:/UG4-Proj/datasets/nation.tbl', header=pysdql.NATION_COLS)\n",
    "\n",
    "sub_n = nation[(nation['n_name'] == var1)].rename('sub_n')\n",
    "\n",
    "join_ns = supplier.merge(sub_n, on=supplier['s_nationkey'] == sub_n['n_nationkey']).rename('join_ns')\n",
    "\n",
    "sub_l1 = l1[(l1['l1_receiptdate'] > l1['l1_commitdate'])]\n",
    "\n",
    "r = join_ns.merge(sub_l1, on=(join_ns['s_suppkey'] == sub_l1['l1_suppkey']))\n",
    "\n",
    "sub_o = orders[(orders['o_orderstatus'] == 'F')]\n",
    "\n",
    "r = r.merge(sub_o, on=(r['l1_orderkey'] == sub_o['o_orderkey']))\n",
    "\n",
    "r1 = l2.merge(sub_l1, on=((l2['l2_orderkey'] == sub_l1['l1_orderkey'])\n",
    "                          & (l2['l2_suppkey'] != sub_l1['l1_suppkey']))\n",
    "              ).rename('r1')\n",
    "\n",
    "sub_l3 = l3[(l3['l3_receiptdate'] > l3['l3_commitdate'])]\n",
    "\n",
    "r2 = l3.merge(sub_l1,\n",
    "              on=((l3['l3_orderkey'] == sub_l1['l1_orderkey'])\n",
    "                  & (l3['l3_suppkey'] != sub_l1['l1_suppkey']))\n",
    "              ).rename('r2')\n",
    "\n",
    "s = r[r1.exists() & r2.not_exists()]\n",
    "\n",
    "s = s.groupby(['s_name']).aggr(numwait=('*', 'count'))\n",
    "\n",
    "db_driver.run(r)"
   ]
  },
  {
   "cell_type": "markdown",
   "metadata": {
    "pycharm": {
     "name": "#%% md\n"
    }
   },
   "source": [
    "# TPCH - 22"
   ]
  },
  {
   "cell_type": "code",
   "execution_count": 20,
   "metadata": {
    "pycharm": {
     "name": "#%%\n"
    }
   },
   "outputs": [
    {
     "name": "stdout",
     "output_type": "stream",
     "text": [
      "========================================================\n",
      "let customer = load[{<c_custkey: int, c_name: string, c_address: string, c_nationkey: int, c_phone: string, c_acctbal: double, c_mktsegment: string, c_comment: string> -> int}](\"T:/UG4-Proj/datasets/customer.tbl\")\n",
      "let cmp = sum (<cus_k, cus_v> in customer) if (((0.0 < cus_k.c_acctbal) && (((((((ext(`SubString`, cus_k.c_phone, 0, 2) == \"25\") || (ext(`SubString`, cus_k.c_phone, 0, 2) == \"27\")) || (ext(`SubString`, cus_k.c_phone, 0, 2) == \"16\")) || (ext(`SubString`, cus_k.c_phone, 0, 2) == \"12\")) || (ext(`SubString`, cus_k.c_phone, 0, 2) == \"18\")) || (ext(`SubString`, cus_k.c_phone, 0, 2) == \"14\")) || (ext(`SubString`, cus_k.c_phone, 0, 2) == \"30\")))) then { cus_k -> 1 } else {  }\n",
      "cmp\n",
      "========================================================\n",
      "[info] welcome to sbt 1.6.0 (Oracle Corporation Java 17)\n",
      "[info] loading project definition from T:\\sdql\\project\n",
      "[info] loading settings for project sdql from build.sbt ...\n",
      "[info] set current project to sdql (in build file:/T:/sdql/)\n",
      "[info]\n",
      "[info] Here are some highlights of this release:\n",
      "[info]   - Improved JDK 17 support\n",
      "[info]   - Improved Build Server Protocol (BSP) support\n",
      "[info]   - Tab completion of global keys\n",
      "[info] See https://eed3si9n.com/sbt-1.6.0 for full release notes.\n",
      "[info] Hide the banner for this release by running `skipBanner`.\n",
      "[error] server failed to start on local:sbt-server-ec9dcaf7bfc5935dead3. java.io.IOException: Could not create lock for \\\\.\\pipe\\sbt-server-ec9dcaf7bfc5935dead3_lock, error 5\n",
      "\u001b[?2004h>....[info] running sdql.driver.Main interpret T:/UG4-Proj/sdql_scripts/q.sdql\n",
      "{<c_custkey = 115, c_name = Customer#000000115, c_address = 0WFt1IXENmUT2BgbsB0ShVKJZt0HCBCbFl0aHc, c_nationkey = 8, c_phone = 18-971-699-1843, c_acctbal = 7508.92, c_mktsegment = HOUSEHOLD, c_comment = sits haggle above the carefully ironic theodolite\n",
      "> -> 1, <c_custkey = 53, c_name = Customer#000000053, c_address = HnaxHzTfFTZs8MuCpJyTbZ47Cm4wFOOgib, c_nationkey = 15, c_phone = 25-168-852-5363, c_acctbal = 4113.64, c_mktsegment = HOUSEHOLD, c_comment = ar accounts are. even foxes are blithely. fluffily pending deposits boost\n",
      "> -> 1, <c_custkey = 50, c_name = Customer#000000050, c_address = 9SzDYlkzxByyJ1QeTI o, c_nationkey = 6, c_phone = 16-658-112-3221, c_acctbal = 4266.13, c_mktsegment = MACHINERY, c_comment = ts. furiously ironic accounts cajole furiously slyly ironic dinos.\n",
      "> -> 1, <c_custkey = 54, c_name = Customer#000000054, c_address = ,k4vf 5vECGWFy,hosTE,, c_nationkey = 4, c_phone = 14-776-370-4745, c_acctbal = 868.9, c_mktsegment = AUTOMOBILE, c_comment = sual, silent accounts. furiously express accounts cajole special deposits. final, final accounts use furi\n",
      "> -> 1, <c_custkey = 4, c_name = Customer#000000004, c_address = XxVSJsLAGtn, c_nationkey = 4, c_phone = 14-128-190-5944, c_acctbal = 2866.83, c_mktsegment = MACHINERY, c_comment =  requests. final, regular ideas sleep final accou\n",
      "> -> 1, <c_custkey = 77, c_name = Customer#000000077, c_address = 4tAE5KdMFGD4byHtXF92vx, c_nationkey = 17, c_phone = 27-269-357-4674, c_acctbal = 1738.87, c_mktsegment = BUILDING, c_comment = uffily silent requests. carefully ironic asymptotes among the ironic hockey players are carefully bli\n",
      "> -> 1, <c_custkey = 97, c_name = Customer#000000097, c_address = OApyejbhJG,0Iw3j rd1M, c_nationkey = 17, c_phone = 27-588-919-5638, c_acctbal = 2164.48, c_mktsegment = AUTOMOBILE, c_comment = haggle slyly. bold, special ideas are blithely above the thinly bold theo\n",
      "> -> 1, <c_custkey = 140, c_name = Customer#000000140, c_address = XRqEPiKgcETII,iOLDZp5jA, c_nationkey = 4, c_phone = 14-273-885-6505, c_acctbal = 9963.15, c_mktsegment = MACHINERY, c_comment = ies detect slyly ironic accounts. slyly ironic theodolites hag\n",
      "> -> 1, <c_custkey = 92, c_name = Customer#000000092, c_address = obP PULk2LH LqNF,K9hcbNqnLAkJVsl5xqSrY,, c_nationkey = 2, c_phone = 12-446-416-8471, c_acctbal = 1182.91, c_mktsegment = MACHINERY, c_comment = . pinto beans hang slyly final deposits. ac\n",
      "> -> 1, <c_custkey = 1, c_name = Customer#000000001, c_address = IVhzIApeRb ot,c,E, c_nationkey = 15, c_phone = 25-989-741-2988, c_acctbal = 711.56, c_mktsegment = BUILDING, c_comment = to the even, regular platelets. regular, ironic epitaphs nag e\n",
      "> -> 1, <c_custkey = 91, c_name = Customer#000000091, c_address = S8OMYFrpHwoNHaGBeuS6E 6zhHGZiprw1b7 q, c_nationkey = 8, c_phone = 18-239-400-3677, c_acctbal = 4643.14, c_mktsegment = AUTOMOBILE, c_comment = onic accounts. fluffily silent pinto beans boost blithely according to the fluffily exp\n",
      "> -> 1, <c_custkey = 47, c_name = Customer#000000047, c_address = b0UgocSqEW5 gdVbhNT, c_nationkey = 2, c_phone = 12-427-271-9466, c_acctbal = 274.58, c_mktsegment = BUILDING, c_comment = ions. express, ironic instructions sleep furiously ironic ideas. furi\n",
      "> -> 1, <c_custkey = 79, c_name = Customer#000000079, c_address = n5hH2ftkVRwW8idtD,BmM2, c_nationkey = 15, c_phone = 25-147-850-4166, c_acctbal = 5121.28, c_mktsegment = MACHINERY, c_comment = es. packages haggle furiously. regular, special requests poach after the quickly express ideas. blithely pending re\n",
      "> -> 1, <c_custkey = 81, c_name = Customer#000000081, c_address = SH6lPA7JiiNC6dNTrR, c_nationkey = 20, c_phone = 30-165-277-3269, c_acctbal = 2023.71, c_mktsegment = BUILDING, c_comment = r packages. fluffily ironic requests cajole fluffily. ironically regular theodolit\n",
      "> -> 1, <c_custkey = 107, c_name = Customer#000000107, c_address = Zwg64UZ,q7GRqo3zm7P1tZIRshBDz, c_nationkey = 15, c_phone = 25-336-529-9919, c_acctbal = 2514.15, c_mktsegment = AUTOMOBILE, c_comment = counts cajole slyly. regular requests wake. furiously regular deposits about the blithely final fo\n",
      "> -> 1, <c_custkey = 21, c_name = Customer#000000021, c_address = XYmVpr9yAHDEn, c_nationkey = 8, c_phone = 18-902-614-8344, c_acctbal = 1428.25, c_mktsegment = MACHINERY, c_comment =  quickly final accounts integrate blithely furiously u\n",
      "> -> 1, <c_custkey = 28, c_name = Customer#000000028, c_address = iVyg0daQ,Tha8x2WPWA9m2529m, c_nationkey = 8, c_phone = 18-774-241-1462, c_acctbal = 1007.18, c_mktsegment = FURNITURE, c_comment =  along the regular deposits. furiously final pac\n",
      "> -> 1, <c_custkey = 133, c_name = Customer#000000133, c_address = IMCuXdpIvdkYO92kgDGuyHgojcUs88p, c_nationkey = 17, c_phone = 27-408-997-8430, c_acctbal = 2314.67, c_mktsegment = AUTOMOBILE, c_comment = t packages. express pinto beans are blithely along the unusual, even theodolites. silent packages use fu\n",
      "> -> 1, <c_custkey = 99, c_name = Customer#000000099, c_address = szsrOiPtCHVS97Lt, c_nationkey = 15, c_phone = 25-515-237-9232, c_acctbal = 4088.65, c_mktsegment = HOUSEHOLD, c_comment = cajole slyly about the regular theodolites! furiously bold requests nag along the pending, regular packages. somas\n",
      "> -> 1, <c_custkey = 96, c_name = Customer#000000096, c_address = vWLOrmXhRR, c_nationkey = 8, c_phone = 18-422-845-1202, c_acctbal = 6323.92, c_mktsegment = AUTOMOBILE, c_comment = press requests believe furiously. carefully final instructions snooze carefully.\n",
      "> -> 1, <c_custkey = 39, c_name = Customer#000000039, c_address = nnbRg,Pvy33dfkorYE FdeZ60, c_nationkey = 2, c_phone = 12-387-467-6509, c_acctbal = 6264.31, c_mktsegment = AUTOMOBILE, c_comment = tions. slyly silent excuses slee\n",
      "> -> 1, <c_custkey = 74, c_name = Customer#000000074, c_address = IkJHCA3ZThF7qL7VKcrU nRLl,kylf , c_nationkey = 4, c_phone = 14-199-862-7209, c_acctbal = 2764.43, c_mktsegment = MACHINERY, c_comment = onic accounts. blithely slow packages would haggle carefully. qui\n",
      "> -> 1, <c_custkey = 17, c_name = Customer#000000017, c_address = izrh 6jdqtp2eqdtbkswDD8SG4SzXruMfIXyR7, c_nationkey = 2, c_phone = 12-970-682-3487, c_acctbal = 6.34, c_mktsegment = AUTOMOBILE, c_comment = packages wake! blithely even pint\n",
      "> -> 1, <c_custkey = 34, c_name = Customer#000000034, c_address = Q6G9wZ6dnczmtOx509xgE,M2KV, c_nationkey = 15, c_phone = 25-344-968-5422, c_acctbal = 8589.7, c_mktsegment = HOUSEHOLD, c_comment = nder against the even, pending accounts. even\n",
      "> -> 1, <c_custkey = 8, c_name = Customer#000000008, c_address = I0B10bB0AymmC, 0PrRYBCP1yGJ8xcBPmWhl5, c_nationkey = 17, c_phone = 27-147-574-9335, c_acctbal = 6819.74, c_mktsegment = BUILDING, c_comment = among the slyly regular theodolites kindle blithely courts. carefully even theodolites haggle slyly along the ide\n",
      "> -> 1, <c_custkey = 100, c_name = Customer#000000100, c_address = fptUABXcmkC5Wx, c_nationkey = 20, c_phone = 30-749-445-4907, c_acctbal = 9889.89, c_mktsegment = FURNITURE, c_comment = was furiously fluffily quiet deposits. silent, pending requests boost against\n",
      "> -> 1, <c_custkey = 121, c_name = Customer#000000121, c_address = tv nCR2YKupGN73mQudO, c_nationkey = 17, c_phone = 27-411-990-2959, c_acctbal = 6428.32, c_mktsegment = BUILDING, c_comment = uriously stealthy ideas. carefully final courts use carefully\n",
      "> -> 1, <c_custkey = 6, c_name = Customer#000000006, c_address = sKZz0CsnMD7mp4Xd0YrBvx,LREYKUWAh yVn, c_nationkey = 20, c_phone = 30-114-968-4951, c_acctbal = 7638.57, c_mktsegment = AUTOMOBILE, c_comment = tions. even deposits boost according to the slyly bold packages. final accounts cajole requests. furious\n",
      "> -> 1, <c_custkey = 35, c_name = Customer#000000035, c_address = TEjWGE4nBzJL2, c_nationkey = 17, c_phone = 27-566-888-7431, c_acctbal = 1228.24, c_mktsegment = HOUSEHOLD, c_comment = requests. special, express requests nag slyly furiousl\n",
      "> -> 1, <c_custkey = 32, c_name = Customer#000000032, c_address = jD2xZzi UmId,DCtNBLXKj9q0Tlp2iQ6ZcO3J, c_nationkey = 15, c_phone = 25-430-914-2194, c_acctbal = 3471.53, c_mktsegment = BUILDING, c_comment = cial ideas. final, furious requests across the e\n",
      "> -> 1, <c_custkey = 101, c_name = Customer#000000101, c_address = sMmL2rNeHDltovSm Y, c_nationkey = 2, c_phone = 12-514-298-3699, c_acctbal = 7470.96, c_mktsegment = MACHINERY, c_comment =  sleep. pending packages detect slyly ironic pack\n",
      "> -> 1, <c_custkey = 95, c_name = Customer#000000095, c_address = EU0xvmWvOmUUn5J,2z85DQyG7QCJ9Xq7, c_nationkey = 15, c_phone = 25-923-255-2929, c_acctbal = 5327.38, c_mktsegment = MACHINERY, c_comment = ithely. ruthlessly final requests wake slyly alongside of the furiously silent pinto beans. even the\n",
      "> -> 1, <c_custkey = 132, c_name = Customer#000000132, c_address = QM5YabAsTLp9, c_nationkey = 4, c_phone = 14-692-150-9717, c_acctbal = 162.57, c_mktsegment = HOUSEHOLD, c_comment = uickly carefully special theodolites. carefully regular requests against the blithely unusual instructions\n",
      "> -> 1, <c_custkey = 46, c_name = Customer#000000046, c_address = eaTXWWm10L9, c_nationkey = 6, c_phone = 16-357-681-2007, c_acctbal = 5744.59, c_mktsegment = AUTOMOBILE, c_comment = ctions. accounts sleep furiously even requests. regular, regular accounts cajole blithely around the final pa\n",
      "> -> 1, <c_custkey = 61, c_name = Customer#000000061, c_address = 9kndve4EAJxhg3veF BfXr7AqOsT39o gtqjaYE, c_nationkey = 17, c_phone = 27-626-559-8599, c_acctbal = 1536.24, c_mktsegment = FURNITURE, c_comment = egular packages shall have to impress along the\n",
      "> -> 1, <c_custkey = 9, c_name = Customer#000000009, c_address = xKiAFTjUsCuxfeleNqefumTrjS, c_nationkey = 8, c_phone = 18-338-906-3675, c_acctbal = 8324.07, c_mktsegment = FURNITURE, c_comment = r theodolites according to the requests wake thinly excuses: pending requests haggle furiousl\n",
      "> -> 1, <c_custkey = 18, c_name = Customer#000000018, c_address = 3txGO AiuFux3zT0Z9NYaFRnZt, c_nationkey = 6, c_phone = 16-155-215-1315, c_acctbal = 5494.43, c_mktsegment = BUILDING, c_comment = s sleep. carefully even instructions nag furiously alongside of t\n",
      "> -> 1}\n",
      "[success] Total time: 1 s, completed 2022年7月20日 下午12:46:58\n",
      "========================================================\n",
      "pysdql execution time: 5.986402988433838\n"
     ]
    },
    {
     "data": {
      "text/plain": [
       "{<c_custkey = 115, c_name = Customer#000000115, c_address = 0WFt1IXENmUT2BgbsB0ShVKJZt0HCBCbFl0aHc, c_nationkey = 8, c_phone = 18-971-699-1843, c_acctbal = 7508.92, c_mktsegment = HOUSEHOLD, c_comment = sits haggle above the carefully ironic theodolite> -> 1, <c_custkey = 53, c_name = Customer#000000053, c_address = HnaxHzTfFTZs8MuCpJyTbZ47Cm4wFOOgib, c_nationkey = 15, c_phone = 25-168-852-5363, c_acctbal = 4113.64, c_mktsegment = HOUSEHOLD, c_comment = ar accounts are. even foxes are blithely. fluffily pending deposits boost> -> 1, <c_custkey = 50, c_name = Customer#000000050, c_address = 9SzDYlkzxByyJ1QeTI o, c_nationkey = 6, c_phone = 16-658-112-3221, c_acctbal = 4266.13, c_mktsegment = MACHINERY, c_comment = ts. furiously ironic accounts cajole furiously slyly ironic dinos.> -> 1, <c_custkey = 54, c_name = Customer#000000054, c_address = ,k4vf 5vECGWFy,hosTE,, c_nationkey = 4, c_phone = 14-776-370-4745, c_acctbal = 868.9, c_mktsegment = AUTOMOBILE, c_comment = sual, silent accounts. furiously express accounts cajole special deposits. final, final accounts use furi> -> 1, <c_custkey = 4, c_name = Customer#000000004, c_address = XxVSJsLAGtn, c_nationkey = 4, c_phone = 14-128-190-5944, c_acctbal = 2866.83, c_mktsegment = MACHINERY, c_comment =  requests. final, regular ideas sleep final accou> -> 1, <c_custkey = 77, c_name = Customer#000000077, c_address = 4tAE5KdMFGD4byHtXF92vx, c_nationkey = 17, c_phone = 27-269-357-4674, c_acctbal = 1738.87, c_mktsegment = BUILDING, c_comment = uffily silent requests. carefully ironic asymptotes among the ironic hockey players are carefully bli> -> 1, <c_custkey = 97, c_name = Customer#000000097, c_address = OApyejbhJG,0Iw3j rd1M, c_nationkey = 17, c_phone = 27-588-919-5638, c_acctbal = 2164.48, c_mktsegment = AUTOMOBILE, c_comment = haggle slyly. bold, special ideas are blithely above the thinly bold theo> -> 1, <c_custkey = 140, c_name = Customer#000000140, c_address = XRqEPiKgcETII,iOLDZp5jA, c_nationkey = 4, c_phone = 14-273-885-6505, c_acctbal = 9963.15, c_mktsegment = MACHINERY, c_comment = ies detect slyly ironic accounts. slyly ironic theodolites hag> -> 1, <c_custkey = 92, c_name = Customer#000000092, c_address = obP PULk2LH LqNF,K9hcbNqnLAkJVsl5xqSrY,, c_nationkey = 2, c_phone = 12-446-416-8471, c_acctbal = 1182.91, c_mktsegment = MACHINERY, c_comment = . pinto beans hang slyly final deposits. ac> -> 1, <c_custkey = 1, c_name = Customer#000000001, c_address = IVhzIApeRb ot,c,E, c_nationkey = 15, c_phone = 25-989-741-2988, c_acctbal = 711.56, c_mktsegment = BUILDING, c_comment = to the even, regular platelets. regular, ironic epitaphs nag e> -> 1, <c_custkey = 91, c_name = Customer#000000091, c_address = S8OMYFrpHwoNHaGBeuS6E 6zhHGZiprw1b7 q, c_nationkey = 8, c_phone = 18-239-400-3677, c_acctbal = 4643.14, c_mktsegment = AUTOMOBILE, c_comment = onic accounts. fluffily silent pinto beans boost blithely according to the fluffily exp> -> 1, <c_custkey = 47, c_name = Customer#000000047, c_address = b0UgocSqEW5 gdVbhNT, c_nationkey = 2, c_phone = 12-427-271-9466, c_acctbal = 274.58, c_mktsegment = BUILDING, c_comment = ions. express, ironic instructions sleep furiously ironic ideas. furi> -> 1, <c_custkey = 79, c_name = Customer#000000079, c_address = n5hH2ftkVRwW8idtD,BmM2, c_nationkey = 15, c_phone = 25-147-850-4166, c_acctbal = 5121.28, c_mktsegment = MACHINERY, c_comment = es. packages haggle furiously. regular, special requests poach after the quickly express ideas. blithely pending re> -> 1, <c_custkey = 81, c_name = Customer#000000081, c_address = SH6lPA7JiiNC6dNTrR, c_nationkey = 20, c_phone = 30-165-277-3269, c_acctbal = 2023.71, c_mktsegment = BUILDING, c_comment = r packages. fluffily ironic requests cajole fluffily. ironically regular theodolit> -> 1, <c_custkey = 107, c_name = Customer#000000107, c_address = Zwg64UZ,q7GRqo3zm7P1tZIRshBDz, c_nationkey = 15, c_phone = 25-336-529-9919, c_acctbal = 2514.15, c_mktsegment = AUTOMOBILE, c_comment = counts cajole slyly. regular requests wake. furiously regular deposits about the blithely final fo> -> 1, <c_custkey = 21, c_name = Customer#000000021, c_address = XYmVpr9yAHDEn, c_nationkey = 8, c_phone = 18-902-614-8344, c_acctbal = 1428.25, c_mktsegment = MACHINERY, c_comment =  quickly final accounts integrate blithely furiously u> -> 1, <c_custkey = 28, c_name = Customer#000000028, c_address = iVyg0daQ,Tha8x2WPWA9m2529m, c_nationkey = 8, c_phone = 18-774-241-1462, c_acctbal = 1007.18, c_mktsegment = FURNITURE, c_comment =  along the regular deposits. furiously final pac> -> 1, <c_custkey = 133, c_name = Customer#000000133, c_address = IMCuXdpIvdkYO92kgDGuyHgojcUs88p, c_nationkey = 17, c_phone = 27-408-997-8430, c_acctbal = 2314.67, c_mktsegment = AUTOMOBILE, c_comment = t packages. express pinto beans are blithely along the unusual, even theodolites. silent packages use fu> -> 1, <c_custkey = 99, c_name = Customer#000000099, c_address = szsrOiPtCHVS97Lt, c_nationkey = 15, c_phone = 25-515-237-9232, c_acctbal = 4088.65, c_mktsegment = HOUSEHOLD, c_comment = cajole slyly about the regular theodolites! furiously bold requests nag along the pending, regular packages. somas> -> 1, <c_custkey = 96, c_name = Customer#000000096, c_address = vWLOrmXhRR, c_nationkey = 8, c_phone = 18-422-845-1202, c_acctbal = 6323.92, c_mktsegment = AUTOMOBILE, c_comment = press requests believe furiously. carefully final instructions snooze carefully.> -> 1, <c_custkey = 39, c_name = Customer#000000039, c_address = nnbRg,Pvy33dfkorYE FdeZ60, c_nationkey = 2, c_phone = 12-387-467-6509, c_acctbal = 6264.31, c_mktsegment = AUTOMOBILE, c_comment = tions. slyly silent excuses slee> -> 1, <c_custkey = 74, c_name = Customer#000000074, c_address = IkJHCA3ZThF7qL7VKcrU nRLl,kylf , c_nationkey = 4, c_phone = 14-199-862-7209, c_acctbal = 2764.43, c_mktsegment = MACHINERY, c_comment = onic accounts. blithely slow packages would haggle carefully. qui> -> 1, <c_custkey = 17, c_name = Customer#000000017, c_address = izrh 6jdqtp2eqdtbkswDD8SG4SzXruMfIXyR7, c_nationkey = 2, c_phone = 12-970-682-3487, c_acctbal = 6.34, c_mktsegment = AUTOMOBILE, c_comment = packages wake! blithely even pint> -> 1, <c_custkey = 34, c_name = Customer#000000034, c_address = Q6G9wZ6dnczmtOx509xgE,M2KV, c_nationkey = 15, c_phone = 25-344-968-5422, c_acctbal = 8589.7, c_mktsegment = HOUSEHOLD, c_comment = nder against the even, pending accounts. even> -> 1, <c_custkey = 8, c_name = Customer#000000008, c_address = I0B10bB0AymmC, 0PrRYBCP1yGJ8xcBPmWhl5, c_nationkey = 17, c_phone = 27-147-574-9335, c_acctbal = 6819.74, c_mktsegment = BUILDING, c_comment = among the slyly regular theodolites kindle blithely courts. carefully even theodolites haggle slyly along the ide> -> 1, <c_custkey = 100, c_name = Customer#000000100, c_address = fptUABXcmkC5Wx, c_nationkey = 20, c_phone = 30-749-445-4907, c_acctbal = 9889.89, c_mktsegment = FURNITURE, c_comment = was furiously fluffily quiet deposits. silent, pending requests boost against> -> 1, <c_custkey = 121, c_name = Customer#000000121, c_address = tv nCR2YKupGN73mQudO, c_nationkey = 17, c_phone = 27-411-990-2959, c_acctbal = 6428.32, c_mktsegment = BUILDING, c_comment = uriously stealthy ideas. carefully final courts use carefully> -> 1, <c_custkey = 6, c_name = Customer#000000006, c_address = sKZz0CsnMD7mp4Xd0YrBvx,LREYKUWAh yVn, c_nationkey = 20, c_phone = 30-114-968-4951, c_acctbal = 7638.57, c_mktsegment = AUTOMOBILE, c_comment = tions. even deposits boost according to the slyly bold packages. final accounts cajole requests. furious> -> 1, <c_custkey = 35, c_name = Customer#000000035, c_address = TEjWGE4nBzJL2, c_nationkey = 17, c_phone = 27-566-888-7431, c_acctbal = 1228.24, c_mktsegment = HOUSEHOLD, c_comment = requests. special, express requests nag slyly furiousl> -> 1, <c_custkey = 32, c_name = Customer#000000032, c_address = jD2xZzi UmId,DCtNBLXKj9q0Tlp2iQ6ZcO3J, c_nationkey = 15, c_phone = 25-430-914-2194, c_acctbal = 3471.53, c_mktsegment = BUILDING, c_comment = cial ideas. final, furious requests across the e> -> 1, <c_custkey = 101, c_name = Customer#000000101, c_address = sMmL2rNeHDltovSm Y, c_nationkey = 2, c_phone = 12-514-298-3699, c_acctbal = 7470.96, c_mktsegment = MACHINERY, c_comment =  sleep. pending packages detect slyly ironic pack> -> 1, <c_custkey = 95, c_name = Customer#000000095, c_address = EU0xvmWvOmUUn5J,2z85DQyG7QCJ9Xq7, c_nationkey = 15, c_phone = 25-923-255-2929, c_acctbal = 5327.38, c_mktsegment = MACHINERY, c_comment = ithely. ruthlessly final requests wake slyly alongside of the furiously silent pinto beans. even the> -> 1, <c_custkey = 132, c_name = Customer#000000132, c_address = QM5YabAsTLp9, c_nationkey = 4, c_phone = 14-692-150-9717, c_acctbal = 162.57, c_mktsegment = HOUSEHOLD, c_comment = uickly carefully special theodolites. carefully regular requests against the blithely unusual instructions> -> 1, <c_custkey = 46, c_name = Customer#000000046, c_address = eaTXWWm10L9, c_nationkey = 6, c_phone = 16-357-681-2007, c_acctbal = 5744.59, c_mktsegment = AUTOMOBILE, c_comment = ctions. accounts sleep furiously even requests. regular, regular accounts cajole blithely around the final pa> -> 1, <c_custkey = 61, c_name = Customer#000000061, c_address = 9kndve4EAJxhg3veF BfXr7AqOsT39o gtqjaYE, c_nationkey = 17, c_phone = 27-626-559-8599, c_acctbal = 1536.24, c_mktsegment = FURNITURE, c_comment = egular packages shall have to impress along the> -> 1, <c_custkey = 9, c_name = Customer#000000009, c_address = xKiAFTjUsCuxfeleNqefumTrjS, c_nationkey = 8, c_phone = 18-338-906-3675, c_acctbal = 8324.07, c_mktsegment = FURNITURE, c_comment = r theodolites according to the requests wake thinly excuses: pending requests haggle furiousl> -> 1, <c_custkey = 18, c_name = Customer#000000018, c_address = 3txGO AiuFux3zT0Z9NYaFRnZt, c_nationkey = 6, c_phone = 16-155-215-1315, c_acctbal = 5494.43, c_mktsegment = BUILDING, c_comment = s sleep. carefully even instructions nag furiously alongside of t> -> 1}"
      ]
     },
     "execution_count": 20,
     "metadata": {},
     "output_type": "execute_result"
    }
   ],
   "source": [
    "var1 = ('16', '12', '18', '14', '30', '27', '25')\n",
    "\n",
    "db_driver = pysdql.db_driver(db_path=r'T:/sdql')\n",
    "\n",
    "customer = pysdql.read_tbl(path=r'T:/UG4-Proj/datasets/customer.tbl', header=pysdql.CUSTOMER_COLS)\n",
    "\n",
    "sub_c = customer[(customer['c_acctbal'] > 0.00)\n",
    "                 & (customer['c_phone'].str.substring(0, 2).isin(var1))]\n",
    "\n",
    "db_driver.run(sub_c)"
   ]
  }
 ],
 "metadata": {
  "kernelspec": {
   "display_name": "Python 3 (ipykernel)",
   "language": "python",
   "name": "python3"
  },
  "language_info": {
   "codemirror_mode": {
    "name": "ipython",
    "version": 3
   },
   "file_extension": ".py",
   "mimetype": "text/x-python",
   "name": "python",
   "nbconvert_exporter": "python",
   "pygments_lexer": "ipython3",
   "version": "3.9.7"
  }
 },
 "nbformat": 4,
 "nbformat_minor": 1
}
