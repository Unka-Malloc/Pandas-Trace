{
 "cells": [
  {
   "cell_type": "markdown",
   "metadata": {},
   "source": [
    "# Question"
   ]
  },
  {
   "cell_type": "markdown",
   "metadata": {},
   "source": [
    "## Q1: How to implement `min()` and `max()` aggregation? (TPCH-2, 15)"
   ]
  },
  {
   "cell_type": "code",
   "execution_count": null,
   "metadata": {},
   "outputs": [],
   "source": []
  },
  {
   "cell_type": "markdown",
   "metadata": {},
   "source": [
    "## Q2: How to implement `LIKE` (TPCH-2, 9, 13, 14, 16, 20)"
   ]
  },
  {
   "cell_type": "code",
   "execution_count": null,
   "metadata": {},
   "outputs": [],
   "source": []
  },
  {
   "cell_type": "markdown",
   "metadata": {},
   "source": [
    "## Q3: How to implement `EXTRACT()` (TPCH-7, 8, 9)"
   ]
  },
  {
   "cell_type": "code",
   "execution_count": null,
   "metadata": {},
   "outputs": [],
   "source": []
  },
  {
   "cell_type": "markdown",
   "metadata": {},
   "source": [
    "## Q4: How to implement `SUBSTRING()` (TPCH-22)"
   ]
  },
  {
   "cell_type": "code",
   "execution_count": null,
   "metadata": {},
   "outputs": [],
   "source": []
  },
  {
   "cell_type": "markdown",
   "metadata": {},
   "source": [
    "# FINISHED"
   ]
  },
  {
   "cell_type": "markdown",
   "metadata": {},
   "source": [
    "## TPCH - 1 ✅\n",
    "\n",
    "## TPCH - 3 ✅\n",
    "\n",
    "## TPCH - 4 ✅\n",
    "\n",
    "## TPCH - 5 ✅\n",
    "\n",
    "## TPCH - 6 ✅\n",
    "\n",
    "## TPCH - 10 ✅\n",
    "\n",
    "## TPCH - 19 ✅"
   ]
  },
  {
   "cell_type": "markdown",
   "metadata": {},
   "source": [
    "# Next Step"
   ]
  },
  {
   "cell_type": "markdown",
   "metadata": {},
   "source": [
    "## TPCH - 11\n",
    "## TPCH - 12\n",
    "## TPCH - 17\n",
    "## TPCH - 18\n",
    "## TPCH - 19\n",
    "## TPCH - 21"
   ]
  },
  {
   "cell_type": "markdown",
   "metadata": {},
   "source": [
    "# Example\n"
   ]
  },
  {
   "cell_type": "markdown",
   "metadata": {},
   "source": [
    "## Create a Relation\n",
    "\n",
    "A relation R can be created using `pysdql.Relation(name='R')`."
   ]
  },
  {
   "cell_type": "code",
   "execution_count": 1,
   "metadata": {
    "pycharm": {
     "name": "#%%\n"
    }
   },
   "outputs": [
    {
     "name": "stdout",
     "output_type": "stream",
     "text": [
      "R\n"
     ]
    }
   ],
   "source": [
    "import pysdql\n",
    "\n",
    "r = pysdql.Relation(name='R')\n",
    "\n",
    "print(r)"
   ]
  },
  {
   "cell_type": "markdown",
   "metadata": {},
   "source": [
    "## Iteration\n",
    "\n",
    "The iteration environment is automatically generated for relations in the construction method `__init__`, which can be accessed using `R.iter_expr`. By default, the iteration expression is presented as a key-value pair. "
   ]
  },
  {
   "cell_type": "code",
   "execution_count": 2,
   "metadata": {},
   "outputs": [
    {
     "data": {
      "text/plain": [
       "sum (<r_k, r_v> in R)"
      ]
     },
     "execution_count": 2,
     "metadata": {},
     "output_type": "execute_result"
    }
   ],
   "source": [
    "r.iter_expr"
   ]
  },
  {
   "cell_type": "markdown",
   "metadata": {},
   "source": [
    "## Select Columns\n",
    "\n",
    "Columns of relation R can be selected using `R[['col1', 'col2', ..., 'coln']]`. This is implemented by overloading `__getitem__` method."
   ]
  },
  {
   "cell_type": "code",
   "execution_count": 3,
   "metadata": {},
   "outputs": [
    {
     "name": "stdout",
     "output_type": "stream",
     "text": [
      "sum (<r_k, r_v> in R) { < a=r_k.a > }\n"
     ]
    }
   ],
   "source": [
    "cols_a = r[['a']]"
   ]
  },
  {
   "cell_type": "code",
   "execution_count": 4,
   "metadata": {},
   "outputs": [
    {
     "name": "stdout",
     "output_type": "stream",
     "text": [
      "sum (<r_k, r_v> in R) { < b=r_k.b, c=r_k.c > }\n"
     ]
    }
   ],
   "source": [
    "cols_bc = r[['b', 'c']]"
   ]
  },
  {
   "cell_type": "markdown",
   "metadata": {},
   "source": [
    "## ColUnit"
   ]
  },
  {
   "cell_type": "markdown",
   "metadata": {},
   "source": [
    "ColUnit is designed for creating conditional expressions by performing arithmetic operations ( +, -, *, / ) and logical operations ( &, | ). A ColUnit object can be created by `R['col']` or `R.col`, where `R` is a relation object and `col` is the column name. This is implemented by overloading `__getitem__` and `__getattr__` methods."
   ]
  },
  {
   "cell_type": "code",
   "execution_count": 5,
   "metadata": {},
   "outputs": [
    {
     "data": {
      "text/plain": [
       "(r_k.a, pysdql.core.dtypes.ColumnUnit.ColUnit)"
      ]
     },
     "execution_count": 5,
     "metadata": {},
     "output_type": "execute_result"
    }
   ],
   "source": [
    "col_a = r['a']\n",
    "\n",
    "col_a, type(col_a)"
   ]
  },
  {
   "cell_type": "code",
   "execution_count": 6,
   "metadata": {},
   "outputs": [
    {
     "data": {
      "text/plain": [
       "(r_k.b, pysdql.core.dtypes.ColumnUnit.ColUnit)"
      ]
     },
     "execution_count": 6,
     "metadata": {},
     "output_type": "execute_result"
    }
   ],
   "source": [
    "col_b = r.b\n",
    "\n",
    "col_b, type(col_b)"
   ]
  },
  {
   "cell_type": "markdown",
   "metadata": {},
   "source": [
    "## Conditional\n",
    "\n",
    "Considering tpch-19, the SQL expression can be translated to the following conditial expression.\n",
    "\n",
    "`p_partkey = l_partkey\n",
    "and p_brand = ':1'\n",
    "and p_container in ('SM CASE', 'SM BOX', 'SM PACK', 'SM PKG')\n",
    "and l_quantity >= :4 and l_quantity <= :4 + 10\n",
    "and p_size between 1 and 5\n",
    "and l_shipmode in ('AIR', 'AIR REG')\n",
    "and l_shipinstruct = 'DELIVER IN PERSON'`"
   ]
  },
  {
   "cell_type": "code",
   "execution_count": 7,
   "metadata": {},
   "outputs": [
    {
     "data": {
      "text/plain": [
       "p_k.p_partkey == l_k.l_partkey && p_k.p_brand == \":1\" && (p_k.p_container == \"SM CASE\" || p_k.p_container == \"SM BOX\" || p_k.p_container == \"SM PACK\" || p_k.p_container == \"SM PKG\") && l_k.l_quantity >= \":4\" && l_k.l_quantity <= \":4 + 10\" && p_k.p_size > 1 && p_k.p_size < 5 && (l_k.l_shipmode == \"AIR\" || l_k.l_shipmode == \"AIR REG\") && l_k.l_shipinstruct == \"DELIVER IN PERSON\""
      ]
     },
     "execution_count": 7,
     "metadata": {},
     "output_type": "execute_result"
    }
   ],
   "source": [
    "lineitem = pysdql.Relation(name='lineitem', cols=pysdql.LINEITEM_COLS)\n",
    "part = pysdql.Relation(name='part', cols=pysdql.PART_COLS)\n",
    "\n",
    "c1 = (part['p_partkey'] == lineitem['l_partkey']) \\\n",
    "     & (part['p_brand'] == ':1') \\\n",
    "     & (part['p_container'].isin(('SM CASE', 'SM BOX', 'SM PACK', 'SM PKG'))) \\\n",
    "     & (lineitem['l_quantity'] >= ':4') \\\n",
    "     & (lineitem['l_quantity'] <= ':4 + 10') \\\n",
    "     & (part['p_size'] > 1) \\\n",
    "     & (part['p_size'] < 5) \\\n",
    "     & (lineitem['l_shipmode'].isin(('AIR', 'AIR REG'))) \\\n",
    "     & (lineitem['l_shipinstruct'] == 'DELIVER IN PERSON')\n",
    "c1"
   ]
  },
  {
   "cell_type": "markdown",
   "metadata": {},
   "source": [
    "## Aggregation"
   ]
  },
  {
   "cell_type": "markdown",
   "metadata": {},
   "source": [
    "### min()"
   ]
  },
  {
   "cell_type": "code",
   "execution_count": null,
   "metadata": {},
   "outputs": [],
   "source": []
  },
  {
   "cell_type": "markdown",
   "metadata": {},
   "source": [
    "### max()"
   ]
  },
  {
   "cell_type": "code",
   "execution_count": null,
   "metadata": {},
   "outputs": [],
   "source": []
  },
  {
   "cell_type": "markdown",
   "metadata": {
    "pycharm": {
     "name": "#%% md\n"
    }
   },
   "source": [
    "# TPCH - 1 ✅"
   ]
  },
  {
   "cell_type": "code",
   "execution_count": 8,
   "metadata": {
    "pycharm": {
     "name": "#%%\n"
    }
   },
   "outputs": [
    {
     "name": "stdout",
     "output_type": "stream",
     "text": [
      "let lmp = sum (<l_k, l_v> in lineitem) if (l_k.l_shipdate <= \":date\") then { l_k } in\n",
      "let tmpa = sum (<l_k, l_v> in lmp) { < l_returnflag=l_k.l_returnflag, l_linestatus=l_k.l_linestatus > -> { l_k -> l_v } } in\n",
      "let tmp = sum (<ta_k, ta_v> in tmpa) { < l_returnflag=ta_k.l_returnflag, l_linestatus=ta_k.l_linestatus, group=ta_v > } in\n",
      "let tmpb = sum (<t_k, t_v> in tmp) sum (<g_k, g_v> in t_k.group) { < l_returnflag=t_k.l_returnflag, l_linestatus=t_k.l_linestatus > -> < sum_qty=g_k.l_quantity * g_v, sum_base_price=g_k.l_extendedprice * g_v, sum_disc_price=(g_k.l_extendedprice * (1 - g_k.l_discount)) * g_v, sum_charge=((g_k.l_extendedprice * (1 - g_k.l_discount)) * (1 + g_k.l_tax)) * g_v, avg_qty_sum=g_k.l_quantity * g_v, avg_qty_count=g_v, avg_price_sum=g_k.l_extendedprice * g_v, avg_price_count=g_v, avg_disc_sum=g_k.l_discount * g_v, avg_disc_count=g_v, count_order=g_v > }\n",
      "sum (<tb_k, tb_v> in tmpb) { < l_returnflag=tb_k.l_returnflag, l_linestatus=tb_k.l_linestatus, sum_qty=tb_v.sum_qty, sum_base_price=tb_v.sum_base_price, sum_disc_price=tb_v.sum_disc_price, sum_charge=tb_v.sum_charge, avg_qty=(tb_v.avg_qty_sum / tb_v.avg_qty_count), avg_price=(tb_v.avg_price_sum / tb_v.avg_price_count), avg_disc=(tb_v.avg_disc_sum / tb_v.avg_disc_count), count_order=tb_v.count_order > }\n"
     ]
    },
    {
     "data": {
      "text/plain": [
       "agg_r"
      ]
     },
     "execution_count": 8,
     "metadata": {},
     "output_type": "execute_result"
    }
   ],
   "source": [
    "import pysdql\n",
    "\n",
    "lineitem = pysdql.Relation(name='lineitem', cols=pysdql.LINEITEM_COLS)\n",
    "lineitem = lineitem[lineitem['l_shipdate'] <= ':date']\n",
    "lineitem.groupby(['l_returnflag', 'l_linestatus']).aggr(sum_qty=(lineitem['l_quantity'], 'sum'),\n",
    "                                                        sum_base_price=(lineitem['l_extendedprice'], 'sum'),\n",
    "                                                        sum_disc_price=(lineitem['l_extendedprice'] * (1 - lineitem['l_discount']),'sum'),\n",
    "                                                        sum_charge=(lineitem['l_extendedprice'] * (1 - lineitem['l_discount']) * (1 + lineitem['l_tax']), 'sum'),\n",
    "                                                        avg_qty=(lineitem['l_quantity'], 'avg'),\n",
    "                                                        avg_price=(lineitem['l_extendedprice'], 'avg'),\n",
    "                                                        avg_disc=(lineitem['l_discount'], 'avg'),\n",
    "                                                        count_order=(lineitem['*'], 'count'))"
   ]
  },
  {
   "cell_type": "markdown",
   "metadata": {},
   "source": [
    "# TPCH - 2"
   ]
  },
  {
   "cell_type": "code",
   "execution_count": 9,
   "metadata": {
    "pycharm": {
     "name": "#%%\n"
    }
   },
   "outputs": [],
   "source": [
    "import pysdql\n",
    "\n",
    "part = pysdql.Relation(name='part', cols=pysdql.PART_COLS)\n",
    "supplier = pysdql.Relation(name='supplier', cols=pysdql.SUPPLIER_COLS)\n",
    "partsupp = pysdql.Relation(name='partsupp', cols=pysdql.PARTSUPP_COLS)\n",
    "nation = pysdql.Relation(name='nation', cols=pysdql.NATION_COLS)\n",
    "region = pysdql.Relation(name='region', cols=pysdql.REGION_COLS)"
   ]
  },
  {
   "cell_type": "markdown",
   "metadata": {},
   "source": [
    "# TPCH - 3 ✅"
   ]
  },
  {
   "cell_type": "code",
   "execution_count": 10,
   "metadata": {
    "pycharm": {
     "name": "#%%\n"
    }
   },
   "outputs": [
    {
     "name": "stdout",
     "output_type": "stream",
     "text": [
      "let R = sum (<c_k, c_v> in customer) sum (<o_k, o_v> in orders) sum (<l_k, l_v> in lineitem) if(c_k.c_custkey == o_k.o_custkey && o_k.o_orderkey == l_k.l_orderkey)\n",
      "  { concat(concat(c_k, o_k), l_k) -> c_v * o_v * l_v } in\n",
      "let rmp = sum (<r_k, r_v> in R) if (r_k.c_mktsegment == \":1\" && r_k.o_orderdate < \":2\" && r_k.o_orderdate > \":2\") then { r_k } in\n",
      "let tmpa = sum (<r_k, r_v> in rmp) { < l_orderkey=r_k.l_orderkey, o_orderdate=r_k.o_orderdate, o_shippriority=r_k.o_shippriority > -> { r_k -> r_v } } in\n",
      "let tmp = sum (<ta_k, ta_v> in tmpa) { < l_orderkey=ta_k.l_orderkey, o_orderdate=ta_k.o_orderdate, o_shippriority=ta_k.o_shippriority, group=ta_v > } in\n",
      "let tmpb = sum (<t_k, t_v> in tmp) sum (<g_k, g_v> in t_k.group) { < l_orderkey=t_k.l_orderkey, o_orderdate=t_k.o_orderdate, o_shippriority=t_k.o_shippriority > -> < revenue=(g_k.l_extendedprice * (1 - g_k.l_discount)) * g_v > }\n",
      "sum (<tb_k, tb_v> in tmpb) { < l_orderkey=tb_k.l_orderkey, o_orderdate=tb_k.o_orderdate, o_shippriority=tb_k.o_shippriority, revenue=tb_v.revenue > }\n"
     ]
    }
   ],
   "source": [
    "import pysdql\n",
    "\n",
    "customer = pysdql.Relation(name='customer', cols=pysdql.CUSTOMER_COLS)\n",
    "orders = pysdql.Relation(name='orders', cols=pysdql.ORDERS_COLS)\n",
    "lineitem = pysdql.Relation(name='lineitem', cols=pysdql.LINEITEM_COLS)\n",
    "\n",
    "r = pysdql.merge(customer, orders, lineitem,\n",
    "                 on=((customer['c_custkey'] == orders['o_custkey'])\n",
    "                     & (orders['o_orderkey'] == lineitem['l_orderkey'])))\n",
    "\n",
    "r = r[(customer['c_mktsegment'] == ':1') & (orders['o_orderdate'] < ':2') & (lineitem['o_orderdate'] > ':2')]\n",
    "\n",
    "r = r.groupby(['l_orderkey', 'o_orderdate', 'o_shippriority'])\\\n",
    "     .aggr(revenue=((lineitem['l_extendedprice'] * (1 - lineitem['l_discount'])), 'sum'))"
   ]
  },
  {
   "cell_type": "markdown",
   "metadata": {},
   "source": [
    "# TPCH - 4 ✅"
   ]
  },
  {
   "cell_type": "code",
   "execution_count": 11,
   "metadata": {
    "pycharm": {
     "name": "#%%\n"
    }
   },
   "outputs": [
    {
     "name": "stdout",
     "output_type": "stream",
     "text": [
      "let R = sum (<l_k, l_v> in lineitem) sum (<o_k, o_v> in orders) if(l_k.l_orderkey == o_k.o_orderkey)\n",
      "  { concat(l_k, o_k) -> l_v * o_v } in\n",
      "let rmp = sum (<r_k, r_v> in R) if (r_k.l_commitdate < r_k.l_receiptdate) then { r_k } in\n",
      "let omp = sum (<o_k, o_v> in orders) if (o_k.o_orderdate >= \":1\" && o_k.o_orderdate < \":1 + 3 month\" && (sum (<r_k, r_v> in rmp) r_v) > 0) then { o_k } in\n",
      "let tmpa = sum (<o_k, o_v> in omp) { < o_orderpriority=o_k.o_orderpriority > -> { o_k -> o_v } } in\n",
      "let tmp = sum (<ta_k, ta_v> in tmpa) { < o_orderpriority=ta_k.o_orderpriority, group=ta_v > } in\n",
      "let tmpb = sum (<t_k, t_v> in tmp) sum (<g_k, g_v> in t_k.group) { < o_orderpriority=t_k.o_orderpriority > -> < order_count=g_v > }\n",
      "sum (<tb_k, tb_v> in tmpb) { < o_orderpriority=tb_k.o_orderpriority, order_count=tb_v.order_count > }\n"
     ]
    }
   ],
   "source": [
    "import pysdql\n",
    "\n",
    "lineitem = pysdql.Relation(name='lineitem', cols=pysdql.LINEITEM_COLS)\n",
    "orders = pysdql.Relation(name='orders', cols=pysdql.LINEITEM_COLS)\n",
    "\n",
    "r = pysdql.merge(lineitem, orders,\n",
    "                 on=(lineitem['l_orderkey'] == orders['o_orderkey'])\n",
    "                 )[lineitem['l_commitdate'] < lineitem['l_receiptdate']]\n",
    "\n",
    "orders = orders[(orders['o_orderdate'] >= ':1') & (orders['o_orderdate'] < ':1 + 3 month') & r.exists()]\n",
    "\n",
    "orders = orders.groupby(['o_orderpriority']).aggr(order_count=('*', 'count'))"
   ]
  },
  {
   "cell_type": "markdown",
   "metadata": {},
   "source": [
    "# TPCH - 5 ✅"
   ]
  },
  {
   "cell_type": "code",
   "execution_count": 12,
   "metadata": {
    "pycharm": {
     "name": "#%%\n"
    }
   },
   "outputs": [
    {
     "name": "stdout",
     "output_type": "stream",
     "text": [
      "let R = sum (<c_k, c_v> in customer) sum (<o_k, o_v> in orders) sum (<l_k, l_v> in lineitem) sum (<s_k, s_v> in supplier) sum (<n_k, n_v> in nation) sum (<r_k, r_v> in region) if(l_k.l_orderkey == o_k.o_orderkey && l_k.l_suppkey == s_k.s_suppkey && c_k.c_nationkey == s_k.s_nationkey && s_k.s_nationkey == n_k.n_nationkey && n_k.n_regionkey == r_k.r_regionkey)\n",
      "  { concat(concat(concat(concat(concat(c_k, o_k), l_k), s_k), n_k), r_k) -> c_v * o_v * l_v * s_v * n_v * r_v } in\n",
      "let rmp = sum (<r_k, r_v> in R) if (r_k.r_name == \":1\" && r_k.o_orderdate >= \":2\" && r_k.o_orderdate >= \":2 + 1 year\") then { r_k } in\n",
      "let tmpa = sum (<r_k, r_v> in rmp) { < n_name=r_k.n_name > -> { r_k -> r_v } } in\n",
      "let tmp = sum (<ta_k, ta_v> in tmpa) { < n_name=ta_k.n_name, group=ta_v > } in\n",
      "let tmpb = sum (<t_k, t_v> in tmp) sum (<g_k, g_v> in t_k.group) { < n_name=t_k.n_name > -> < revenue=(g_k.l_extendedprice * (1 - g_k.l_discount)) * g_v > }\n",
      "sum (<tb_k, tb_v> in tmpb) { < n_name=tb_k.n_name, revenue=tb_v.revenue > }\n"
     ]
    }
   ],
   "source": [
    "import pysdql\n",
    "\n",
    "customer = pysdql.Relation(name='customer', cols=pysdql.CUSTOMER_COLS)\n",
    "orders = pysdql.Relation(name='orders', cols=pysdql.ORDERS_COLS)\n",
    "lineitem = pysdql.Relation(name='lineitem', cols=pysdql.LINEITEM_COLS)\n",
    "supplier = pysdql.Relation(name='supplier', cols=pysdql.SUPPLIER_COLS)\n",
    "nation = pysdql.Relation(name='nation', cols=pysdql.NATION_COLS)\n",
    "region = pysdql.Relation(name='region', cols=pysdql.REGION_COLS)\n",
    "\n",
    "r = pysdql.merge(customer, orders, lineitem, supplier, nation, region,\n",
    "                 on=(lineitem['l_orderkey'] == orders['o_orderkey'])\n",
    "                    & (lineitem['l_suppkey'] == supplier['s_suppkey'])\n",
    "                    & (customer['c_nationkey'] == supplier['s_nationkey'])\n",
    "                    & (supplier['s_nationkey'] == nation['n_nationkey'])\n",
    "                    & (nation['n_regionkey'] == region['r_regionkey']))\n",
    "\n",
    "r = r[(region['r_name'] == ':1')\n",
    "      & (orders['o_orderdate'] >= ':2')\n",
    "      & (orders['o_orderdate'] >= ':2 + 1 year')]\n",
    "\n",
    "r = r.groupby(['n_name']).aggr(revenue=((lineitem['l_extendedprice'] * (1 - lineitem['l_discount'])), 'sum'))\n"
   ]
  },
  {
   "cell_type": "markdown",
   "metadata": {},
   "source": [
    "# TPCH - 6 ✅"
   ]
  },
  {
   "cell_type": "code",
   "execution_count": 13,
   "metadata": {
    "pycharm": {
     "name": "#%%\n"
    }
   },
   "outputs": [
    {
     "name": "stdout",
     "output_type": "stream",
     "text": [
      "let lmp = sum (<l_k, l_v> in lineitem) if (l_k.l_shipdate >= \":1\" && l_k.l_shipdate < \":1 + 1 year\" && l_k.l_discount > \":2 - 0.01\" && l_k.l_discount < \":2 + 0.01\" && l_k.l_quantity > \":3\") then { l_k } in\n",
      "sum (<l_k, l_v> in lmp) < revenue=(l_k.l_extendedprice * l_k.l_discount) * l_v >\n"
     ]
    }
   ],
   "source": [
    "import pysdql\n",
    "\n",
    "lineitem = pysdql.Relation(name='lineitem', cols=pysdql.LINEITEM_COLS)\n",
    "\n",
    "lineitem = lineitem[(lineitem['l_shipdate'] >= ':1')\n",
    "                    & (lineitem['l_shipdate'] < ':1 + 1 year')\n",
    "                    & (lineitem['l_discount'] > ':2 - 0.01')\n",
    "                    & (lineitem['l_discount'] < ':2 + 0.01')\n",
    "                    & (lineitem['l_quantity'] > ':3')]\n",
    "\n",
    "lineitem = lineitem.aggr(revenue=(lineitem['l_extendedprice'] * lineitem['l_discount'], 'sum'))"
   ]
  },
  {
   "cell_type": "markdown",
   "metadata": {},
   "source": [
    "TPCH - 7"
   ]
  },
  {
   "cell_type": "code",
   "execution_count": null,
   "metadata": {
    "pycharm": {
     "name": "#%%\n"
    }
   },
   "outputs": [],
   "source": []
  },
  {
   "cell_type": "markdown",
   "metadata": {},
   "source": [
    "TPCH - 8"
   ]
  },
  {
   "cell_type": "code",
   "execution_count": null,
   "metadata": {
    "pycharm": {
     "name": "#%%\n"
    }
   },
   "outputs": [],
   "source": []
  },
  {
   "cell_type": "markdown",
   "metadata": {},
   "source": [
    "TPCH - 9"
   ]
  },
  {
   "cell_type": "code",
   "execution_count": null,
   "metadata": {
    "pycharm": {
     "name": "#%%\n"
    }
   },
   "outputs": [],
   "source": []
  },
  {
   "cell_type": "markdown",
   "metadata": {},
   "source": [
    "# TPCH - 10 ✅"
   ]
  },
  {
   "cell_type": "code",
   "execution_count": 14,
   "metadata": {
    "pycharm": {
     "name": "#%%\n"
    }
   },
   "outputs": [
    {
     "name": "stdout",
     "output_type": "stream",
     "text": [
      "let R = sum (<c_k, c_v> in customer) sum (<o_k, o_v> in orders) sum (<l_k, l_v> in lineitem) sum (<n_k, n_v> in nation) if(c_k.c_custkey == o_k.o_custkey && l_k.l_orderkey == o_k.o_custkey && c_k.c_nationkey == n_k.n_nationkey)\n",
      "  { concat(concat(concat(c_k, o_k), l_k), n_k) -> c_v * o_v * l_v * n_v } in\n",
      "let rmp = sum (<r_k, r_v> in R) if (r_k.o_orderdate >= \":1\" && r_k.o_orderdate >= \":1 + 3 month\" && r_k.l_returnflag == \"R\") then { r_k } in\n",
      "let tmpa = sum (<r_k, r_v> in rmp) { < c_custkey=r_k.c_custkey, c_name=r_k.c_name, c_acctbal=r_k.c_acctbal, c_phone=r_k.c_phone, n_name=r_k.n_name, c_address=r_k.c_address, c_comment=r_k.c_comment > -> { r_k -> r_v } } in\n",
      "let tmp = sum (<ta_k, ta_v> in tmpa) { < c_custkey=ta_k.c_custkey, c_name=ta_k.c_name, c_acctbal=ta_k.c_acctbal, c_phone=ta_k.c_phone, n_name=ta_k.n_name, c_address=ta_k.c_address, c_comment=ta_k.c_comment, group=ta_v > } in\n",
      "let tmpb = sum (<t_k, t_v> in tmp) sum (<g_k, g_v> in t_k.group) { < c_custkey=t_k.c_custkey, c_name=t_k.c_name, c_acctbal=t_k.c_acctbal, c_phone=t_k.c_phone, n_name=t_k.n_name, c_address=t_k.c_address, c_comment=t_k.c_comment > -> < revenue=(g_k.l_extendedprice * (1 - g_k.l_discount)) * g_v > }\n",
      "sum (<tb_k, tb_v> in tmpb) { < c_custkey=tb_k.c_custkey, c_name=tb_k.c_name, c_acctbal=tb_k.c_acctbal, c_phone=tb_k.c_phone, n_name=tb_k.n_name, c_address=tb_k.c_address, c_comment=tb_k.c_comment, revenue=tb_v.revenue > }\n"
     ]
    }
   ],
   "source": [
    "import pysdql\n",
    "\n",
    "customer = pysdql.Relation(name='customer', cols=pysdql.CUSTOMER_COLS)\n",
    "orders = pysdql.Relation(name='orders', cols=pysdql.ORDERS_COLS)\n",
    "lineitem = pysdql.Relation(name='lineitem', cols=pysdql.LINEITEM_COLS)\n",
    "nation = pysdql.Relation(name='nation', cols=pysdql.NATION_COLS)\n",
    "\n",
    "r = pysdql.merge(customer, orders, lineitem, nation,\n",
    "                 on=(customer['c_custkey'] == orders['o_custkey'])\n",
    "                    & (lineitem['l_orderkey'] == orders['o_custkey'])\n",
    "                    & (customer['c_nationkey'] == nation['n_nationkey'])\n",
    "                 )\n",
    "\n",
    "r = r[(orders['o_orderdate'] >= ':1')\n",
    "      & (orders['o_orderdate'] >= ':1 + 3 month')\n",
    "      & (lineitem['l_returnflag'] == 'R')]\n",
    "\n",
    "r = r.groupby(['c_custkey', 'c_name', 'c_acctbal', 'c_phone', 'n_name', 'c_address','c_comment'])\\\n",
    "     .aggr(revenue=((lineitem['l_extendedprice'] * (1 - lineitem['l_discount'])), 'sum'))"
   ]
  },
  {
   "cell_type": "markdown",
   "metadata": {},
   "source": [
    "# TPCH - 11"
   ]
  },
  {
   "cell_type": "code",
   "execution_count": 15,
   "metadata": {
    "pycharm": {
     "name": "#%%\n"
    }
   },
   "outputs": [
    {
     "name": "stdout",
     "output_type": "stream",
     "text": [
      "let R = sum (<p_k, p_v> in partsupp) sum (<s_k, s_v> in supplier) sum (<n_k, n_v> in nation) if(p_k.ps_suppkey == s_k.s_suppkey && s_k.s_nationkey == n_k.n_nationkey)\n",
      "  { concat(concat(p_k, s_k), n_k) -> p_v * s_v * n_v } in\n",
      "let rmp = sum (<r_k, r_v> in R) if (r_k.n_name == \":1\") then { r_k } in\n",
      "let tmpa = sum (<r_k, r_v> in rmp) { < ps_partkey=r_k.ps_partkey > -> { r_k -> r_v } } in\n",
      "let tmp = sum (<ta_k, ta_v> in tmpa) { < ps_partkey=ta_k.ps_partkey, group=ta_v > } in\n",
      "let tmpb = sum (<t_k, t_v> in tmp) sum (<g_k, g_v> in t_k.group) { < ps_partkey=t_k.ps_partkey > -> < value=(g_k.ps_supplycost * g_k.ps_availqty) * g_v > }\n",
      "sum (<tb_k, tb_v> in tmpb) { < ps_partkey=tb_k.ps_partkey, value=tb_v.value > }\n"
     ]
    }
   ],
   "source": [
    "import pysdql\n",
    "\n",
    "partsupp = pysdql.Relation(name='partsupp', cols=pysdql.PARTSUPP_COLS)\n",
    "supplier = pysdql.Relation(name='supplier', cols=pysdql.SUPPLIER_COLS)\n",
    "nation = pysdql.Relation(name='nation', cols=pysdql.NATION_COLS)\n",
    "\n",
    "r = pysdql.merge(partsupp, supplier, nation,\n",
    "                 on=((partsupp['ps_suppkey'] == supplier['s_suppkey'])\n",
    "                     & (supplier['s_nationkey'] == nation['n_nationkey'])\n",
    "                     )\n",
    "                 )\n",
    "\n",
    "r = r[(nation['n_name'] == ':1')]\n",
    "\n",
    "r = r.groupby(['ps_partkey']).aggr(value=(partsupp['ps_supplycost'] * partsupp['ps_availqty'], 'sum'))"
   ]
  },
  {
   "cell_type": "markdown",
   "metadata": {},
   "source": [
    "TPCH - 12"
   ]
  },
  {
   "cell_type": "code",
   "execution_count": null,
   "metadata": {
    "pycharm": {
     "name": "#%%\n"
    }
   },
   "outputs": [],
   "source": []
  },
  {
   "cell_type": "markdown",
   "metadata": {},
   "source": [
    "TPCH - 13"
   ]
  },
  {
   "cell_type": "code",
   "execution_count": null,
   "metadata": {
    "pycharm": {
     "name": "#%%\n"
    }
   },
   "outputs": [],
   "source": []
  },
  {
   "cell_type": "markdown",
   "metadata": {},
   "source": [
    "TPCH - 14"
   ]
  },
  {
   "cell_type": "code",
   "execution_count": null,
   "metadata": {
    "pycharm": {
     "name": "#%%\n"
    }
   },
   "outputs": [],
   "source": []
  },
  {
   "cell_type": "markdown",
   "metadata": {},
   "source": [
    "TPCH - 15"
   ]
  },
  {
   "cell_type": "code",
   "execution_count": null,
   "metadata": {
    "pycharm": {
     "name": "#%%\n"
    }
   },
   "outputs": [],
   "source": []
  },
  {
   "cell_type": "markdown",
   "metadata": {},
   "source": [
    "TPCH - 16"
   ]
  },
  {
   "cell_type": "code",
   "execution_count": null,
   "metadata": {
    "pycharm": {
     "name": "#%%\n"
    }
   },
   "outputs": [],
   "source": []
  },
  {
   "cell_type": "markdown",
   "metadata": {},
   "source": [
    "# TPCH - 17"
   ]
  },
  {
   "cell_type": "code",
   "execution_count": 16,
   "metadata": {
    "pycharm": {
     "name": "#%%\n"
    }
   },
   "outputs": [
    {
     "name": "stdout",
     "output_type": "stream",
     "text": [
      "let tmp = sum (<l_k, l_v> in lineitem) { < l_partkey=l_k.l_partkey > -> { l_k -> l_v } } in\n",
      "let lmp = sum (<t_k, t_v> in tmp) { < l_partkey=t_k.l_partkey, group=t_v > } in\n",
      "let tmpa = sum (<l_k, l_v> in lmp) sum (<g_k, g_v> in l_k.group) { < l_partkey=l_k.l_partkey > -> < avg_quantity_sum=(0.2 * g_k.l_quantity) * g_v, avg_quantity_count=g_v > }\n",
      "sum (<ta_k, ta_v> in tmpa) { < agg_partkey=ta_k.l_partkey, avg_quantity=(ta_v.avg_quantity_sum / ta_v.avg_quantity_count) > }\n",
      "let R = sum (<l_k, l_v> in lineitem) sum (<p_k, p_v> in part) if(p_k.p_partkey == l_k.l_partkey && a_k.agg_partkey == l_k.l_partkey)\n",
      "  { concat(l_k, p_k) -> l_v * p_v } in\n",
      "let rmp = sum (<r_k, r_v> in R) if (r_k.p_brand == \":1\" && r_k.p_container == \":2\" && r_k.l_quantity < r_k.avg_quantity) then { r_k } in\n",
      "sum (<r_k, r_v> in rmp) < avg_yearly=(l_k.l_extendedprice / 7.0) * r_v >\n"
     ]
    }
   ],
   "source": [
    "lineitem = pysdql.Relation(name='lineitem', cols=pysdql.LINEITEM_COLS)\n",
    "part = pysdql.Relation(name='part', cols=pysdql.PART_COLS)\n",
    "\n",
    "part_agg = lineitem.groupby(['l_partkey']) \\\n",
    "    .aggr(agg_partkey=lineitem['l_partkey'], avg_quantity=(0.2 * lineitem['l_quantity'], 'avg')) \\\n",
    "    .rename('part_agg')\n",
    "\n",
    "r = pysdql.merge(lineitem, part,\n",
    "                 on=((part['p_partkey'] == lineitem['l_partkey'])\n",
    "                     & (part_agg['agg_partkey'] == lineitem['l_partkey']))\n",
    "                 )\n",
    "\n",
    "r = r[(part['p_brand'] == ':1')\n",
    "      & (part['p_container'] == ':2')\n",
    "      & (lineitem['l_quantity'] < part_agg['avg_quantity'])]\n",
    "\n",
    "r = r.aggr(avg_yearly=((lineitem['l_extendedprice'] / 7.0), 'sum'))"
   ]
  },
  {
   "cell_type": "markdown",
   "metadata": {},
   "source": [
    "TPCH - 18"
   ]
  },
  {
   "cell_type": "code",
   "execution_count": null,
   "metadata": {
    "pycharm": {
     "name": "#%%\n"
    }
   },
   "outputs": [],
   "source": []
  },
  {
   "cell_type": "markdown",
   "metadata": {},
   "source": [
    "# TPCH - 19 ✅"
   ]
  },
  {
   "cell_type": "code",
   "execution_count": 17,
   "metadata": {
    "pycharm": {
     "name": "#%%\n"
    }
   },
   "outputs": [
    {
     "name": "stdout",
     "output_type": "stream",
     "text": [
      "let R = sum (<l_k, l_v> in lineitem) sum (<p_k, p_v> in part) if(p_k.p_partkey == l_k.l_partkey)\n",
      "  { concat(l_k, p_k) -> l_v * p_v } in\n",
      "let rmp = sum (<r_k, r_v> in R) if (r_k.p_brand == \":1\" && (p_k.p_container == \"SM CASE\" || p_k.p_container == \"SM BOX\" || p_k.p_container == \"SM PACK\" || p_k.p_container == \"SM PKG\") && r_k.l_quantity >= \":4\" && r_k.l_quantity <= \":4 + 10\" && r_k.p_size > 1 && r_k.p_size < 5 && (l_k.l_shipmode == \"AIR\" || l_k.l_shipmode == \"AIR REG\") && r_k.l_shipinstruct == \"DELIVER IN PERSON\" || r_k.p_brand == \":2\" && (p_k.p_container == \"MED BAG\" || p_k.p_container == \"MED BOX\" || p_k.p_container == \"MED PKG\" || p_k.p_container == \"MED PACK\") && r_k.l_quantity >= \":5\" && r_k.l_quantity <= \":5 + 10\" && r_k.p_size > 1 && r_k.p_size < 10 && (l_k.l_shipmode == \"AIR\" || l_k.l_shipmode == \"AIR REG\") && r_k.l_shipinstruct == \"DELIVER IN PERSON\" || r_k.p_brand == \":3\" && (p_k.p_container == \"LG CASE\" || p_k.p_container == \"LG BOX\" || p_k.p_container == \"LG PACK\" || p_k.p_container == \"LG PKG\") && r_k.l_quantity >= \":6\" && r_k.l_quantity <= \":6 + 10\" && r_k.p_size > 1 && r_k.p_size < 15 && (l_k.l_shipmode == \"AIR\" || l_k.l_shipmode == \"AIR REG\") && r_k.l_shipinstruct == \"DELIVER IN PERSON\") then { r_k } in\n",
      "sum (<r_k, r_v> in rmp) < revenue=(l_k.l_extendedprice * (1 - l_k.l_discount)) * r_v >\n"
     ]
    }
   ],
   "source": [
    "import pysdql\n",
    "\n",
    "lineitem = pysdql.Relation(name='lineitem', cols=pysdql.LINEITEM_COLS)\n",
    "part = pysdql.Relation(name='part', cols=pysdql.PART_COLS)\n",
    "\n",
    "c1 = (part['p_brand'] == ':1') \\\n",
    "     & (part['p_container'].isin(('SM CASE', 'SM BOX', 'SM PACK', 'SM PKG'))) \\\n",
    "     & (lineitem['l_quantity'] >= ':4') \\\n",
    "     & (lineitem['l_quantity'] <= ':4 + 10') \\\n",
    "     & (part['p_size'] > 1) \\\n",
    "     & (part['p_size'] < 5) \\\n",
    "     & (lineitem['l_shipmode'].isin(('AIR', 'AIR REG'))) \\\n",
    "     & (lineitem['l_shipinstruct'] == 'DELIVER IN PERSON')\n",
    "c2 = (part['p_brand'] == ':2') \\\n",
    "     & (part['p_container'].isin(('MED BAG', 'MED BOX', 'MED PKG', 'MED PACK'))) \\\n",
    "     & (lineitem['l_quantity'] >= ':5') \\\n",
    "     & (lineitem['l_quantity'] <= ':5 + 10') \\\n",
    "     & (part['p_size'] > 1) \\\n",
    "     & (part['p_size'] < 10) \\\n",
    "     & (lineitem['l_shipmode'].isin(('AIR', 'AIR REG'))) \\\n",
    "     & (lineitem['l_shipinstruct'] == 'DELIVER IN PERSON')\n",
    "c3 = (part['p_brand'] == ':3') \\\n",
    "     & (part['p_container'].isin(('LG CASE', 'LG BOX', 'LG PACK', 'LG PKG'))) \\\n",
    "     & (lineitem['l_quantity'] >= ':6') \\\n",
    "     & (lineitem['l_quantity'] <= ':6 + 10') \\\n",
    "     & (part['p_size'] > 1) \\\n",
    "     & (part['p_size'] < 15) \\\n",
    "     & (lineitem['l_shipmode'].isin(('AIR', 'AIR REG'))) \\\n",
    "     & (lineitem['l_shipinstruct'] == 'DELIVER IN PERSON')\n",
    "\n",
    "r = pysdql.merge(lineitem, part, on=(part['p_partkey'] == lineitem['l_partkey']))\n",
    "\n",
    "r = r[c1|c2|c3]\n",
    "\n",
    "r = r.aggr(revenue=((lineitem['l_extendedprice'] * (1 - lineitem['l_discount'])), 'sum'))"
   ]
  },
  {
   "cell_type": "markdown",
   "metadata": {},
   "source": [
    "TPCH - 20"
   ]
  },
  {
   "cell_type": "code",
   "execution_count": null,
   "metadata": {
    "pycharm": {
     "name": "#%%\n"
    }
   },
   "outputs": [],
   "source": []
  },
  {
   "cell_type": "markdown",
   "metadata": {},
   "source": [
    "TPCH - 21"
   ]
  },
  {
   "cell_type": "code",
   "execution_count": null,
   "metadata": {
    "pycharm": {
     "name": "#%%\n"
    }
   },
   "outputs": [],
   "source": []
  },
  {
   "cell_type": "markdown",
   "metadata": {},
   "source": [
    "TPCH - 22"
   ]
  },
  {
   "cell_type": "code",
   "execution_count": null,
   "metadata": {},
   "outputs": [],
   "source": []
  }
 ],
 "metadata": {
  "kernelspec": {
   "display_name": "PyCharm (UG4-Proj)",
   "language": "python",
   "name": "pycharm-5d2f5fca"
  },
  "language_info": {
   "codemirror_mode": {
    "name": "ipython",
    "version": 3
   },
   "file_extension": ".py",
   "mimetype": "text/x-python",
   "name": "python",
   "nbconvert_exporter": "python",
   "pygments_lexer": "ipython3",
   "version": "3.9.7"
  }
 },
 "nbformat": 4,
 "nbformat_minor": 1
}
