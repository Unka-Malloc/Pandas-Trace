{
 "cells": [
  {
   "cell_type": "markdown",
   "metadata": {
    "pycharm": {
     "name": "#%% md\n"
    }
   },
   "source": [
    "# Environment\n",
    "[varname](https://github.com/pwwang/python-varname): Get the name of the variable from the variable assignment.\n",
    "\n",
    "`pip install varname`"
   ]
  },
  {
   "cell_type": "markdown",
   "metadata": {},
   "source": [
    "# Files Overview\n",
    "- __./pysdql__: `pysdql` package that should be imported.\n",
    "- __./docs/QueryStandard.md__: SDQL.py standard queries.\n",
    "- __./docs/QueryGenerated.md__: pysdql generated queries.\n",
    "- __./FlattenQuery.py__: generate standard queries for `QueryStandard.md`.\n",
    "- __./pandas2sdql.py__: pandas queries for `QueryGenerated.md`.\n",
    "- __./pysdql/core/dtypes/sdql_ir.py__: modified sdql_ir, only `__repr__` has been overwritten."
   ]
  },
  {
   "cell_type": "markdown",
   "metadata": {
    "pycharm": {
     "name": "#%% md\n"
    }
   },
   "source": [
    "# Usage\n",
    "\n",
    "__You can directly get query as string type by `pysdql.q1()`.__"
   ]
  },
  {
   "cell_type": "code",
   "execution_count": 5,
   "metadata": {
    "pycharm": {
     "name": "#%%\n"
    }
   },
   "outputs": [
    {
     "name": "stdout",
     "output_type": "stream",
     "text": [
      "li = VarExpr('db->li_dataset')\n",
      "x_li = VarExpr('x_li')\n",
      "li_part = VarExpr('li_part')\n",
      "li_having = VarExpr('li_having')\n",
      "x_li_groupby_agg = VarExpr('x_li_groupby_agg')\n",
      "out = VarExpr('out')\n",
      "li_groupby_agg = VarExpr('li_groupby_agg')\n",
      "li_groupby_agg_concat = VarExpr('li_groupby_agg_concat')\n",
      "\n",
      "query = LetExpr(li_groupby_agg, SumExpr(x_li, li, IfExpr(CompareExpr(CompareSymbol.LTE, RecAccessExpr(PairAccessExpr(x_li, 0), 'l_shipdate'), ConstantExpr(19980902)), DicConsExpr([(RecConsExpr([('l_returnflag', RecAccessExpr(PairAccessExpr(x_li, 0), 'l_returnflag')), ('l_linestatus', RecAccessExpr(PairAccessExpr(x_li, 0), 'l_linestatus'))]), RecConsExpr([('sum_qty', RecAccessExpr(PairAccessExpr(x_li, 0), 'l_quantity')), ('sum_base_price', RecAccessExpr(PairAccessExpr(x_li, 0), 'l_extendedprice')), ('sum_disc_price', MulExpr(RecAccessExpr(PairAccessExpr(x_li, 0), 'l_extendedprice'), SubExpr(ConstantExpr(1), RecAccessExpr(PairAccessExpr(x_li, 0), 'l_discount')))), ('sum_charge', MulExpr(MulExpr(RecAccessExpr(PairAccessExpr(x_li, 0), 'l_extendedprice'), SubExpr(ConstantExpr(1), RecAccessExpr(PairAccessExpr(x_li, 0), 'l_discount'))), AddExpr(ConstantExpr(1), RecAccessExpr(PairAccessExpr(x_li, 0), 'l_tax')))), ('count_order', ConstantExpr(1))]))]), EmptyDicConsExpr()), False), LetExpr(out, SumExpr(x_li_groupby_agg, li_groupby_agg, DicConsExpr([(ConcatExpr(PairAccessExpr(x_li_groupby_agg, 0), PairAccessExpr(x_li_groupby_agg, 1)), ConstantExpr(True))]), True), ConstantExpr(True)))\n"
     ]
    }
   ],
   "source": [
    "import pysdql\n",
    "\n",
    "print(pysdql.q1())"
   ]
  },
  {
   "cell_type": "markdown",
   "metadata": {},
   "source": [
    "__If__ you __only need to read SDQL IR__ that is generated from pandas query, __go to `./docs/QueryGenerated.md`__.\n",
    "\n",
    "__If__ you __need to compare the difference__ to find if there is any impact on efficiency, check them in __`QueryStandard` and `QueryGenerated`__. They are indented to make them readable. "
   ]
  },
  {
   "cell_type": "markdown",
   "metadata": {},
   "source": [
    "If you would like to __chnage a particular query__, there are two ways:\n",
    "\n",
    "1. Go to `./pysdql/core/query/__init__.py` to modify the function of the query, which is related to `pysdql.q1()`.\n",
    "2. Go to `./pandas2sdql.py` to modify the script. You got have to run the script and find the output on the terminal(stdout)."
   ]
  },
  {
   "cell_type": "markdown",
   "metadata": {},
   "source": [
    "If you are using the script, you might find debug messages on the terminal.\n",
    "\n",
    "As shown in the following example, the optimized output will be given under `>> li Optimizer Output <<`. \n",
    "\n",
    "Search `Optimizer Output` to find it."
   ]
  },
  {
   "cell_type": "code",
   "execution_count": 8,
   "metadata": {},
   "outputs": [
    {
     "name": "stdout",
     "output_type": "stream",
     "text": [
      ">> li Columns(In) <<\n",
      "['l_orderkey', 'l_partkey', 'l_suppkey', 'l_linenumber', 'l_quantity', 'l_extendedprice', 'l_discount', 'l_tax', 'l_returnflag', 'l_linestatus', 'l_shipdate', 'l_commitdate', 'l_receiptdate', 'l_shipinstruct', 'l_shipmode', 'l_comment']\n",
      ">> li Columns(Out) <<\n",
      "['l_orderkey', 'l_partkey', 'l_suppkey', 'l_linenumber', 'l_quantity', 'l_extendedprice', 'l_discount', 'l_tax', 'l_returnflag', 'l_linestatus', 'l_shipdate', 'l_commitdate', 'l_receiptdate', 'l_shipinstruct', 'l_shipmode', 'l_comment']\n",
      ">> li Columns(Used) <<\n",
      "['l_extendedprice', 'l_discount', 'l_shipdate', 'l_quantity']\n",
      ">> li Context Variables <<\n",
      "{'li': li, 'x_li': x_li, 'li_part': li_part}\n",
      ">> li Operation Sequence <<\n",
      "{'iter': False, 'op_type': <class 'pysdql.core.dtypes.CondExpr.CondExpr'>, 'op': MulExpr(MulExpr(MulExpr(MulExpr(CompareExpr(CompareSymbol.GTE, RecAccessExpr(PairAccessExpr(x_li, 0), 'l_shipdate'), ConstantExpr(19940101)), CompareExpr(CompareSymbol.LT, RecAccessExpr(PairAccessExpr(x_li, 0), 'l_shipdate'), ConstantExpr(19950101))), CompareExpr(CompareSymbol.GTE, RecAccessExpr(PairAccessExpr(x_li, 0), 'l_discount'), ConstantExpr(0.05))), CompareExpr(CompareSymbol.LTE, RecAccessExpr(PairAccessExpr(x_li, 0), 'l_discount'), ConstantExpr(0.07))), CompareExpr(CompareSymbol.LT, RecAccessExpr(PairAccessExpr(x_li, 0), 'l_quantity'), ConstantExpr(24))), 'ret_type': None, 'on': li}\n",
      "{'iter': False, 'op_type': <class 'pysdql.core.dtypes.VirColEl.VirColEl'>, 'op': {'revenue': MulExpr(RecAccessExpr(PairAccessExpr(x_li, 0), 'l_extendedprice'), RecAccessExpr(PairAccessExpr(x_li, 0), 'l_discount'))}, 'ret_type': None, 'on': li}\n",
      "{'iter': True, 'op_type': <class 'pysdql.core.dtypes.AggrExpr.AggrExpr'>, 'op': {'revenue': 'revenue'}, 'ret_type': <OperationReturnType.DICT: 5>, 'on': li}\n",
      ">> li Optimizer Output <<\n",
      "li = VarExpr('db->li_dataset')\n",
      "x_li = VarExpr('x_li')\n",
      "li_part = VarExpr('li_part')\n",
      "li_having = VarExpr('li_having')\n",
      "out = VarExpr('out')\n",
      "\n",
      "query = LetExpr(out, SumExpr(x_li, li, IfExpr(MulExpr(MulExpr(MulExpr(MulExpr(CompareExpr(CompareSymbol.GTE, RecAccessExpr(PairAccessExpr(x_li, 0), 'l_shipdate'), ConstantExpr(19940101)), CompareExpr(CompareSymbol.LT, RecAccessExpr(PairAccessExpr(x_li, 0), 'l_shipdate'), ConstantExpr(19950101))), CompareExpr(CompareSymbol.GTE, RecAccessExpr(PairAccessExpr(x_li, 0), 'l_discount'), ConstantExpr(0.05))), CompareExpr(CompareSymbol.LTE, RecAccessExpr(PairAccessExpr(x_li, 0), 'l_discount'), ConstantExpr(0.07))), CompareExpr(CompareSymbol.LT, RecAccessExpr(PairAccessExpr(x_li, 0), 'l_quantity'), ConstantExpr(24))), DicConsExpr([('revenue', MulExpr(RecAccessExpr(PairAccessExpr(x_li, 0), 'l_extendedprice'), RecAccessExpr(PairAccessExpr(x_li, 0), 'l_discount')))]), EmptyDicConsExpr()), False), ConstantExpr(True))\n",
      ">> Done <<\n"
     ]
    },
    {
     "data": {
      "text/plain": [
       "\"li = VarExpr('db->li_dataset')\\nx_li = VarExpr('x_li')\\nli_part = VarExpr('li_part')\\nli_having = VarExpr('li_having')\\nout = VarExpr('out')\\n\\nquery = LetExpr(out, SumExpr(x_li, li, IfExpr(MulExpr(MulExpr(MulExpr(MulExpr(CompareExpr(CompareSymbol.GTE, RecAccessExpr(PairAccessExpr(x_li, 0), 'l_shipdate'), ConstantExpr(19940101)), CompareExpr(CompareSymbol.LT, RecAccessExpr(PairAccessExpr(x_li, 0), 'l_shipdate'), ConstantExpr(19950101))), CompareExpr(CompareSymbol.GTE, RecAccessExpr(PairAccessExpr(x_li, 0), 'l_discount'), ConstantExpr(0.05))), CompareExpr(CompareSymbol.LTE, RecAccessExpr(PairAccessExpr(x_li, 0), 'l_discount'), ConstantExpr(0.07))), CompareExpr(CompareSymbol.LT, RecAccessExpr(PairAccessExpr(x_li, 0), 'l_quantity'), ConstantExpr(24))), DicConsExpr([('revenue', MulExpr(RecAccessExpr(PairAccessExpr(x_li, 0), 'l_extendedprice'), RecAccessExpr(PairAccessExpr(x_li, 0), 'l_discount')))]), EmptyDicConsExpr()), False), ConstantExpr(True))\""
      ]
     },
     "execution_count": 8,
     "metadata": {},
     "output_type": "execute_result"
    }
   ],
   "source": [
    "from pysdql import DataFrame\n",
    "from pandas2sdql import q6\n",
    "\n",
    "li = DataFrame()\n",
    "q6(li)"
   ]
  },
  {
   "cell_type": "markdown",
   "metadata": {},
   "source": [
    "# Features\n",
    "\n",
    "I'm not sure whether these are negative so they are just features. If you got something wrong, you might come back to this part.\n",
    "\n",
    "### 1. Sensitive to `float` and `integer`.\n",
    "\n",
    "If an integer is given in pandas query, such as `0`. It will always be converted to `ConstantExpr(0)` rather than `ConstantExpr(0.0)` even it can be infered from the context. A wrong data type will always assert an error rather than being promoted.\n",
    "\n",
    "### 2. Redundant variables.\n",
    "\n",
    "In some queries, such as `Q16`, a redundant variable `pa_ps_having = VarExpr('pa_ps_having')` was defined even it was never used in the query.\n",
    "\n",
    "### 3. `VarExpr(\"out\")` is not just assignment.\n",
    "\n",
    "Instead of `LetExpr(VarExpr(\"out\"), VarExpr(\"results\"), ConstantExpr(True))`,\n",
    "\n",
    "`LetExpr(VarExpr(\"out\"), SumExpr(...), ConstantExpr(True))` is used in most cases."
   ]
  },
  {
   "cell_type": "code",
   "execution_count": null,
   "metadata": {},
   "outputs": [],
   "source": []
  }
 ],
 "metadata": {
  "kernelspec": {
   "display_name": "Python 3 (ipykernel)",
   "language": "python",
   "name": "python3"
  },
  "language_info": {
   "codemirror_mode": {
    "name": "ipython",
    "version": 3
   },
   "file_extension": ".py",
   "mimetype": "text/x-python",
   "name": "python",
   "nbconvert_exporter": "python",
   "pygments_lexer": "ipython3",
   "version": "3.9.7"
  }
 },
 "nbformat": 4,
 "nbformat_minor": 1
}
