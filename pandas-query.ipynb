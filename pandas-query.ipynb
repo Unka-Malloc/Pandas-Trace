{
 "cells": [
  {
   "cell_type": "code",
   "execution_count": 2,
   "metadata": {
    "collapsed": true
   },
   "outputs": [],
   "source": [
    "import pandas\n",
    "import pysdql\n",
    "\n",
    "path = r'T:\\tpch_dataset\\100M_with_sql'\n",
    "answer_path = r'T:\\tpch_dataset\\100M_with_sql\\answers'\n",
    "\n",
    "customer = pandas.read_table(rf'{path}\\customer.tbl', sep='|', index_col=False, header=None, names=pysdql.CUSTOMER_COLS)\n",
    "lineitem = pandas.read_table(rf'{path}\\lineitem.tbl', sep='|', index_col=False, header=None, names=pysdql.LINEITEM_COLS)\n",
    "nation = pandas.read_table(rf'{path}\\nation.tbl', sep='|', index_col=False, header=None, names=pysdql.NATION_COLS)\n",
    "orders = pandas.read_table(rf'{path}\\orders.tbl', sep='|', index_col=False, header=None, names=pysdql.ORDERS_COLS)\n",
    "part = pandas.read_table(rf'{path}\\part.tbl', sep='|', index_col=False, header=None, names=pysdql.PART_COLS)\n",
    "partsupp = pandas.read_table(rf'{path}\\partsupp.tbl', sep='|', index_col=False, header=None, names=pysdql.PARTSUPP_COLS)\n",
    "region = pandas.read_table(rf'{path}\\region.tbl', sep='|', index_col=False, header=None, names=pysdql.REGION_COLS)\n",
    "supplier = pandas.read_table(rf'{path}\\supplier.tbl', sep='|', index_col=False, header=None, names=pysdql.SUPPLIER_COLS)"
   ]
  },
  {
   "cell_type": "code",
   "execution_count": 5,
   "outputs": [
    {
     "name": "stderr",
     "output_type": "stream",
     "text": [
      "C:\\Users\\Y\\AppData\\Local\\Temp\\ipykernel_22052\\3591749755.py:8: SettingWithCopyWarning: \n",
      "A value is trying to be set on a copy of a slice from a DataFrame.\n",
      "Try using .loc[row_indexer,col_indexer] = value instead\n",
      "\n",
      "See the caveats in the documentation: https://pandas.pydata.org/pandas-docs/stable/user_guide/indexing.html#returning-a-view-versus-a-copy\n",
      "  r['disc_price'] = r['l_extendedprice'] * (1 - r['l_discount'])\n",
      "C:\\Users\\Y\\AppData\\Local\\Temp\\ipykernel_22052\\3591749755.py:9: SettingWithCopyWarning: \n",
      "A value is trying to be set on a copy of a slice from a DataFrame.\n",
      "Try using .loc[row_indexer,col_indexer] = value instead\n",
      "\n",
      "See the caveats in the documentation: https://pandas.pydata.org/pandas-docs/stable/user_guide/indexing.html#returning-a-view-versus-a-copy\n",
      "  r['charge'] = r['l_extendedprice'] * (1 - r['l_discount']) * (1 + r['l_tax'])\n"
     ]
    },
    {
     "data": {
      "text/plain": "  l_returnflag l_linestatus  sum_qty  sum_base_price  sum_disc_price  \\\n0            A            F  3774200    5.320754e+09    5.054096e+09   \n1            N            F    95257    1.337378e+08    1.271324e+08   \n2            N            O  7472572    1.053091e+10    1.000393e+10   \n3            R            F  3785523    5.337951e+09    5.071819e+09   \n\n     sum_charge    avg_qty     avg_price  avg_disc  count_order  \n0  5.256751e+09  25.537587  36002.123829  0.050145       147790  \n1  1.322863e+08  25.300664  35521.326916  0.049394         3765  \n2  1.040396e+10  25.545333  36000.398144  0.050095       292522  \n3  5.274406e+09  25.525944  35994.029214  0.049989       148301  ",
      "text/html": "<div>\n<style scoped>\n    .dataframe tbody tr th:only-of-type {\n        vertical-align: middle;\n    }\n\n    .dataframe tbody tr th {\n        vertical-align: top;\n    }\n\n    .dataframe thead th {\n        text-align: right;\n    }\n</style>\n<table border=\"1\" class=\"dataframe\">\n  <thead>\n    <tr style=\"text-align: right;\">\n      <th></th>\n      <th>l_returnflag</th>\n      <th>l_linestatus</th>\n      <th>sum_qty</th>\n      <th>sum_base_price</th>\n      <th>sum_disc_price</th>\n      <th>sum_charge</th>\n      <th>avg_qty</th>\n      <th>avg_price</th>\n      <th>avg_disc</th>\n      <th>count_order</th>\n    </tr>\n  </thead>\n  <tbody>\n    <tr>\n      <th>0</th>\n      <td>A</td>\n      <td>F</td>\n      <td>3774200</td>\n      <td>5.320754e+09</td>\n      <td>5.054096e+09</td>\n      <td>5.256751e+09</td>\n      <td>25.537587</td>\n      <td>36002.123829</td>\n      <td>0.050145</td>\n      <td>147790</td>\n    </tr>\n    <tr>\n      <th>1</th>\n      <td>N</td>\n      <td>F</td>\n      <td>95257</td>\n      <td>1.337378e+08</td>\n      <td>1.271324e+08</td>\n      <td>1.322863e+08</td>\n      <td>25.300664</td>\n      <td>35521.326916</td>\n      <td>0.049394</td>\n      <td>3765</td>\n    </tr>\n    <tr>\n      <th>2</th>\n      <td>N</td>\n      <td>O</td>\n      <td>7472572</td>\n      <td>1.053091e+10</td>\n      <td>1.000393e+10</td>\n      <td>1.040396e+10</td>\n      <td>25.545333</td>\n      <td>36000.398144</td>\n      <td>0.050095</td>\n      <td>292522</td>\n    </tr>\n    <tr>\n      <th>3</th>\n      <td>R</td>\n      <td>F</td>\n      <td>3785523</td>\n      <td>5.337951e+09</td>\n      <td>5.071819e+09</td>\n      <td>5.274406e+09</td>\n      <td>25.525944</td>\n      <td>35994.029214</td>\n      <td>0.049989</td>\n      <td>148301</td>\n    </tr>\n  </tbody>\n</table>\n</div>"
     },
     "execution_count": 5,
     "metadata": {},
     "output_type": "execute_result"
    }
   ],
   "source": [
    "# TPCH - 1\n",
    "'''\n",
    "l_shipdate <= date '1998-12-01' - interval ':1' day (3)\n",
    "'''\n",
    "var1 = '1998-09-05'\n",
    "r = lineitem[lineitem['l_shipdate'] <= var1]\n",
    "\n",
    "r['disc_price'] = r['l_extendedprice'] * (1 - r['l_discount'])\n",
    "r['charge'] = r['l_extendedprice'] * (1 - r['l_discount']) * (1 + r['l_tax'])\n",
    "\n",
    "r = r.groupby(['l_returnflag', 'l_linestatus'], as_index=False).agg(sum_qty=('l_quantity', 'sum'),\n",
    "                                                    sum_base_price=('l_extendedprice', 'sum'),\n",
    "                                                    sum_disc_price=('disc_price', 'sum'),\n",
    "                                                    sum_charge=('charge', 'sum'),\n",
    "                                                    avg_qty=('l_quantity', 'mean'),\n",
    "                                                    avg_price=('l_extendedprice', 'mean'),\n",
    "                                                    avg_disc=('l_discount', 'mean'),\n",
    "                                                    count_order=('l_returnflag', 'count')\n",
    "                                                    )\n",
    "r"
   ],
   "metadata": {
    "collapsed": false,
    "pycharm": {
     "name": "#%%\n"
    }
   }
  },
  {
   "cell_type": "code",
   "execution_count": 4,
   "outputs": [
    {
     "data": {
      "text/plain": "   l l.1  sum_qty                                    \\\n0  A   F                                 37734107.0   \n1  N   F                                   991417.0   \n2  N   O                                 74476040.0   \n3  R   F                                 37719753.0   \n\n   sum_base_price                             \\\n0                               5.658655e+10   \n1                               1.487505e+09   \n2                               1.117017e+11   \n3                               5.656804e+10   \n\n   sum_disc_price                             \\\n0                               5.375826e+10   \n1                               1.413082e+09   \n2                               1.061182e+11   \n3                               5.374129e+10   \n\n   sum_charge                                 \\\n0                               5.590907e+10   \n1                               1.469649e+09   \n2                               1.103670e+11   \n3                               5.588962e+10   \n\n   avg_qty                                    \\\n0                                      25.52   \n1                                      25.52   \n2                                      25.50   \n3                                      25.51   \n\n   avg_price                                  \\\n0                                   38273.13   \n1                                   38284.47   \n2                                   38249.12   \n3                                   38250.85   \n\n   avg_disc                                   count_order             \n0                                       0.05                 1478493  \n1                                       0.05                   38854  \n2                                       0.05                 2920374  \n3                                       0.05                 1478870  ",
      "text/html": "<div>\n<style scoped>\n    .dataframe tbody tr th:only-of-type {\n        vertical-align: middle;\n    }\n\n    .dataframe tbody tr th {\n        vertical-align: top;\n    }\n\n    .dataframe thead th {\n        text-align: right;\n    }\n</style>\n<table border=\"1\" class=\"dataframe\">\n  <thead>\n    <tr style=\"text-align: right;\">\n      <th></th>\n      <th>l</th>\n      <th>l.1</th>\n      <th>sum_qty</th>\n      <th>sum_base_price</th>\n      <th>sum_disc_price</th>\n      <th>sum_charge</th>\n      <th>avg_qty</th>\n      <th>avg_price</th>\n      <th>avg_disc</th>\n      <th>count_order</th>\n    </tr>\n  </thead>\n  <tbody>\n    <tr>\n      <th>0</th>\n      <td>A</td>\n      <td>F</td>\n      <td>37734107.0</td>\n      <td>5.658655e+10</td>\n      <td>5.375826e+10</td>\n      <td>5.590907e+10</td>\n      <td>25.52</td>\n      <td>38273.13</td>\n      <td>0.05</td>\n      <td>1478493</td>\n    </tr>\n    <tr>\n      <th>1</th>\n      <td>N</td>\n      <td>F</td>\n      <td>991417.0</td>\n      <td>1.487505e+09</td>\n      <td>1.413082e+09</td>\n      <td>1.469649e+09</td>\n      <td>25.52</td>\n      <td>38284.47</td>\n      <td>0.05</td>\n      <td>38854</td>\n    </tr>\n    <tr>\n      <th>2</th>\n      <td>N</td>\n      <td>O</td>\n      <td>74476040.0</td>\n      <td>1.117017e+11</td>\n      <td>1.061182e+11</td>\n      <td>1.103670e+11</td>\n      <td>25.50</td>\n      <td>38249.12</td>\n      <td>0.05</td>\n      <td>2920374</td>\n    </tr>\n    <tr>\n      <th>3</th>\n      <td>R</td>\n      <td>F</td>\n      <td>37719753.0</td>\n      <td>5.656804e+10</td>\n      <td>5.374129e+10</td>\n      <td>5.588962e+10</td>\n      <td>25.51</td>\n      <td>38250.85</td>\n      <td>0.05</td>\n      <td>1478870</td>\n    </tr>\n  </tbody>\n</table>\n</div>"
     },
     "execution_count": 4,
     "metadata": {},
     "output_type": "execute_result"
    }
   ],
   "source": [
    "aq1 = pandas.read_table(rf'{answer_path}\\q1.out', sep='|')\n",
    "\n",
    "aq1"
   ],
   "metadata": {
    "collapsed": false,
    "pycharm": {
     "name": "#%%\n"
    }
   }
  },
  {
   "cell_type": "code",
   "execution_count": 11,
   "outputs": [
    {
     "name": "stdout",
     "output_type": "stream",
     "text": [
      "    p_partkey                                p_name          p_mfgr   p_brand  \\\n",
      "0        8751         lace light slate smoke yellow  Manufacturer#2  Brand#25   \n",
      "1        8751         lace light slate smoke yellow  Manufacturer#2  Brand#25   \n",
      "2       19751  aquamarine dim coral white chocolate  Manufacturer#4  Brand#45   \n",
      "3       19751  aquamarine dim coral white chocolate  Manufacturer#4  Brand#45   \n",
      "4        9554    thistle turquoise snow linen olive  Manufacturer#3  Brand#34   \n",
      "..        ...                                   ...             ...       ...   \n",
      "60       6314  white turquoise plum goldenrod smoke  Manufacturer#5  Brand#51   \n",
      "61       9939        yellow deep bisque mint orchid  Manufacturer#2  Brand#21   \n",
      "62      19671     linen almond misty sienna magenta  Manufacturer#5  Brand#54   \n",
      "63       6480    floral spring beige black cornsilk  Manufacturer#5  Brand#54   \n",
      "64       6480    floral spring beige black cornsilk  Manufacturer#5  Brand#54   \n",
      "\n",
      "                   p_type  p_size p_container  p_retailprice  \\\n",
      "0    MEDIUM BURNISHED TIN       3    MED PACK        1659.75   \n",
      "1    MEDIUM BURNISHED TIN       3    MED PACK        1659.75   \n",
      "2      PROMO POLISHED TIN       3  JUMBO PACK        1670.75   \n",
      "3      PROMO POLISHED TIN       3  JUMBO PACK        1670.75   \n",
      "4      MEDIUM BRUSHED TIN       3   JUMBO CAN        1463.55   \n",
      "..                    ...     ...         ...            ...   \n",
      "60      MEDIUM PLATED TIN       3      LG CAN        1220.31   \n",
      "61     SMALL POLISHED TIN       3      LG BOX        1848.93   \n",
      "62     LARGE POLISHED TIN       3     LG CASE        1590.67   \n",
      "63  STANDARD ANODIZED TIN       3    WRAP BAG        1386.48   \n",
      "64  STANDARD ANODIZED TIN       3    WRAP BAG        1386.48   \n",
      "\n",
      "                p_comment  ps_partkey_x  ...        s_phone_y  s_acctbal_y  \\\n",
      "0   usly unusual foxes. f          8751  ...  13-854-821-4478      3891.91   \n",
      "1   usly unusual foxes. f          8751  ...  13-854-821-4478      3891.91   \n",
      "2           s. theodolite         19751  ...  12-253-590-5816      7588.27   \n",
      "3           s. theodolite         19751  ...  12-253-590-5816      7588.27   \n",
      "4                   furio          9554  ...  13-607-927-7514      7896.01   \n",
      "..                    ...           ...  ...              ...          ...   \n",
      "60      ake after the sly          6314  ...  12-574-691-2832      7315.00   \n",
      "61      even foxes sleep.          9939  ...  12-972-343-8810      5789.96   \n",
      "62               uffily d         19671  ...  12-385-448-5157      9657.88   \n",
      "63         re. quickly ir          6480  ...  12-316-384-2073      1922.80   \n",
      "64         re. quickly ir          6480  ...  12-316-384-2073      1922.80   \n",
      "\n",
      "                                          s_comment_y n_nationkey_y  n_name_y  \\\n",
      "0                      ages. even, regular packages c             3    CANADA   \n",
      "1                      ages. even, regular packages c             3    CANADA   \n",
      "2                      ages. even, regular packages c             2    BRAZIL   \n",
      "3                      ages. even, regular packages c             2    BRAZIL   \n",
      "4   uriously regular theodolites according to the ...             3    CANADA   \n",
      "..                                                ...           ...       ...   \n",
      "60  eas. blithely pending packages cajole blithely...             2    BRAZIL   \n",
      "61              ccounts. quickly final patterns mold              2    BRAZIL   \n",
      "62     ccounts haggle after the carefully pending acc             2    BRAZIL   \n",
      "63                 asymptotes haggle slowly above the             2    BRAZIL   \n",
      "64                 asymptotes haggle slowly above the             2    BRAZIL   \n",
      "\n",
      "   n_regionkey_y                                        n_comment_y  \\\n",
      "0              1  eas hang ironic, silent packages. slyly regula...   \n",
      "1              1  eas hang ironic, silent packages. slyly regula...   \n",
      "2              1  eas hang ironic, silent packages. slyly regula...   \n",
      "3              1  eas hang ironic, silent packages. slyly regula...   \n",
      "4              1  eas hang ironic, silent packages. slyly regula...   \n",
      "..           ...                                                ...   \n",
      "60             1  y alongside of the pending deposits. carefully...   \n",
      "61             1  y alongside of the pending deposits. carefully...   \n",
      "62             1  y alongside of the pending deposits. carefully...   \n",
      "63             1  y alongside of the pending deposits. carefully...   \n",
      "64             1  y alongside of the pending deposits. carefully...   \n",
      "\n",
      "    r_regionkey_y r_name_y                      r_comment_y  \n",
      "0               1  AMERICA  hs use ironic, even requests. s  \n",
      "1               1  AMERICA  hs use ironic, even requests. s  \n",
      "2               1  AMERICA  hs use ironic, even requests. s  \n",
      "3               1  AMERICA  hs use ironic, even requests. s  \n",
      "4               1  AMERICA  hs use ironic, even requests. s  \n",
      "..            ...      ...                              ...  \n",
      "60              1  AMERICA  hs use ironic, even requests. s  \n",
      "61              1  AMERICA  hs use ironic, even requests. s  \n",
      "62              1  AMERICA  hs use ironic, even requests. s  \n",
      "63              1  AMERICA  hs use ironic, even requests. s  \n",
      "64              1  AMERICA  hs use ironic, even requests. s  \n",
      "\n",
      "[65 rows x 47 columns]\n"
     ]
    }
   ],
   "source": [
    "# TPCH - 2\n",
    "'''\n",
    "p_partkey = ps_partkey\n",
    "and s_suppkey = ps_suppkey\n",
    "and s_nationkey = n_nationkey\n",
    "and n_regionkey = r_regionkey\n",
    "and r_name = ':3'\n",
    "'''\n",
    "var1 = 3\n",
    "var2 = 'TIN'\n",
    "var3 = 'AMERICA'\n",
    "# r = partsupp.merge(supplier, how='inner', left_on='ps_suppkey', right_on='s_suppkey')\\\n",
    "#     .merge(nation, how='inner', left_on='s_nationkey', right_on='n_nationkey')\\\n",
    "#     .merge(region, how='inner', left_on='n_regionkey', right_on='r_regionkey')\n",
    "r = partsupp.merge(supplier, how='inner', left_on='ps_suppkey', right_on='s_suppkey')\\\n",
    "    .merge(nation, how='inner', left_on='s_nationkey', right_on='n_nationkey')\\\n",
    "    .merge(region, how='inner', left_on='n_regionkey', right_on='r_regionkey')\n",
    "\n",
    "r = r[(r['r_name'] == var3)].groupby(['ps_partkey'], as_index=False).min()\n",
    "\n",
    "s = part.merge(partsupp, how='inner', left_on='p_partkey', right_on='ps_partkey')\\\n",
    "    .merge(supplier, how='inner', left_on='ps_suppkey', right_on='s_suppkey')\\\n",
    "    .merge(nation, how='inner', left_on='s_nationkey', right_on='n_nationkey')\\\n",
    "    .merge(region, how='inner', left_on='n_regionkey', right_on='r_regionkey')\n",
    "\n",
    "s = s[(s['p_size'] == 3)\n",
    "      & s['p_type'].str.endswith(var2)\n",
    "      & (s['r_name'] == var3)]\n",
    "\n",
    "t = s.merge(r, how='inner', left_on='p_partkey', right_on='ps_partkey')\n",
    "# [['s_acctbal', 's_name', 'n_name', 'p_partkey', 'p_mfgr', 's_address', 's_phone', 's_comment']]\n",
    "print(t)"
   ],
   "metadata": {
    "collapsed": false,
    "pycharm": {
     "name": "#%%\n"
    }
   }
  }
 ],
 "metadata": {
  "kernelspec": {
   "display_name": "Python 3",
   "language": "python",
   "name": "python3"
  },
  "language_info": {
   "codemirror_mode": {
    "name": "ipython",
    "version": 2
   },
   "file_extension": ".py",
   "mimetype": "text/x-python",
   "name": "python",
   "nbconvert_exporter": "python",
   "pygments_lexer": "ipython2",
   "version": "2.7.6"
  }
 },
 "nbformat": 4,
 "nbformat_minor": 0
}