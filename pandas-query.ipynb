{
 "cells": [
  {
   "cell_type": "code",
   "execution_count": 2,
   "metadata": {
    "collapsed": true
   },
   "outputs": [],
   "source": [
    "import pandas\n",
    "import pysdql\n",
    "\n",
    "path = r'T:\\tpch_dataset\\1G'\n",
    "\n",
    "customer = pandas.read_table(rf'{path}\\customer.tbl', sep='|', index_col=False, header=None, names=pysdql.CUSTOMER_COLS)\n",
    "lineitem = pandas.read_table(rf'{path}\\lineitem.tbl', sep='|', index_col=False, header=None, names=pysdql.LINEITEM_COLS)\n",
    "nation = pandas.read_table(rf'{path}\\nation.tbl', sep='|', index_col=False, header=None, names=pysdql.NATION_COLS)\n",
    "orders = pandas.read_table(rf'{path}\\orders.tbl', sep='|', index_col=False, header=None, names=pysdql.ORDERS_COLS)\n",
    "part = pandas.read_table(rf'T:{path}\\part.tbl', sep='|', index_col=False, header=None, names=pysdql.PART_COLS)\n",
    "partsupp = pandas.read_table(rf'{path}\\partsupp.tbl', sep='|', index_col=False, header=None, names=pysdql.PARTSUPP_COLS)\n",
    "region = pandas.read_table(rf'{path}\\region.tbl', sep='|', index_col=False, header=None, names=pysdql.REGION_COLS)\n",
    "supplier = pandas.read_table(rf'{path}\\supplier.tbl', sep='|', index_col=False, header=None, names=pysdql.SUPPLIER_COLS)"
   ]
  },
  {
   "cell_type": "code",
   "execution_count": 4,
   "outputs": [
    {
     "data": {
      "text/plain": "         l_orderkey  l_partkey  l_suppkey  l_linenumber  l_quantity  \\\n0                 1     155190       7706             1          17   \n1                 1      67310       7311             2          36   \n2                 1      63700       3701             3           8   \n3                 1       2132       4633             4          28   \n4                 1      24027       1534             5          24   \n...             ...        ...        ...           ...         ...   \n6001210     5999975       7272       2273             1          32   \n6001211     5999975       6452       1453             2           7   \n6001212     5999975      37131       2138             3          18   \n6001213     6000000      32255       2256             1           5   \n6001214     6000000      96127       6128             2          28   \n\n         l_extendedprice  l_discount  l_tax l_returnflag l_linestatus  \\\n0               21168.23        0.04   0.02            N            O   \n1               45983.16        0.09   0.06            N            O   \n2               13309.60        0.10   0.02            N            O   \n3               28955.64        0.09   0.06            N            O   \n4               22824.48        0.10   0.04            N            O   \n...                  ...         ...    ...          ...          ...   \n6001210         37736.64        0.07   0.01            R            F   \n6001211          9509.15        0.04   0.00            A            F   \n6001212         19226.34        0.04   0.01            A            F   \n6001213          5936.25        0.04   0.03            N            O   \n6001214         31447.36        0.01   0.02            N            O   \n\n         l_shipdate l_commitdate l_receiptdate     l_shipinstruct l_shipmode  \\\n0        1996-03-13   1996-02-12    1996-03-22  DELIVER IN PERSON      TRUCK   \n1        1996-04-12   1996-02-28    1996-04-20   TAKE BACK RETURN       MAIL   \n2        1996-01-29   1996-03-05    1996-01-31   TAKE BACK RETURN    REG AIR   \n3        1996-04-21   1996-03-30    1996-05-16               NONE        AIR   \n4        1996-03-30   1996-03-14    1996-04-01               NONE        FOB   \n...             ...          ...           ...                ...        ...   \n6001210  1993-10-07   1993-09-30    1993-10-21        COLLECT COD    REG AIR   \n6001211  1993-11-02   1993-09-23    1993-11-19  DELIVER IN PERSON       SHIP   \n6001212  1993-11-17   1993-08-28    1993-12-08  DELIVER IN PERSON        FOB   \n6001213  1996-11-02   1996-11-19    1996-12-01   TAKE BACK RETURN       MAIL   \n6001214  1996-09-22   1996-10-01    1996-10-21               NONE        AIR   \n\n                                        l_comment  \n0                         egular courts above the  \n1              ly final dependencies: slyly bold   \n2                   riously. regular, express dep  \n3                         lites. fluffily even de  \n4                         pending foxes. slyly re  \n...                                           ...  \n6001210                           tructions. excu  \n6001211                       lar pinto beans aft  \n6001212  , quick deposits. ironic, unusual deposi  \n6001213                                carefully   \n6001214               ooze furiously about the pe  \n\n[4405530 rows x 16 columns]",
      "text/html": "<div>\n<style scoped>\n    .dataframe tbody tr th:only-of-type {\n        vertical-align: middle;\n    }\n\n    .dataframe tbody tr th {\n        vertical-align: top;\n    }\n\n    .dataframe thead th {\n        text-align: right;\n    }\n</style>\n<table border=\"1\" class=\"dataframe\">\n  <thead>\n    <tr style=\"text-align: right;\">\n      <th></th>\n      <th>l_orderkey</th>\n      <th>l_partkey</th>\n      <th>l_suppkey</th>\n      <th>l_linenumber</th>\n      <th>l_quantity</th>\n      <th>l_extendedprice</th>\n      <th>l_discount</th>\n      <th>l_tax</th>\n      <th>l_returnflag</th>\n      <th>l_linestatus</th>\n      <th>l_shipdate</th>\n      <th>l_commitdate</th>\n      <th>l_receiptdate</th>\n      <th>l_shipinstruct</th>\n      <th>l_shipmode</th>\n      <th>l_comment</th>\n    </tr>\n  </thead>\n  <tbody>\n    <tr>\n      <th>0</th>\n      <td>1</td>\n      <td>155190</td>\n      <td>7706</td>\n      <td>1</td>\n      <td>17</td>\n      <td>21168.23</td>\n      <td>0.04</td>\n      <td>0.02</td>\n      <td>N</td>\n      <td>O</td>\n      <td>1996-03-13</td>\n      <td>1996-02-12</td>\n      <td>1996-03-22</td>\n      <td>DELIVER IN PERSON</td>\n      <td>TRUCK</td>\n      <td>egular courts above the</td>\n    </tr>\n    <tr>\n      <th>1</th>\n      <td>1</td>\n      <td>67310</td>\n      <td>7311</td>\n      <td>2</td>\n      <td>36</td>\n      <td>45983.16</td>\n      <td>0.09</td>\n      <td>0.06</td>\n      <td>N</td>\n      <td>O</td>\n      <td>1996-04-12</td>\n      <td>1996-02-28</td>\n      <td>1996-04-20</td>\n      <td>TAKE BACK RETURN</td>\n      <td>MAIL</td>\n      <td>ly final dependencies: slyly bold</td>\n    </tr>\n    <tr>\n      <th>2</th>\n      <td>1</td>\n      <td>63700</td>\n      <td>3701</td>\n      <td>3</td>\n      <td>8</td>\n      <td>13309.60</td>\n      <td>0.10</td>\n      <td>0.02</td>\n      <td>N</td>\n      <td>O</td>\n      <td>1996-01-29</td>\n      <td>1996-03-05</td>\n      <td>1996-01-31</td>\n      <td>TAKE BACK RETURN</td>\n      <td>REG AIR</td>\n      <td>riously. regular, express dep</td>\n    </tr>\n    <tr>\n      <th>3</th>\n      <td>1</td>\n      <td>2132</td>\n      <td>4633</td>\n      <td>4</td>\n      <td>28</td>\n      <td>28955.64</td>\n      <td>0.09</td>\n      <td>0.06</td>\n      <td>N</td>\n      <td>O</td>\n      <td>1996-04-21</td>\n      <td>1996-03-30</td>\n      <td>1996-05-16</td>\n      <td>NONE</td>\n      <td>AIR</td>\n      <td>lites. fluffily even de</td>\n    </tr>\n    <tr>\n      <th>4</th>\n      <td>1</td>\n      <td>24027</td>\n      <td>1534</td>\n      <td>5</td>\n      <td>24</td>\n      <td>22824.48</td>\n      <td>0.10</td>\n      <td>0.04</td>\n      <td>N</td>\n      <td>O</td>\n      <td>1996-03-30</td>\n      <td>1996-03-14</td>\n      <td>1996-04-01</td>\n      <td>NONE</td>\n      <td>FOB</td>\n      <td>pending foxes. slyly re</td>\n    </tr>\n    <tr>\n      <th>...</th>\n      <td>...</td>\n      <td>...</td>\n      <td>...</td>\n      <td>...</td>\n      <td>...</td>\n      <td>...</td>\n      <td>...</td>\n      <td>...</td>\n      <td>...</td>\n      <td>...</td>\n      <td>...</td>\n      <td>...</td>\n      <td>...</td>\n      <td>...</td>\n      <td>...</td>\n      <td>...</td>\n    </tr>\n    <tr>\n      <th>6001210</th>\n      <td>5999975</td>\n      <td>7272</td>\n      <td>2273</td>\n      <td>1</td>\n      <td>32</td>\n      <td>37736.64</td>\n      <td>0.07</td>\n      <td>0.01</td>\n      <td>R</td>\n      <td>F</td>\n      <td>1993-10-07</td>\n      <td>1993-09-30</td>\n      <td>1993-10-21</td>\n      <td>COLLECT COD</td>\n      <td>REG AIR</td>\n      <td>tructions. excu</td>\n    </tr>\n    <tr>\n      <th>6001211</th>\n      <td>5999975</td>\n      <td>6452</td>\n      <td>1453</td>\n      <td>2</td>\n      <td>7</td>\n      <td>9509.15</td>\n      <td>0.04</td>\n      <td>0.00</td>\n      <td>A</td>\n      <td>F</td>\n      <td>1993-11-02</td>\n      <td>1993-09-23</td>\n      <td>1993-11-19</td>\n      <td>DELIVER IN PERSON</td>\n      <td>SHIP</td>\n      <td>lar pinto beans aft</td>\n    </tr>\n    <tr>\n      <th>6001212</th>\n      <td>5999975</td>\n      <td>37131</td>\n      <td>2138</td>\n      <td>3</td>\n      <td>18</td>\n      <td>19226.34</td>\n      <td>0.04</td>\n      <td>0.01</td>\n      <td>A</td>\n      <td>F</td>\n      <td>1993-11-17</td>\n      <td>1993-08-28</td>\n      <td>1993-12-08</td>\n      <td>DELIVER IN PERSON</td>\n      <td>FOB</td>\n      <td>, quick deposits. ironic, unusual deposi</td>\n    </tr>\n    <tr>\n      <th>6001213</th>\n      <td>6000000</td>\n      <td>32255</td>\n      <td>2256</td>\n      <td>1</td>\n      <td>5</td>\n      <td>5936.25</td>\n      <td>0.04</td>\n      <td>0.03</td>\n      <td>N</td>\n      <td>O</td>\n      <td>1996-11-02</td>\n      <td>1996-11-19</td>\n      <td>1996-12-01</td>\n      <td>TAKE BACK RETURN</td>\n      <td>MAIL</td>\n      <td>carefully</td>\n    </tr>\n    <tr>\n      <th>6001214</th>\n      <td>6000000</td>\n      <td>96127</td>\n      <td>6128</td>\n      <td>2</td>\n      <td>28</td>\n      <td>31447.36</td>\n      <td>0.01</td>\n      <td>0.02</td>\n      <td>N</td>\n      <td>O</td>\n      <td>1996-09-22</td>\n      <td>1996-10-01</td>\n      <td>1996-10-21</td>\n      <td>NONE</td>\n      <td>AIR</td>\n      <td>ooze furiously about the pe</td>\n    </tr>\n  </tbody>\n</table>\n<p>4405530 rows × 16 columns</p>\n</div>"
     },
     "execution_count": 4,
     "metadata": {},
     "output_type": "execute_result"
    }
   ],
   "source": [
    "# TPCH - 1\n",
    "'''\n",
    "l_shipdate <= date '1998-12-01' - interval ':1' day (3)\n",
    "'''\n",
    "var1 = '1998-12-01'\n",
    "r = lineitem[lineitem['l_shipdate'] <= var1]\n",
    "r"
   ],
   "metadata": {
    "collapsed": false,
    "pycharm": {
     "name": "#%%\n"
    }
   }
  },
  {
   "cell_type": "code",
   "execution_count": 24,
   "outputs": [
    {
     "name": "stdout",
     "output_type": "stream",
     "text": [
      "1.0\n",
      "        p_partkey                                  p_name          p_mfgr  \\\n",
      "479578     147502       floral almond olive blush magenta  Manufacturer#5   \n",
      "479583     159957       maroon purple tan lavender salmon  Manufacturer#5   \n",
      "479584     162470           snow ghost bisque forest navy  Manufacturer#4   \n",
      "479632      82501    bisque antique purple ghost metallic  Manufacturer#2   \n",
      "479679     199971  lime yellow turquoise chocolate orchid  Manufacturer#5   \n",
      "...           ...                                     ...             ...   \n",
      "638337      44981          smoke forest lace slate spring  Manufacturer#1   \n",
      "638347      69989   dodger aquamarine cornsilk ghost dark  Manufacturer#1   \n",
      "638367     119989            tan lawn tomato almond khaki  Manufacturer#4   \n",
      "638447     119989            tan lawn tomato almond khaki  Manufacturer#4   \n",
      "638464     162500            saddle pink green blush lawn  Manufacturer#1   \n",
      "\n",
      "         p_brand                    p_type  p_size p_container  p_retailprice  \\\n",
      "479578  Brand#54   ECONOMY ANODIZED NICKEL      10   JUMBO PKG        1549.50   \n",
      "479583  Brand#55  ECONOMY BURNISHED NICKEL      10    WRAP BAG        2016.95   \n",
      "479584  Brand#42        PROMO POLISHED TIN      10    WRAP CAN        1532.47   \n",
      "479632  Brand#23     PROMO POLISHED NICKEL      10     MED PKG        1483.50   \n",
      "479679  Brand#53      PROMO ANODIZED STEEL      10      SM BAG        2070.97   \n",
      "...          ...                       ...     ...         ...            ...   \n",
      "638337  Brand#11        ECONOMY PLATED TIN      10      LG JAR        1925.98   \n",
      "638347  Brand#13    STANDARD PLATED COPPER      10     LG PACK        1958.98   \n",
      "638367  Brand#44  ECONOMY BURNISHED COPPER      10  JUMBO CASE        2008.98   \n",
      "638447  Brand#44  ECONOMY BURNISHED COPPER      10  JUMBO CASE        2008.98   \n",
      "638464  Brand#14          LARGE PLATED TIN      10      SM BOX        1562.50   \n",
      "\n",
      "                   p_comment  ps_partkey  ...          s_phone  s_acctbal  \\\n",
      "479578                y care      147502  ...  32-499-180-9030    -640.53   \n",
      "479583   cording to the pend      159957  ...  32-499-180-9030    -640.53   \n",
      "479584  osits. furiously bol      162470  ...  32-499-180-9030    -640.53   \n",
      "479632       es. slyly unusu       82501  ...  32-840-426-3024     965.65   \n",
      "479679                 eques      199971  ...  32-840-426-3024     965.65   \n",
      "...                      ...         ...  ...              ...        ...   \n",
      "638337             regular r       44981  ...  17-606-745-1212    8969.64   \n",
      "638347               ilent i       69989  ...  17-606-745-1212    8969.64   \n",
      "638367  ly regular pinto bea      119989  ...  17-606-745-1212    8969.64   \n",
      "638447  ly regular pinto bea      119989  ...  17-880-517-1690    1404.32   \n",
      "638464  rd the blithely sile      162500  ...  17-880-517-1690    1404.32   \n",
      "\n",
      "                                                s_comment n_nationkey  \\\n",
      "479578  packages nag carefully regular accounts. steal...          22   \n",
      "479583  packages nag carefully regular accounts. steal...          22   \n",
      "479584  packages nag carefully regular accounts. steal...          22   \n",
      "479632  ake never. furiously unusual packages sleep ir...          22   \n",
      "479679  ake never. furiously unusual packages sleep ir...          22   \n",
      "...                                                   ...         ...   \n",
      "638337          ronic accounts. daringly pending pinto be           7   \n",
      "638347          ronic accounts. daringly pending pinto be           7   \n",
      "638367          ronic accounts. daringly pending pinto be           7   \n",
      "638447  . quickly regular dependencies use slyly quick...           7   \n",
      "638464  . quickly regular dependencies use slyly quick...           7   \n",
      "\n",
      "         n_name n_regionkey  \\\n",
      "479578   RUSSIA           3   \n",
      "479583   RUSSIA           3   \n",
      "479584   RUSSIA           3   \n",
      "479632   RUSSIA           3   \n",
      "479679   RUSSIA           3   \n",
      "...         ...         ...   \n",
      "638337  GERMANY           3   \n",
      "638347  GERMANY           3   \n",
      "638367  GERMANY           3   \n",
      "638447  GERMANY           3   \n",
      "638464  GERMANY           3   \n",
      "\n",
      "                                                n_comment  r_regionkey  \\\n",
      "479578   requests against the platelets use never acco...            3   \n",
      "479583   requests against the platelets use never acco...            3   \n",
      "479584   requests against the platelets use never acco...            3   \n",
      "479632   requests against the platelets use never acco...            3   \n",
      "479679   requests against the platelets use never acco...            3   \n",
      "...                                                   ...          ...   \n",
      "638337  l platelets. regular accounts x-ray: unusual, ...            3   \n",
      "638347  l platelets. regular accounts x-ray: unusual, ...            3   \n",
      "638367  l platelets. regular accounts x-ray: unusual, ...            3   \n",
      "638447  l platelets. regular accounts x-ray: unusual, ...            3   \n",
      "638464  l platelets. regular accounts x-ray: unusual, ...            3   \n",
      "\n",
      "        r_name                                      r_comment  \n",
      "479578  EUROPE  ly final courts cajole furiously final excuse  \n",
      "479583  EUROPE  ly final courts cajole furiously final excuse  \n",
      "479584  EUROPE  ly final courts cajole furiously final excuse  \n",
      "479632  EUROPE  ly final courts cajole furiously final excuse  \n",
      "479679  EUROPE  ly final courts cajole furiously final excuse  \n",
      "...        ...                                            ...  \n",
      "638337  EUROPE  ly final courts cajole furiously final excuse  \n",
      "638347  EUROPE  ly final courts cajole furiously final excuse  \n",
      "638367  EUROPE  ly final courts cajole furiously final excuse  \n",
      "638447  EUROPE  ly final courts cajole furiously final excuse  \n",
      "638464  EUROPE  ly final courts cajole furiously final excuse  \n",
      "\n",
      "[3243 rows x 28 columns]\n"
     ]
    }
   ],
   "source": [
    "# TPCH - 2\n",
    "'''\n",
    "p_partkey = ps_partkey\n",
    "and s_suppkey = ps_suppkey\n",
    "and s_nationkey = n_nationkey\n",
    "and n_regionkey = r_regionkey\n",
    "and r_name = ':3'\n",
    "'''\n",
    "var1 = 10\n",
    "var2 = '1995-01-13'\n",
    "var3 = 'EUROPE'\n",
    "df = part.merge(partsupp, how='inner', left_on='p_partkey', right_on='ps_partkey')\n",
    "df = df.merge(supplier, how='inner', left_on='ps_suppkey', right_on='s_suppkey')\n",
    "df = df.merge(nation, how='inner', left_on='s_nationkey', right_on='n_nationkey')\n",
    "r = df.merge(region, how='inner', left_on='n_regionkey', right_on='r_regionkey')\n",
    "\n",
    "min_val = r['ps_supplycost'].min()\n",
    "print(min_val)\n",
    "\n",
    "r = r[\n",
    "    (r['p_size'] == var1)\n",
    "    & (r['r_name'] == var3)\n",
    "    # & (r['ps_supplycost'] == min_val)\n",
    "]\n",
    "print(r)\n"
   ],
   "metadata": {
    "collapsed": false,
    "pycharm": {
     "name": "#%%\n"
    }
   }
  }
 ],
 "metadata": {
  "kernelspec": {
   "display_name": "Python 3",
   "language": "python",
   "name": "python3"
  },
  "language_info": {
   "codemirror_mode": {
    "name": "ipython",
    "version": 2
   },
   "file_extension": ".py",
   "mimetype": "text/x-python",
   "name": "python",
   "nbconvert_exporter": "python",
   "pygments_lexer": "ipython2",
   "version": "2.7.6"
  }
 },
 "nbformat": 4,
 "nbformat_minor": 0
}