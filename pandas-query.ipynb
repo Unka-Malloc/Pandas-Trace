{
 "cells": [
  {
   "cell_type": "code",
   "execution_count": 120,
   "metadata": {},
   "outputs": [],
   "source": [
    "import pandas\n",
    "import pysdql\n",
    "\n",
    "path = r'T:\\UG4-Proj\\datasets'\n",
    "answer_path = r'T:\\UG4-Proj\\datasets'\n",
    "\n",
    "customer = pandas.read_table(rf'{path}\\customer.tbl', sep='|', index_col=False, header=None, names=pysdql.CUSTOMER_COLS)\n",
    "lineitem = pandas.read_table(rf'{path}\\lineitem.tbl', sep='|', index_col=False, header=None, names=pysdql.LINEITEM_COLS)\n",
    "nation = pandas.read_table(rf'{path}\\nation.tbl', sep='|', index_col=False, header=None, names=pysdql.NATION_COLS)\n",
    "orders = pandas.read_table(rf'{path}\\orders.tbl', sep='|', index_col=False, header=None, names=pysdql.ORDERS_COLS)\n",
    "part = pandas.read_table(rf'{path}\\part.tbl', sep='|', index_col=False, header=None, names=pysdql.PART_COLS)\n",
    "partsupp = pandas.read_table(rf'{path}\\partsupp.tbl', sep='|', index_col=False, header=None, names=pysdql.PARTSUPP_COLS)\n",
    "region = pandas.read_table(rf'{path}\\region.tbl', sep='|', index_col=False, header=None, names=pysdql.REGION_COLS)\n",
    "supplier = pandas.read_table(rf'{path}\\supplier.tbl', sep='|', index_col=False, header=None, names=pysdql.SUPPLIER_COLS)\n",
    "\n",
    "# r = r.merge(orders, how='inner', left_on='o_orderkey', right_on='l_orderkey')"
   ]
  },
  {
   "cell_type": "code",
   "execution_count": 121,
   "metadata": {
    "pycharm": {
     "name": "#%%\n"
    }
   },
   "outputs": [
    {
     "name": "stderr",
     "output_type": "stream",
     "text": [
      "C:\\Users\\Y\\AppData\\Local\\Temp\\ipykernel_19592\\1025114352.py:8: SettingWithCopyWarning: \n",
      "A value is trying to be set on a copy of a slice from a DataFrame.\n",
      "Try using .loc[row_indexer,col_indexer] = value instead\n",
      "\n",
      "See the caveats in the documentation: https://pandas.pydata.org/pandas-docs/stable/user_guide/indexing.html#returning-a-view-versus-a-copy\n",
      "  r['disc_price'] = r['l_extendedprice'] * (1 - r['l_discount'])\n",
      "C:\\Users\\Y\\AppData\\Local\\Temp\\ipykernel_19592\\1025114352.py:9: SettingWithCopyWarning: \n",
      "A value is trying to be set on a copy of a slice from a DataFrame.\n",
      "Try using .loc[row_indexer,col_indexer] = value instead\n",
      "\n",
      "See the caveats in the documentation: https://pandas.pydata.org/pandas-docs/stable/user_guide/indexing.html#returning-a-view-versus-a-copy\n",
      "  r['charge'] = r['l_extendedprice'] * (1 - r['l_discount']) * (1 + r['l_tax'])\n"
     ]
    },
    {
     "data": {
      "text/plain": "  l_returnflag l_linestatus  sum_qty  sum_base_price  sum_disc_price  \\\n0            A            F    37474     37569624.64    3.567619e+07   \n1            N            F     1041      1041301.07    9.990609e+05   \n2            N            O    75354     75571811.04    7.182923e+07   \n3            R            F    36511     36570841.24    3.473847e+07   \n\n     sum_charge    avg_qty     avg_price  avg_disc  count_order  \n0  3.710142e+07  25.354533  25419.231827  0.050866         1478  \n1  1.036451e+06  27.394737  27402.659737  0.042895           38  \n2  7.467892e+07  25.561058  25634.942687  0.049715         2948  \n3  3.616906e+07  25.059025  25100.096939  0.050027         1457  ",
      "text/html": "<div>\n<style scoped>\n    .dataframe tbody tr th:only-of-type {\n        vertical-align: middle;\n    }\n\n    .dataframe tbody tr th {\n        vertical-align: top;\n    }\n\n    .dataframe thead th {\n        text-align: right;\n    }\n</style>\n<table border=\"1\" class=\"dataframe\">\n  <thead>\n    <tr style=\"text-align: right;\">\n      <th></th>\n      <th>l_returnflag</th>\n      <th>l_linestatus</th>\n      <th>sum_qty</th>\n      <th>sum_base_price</th>\n      <th>sum_disc_price</th>\n      <th>sum_charge</th>\n      <th>avg_qty</th>\n      <th>avg_price</th>\n      <th>avg_disc</th>\n      <th>count_order</th>\n    </tr>\n  </thead>\n  <tbody>\n    <tr>\n      <th>0</th>\n      <td>A</td>\n      <td>F</td>\n      <td>37474</td>\n      <td>37569624.64</td>\n      <td>3.567619e+07</td>\n      <td>3.710142e+07</td>\n      <td>25.354533</td>\n      <td>25419.231827</td>\n      <td>0.050866</td>\n      <td>1478</td>\n    </tr>\n    <tr>\n      <th>1</th>\n      <td>N</td>\n      <td>F</td>\n      <td>1041</td>\n      <td>1041301.07</td>\n      <td>9.990609e+05</td>\n      <td>1.036451e+06</td>\n      <td>27.394737</td>\n      <td>27402.659737</td>\n      <td>0.042895</td>\n      <td>38</td>\n    </tr>\n    <tr>\n      <th>2</th>\n      <td>N</td>\n      <td>O</td>\n      <td>75354</td>\n      <td>75571811.04</td>\n      <td>7.182923e+07</td>\n      <td>7.467892e+07</td>\n      <td>25.561058</td>\n      <td>25634.942687</td>\n      <td>0.049715</td>\n      <td>2948</td>\n    </tr>\n    <tr>\n      <th>3</th>\n      <td>R</td>\n      <td>F</td>\n      <td>36511</td>\n      <td>36570841.24</td>\n      <td>3.473847e+07</td>\n      <td>3.616906e+07</td>\n      <td>25.059025</td>\n      <td>25100.096939</td>\n      <td>0.050027</td>\n      <td>1457</td>\n    </tr>\n  </tbody>\n</table>\n</div>"
     },
     "execution_count": 121,
     "metadata": {},
     "output_type": "execute_result"
    }
   ],
   "source": [
    "# TPCH - 1\n",
    "'''\n",
    "l_shipdate <= date '1998-12-01' - interval ':1' day (3)\n",
    "'''\n",
    "var1 = '1998-09-05'\n",
    "r = lineitem[lineitem['l_shipdate'] <= var1]\n",
    "\n",
    "r['disc_price'] = r['l_extendedprice'] * (1 - r['l_discount'])\n",
    "r['charge'] = r['l_extendedprice'] * (1 - r['l_discount']) * (1 + r['l_tax'])\n",
    "\n",
    "r = r.groupby(['l_returnflag', 'l_linestatus'], as_index=False).agg(sum_qty=('l_quantity', 'sum'),\n",
    "                                                    sum_base_price=('l_extendedprice', 'sum'),\n",
    "                                                    sum_disc_price=('disc_price', 'sum'),\n",
    "                                                    sum_charge=('charge', 'sum'),\n",
    "                                                    avg_qty=('l_quantity', 'mean'),\n",
    "                                                    avg_price=('l_extendedprice', 'mean'),\n",
    "                                                    avg_disc=('l_discount', 'mean'),\n",
    "                                                    count_order=('l_returnflag', 'count')\n",
    "                                                    )\n",
    "r"
   ]
  },
  {
   "cell_type": "code",
   "execution_count": 150,
   "metadata": {
    "pycharm": {
     "name": "#%%\n"
    }
   },
   "outputs": [
    {
     "data": {
      "text/plain": "   s_acctbal              s_name          n_name  p_partkey          p_mfgr  \\\n0    6820.35  Supplier#000000007  UNITED KINGDOM          4  Manufacturer#3   \n\n               s_address          s_phone  \\\n0  s,4TicNGB4uO6PaSqNBUq  33-990-965-2201   \n\n                                           s_comment  \n0  s unwind silently furiously regular courts. fi...  ",
      "text/html": "<div>\n<style scoped>\n    .dataframe tbody tr th:only-of-type {\n        vertical-align: middle;\n    }\n\n    .dataframe tbody tr th {\n        vertical-align: top;\n    }\n\n    .dataframe thead th {\n        text-align: right;\n    }\n</style>\n<table border=\"1\" class=\"dataframe\">\n  <thead>\n    <tr style=\"text-align: right;\">\n      <th></th>\n      <th>s_acctbal</th>\n      <th>s_name</th>\n      <th>n_name</th>\n      <th>p_partkey</th>\n      <th>p_mfgr</th>\n      <th>s_address</th>\n      <th>s_phone</th>\n      <th>s_comment</th>\n    </tr>\n  </thead>\n  <tbody>\n    <tr>\n      <th>0</th>\n      <td>6820.35</td>\n      <td>Supplier#000000007</td>\n      <td>UNITED KINGDOM</td>\n      <td>4</td>\n      <td>Manufacturer#3</td>\n      <td>s,4TicNGB4uO6PaSqNBUq</td>\n      <td>33-990-965-2201</td>\n      <td>s unwind silently furiously regular courts. fi...</td>\n    </tr>\n  </tbody>\n</table>\n</div>"
     },
     "execution_count": 150,
     "metadata": {},
     "output_type": "execute_result"
    }
   ],
   "source": [
    "# TPCH - 2\n",
    "var1 = 14\n",
    "var2 = 'BRASS'\n",
    "var3 = 'EUROPE'\n",
    "\n",
    "lineitem = pandas.read_table(rf'{path}\\lineitem.tbl', sep='|', index_col=False, header=None, names=pysdql.LINEITEM_COLS)\n",
    "nation = pandas.read_table(rf'{path}\\nation.tbl', sep='|', index_col=False, header=None, names=pysdql.NATION_COLS)\n",
    "part = pandas.read_table(rf'{path}\\part.tbl', sep='|', index_col=False, header=None, names=pysdql.PART_COLS)\n",
    "partsupp = pandas.read_table(rf'{path}\\partsupp.tbl', sep='|', index_col=False, header=None, names=pysdql.PARTSUPP_COLS)\n",
    "region = pandas.read_table(rf'{path}\\region.tbl', sep='|', index_col=False, header=None, names=pysdql.REGION_COLS)\n",
    "supplier = pandas.read_table(rf'{path}\\supplier.tbl', sep='|', index_col=False, header=None, names=pysdql.SUPPLIER_COLS)\n",
    "\n",
    "sub_r = region[(region['r_name'] == var3)]\n",
    "\n",
    "r1 = partsupp.merge(supplier, left_on='ps_suppkey', right_on='s_suppkey')\\\n",
    "    .merge(nation, left_on='s_nationkey', right_on='n_nationkey')\\\n",
    "    .merge(sub_r, left_on='n_regionkey', right_on='r_regionkey')\n",
    "r1 = r1.groupby(['ps_partkey', 'ps_suppkey'], as_index=False).agg(min_supplycost=('ps_supplycost', 'min'))\n",
    "\n",
    "r1['min_partkey'] = r1['ps_partkey']\n",
    "r1['min_suppkey'] = r1['ps_suppkey']\n",
    "\n",
    "sub_p = part[part['p_size'] == var1]\n",
    "sub_p = sub_p[sub_p['p_type'].str.endswith(var2)]\n",
    "\n",
    "r2 = sub_p.merge(partsupp, how='inner', left_on='p_partkey', right_on='ps_partkey')\\\n",
    "    .merge(supplier, how='inner', left_on='ps_suppkey', right_on='s_suppkey')\\\n",
    "    .merge(nation, how='inner', left_on='s_nationkey', right_on='n_nationkey')\\\n",
    "    .merge(sub_r, how='inner', left_on='n_regionkey', right_on='r_regionkey')\n",
    "\n",
    "r = r1.merge(r2,\n",
    "             left_on=['min_partkey', 'min_suppkey', 'min_supplycost'],\n",
    "             right_on=['ps_partkey', 'ps_suppkey', 'ps_supplycost'])\n",
    "\n",
    "r[['s_acctbal', 's_name', 'n_name', 'p_partkey', 'p_mfgr', 's_address', 's_phone', 's_comment']]"
   ]
  },
  {
   "cell_type": "code",
   "execution_count": 123,
   "metadata": {},
   "outputs": [
    {
     "data": {
      "text/plain": "   l_orderkey o_orderdate  o_shippriority     revenue\n0         742  1994-12-23               0  43728.0480\n1         775  1995-03-18               0  55713.6063\n2         998  1994-11-26               0   6811.4340\n3        1637  1995-02-08               0  87438.8481\n4        2883  1995-01-23               0  36666.9612\n5        3430  1994-12-12               0   4726.6775\n6        3492  1994-11-24               0  43716.0724\n7        5191  1994-12-11               0  49378.3094",
      "text/html": "<div>\n<style scoped>\n    .dataframe tbody tr th:only-of-type {\n        vertical-align: middle;\n    }\n\n    .dataframe tbody tr th {\n        vertical-align: top;\n    }\n\n    .dataframe thead th {\n        text-align: right;\n    }\n</style>\n<table border=\"1\" class=\"dataframe\">\n  <thead>\n    <tr style=\"text-align: right;\">\n      <th></th>\n      <th>l_orderkey</th>\n      <th>o_orderdate</th>\n      <th>o_shippriority</th>\n      <th>revenue</th>\n    </tr>\n  </thead>\n  <tbody>\n    <tr>\n      <th>0</th>\n      <td>742</td>\n      <td>1994-12-23</td>\n      <td>0</td>\n      <td>43728.0480</td>\n    </tr>\n    <tr>\n      <th>1</th>\n      <td>775</td>\n      <td>1995-03-18</td>\n      <td>0</td>\n      <td>55713.6063</td>\n    </tr>\n    <tr>\n      <th>2</th>\n      <td>998</td>\n      <td>1994-11-26</td>\n      <td>0</td>\n      <td>6811.4340</td>\n    </tr>\n    <tr>\n      <th>3</th>\n      <td>1637</td>\n      <td>1995-02-08</td>\n      <td>0</td>\n      <td>87438.8481</td>\n    </tr>\n    <tr>\n      <th>4</th>\n      <td>2883</td>\n      <td>1995-01-23</td>\n      <td>0</td>\n      <td>36666.9612</td>\n    </tr>\n    <tr>\n      <th>5</th>\n      <td>3430</td>\n      <td>1994-12-12</td>\n      <td>0</td>\n      <td>4726.6775</td>\n    </tr>\n    <tr>\n      <th>6</th>\n      <td>3492</td>\n      <td>1994-11-24</td>\n      <td>0</td>\n      <td>43716.0724</td>\n    </tr>\n    <tr>\n      <th>7</th>\n      <td>5191</td>\n      <td>1994-12-11</td>\n      <td>0</td>\n      <td>49378.3094</td>\n    </tr>\n  </tbody>\n</table>\n</div>"
     },
     "execution_count": 123,
     "metadata": {},
     "output_type": "execute_result"
    }
   ],
   "source": [
    "# TPCH - 3\n",
    "\n",
    "import pandas\n",
    "\n",
    "var1 = 'BUILDING'\n",
    "var2 = '1995-03-22'\n",
    "\n",
    "customer = pandas.read_table(rf'{path}\\customer.tbl', sep='|', index_col=False, header=None, names=pysdql.CUSTOMER_COLS)\n",
    "orders = pandas.read_table(rf'{path}\\orders.tbl', sep='|', index_col=False, header=None, names=pysdql.ORDERS_COLS)\n",
    "lineitem = pandas.read_table(rf'{path}\\lineitem.tbl', sep='|', index_col=False, header=None, names=pysdql.LINEITEM_COLS)\n",
    "\n",
    "r = customer.merge(orders, how='inner', left_on='c_custkey', right_on='o_custkey')\n",
    "r = r.merge(lineitem, how='inner', left_on='o_orderkey', right_on='l_orderkey')\n",
    "\n",
    "r = r[(r['c_mktsegment'] == var1)\n",
    "      & (r['o_orderdate'] < var2)\n",
    "      & (r['l_shipdate'] > var2)]\n",
    "\n",
    "r['value'] = r['l_extendedprice'] * (1 - r['l_discount'])\n",
    "\n",
    "r.groupby(['l_orderkey', 'o_orderdate', 'o_shippriority'], as_index=False) \\\n",
    "    .agg(revenue=('value', 'sum'))"
   ]
  },
  {
   "cell_type": "code",
   "execution_count": 183,
   "metadata": {},
   "outputs": [
    {
     "data": {
      "text/plain": "   o_orderpriority  order_count\n0         1-URGENT           10\n1           2-HIGH            6\n2         3-MEDIUM            9\n3  4-NOT SPECIFIED           12\n4            5-LOW            4",
      "text/html": "<div>\n<style scoped>\n    .dataframe tbody tr th:only-of-type {\n        vertical-align: middle;\n    }\n\n    .dataframe tbody tr th {\n        vertical-align: top;\n    }\n\n    .dataframe thead th {\n        text-align: right;\n    }\n</style>\n<table border=\"1\" class=\"dataframe\">\n  <thead>\n    <tr style=\"text-align: right;\">\n      <th></th>\n      <th>o_orderpriority</th>\n      <th>order_count</th>\n    </tr>\n  </thead>\n  <tbody>\n    <tr>\n      <th>0</th>\n      <td>1-URGENT</td>\n      <td>10</td>\n    </tr>\n    <tr>\n      <th>1</th>\n      <td>2-HIGH</td>\n      <td>6</td>\n    </tr>\n    <tr>\n      <th>2</th>\n      <td>3-MEDIUM</td>\n      <td>9</td>\n    </tr>\n    <tr>\n      <th>3</th>\n      <td>4-NOT SPECIFIED</td>\n      <td>12</td>\n    </tr>\n    <tr>\n      <th>4</th>\n      <td>5-LOW</td>\n      <td>4</td>\n    </tr>\n  </tbody>\n</table>\n</div>"
     },
     "execution_count": 183,
     "metadata": {},
     "output_type": "execute_result"
    }
   ],
   "source": [
    "# TPCH - 4\n",
    "\n",
    "import pandas\n",
    "import numpy\n",
    "\n",
    "var1 = '1996-05-01'\n",
    "var2 = '1996-08-01'  # var1 + 3 month\n",
    "\n",
    "lineitem = pandas.read_table(rf'{path}\\lineitem.tbl', sep='|', index_col=False, header=None, names=pysdql.LINEITEM_COLS)\n",
    "orders = pandas.read_table(rf'{path}\\orders.tbl', sep='|', index_col=False, header=None, names=pysdql.ORDERS_COLS)\n",
    "\n",
    "# sub_l = lineitem[]\n",
    "sub_o = orders[(orders['o_orderdate'] >= var1) & (orders['o_orderdate'] < var2)]\n",
    "\n",
    "r = sub_o.merge(lineitem, left_on='o_orderkey', right_on='l_orderkey')\n",
    "\n",
    "r['exists'] = numpy.select(\n",
    "[\n",
    "    (r['l_commitdate'] < r['l_receiptdate'])\n",
    "],\n",
    "[\n",
    "    1\n",
    "],\n",
    "default=0)\n",
    "\n",
    "r = r.groupby(['o_orderpriority', 'o_orderkey'], as_index=False).agg(exists=('exists', 'sum'))\n",
    "r = r[r['exists'] > 0]\n",
    "\n",
    "r.groupby(['o_orderpriority'], as_index=False).agg(order_count=('o_orderkey', 'count'))"
   ]
  },
  {
   "cell_type": "code",
   "execution_count": 125,
   "metadata": {},
   "outputs": [
    {
     "data": {
      "text/plain": "  n_name     revenue\n0   IRAN  64854.8802\n1   IRAQ  28957.4409",
      "text/html": "<div>\n<style scoped>\n    .dataframe tbody tr th:only-of-type {\n        vertical-align: middle;\n    }\n\n    .dataframe tbody tr th {\n        vertical-align: top;\n    }\n\n    .dataframe thead th {\n        text-align: right;\n    }\n</style>\n<table border=\"1\" class=\"dataframe\">\n  <thead>\n    <tr style=\"text-align: right;\">\n      <th></th>\n      <th>n_name</th>\n      <th>revenue</th>\n    </tr>\n  </thead>\n  <tbody>\n    <tr>\n      <th>0</th>\n      <td>IRAN</td>\n      <td>64854.8802</td>\n    </tr>\n    <tr>\n      <th>1</th>\n      <td>IRAQ</td>\n      <td>28957.4409</td>\n    </tr>\n  </tbody>\n</table>\n</div>"
     },
     "execution_count": 125,
     "metadata": {},
     "output_type": "execute_result"
    }
   ],
   "source": [
    "# TPCH - 5\n",
    "import pandas\n",
    "\n",
    "var1 = 'MIDDLE EAST'\n",
    "var2 = '1995-01-01'\n",
    "var3 = '1996-01-01'  # var2 + 1 year\n",
    "\n",
    "customer = pandas.read_table(rf'{path}\\customer.tbl', sep='|', index_col=False, header=None, names=pysdql.CUSTOMER_COLS)\n",
    "orders = pandas.read_table(rf'{path}\\orders.tbl', sep='|', index_col=False, header=None, names=pysdql.ORDERS_COLS)\n",
    "lineitem = pandas.read_table(rf'{path}\\lineitem.tbl', sep='|', index_col=False, header=None, names=pysdql.LINEITEM_COLS)\n",
    "supplier = pandas.read_table(rf'{path}\\supplier.tbl', sep='|', index_col=False, header=None, names=pysdql.SUPPLIER_COLS)\n",
    "nation = pandas.read_table(rf'{path}\\nation.tbl', sep='|', index_col=False, header=None, names=pysdql.NATION_COLS)\n",
    "region = pandas.read_table(rf'{path}\\region.tbl', sep='|', index_col=False, header=None, names=pysdql.REGION_COLS)\n",
    "\n",
    "r = customer.merge(orders, how='inner', left_on='c_custkey', right_on='o_custkey')\n",
    "r = r.merge(lineitem, how='inner', left_on='o_orderkey', right_on='l_orderkey')\n",
    "r = r.merge(supplier, how='inner', left_on='l_suppkey', right_on='s_suppkey')\n",
    "r = r.merge(nation, how='inner', left_on='s_nationkey', right_on='n_nationkey')\n",
    "r = r.merge(region, how='inner', left_on='n_regionkey', right_on='r_regionkey')\n",
    "\n",
    "r = r[r['c_nationkey'] == r['s_nationkey']]\n",
    "\n",
    "r = r[(r['r_name'] == var1)\n",
    "      & (r['o_orderdate'] >= var2)\n",
    "      & (r['o_orderdate'] < var3)]\n",
    "\n",
    "r['value'] = r['l_extendedprice'] * (1 - r['l_discount'])\n",
    "\n",
    "r.groupby(['n_name'], as_index=False).agg(revenue=('value', 'sum'))"
   ]
  },
  {
   "cell_type": "code",
   "execution_count": 126,
   "metadata": {
    "pycharm": {
     "name": "#%%\n"
    }
   },
   "outputs": [
    {
     "name": "stderr",
     "output_type": "stream",
     "text": [
      "C:\\Users\\Y\\AppData\\Local\\Temp\\ipykernel_19592\\1543105238.py:21: SettingWithCopyWarning: \n",
      "A value is trying to be set on a copy of a slice from a DataFrame.\n",
      "Try using .loc[row_indexer,col_indexer] = value instead\n",
      "\n",
      "See the caveats in the documentation: https://pandas.pydata.org/pandas-docs/stable/user_guide/indexing.html#returning-a-view-versus-a-copy\n",
      "  r['value'] = r['l_extendedprice'] * r['l_discount']\n"
     ]
    },
    {
     "data": {
      "text/plain": "              value\nrevenue  23106.0642",
      "text/html": "<div>\n<style scoped>\n    .dataframe tbody tr th:only-of-type {\n        vertical-align: middle;\n    }\n\n    .dataframe tbody tr th {\n        vertical-align: top;\n    }\n\n    .dataframe thead th {\n        text-align: right;\n    }\n</style>\n<table border=\"1\" class=\"dataframe\">\n  <thead>\n    <tr style=\"text-align: right;\">\n      <th></th>\n      <th>value</th>\n    </tr>\n  </thead>\n  <tbody>\n    <tr>\n      <th>revenue</th>\n      <td>23106.0642</td>\n    </tr>\n  </tbody>\n</table>\n</div>"
     },
     "execution_count": 126,
     "metadata": {},
     "output_type": "execute_result"
    }
   ],
   "source": [
    "# TPCH - 6\n",
    "\n",
    "import pandas\n",
    "import pysdql\n",
    "\n",
    "var1 = '1997-01-01'\n",
    "var2 = '1998-01-01'  # var1 + 1 year\n",
    "discount = 0.06\n",
    "var3 = round(discount - 0.01, 2)\n",
    "var4 = round(discount + 0.01, 2)\n",
    "var5 = 24\n",
    "\n",
    "lineitem = pandas.read_table(rf'{path}\\lineitem.tbl', sep='|', index_col=False, header=None, names=pysdql.LINEITEM_COLS)\n",
    "\n",
    "\n",
    "\n",
    "r = lineitem[(lineitem.l_shipdate >= var1) & (lineitem.l_shipdate < var2)\n",
    "             & (lineitem.l_discount > var3) & (lineitem.l_discount < var4)\n",
    "             & (lineitem.l_quantity < var5)]\n",
    "\n",
    "r['value'] = r['l_extendedprice'] * r['l_discount']\n",
    "\n",
    "r.agg(revenue=('value', 'sum'))\n"
   ]
  },
  {
   "cell_type": "code",
   "execution_count": 162,
   "metadata": {},
   "outputs": [
    {
     "data": {
      "text/plain": "  supp_nation cust_nation  l_year      revenue\n0     MOROCCO        PERU    1995  228013.9886\n1     MOROCCO        PERU    1996  180769.5690\n2        PERU     MOROCCO    1995  306687.8357\n3        PERU     MOROCCO    1996  203568.8640",
      "text/html": "<div>\n<style scoped>\n    .dataframe tbody tr th:only-of-type {\n        vertical-align: middle;\n    }\n\n    .dataframe tbody tr th {\n        vertical-align: top;\n    }\n\n    .dataframe thead th {\n        text-align: right;\n    }\n</style>\n<table border=\"1\" class=\"dataframe\">\n  <thead>\n    <tr style=\"text-align: right;\">\n      <th></th>\n      <th>supp_nation</th>\n      <th>cust_nation</th>\n      <th>l_year</th>\n      <th>revenue</th>\n    </tr>\n  </thead>\n  <tbody>\n    <tr>\n      <th>0</th>\n      <td>MOROCCO</td>\n      <td>PERU</td>\n      <td>1995</td>\n      <td>228013.9886</td>\n    </tr>\n    <tr>\n      <th>1</th>\n      <td>MOROCCO</td>\n      <td>PERU</td>\n      <td>1996</td>\n      <td>180769.5690</td>\n    </tr>\n    <tr>\n      <th>2</th>\n      <td>PERU</td>\n      <td>MOROCCO</td>\n      <td>1995</td>\n      <td>306687.8357</td>\n    </tr>\n    <tr>\n      <th>3</th>\n      <td>PERU</td>\n      <td>MOROCCO</td>\n      <td>1996</td>\n      <td>203568.8640</td>\n    </tr>\n  </tbody>\n</table>\n</div>"
     },
     "execution_count": 162,
     "metadata": {},
     "output_type": "execute_result"
    }
   ],
   "source": [
    "# TPCH - 7\n",
    "\n",
    "import pandas\n",
    "\n",
    "var1 = 'PERU'\n",
    "var2 = 'MOROCCO'\n",
    "\n",
    "supplier = pandas.read_table(rf'{path}\\supplier.tbl', sep='|', index_col=False, header=None, names=pysdql.SUPPLIER_COLS)\n",
    "lineitem = pandas.read_table(rf'{path}\\lineitem.tbl', sep='|', index_col=False, header=None, names=pysdql.LINEITEM_COLS)\n",
    "orders = pandas.read_table(rf'{path}\\orders.tbl', sep='|', index_col=False, header=None, names=pysdql.ORDERS_COLS)\n",
    "customer = pandas.read_table(rf'{path}\\customer.tbl', sep='|', index_col=False, header=None, names=pysdql.CUSTOMER_COLS)\n",
    "n1_cols = ['n1_nationkey', 'n1_name', 'n1_regionkey', 'n1_comment']\n",
    "n2_cols = ['n2_nationkey', 'n2_name', 'n2_regionkey', 'n2_comment']\n",
    "n1 = pandas.read_table(rf'{path}\\nation.tbl', sep='|', index_col=False, header=None, names=n1_cols)\n",
    "n2 = pandas.read_table(rf'{path}\\nation.tbl', sep='|', index_col=False, header=None, names=n2_cols)\n",
    "\n",
    "r = n1.merge(n2, on=((n1['n1_name'] == var1) & (n2['n2_name'] == var2))\n",
    "                    | ((n1['n1_name'] == var2) & (n2['n2_name'] == var1)))\n",
    "\n",
    "sub_n = n1.merge(n2, how='cross')\n",
    "r = sub_n[(sub_n['n1_name'] == var1) & (sub_n['n2_name'] == var2)\n",
    "          | ((sub_n['n1_name'] == var2) & (sub_n['n2_name'] == var1))]\n",
    "\n",
    "r = r.merge(customer, left_on='n2_nationkey', right_on='c_nationkey')\n",
    "r = r.merge(supplier, left_on='n1_nationkey', right_on='s_nationkey')\n",
    "r = r.merge(orders, left_on='c_custkey', right_on='o_custkey')\n",
    "\n",
    "sub_l = lineitem[(lineitem['l_shipdate'] >= '1995-01-01') & (lineitem['l_shipdate'] <= '1996-12-31')]\n",
    "r = r.merge(sub_l, left_on=['o_orderkey', 's_suppkey'], right_on=['l_orderkey', 'l_suppkey'])\n",
    "\n",
    "r['supp_nation'] = r['n1_name']\n",
    "r['cust_nation'] = r['n2_name']\n",
    "r['volume'] = r['l_extendedprice'] * (1 - r['l_discount'])\n",
    "r['l_year'] = pandas.DatetimeIndex(r['l_shipdate']).year\n",
    "\n",
    "r.groupby(['supp_nation', 'cust_nation', 'l_year'], as_index=False).agg(revenue=('volume', 'sum'))"
   ]
  },
  {
   "cell_type": "code",
   "execution_count": 165,
   "metadata": {},
   "outputs": [
    {
     "data": {
      "text/plain": "   o_year   revenue\n0    1992  0.083783\n1    1993  0.115800\n2    1994  0.128000\n3    1995  0.082131\n4    1996  0.125664\n5    1997  0.108439\n6    1998  0.144390",
      "text/html": "<div>\n<style scoped>\n    .dataframe tbody tr th:only-of-type {\n        vertical-align: middle;\n    }\n\n    .dataframe tbody tr th {\n        vertical-align: top;\n    }\n\n    .dataframe thead th {\n        text-align: right;\n    }\n</style>\n<table border=\"1\" class=\"dataframe\">\n  <thead>\n    <tr style=\"text-align: right;\">\n      <th></th>\n      <th>o_year</th>\n      <th>revenue</th>\n    </tr>\n  </thead>\n  <tbody>\n    <tr>\n      <th>0</th>\n      <td>1992</td>\n      <td>0.083783</td>\n    </tr>\n    <tr>\n      <th>1</th>\n      <td>1993</td>\n      <td>0.115800</td>\n    </tr>\n    <tr>\n      <th>2</th>\n      <td>1994</td>\n      <td>0.128000</td>\n    </tr>\n    <tr>\n      <th>3</th>\n      <td>1995</td>\n      <td>0.082131</td>\n    </tr>\n    <tr>\n      <th>4</th>\n      <td>1996</td>\n      <td>0.125664</td>\n    </tr>\n    <tr>\n      <th>5</th>\n      <td>1997</td>\n      <td>0.108439</td>\n    </tr>\n    <tr>\n      <th>6</th>\n      <td>1998</td>\n      <td>0.144390</td>\n    </tr>\n  </tbody>\n</table>\n</div>"
     },
     "execution_count": 165,
     "metadata": {},
     "output_type": "execute_result"
    }
   ],
   "source": [
    "# TPCH - 8\n",
    "\n",
    "import pandas\n",
    "import numpy\n",
    "import pysdql\n",
    "\n",
    "var1 = 'MOROCCO'\n",
    "var2 = 'MIDDLE EAST'\n",
    "var3 = 'SMALL ANODIZED COPPER'\n",
    "\n",
    "part = pandas.read_table(rf'{path}\\part.tbl', sep='|', index_col=False, header=None, names=pysdql.PART_COLS)\n",
    "supplier = pandas.read_table(rf'{path}\\supplier.tbl', sep='|', index_col=False, header=None, names=pysdql.SUPPLIER_COLS)\n",
    "lineitem = pandas.read_table(rf'{path}\\lineitem.tbl', sep='|', index_col=False, header=None, names=pysdql.LINEITEM_COLS)\n",
    "orders = pandas.read_table(rf'{path}\\orders.tbl', sep='|', index_col=False, header=None, names=pysdql.ORDERS_COLS)\n",
    "customer = pandas.read_table(rf'{path}\\customer.tbl', sep='|', index_col=False, header=None, names=pysdql.CUSTOMER_COLS)\n",
    "region = pandas.read_table(rf'{path}\\region.tbl', sep='|', index_col=False, header=None, names=pysdql.REGION_COLS)\n",
    "\n",
    "n1_cols = ['n1_nationkey', 'n1_name', 'n1_regionkey', 'n1_comment']\n",
    "n2_cols = ['n2_nationkey', 'n2_name', 'n2_regionkey', 'n2_comment']\n",
    "n1 = pandas.read_table(rf'{path}\\nation.tbl', sep='|', index_col=False, header=None, names=n1_cols)\n",
    "n2 = pandas.read_table(rf'{path}\\nation.tbl', sep='|', index_col=False, header=None, names=n2_cols)\n",
    "\n",
    "sub_r = region[(region['r_name'] == var2)]\n",
    "sub_o = orders[(orders['o_orderdate'] >= '1995-01-01') & (orders['o_orderdate'] <= '1996-12-31')]\n",
    "\n",
    "r1 = n1.merge(sub_r, left_on='n1_regionkey', right_on='r_regionkey')\n",
    "\n",
    "r2 = part.merge(lineitem, left_on='p_partkey', right_on='l_partkey')\n",
    "r2 = r2.merge(orders, left_on='l_orderkey', right_on='o_orderkey')\n",
    "r2 = r2.merge(customer, left_on='o_custkey', right_on='c_custkey')\n",
    "\n",
    "r = r1.merge(r2, left_on='n1_nationkey', right_on='c_nationkey')\n",
    "r = r.merge(supplier, left_on='l_suppkey', right_on='s_suppkey')\n",
    "r = r.merge(n2, left_on='s_nationkey', right_on='n2_nationkey')\n",
    "\n",
    "r['o_year'] = pandas.DatetimeIndex(r['o_orderdate']).year\n",
    "r['volume'] = r['l_extendedprice'] * (1 - r['l_discount'])\n",
    "r['nation'] = r['n2_name']\n",
    "\n",
    "r = r[['o_year', 'volume', 'nation']]\n",
    "\n",
    "r['value1'] = numpy.where(r['nation'] == var1, r['volume'], 0)\n",
    "\n",
    "r = r.groupby(['o_year'], as_index=False).agg(value2=('value1', 'sum'), value3=('volume', 'sum'))\n",
    "\n",
    "r['revenue'] = r['value2'] / r['value3']\n",
    "\n",
    "r = r.drop(columns=['value2', 'value3'])\n",
    "\n",
    "r"
   ]
  },
  {
   "cell_type": "code",
   "execution_count": 153,
   "metadata": {},
   "outputs": [
    {
     "data": {
      "text/plain": "            nation  o_year    sum_profit\n0        ARGENTINA    1992  1.826905e+06\n1        ARGENTINA    1993  1.708000e+06\n2        ARGENTINA    1994  1.682303e+06\n3        ARGENTINA    1995  1.642867e+06\n4        ARGENTINA    1996  1.600254e+06\n5        ARGENTINA    1997  1.551643e+06\n6        ARGENTINA    1998  1.034894e+06\n7         ETHIOPIA    1992  6.783066e+04\n8         ETHIOPIA    1993  1.310032e+05\n9         ETHIOPIA    1994  1.249977e+05\n10        ETHIOPIA    1995  1.087640e+05\n11        ETHIOPIA    1996  1.087642e+05\n12        ETHIOPIA    1997  1.003667e+05\n13        ETHIOPIA    1998  7.626036e+04\n14            IRAN    1992  2.310845e+06\n15            IRAN    1993  3.500465e+06\n16            IRAN    1994  3.328477e+06\n17            IRAN    1995  3.201628e+06\n18            IRAN    1996  4.247712e+06\n19            IRAN    1997  3.608563e+06\n20            IRAN    1998  2.346427e+06\n21            IRAQ    1992  2.501161e+06\n22            IRAQ    1993  2.250890e+06\n23            IRAQ    1994  1.889431e+06\n24            IRAQ    1995  2.111850e+06\n25            IRAQ    1996  2.867742e+06\n26            IRAQ    1997  3.115742e+06\n27            IRAQ    1998  1.527688e+06\n28           KENYA    1992  1.478981e+06\n29           KENYA    1993  1.335882e+06\n30           KENYA    1994  1.268858e+06\n31           KENYA    1995  1.082219e+06\n32           KENYA    1996  1.171141e+06\n33           KENYA    1997  1.297320e+06\n34           KENYA    1998  8.256732e+05\n35            PERU    1992  1.608645e+06\n36            PERU    1993  1.483257e+06\n37            PERU    1994  1.494881e+06\n38            PERU    1995  1.756830e+06\n39            PERU    1996  1.734677e+06\n40            PERU    1997  1.797978e+06\n41            PERU    1998  8.912391e+05\n42  UNITED KINGDOM    1992  1.299814e+06\n43  UNITED KINGDOM    1993  1.255631e+06\n44  UNITED KINGDOM    1994  1.023569e+06\n45  UNITED KINGDOM    1995  1.169880e+06\n46  UNITED KINGDOM    1996  1.506323e+06\n47  UNITED KINGDOM    1997  1.050517e+06\n48  UNITED KINGDOM    1998  8.326410e+05",
      "text/html": "<div>\n<style scoped>\n    .dataframe tbody tr th:only-of-type {\n        vertical-align: middle;\n    }\n\n    .dataframe tbody tr th {\n        vertical-align: top;\n    }\n\n    .dataframe thead th {\n        text-align: right;\n    }\n</style>\n<table border=\"1\" class=\"dataframe\">\n  <thead>\n    <tr style=\"text-align: right;\">\n      <th></th>\n      <th>nation</th>\n      <th>o_year</th>\n      <th>sum_profit</th>\n    </tr>\n  </thead>\n  <tbody>\n    <tr>\n      <th>0</th>\n      <td>ARGENTINA</td>\n      <td>1992</td>\n      <td>1.826905e+06</td>\n    </tr>\n    <tr>\n      <th>1</th>\n      <td>ARGENTINA</td>\n      <td>1993</td>\n      <td>1.708000e+06</td>\n    </tr>\n    <tr>\n      <th>2</th>\n      <td>ARGENTINA</td>\n      <td>1994</td>\n      <td>1.682303e+06</td>\n    </tr>\n    <tr>\n      <th>3</th>\n      <td>ARGENTINA</td>\n      <td>1995</td>\n      <td>1.642867e+06</td>\n    </tr>\n    <tr>\n      <th>4</th>\n      <td>ARGENTINA</td>\n      <td>1996</td>\n      <td>1.600254e+06</td>\n    </tr>\n    <tr>\n      <th>5</th>\n      <td>ARGENTINA</td>\n      <td>1997</td>\n      <td>1.551643e+06</td>\n    </tr>\n    <tr>\n      <th>6</th>\n      <td>ARGENTINA</td>\n      <td>1998</td>\n      <td>1.034894e+06</td>\n    </tr>\n    <tr>\n      <th>7</th>\n      <td>ETHIOPIA</td>\n      <td>1992</td>\n      <td>6.783066e+04</td>\n    </tr>\n    <tr>\n      <th>8</th>\n      <td>ETHIOPIA</td>\n      <td>1993</td>\n      <td>1.310032e+05</td>\n    </tr>\n    <tr>\n      <th>9</th>\n      <td>ETHIOPIA</td>\n      <td>1994</td>\n      <td>1.249977e+05</td>\n    </tr>\n    <tr>\n      <th>10</th>\n      <td>ETHIOPIA</td>\n      <td>1995</td>\n      <td>1.087640e+05</td>\n    </tr>\n    <tr>\n      <th>11</th>\n      <td>ETHIOPIA</td>\n      <td>1996</td>\n      <td>1.087642e+05</td>\n    </tr>\n    <tr>\n      <th>12</th>\n      <td>ETHIOPIA</td>\n      <td>1997</td>\n      <td>1.003667e+05</td>\n    </tr>\n    <tr>\n      <th>13</th>\n      <td>ETHIOPIA</td>\n      <td>1998</td>\n      <td>7.626036e+04</td>\n    </tr>\n    <tr>\n      <th>14</th>\n      <td>IRAN</td>\n      <td>1992</td>\n      <td>2.310845e+06</td>\n    </tr>\n    <tr>\n      <th>15</th>\n      <td>IRAN</td>\n      <td>1993</td>\n      <td>3.500465e+06</td>\n    </tr>\n    <tr>\n      <th>16</th>\n      <td>IRAN</td>\n      <td>1994</td>\n      <td>3.328477e+06</td>\n    </tr>\n    <tr>\n      <th>17</th>\n      <td>IRAN</td>\n      <td>1995</td>\n      <td>3.201628e+06</td>\n    </tr>\n    <tr>\n      <th>18</th>\n      <td>IRAN</td>\n      <td>1996</td>\n      <td>4.247712e+06</td>\n    </tr>\n    <tr>\n      <th>19</th>\n      <td>IRAN</td>\n      <td>1997</td>\n      <td>3.608563e+06</td>\n    </tr>\n    <tr>\n      <th>20</th>\n      <td>IRAN</td>\n      <td>1998</td>\n      <td>2.346427e+06</td>\n    </tr>\n    <tr>\n      <th>21</th>\n      <td>IRAQ</td>\n      <td>1992</td>\n      <td>2.501161e+06</td>\n    </tr>\n    <tr>\n      <th>22</th>\n      <td>IRAQ</td>\n      <td>1993</td>\n      <td>2.250890e+06</td>\n    </tr>\n    <tr>\n      <th>23</th>\n      <td>IRAQ</td>\n      <td>1994</td>\n      <td>1.889431e+06</td>\n    </tr>\n    <tr>\n      <th>24</th>\n      <td>IRAQ</td>\n      <td>1995</td>\n      <td>2.111850e+06</td>\n    </tr>\n    <tr>\n      <th>25</th>\n      <td>IRAQ</td>\n      <td>1996</td>\n      <td>2.867742e+06</td>\n    </tr>\n    <tr>\n      <th>26</th>\n      <td>IRAQ</td>\n      <td>1997</td>\n      <td>3.115742e+06</td>\n    </tr>\n    <tr>\n      <th>27</th>\n      <td>IRAQ</td>\n      <td>1998</td>\n      <td>1.527688e+06</td>\n    </tr>\n    <tr>\n      <th>28</th>\n      <td>KENYA</td>\n      <td>1992</td>\n      <td>1.478981e+06</td>\n    </tr>\n    <tr>\n      <th>29</th>\n      <td>KENYA</td>\n      <td>1993</td>\n      <td>1.335882e+06</td>\n    </tr>\n    <tr>\n      <th>30</th>\n      <td>KENYA</td>\n      <td>1994</td>\n      <td>1.268858e+06</td>\n    </tr>\n    <tr>\n      <th>31</th>\n      <td>KENYA</td>\n      <td>1995</td>\n      <td>1.082219e+06</td>\n    </tr>\n    <tr>\n      <th>32</th>\n      <td>KENYA</td>\n      <td>1996</td>\n      <td>1.171141e+06</td>\n    </tr>\n    <tr>\n      <th>33</th>\n      <td>KENYA</td>\n      <td>1997</td>\n      <td>1.297320e+06</td>\n    </tr>\n    <tr>\n      <th>34</th>\n      <td>KENYA</td>\n      <td>1998</td>\n      <td>8.256732e+05</td>\n    </tr>\n    <tr>\n      <th>35</th>\n      <td>PERU</td>\n      <td>1992</td>\n      <td>1.608645e+06</td>\n    </tr>\n    <tr>\n      <th>36</th>\n      <td>PERU</td>\n      <td>1993</td>\n      <td>1.483257e+06</td>\n    </tr>\n    <tr>\n      <th>37</th>\n      <td>PERU</td>\n      <td>1994</td>\n      <td>1.494881e+06</td>\n    </tr>\n    <tr>\n      <th>38</th>\n      <td>PERU</td>\n      <td>1995</td>\n      <td>1.756830e+06</td>\n    </tr>\n    <tr>\n      <th>39</th>\n      <td>PERU</td>\n      <td>1996</td>\n      <td>1.734677e+06</td>\n    </tr>\n    <tr>\n      <th>40</th>\n      <td>PERU</td>\n      <td>1997</td>\n      <td>1.797978e+06</td>\n    </tr>\n    <tr>\n      <th>41</th>\n      <td>PERU</td>\n      <td>1998</td>\n      <td>8.912391e+05</td>\n    </tr>\n    <tr>\n      <th>42</th>\n      <td>UNITED KINGDOM</td>\n      <td>1992</td>\n      <td>1.299814e+06</td>\n    </tr>\n    <tr>\n      <th>43</th>\n      <td>UNITED KINGDOM</td>\n      <td>1993</td>\n      <td>1.255631e+06</td>\n    </tr>\n    <tr>\n      <th>44</th>\n      <td>UNITED KINGDOM</td>\n      <td>1994</td>\n      <td>1.023569e+06</td>\n    </tr>\n    <tr>\n      <th>45</th>\n      <td>UNITED KINGDOM</td>\n      <td>1995</td>\n      <td>1.169880e+06</td>\n    </tr>\n    <tr>\n      <th>46</th>\n      <td>UNITED KINGDOM</td>\n      <td>1996</td>\n      <td>1.506323e+06</td>\n    </tr>\n    <tr>\n      <th>47</th>\n      <td>UNITED KINGDOM</td>\n      <td>1997</td>\n      <td>1.050517e+06</td>\n    </tr>\n    <tr>\n      <th>48</th>\n      <td>UNITED KINGDOM</td>\n      <td>1998</td>\n      <td>8.326410e+05</td>\n    </tr>\n  </tbody>\n</table>\n</div>"
     },
     "execution_count": 153,
     "metadata": {},
     "output_type": "execute_result"
    }
   ],
   "source": [
    "# TPCH - 9\n",
    "var1 = 'cornflower'\n",
    "\n",
    "part = pandas.read_table(rf'{path}\\part.tbl', sep='|', index_col=False, header=None, names=pysdql.PART_COLS)\n",
    "supplier = pandas.read_table(rf'{path}\\supplier.tbl', sep='|', index_col=False, header=None, names=pysdql.SUPPLIER_COLS)\n",
    "lineitem = pandas.read_table(rf'{path}\\lineitem.tbl', sep='|', index_col=False, header=None, names=pysdql.LINEITEM_COLS)\n",
    "partsupp = pandas.read_table(rf'{path}\\partsupp.tbl', sep='|', index_col=False, header=None, names=pysdql.PARTSUPP_COLS)\n",
    "orders = pandas.read_table(rf'{path}\\orders.tbl', sep='|', index_col=False, header=None, names=pysdql.ORDERS_COLS)\n",
    "nation = pandas.read_table(rf'{path}\\nation.tbl', sep='|', index_col=False, header=None, names=pysdql.NATION_COLS)\n",
    "\n",
    "sub_p = part[part['p_name'].str.startswith(var1)]\n",
    "\n",
    "r1 = sub_p.merge(partsupp, how='inner', left_on='p_partkey', right_on='ps_partkey')\n",
    "r2 = supplier.merge(nation, how='inner', left_on='s_nationkey', right_on='n_nationkey')\n",
    "r2 = r2.merge(r1, how='inner', left_on='s_suppkey', right_on='ps_suppkey')\n",
    "r = r2.merge(lineitem, how='inner', left_on='s_suppkey', right_on='l_suppkey')\n",
    "r = r[r['ps_suppkey'] == r['l_suppkey']]\n",
    "r = r.merge(orders, how='inner', left_on='l_orderkey', right_on='o_orderkey')\n",
    "\n",
    "r['nation'] = r['n_name']\n",
    "r['o_year'] = pandas.DatetimeIndex(r['o_orderdate']).year\n",
    "r['amount'] = r['l_extendedprice'] * (1 - r['l_discount']) - r['ps_supplycost'] * r['l_quantity']\n",
    "\n",
    "r = r[['nation', 'o_year', 'amount']]\n",
    "\n",
    "r.groupby(['nation', 'o_year'], as_index=False).agg(sum_profit=('amount', 'sum'))"
   ]
  },
  {
   "cell_type": "code",
   "execution_count": 130,
   "metadata": {},
   "outputs": [
    {
     "data": {
      "text/plain": "   c_custkey              c_name  c_acctbal          c_phone  n_name  \\\n0         64  Customer#000000064    -646.64  13-558-731-7204  CANADA   \n1         70  Customer#000000070    4867.52  32-828-107-2832  RUSSIA   \n2         97  Customer#000000097    2164.48  27-588-919-5638    PERU   \n3        131  Customer#000000131    8595.53  21-840-210-3572    IRAQ   \n\n                           c_address  \\\n0              MbCeGY20kaKK3oalJD,OT   \n1  mFowIuhnHjp2GjCiYYavkW kUwOjIaTCQ   \n2              OApyejbhJG,0Iw3j rd1M   \n3      jyN6lAjb1FtH10rMC,XzlWyCBrg75   \n\n                                           c_comment     revenue  \n0  structions after the quietly ironic theodolite...  19672.2960  \n1  fter the special asymptotes. ideas after the u...  40120.1103  \n2  haggle slyly. bold, special ideas are blithely...  61459.7804  \n3  jole special packages. furiously final depende...  43260.4800  ",
      "text/html": "<div>\n<style scoped>\n    .dataframe tbody tr th:only-of-type {\n        vertical-align: middle;\n    }\n\n    .dataframe tbody tr th {\n        vertical-align: top;\n    }\n\n    .dataframe thead th {\n        text-align: right;\n    }\n</style>\n<table border=\"1\" class=\"dataframe\">\n  <thead>\n    <tr style=\"text-align: right;\">\n      <th></th>\n      <th>c_custkey</th>\n      <th>c_name</th>\n      <th>c_acctbal</th>\n      <th>c_phone</th>\n      <th>n_name</th>\n      <th>c_address</th>\n      <th>c_comment</th>\n      <th>revenue</th>\n    </tr>\n  </thead>\n  <tbody>\n    <tr>\n      <th>0</th>\n      <td>64</td>\n      <td>Customer#000000064</td>\n      <td>-646.64</td>\n      <td>13-558-731-7204</td>\n      <td>CANADA</td>\n      <td>MbCeGY20kaKK3oalJD,OT</td>\n      <td>structions after the quietly ironic theodolite...</td>\n      <td>19672.2960</td>\n    </tr>\n    <tr>\n      <th>1</th>\n      <td>70</td>\n      <td>Customer#000000070</td>\n      <td>4867.52</td>\n      <td>32-828-107-2832</td>\n      <td>RUSSIA</td>\n      <td>mFowIuhnHjp2GjCiYYavkW kUwOjIaTCQ</td>\n      <td>fter the special asymptotes. ideas after the u...</td>\n      <td>40120.1103</td>\n    </tr>\n    <tr>\n      <th>2</th>\n      <td>97</td>\n      <td>Customer#000000097</td>\n      <td>2164.48</td>\n      <td>27-588-919-5638</td>\n      <td>PERU</td>\n      <td>OApyejbhJG,0Iw3j rd1M</td>\n      <td>haggle slyly. bold, special ideas are blithely...</td>\n      <td>61459.7804</td>\n    </tr>\n    <tr>\n      <th>3</th>\n      <td>131</td>\n      <td>Customer#000000131</td>\n      <td>8595.53</td>\n      <td>21-840-210-3572</td>\n      <td>IRAQ</td>\n      <td>jyN6lAjb1FtH10rMC,XzlWyCBrg75</td>\n      <td>jole special packages. furiously final depende...</td>\n      <td>43260.4800</td>\n    </tr>\n  </tbody>\n</table>\n</div>"
     },
     "execution_count": 130,
     "metadata": {},
     "output_type": "execute_result"
    }
   ],
   "source": [
    "# TPCH - 10\n",
    "var1 = '1993-08-01'\n",
    "var2 = '1993-11-01'  # var1 + 3 month\n",
    "\n",
    "customer = pandas.read_table(rf'{path}\\customer.tbl', sep='|', index_col=False, header=None, names=pysdql.CUSTOMER_COLS)\n",
    "orders = pandas.read_table(rf'{path}\\orders.tbl', sep='|', index_col=False, header=None, names=pysdql.ORDERS_COLS)\n",
    "lineitem = pandas.read_table(rf'{path}\\lineitem.tbl', sep='|', index_col=False, header=None, names=pysdql.LINEITEM_COLS)\n",
    "nation = pandas.read_table(rf'{path}\\nation.tbl', sep='|', index_col=False, header=None, names=pysdql.NATION_COLS)\n",
    "\n",
    "part_o = orders[(orders['o_orderdate'] >= var1) & (orders['o_orderdate'] < var2)]\n",
    "\n",
    "r = customer.merge(part_o, how='inner', left_on='c_custkey', right_on='o_custkey')\n",
    "r = r.merge(nation, how='inner', left_on='c_nationkey', right_on='n_nationkey')\n",
    "\n",
    "part_l = lineitem[lineitem['l_returnflag'] == 'R']\n",
    "r = r.merge(part_l, how='inner', left_on='o_custkey', right_on='l_orderkey')\n",
    "\n",
    "r['value'] = r['l_extendedprice'] * (1 - r['l_discount'])\n",
    "\n",
    "r.groupby(['c_custkey', 'c_name', 'c_acctbal', 'c_phone', 'n_name', 'c_address', 'c_comment'], as_index=False).agg(revenue=('value', 'sum'))"
   ]
  },
  {
   "cell_type": "code",
   "execution_count": 131,
   "metadata": {},
   "outputs": [
    {
     "data": {
      "text/plain": "     ps_partkey        value\n0             1   1456050.96\n1             3   2528031.80\n2             4   1102037.60\n3             5    487669.56\n4             6   2142145.68\n..          ...          ...\n117         196   2429515.15\n118         197  15327154.14\n119         198   1403881.30\n120         199    381417.48\n121         200   2422399.20\n\n[122 rows x 2 columns]",
      "text/html": "<div>\n<style scoped>\n    .dataframe tbody tr th:only-of-type {\n        vertical-align: middle;\n    }\n\n    .dataframe tbody tr th {\n        vertical-align: top;\n    }\n\n    .dataframe thead th {\n        text-align: right;\n    }\n</style>\n<table border=\"1\" class=\"dataframe\">\n  <thead>\n    <tr style=\"text-align: right;\">\n      <th></th>\n      <th>ps_partkey</th>\n      <th>value</th>\n    </tr>\n  </thead>\n  <tbody>\n    <tr>\n      <th>0</th>\n      <td>1</td>\n      <td>1456050.96</td>\n    </tr>\n    <tr>\n      <th>1</th>\n      <td>3</td>\n      <td>2528031.80</td>\n    </tr>\n    <tr>\n      <th>2</th>\n      <td>4</td>\n      <td>1102037.60</td>\n    </tr>\n    <tr>\n      <th>3</th>\n      <td>5</td>\n      <td>487669.56</td>\n    </tr>\n    <tr>\n      <th>4</th>\n      <td>6</td>\n      <td>2142145.68</td>\n    </tr>\n    <tr>\n      <th>...</th>\n      <td>...</td>\n      <td>...</td>\n    </tr>\n    <tr>\n      <th>117</th>\n      <td>196</td>\n      <td>2429515.15</td>\n    </tr>\n    <tr>\n      <th>118</th>\n      <td>197</td>\n      <td>15327154.14</td>\n    </tr>\n    <tr>\n      <th>119</th>\n      <td>198</td>\n      <td>1403881.30</td>\n    </tr>\n    <tr>\n      <th>120</th>\n      <td>199</td>\n      <td>381417.48</td>\n    </tr>\n    <tr>\n      <th>121</th>\n      <td>200</td>\n      <td>2422399.20</td>\n    </tr>\n  </tbody>\n</table>\n<p>122 rows × 2 columns</p>\n</div>"
     },
     "execution_count": 131,
     "metadata": {},
     "output_type": "execute_result"
    }
   ],
   "source": [
    "# tpch - 11\n",
    "var1 = 'PERU'\n",
    "var2 = 0.0001\n",
    "\n",
    "nation = pandas.read_table(rf'{path}\\nation.tbl', sep='|', index_col=False, header=None, names=pysdql.NATION_COLS)\n",
    "partsupp = pandas.read_table(rf'{path}\\partsupp.tbl', sep='|', index_col=False, header=None, names=pysdql.PARTSUPP_COLS)\n",
    "supplier = pandas.read_table(rf'{path}\\supplier.tbl', sep='|', index_col=False, header=None, names=pysdql.SUPPLIER_COLS)\n",
    "\n",
    "sub_n = nation[nation['n_name'] == var1]\n",
    "\n",
    "r1 = sub_n.merge(supplier, left_on='n_nationkey', right_on='s_nationkey')\n",
    "r2 = r1.merge(partsupp, left_on='s_suppkey', right_on='ps_suppkey')\n",
    "\n",
    "r2['agg_val'] = r2['ps_supplycost'] * r2['ps_availqty'] * var2\n",
    "\n",
    "agg_val = r2['agg_val'].sum()\n",
    "\n",
    "r = r2.groupby(['ps_partkey']).filter(lambda x: (x['ps_supplycost'] * x['ps_availqty']).sum() > agg_val)\n",
    "\n",
    "r['value'] = r['ps_supplycost'] * r['ps_availqty']\n",
    "\n",
    "r = r.groupby(['ps_partkey'], as_index=False).agg(value=('value', 'sum'))\n",
    "\n",
    "r"
   ]
  },
  {
   "cell_type": "code",
   "execution_count": 132,
   "outputs": [
    {
     "name": "stderr",
     "output_type": "stream",
     "text": [
      "C:\\Users\\Y\\AppData\\Local\\Temp\\ipykernel_19592\\2549720758.py:18: UserWarning: Boolean Series key will be reindexed to match DataFrame index.\n",
      "  sub_l = sub_l[lineitem['l_shipmode'].isin([var1, var2])]\n"
     ]
    },
    {
     "data": {
      "text/plain": "  l_shipmode  high_line_count  low_line_count\n0        AIR                8              13\n1        FOB                6              12",
      "text/html": "<div>\n<style scoped>\n    .dataframe tbody tr th:only-of-type {\n        vertical-align: middle;\n    }\n\n    .dataframe tbody tr th {\n        vertical-align: top;\n    }\n\n    .dataframe thead th {\n        text-align: right;\n    }\n</style>\n<table border=\"1\" class=\"dataframe\">\n  <thead>\n    <tr style=\"text-align: right;\">\n      <th></th>\n      <th>l_shipmode</th>\n      <th>high_line_count</th>\n      <th>low_line_count</th>\n    </tr>\n  </thead>\n  <tbody>\n    <tr>\n      <th>0</th>\n      <td>AIR</td>\n      <td>8</td>\n      <td>13</td>\n    </tr>\n    <tr>\n      <th>1</th>\n      <td>FOB</td>\n      <td>6</td>\n      <td>12</td>\n    </tr>\n  </tbody>\n</table>\n</div>"
     },
     "execution_count": 132,
     "metadata": {},
     "output_type": "execute_result"
    }
   ],
   "source": [
    "# tpch - 12\n",
    "\n",
    "import pandas\n",
    "import numpy\n",
    "\n",
    "var1 = 'FOB'\n",
    "var2 = 'AIR'\n",
    "var3 = '1995-01-01'\n",
    "var4 = '1996-01-01'\n",
    "\n",
    "lineitem = pandas.read_table(rf'{path}\\lineitem.tbl', sep='|', index_col=False, header=None, names=pysdql.LINEITEM_COLS)\n",
    "orders = pandas.read_table(rf'{path}\\orders.tbl', sep='|', index_col=False, header=None, names=pysdql.ORDERS_COLS)\n",
    "\n",
    "sub_l = lineitem[(lineitem['l_commitdate'] < lineitem['l_receiptdate'])\n",
    "                 & (lineitem['l_shipdate'] < lineitem['l_commitdate'])\n",
    "                 & (lineitem['l_receiptdate'] >= var3) & (lineitem['l_receiptdate'] < var4)]\n",
    "\n",
    "sub_l = sub_l[lineitem['l_shipmode'].isin([var1, var2])]\n",
    "\n",
    "r = orders.merge(sub_l, left_on='o_orderkey', right_on='l_orderkey')\n",
    "\n",
    "r['high_line_priority'] = numpy.select(\n",
    "[\n",
    "    (r['o_orderpriority'] == '1-URGENT') | (r['o_orderpriority'] == '2-HIGH')\n",
    "],\n",
    "[\n",
    "    1\n",
    "],\n",
    "default=0)\n",
    "\n",
    "r['low_line_priority'] = numpy.select(\n",
    "[\n",
    "    (r['o_orderpriority'] != '1-URGENT') | (r['o_orderpriority'] != '2-HIGH')\n",
    "],\n",
    "[\n",
    "    1\n",
    "],\n",
    "default=0)\n",
    "\n",
    "r.groupby(['l_shipmode'], as_index=False).agg(high_line_count=('high_line_priority', 'sum'), low_line_count=('low_line_priority', 'sum'))"
   ],
   "metadata": {
    "collapsed": false,
    "pycharm": {
     "name": "#%%\n"
    }
   }
  },
  {
   "cell_type": "code",
   "execution_count": 133,
   "outputs": [
    {
     "data": {
      "text/plain": "   promo_revenue\n0       9.627538",
      "text/html": "<div>\n<style scoped>\n    .dataframe tbody tr th:only-of-type {\n        vertical-align: middle;\n    }\n\n    .dataframe tbody tr th {\n        vertical-align: top;\n    }\n\n    .dataframe thead th {\n        text-align: right;\n    }\n</style>\n<table border=\"1\" class=\"dataframe\">\n  <thead>\n    <tr style=\"text-align: right;\">\n      <th></th>\n      <th>promo_revenue</th>\n    </tr>\n  </thead>\n  <tbody>\n    <tr>\n      <th>0</th>\n      <td>9.627538</td>\n    </tr>\n  </tbody>\n</table>\n</div>"
     },
     "execution_count": 133,
     "metadata": {},
     "output_type": "execute_result"
    }
   ],
   "source": [
    "# tpch - 14\n",
    "\n",
    "var1 = '1995-03-01'\n",
    "var2 = '1995-04-01'  # var1 + 1 month\n",
    "\n",
    "lineitem = pandas.read_table(rf'{path}\\lineitem.tbl', sep='|', index_col=False, header=None, names=pysdql.LINEITEM_COLS)\n",
    "part = pandas.read_table(rf'{path}\\part.tbl', sep='|', index_col=False, header=None, names=pysdql.PART_COLS)\n",
    "\n",
    "sub_l = lineitem[(lineitem['l_shipdate'] >= var1) & (lineitem['l_shipdate'] < var2)]\n",
    "r = sub_l.merge(part, left_on='l_partkey', right_on='p_partkey')\n",
    "\n",
    "r['tmp_val_1'] = numpy.select(\n",
    "[\n",
    "    r['p_type'].str.startswith('PROMO')\n",
    "],\n",
    "[\n",
    "    r['l_extendedprice'] * (1 - r['l_discount'])\n",
    "],\n",
    "default=0)\n",
    "\n",
    "r['tmp_val_2'] = r['l_extendedprice'] * (1 - r['l_discount'])\n",
    "\n",
    "r['promo_revenue'] = 100 * r['tmp_val_1'].sum() / r['tmp_val_2'].sum()\n",
    "\n",
    "r[['promo_revenue']].drop_duplicates()"
   ],
   "metadata": {
    "collapsed": false,
    "pycharm": {
     "name": "#%%\n"
    }
   }
  },
  {
   "cell_type": "code",
   "execution_count": 3,
   "outputs": [
    {
     "name": "stderr",
     "output_type": "stream",
     "text": [
      "C:\\Users\\Y\\AppData\\Local\\Temp\\ipykernel_24732\\2580906340.py:15: SettingWithCopyWarning: \n",
      "A value is trying to be set on a copy of a slice from a DataFrame.\n",
      "Try using .loc[row_indexer,col_indexer] = value instead\n",
      "\n",
      "See the caveats in the documentation: https://pandas.pydata.org/pandas-docs/stable/user_guide/indexing.html#returning-a-view-versus-a-copy\n",
      "  sub_l['tmp_val'] = sub_l['l_extendedprice'] * (1 - sub_l['l_discount'])\n"
     ]
    },
    {
     "data": {
      "text/plain": "   s_suppkey              s_name                 s_address          s_phone  \\\n8          9  Supplier#000000009  1KhUgZegwM3ua7dsYmekYBsK  20-403-398-8662   \n\n   total_revenue  \n8    607520.0095  ",
      "text/html": "<div>\n<style scoped>\n    .dataframe tbody tr th:only-of-type {\n        vertical-align: middle;\n    }\n\n    .dataframe tbody tr th {\n        vertical-align: top;\n    }\n\n    .dataframe thead th {\n        text-align: right;\n    }\n</style>\n<table border=\"1\" class=\"dataframe\">\n  <thead>\n    <tr style=\"text-align: right;\">\n      <th></th>\n      <th>s_suppkey</th>\n      <th>s_name</th>\n      <th>s_address</th>\n      <th>s_phone</th>\n      <th>total_revenue</th>\n    </tr>\n  </thead>\n  <tbody>\n    <tr>\n      <th>8</th>\n      <td>9</td>\n      <td>Supplier#000000009</td>\n      <td>1KhUgZegwM3ua7dsYmekYBsK</td>\n      <td>20-403-398-8662</td>\n      <td>607520.0095</td>\n    </tr>\n  </tbody>\n</table>\n</div>"
     },
     "execution_count": 3,
     "metadata": {},
     "output_type": "execute_result"
    }
   ],
   "source": [
    "# tpch - 15\n",
    "\n",
    "import pandas\n",
    "import pysdql\n",
    "\n",
    "var1 = '1996-02-01'\n",
    "var2 = '1996-05-01'  # var1 + 3 month\n",
    "\n",
    "path = r'T:\\UG4-Proj\\datasets'\n",
    "lineitem = pandas.read_table(rf'{path}\\lineitem.tbl', sep='|', index_col=False, header=None, names=pysdql.LINEITEM_COLS)\n",
    "supplier = pandas.read_table(rf'{path}\\supplier.tbl', sep='|', index_col=False, header=None, names=pysdql.SUPPLIER_COLS)\n",
    "\n",
    "sub_l = lineitem[(lineitem['l_shipdate'] >= var1) & (lineitem['l_shipdate'] < var2)]\n",
    "\n",
    "sub_l['tmp_val'] = sub_l['l_extendedprice'] * (1 - sub_l['l_discount'])\n",
    "\n",
    "revenue0 = sub_l.groupby(['l_suppkey'], as_index=False).agg(total_revenue=('tmp_val', 'sum'))\n",
    "\n",
    "revenue0['supplier_no'] = revenue0['l_suppkey']\n",
    "revenue0 = revenue0[['supplier_no', 'total_revenue']]\n",
    "\n",
    "max_revenue = revenue0['total_revenue'].max()\n",
    "\n",
    "r = supplier.merge(revenue0, left_on='s_suppkey', right_on='supplier_no')\n",
    "\n",
    "r = r[r['total_revenue'] == max_revenue]\n",
    "r[['s_suppkey', 's_name', 's_address', 's_phone', 'total_revenue']]"
   ],
   "metadata": {
    "collapsed": false,
    "pycharm": {
     "name": "#%%\n"
    }
   }
  },
  {
   "cell_type": "code",
   "execution_count": 135,
   "outputs": [
    {
     "data": {
      "text/plain": "1351.485714285714"
     },
     "execution_count": 135,
     "metadata": {},
     "output_type": "execute_result"
    }
   ],
   "source": [
    "# tpch - 17\n",
    "\n",
    "var1 = 'Brand#11'\n",
    "var2 = 'WRAP CASE'\n",
    "\n",
    "lineitem = pandas.read_table(rf'{path}\\lineitem.tbl', sep='|', index_col=False, header=None, names=pysdql.LINEITEM_COLS)\n",
    "part = pandas.read_table(rf'{path}\\part.tbl', sep='|', index_col=False, header=None, names=pysdql.PART_COLS)\n",
    "\n",
    "part_agg = lineitem.groupby(['l_partkey'], as_index=False).agg(tmp_val=('l_quantity', 'mean'))\n",
    "\n",
    "part_agg['avg_quantity'] = 0.2 * part_agg['tmp_val']\n",
    "part_agg['agg_partkey'] = part_agg['l_partkey']\n",
    "\n",
    "part_agg = part_agg[['avg_quantity', 'agg_partkey']]\n",
    "\n",
    "sub_p = part[(part['p_brand'] == var1) & (part['p_container'] == var2)]\n",
    "\n",
    "r = sub_p.merge(lineitem, left_on='p_partkey', right_on='l_partkey')\n",
    "r = r.merge(part_agg, left_on='l_partkey', right_on='agg_partkey')\n",
    "\n",
    "r = r[r['l_quantity'] < r['avg_quantity']]\n",
    "\n",
    "r['avg_yearly'] = r['l_extendedprice'] / 7.0\n",
    "\n",
    "r['avg_yearly'].sum()"
   ],
   "metadata": {
    "collapsed": false,
    "pycharm": {
     "name": "#%%\n"
    }
   }
  },
  {
   "cell_type": "code",
   "execution_count": 136,
   "outputs": [
    {
     "data": {
      "text/plain": "               c_name  c_custkey  o_orderkey o_orderdate  o_totalprice  \\\n0  Customer#000000010         10        4421  1997-04-04     258779.02   \n1  Customer#000000068         68        2208  1995-05-01     245388.06   \n2  Customer#000000070         70        2567  1998-02-27     263411.29   \n3  Customer#000000082         82        3460  1995-10-03     245976.74   \n\n   l_quantity  \n0         255  \n1         256  \n2         266  \n3         254  ",
      "text/html": "<div>\n<style scoped>\n    .dataframe tbody tr th:only-of-type {\n        vertical-align: middle;\n    }\n\n    .dataframe tbody tr th {\n        vertical-align: top;\n    }\n\n    .dataframe thead th {\n        text-align: right;\n    }\n</style>\n<table border=\"1\" class=\"dataframe\">\n  <thead>\n    <tr style=\"text-align: right;\">\n      <th></th>\n      <th>c_name</th>\n      <th>c_custkey</th>\n      <th>o_orderkey</th>\n      <th>o_orderdate</th>\n      <th>o_totalprice</th>\n      <th>l_quantity</th>\n    </tr>\n  </thead>\n  <tbody>\n    <tr>\n      <th>0</th>\n      <td>Customer#000000010</td>\n      <td>10</td>\n      <td>4421</td>\n      <td>1997-04-04</td>\n      <td>258779.02</td>\n      <td>255</td>\n    </tr>\n    <tr>\n      <th>1</th>\n      <td>Customer#000000068</td>\n      <td>68</td>\n      <td>2208</td>\n      <td>1995-05-01</td>\n      <td>245388.06</td>\n      <td>256</td>\n    </tr>\n    <tr>\n      <th>2</th>\n      <td>Customer#000000070</td>\n      <td>70</td>\n      <td>2567</td>\n      <td>1998-02-27</td>\n      <td>263411.29</td>\n      <td>266</td>\n    </tr>\n    <tr>\n      <th>3</th>\n      <td>Customer#000000082</td>\n      <td>82</td>\n      <td>3460</td>\n      <td>1995-10-03</td>\n      <td>245976.74</td>\n      <td>254</td>\n    </tr>\n  </tbody>\n</table>\n</div>"
     },
     "execution_count": 136,
     "metadata": {},
     "output_type": "execute_result"
    }
   ],
   "source": [
    "# tpch - 18\n",
    "var1 = 251\n",
    "\n",
    "customer = pandas.read_table(rf'{path}\\customer.tbl', sep='|', index_col=False, header=None, names=pysdql.CUSTOMER_COLS)\n",
    "lineitem = pandas.read_table(rf'{path}\\lineitem.tbl', sep='|', index_col=False, header=None, names=pysdql.LINEITEM_COLS)\n",
    "orders = pandas.read_table(rf'{path}\\orders.tbl', sep='|', index_col=False, header=None, names=pysdql.ORDERS_COLS)\n",
    "\n",
    "aggr_l = lineitem.groupby(['l_orderkey'], as_index=False).filter(lambda x: x['l_quantity'].sum() > var1)\n",
    "\n",
    "sub_o = orders[(orders['o_orderkey'].isin(aggr_l['l_orderkey']))]\n",
    "\n",
    "r = customer.merge(sub_o, left_on='c_custkey', right_on='o_custkey')\n",
    "r = r.merge(lineitem, left_on='o_orderkey', right_on='l_orderkey')\n",
    "\n",
    "r = r.groupby(['c_name', 'c_custkey', 'o_orderkey', 'o_orderdate', 'o_totalprice'], as_index=False).agg({'l_quantity': 'sum'})\n",
    "\n",
    "r"
   ],
   "metadata": {
    "collapsed": false,
    "pycharm": {
     "name": "#%%\n"
    }
   }
  },
  {
   "cell_type": "code",
   "execution_count": 137,
   "outputs": [
    {
     "data": {
      "text/plain": "57579.246"
     },
     "execution_count": 137,
     "metadata": {},
     "output_type": "execute_result"
    }
   ],
   "source": [
    "# tpch - 19\n",
    "var1 = 'Brand#54'\n",
    "var2 = 'Brand#22'\n",
    "var3 = 'Brand#33'\n",
    "var4 = 1\n",
    "var4_1 = var4 + 10\n",
    "var5 = 18\n",
    "var5_1 = var5 + 10\n",
    "var6 = 26\n",
    "var6_1 = var6 + 10\n",
    "\n",
    "lineitem = pandas.read_table(rf'{path}\\lineitem.tbl', sep='|', index_col=False, header=None, names=pysdql.LINEITEM_COLS)\n",
    "part = pandas.read_table(rf'{path}\\part.tbl', sep='|', index_col=False, header=None, names=pysdql.PART_COLS)\n",
    "\n",
    "r = lineitem.merge(part, left_on='l_partkey', right_on='p_partkey')\n",
    "\n",
    "r = r[((r['p_brand'] == var1)\n",
    "       & (r['p_container'].isin(['SM CASE', 'SM BOX', 'SM PACK', 'SM PKG']))\n",
    "       & (r['p_size'] >= 1) & (r['p_size'] <= 5) & (lineitem['l_quantity'] >= var4)\n",
    "       & (r['l_quantity'] <= var4_1)\n",
    "       & (r['l_shipmode'].isin(['AIR', 'AIR REG']))\n",
    "       & (r['l_shipinstruct'] == 'DELIVER IN PERSON')\n",
    "       )\n",
    "      | ((r['p_brand'] == var2)\n",
    "         & (r['p_container'].isin(['MED BAG', 'MED BOX', 'MED PKG', 'MED PACK']))\n",
    "         & (r['p_size'] >= 1) & (r['p_size'] <= 10)\n",
    "         & (r['l_quantity'] >= var5) & (r['l_quantity'] <= var5_1)\n",
    "         & (r['l_shipmode'].isin(['AIR', 'AIR REG']))\n",
    "         & (r['l_shipinstruct'] == 'DELIVER IN PERSON')\n",
    "         )\n",
    "      | (r['p_brand'] == var3)\n",
    "         & (r['p_container'].isin(['LG CASE', 'LG BOX', 'LG PACK', 'LG PKG']))\n",
    "         & (r['p_size'] >= 1) & (r['p_size'] <= 15)\n",
    "         & (r['l_quantity'] >= var6)\n",
    "         & (r['l_quantity'] <= var6_1)\n",
    "         & (r['l_shipmode'].isin(['AIR', 'AIR REG']))\n",
    "         & (r['l_shipinstruct'] == 'DELIVER IN PERSON')\n",
    "         ]\n",
    "\n",
    "r['tmp_val'] = r['l_extendedprice'] * (1 - r['l_discount'])\n",
    "\n",
    "r['tmp_val'].sum()"
   ],
   "metadata": {
    "collapsed": false,
    "pycharm": {
     "name": "#%%\n"
    }
   }
  },
  {
   "cell_type": "code",
   "execution_count": 138,
   "outputs": [
    {
     "data": {
      "text/plain": "               s_name           s_address\n0  Supplier#000000010  Saygah3gYWMp72i PY",
      "text/html": "<div>\n<style scoped>\n    .dataframe tbody tr th:only-of-type {\n        vertical-align: middle;\n    }\n\n    .dataframe tbody tr th {\n        vertical-align: top;\n    }\n\n    .dataframe thead th {\n        text-align: right;\n    }\n</style>\n<table border=\"1\" class=\"dataframe\">\n  <thead>\n    <tr style=\"text-align: right;\">\n      <th></th>\n      <th>s_name</th>\n      <th>s_address</th>\n    </tr>\n  </thead>\n  <tbody>\n    <tr>\n      <th>0</th>\n      <td>Supplier#000000010</td>\n      <td>Saygah3gYWMp72i PY</td>\n    </tr>\n  </tbody>\n</table>\n</div>"
     },
     "execution_count": 138,
     "metadata": {},
     "output_type": "execute_result"
    }
   ],
   "source": [
    "# tpch - 20\n",
    "\n",
    "var1 = 'orange'\n",
    "var2 = '1995-01-01'\n",
    "var2_1 = '1996-01-01'  # var2 + 1 year\n",
    "var3 = 'UNITED STATES'\n",
    "\n",
    "lineitem = pandas.read_table(rf'{path}\\lineitem.tbl', sep='|', index_col=False, header=None, names=pysdql.LINEITEM_COLS)\n",
    "nation = pandas.read_table(rf'{path}\\nation.tbl', sep='|', index_col=False, header=None, names=pysdql.NATION_COLS)\n",
    "part = pandas.read_table(rf'{path}\\part.tbl', sep='|', index_col=False, header=None, names=pysdql.PART_COLS)\n",
    "partsupp = pandas.read_table(rf'{path}\\partsupp.tbl', sep='|', index_col=False, header=None, names=pysdql.PARTSUPP_COLS)\n",
    "supplier = pandas.read_table(rf'{path}\\supplier.tbl', sep='|', index_col=False, header=None, names=pysdql.SUPPLIER_COLS)\n",
    "\n",
    "sub_l = lineitem[(lineitem['l_shipdate'] >= var2) & (lineitem['l_shipdate'] < var2_1)]\n",
    "\n",
    "agg_lineitem = sub_l.groupby(['l_partkey', 'l_suppkey'], as_index=False).agg(tmp_val=('l_quantity', 'sum'))\n",
    "\n",
    "agg_lineitem['agg_partkey'] = agg_lineitem['l_partkey']\n",
    "agg_lineitem['agg_suppkey'] = agg_lineitem['l_suppkey']\n",
    "agg_lineitem['agg_quantity'] = agg_lineitem['tmp_val'] * 0.5\n",
    "\n",
    "r = partsupp.merge(agg_lineitem, left_on='ps_partkey', right_on='agg_partkey')\n",
    "r = r[(r['ps_suppkey'] == r['agg_suppkey']) & (r['ps_availqty'] > r['agg_quantity'])]\n",
    "\n",
    "sub_p = part[part['p_name'].str.startswith(var1)]\n",
    "r = r[(r['ps_partkey'].isin(sub_p['p_partkey']))]\n",
    "\n",
    "sub_n = nation[(nation['n_name'] == var3)]\n",
    "s = supplier.merge(sub_n, left_on='s_nationkey', right_on='n_nationkey')\n",
    "s = s[(s['s_suppkey'].isin(r['ps_suppkey']))]\n",
    "s[['s_name', 's_address']]"
   ],
   "metadata": {
    "collapsed": false,
    "pycharm": {
     "name": "#%%\n"
    }
   }
  },
  {
   "cell_type": "code",
   "execution_count": 188,
   "outputs": [
    {
     "data": {
      "text/plain": "               s_name  numwait\n0  Supplier#000000007       17",
      "text/html": "<div>\n<style scoped>\n    .dataframe tbody tr th:only-of-type {\n        vertical-align: middle;\n    }\n\n    .dataframe tbody tr th {\n        vertical-align: top;\n    }\n\n    .dataframe thead th {\n        text-align: right;\n    }\n</style>\n<table border=\"1\" class=\"dataframe\">\n  <thead>\n    <tr style=\"text-align: right;\">\n      <th></th>\n      <th>s_name</th>\n      <th>numwait</th>\n    </tr>\n  </thead>\n  <tbody>\n    <tr>\n      <th>0</th>\n      <td>Supplier#000000007</td>\n      <td>17</td>\n    </tr>\n  </tbody>\n</table>\n</div>"
     },
     "execution_count": 188,
     "metadata": {},
     "output_type": "execute_result"
    }
   ],
   "source": [
    "# tpch - 21\n",
    "var1 = 'UNITED KINGDOM'\n",
    "\n",
    "supplier = pandas.read_table(rf'{path}\\supplier.tbl', sep='|', index_col=False, header=None, names=pysdql.SUPPLIER_COLS)\n",
    "orders = pandas.read_table(rf'{path}\\orders.tbl', sep='|', index_col=False, header=None, names=pysdql.ORDERS_COLS)\n",
    "nation = pandas.read_table(rf'{path}\\nation.tbl', sep='|', index_col=False, header=None, names=pysdql.NATION_COLS)\n",
    "l1_cols = ['l1_orderkey', 'l1_partkey', 'l1_suppkey', 'l1_linenumber', 'l1_quantity', 'l1_extendedprice',\n",
    "           'l1_discount', 'l1_tax', 'l1_returnflag', 'l1_linestatus', 'l1_shipdate', 'l1_commitdate',\n",
    "           'l1_receiptdate', 'l1_shipinstruct', 'l1_shipmode', 'l1_comment']\n",
    "l1 = pandas.read_table(rf'{path}\\lineitem.tbl', sep='|', index_col=False, header=None, names=l1_cols)\n",
    "l2_cols = ['l2_orderkey', 'l2_partkey', 'l2_suppkey', 'l2_linenumber', 'l2_quantity', 'l2_extendedprice',\n",
    "           'l2_discount', 'l2_tax', 'l2_returnflag', 'l2_linestatus', 'l2_shipdate', 'l2_commitdate',\n",
    "           'l2_receiptdate', 'l2_shipinstruct', 'l2_shipmode', 'l2_comment']\n",
    "l2 = pandas.read_table(rf'{path}\\lineitem.tbl', sep='|', index_col=False, header=None, names=l2_cols)\n",
    "l3_cols = ['l3_orderkey', 'l3_partkey', 'l3_suppkey', 'l3_linenumber', 'l3_quantity', 'l3_extendedprice',\n",
    "           'l3_discount', 'l3_tax', 'l3_returnflag', 'l3_linestatus', 'l3_shipdate', 'l3_commitdate',\n",
    "           'l3_receiptdate', 'l3_shipinstruct', 'l3_shipmode', 'l3_comment']\n",
    "l3 = pandas.read_table(rf'{path}\\lineitem.tbl', sep='|', index_col=False, header=None, names=l3_cols)\n",
    "\n",
    "sub_n = nation[(nation['n_name'] == var1)]\n",
    "join_ns = supplier.merge(sub_n, left_on='s_nationkey', right_on='n_nationkey')\n",
    "sub_l1 = l1[(l1['l1_receiptdate'] > l1['l1_commitdate'])]\n",
    "r = join_ns.merge(sub_l1, left_on='s_suppkey', right_on='l1_suppkey')\n",
    "\n",
    "sub_o = orders[(orders['o_orderstatus'] == 'F')]\n",
    "r = r.merge(sub_o, left_on='l1_orderkey', right_on='o_orderkey')\n",
    "\n",
    "r = r.merge(l2, left_on='l1_orderkey', right_on='l2_orderkey')\n",
    "\n",
    "r['exists_l2'] = numpy.select(\n",
    "[\n",
    "    (r['l1_suppkey'] != r['l2_suppkey'])\n",
    "],\n",
    "[\n",
    "    1\n",
    "],\n",
    "default=0)\n",
    "\n",
    "main_cols = pysdql.SUPPLIER_COLS + pysdql.ORDERS_COLS + pysdql.NATION_COLS + l1_cols\n",
    "\n",
    "r = r.groupby(main_cols, as_index=False).agg(exists_l2=('exists_l2', 'sum'))\n",
    "r = r[r['exists_l2'] > 0]\n",
    "\n",
    "r = r.merge(l3, left_on='l1_orderkey', right_on='l3_orderkey')\n",
    "r['exists_l3'] = numpy.select(\n",
    "[\n",
    "    (r['l1_suppkey'] != r['l3_suppkey'])\n",
    "    & (r['l3_receiptdate'] > r['l3_commitdate'])\n",
    "],\n",
    "[\n",
    "    1\n",
    "],\n",
    "default=0)\n",
    "r = r.groupby(main_cols, as_index=False).agg(exists_l3=('exists_l3', 'sum'))\n",
    "r = r[r['exists_l3'] == 0]\n",
    "\n",
    "r.groupby(['s_name'], as_index=False).agg(numwait=('l1_orderkey', 'count'))"
   ],
   "metadata": {
    "collapsed": false,
    "pycharm": {
     "name": "#%%\n"
    }
   }
  },
  {
   "cell_type": "code",
   "execution_count": 203,
   "outputs": [
    {
     "data": {
      "text/plain": "  cntrycode  numcust  totacctbal\n0        11        1     8324.07\n1        14        1     5494.43\n2        23        1     6323.92\n3        25        1     7638.57\n4        30        1     6264.31",
      "text/html": "<div>\n<style scoped>\n    .dataframe tbody tr th:only-of-type {\n        vertical-align: middle;\n    }\n\n    .dataframe tbody tr th {\n        vertical-align: top;\n    }\n\n    .dataframe thead th {\n        text-align: right;\n    }\n</style>\n<table border=\"1\" class=\"dataframe\">\n  <thead>\n    <tr style=\"text-align: right;\">\n      <th></th>\n      <th>cntrycode</th>\n      <th>numcust</th>\n      <th>totacctbal</th>\n    </tr>\n  </thead>\n  <tbody>\n    <tr>\n      <th>0</th>\n      <td>11</td>\n      <td>1</td>\n      <td>8324.07</td>\n    </tr>\n    <tr>\n      <th>1</th>\n      <td>14</td>\n      <td>1</td>\n      <td>5494.43</td>\n    </tr>\n    <tr>\n      <th>2</th>\n      <td>23</td>\n      <td>1</td>\n      <td>6323.92</td>\n    </tr>\n    <tr>\n      <th>3</th>\n      <td>25</td>\n      <td>1</td>\n      <td>7638.57</td>\n    </tr>\n    <tr>\n      <th>4</th>\n      <td>30</td>\n      <td>1</td>\n      <td>6264.31</td>\n    </tr>\n  </tbody>\n</table>\n</div>"
     },
     "execution_count": 203,
     "metadata": {},
     "output_type": "execute_result"
    }
   ],
   "source": [
    "# tpch - 22\n",
    "\n",
    "var1 = ('16', '12', '18', '14', '30', '27', '25')\n",
    "\n",
    "customer = pandas.read_table(rf'{path}\\customer.tbl', sep='|', index_col=False, header=None, names=pysdql.CUSTOMER_COLS)\n",
    "orders = pandas.read_table(rf'{path}\\orders.tbl', sep='|', index_col=False, header=None, names=pysdql.ORDERS_COLS)\n",
    "\n",
    "sub_c = customer[(customer['c_acctbal'] > 0.00)\n",
    "                 & (customer['c_phone'].str.slice(0, 2).isin(var1))]\n",
    "\n",
    "avg_acctbal = sub_c['c_acctbal'].mean()\n",
    "\n",
    "r = customer[customer['c_phone'].str.slice(0, 2).isin(var1)]\n",
    "\n",
    "r = r[r['c_acctbal'] > avg_acctbal]\n",
    "\n",
    "r = r.merge(orders, how='cross')\n",
    "r['exists'] = numpy.select(\n",
    "[\n",
    "    (r['o_custkey'] == r['c_custkey'])\n",
    "],\n",
    "[\n",
    "    1\n",
    "],\n",
    "default=0)\n",
    "r = r.groupby(pysdql.CUSTOMER_COLS, as_index=False).agg(exists=('exists', 'sum'))\n",
    "r = r[r['exists'] == 0]\n",
    "\n",
    "r['cntrycode'] = customer['c_phone'].str.slice(0, 2)\n",
    "\n",
    "custsale = r[['cntrycode', 'c_acctbal']]\n",
    "\n",
    "custsale.groupby(['cntrycode'], as_index=False).agg(numcust=('cntrycode', 'count'), totacctbal=('c_acctbal', 'sum'))"
   ],
   "metadata": {
    "collapsed": false,
    "pycharm": {
     "name": "#%%\n"
    }
   }
  }
 ],
 "metadata": {
  "kernelspec": {
   "display_name": "Python 3 (ipykernel)",
   "language": "python",
   "name": "python3"
  },
  "language_info": {
   "codemirror_mode": {
    "name": "ipython",
    "version": 3
   },
   "file_extension": ".py",
   "mimetype": "text/x-python",
   "name": "python",
   "nbconvert_exporter": "python",
   "pygments_lexer": "ipython3",
   "version": "3.9.7"
  }
 },
 "nbformat": 4,
 "nbformat_minor": 1
}