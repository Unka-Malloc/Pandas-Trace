{
 "cells": [
  {
   "cell_type": "code",
   "execution_count": 1,
   "metadata": {
    "pycharm": {
     "is_executing": true
    }
   },
   "outputs": [],
   "source": [
    "from pysdql import DataFrame\n",
    "import pysdql as pd\n",
    "from pysdql.core.dtypes.sdql_ir import (\n",
    "    ConstantExpr,\n",
    "    PrintAST,\n",
    "    GenerateSDQLCode,\n",
    ")"
   ]
  },
  {
   "cell_type": "markdown",
   "metadata": {},
   "source": [
    "# Q1"
   ]
  },
  {
   "cell_type": "code",
   "execution_count": 2,
   "metadata": {
    "pycharm": {
     "name": "#%%\n"
    }
   },
   "outputs": [],
   "source": [
    "li = DataFrame()\n",
    "\n",
    "li_filt = li[(li.l_shipdate <= \"1998-09-02\")]\n",
    "li_filt[\"disc_price\"] = li_filt.l_extendedprice * (1 - li_filt.l_discount)\n",
    "li_filt[\"charge\"] = li_filt.l_extendedprice * (1 - li_filt.l_discount) * (1 + li_filt.l_tax)\n",
    "\n",
    "result = li_filt \\\n",
    "    .groupby([\"l_returnflag\", \"l_linestatus\"]) \\\n",
    "    .agg(sum_qty=(\"l_quantity\", \"sum\"),\n",
    "         sum_base_price=(\"l_extendedprice\", \"sum\"),\n",
    "         sum_disc_price=(\"disc_price\", \"sum\"),\n",
    "         sum_charge=(\"charge\", \"sum\"),\n",
    "         count_order=(\"l_quantity\", \"count\")\n",
    "         )"
   ]
  },
  {
   "cell_type": "code",
   "execution_count": 3,
   "metadata": {},
   "outputs": [
    {
     "name": "stdout",
     "output_type": "stream",
     "text": [
      "{'iter': False, 'op': CompareExpr(CompareSymbol.LTE, RecAccessExpr(PairAccessExpr(x_li, 0), 'l_shipdate'), ConstantExpr(19980902)), 'op_type': <class 'pysdql.core.dtypes.CondExpr.CondExpr'>, 'on': li, 'ret_type': None}\n",
      "{'iter': False, 'op': {'disc_price': MulExpr(RecAccessExpr(PairAccessExpr(x_li, 0), 'l_extendedprice'), SubExpr(ConstantExpr(1), RecAccessExpr(PairAccessExpr(x_li, 0), 'l_discount')))}, 'op_type': <class 'pysdql.core.dtypes.VirColEl.VirColEl'>, 'on': li, 'ret_type': None}\n",
      "{'iter': False, 'op': {'charge': MulExpr(MulExpr(RecAccessExpr(PairAccessExpr(x_li, 0), 'l_extendedprice'), SubExpr(ConstantExpr(1), RecAccessExpr(PairAccessExpr(x_li, 0), 'l_discount'))), AddExpr(ConstantExpr(1), RecAccessExpr(PairAccessExpr(x_li, 0), 'l_tax')))}, 'op_type': <class 'pysdql.core.dtypes.VirColEl.VirColEl'>, 'on': li, 'ret_type': None}\n",
      "{'iter': True, 'op': {'sum_qty': RecAccessExpr(PairAccessExpr(x_li, 0), 'l_quantity'), 'sum_base_price': RecAccessExpr(PairAccessExpr(x_li, 0), 'l_extendedprice'), 'sum_disc_price': RecAccessExpr(PairAccessExpr(x_li, 0), 'disc_price'), 'sum_charge': RecAccessExpr(PairAccessExpr(x_li, 0), 'charge'), 'count_order': ConstantExpr(1)}, 'op_type': <class 'pysdql.core.dtypes.GroupByAgg.GroupByAgg'>, 'on': li, 'ret_type': None}\n"
     ]
    }
   ],
   "source": [
    "print(result.operations)"
   ]
  },
  {
   "cell_type": "code",
   "execution_count": 4,
   "metadata": {},
   "outputs": [
    {
     "name": "stdout",
     "output_type": "stream",
     "text": [
      "LetExpr(li_groupby_agg, SumExpr(x_li, db->li_dataset, IfExpr(CompareExpr(CompareSymbol.LTE, RecAccessExpr(PairAccessExpr(x_li, 0), 'l_shipdate'), ConstantExpr(19980902)), DicConsExpr([(RecConsExpr([('l_returnflag', RecAccessExpr(PairAccessExpr(x_li, 0), 'l_returnflag')), ('l_linestatus', RecAccessExpr(PairAccessExpr(x_li, 0), 'l_linestatus'))]), RecConsExpr([('sum_qty', RecAccessExpr(PairAccessExpr(x_li, 0), 'l_quantity')), ('sum_base_price', RecAccessExpr(PairAccessExpr(x_li, 0), 'l_extendedprice')), ('sum_disc_price', MulExpr(RecAccessExpr(PairAccessExpr(x_li, 0), 'l_extendedprice'), SubExpr(ConstantExpr(1), RecAccessExpr(PairAccessExpr(x_li, 0), 'l_discount')))), ('sum_charge', MulExpr(MulExpr(RecAccessExpr(PairAccessExpr(x_li, 0), 'l_extendedprice'), SubExpr(ConstantExpr(1), RecAccessExpr(PairAccessExpr(x_li, 0), 'l_discount'))), AddExpr(ConstantExpr(1), RecAccessExpr(PairAccessExpr(x_li, 0), 'l_tax')))), ('count_order', ConstantExpr(1))]))]), ConstantExpr(None)), False), LetExpr(li_filter_insert_insert_groupby_agg, SumExpr(v2, li_groupby_agg, DicConsExpr([(ConcatExpr(PairAccessExpr(v2, 0), PairAccessExpr(v2, 1)), ConstantExpr(True))]), True), LetExpr(out, li_filter_insert_insert_groupby_agg, ConstantExpr(True))))\n"
     ]
    }
   ],
   "source": [
    "print(result.optimize())"
   ]
  },
  {
   "cell_type": "code",
   "execution_count": 5,
   "metadata": {
    "scrolled": false
   },
   "outputs": [
    {
     "name": "stdout",
     "output_type": "stream",
     "text": [
      "nodeType: <class 'pysdql.core.dtypes.sdql_ir.LetExpr'> | ID: 140\n",
      "├───── nodeType: <class 'pysdql.core.dtypes.sdql_ir.VarExpr'> | ID: 95 | name: li_groupby_agg\n",
      "├───── nodeType: <class 'pysdql.core.dtypes.sdql_ir.SumExpr'> | ID: 124\n",
      "│      ├───── nodeType: <class 'pysdql.core.dtypes.sdql_ir.VarExpr'> | ID: 1 | name: x_li\n",
      "│      ├───── nodeType: <class 'pysdql.core.dtypes.sdql_ir.VarExpr'> | ID: 2 | name: db->li_dataset\n",
      "│      ├───── nodeType: <class 'pysdql.core.dtypes.sdql_ir.IfExpr'> | ID: 122\n",
      "│      │      ├───── nodeType: <class 'pysdql.core.dtypes.sdql_ir.CompareExpr'> | ID: 113 | compareType: CompareSymbol.LTE\n",
      "│      │      │      ├───── nodeType: <class 'pysdql.core.dtypes.sdql_ir.RecAccessExpr'> | ID: 4 | name: l_shipdate\n",
      "│      │      │      │      └───── nodeType: <class 'pysdql.core.dtypes.sdql_ir.PairAccessExpr'> | ID: 3 | index: 0\n",
      "│      │      │      │             └───── nodeType: <class 'pysdql.core.dtypes.sdql_ir.VarExpr'> | ID: 1 | name: x_li\n",
      "│      │      │      └───── nodeType: <class 'pysdql.core.dtypes.sdql_ir.ConstantExpr'> | ID: 5 | value: 19980902 | valueType: <pysdql.core.dtypes.sdql_ir.IntType object at 0x0000019B4FCF92B0>\n",
      "│      │      ├───── nodeType: <class 'pysdql.core.dtypes.sdql_ir.DicConsExpr'> | ID: 120\n",
      "│      │      │      ├───── nodeType: <class 'pysdql.core.dtypes.sdql_ir.RecConsExpr'> | ID: 118\n",
      "│      │      │      │      ├───── nodeType: <class 'pysdql.core.dtypes.sdql_ir.RecAccessExpr'> | ID: 115 | name: l_returnflag\n",
      "│      │      │      │      │      └───── nodeType: <class 'pysdql.core.dtypes.sdql_ir.PairAccessExpr'> | ID: 114 | index: 0\n",
      "│      │      │      │      │             └───── nodeType: <class 'pysdql.core.dtypes.sdql_ir.VarExpr'> | ID: 1 | name: x_li\n",
      "│      │      │      │      └───── nodeType: <class 'pysdql.core.dtypes.sdql_ir.RecAccessExpr'> | ID: 117 | name: l_linestatus\n",
      "│      │      │      │             └───── nodeType: <class 'pysdql.core.dtypes.sdql_ir.PairAccessExpr'> | ID: 116 | index: 0\n",
      "│      │      │      │                    └───── nodeType: <class 'pysdql.core.dtypes.sdql_ir.VarExpr'> | ID: 1 | name: x_li\n",
      "│      │      │      └───── nodeType: <class 'pysdql.core.dtypes.sdql_ir.RecConsExpr'> | ID: 119\n",
      "│      │      │             ├───── nodeType: <class 'pysdql.core.dtypes.sdql_ir.RecAccessExpr'> | ID: 26 | name: l_quantity\n",
      "│      │      │             │      └───── nodeType: <class 'pysdql.core.dtypes.sdql_ir.PairAccessExpr'> | ID: 25 | index: 0\n",
      "│      │      │             │             └───── nodeType: <class 'pysdql.core.dtypes.sdql_ir.VarExpr'> | ID: 1 | name: x_li\n",
      "│      │      │             ├───── nodeType: <class 'pysdql.core.dtypes.sdql_ir.RecAccessExpr'> | ID: 28 | name: l_extendedprice\n",
      "│      │      │             │      └───── nodeType: <class 'pysdql.core.dtypes.sdql_ir.PairAccessExpr'> | ID: 27 | index: 0\n",
      "│      │      │             │             └───── nodeType: <class 'pysdql.core.dtypes.sdql_ir.VarExpr'> | ID: 1 | name: x_li\n",
      "│      │      │             ├───── nodeType: <class 'pysdql.core.dtypes.sdql_ir.MulExpr'> | ID: 12\n",
      "│      │      │             │      ├───── nodeType: <class 'pysdql.core.dtypes.sdql_ir.RecAccessExpr'> | ID: 11 | name: l_extendedprice\n",
      "│      │      │             │      │      └───── nodeType: <class 'pysdql.core.dtypes.sdql_ir.PairAccessExpr'> | ID: 10 | index: 0\n",
      "│      │      │             │      │             └───── nodeType: <class 'pysdql.core.dtypes.sdql_ir.VarExpr'> | ID: 1 | name: x_li\n",
      "│      │      │             │      └───── nodeType: <class 'pysdql.core.dtypes.sdql_ir.SubExpr'> | ID: 9\n",
      "│      │      │             │             ├───── nodeType: <class 'pysdql.core.dtypes.sdql_ir.ConstantExpr'> | ID: 6 | value: 1 | valueType: <pysdql.core.dtypes.sdql_ir.IntType object at 0x0000019B4FCF9520>\n",
      "│      │      │             │             └───── nodeType: <class 'pysdql.core.dtypes.sdql_ir.RecAccessExpr'> | ID: 8 | name: l_discount\n",
      "│      │      │             │                    └───── nodeType: <class 'pysdql.core.dtypes.sdql_ir.PairAccessExpr'> | ID: 7 | index: 0\n",
      "│      │      │             │                           └───── nodeType: <class 'pysdql.core.dtypes.sdql_ir.VarExpr'> | ID: 1 | name: x_li\n",
      "│      │      │             ├───── nodeType: <class 'pysdql.core.dtypes.sdql_ir.MulExpr'> | ID: 24\n",
      "│      │      │             │      ├───── nodeType: <class 'pysdql.core.dtypes.sdql_ir.MulExpr'> | ID: 19\n",
      "│      │      │             │      │      ├───── nodeType: <class 'pysdql.core.dtypes.sdql_ir.RecAccessExpr'> | ID: 18 | name: l_extendedprice\n",
      "│      │      │             │      │      │      └───── nodeType: <class 'pysdql.core.dtypes.sdql_ir.PairAccessExpr'> | ID: 17 | index: 0\n",
      "│      │      │             │      │      │             └───── nodeType: <class 'pysdql.core.dtypes.sdql_ir.VarExpr'> | ID: 1 | name: x_li\n",
      "│      │      │             │      │      └───── nodeType: <class 'pysdql.core.dtypes.sdql_ir.SubExpr'> | ID: 16\n",
      "│      │      │             │      │             ├───── nodeType: <class 'pysdql.core.dtypes.sdql_ir.ConstantExpr'> | ID: 13 | value: 1 | valueType: <pysdql.core.dtypes.sdql_ir.IntType object at 0x0000019B4FCF9EB0>\n",
      "│      │      │             │      │             └───── nodeType: <class 'pysdql.core.dtypes.sdql_ir.RecAccessExpr'> | ID: 15 | name: l_discount\n",
      "│      │      │             │      │                    └───── nodeType: <class 'pysdql.core.dtypes.sdql_ir.PairAccessExpr'> | ID: 14 | index: 0\n",
      "│      │      │             │      │                           └───── nodeType: <class 'pysdql.core.dtypes.sdql_ir.VarExpr'> | ID: 1 | name: x_li\n",
      "│      │      │             │      └───── nodeType: <class 'pysdql.core.dtypes.sdql_ir.AddExpr'> | ID: 23\n",
      "│      │      │             │             ├───── nodeType: <class 'pysdql.core.dtypes.sdql_ir.ConstantExpr'> | ID: 20 | value: 1 | valueType: <pysdql.core.dtypes.sdql_ir.IntType object at 0x0000019B4FC82190>\n",
      "│      │      │             │             └───── nodeType: <class 'pysdql.core.dtypes.sdql_ir.RecAccessExpr'> | ID: 22 | name: l_tax\n",
      "│      │      │             │                    └───── nodeType: <class 'pysdql.core.dtypes.sdql_ir.PairAccessExpr'> | ID: 21 | index: 0\n",
      "│      │      │             │                           └───── nodeType: <class 'pysdql.core.dtypes.sdql_ir.VarExpr'> | ID: 1 | name: x_li\n",
      "│      │      │             └───── nodeType: <class 'pysdql.core.dtypes.sdql_ir.ConstantExpr'> | ID: 35 | value: 1 | valueType: <pysdql.core.dtypes.sdql_ir.IntType object at 0x0000019B4FC82820>\n",
      "│      │      └───── nodeType: <class 'pysdql.core.dtypes.sdql_ir.ConstantExpr'> | ID: 121 | value: None | valueType: None\n",
      "│      └───── nodeType: <class 'pysdql.core.dtypes.sdql_ir.VarExpr'> | ID: 125 | name: v4\n",
      "└───── nodeType: <class 'pysdql.core.dtypes.sdql_ir.LetExpr'> | ID: 139\n",
      "       ├───── nodeType: <class 'pysdql.core.dtypes.sdql_ir.VarExpr'> | ID: 97 | name: li_filter_insert_insert_groupby_agg\n",
      "       ├───── nodeType: <class 'pysdql.core.dtypes.sdql_ir.SumExpr'> | ID: 133\n",
      "       │      ├───── nodeType: <class 'pysdql.core.dtypes.sdql_ir.VarExpr'> | ID: 127 | name: v5\n",
      "       │      ├───── nodeType: <class 'pysdql.core.dtypes.sdql_ir.VarExpr'> | ID: 95 | name: li_groupby_agg\n",
      "       │      ├───── nodeType: <class 'pysdql.core.dtypes.sdql_ir.DicConsExpr'> | ID: 132\n",
      "       │      │      ├───── nodeType: <class 'pysdql.core.dtypes.sdql_ir.ConcatExpr'> | ID: 130\n",
      "       │      │      │      ├───── nodeType: <class 'pysdql.core.dtypes.sdql_ir.PairAccessExpr'> | ID: 128 | index: 0\n",
      "       │      │      │      │      └───── nodeType: <class 'pysdql.core.dtypes.sdql_ir.VarExpr'> | ID: 127 | name: v5\n",
      "       │      │      │      └───── nodeType: <class 'pysdql.core.dtypes.sdql_ir.PairAccessExpr'> | ID: 129 | index: 1\n",
      "       │      │      │             └───── nodeType: <class 'pysdql.core.dtypes.sdql_ir.VarExpr'> | ID: 127 | name: v5\n",
      "       │      │      └───── nodeType: <class 'pysdql.core.dtypes.sdql_ir.ConstantExpr'> | ID: 131 | value: True | valueType: <pysdql.core.dtypes.sdql_ir.BoolType object at 0x0000019B4FC82E20>\n",
      "       │      └───── nodeType: <class 'pysdql.core.dtypes.sdql_ir.VarExpr'> | ID: 134 | name: v6\n",
      "       └───── nodeType: <class 'pysdql.core.dtypes.sdql_ir.LetExpr'> | ID: 138\n",
      "              ├───── nodeType: <class 'pysdql.core.dtypes.sdql_ir.VarExpr'> | ID: 136 | name: out\n",
      "              ├───── nodeType: <class 'pysdql.core.dtypes.sdql_ir.VarExpr'> | ID: 97 | name: li_filter_insert_insert_groupby_agg\n",
      "              └───── nodeType: <class 'pysdql.core.dtypes.sdql_ir.ConstantExpr'> | ID: 137 | value: True | valueType: <pysdql.core.dtypes.sdql_ir.BoolType object at 0x0000019B4FC82FD0>\n"
     ]
    }
   ],
   "source": [
    "PrintAST(result.optimize())"
   ]
  },
  {
   "cell_type": "code",
   "execution_count": 6,
   "metadata": {},
   "outputs": [
    {
     "name": "stdout",
     "output_type": "stream",
     "text": [
      "let li_groupby_agg = sum (x_li in db->li_dataset) if (x_li[0].l_shipdate <= 19980902) then { < l_returnflag: x_li[0].l_returnflag, l_linestatus: x_li[0].l_linestatus> -> < sum_qty: x_li[0].l_quantity, sum_base_price: x_li[0].l_extendedprice, sum_disc_price: x_li[0].l_extendedprice * 1 - x_li[0].l_discount, sum_charge: x_li[0].l_extendedprice * 1 - x_li[0].l_discount * 1 + x_li[0].l_tax, count_order: 1> } else none in let li_filter_insert_insert_groupby_agg = sum (v8 in li_groupby_agg) { recordconcat(v8[0],v8[1]) -> true } in let out = li_filter_insert_insert_groupby_agg in true\n"
     ]
    }
   ],
   "source": [
    "print(GenerateSDQLCode(result.optimize()))"
   ]
  },
  {
   "cell_type": "markdown",
   "metadata": {},
   "source": [
    "# Q3"
   ]
  },
  {
   "cell_type": "code",
   "execution_count": 7,
   "metadata": {},
   "outputs": [],
   "source": [
    "cu = DataFrame()\n",
    "ord = DataFrame()\n",
    "li = DataFrame()\n",
    "\n",
    "cu_filt = cu[cu.c_mktsegment == \"BUILDING\"]\n",
    "cu_filt = cu_filt[[\"c_custkey\"]]\n",
    "\n",
    "# print(cu_filt.operations)\n",
    "\n",
    "ord_filt = ord[ord.o_orderdate < \"1995-03-15\"]\n",
    "ord_cu_join = pd.merge(cu_filt, ord_filt, left_on=\"c_custkey\", right_on=\"o_custkey\", how=\"inner\")\n",
    "ord_cu_join = ord_cu_join[[\"o_orderkey\", \"o_orderdate\", \"o_shippriority\"]]\n",
    "\n",
    "# li_filt = li[li.l_shipdate > \"1995-03-15\"]\n",
    "# li_order_join = pd.merge(ord_cu_join, li_filt, left_on=\"o_orderkey\", right_on=\"l_orderkey\", how=\"inner\")\n",
    "# li_order_join[\"revenue\"] = li_order_join.l_extendedprice * (1 - li_order_join.l_discount)\n",
    "#\n",
    "# result = li_order_join \\\n",
    "#     .groupby([\"l_orderkey\", \"o_orderdate\", \"o_shippriority\"]) \\\n",
    "#     .agg(revenue=(\"revenue\", \"sum\"))\n",
    "\n",
    "# return result"
   ]
  },
  {
   "cell_type": "code",
   "execution_count": 8,
   "metadata": {},
   "outputs": [
    {
     "name": "stdout",
     "output_type": "stream",
     "text": [
      "{'iter': False, 'op': CompareExpr(CompareSymbol.EQ, RecAccessExpr(PairAccessExpr(x_cu, 0), 'c_mktsegment'), ConstantExpr(\"BUILDING\")), 'op_type': <class 'pysdql.core.dtypes.CondExpr.CondExpr'>, 'on': cu, 'ret_type': None}\n",
      "{'iter': False, 'op': {'proj_on': cu, 'proj_cols': ['c_custkey']}, 'op_type': <class 'pysdql.core.dtypes.ColProjExpr.ColProjExpr'>, 'on': cu, 'ret_type': None}\n",
      "{'iter': True, 'op': {'left': cu, 'right': ord, 'how': 'inner', 'left_on': 'c_custkey', 'right_on': 'o_custkey'}, 'op_type': <class 'pysdql.core.dtypes.MergeExpr.MergeExpr'>, 'on': cu, 'ret_type': None}\n"
     ]
    }
   ],
   "source": [
    "print(cu_filt.operations)"
   ]
  },
  {
   "cell_type": "code",
   "execution_count": 9,
   "metadata": {},
   "outputs": [
    {
     "name": "stdout",
     "output_type": "stream",
     "text": [
      "{'iter': False, 'op': CompareExpr(CompareSymbol.LT, RecAccessExpr(PairAccessExpr(x_ord, 0), 'o_orderdate'), ConstantExpr(19950315)), 'op_type': <class 'pysdql.core.dtypes.CondExpr.CondExpr'>, 'on': ord, 'ret_type': None}\n",
      "{'iter': True, 'op': {'left': cu, 'right': ord, 'how': 'inner', 'left_on': 'c_custkey', 'right_on': 'o_custkey'}, 'op_type': <class 'pysdql.core.dtypes.MergeExpr.MergeExpr'>, 'on': ord, 'ret_type': None}\n",
      "{'iter': False, 'op': {'proj_on': ord, 'proj_cols': ['o_orderkey', 'o_orderdate', 'o_shippriority']}, 'op_type': <class 'pysdql.core.dtypes.ColProjExpr.ColProjExpr'>, 'on': ord, 'ret_type': None}\n"
     ]
    }
   ],
   "source": [
    "print(ord_cu_join.operations)"
   ]
  },
  {
   "cell_type": "code",
   "execution_count": 10,
   "metadata": {},
   "outputs": [
    {
     "name": "stdout",
     "output_type": "stream",
     "text": [
      "LetExpr(cu_filter_proj_merge, SumExpr(x_cu, db->cu_dataset, IfExpr(CompareExpr(CompareSymbol.EQ, RecAccessExpr(PairAccessExpr(x_cu, 0), 'c_mktsegment'), ConstantExpr(\"BUILDING\")), DicConsExpr([(RecConsExpr([('c_custkey', RecAccessExpr(PairAccessExpr(x_cu, 0), 'c_custkey'))]), RecConsExpr([('c_custkey', RecAccessExpr(PairAccessExpr(x_cu, 0), 'c_custkey'))]))]), ConstantExpr(None)), False), ConstantExpr(\"Here is the right part of hash join!\"))\n"
     ]
    }
   ],
   "source": [
    "print(cu_filt.merge_left_stmt(ConstantExpr('Here is the right part of hash join!')))"
   ]
  },
  {
   "cell_type": "code",
   "execution_count": 11,
   "metadata": {},
   "outputs": [
    {
     "name": "stdout",
     "output_type": "stream",
     "text": [
      "LetExpr(ord_filter_merge_proj, SumExpr(x_ord, db->ord_dataset, IfExpr(CompareExpr(CompareSymbol.LT, RecAccessExpr(PairAccessExpr(x_ord, 0), 'o_orderdate'), ConstantExpr(19950315)), IfExpr(CompareExpr(CompareSymbol.NE, DicLookupExpr(cu_filter_proj_merge, RecAccessExpr(PairAccessExpr(x_ord, 0), 'o_custkey')), ConstantExpr(None)), DicConsExpr([(RecConsExpr([('o_custkey', RecAccessExpr(PairAccessExpr(x_ord, 0), 'o_custkey'))]), RecConsExpr([('o_orderkey', RecAccessExpr(PairAccessExpr(x_ord, 0), 'o_orderkey')), ('o_orderdate', RecAccessExpr(PairAccessExpr(x_ord, 0), 'o_orderdate')), ('o_shippriority', RecAccessExpr(PairAccessExpr(x_ord, 0), 'o_shippriority'))]))]), ConstantExpr(None)), ConstantExpr(None)), False), ConstantExpr(\"Here is the next LetExpr!\"))\n"
     ]
    }
   ],
   "source": [
    "print(ord_cu_join.merge_right_stmt(ConstantExpr('Here is the next LetExpr!')))"
   ]
  },
  {
   "cell_type": "markdown",
   "metadata": {},
   "source": [
    "# Q6"
   ]
  },
  {
   "cell_type": "code",
   "execution_count": 12,
   "metadata": {
    "pycharm": {
     "name": "#%%\n"
    }
   },
   "outputs": [],
   "source": [
    "li = DataFrame()\n",
    "\n",
    "li_filt = li[\n",
    "    (li.l_shipdate >= \"1994-01-01\") &\n",
    "    (li.l_shipdate < \"1995-01-01\") &\n",
    "    (li.l_discount >= 0.05) &\n",
    "    (li.l_discount <= 0.07) &\n",
    "    (li.l_quantity < 24)\n",
    "    ]\n",
    "\n",
    "result = (li_filt.l_extendedprice * li_filt.l_discount).sum()"
   ]
  },
  {
   "cell_type": "code",
   "execution_count": 13,
   "metadata": {},
   "outputs": [
    {
     "name": "stdout",
     "output_type": "stream",
     "text": [
      "{'iter': False, 'op': MulExpr(MulExpr(MulExpr(MulExpr(CompareExpr(CompareSymbol.GTE, RecAccessExpr(PairAccessExpr(x_li, 0), 'l_shipdate'), ConstantExpr(19940101)), CompareExpr(CompareSymbol.LT, RecAccessExpr(PairAccessExpr(x_li, 0), 'l_shipdate'), ConstantExpr(19950101))), CompareExpr(CompareSymbol.GTE, RecAccessExpr(PairAccessExpr(x_li, 0), 'l_discount'), ConstantExpr(0.05))), CompareExpr(CompareSymbol.LTE, RecAccessExpr(PairAccessExpr(x_li, 0), 'l_discount'), ConstantExpr(0.07))), CompareExpr(CompareSymbol.LT, RecAccessExpr(PairAccessExpr(x_li, 0), 'l_quantity'), ConstantExpr(24))), 'op_type': <class 'pysdql.core.dtypes.CondExpr.CondExpr'>, 'on': li, 'ret_type': None}\n",
      "{'iter': True, 'op': MulExpr(RecAccessExpr(PairAccessExpr(x_li, 0), 'l_extendedprice'), RecAccessExpr(PairAccessExpr(x_li, 0), 'l_discount')), 'op_type': <class 'pysdql.core.dtypes.AggrExpr.AggrExpr'>, 'on': li, 'ret_type': None}\n"
     ]
    }
   ],
   "source": [
    "print(result.operations)"
   ]
  },
  {
   "cell_type": "code",
   "execution_count": 14,
   "metadata": {},
   "outputs": [
    {
     "name": "stdout",
     "output_type": "stream",
     "text": [
      "LetExpr(result, SumExpr(x_li, db->li_dataset, IfExpr(MulExpr(MulExpr(MulExpr(MulExpr(CompareExpr(CompareSymbol.GTE, RecAccessExpr(PairAccessExpr(x_li, 0), 'l_shipdate'), ConstantExpr(19940101)), CompareExpr(CompareSymbol.LT, RecAccessExpr(PairAccessExpr(x_li, 0), 'l_shipdate'), ConstantExpr(19950101))), CompareExpr(CompareSymbol.GTE, RecAccessExpr(PairAccessExpr(x_li, 0), 'l_discount'), ConstantExpr(0.05))), CompareExpr(CompareSymbol.LTE, RecAccessExpr(PairAccessExpr(x_li, 0), 'l_discount'), ConstantExpr(0.07))), CompareExpr(CompareSymbol.LT, RecAccessExpr(PairAccessExpr(x_li, 0), 'l_quantity'), ConstantExpr(24))), MulExpr(RecAccessExpr(PairAccessExpr(x_li, 0), 'l_extendedprice'), RecAccessExpr(PairAccessExpr(x_li, 0), 'l_discount')), ConstantExpr(0.0)), False), LetExpr(out, result, ConstantExpr(True)))\n"
     ]
    }
   ],
   "source": [
    "print(result.optimize())"
   ]
  },
  {
   "cell_type": "code",
   "execution_count": 15,
   "metadata": {},
   "outputs": [
    {
     "name": "stdout",
     "output_type": "stream",
     "text": [
      "nodeType: <class 'pysdql.core.dtypes.sdql_ir.LetExpr'> | ID: 432\n",
      "├───── nodeType: <class 'pysdql.core.dtypes.sdql_ir.VarExpr'> | ID: 425 | name: result\n",
      "├───── nodeType: <class 'pysdql.core.dtypes.sdql_ir.SumExpr'> | ID: 426\n",
      "│      ├───── nodeType: <class 'pysdql.core.dtypes.sdql_ir.VarExpr'> | ID: 330 | name: x_li\n",
      "│      ├───── nodeType: <class 'pysdql.core.dtypes.sdql_ir.VarExpr'> | ID: 331 | name: db->li_dataset\n",
      "│      ├───── nodeType: <class 'pysdql.core.dtypes.sdql_ir.IfExpr'> | ID: 423\n",
      "│      │      ├───── nodeType: <class 'pysdql.core.dtypes.sdql_ir.MulExpr'> | ID: 422\n",
      "│      │      │      ├───── nodeType: <class 'pysdql.core.dtypes.sdql_ir.MulExpr'> | ID: 350\n",
      "│      │      │      │      ├───── nodeType: <class 'pysdql.core.dtypes.sdql_ir.MulExpr'> | ID: 345\n",
      "│      │      │      │      │      ├───── nodeType: <class 'pysdql.core.dtypes.sdql_ir.MulExpr'> | ID: 340\n",
      "│      │      │      │      │      │      ├───── nodeType: <class 'pysdql.core.dtypes.sdql_ir.CompareExpr'> | ID: 338 | compareType: CompareSymbol.GTE\n",
      "│      │      │      │      │      │      │      ├───── nodeType: <class 'pysdql.core.dtypes.sdql_ir.RecAccessExpr'> | ID: 333 | name: l_shipdate\n",
      "│      │      │      │      │      │      │      │      └───── nodeType: <class 'pysdql.core.dtypes.sdql_ir.PairAccessExpr'> | ID: 332 | index: 0\n",
      "│      │      │      │      │      │      │      │             └───── nodeType: <class 'pysdql.core.dtypes.sdql_ir.VarExpr'> | ID: 330 | name: x_li\n",
      "│      │      │      │      │      │      │      └───── nodeType: <class 'pysdql.core.dtypes.sdql_ir.ConstantExpr'> | ID: 334 | value: 19940101 | valueType: <pysdql.core.dtypes.sdql_ir.IntType object at 0x0000019B4FC82D60>\n",
      "│      │      │      │      │      │      └───── nodeType: <class 'pysdql.core.dtypes.sdql_ir.CompareExpr'> | ID: 339 | compareType: CompareSymbol.LT\n",
      "│      │      │      │      │      │             ├───── nodeType: <class 'pysdql.core.dtypes.sdql_ir.RecAccessExpr'> | ID: 336 | name: l_shipdate\n",
      "│      │      │      │      │      │             │      └───── nodeType: <class 'pysdql.core.dtypes.sdql_ir.PairAccessExpr'> | ID: 335 | index: 0\n",
      "│      │      │      │      │      │             │             └───── nodeType: <class 'pysdql.core.dtypes.sdql_ir.VarExpr'> | ID: 330 | name: x_li\n",
      "│      │      │      │      │      │             └───── nodeType: <class 'pysdql.core.dtypes.sdql_ir.ConstantExpr'> | ID: 337 | value: 19950101 | valueType: <pysdql.core.dtypes.sdql_ir.IntType object at 0x0000019B4FCADD00>\n",
      "│      │      │      │      │      └───── nodeType: <class 'pysdql.core.dtypes.sdql_ir.CompareExpr'> | ID: 344 | compareType: CompareSymbol.GTE\n",
      "│      │      │      │      │             ├───── nodeType: <class 'pysdql.core.dtypes.sdql_ir.RecAccessExpr'> | ID: 342 | name: l_discount\n",
      "│      │      │      │      │             │      └───── nodeType: <class 'pysdql.core.dtypes.sdql_ir.PairAccessExpr'> | ID: 341 | index: 0\n",
      "│      │      │      │      │             │             └───── nodeType: <class 'pysdql.core.dtypes.sdql_ir.VarExpr'> | ID: 330 | name: x_li\n",
      "│      │      │      │      │             └───── nodeType: <class 'pysdql.core.dtypes.sdql_ir.ConstantExpr'> | ID: 343 | value: 0.05 | valueType: <pysdql.core.dtypes.sdql_ir.FloatType object at 0x0000019B4FCAD8B0>\n",
      "│      │      │      │      └───── nodeType: <class 'pysdql.core.dtypes.sdql_ir.CompareExpr'> | ID: 349 | compareType: CompareSymbol.LTE\n",
      "│      │      │      │             ├───── nodeType: <class 'pysdql.core.dtypes.sdql_ir.RecAccessExpr'> | ID: 347 | name: l_discount\n",
      "│      │      │      │             │      └───── nodeType: <class 'pysdql.core.dtypes.sdql_ir.PairAccessExpr'> | ID: 346 | index: 0\n",
      "│      │      │      │             │             └───── nodeType: <class 'pysdql.core.dtypes.sdql_ir.VarExpr'> | ID: 330 | name: x_li\n",
      "│      │      │      │             └───── nodeType: <class 'pysdql.core.dtypes.sdql_ir.ConstantExpr'> | ID: 348 | value: 0.07 | valueType: <pysdql.core.dtypes.sdql_ir.FloatType object at 0x0000019B4FCAD790>\n",
      "│      │      │      └───── nodeType: <class 'pysdql.core.dtypes.sdql_ir.CompareExpr'> | ID: 354 | compareType: CompareSymbol.LT\n",
      "│      │      │             ├───── nodeType: <class 'pysdql.core.dtypes.sdql_ir.RecAccessExpr'> | ID: 352 | name: l_quantity\n",
      "│      │      │             │      └───── nodeType: <class 'pysdql.core.dtypes.sdql_ir.PairAccessExpr'> | ID: 351 | index: 0\n",
      "│      │      │             │             └───── nodeType: <class 'pysdql.core.dtypes.sdql_ir.VarExpr'> | ID: 330 | name: x_li\n",
      "│      │      │             └───── nodeType: <class 'pysdql.core.dtypes.sdql_ir.ConstantExpr'> | ID: 353 | value: 24 | valueType: <pysdql.core.dtypes.sdql_ir.IntType object at 0x0000019B4FCADFA0>\n",
      "│      │      ├───── nodeType: <class 'pysdql.core.dtypes.sdql_ir.MulExpr'> | ID: 360\n",
      "│      │      │      ├───── nodeType: <class 'pysdql.core.dtypes.sdql_ir.RecAccessExpr'> | ID: 357 | name: l_extendedprice\n",
      "│      │      │      │      └───── nodeType: <class 'pysdql.core.dtypes.sdql_ir.PairAccessExpr'> | ID: 356 | index: 0\n",
      "│      │      │      │             └───── nodeType: <class 'pysdql.core.dtypes.sdql_ir.VarExpr'> | ID: 330 | name: x_li\n",
      "│      │      │      └───── nodeType: <class 'pysdql.core.dtypes.sdql_ir.RecAccessExpr'> | ID: 359 | name: l_discount\n",
      "│      │      │             └───── nodeType: <class 'pysdql.core.dtypes.sdql_ir.PairAccessExpr'> | ID: 358 | index: 0\n",
      "│      │      │                    └───── nodeType: <class 'pysdql.core.dtypes.sdql_ir.VarExpr'> | ID: 330 | name: x_li\n",
      "│      │      └───── nodeType: <class 'pysdql.core.dtypes.sdql_ir.ConstantExpr'> | ID: 361 | value: 0.0 | valueType: <pysdql.core.dtypes.sdql_ir.FloatType object at 0x0000019B4FCAD4F0>\n",
      "│      └───── nodeType: <class 'pysdql.core.dtypes.sdql_ir.VarExpr'> | ID: 427 | name: v13\n",
      "└───── nodeType: <class 'pysdql.core.dtypes.sdql_ir.LetExpr'> | ID: 431\n",
      "       ├───── nodeType: <class 'pysdql.core.dtypes.sdql_ir.VarExpr'> | ID: 429 | name: out\n",
      "       ├───── nodeType: <class 'pysdql.core.dtypes.sdql_ir.VarExpr'> | ID: 425 | name: result\n",
      "       └───── nodeType: <class 'pysdql.core.dtypes.sdql_ir.ConstantExpr'> | ID: 430 | value: True | valueType: <pysdql.core.dtypes.sdql_ir.BoolType object at 0x0000019B4FC21340>\n"
     ]
    }
   ],
   "source": [
    "PrintAST(result.optimize())"
   ]
  },
  {
   "cell_type": "code",
   "execution_count": 16,
   "metadata": {},
   "outputs": [
    {
     "name": "stdout",
     "output_type": "stream",
     "text": [
      "let result = sum (x_li in db->li_dataset) if (x_li[0].l_shipdate >= 19940101 * x_li[0].l_shipdate < 19950101 * x_li[0].l_discount >= 0.05 * x_li[0].l_discount <= 0.07 * x_li[0].l_quantity < 24) then x_li[0].l_extendedprice * x_li[0].l_discount else 0.0 in let out = result in true\n"
     ]
    }
   ],
   "source": [
    "print(GenerateSDQLCode(result.optimize()))"
   ]
  },
  {
   "cell_type": "code",
   "execution_count": null,
   "metadata": {},
   "outputs": [],
   "source": []
  }
 ],
 "metadata": {
  "kernelspec": {
   "display_name": "Python 3 (ipykernel)",
   "language": "python",
   "name": "python3"
  },
  "language_info": {
   "codemirror_mode": {
    "name": "ipython",
    "version": 3
   },
   "file_extension": ".py",
   "mimetype": "text/x-python",
   "name": "python",
   "nbconvert_exporter": "python",
   "pygments_lexer": "ipython3",
   "version": "3.8.13"
  }
 },
 "nbformat": 4,
 "nbformat_minor": 1
}
