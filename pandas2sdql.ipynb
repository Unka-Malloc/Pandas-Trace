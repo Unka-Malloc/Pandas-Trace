{
 "cells": [
  {
   "cell_type": "code",
   "execution_count": 1,
   "metadata": {
    "pycharm": {
     "is_executing": true
    }
   },
   "outputs": [],
   "source": [
    "from pysdql import DataFrame"
   ]
  },
  {
   "cell_type": "code",
   "execution_count": 2,
   "metadata": {
    "pycharm": {
     "name": "#%%\n"
    }
   },
   "outputs": [
    {
     "data": {
      "text/plain": [
       "'li_filter_insert_insert_groupby_agg = li.sum(lambda p: {record({\"l_returnflag\": p[0].l_returnflag, \"l_linestatus\": p[0].l_linestatus}): record({\"sum_qty\": p[0].l_quantity, \"sum_base_price\": p[0].l_extendedprice, \"sum_disc_price\": (p[0].l_extendedprice * (1 - p[0].l_discount)), \"sum_charge\": ((p[0].l_extendedprice * (1 - p[0].l_discount)) * (1 + p[0].l_tax)), \"count_order\": 1})} if (p[0].l_shipdate <= 19980902) else None, True).sum(lambda p: {p[0].concat(p[1]): True}, True)'"
      ]
     },
     "execution_count": 2,
     "metadata": {},
     "output_type": "execute_result"
    }
   ],
   "source": [
    "li = DataFrame()\n",
    "\n",
    "li_filt = li[(li.l_shipdate <= \"1998-09-02\")]\n",
    "li_filt[\"disc_price\"] = li_filt.l_extendedprice * (1 - li_filt.l_discount)\n",
    "li_filt[\"charge\"] = li_filt.l_extendedprice * (1 - li_filt.l_discount) * (1 + li_filt.l_tax)\n",
    "\n",
    "result = li_filt \\\n",
    "    .groupby([\"l_returnflag\", \"l_linestatus\"]) \\\n",
    "    .agg(sum_qty=(\"l_quantity\", \"sum\"),\n",
    "         sum_base_price=(\"l_extendedprice\", \"sum\"),\n",
    "         sum_disc_price=(\"disc_price\", \"sum\"),\n",
    "         sum_charge=(\"charge\", \"sum\"),\n",
    "         count_order=(\"l_quantity\", \"count\")\n",
    "         )\n",
    "\n",
    "result.optimize()"
   ]
  },
  {
   "cell_type": "code",
   "execution_count": 3,
   "metadata": {
    "pycharm": {
     "name": "#%%\n"
    }
   },
   "outputs": [
    {
     "data": {
      "text/plain": [
       "'li_filter_sum = li.sum(lambda p: (p[0].l_extendedprice * p[0].l_discount) if (((((19940101 <= p[0].l_shipdate) and (p[0].l_shipdate < 19950101)) and (0.05 <= p[0].l_discount)) and (p[0].l_discount <= 0.07)) and (p[0].l_quantity < 24)) else 0.0, True)'"
      ]
     },
     "execution_count": 3,
     "metadata": {},
     "output_type": "execute_result"
    }
   ],
   "source": [
    "li = DataFrame()\n",
    "\n",
    "li_filt = li[\n",
    "    (li.l_shipdate >= \"1994-01-01\") &\n",
    "    (li.l_shipdate < \"1995-01-01\") &\n",
    "    (li.l_discount >= 0.05) &\n",
    "    (li.l_discount <= 0.07) &\n",
    "    (li.l_quantity < 24)\n",
    "    ]\n",
    "\n",
    "result = (li_filt.l_extendedprice * li_filt.l_discount).sum()\n",
    "\n",
    "result.optimize()"
   ]
  },
  {
   "cell_type": "code",
   "execution_count": null,
   "metadata": {},
   "outputs": [],
   "source": []
  }
 ],
 "metadata": {
  "kernelspec": {
   "display_name": "Python 3 (ipykernel)",
   "language": "python",
   "name": "python3"
  },
  "language_info": {
   "codemirror_mode": {
    "name": "ipython",
    "version": 3
   },
   "file_extension": ".py",
   "mimetype": "text/x-python",
   "name": "python",
   "nbconvert_exporter": "python",
   "pygments_lexer": "ipython3",
   "version": "3.8.13"
  }
 },
 "nbformat": 4,
 "nbformat_minor": 1
}
