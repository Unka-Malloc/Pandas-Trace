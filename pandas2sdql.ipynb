{
 "cells": [
  {
   "cell_type": "code",
   "execution_count": 1,
   "metadata": {
    "pycharm": {
     "name": "#%%\n"
    }
   },
   "outputs": [],
   "source": [
    "import pysdql"
   ]
  },
  {
   "cell_type": "code",
   "execution_count": null,
   "metadata": {
    "pycharm": {
     "is_executing": true,
     "name": "#%%\n"
    },
    "scrolled": false
   },
   "outputs": [
    {
     "name": "stdout",
     "output_type": "stream",
     "text": [
      ">> Query 1 <<\n",
      "SDQL Running...\n",
      ">> Optimized Query <<\n",
      "lineitem_aggr = li.sum(lambda x_lineitem: ({record({\"l_returnflag\": x_lineitem[0].l_returnflag, \"l_linestatus\": x_lineitem[0].l_linestatus}): record({\"sum_qty\": x_lineitem[0].l_quantity, \"sum_base_price\": x_lineitem[0].l_extendedprice, \"sum_disc_price\": ((x_lineitem[0].l_extendedprice) * (((1.0) - (x_lineitem[0].l_discount)))), \"sum_charge\": ((((x_lineitem[0].l_extendedprice) * (((1.0) - (x_lineitem[0].l_discount))))) * (((1.0) + (x_lineitem[0].l_tax)))), \"count_order\": 1})}) if (x_lineitem[0].l_shipdate <= 19980902) else (None))\n",
      "\n",
      "results = lineitem_aggr.sum(lambda x_lineitem_aggr: {x_lineitem_aggr[0].concat(x_lineitem_aggr[1]): True})\n",
      "\n",
      "Pandas Running...\n",
      "Query 1: Pass\n",
      ">> Query 3 <<\n",
      "SDQL Running...\n",
      ">> Optimized Query <<\n",
      "building = \"BUILDING\"\n",
      "customer_part = cu.sum(lambda x_customer: ({x_customer[0].c_custkey: True}) if (x_customer[0].c_mktsegment == building) else (None))\n",
      "\n",
      "customer_orders = ord.sum(lambda x_orders: (({x_orders[0].o_orderkey: record({\"o_orderdate\": x_orders[0].o_orderdate, \"o_orderkey\": x_orders[0].o_orderkey, \"o_shippriority\": x_orders[0].o_shippriority})}) if (customer_part[x_orders[0].o_custkey] != None) else (None)) if (x_orders[0].o_orderdate < 19950315) else (None))\n",
      "\n",
      "lineitem_aggr = li.sum(lambda x_lineitem: (({record({\"l_orderkey\": x_lineitem[0].l_orderkey, \"o_orderdate\": customer_orders[x_lineitem[0].l_orderkey].o_orderdate, \"o_shippriority\": customer_orders[x_lineitem[0].l_orderkey].o_shippriority}): ((x_lineitem[0].l_extendedprice) * (((1.0) - (x_lineitem[0].l_discount))))}) if (customer_orders[x_lineitem[0].l_orderkey] != None) else (None)) if (x_lineitem[0].l_shipdate > 19950315) else (None))\n",
      "\n",
      "results = lineitem_aggr.sum(lambda x_lineitem_aggr: {record({\"l_orderkey\": x_lineitem_aggr[0].l_orderkey, \"o_orderdate\": x_lineitem_aggr[0].o_orderdate, \"o_shippriority\": x_lineitem_aggr[0].o_shippriority, \"revenue\": x_lineitem_aggr[1]}): True})\n",
      "\n",
      "Pandas Running...\n",
      "Query 3: Pass\n",
      ">> Query 4 <<\n",
      "SDQL Running...\n",
      ">> Optimized Query <<\n",
      "lineitem_part = li.sum(lambda x_lineitem: ({x_lineitem[0].l_orderkey: True}) if (x_lineitem[0].l_commitdate < x_lineitem[0].l_receiptdate) else (None))\n",
      "\n",
      "orders_aggr = ord.sum(lambda x_orders: (({x_orders[0].o_orderpriority: 1}) if (lineitem_part[x_orders[0].o_orderkey] != None) else (None)) if (((x_orders[0].o_orderdate >= 19930701) * (x_orders[0].o_orderdate < 19931001))) else (None))\n",
      "\n",
      "results = orders_aggr.sum(lambda x_orders_aggr: {record({\"o_orderpriority\": x_orders_aggr[0], \"order_count\": x_orders_aggr[1]}): True})\n",
      "\n",
      "Pandas Running...\n",
      "Query 4: Pass\n",
      ">> Query 6 <<\n",
      "SDQL Running...\n",
      ">> Optimized Query <<\n",
      "lineitem_aggr = li.sum(lambda x_lineitem: (((x_lineitem[0].l_extendedprice) * (x_lineitem[0].l_discount))) if (((((((((x_lineitem[0].l_shipdate >= 19940101) * (x_lineitem[0].l_shipdate < 19950101))) * (x_lineitem[0].l_discount >= 0.049999999999999996))) * (x_lineitem[0].l_discount <= 0.06999999999999999))) * (x_lineitem[0].l_quantity < 24))) else (0.0))\n",
      "\n",
      "results = {record({\"revenue\": lineitem_aggr}): True}\n",
      "Pandas Running...\n",
      "Query 6: Pass\n",
      ">> Query 10 <<\n",
      "SDQL Running...\n",
      ">> Optimized Query <<\n",
      "r = \"R\"\n",
      "nation_part = na.sum(lambda x_nation: {x_nation[0].n_nationkey: record({\"n_name\": x_nation[0].n_name})})\n",
      "\n",
      "customer_part = cu.sum(lambda x_customer: {x_customer[0].c_custkey: record({\"c_custkey\": x_customer[0].c_custkey, \"c_name\": x_customer[0].c_name, \"c_acctbal\": x_customer[0].c_acctbal, \"c_phone\": x_customer[0].c_phone, \"c_address\": x_customer[0].c_address, \"c_comment\": x_customer[0].c_comment, \"c_nationkey\": x_customer[0].c_nationkey})})\n",
      "\n",
      "nation_customer_orders = ord.sum(lambda x_orders: (({x_orders[0].o_orderkey: record({\"c_acctbal\": customer_part[x_orders[0].o_custkey].c_acctbal, \"c_address\": customer_part[x_orders[0].o_custkey].c_address, \"c_comment\": customer_part[x_orders[0].o_custkey].c_comment, \"c_custkey\": x_orders[0].o_custkey, \"c_name\": customer_part[x_orders[0].o_custkey].c_name, \"c_phone\": customer_part[x_orders[0].o_custkey].c_phone, \"n_name\": nation_part[customer_part[x_orders[0].o_custkey].c_nationkey].n_name})}) if (customer_part[x_orders[0].o_custkey] != None) else (None)) if (((x_orders[0].o_orderdate >= 19931001) * (x_orders[0].o_orderdate < 19940101))) else (None))\n",
      "\n",
      "lineitem_aggr = li.sum(lambda x_lineitem: (({record({\"c_custkey\": nation_customer_orders[x_lineitem[0].l_orderkey].c_custkey, \"c_name\": nation_customer_orders[x_lineitem[0].l_orderkey].c_name, \"c_acctbal\": nation_customer_orders[x_lineitem[0].l_orderkey].c_acctbal, \"c_phone\": nation_customer_orders[x_lineitem[0].l_orderkey].c_phone, \"n_name\": nation_customer_orders[x_lineitem[0].l_orderkey].n_name, \"c_address\": nation_customer_orders[x_lineitem[0].l_orderkey].c_address, \"c_comment\": nation_customer_orders[x_lineitem[0].l_orderkey].c_comment}): ((x_lineitem[0].l_extendedprice) * (((1.0) - (x_lineitem[0].l_discount))))}) if (nation_customer_orders[x_lineitem[0].l_orderkey] != None) else (None)) if (x_lineitem[0].l_returnflag == r) else (None))\n",
      "\n",
      "results = lineitem_aggr.sum(lambda x_lineitem_aggr: {record({\"c_custkey\": x_lineitem_aggr[0].c_custkey, \"c_name\": x_lineitem_aggr[0].c_name, \"c_acctbal\": x_lineitem_aggr[0].c_acctbal, \"c_phone\": x_lineitem_aggr[0].c_phone, \"n_name\": x_lineitem_aggr[0].n_name, \"c_address\": x_lineitem_aggr[0].c_address, \"c_comment\": x_lineitem_aggr[0].c_comment, \"revenue\": x_lineitem_aggr[1]}): True})\n",
      "\n",
      "Pandas Running...\n",
      "Query 10: Pass\n",
      ">> Query 14 <<\n",
      "SDQL Running...\n",
      ">> Optimized Query <<\n",
      "promo = \"PROMO\"\n",
      "part_part = pa.sum(lambda x_part: ({x_part[0].p_partkey: True}) if (startsWith(x_part[0].p_type, promo)) else (None))\n",
      "\n",
      "part_lineitem = li.sum(lambda x_lineitem: (record({\"A\": (((x_lineitem[0].l_extendedprice) * (((1.0) - (x_lineitem[0].l_discount))))) if (part_part[x_lineitem[0].l_partkey] != None) else (0.0), \"B\": ((x_lineitem[0].l_extendedprice) * (((1.0) - (x_lineitem[0].l_discount))))})) if (((x_lineitem[0].l_shipdate >= 19950901) * (x_lineitem[0].l_shipdate < 19951001))) else (None))\n",
      "\n",
      "results = ((((part_lineitem.A) / (part_lineitem.B))) * (100.0))\n",
      "Pandas Running...\n",
      "Query 14: Pass\n",
      ">> Query 15 <<\n",
      "SDQL Running...\n",
      ">> Optimized Query <<\n",
      "lineitem_aggr = li.sum(lambda x_lineitem: ({x_lineitem[0].l_suppkey: ((x_lineitem[0].l_extendedprice) * (((1.0) - (x_lineitem[0].l_discount))))}) if (((x_lineitem[0].l_shipdate >= 19960101) * (x_lineitem[0].l_shipdate < 19960401))) else (None))\n",
      "\n",
      "supplier_part = su.sum(lambda x_supplier: {x_supplier[0].s_suppkey: record({\"s_suppkey\": x_supplier[0].s_suppkey, \"s_name\": x_supplier[0].s_name, \"s_address\": x_supplier[0].s_address, \"s_phone\": x_supplier[0].s_phone})})\n",
      "\n",
      "results = lineitem_aggr.sum(lambda x_lineitem_aggr: (({record({\"s_suppkey\": x_lineitem_aggr[0], \"s_name\": supplier_part[x_lineitem_aggr[0]].s_name, \"s_address\": supplier_part[x_lineitem_aggr[0]].s_address, \"s_phone\": supplier_part[x_lineitem_aggr[0]].s_phone, \"total_revenue\": x_lineitem_aggr[1]}): True}) if (x_lineitem_aggr[1] == 797313.3838) else (None)) if (supplier_part[x_lineitem_aggr[0]] != None) else (None))\n",
      "\n",
      "Pandas Running...\n",
      "Mismatch Shape!\n",
      "Query 15: Fail\n",
      ">> Query 16 <<\n",
      "SDQL Running...\n",
      ">> Optimized Query <<\n",
      "brand45 = \"Brand#45\"\n",
      "mediumpolished = \"MEDIUM POLISHED\"\n",
      "customer = \"Customer\"\n",
      "complaints = \"Complaints\"\n",
      "part_part = pa.sum(lambda x_part: ({x_part[0].p_partkey: record({\"p_partkey\": x_part[0].p_partkey, \"p_brand\": x_part[0].p_brand, \"p_type\": x_part[0].p_type, \"p_size\": x_part[0].p_size})}) if (((((x_part[0].p_brand != brand45) * (startsWith(x_part[0].p_type, mediumpolished) == False))) * (((((((((((((((x_part[0].p_size == 9) + (x_part[0].p_size == 36))) + (x_part[0].p_size == 49))) + (x_part[0].p_size == 14))) + (x_part[0].p_size == 23))) + (x_part[0].p_size == 45))) + (x_part[0].p_size == 19))) + (x_part[0].p_size == 3))))) else (None))\n",
      "\n",
      "supplier_part = su.sum(lambda x_supplier: ({x_supplier[0].s_suppkey: True}) if (((firstIndex(x_supplier[0].s_comment, customer) != ((-1) * (1))) * (firstIndex(x_supplier[0].s_comment, complaints) > ((firstIndex(x_supplier[0].s_comment, customer)) + (7))))) else (None))\n",
      "\n",
      "partsupp_aggr = ps.sum(lambda x_partsupp: (({record({\"p_brand\": part_part[x_partsupp[0].ps_partkey].p_brand, \"p_type\": part_part[x_partsupp[0].ps_partkey].p_type, \"p_size\": part_part[x_partsupp[0].ps_partkey].p_size}): 1}) if (supplier_part[x_partsupp[0].ps_suppkey] == None) else (None)) if (part_part[x_partsupp[0].ps_partkey] != None) else (None))\n",
      "\n",
      "results = partsupp_aggr.sum(lambda x_partsupp_aggr: {record({\"p_brand\": x_partsupp_aggr[0].p_brand, \"p_type\": x_partsupp_aggr[0].p_type, \"p_size\": x_partsupp_aggr[0].p_size, \"supplier_cnt\": x_partsupp_aggr[1]}): True})\n",
      "\n"
     ]
    },
    {
     "name": "stdout",
     "output_type": "stream",
     "text": [
      "Pandas Running...\n",
      "Query 16: Pass\n",
      ">> Query 18 <<\n",
      "SDQL Running...\n",
      ">> Optimized Query <<\n",
      "customer_part = cu.sum(lambda x_customer: {x_customer[0].c_custkey: record({\"c_custkey\": x_customer[0].c_custkey, \"c_name\": x_customer[0].c_name})})\n",
      "\n",
      "lineitem_aggr = li.sum(lambda x_lineitem: {x_lineitem[0].l_orderkey: x_lineitem[0].l_quantity})\n",
      "\n",
      "lineitem_part = lineitem_aggr.sum(lambda x_lineitem_aggr: ({x_lineitem_aggr[0]: True}) if (x_lineitem_aggr[1] > 200) else (None))\n",
      "\n",
      "customer_orders = ord.sum(lambda x_orders: (({x_orders[0].o_orderkey: record({\"c_custkey\": x_orders[0].o_custkey, \"c_name\": customer_part[x_orders[0].o_custkey].c_name, \"o_orderdate\": x_orders[0].o_orderdate, \"o_orderkey\": x_orders[0].o_orderkey, \"o_totalprice\": x_orders[0].o_totalprice})}) if (lineitem_part[x_orders[0].o_orderkey] != None) else (None)) if (customer_part[x_orders[0].o_custkey] != None) else (None))\n",
      "\n",
      "lineitem_aggr = li.sum(lambda x_lineitem: ({record({\"c_name\": customer_orders[x_lineitem[0].l_orderkey].c_name, \"c_custkey\": customer_orders[x_lineitem[0].l_orderkey].c_custkey, \"o_orderkey\": x_lineitem[0].l_orderkey, \"o_orderdate\": customer_orders[x_lineitem[0].l_orderkey].o_orderdate, \"o_totalprice\": customer_orders[x_lineitem[0].l_orderkey].o_totalprice}): x_lineitem[0].l_quantity}) if (customer_orders[x_lineitem[0].l_orderkey] != None) else (None))\n",
      "\n",
      "results = lineitem_aggr.sum(lambda x_lineitem_aggr: {record({\"c_name\": x_lineitem_aggr[0].c_name, \"c_custkey\": x_lineitem_aggr[0].c_custkey, \"o_orderkey\": x_lineitem_aggr[0].o_orderkey, \"o_orderdate\": x_lineitem_aggr[0].o_orderdate, \"o_totalprice\": x_lineitem_aggr[0].o_totalprice, \"sum_quantity\": x_lineitem_aggr[1]}): True})\n",
      "\n",
      "Pandas Running...\n"
     ]
    }
   ],
   "source": [
    "test_all = pysdql.tpch_query([1, 3, 4, 6, 10, 14, 15, 16, 18, 19], 0, 1, verbose=False)"
   ]
  },
  {
   "cell_type": "code",
   "execution_count": null,
   "metadata": {
    "pycharm": {
     "is_executing": true,
     "name": "#%%\n"
    }
   },
   "outputs": [],
   "source": [
    "print(f'Whether all queries are passed: {test_all}')"
   ]
  }
 ],
 "metadata": {
  "celltoolbar": "Raw Cell Format",
  "kernelspec": {
   "display_name": "Python 3 (ipykernel)",
   "language": "python",
   "name": "python3"
  },
  "language_info": {
   "codemirror_mode": {
    "name": "ipython",
    "version": 3
   },
   "file_extension": ".py",
   "mimetype": "text/x-python",
   "name": "python",
   "nbconvert_exporter": "python",
   "pygments_lexer": "ipython3",
   "version": "3.9.7"
  }
 },
 "nbformat": 4,
 "nbformat_minor": 1
}
