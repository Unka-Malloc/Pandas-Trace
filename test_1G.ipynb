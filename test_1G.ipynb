{
 "cells": [
  {
   "cell_type": "code",
   "execution_count": 1,
   "metadata": {
    "pycharm": {
     "is_executing": true
    },
    "scrolled": false
   },
   "outputs": [
    {
     "name": "stdout",
     "output_type": "stream",
     "text": [
      ">> Query 2 (Q2) <<\n",
      ">> Optimized Query <<\n",
      "============================================================\n",
      "europe = \"EUROPE\"\n",
      "brass = \"BRASS\"\n",
      "region_part = re.sum(lambda x_region: ({x_region[0].r_regionkey: True}) if (x_region[0].r_name == europe) else (None))\n",
      "\n",
      "region_nation = na.sum(lambda x_nation: ({x_nation[0].n_nationkey: record({\"n_nationkey\": x_nation[0].n_nationkey, \"n_name\": x_nation[0].n_name})}) if (region_part[x_nation[0].n_regionkey] != None) else (None))\n",
      "\n",
      "region_nation_supplier = su.sum(lambda x_supplier: ({x_supplier[0].s_suppkey: record({\"s_suppkey\": x_supplier[0].s_suppkey, \"s_acctbal\": x_supplier[0].s_acctbal, \"s_name\": x_supplier[0].s_name, \"n_name\": region_nation[x_supplier[0].s_nationkey].n_name, \"s_address\": x_supplier[0].s_address, \"s_phone\": x_supplier[0].s_phone, \"s_comment\": x_supplier[0].s_comment})}) if (region_nation[x_supplier[0].s_nationkey] != None) else (None))\n",
      "\n",
      "region_nation_supplier_ps1 = ps1.sum(lambda x_ps1: ({x_ps1[0].ps_partkey: record({\"min_supplycost\": x_ps1[0].ps_supplycost, \"ps_partkey\": x_ps1[0].ps_partkey, \"ps_suppkey\": x_ps1[0].ps_suppkey, \"s_suppkey\": x_ps1[0].ps_suppkey})}) if (region_nation_supplier[x_ps1[0].ps_suppkey] != None) else (None))\n",
      "\n",
      "part_part = pa.sum(lambda x_part: ({x_part[0].p_partkey: record({\"p_partkey\": x_part[0].p_partkey, \"p_mfgr\": x_part[0].p_mfgr})}) if (((endsWith(x_part[0].p_type, brass)) * (x_part[0].p_size == 15))) else (None))\n",
      "\n",
      "results = ps.sum(lambda x_partsupp: (((({record({\"s_acctbal\": region_nation_supplier[x_partsupp[0].ps_suppkey].s_acctbal, \"s_name\": region_nation_supplier[x_partsupp[0].ps_suppkey].s_name, \"n_name\": region_nation_supplier[x_partsupp[0].ps_suppkey].n_name, \"p_partkey\": part_part[x_partsupp[0].ps_partkey].p_partkey, \"p_mfgr\": part_part[x_partsupp[0].ps_partkey].p_mfgr, \"s_address\": region_nation_supplier[x_partsupp[0].ps_suppkey].s_address, \"s_phone\": region_nation_supplier[x_partsupp[0].ps_suppkey].s_phone, \"s_comment\": region_nation_supplier[x_partsupp[0].ps_suppkey].s_comment}): True}) if (x_partsupp[0].ps_supplycost == region_nation_supplier_ps1[x_partsupp[0].ps_partkey].min_supplycost) else (None)) if (region_nation_supplier[x_partsupp[0].ps_suppkey] != None) else (None)) if (region_nation_supplier_ps1[x_partsupp[0].ps_partkey] != None) else (None)) if (part_part[x_partsupp[0].ps_partkey] != None) else (None))\n",
      "\n",
      "============================================================\n",
      ">> Comparing SDQL with Pandas ... <<\n",
      "============================================================\n",
      "\u001b[32m Query 2: Pass \u001b[0m\n",
      "============================================================\n",
      ">> Query 16 (Q16) <<\n",
      ">> Optimized Query <<\n",
      "============================================================\n",
      "brand45 = \"Brand#45\"\n",
      "mediumpolished = \"MEDIUM POLISHED\"\n",
      "customer = \"Customer\"\n",
      "complaints = \"Complaints\"\n",
      "part_part = pa.sum(lambda x_part: ({x_part[0].p_partkey: record({\"p_partkey\": x_part[0].p_partkey, \"p_brand\": x_part[0].p_brand, \"p_type\": x_part[0].p_type, \"p_size\": x_part[0].p_size})}) if (((((x_part[0].p_brand != brand45) * (startsWith(x_part[0].p_type, mediumpolished) == False))) * (((((((((((((((x_part[0].p_size == 9) + (x_part[0].p_size == 36))) + (x_part[0].p_size == 49))) + (x_part[0].p_size == 14))) + (x_part[0].p_size == 23))) + (x_part[0].p_size == 45))) + (x_part[0].p_size == 19))) + (x_part[0].p_size == 3))))) else (None))\n",
      "\n",
      "supplier_part = su.sum(lambda x_supplier: ({x_supplier[0].s_suppkey: True}) if (((firstIndex(x_supplier[0].s_comment, customer) != ((-1) * (1))) * (firstIndex(x_supplier[0].s_comment, complaints) > ((firstIndex(x_supplier[0].s_comment, customer)) + (7))))) else (None))\n",
      "\n",
      "partsupp_aggr = ps.sum(lambda x_partsupp: (({record({\"p_brand\": part_part[x_partsupp[0].ps_partkey].p_brand, \"p_type\": part_part[x_partsupp[0].ps_partkey].p_type, \"p_size\": part_part[x_partsupp[0].ps_partkey].p_size}): 1}) if (supplier_part[x_partsupp[0].ps_suppkey] == None) else (None)) if (part_part[x_partsupp[0].ps_partkey] != None) else (None))\n",
      "\n",
      "results = partsupp_aggr.sum(lambda x_partsupp_aggr: {record({\"p_brand\": x_partsupp_aggr[0].p_brand, \"p_type\": x_partsupp_aggr[0].p_type, \"p_size\": x_partsupp_aggr[0].p_size, \"supplier_cnt\": x_partsupp_aggr[1]}): True})\n",
      "\n",
      "============================================================\n",
      ">> Comparing SDQL with Pandas ... <<\n",
      "============================================================\n",
      "\u001b[32m Query 16: Pass \u001b[0m\n",
      "============================================================\n",
      ">> Query 20 (Q20) <<\n",
      ">> Optimized Query <<\n",
      "============================================================\n",
      "canada = \"CANADA\"\n",
      "forest = \"forest\"\n",
      "nation_part = na.sum(lambda x_nation: ({x_nation[0].n_nationkey: True}) if (x_nation[0].n_name == canada) else (None))\n",
      "\n",
      "part_part = pa.sum(lambda x_part: ({x_part[0].p_partkey: True}) if (startsWith(x_part[0].p_name, forest)) else (None))\n",
      "\n",
      "supplier_part = su.sum(lambda x_supplier: {x_supplier[0].s_suppkey: True})\n",
      "\n",
      "lineitem_part = li.sum(lambda x_lineitem: ((({record({\"l_partkey\": x_lineitem[0].l_partkey, \"l_suppkey\": x_lineitem[0].l_suppkey}): record({\"sum_quantity\": x_lineitem[0].l_quantity})}) if (part_part[x_lineitem[0].l_partkey] != None) else (None)) if (supplier_part[x_lineitem[0].l_suppkey] != None) else (None)) if (((x_lineitem[0].l_shipdate >= 19940101) * (x_lineitem[0].l_shipdate < 19950101))) else (None))\n",
      "\n",
      "lineitem_partsupp = ps.sum(lambda x_partsupp: (({x_partsupp[0].ps_suppkey: True}) if (x_partsupp[0].ps_availqty > ((lineitem_part[record({\"ps_partkey\": x_partsupp[0].ps_partkey, \"ps_suppkey\": x_partsupp[0].ps_suppkey})].sum_quantity) * (0.5))) else (None)) if (lineitem_part[record({\"ps_partkey\": x_partsupp[0].ps_partkey, \"ps_suppkey\": x_partsupp[0].ps_suppkey})] != None) else (None))\n",
      "\n",
      "results = su.sum(lambda x_supplier: (({record({\"s_name\": x_supplier[0].s_name, \"s_address\": x_supplier[0].s_address}): True}) if (nation_part[x_supplier[0].s_nationkey] != None) else (None)) if (lineitem_partsupp[x_supplier[0].s_suppkey] != None) else (None))\n",
      "\n",
      "============================================================\n",
      ">> Comparing SDQL with Pandas ... <<\n",
      "============================================================\n",
      "\u001b[32m Query 20: Pass \u001b[0m\n",
      "============================================================\n",
      ">> Query 21 (Q21) <<\n",
      ">> Optimized Query <<\n",
      "============================================================\n",
      "f = \"F\"\n",
      "saudiarabia = \"SAUDI ARABIA\"\n",
      "orders_part = ord.sum(lambda x_orders: ({x_orders[0].o_orderkey: True}) if (x_orders[0].o_orderstatus == f) else (None))\n",
      "\n",
      "nation_part = na.sum(lambda x_nation: ({x_nation[0].n_nationkey: True}) if (x_nation[0].n_name == saudiarabia) else (None))\n",
      "\n",
      "nation_supplier = su.sum(lambda x_supplier: ({x_supplier[0].s_suppkey: record({\"s_name\": x_supplier[0].s_name})}) if (nation_part[x_supplier[0].s_nationkey] != None) else (None))\n",
      "\n",
      "l3_part = l3.sum(lambda x_l3: ({x_l3[0].l_orderkey: record({\"l3_size\": 1})}) if (x_l3[0].l_receiptdate > x_l3[0].l_commitdate) else (None))\n",
      "\n",
      "l2_part = l2.sum(lambda x_l2: {x_l2[0].l_orderkey: record({\"l2_size\": 1})})\n",
      "\n",
      "orders_nation_supplier_l3_l2_lineitem = li.sum(lambda x_lineitem: (((((({nation_supplier[x_lineitem[0].l_suppkey].s_name: record({\"numwait\": 1})}) if (((l2_part[x_lineitem[0].l_orderkey].l2_size > 1) * (l3_part[x_lineitem[0].l_orderkey].l3_size == 1))) else (None)) if (orders_part[x_lineitem[0].l_orderkey] != None) else (None)) if (nation_supplier[x_lineitem[0].l_suppkey] != None) else (None)) if (l3_part[x_lineitem[0].l_orderkey] != None) else (None)) if (l2_part[x_lineitem[0].l_orderkey] != None) else (None)) if (x_lineitem[0].l_receiptdate > x_lineitem[0].l_commitdate) else (None))\n",
      "\n",
      "results = orders_nation_supplier_l3_l2_lineitem.sum(lambda x_orders_nation_supplier_l3_l2_lineitem: {record({\"s_name\": x_orders_nation_supplier_l3_l2_lineitem[0], \"numwait\": x_orders_nation_supplier_l3_l2_lineitem[1].numwait}): True})\n",
      "\n",
      "============================================================\n",
      ">> Comparing SDQL with Pandas ... <<\n",
      "============================================================\n",
      "\u001b[32m Query 21: Pass \u001b[0m\n",
      "============================================================\n",
      "2: \u001b[32m Pass \u001b[0m (\u001b[31m Not Implemented: Waiting for minimum promotion... \u001b[0m)\n",
      "16: \u001b[32m Pass \u001b[0m (\u001b[31m Weak: If a dict is empty, then dict[key] should be None instead of asserting an Exception \u001b[0m)\n",
      "20: \u001b[32m Pass \u001b[0m\n",
      "21: \u001b[32m Pass \u001b[0m\n",
      "============================================================\n"
     ]
    }
   ],
   "source": [
    "import pysdql\n",
    "\n",
    "test_some = pysdql.tpch_query([2, 16, 20, 21], verbose=False)"
   ]
  },
  {
   "cell_type": "code",
   "execution_count": null,
   "metadata": {},
   "outputs": [],
   "source": []
  }
 ],
 "metadata": {
  "kernelspec": {
   "display_name": "Python 3 (ipykernel)",
   "language": "python",
   "name": "python3"
  },
  "language_info": {
   "codemirror_mode": {
    "name": "ipython",
    "version": 3
   },
   "file_extension": ".py",
   "mimetype": "text/x-python",
   "name": "python",
   "nbconvert_exporter": "python",
   "pygments_lexer": "ipython3",
   "version": "3.9.7"
  }
 },
 "nbformat": 4,
 "nbformat_minor": 1
}
