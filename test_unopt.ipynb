{
 "cells": [
  {
   "cell_type": "code",
   "execution_count": 1,
   "metadata": {
    "pycharm": {
     "is_executing": true
    },
    "scrolled": false
   },
   "outputs": [],
   "source": [
    "import pysdql"
   ]
  },
  {
   "cell_type": "code",
   "execution_count": 2,
   "metadata": {},
   "outputs": [
    {
     "name": "stdout",
     "output_type": "stream",
     "text": [
      ">> Query 1 (Q1) <<\n",
      ">> Optimized Query <<\n",
      "============================================================\n",
      "v0 = li.sum(lambda x: (({x[0]: x[1]}) if (x[0].l_shipdate <= 19980902) else (None)) if (x[0] != None) else (None))\n",
      "\n",
      "v1 = v0.sum(lambda x: (({x[0].concat(record({\"disc_price\": ((x[0].l_extendedprice) * (((1.0) - (x[0].l_discount))))})): x[1]}) if (True) else (None)) if (x[0] != None) else (None))\n",
      "\n",
      "v2 = v1.sum(lambda x: (({x[0].concat(record({\"charge\": ((((x[0].l_extendedprice) * (((1.0) - (x[0].l_discount))))) * (((1.0) + (x[0].l_tax))))})): x[1]}) if (True) else (None)) if (x[0] != None) else (None))\n",
      "\n",
      "v3 = v2.sum(lambda x: (({record({\"l_returnflag\": x[0].l_returnflag, \"l_linestatus\": x[0].l_linestatus}): record({\"sum_qty\": x[0].l_quantity, \"sum_base_price\": x[0].l_extendedprice, \"sum_disc_price\": x[0].disc_price, \"sum_charge\": x[0].charge, \"count_order\": 1})}) if (True) else (None)) if (x[0] != None) else (None))\n",
      "\n",
      "v4 = v3.sum(lambda x: (({x[0].concat(x[1]): True}) if (True) else (None)) if (x[0] != None) else (None))\n",
      "\n",
      "results = v4\n",
      "============================================================\n",
      "\u001b[36m SDQL Execution Time: 77.85475945472717 s \u001b[0m\n",
      "\u001b[36m Pandas Execution Time: 0.20605874061584473 s \u001b[0m\n",
      "\u001b[36m DuckDB Execution Time: 0.034180641174316406 s \u001b[0m\n",
      "============================================================\n",
      ">> Comparing Pandas with Duck ... <<\n",
      "============================================================\n",
      "\u001b[32m Check Pandas with DuckDB: Pass \u001b[0m\n",
      "============================================================\n",
      "============================================================\n",
      ">> Comparing SDQL with Pandas ... <<\n",
      "============================================================\n",
      "\u001b[32m Query 1: Pass \u001b[0m\n",
      "============================================================\n",
      "1: \u001b[32m Pass \u001b[0m\n",
      "============================================================\n"
     ]
    },
    {
     "data": {
      "text/plain": [
       "True"
      ]
     },
     "execution_count": 2,
     "metadata": {},
     "output_type": "execute_result"
    }
   ],
   "source": [
    "pysdql.tpch_query(1, verbose=False, optimize=False)"
   ]
  },
  {
   "cell_type": "code",
   "execution_count": 3,
   "metadata": {},
   "outputs": [
    {
     "name": "stdout",
     "output_type": "stream",
     "text": [
      ">> Query 3 (Q3) <<\n",
      ">> Optimized Query <<\n",
      "============================================================\n",
      "building = \"BUILDING\"\n",
      "v0 = li.sum(lambda x: (({x[0]: x[1]}) if (x[0].l_shipdate > 19950315) else (None)) if (x[0] != None) else (None))\n",
      "\n",
      "customer_orders_lineitem_probe = v0\n",
      "v0 = ord.sum(lambda x: (({x[0]: x[1]}) if (x[0].o_orderdate < 19950315) else (None)) if (x[0] != None) else (None))\n",
      "\n",
      "customer_orders_probe = v0\n",
      "v0 = cu.sum(lambda x: (({x[0]: x[1]}) if (x[0].c_mktsegment == building) else (None)) if (x[0] != None) else (None))\n",
      "\n",
      "customer_orders_part = v0\n",
      "build_side = customer_orders_part.sum(lambda x: (({x[0].c_custkey: sr_dict({x[0]: x[1]})}) if (True) else (None)) if (x[0] != None) else (None))\n",
      "\n",
      "v0 = customer_orders_probe.sum(lambda x: (({build_side[x[0].o_custkey].sum(lambda y: x[0].concat(y[0]))\n",
      ": True}) if (build_side[x[0].o_custkey] != None) else (None)) if (x[0] != None) else (None))\n",
      "\n",
      "customer_orders_lineitem_part = v0\n",
      "build_side = customer_orders_lineitem_part.sum(lambda x: (({x[0].o_orderkey: sr_dict({x[0]: x[1]})}) if (True) else (None)) if (x[0] != None) else (None))\n",
      "\n",
      "v0 = customer_orders_lineitem_probe.sum(lambda x: (({build_side[x[0].l_orderkey].sum(lambda y: x[0].concat(y[0]))\n",
      ": True}) if (build_side[x[0].l_orderkey] != None) else (None)) if (x[0] != None) else (None))\n",
      "\n",
      "v1 = v0.sum(lambda x: (({x[0].concat(record({\"revenue\": ((x[0].l_extendedprice) * (((1.0) - (x[0].l_discount))))})): x[1]}) if (True) else (None)) if (x[0] != None) else (None))\n",
      "\n",
      "v2 = v1.sum(lambda x: (({record({\"l_orderkey\": x[0].l_orderkey, \"o_orderdate\": x[0].o_orderdate, \"o_shippriority\": x[0].o_shippriority}): record({\"revenue\": x[0].revenue})}) if (True) else (None)) if (x[0] != None) else (None))\n",
      "\n",
      "v3 = v2.sum(lambda x: (({x[0].concat(x[1]): True}) if (True) else (None)) if (x[0] != None) else (None))\n",
      "\n",
      "results = v3\n",
      "============================================================\n",
      "\u001b[36m SDQL Execution Time: 20.922797679901123 s \u001b[0m\n",
      "\u001b[36m Pandas Execution Time: 0.15405607223510742 s \u001b[0m\n",
      "\u001b[36m DuckDB Execution Time: 0.03371071815490723 s \u001b[0m\n",
      "============================================================\n",
      ">> Comparing Pandas with Duck ... <<\n",
      "============================================================\n",
      "\u001b[32m Check Pandas with DuckDB: Pass \u001b[0m\n",
      "============================================================\n",
      "============================================================\n",
      ">> Comparing SDQL with Pandas ... <<\n",
      "============================================================\n",
      "\u001b[32m Query 3: Pass \u001b[0m\n",
      "============================================================\n",
      "3: \u001b[32m Pass \u001b[0m\n",
      "============================================================\n"
     ]
    },
    {
     "data": {
      "text/plain": [
       "True"
      ]
     },
     "execution_count": 3,
     "metadata": {},
     "output_type": "execute_result"
    }
   ],
   "source": [
    "pysdql.tpch_query(3, verbose=False, optimize=False)"
   ]
  },
  {
   "cell_type": "code",
   "execution_count": 4,
   "metadata": {},
   "outputs": [
    {
     "name": "stdout",
     "output_type": "stream",
     "text": [
      ">> Query 4 (Q4) <<\n",
      ">> Optimized Query <<\n",
      "============================================================\n",
      "v0 = li.sum(lambda x: (({x[0]: x[1]}) if (x[0].l_commitdate < x[0].l_receiptdate) else (None)) if (x[0] != None) else (None))\n",
      "\n",
      "orders_lineitem_isin_build = v0\n",
      "orders_lineitem_isin_build = orders_lineitem_isin_build.sum(lambda x: (({x[0].l_orderkey: True}) if (True) else (None)) if (x[0] != None) else (None))\n",
      "\n",
      "v0 = ord.sum(lambda x: ((({x[0]: x[1]}) if (orders_lineitem_isin_build[x[0].o_orderkey] != None) else (None)) if (True) else (None)) if (x[0] != None) else (None))\n",
      "\n",
      "v1 = v0.sum(lambda x: (({x[0]: x[1]}) if (((x[0].o_orderdate >= 19930701) * (x[0].o_orderdate < 19931001))) else (None)) if (x[0] != None) else (None))\n",
      "\n",
      "v2 = v1.sum(lambda x: (({record({\"o_orderpriority\": x[0].o_orderpriority}): record({\"order_count\": 1})}) if (True) else (None)) if (x[0] != None) else (None))\n",
      "\n",
      "v3 = v2.sum(lambda x: (({x[0].concat(x[1]): True}) if (True) else (None)) if (x[0] != None) else (None))\n",
      "\n",
      "results = v3\n",
      "============================================================\n",
      "\u001b[36m SDQL Execution Time: 23.186765670776367 s \u001b[0m\n",
      "\u001b[36m Pandas Execution Time: 0.12109708786010742 s \u001b[0m\n",
      "\u001b[36m DuckDB Execution Time: 0.03125166893005371 s \u001b[0m\n",
      "============================================================\n",
      ">> Comparing Pandas with Duck ... <<\n",
      "============================================================\n",
      "\u001b[32m Check Pandas with DuckDB: Pass \u001b[0m\n",
      "============================================================\n",
      "============================================================\n",
      ">> Comparing SDQL with Pandas ... <<\n",
      "============================================================\n",
      "\u001b[32m Query 4: Pass \u001b[0m\n",
      "============================================================\n",
      "4: \u001b[32m Pass \u001b[0m\n",
      "============================================================\n"
     ]
    },
    {
     "data": {
      "text/plain": [
       "True"
      ]
     },
     "execution_count": 4,
     "metadata": {},
     "output_type": "execute_result"
    }
   ],
   "source": [
    "pysdql.tpch_query(4, verbose=False, optimize=False)"
   ]
  },
  {
   "cell_type": "code",
   "execution_count": 5,
   "metadata": {},
   "outputs": [
    {
     "name": "stdout",
     "output_type": "stream",
     "text": [
      ">> Query 5 (Q5) <<\n",
      ">> Optimized Query <<\n",
      "============================================================\n",
      "asia = \"ASIA\"\n",
      "region_nation_customer_orders_lineitem_probe = li\n",
      "v0 = ord.sum(lambda x: (({x[0]: x[1]}) if (((x[0].o_orderdate >= 19940101) * (x[0].o_orderdate < 19961231))) else (None)) if (x[0] != None) else (None))\n",
      "\n",
      "region_nation_customer_orders_probe = v0\n",
      "region_nation_customer_probe = cu\n",
      "region_nation_probe = na\n",
      "v0 = re.sum(lambda x: (({x[0]: x[1]}) if (x[0].r_name == asia) else (None)) if (x[0] != None) else (None))\n",
      "\n",
      "region_nation_part = v0\n",
      "build_side = region_nation_part.sum(lambda x: (({x[0].r_regionkey: sr_dict({x[0]: x[1]})}) if (True) else (None)) if (x[0] != None) else (None))\n",
      "\n",
      "v0 = region_nation_probe.sum(lambda x: (({build_side[x[0].n_regionkey].sum(lambda y: x[0].concat(y[0]))\n",
      ": True}) if (build_side[x[0].n_regionkey] != None) else (None)) if (x[0] != None) else (None))\n",
      "\n",
      "region_nation_customer_part = v0\n",
      "build_side = region_nation_customer_part.sum(lambda x: (({x[0].n_nationkey: sr_dict({x[0]: x[1]})}) if (True) else (None)) if (x[0] != None) else (None))\n",
      "\n",
      "v0 = region_nation_customer_probe.sum(lambda x: (({build_side[x[0].c_nationkey].sum(lambda y: x[0].concat(y[0]))\n",
      ": True}) if (build_side[x[0].c_nationkey] != None) else (None)) if (x[0] != None) else (None))\n",
      "\n",
      "region_nation_customer_orders_part = v0\n",
      "build_side = region_nation_customer_orders_part.sum(lambda x: (({x[0].c_custkey: sr_dict({x[0]: x[1]})}) if (True) else (None)) if (x[0] != None) else (None))\n",
      "\n",
      "v0 = region_nation_customer_orders_probe.sum(lambda x: (({build_side[x[0].o_custkey].sum(lambda y: x[0].concat(y[0]))\n",
      ": True}) if (build_side[x[0].o_custkey] != None) else (None)) if (x[0] != None) else (None))\n",
      "\n",
      "region_nation_customer_orders_lineitem_part = v0\n",
      "build_side = region_nation_customer_orders_lineitem_part.sum(lambda x: (({x[0].o_orderkey: sr_dict({x[0]: x[1]})}) if (True) else (None)) if (x[0] != None) else (None))\n",
      "\n",
      "v0 = region_nation_customer_orders_lineitem_probe.sum(lambda x: (({build_side[x[0].l_orderkey].sum(lambda y: x[0].concat(y[0]))\n",
      ": True}) if (build_side[x[0].l_orderkey] != None) else (None)) if (x[0] != None) else (None))\n",
      "\n",
      "supplier_region_nation_customer_orders_lineitem_probe = v0\n",
      "supplier_region_nation_customer_orders_lineitem_part = su\n",
      "build_side = supplier_region_nation_customer_orders_lineitem_part.sum(lambda x: (({record({\"s_suppkey\": x[0].s_suppkey, \"s_nationkey\": x[0].s_nationkey}): sr_dict({x[0]: x[1]})}) if (True) else (None)) if (x[0] != None) else (None))\n",
      "\n",
      "v0 = supplier_region_nation_customer_orders_lineitem_probe.sum(lambda x: (({build_side[record({\"l_suppkey\": x[0].l_suppkey, \"c_nationkey\": x[0].c_nationkey})].sum(lambda y: x[0].concat(y[0]))\n",
      ": True}) if (build_side[record({\"l_suppkey\": x[0].l_suppkey, \"c_nationkey\": x[0].c_nationkey})] != None) else (None)) if (x[0] != None) else (None))\n",
      "\n",
      "v1 = v0.sum(lambda x: (({x[0].concat(record({\"revenue\": ((x[0].l_extendedprice) * (((1.0) - (x[0].l_discount))))})): x[1]}) if (True) else (None)) if (x[0] != None) else (None))\n",
      "\n",
      "v2 = v1.sum(lambda x: (({record({\"n_name\": x[0].n_name}): record({\"revenue\": x[0].revenue})}) if (True) else (None)) if (x[0] != None) else (None))\n",
      "\n",
      "v3 = v2.sum(lambda x: (({x[0].concat(x[1]): True}) if (True) else (None)) if (x[0] != None) else (None))\n",
      "\n",
      "results = v3\n",
      "============================================================\n",
      "\u001b[36m SDQL Execution Time: 14.682810544967651 s \u001b[0m\n",
      "\u001b[36m Pandas Execution Time: 0.13086366653442383 s \u001b[0m\n",
      "\u001b[36m DuckDB Execution Time: 0.046877145767211914 s \u001b[0m\n",
      "============================================================\n",
      ">> Comparing Pandas with Duck ... <<\n",
      "============================================================\n",
      "\u001b[32m Check Pandas with DuckDB: Pass \u001b[0m\n",
      "============================================================\n",
      "============================================================\n",
      ">> Comparing SDQL with Pandas ... <<\n",
      "============================================================\n",
      "\u001b[32m Query 5: Pass \u001b[0m\n",
      "============================================================\n",
      "5: \u001b[32m Pass \u001b[0m\n",
      "============================================================\n"
     ]
    },
    {
     "data": {
      "text/plain": [
       "True"
      ]
     },
     "execution_count": 5,
     "metadata": {},
     "output_type": "execute_result"
    }
   ],
   "source": [
    "pysdql.tpch_query(5, verbose=False, optimize=False)"
   ]
  },
  {
   "cell_type": "code",
   "execution_count": 6,
   "metadata": {},
   "outputs": [
    {
     "name": "stdout",
     "output_type": "stream",
     "text": [
      ">> Query 6 (Q6) <<\n",
      ">> Optimized Query <<\n",
      "============================================================\n",
      "v0 = li.sum(lambda x: (({x[0]: x[1]}) if (((((((((x[0].l_shipdate >= 19940101) * (x[0].l_shipdate < 19950101))) * (x[0].l_discount >= 0.05))) * (x[0].l_discount <= 0.07))) * (x[0].l_quantity < 24))) else (None)) if (x[0] != None) else (None))\n",
      "\n",
      "v1 = v0.sum(lambda x: (({x[0].concat(record({\"revenue\": ((x[0].l_extendedprice) * (x[0].l_discount))})): x[1]}) if (True) else (None)) if (x[0] != None) else (None))\n",
      "\n",
      "v2 = v1.sum(lambda x: ((record({\"revenue\": x[0].revenue})) if (True) else (None)) if (x[0] != None) else (None))\n",
      "\n",
      "v3 = v2.sum(lambda x: (({v2: True}) if (True) else (None)) if (x[0] != None) else (None))\n",
      "\n",
      "results = v3\n",
      "============================================================\n",
      "\u001b[36m SDQL Execution Time: 10.888986110687256 s \u001b[0m\n",
      "\u001b[36m Pandas Execution Time: 0.06250166893005371 s \u001b[0m\n",
      "\u001b[36m DuckDB Execution Time: 0.017578601837158203 s \u001b[0m\n",
      "============================================================\n",
      ">> Comparing Pandas with Duck ... <<\n",
      "============================================================\n",
      "\u001b[32m Check Pandas with DuckDB: Pass \u001b[0m\n",
      "============================================================\n",
      "============================================================\n",
      ">> Comparing SDQL with Pandas ... <<\n",
      "============================================================\n",
      "\u001b[32m Query 6: Pass \u001b[0m\n",
      "============================================================\n",
      "6: \u001b[32m Pass \u001b[0m\n",
      "============================================================\n"
     ]
    },
    {
     "data": {
      "text/plain": [
       "True"
      ]
     },
     "execution_count": 6,
     "metadata": {},
     "output_type": "execute_result"
    }
   ],
   "source": [
    "pysdql.tpch_query(6, verbose=False, optimize=False)"
   ]
  },
  {
   "cell_type": "code",
   "execution_count": 7,
   "metadata": {
    "scrolled": false
   },
   "outputs": [
    {
     "name": "stdout",
     "output_type": "stream",
     "text": [
      ">> Query 7 (Q7) <<\n",
      ">> Optimized Query <<\n",
      "============================================================\n",
      "france = \"FRANCE\"\n",
      "germany = \"GERMANY\"\n",
      "v0 = li.sum(lambda x: (({x[0]: x[1]}) if (((x[0].l_shipdate >= 19950101) * (x[0].l_shipdate <= 19961231))) else (None)) if (x[0] != None) else (None))\n",
      "\n",
      "nation_customer_orders_lineitem_probe = v0\n",
      "nation_customer_orders_probe = ord\n",
      "nation_customer_probe = cu\n",
      "v0 = na.sum(lambda x: (({x[0]: x[1]}) if (((x[0].n_name == france) + (x[0].n_name == germany))) else (None)) if (x[0] != None) else (None))\n",
      "\n",
      "nation_supplier_part = v0\n",
      "v1 = v0.sum(lambda x: (({x[0]: x[1]}) if (((x[0].n_name == france) + (x[0].n_name == germany))) else (None)) if (x[0] != None) else (None))\n",
      "\n",
      "nation_customer_part = v1\n",
      "build_side = nation_customer_part.sum(lambda x: (({x[0].n_nationkey: sr_dict({x[0]: x[1]})}) if (True) else (None)) if (x[0] != None) else (None))\n",
      "\n",
      "v0 = nation_customer_probe.sum(lambda x: (({build_side[x[0].c_nationkey].sum(lambda y: x[0].concat(y[0]))\n",
      ": True}) if (build_side[x[0].c_nationkey] != None) else (None)) if (x[0] != None) else (None))\n",
      "\n",
      "nation_customer_orders_part = v0\n",
      "build_side = nation_customer_orders_part.sum(lambda x: (({x[0].c_custkey: sr_dict({x[0]: x[1]})}) if (True) else (None)) if (x[0] != None) else (None))\n",
      "\n",
      "v0 = nation_customer_orders_probe.sum(lambda x: (({build_side[x[0].o_custkey].sum(lambda y: x[0].concat(y[0]))\n",
      ": True}) if (build_side[x[0].o_custkey] != None) else (None)) if (x[0] != None) else (None))\n",
      "\n",
      "v1 = v0.sum(lambda x: (({x[0].concat(record({\"n2_name\": x[0].n_name})): x[1]}) if (True) else (None)) if (x[0] != None) else (None))\n",
      "\n",
      "nation_customer_orders_lineitem_part = v1\n",
      "build_side = nation_customer_orders_lineitem_part.sum(lambda x: (({x[0].o_orderkey: sr_dict({x[0]: x[1]})}) if (True) else (None)) if (x[0] != None) else (None))\n",
      "\n",
      "v0 = nation_customer_orders_lineitem_probe.sum(lambda x: (({build_side[x[0].l_orderkey].sum(lambda y: x[0].concat(y[0]))\n",
      ": True}) if (build_side[x[0].l_orderkey] != None) else (None)) if (x[0] != None) else (None))\n",
      "\n",
      "nation_supplier_nation_customer_orders_lineitem_probe = v0\n",
      "nation_supplier_probe = su\n",
      "v0 = na.sum(lambda x: (({x[0]: x[1]}) if (((x[0].n_name == france) + (x[0].n_name == germany))) else (None)) if (x[0] != None) else (None))\n",
      "\n",
      "nation_supplier_part = v0\n",
      "build_side = nation_supplier_part.sum(lambda x: (({x[0].n_nationkey: sr_dict({x[0]: x[1]})}) if (True) else (None)) if (x[0] != None) else (None))\n",
      "\n",
      "v0 = nation_supplier_probe.sum(lambda x: (({build_side[x[0].s_nationkey].sum(lambda y: x[0].concat(y[0]))\n",
      ": True}) if (build_side[x[0].s_nationkey] != None) else (None)) if (x[0] != None) else (None))\n",
      "\n",
      "v1 = v0.sum(lambda x: (({x[0].concat(record({\"n1_name\": x[0].n_name})): x[1]}) if (True) else (None)) if (x[0] != None) else (None))\n",
      "\n",
      "nation_supplier_nation_customer_orders_lineitem_part = v1\n",
      "build_side = nation_supplier_nation_customer_orders_lineitem_part.sum(lambda x: (({x[0].s_suppkey: sr_dict({x[0]: x[1]})}) if (True) else (None)) if (x[0] != None) else (None))\n",
      "\n",
      "v0 = nation_supplier_nation_customer_orders_lineitem_probe.sum(lambda x: (({build_side[x[0].l_suppkey].sum(lambda y: x[0].concat(y[0]))\n",
      ": True}) if (build_side[x[0].l_suppkey] != None) else (None)) if (x[0] != None) else (None))\n",
      "\n",
      "v1 = v0.sum(lambda x: (({x[0]: x[1]}) if (((((x[0].n1_name == france) * (x[0].n2_name == germany))) + (((x[0].n1_name == germany) * (x[0].n2_name == france))))) else (None)) if (x[0] != None) else (None))\n",
      "\n",
      "v2 = v1.sum(lambda x: (({x[0].concat(record({\"supp_nation\": x[0].n1_name})): x[1]}) if (True) else (None)) if (x[0] != None) else (None))\n",
      "\n",
      "v3 = v2.sum(lambda x: (({x[0].concat(record({\"cust_nation\": x[0].n2_name})): x[1]}) if (True) else (None)) if (x[0] != None) else (None))\n",
      "\n",
      "v4 = v3.sum(lambda x: (({x[0].concat(record({\"l_year\": extractYear(x[0].l_shipdate)})): x[1]}) if (True) else (None)) if (x[0] != None) else (None))\n",
      "\n",
      "v5 = v4.sum(lambda x: (({x[0].concat(record({\"volume\": ((x[0].l_extendedprice) * (((1.0) - (x[0].l_discount))))})): x[1]}) if (True) else (None)) if (x[0] != None) else (None))\n",
      "\n",
      "v6 = v5.sum(lambda x: (({record({\"supp_nation\": x[0].supp_nation, \"cust_nation\": x[0].cust_nation, \"l_year\": x[0].l_year}): record({\"revenue\": x[0].volume})}) if (True) else (None)) if (x[0] != None) else (None))\n",
      "\n",
      "v7 = v6.sum(lambda x: (({x[0].concat(x[1]): True}) if (True) else (None)) if (x[0] != None) else (None))\n",
      "\n",
      "results = v7\n",
      "============================================================\n",
      "\u001b[36m SDQL Execution Time: 17.276497840881348 s \u001b[0m\n",
      "\u001b[36m Pandas Execution Time: 0.14941835403442383 s \u001b[0m\n",
      "\u001b[36m DuckDB Execution Time: 0.07812738418579102 s \u001b[0m\n",
      "============================================================\n",
      ">> Comparing Pandas with Duck ... <<\n",
      "============================================================\n",
      "\u001b[32m Check Pandas with DuckDB: Pass \u001b[0m\n",
      "============================================================\n",
      "============================================================\n",
      ">> Comparing SDQL with Pandas ... <<\n",
      "============================================================\n",
      "\u001b[32m Query 7: Pass \u001b[0m\n",
      "============================================================\n",
      "7: \u001b[32m Pass \u001b[0m\n",
      "============================================================\n"
     ]
    },
    {
     "data": {
      "text/plain": [
       "True"
      ]
     },
     "execution_count": 7,
     "metadata": {},
     "output_type": "execute_result"
    }
   ],
   "source": [
    "pysdql.tpch_query(7, verbose=False, optimize=False)"
   ]
  },
  {
   "cell_type": "code",
   "execution_count": 8,
   "metadata": {},
   "outputs": [
    {
     "name": "stdout",
     "output_type": "stream",
     "text": [
      ">> Query 9 (Q9) <<\n",
      ">> Optimized Query <<\n",
      "============================================================\n",
      "g = \"g\"\n",
      "orders_lineitem_probe = li\n",
      "orders_lineitem_part = ord\n",
      "build_side = orders_lineitem_part.sum(lambda x: (({x[0].o_orderkey: sr_dict({x[0]: x[1]})}) if (True) else (None)) if (x[0] != None) else (None))\n",
      "\n",
      "v0 = orders_lineitem_probe.sum(lambda x: (({build_side[x[0].l_orderkey].sum(lambda y: x[0].concat(y[0]))\n",
      ": True}) if (build_side[x[0].l_orderkey] != None) else (None)) if (x[0] != None) else (None))\n",
      "\n",
      "nation_supplier_part_partsupp_orders_lineitem_probe = v0\n",
      "part_partsupp_probe = ps\n",
      "v0 = pa.sum(lambda x: (({x[0]: x[1]}) if (firstIndex(x[0].p_name, g) != ((-1) * (1))) else (None)) if (x[0] != None) else (None))\n",
      "\n",
      "part_partsupp_part = v0\n",
      "build_side = part_partsupp_part.sum(lambda x: (({x[0].p_partkey: sr_dict({x[0]: x[1]})}) if (True) else (None)) if (x[0] != None) else (None))\n",
      "\n",
      "v0 = part_partsupp_probe.sum(lambda x: (({build_side[x[0].ps_partkey].sum(lambda y: x[0].concat(y[0]))\n",
      ": True}) if (build_side[x[0].ps_partkey] != None) else (None)) if (x[0] != None) else (None))\n",
      "\n",
      "nation_supplier_part_partsupp_probe = v0\n",
      "nation_supplier_probe = su\n",
      "nation_supplier_part = na\n",
      "build_side = nation_supplier_part.sum(lambda x: (({x[0].n_nationkey: sr_dict({x[0]: x[1]})}) if (True) else (None)) if (x[0] != None) else (None))\n",
      "\n",
      "v0 = nation_supplier_probe.sum(lambda x: (({build_side[x[0].s_nationkey].sum(lambda y: x[0].concat(y[0]))\n",
      ": True}) if (build_side[x[0].s_nationkey] != None) else (None)) if (x[0] != None) else (None))\n",
      "\n",
      "nation_supplier_part_partsupp_part = v0\n",
      "build_side = nation_supplier_part_partsupp_part.sum(lambda x: (({x[0].s_suppkey: sr_dict({x[0]: x[1]})}) if (True) else (None)) if (x[0] != None) else (None))\n",
      "\n",
      "v0 = nation_supplier_part_partsupp_probe.sum(lambda x: (({build_side[x[0].ps_suppkey].sum(lambda y: x[0].concat(y[0]))\n",
      ": True}) if (build_side[x[0].ps_suppkey] != None) else (None)) if (x[0] != None) else (None))\n",
      "\n",
      "nation_supplier_part_partsupp_orders_lineitem_part = v0\n",
      "build_side = nation_supplier_part_partsupp_orders_lineitem_part.sum(lambda x: (({record({\"ps_partkey\": x[0].ps_partkey, \"ps_suppkey\": x[0].ps_suppkey}): sr_dict({x[0]: x[1]})}) if (True) else (None)) if (x[0] != None) else (None))\n",
      "\n",
      "v0 = nation_supplier_part_partsupp_orders_lineitem_probe.sum(lambda x: (({build_side[record({\"l_partkey\": x[0].l_partkey, \"l_suppkey\": x[0].l_suppkey})].sum(lambda y: x[0].concat(y[0]))\n",
      ": True}) if (build_side[record({\"l_partkey\": x[0].l_partkey, \"l_suppkey\": x[0].l_suppkey})] != None) else (None)) if (x[0] != None) else (None))\n",
      "\n",
      "v1 = v0.sum(lambda x: (({x[0].concat(record({\"nation\": x[0].n_name})): x[1]}) if (True) else (None)) if (x[0] != None) else (None))\n",
      "\n",
      "v2 = v1.sum(lambda x: (({x[0].concat(record({\"o_year\": extractYear(x[0].o_orderdate)})): x[1]}) if (True) else (None)) if (x[0] != None) else (None))\n",
      "\n",
      "v3 = v2.sum(lambda x: (({x[0].concat(record({\"amount\": ((((x[0].l_extendedprice) * (((1.0) - (x[0].l_discount))))) - (((x[0].ps_supplycost) * (x[0].l_quantity))))})): x[1]}) if (True) else (None)) if (x[0] != None) else (None))\n",
      "\n",
      "v4 = v3.sum(lambda x: (({record({\"nation\": x[0].nation, \"o_year\": x[0].o_year}): record({\"sum_profit\": x[0].amount})}) if (True) else (None)) if (x[0] != None) else (None))\n",
      "\n",
      "v5 = v4.sum(lambda x: (({x[0].concat(x[1]): True}) if (True) else (None)) if (x[0] != None) else (None))\n",
      "\n",
      "results = v5\n",
      "============================================================\n",
      "\u001b[36m SDQL Execution Time: 182.0826187133789 s \u001b[0m\n",
      "\u001b[36m Pandas Execution Time: 0.9794049263000488 s \u001b[0m\n",
      "\u001b[36m DuckDB Execution Time: 0.12952876091003418 s \u001b[0m\n",
      "============================================================\n",
      ">> Comparing Pandas with Duck ... <<\n",
      "============================================================\n",
      "\u001b[32m Check Pandas with DuckDB: Pass \u001b[0m\n",
      "============================================================\n",
      "============================================================\n",
      ">> Comparing SDQL with Pandas ... <<\n",
      "============================================================\n",
      "\u001b[32m Query 9: Pass \u001b[0m\n",
      "============================================================\n",
      "9: \u001b[32m Pass \u001b[0m (\u001b[31m Mismatch Answer: Incorrect n_name due to string addition (Example: PERUPERUPERUPERU) \u001b[0m)\n",
      "============================================================\n"
     ]
    },
    {
     "data": {
      "text/plain": [
       "True"
      ]
     },
     "execution_count": 8,
     "metadata": {},
     "output_type": "execute_result"
    }
   ],
   "source": [
    "pysdql.tpch_query(9, verbose=False, optimize=False)"
   ]
  },
  {
   "cell_type": "code",
   "execution_count": 9,
   "metadata": {},
   "outputs": [
    {
     "name": "stdout",
     "output_type": "stream",
     "text": [
      ">> Query 10 (Q10) <<\n",
      ">> Optimized Query <<\n",
      "============================================================\n",
      "r = \"R\"\n",
      "v0 = li.sum(lambda x: (({x[0]: x[1]}) if (x[0].l_returnflag == r) else (None)) if (x[0] != None) else (None))\n",
      "\n",
      "nation_customer_orders_lineitem_probe = v0\n",
      "v0 = ord.sum(lambda x: (({x[0]: x[1]}) if (((x[0].o_orderdate >= 19931001) * (x[0].o_orderdate < 19940101))) else (None)) if (x[0] != None) else (None))\n",
      "\n",
      "customer_orders_probe = v0\n",
      "customer_orders_part = cu\n",
      "build_side = customer_orders_part.sum(lambda x: (({x[0].c_custkey: sr_dict({x[0]: x[1]})}) if (True) else (None)) if (x[0] != None) else (None))\n",
      "\n",
      "v0 = customer_orders_probe.sum(lambda x: (({build_side[x[0].o_custkey].sum(lambda y: x[0].concat(y[0]))\n",
      ": True}) if (build_side[x[0].o_custkey] != None) else (None)) if (x[0] != None) else (None))\n",
      "\n",
      "nation_customer_orders_probe = v0\n",
      "nation_customer_orders_part = na\n",
      "build_side = nation_customer_orders_part.sum(lambda x: (({x[0].n_nationkey: sr_dict({x[0]: x[1]})}) if (True) else (None)) if (x[0] != None) else (None))\n",
      "\n",
      "v0 = nation_customer_orders_probe.sum(lambda x: (({build_side[x[0].c_nationkey].sum(lambda y: x[0].concat(y[0]))\n",
      ": True}) if (build_side[x[0].c_nationkey] != None) else (None)) if (x[0] != None) else (None))\n",
      "\n",
      "nation_customer_orders_lineitem_part = v0\n",
      "build_side = nation_customer_orders_lineitem_part.sum(lambda x: (({x[0].o_orderkey: sr_dict({x[0]: x[1]})}) if (True) else (None)) if (x[0] != None) else (None))\n",
      "\n",
      "v0 = nation_customer_orders_lineitem_probe.sum(lambda x: (({build_side[x[0].l_orderkey].sum(lambda y: x[0].concat(y[0]))\n",
      ": True}) if (build_side[x[0].l_orderkey] != None) else (None)) if (x[0] != None) else (None))\n",
      "\n",
      "v1 = v0.sum(lambda x: (({x[0].concat(record({\"revenue\": ((x[0].l_extendedprice) * (((1.0) - (x[0].l_discount))))})): x[1]}) if (True) else (None)) if (x[0] != None) else (None))\n",
      "\n",
      "v2 = v1.sum(lambda x: (({record({\"c_custkey\": x[0].c_custkey, \"c_name\": x[0].c_name, \"c_acctbal\": x[0].c_acctbal, \"c_phone\": x[0].c_phone, \"n_name\": x[0].n_name, \"c_address\": x[0].c_address, \"c_comment\": x[0].c_comment}): record({\"revenue\": x[0].revenue})}) if (True) else (None)) if (x[0] != None) else (None))\n",
      "\n",
      "v3 = v2.sum(lambda x: (({x[0].concat(x[1]): True}) if (True) else (None)) if (x[0] != None) else (None))\n",
      "\n",
      "results = v3\n",
      "============================================================\n",
      "\u001b[36m SDQL Execution Time: 14.829440116882324 s \u001b[0m\n",
      "\u001b[36m Pandas Execution Time: 0.14551091194152832 s \u001b[0m\n",
      "\u001b[36m DuckDB Execution Time: 0.03613471984863281 s \u001b[0m\n",
      "============================================================\n",
      ">> Comparing Pandas with Duck ... <<\n",
      "============================================================\n",
      "\u001b[32m Check Pandas with DuckDB: Pass \u001b[0m\n",
      "============================================================\n",
      "============================================================\n",
      ">> Comparing SDQL with Pandas ... <<\n",
      "============================================================\n",
      "\u001b[32m Query 10: Pass \u001b[0m\n",
      "============================================================\n",
      "10: \u001b[32m Pass \u001b[0m\n",
      "============================================================\n"
     ]
    },
    {
     "data": {
      "text/plain": [
       "True"
      ]
     },
     "execution_count": 9,
     "metadata": {},
     "output_type": "execute_result"
    }
   ],
   "source": [
    "pysdql.tpch_query(10, verbose=False, optimize=False)"
   ]
  },
  {
   "cell_type": "code",
   "execution_count": 10,
   "metadata": {},
   "outputs": [
    {
     "name": "stdout",
     "output_type": "stream",
     "text": [
      ">> Query 19 (Q19) <<\n",
      ">> Optimized Query <<\n",
      "============================================================\n",
      "brand12 = \"Brand#12\"\n",
      "smcase = \"SM CASE\"\n",
      "smbox = \"SM BOX\"\n",
      "smpack = \"SM PACK\"\n",
      "smpkg = \"SM PKG\"\n",
      "brand23 = \"Brand#23\"\n",
      "medbag = \"MED BAG\"\n",
      "medbox = \"MED BOX\"\n",
      "medpkg = \"MED PKG\"\n",
      "medpack = \"MED PACK\"\n",
      "brand34 = \"Brand#34\"\n",
      "lgcase = \"LG CASE\"\n",
      "lgbox = \"LG BOX\"\n",
      "lgpack = \"LG PACK\"\n",
      "lgpkg = \"LG PKG\"\n",
      "air = \"AIR\"\n",
      "airreg = \"AIR REG\"\n",
      "deliverinperson = \"DELIVER IN PERSON\"\n",
      "v0 = li.sum(lambda x: (({x[0]: x[1]}) if (((((x[0].l_shipmode == air) + (x[0].l_shipmode == airreg))) * (x[0].l_shipinstruct == deliverinperson))) else (None)) if (x[0] != None) else (None))\n",
      "\n",
      "part_lineitem_probe = v0\n",
      "v0 = pa.sum(lambda x: (({x[0]: x[1]}) if (((((((((((x[0].p_brand == brand12) * (((((((x[0].p_container == smpkg) + (x[0].p_container == smpack))) + (x[0].p_container == smcase))) + (x[0].p_container == smbox))))) * (x[0].p_size >= 1))) * (x[0].p_size <= 5))) + (((((((x[0].p_brand == brand23) * (((((((x[0].p_container == medpack) + (x[0].p_container == medpkg))) + (x[0].p_container == medbag))) + (x[0].p_container == medbox))))) * (x[0].p_size >= 1))) * (x[0].p_size <= 10))))) + (((((((x[0].p_brand == brand34) * (((((((x[0].p_container == lgpkg) + (x[0].p_container == lgpack))) + (x[0].p_container == lgcase))) + (x[0].p_container == lgbox))))) * (x[0].p_size >= 1))) * (x[0].p_size <= 15))))) else (None)) if (x[0] != None) else (None))\n",
      "\n",
      "part_lineitem_part = v0\n",
      "build_side = part_lineitem_part.sum(lambda x: (({x[0].p_partkey: sr_dict({x[0]: x[1]})}) if (True) else (None)) if (x[0] != None) else (None))\n",
      "\n",
      "v0 = part_lineitem_probe.sum(lambda x: (({build_side[x[0].l_partkey].sum(lambda y: x[0].concat(y[0]))\n",
      ": True}) if (build_side[x[0].l_partkey] != None) else (None)) if (x[0] != None) else (None))\n",
      "\n",
      "v1 = v0.sum(lambda x: (({x[0]: x[1]}) if (((((((x[0].p_brand == brand12) * (((x[0].l_quantity >= 1) * (x[0].l_quantity <= 11))))) + (((x[0].p_brand == brand23) * (((x[0].l_quantity >= 10) * (x[0].l_quantity <= 20))))))) + (((x[0].p_brand == brand34) * (((x[0].l_quantity >= 20) * (x[0].l_quantity <= 30))))))) else (None)) if (x[0] != None) else (None))\n",
      "\n",
      "v2 = v1.sum(lambda x: (({x[0].concat(record({\"revenue\": ((x[0].l_extendedprice) * (((1.0) - (x[0].l_discount))))})): x[1]}) if (True) else (None)) if (x[0] != None) else (None))\n",
      "\n",
      "v3 = v2.sum(lambda x: ((record({\"revenue\": x[0].revenue})) if (True) else (None)) if (x[0] != None) else (None))\n",
      "\n",
      "v4 = v3.sum(lambda x: (({v3: True}) if (True) else (None)) if (x[0] != None) else (None))\n",
      "\n",
      "results = v4\n",
      "============================================================\n",
      "\u001b[36m SDQL Execution Time: 7.256106615066528 s \u001b[0m\n",
      "\u001b[36m Pandas Execution Time: 0.10570812225341797 s \u001b[0m\n",
      "\u001b[36m DuckDB Execution Time: 0.0322263240814209 s \u001b[0m\n",
      "============================================================\n",
      ">> Comparing Pandas with Duck ... <<\n",
      "============================================================\n",
      "\u001b[32m Check Pandas with DuckDB: Pass \u001b[0m\n",
      "============================================================\n",
      "============================================================\n",
      ">> Comparing SDQL with Pandas ... <<\n",
      "============================================================\n",
      "\u001b[32m Query 19: Pass \u001b[0m\n",
      "============================================================\n",
      "19: \u001b[32m Pass \u001b[0m\n",
      "============================================================\n"
     ]
    },
    {
     "data": {
      "text/plain": [
       "True"
      ]
     },
     "execution_count": 10,
     "metadata": {},
     "output_type": "execute_result"
    }
   ],
   "source": [
    "pysdql.tpch_query(19, verbose=False, optimize=False)"
   ]
  },
  {
   "cell_type": "code",
   "execution_count": 11,
   "metadata": {},
   "outputs": [
    {
     "name": "stdout",
     "output_type": "stream",
     "text": [
      ">> Query 21 (Q21) <<\n",
      ">> Optimized Query <<\n",
      "============================================================\n",
      "f = \"F\"\n",
      "saudiarabia = \"SAUDI ARABIA\"\n",
      "v0 = li.sum(lambda x: (({x[0]: x[1]}) if (x[0].l_receiptdate > x[0].l_commitdate) else (None)) if (x[0] != None) else (None))\n",
      "\n",
      "l2_lineitem_probe = v0\n",
      "v0 = l2.sum(lambda x: (({record({\"l_orderkey\": x[0].l_orderkey}): record({\"l2_size\": 1})}) if (True) else (None)) if (x[0] != None) else (None))\n",
      "\n",
      "v1 = v0.sum(lambda x: (({x[0].concat(x[1]): True}) if (True) else (None)) if (x[0] != None) else (None))\n",
      "\n",
      "l2_lineitem_part = v1\n",
      "build_side = l2_lineitem_part.sum(lambda x: (({x[0].l_orderkey: sr_dict({x[0]: x[1]})}) if (True) else (None)) if (x[0] != None) else (None))\n",
      "\n",
      "v0 = l2_lineitem_probe.sum(lambda x: (({build_side[x[0].l_orderkey].sum(lambda y: x[0].concat(y[0]))\n",
      ": True}) if (build_side[x[0].l_orderkey] != None) else (None)) if (x[0] != None) else (None))\n",
      "\n",
      "l3_l2_lineitem_probe = v0\n",
      "v0 = l3.sum(lambda x: (({x[0]: x[1]}) if (x[0].l_receiptdate > x[0].l_commitdate) else (None)) if (x[0] != None) else (None))\n",
      "\n",
      "v1 = v0.sum(lambda x: (({record({\"l_orderkey\": x[0].l_orderkey}): record({\"l3_size\": 1})}) if (True) else (None)) if (x[0] != None) else (None))\n",
      "\n",
      "v2 = v1.sum(lambda x: (({x[0].concat(x[1]): True}) if (True) else (None)) if (x[0] != None) else (None))\n",
      "\n",
      "l3_l2_lineitem_part = v2\n",
      "build_side = l3_l2_lineitem_part.sum(lambda x: (({x[0].l_orderkey: sr_dict({x[0]: x[1]})}) if (True) else (None)) if (x[0] != None) else (None))\n",
      "\n",
      "v0 = l3_l2_lineitem_probe.sum(lambda x: (({build_side[x[0].l_orderkey].sum(lambda y: x[0].concat(y[0]))\n",
      ": True}) if (build_side[x[0].l_orderkey] != None) else (None)) if (x[0] != None) else (None))\n",
      "\n",
      "nation_supplier_l3_l2_lineitem_probe = v0\n",
      "nation_supplier_probe = su\n",
      "v0 = na.sum(lambda x: (({x[0]: x[1]}) if (x[0].n_name == saudiarabia) else (None)) if (x[0] != None) else (None))\n",
      "\n",
      "nation_supplier_part = v0\n",
      "build_side = nation_supplier_part.sum(lambda x: (({x[0].n_nationkey: sr_dict({x[0]: x[1]})}) if (True) else (None)) if (x[0] != None) else (None))\n",
      "\n",
      "v0 = nation_supplier_probe.sum(lambda x: (({build_side[x[0].s_nationkey].sum(lambda y: x[0].concat(y[0]))\n",
      ": True}) if (build_side[x[0].s_nationkey] != None) else (None)) if (x[0] != None) else (None))\n",
      "\n",
      "nation_supplier_l3_l2_lineitem_part = v0\n",
      "build_side = nation_supplier_l3_l2_lineitem_part.sum(lambda x: (({x[0].s_suppkey: sr_dict({x[0]: x[1]})}) if (True) else (None)) if (x[0] != None) else (None))\n",
      "\n",
      "v0 = nation_supplier_l3_l2_lineitem_probe.sum(lambda x: (({build_side[x[0].l_suppkey].sum(lambda y: x[0].concat(y[0]))\n",
      ": True}) if (build_side[x[0].l_suppkey] != None) else (None)) if (x[0] != None) else (None))\n",
      "\n",
      "orders_nation_supplier_l3_l2_lineitem_probe = v0\n",
      "v0 = ord.sum(lambda x: (({x[0]: x[1]}) if (x[0].o_orderstatus == f) else (None)) if (x[0] != None) else (None))\n",
      "\n",
      "orders_nation_supplier_l3_l2_lineitem_part = v0\n",
      "build_side = orders_nation_supplier_l3_l2_lineitem_part.sum(lambda x: (({x[0].o_orderkey: sr_dict({x[0]: x[1]})}) if (True) else (None)) if (x[0] != None) else (None))\n",
      "\n",
      "v0 = orders_nation_supplier_l3_l2_lineitem_probe.sum(lambda x: (({build_side[x[0].l_orderkey].sum(lambda y: x[0].concat(y[0]))\n",
      ": True}) if (build_side[x[0].l_orderkey] != None) else (None)) if (x[0] != None) else (None))\n",
      "\n",
      "v1 = v0.sum(lambda x: (({x[0]: x[1]}) if (((x[0].l2_size > 1) * (x[0].l3_size == 1))) else (None)) if (x[0] != None) else (None))\n",
      "\n",
      "v2 = v1.sum(lambda x: (({record({\"s_name\": x[0].s_name}): record({\"numwait\": 1})}) if (True) else (None)) if (x[0] != None) else (None))\n",
      "\n",
      "v3 = v2.sum(lambda x: (({x[0].concat(x[1]): True}) if (True) else (None)) if (x[0] != None) else (None))\n",
      "\n",
      "results = v3\n",
      "============================================================\n",
      "\u001b[36m SDQL Execution Time: 91.92496180534363 s \u001b[0m\n",
      "\u001b[36m Pandas Execution Time: 0.8782141208648682 s \u001b[0m\n",
      "\u001b[36m DuckDB Execution Time: 0.10793948173522949 s \u001b[0m\n",
      "============================================================\n",
      ">> Comparing Pandas with Duck ... <<\n",
      "============================================================\n",
      "\u001b[32m Check Pandas with DuckDB: Pass \u001b[0m\n",
      "============================================================\n",
      "============================================================\n",
      ">> Comparing SDQL with Pandas ... <<\n",
      "============================================================\n",
      "\u001b[32m Query 21: Pass \u001b[0m\n",
      "============================================================\n",
      "21: \u001b[32m Pass \u001b[0m\n",
      "============================================================\n"
     ]
    },
    {
     "data": {
      "text/plain": [
       "True"
      ]
     },
     "execution_count": 11,
     "metadata": {},
     "output_type": "execute_result"
    }
   ],
   "source": [
    "pysdql.tpch_query(21, verbose=False, optimize=False)"
   ]
  }
 ],
 "metadata": {
  "kernelspec": {
   "display_name": "Python 3 (ipykernel)",
   "language": "python",
   "name": "python3"
  },
  "language_info": {
   "codemirror_mode": {
    "name": "ipython",
    "version": 3
   },
   "file_extension": ".py",
   "mimetype": "text/x-python",
   "name": "python",
   "nbconvert_exporter": "python",
   "pygments_lexer": "ipython3",
   "version": "3.9.7"
  }
 },
 "nbformat": 4,
 "nbformat_minor": 1
}
