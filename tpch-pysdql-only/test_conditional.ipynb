{
 "cells": [
  {
   "cell_type": "markdown",
   "metadata": {},
   "source": [
    "`(lineitem['l_discount'] >= 0.06) & (lineitem['l_discount'] <= 0.08)`"
   ]
  },
  {
   "cell_type": "code",
   "execution_count": 1,
   "metadata": {},
   "outputs": [],
   "source": [
    "import pandas\n",
    "import pysdql"
   ]
  },
  {
   "cell_type": "code",
   "execution_count": 2,
   "metadata": {},
   "outputs": [
    {
     "name": "stdout",
     "output_type": "stream",
     "text": [
      "========================================================\n",
      "let lineitem = load[{<l_orderkey: int, l_partkey: int, l_suppkey: int, l_linenumber: int, l_quantity: int, l_extendedprice: double, l_discount: double, l_tax: double, l_returnflag: string, l_linestatus: string, l_shipdate: date, l_commitdate: date, l_receiptdate: date, l_shipinstruct: string, l_shipmode: string, l_comment: string> -> int}](\"T:/UG4-Proj/datasets/lineitem.tbl\")\n",
      "let lmp = sum (<l_k, l_v> in lineitem) if (((0.06 <= l_k.l_discount) && (l_k.l_discount <= 0.08))) then { l_k -> 1 } else {  }\n",
      "let count_lmp = sum (<l_k, l_v> in lmp) l_v\n",
      "count_lmp\n",
      "========================================================\n",
      "[info] welcome to sbt 1.6.0 (Oracle Corporation Java 17)\n",
      "[info] loading project definition from T:\\sdql\\project\n",
      "[info] loading settings for project sdql from build.sbt ...\n",
      "[info] set current project to sdql (in build file:/T:/sdql/)\n",
      "[info]\n",
      "[info] Here are some highlights of this release:\n",
      "[info]   - Improved JDK 17 support\n",
      "[info]   - Improved Build Server Protocol (BSP) support\n",
      "[info]   - Tab completion of global keys\n",
      "[info] See https://eed3si9n.com/sbt-1.6.0 for full release notes.\n",
      "[info] Hide the banner for this release by running `skipBanner`.\n",
      "[info] sbt server started at local:sbt-server-ec9dcaf7bfc5935dead3\n",
      "[warn] sbt server could not start in 10s\n",
      "\u001b[?2004h>....[info] running sdql.driver.Main interpret T:/UG4-Proj/sdql_scripts/q.sdql\n",
      "1112\n",
      "[success] Total time: 7 s, completed 2022年7月19日 上午3:56:49\n",
      "========================================================\n",
      "pysdql execution time: 21.716795682907104\n"
     ]
    },
    {
     "data": {
      "text/plain": [
       "1112"
      ]
     },
     "execution_count": 2,
     "metadata": {},
     "output_type": "execute_result"
    }
   ],
   "source": [
    "db_driver = pysdql.db_driver(db_path=r'T:/sdql')\n",
    "\n",
    "lineitem = pysdql.read_tbl(path=r'T:/UG4-Proj/datasets/lineitem.tbl', header=pysdql.LINEITEM_COLS)\n",
    "\n",
    "r = lineitem[(lineitem['l_discount'] >= 0.06) & (lineitem['l_discount'] <= 0.08)]\n",
    "\n",
    "r = r.count()\n",
    "db_driver.run(r)"
   ]
  },
  {
   "cell_type": "code",
   "execution_count": 3,
   "metadata": {},
   "outputs": [
    {
     "name": "stdout",
     "output_type": "stream",
     "text": [
      "1685\n"
     ]
    }
   ],
   "source": [
    "path = r'T:\\UG4-Proj\\datasets'\n",
    "lineitem = pandas.read_table(rf'{path}\\lineitem.tbl', sep='|', index_col=False, header=None,\n",
    "                             names=pysdql.LINEITEM_COLS)\n",
    "r = lineitem[(lineitem['l_discount'] >= 0.06) & (lineitem['l_discount'] <= 0.08)]\n",
    "print(len(r))"
   ]
  },
  {
   "cell_type": "code",
   "execution_count": 4,
   "metadata": {
    "pycharm": {
     "is_executing": true
    }
   },
   "outputs": [
    {
     "name": "stdout",
     "output_type": "stream",
     "text": [
      "1685\n"
     ]
    }
   ],
   "source": [
    "count = 0\n",
    "with open(r'T:/UG4-Proj/datasets/lineitem.tbl', 'r') as f:\n",
    "    line = f.readline()\n",
    "    while line:\n",
    "        line_list = line.split('|')\n",
    "        if 0.06 <= float(line_list[6]) <= 0.08:\n",
    "            count += 1\n",
    "        line = f.readline()\n",
    "    else:\n",
    "        print(count)"
   ]
  },
  {
   "cell_type": "markdown",
   "metadata": {},
   "source": [
    "`(lineitem['l_discount'] <= 0.08)`"
   ]
  },
  {
   "cell_type": "code",
   "execution_count": 5,
   "metadata": {},
   "outputs": [
    {
     "name": "stdout",
     "output_type": "stream",
     "text": [
      "========================================================\n",
      "let lineitem = load[{<l_orderkey: int, l_partkey: int, l_suppkey: int, l_linenumber: int, l_quantity: int, l_extendedprice: double, l_discount: double, l_tax: double, l_returnflag: string, l_linestatus: string, l_shipdate: date, l_commitdate: date, l_receiptdate: date, l_shipinstruct: string, l_shipmode: string, l_comment: string> -> int}](\"T:/UG4-Proj/datasets/lineitem.tbl\")\n",
      "let lmp = sum (<l_k, l_v> in lineitem) if ((l_k.l_discount <= 0.08)) then { l_k -> 1 } else {  }\n",
      "let count_lmp = sum (<l_k, l_v> in lmp) l_v\n",
      "count_lmp\n",
      "========================================================\n",
      "[info] welcome to sbt 1.6.0 (Oracle Corporation Java 17)\n",
      "[info] loading project definition from T:\\sdql\\project\n",
      "[info] loading settings for project sdql from build.sbt ...\n",
      "[info] set current project to sdql (in build file:/T:/sdql/)\n",
      "[info]\n",
      "[info] Here are some highlights of this release:\n",
      "[info]   - Improved JDK 17 support\n",
      "[info]   - Improved Build Server Protocol (BSP) support\n",
      "[info]   - Tab completion of global keys\n",
      "[info] See https://eed3si9n.com/sbt-1.6.0 for full release notes.\n",
      "[info] Hide the banner for this release by running `skipBanner`.\n",
      "[info] sbt server started at local:sbt-server-ec9dcaf7bfc5935dead3\n",
      "[warn] sbt server could not start in 10s\n",
      "\u001b[?2004h>....[info] running sdql.driver.Main interpret T:/UG4-Proj/sdql_scripts/q.sdql\n",
      "4364\n",
      "[success] Total time: 25 s, completed 2022年7月19日 上午3:57:29\n",
      "========================================================\n",
      "pysdql execution time: 40.337461709976196\n"
     ]
    },
    {
     "data": {
      "text/plain": [
       "4364"
      ]
     },
     "execution_count": 5,
     "metadata": {},
     "output_type": "execute_result"
    }
   ],
   "source": [
    "db_driver = pysdql.db_driver(db_path=r'T:/sdql')\n",
    "\n",
    "lineitem = pysdql.read_tbl(path=r'T:/UG4-Proj/datasets/lineitem.tbl', header=pysdql.LINEITEM_COLS)\n",
    "\n",
    "r = lineitem[lineitem['l_discount'] <= 0.08]\n",
    "\n",
    "r = r.count()\n",
    "db_driver.run(r)"
   ]
  },
  {
   "cell_type": "code",
   "execution_count": 6,
   "metadata": {},
   "outputs": [
    {
     "name": "stdout",
     "output_type": "stream",
     "text": [
      "4937\n"
     ]
    }
   ],
   "source": [
    "path = r'T:\\UG4-Proj\\datasets'\n",
    "lineitem = pandas.read_table(rf'{path}\\lineitem.tbl', sep='|', index_col=False, header=None,\n",
    "                             names=pysdql.LINEITEM_COLS)\n",
    "r = lineitem[(lineitem['l_discount'] <= 0.08)]\n",
    "print(len(r))"
   ]
  },
  {
   "cell_type": "code",
   "execution_count": 7,
   "metadata": {},
   "outputs": [
    {
     "name": "stdout",
     "output_type": "stream",
     "text": [
      "4937\n"
     ]
    }
   ],
   "source": [
    "count = 0\n",
    "with open(r'T:/UG4-Proj/datasets/lineitem.tbl', 'r') as f:\n",
    "    line = f.readline()\n",
    "    while line:\n",
    "        line_list = line.split('|')\n",
    "        if float(line_list[6]) <= 0.08:\n",
    "            count += 1\n",
    "        line = f.readline()\n",
    "    else:\n",
    "        print(count)"
   ]
  },
  {
   "cell_type": "markdown",
   "metadata": {},
   "source": [
    "`(lineitem['l_discount'] >= 0.06)`"
   ]
  },
  {
   "cell_type": "code",
   "execution_count": 8,
   "metadata": {},
   "outputs": [
    {
     "name": "stdout",
     "output_type": "stream",
     "text": [
      "========================================================\n",
      "let lineitem = load[{<l_orderkey: int, l_partkey: int, l_suppkey: int, l_linenumber: int, l_quantity: int, l_extendedprice: double, l_discount: double, l_tax: double, l_returnflag: string, l_linestatus: string, l_shipdate: date, l_commitdate: date, l_receiptdate: date, l_shipinstruct: string, l_shipmode: string, l_comment: string> -> int}](\"T:/UG4-Proj/datasets/lineitem.tbl\")\n",
      "let lmp = sum (<l_k, l_v> in lineitem) if ((0.06 <= l_k.l_discount)) then { l_k -> 1 } else {  }\n",
      "let count_lmp = sum (<l_k, l_v> in lmp) l_v\n",
      "count_lmp\n",
      "========================================================\n",
      "[info] welcome to sbt 1.6.0 (Oracle Corporation Java 17)\n",
      "[info] loading project definition from T:\\sdql\\project\n",
      "[info] loading settings for project sdql from build.sbt ...\n",
      "[info] set current project to sdql (in build file:/T:/sdql/)\n",
      "[info]\n",
      "[info] Here are some highlights of this release:\n",
      "[info]   - Improved JDK 17 support\n",
      "[info]   - Improved Build Server Protocol (BSP) support\n",
      "[info]   - Tab completion of global keys\n",
      "[info] See https://eed3si9n.com/sbt-1.6.0 for full release notes.\n",
      "[info] Hide the banner for this release by running `skipBanner`.\n",
      "[info] sbt server started at local:sbt-server-ec9dcaf7bfc5935dead3\n",
      "[warn] sbt server could not start in 10s\n",
      "\u001b[?2004h>....[info] running sdql.driver.Main interpret T:/UG4-Proj/sdql_scripts/q.sdql\n",
      "2753\n",
      "[success] Total time: 16 s, completed 2022年7月19日 上午3:58:00\n",
      "========================================================\n",
      "pysdql execution time: 30.811681032180786\n"
     ]
    },
    {
     "data": {
      "text/plain": [
       "2753"
      ]
     },
     "execution_count": 8,
     "metadata": {},
     "output_type": "execute_result"
    }
   ],
   "source": [
    "db_driver = pysdql.db_driver(db_path=r'T:/sdql')\n",
    "\n",
    "lineitem = pysdql.read_tbl(path=r'T:/UG4-Proj/datasets/lineitem.tbl', header=pysdql.LINEITEM_COLS)\n",
    "\n",
    "r = lineitem[(lineitem['l_discount'] >= 0.06)]\n",
    "\n",
    "r = r.count()\n",
    "db_driver.run(r)"
   ]
  },
  {
   "cell_type": "code",
   "execution_count": 9,
   "metadata": {},
   "outputs": [
    {
     "name": "stdout",
     "output_type": "stream",
     "text": [
      "2753\n"
     ]
    }
   ],
   "source": [
    "path = r'T:\\UG4-Proj\\datasets'\n",
    "lineitem = pandas.read_table(rf'{path}\\lineitem.tbl', sep='|', index_col=False, header=None,\n",
    "                             names=pysdql.LINEITEM_COLS)\n",
    "r = lineitem[(lineitem['l_discount'] >= 0.06)]\n",
    "print(len(r))"
   ]
  },
  {
   "cell_type": "code",
   "execution_count": 10,
   "metadata": {},
   "outputs": [
    {
     "name": "stdout",
     "output_type": "stream",
     "text": [
      "2753\n"
     ]
    }
   ],
   "source": [
    "count = 0\n",
    "with open(r'T:/UG4-Proj/datasets/lineitem.tbl', 'r') as f:\n",
    "    line = f.readline()\n",
    "    while line:\n",
    "        line_list = line.split('|')\n",
    "        if 0.06 <= float(line_list[6]):\n",
    "            count += 1\n",
    "        line = f.readline()\n",
    "    else:\n",
    "        print(count)"
   ]
  }
 ],
 "metadata": {
  "kernelspec": {
   "display_name": "Python 3 (ipykernel)",
   "language": "python",
   "name": "python3"
  },
  "language_info": {
   "codemirror_mode": {
    "name": "ipython",
    "version": 3
   },
   "file_extension": ".py",
   "mimetype": "text/x-python",
   "name": "python",
   "nbconvert_exporter": "python",
   "pygments_lexer": "ipython3",
   "version": "3.9.7"
  }
 },
 "nbformat": 4,
 "nbformat_minor": 1
}
