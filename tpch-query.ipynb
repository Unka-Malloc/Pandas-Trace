{
 "cells": [
  {
   "cell_type": "code",
   "execution_count": 1,
   "metadata": {},
   "outputs": [],
   "source": [
    "from datetime import datetime, timedelta\n",
    "from time import time\n",
    "import pysdql\n",
    "\n",
    "data_path = 'T:/UG4-Proj/datasets'\n",
    "sdql_database_path = r'T:/sdql'\n",
    "\n",
    "tpch_query_start = time()"
   ]
  },
  {
   "cell_type": "markdown",
   "metadata": {
    "collapsed": true
   },
   "source": [
    "# TPCH - 1 ✅"
   ]
  },
  {
   "cell_type": "markdown",
   "metadata": {},
   "source": [
    "### SQL - 1"
   ]
  },
  {
   "cell_type": "markdown",
   "metadata": {},
   "source": [
    "```\n",
    "select\n",
    "\tl_returnflag,\n",
    "\tl_linestatus,\n",
    "\tsum(l_quantity) as sum_qty,\n",
    "\tsum(l_extendedprice) as sum_base_price,\n",
    "\tsum(l_extendedprice * (1 - l_discount)) as sum_disc_price,\n",
    "\tsum(l_extendedprice * (1 - l_discount) * (1 + l_tax)) as sum_charge,\n",
    "\tavg(l_quantity) as avg_qty,\n",
    "\tavg(l_extendedprice) as avg_price,\n",
    "\tavg(l_discount) as avg_disc,\n",
    "\tcount(*) as count_order\n",
    "from\n",
    "\tlineitem\n",
    "where\n",
    "\tl_shipdate <= date '1998-12-01' - interval ':1' day\n",
    "group by\n",
    "\tl_returnflag,\n",
    "\tl_linestatus\n",
    "```"
   ]
  },
  {
   "cell_type": "markdown",
   "metadata": {},
   "source": [
    "### pysdql - 1"
   ]
  },
  {
   "cell_type": "code",
   "execution_count": 2,
   "metadata": {},
   "outputs": [
    {
     "name": "stdout",
     "output_type": "stream",
     "text": [
      "let lineitem = load[{<l_orderkey: int, l_partkey: int, l_suppkey: int, l_linenumber: int, l_quantity: int, l_extendedprice: double, l_discount: double, l_tax: double, l_returnflag: string, l_linestatus: string, l_shipdate: date, l_commitdate: date, l_receiptdate: date, l_shipinstruct: string, l_shipmode: string, l_comment: string> -> int}](\"T:/UG4-Proj/datasets/lineitem.tbl\")\n",
      "let lmp = sum (<lin_k, lin_v> in lineitem) if ((lin_k.l_shipdate <= date(19980916))) then { lin_k -> 1 } else {  }\n",
      "let tmp = sum (<l_k, l_v> in lmp) { concat(l_k, < disc_price=(l_k.l_extendedprice * (1 - l_k.l_discount)) >) -> 1 }\n",
      "let tmpa = sum (<t_k, t_v> in tmp) { concat(t_k, < charge=((t_k.l_extendedprice * (1 - t_k.l_discount)) * (1 + t_k.l_tax)) >) -> 1 }\n",
      "let tmpc = sum (<ta_k, ta_v> in tmpa) { < l_returnflag=ta_k.l_returnflag, l_linestatus=ta_k.l_linestatus > -> < sum_qty=promote[nullable[real]](ta_k.l_quantity * ta_v), sum_base_price=promote[nullable[real]](ta_k.l_extendedprice * ta_v), sum_disc_price=promote[nullable[real]](ta_k.disc_price * ta_v), sum_charge=promote[nullable[real]](ta_k.charge * ta_v), avg_qty_sum=ta_k.l_quantity * ta_v, avg_qty_count=ta_v, avg_price_sum=ta_k.l_extendedprice * ta_v, avg_price_count=ta_v, avg_disc_sum=ta_k.l_discount * ta_v, avg_disc_count=ta_v, count_order=ta_v > }\n",
      "let agg_tmpa = sum (<tc_k, tc_v> in tmpc) { < l_returnflag=tc_k.l_returnflag, l_linestatus=tc_k.l_linestatus, sum_qty=promote[real](tc_v.sum_qty), sum_base_price=promote[real](tc_v.sum_base_price), sum_disc_price=promote[real](tc_v.sum_disc_price), sum_charge=promote[real](tc_v.sum_charge), avg_qty=(tc_v.avg_qty_sum / tc_v.avg_qty_count), avg_price=(tc_v.avg_price_sum / tc_v.avg_price_count), avg_disc=(tc_v.avg_disc_sum / tc_v.avg_disc_count), count_order=tc_v.count_order > -> 1 }\n",
      "agg_tmpa\n"
     ]
    },
    {
     "name": "stderr",
     "output_type": "stream",
     "text": [
      "[info] welcome to sbt 1.6.0 (Oracle Corporation Java 17)\n",
      "[info] loading project definition from T:\\sdql\\project\n",
      "[info] loading settings for project sdql from build.sbt ...\n",
      "[info] set current project to sdql (in build file:/T:/sdql/)\n",
      "[info] sbt server started at local:sbt-server-ec9dcaf7bfc5935dead3\n",
      "[warn] sbt server could not start in 10s\n",
      "\u001b[?2004h>....[info] running sdql.driver.Main interpret T:/UG4-Proj/output/Q00.sdql\n",
      "{<l_returnflag = R, l_linestatus = F, sum_qty = 36511, sum_base_price = 3.657084124000001E7, sum_disc_price = 3.473847287579999E7, sum_charge = 3.616906011219298E7, avg_qty = 25.059025394646532, avg_price = 25100.096938915587, avg_disc = 0.050027453671928776, count_order = 1457> -> 1, <l_returnflag = A, l_linestatus = F, sum_qty = 37474, sum_base_price = 3.756962464000001E7, sum_disc_price = 3.567619209700003E7, sum_charge = 3.710141622242402E7, avg_qty = 25.35453315290934, avg_price = 25419.23182679297, avg_disc = 0.05086603518267956, count_order = 1478> -> 1, <l_returnflag = N, l_linestatus = F, sum_qty = 1041, sum_base_price = 1041301.07, sum_disc_price = 999060.8979999998, sum_charge = 1036450.8022800002, avg_qty = 27.39473684210526, avg_price = 27402.659736842103, avg_disc = 0.042894736842105284, count_order = 38> -> 1, <l_returnflag = N, l_linestatus = O, sum_qty = 75618, sum_base_price = 7.583660204000002E7, sum_disc_price = 7.20762324659999E7, sum_charge = 7.4937938123901E7, avg_qty = 25.55525515376816, avg_price = 25629.132152754315, avg_disc = 0.04979722879351147, count_order = 2959> -> 1}\n",
      "[success] Total time: 1 s, completed 2022年7月30日 上午8:46:47\n",
      "========================================================\n",
      "pysdql execution time: 16.425424814224243\n",
      "export sdql script \"tpch-1.sdql\" to \"T:/UG4-Proj/output/tpch-1.sdql\"\n",
      "excute by:\n",
      "run interpret T:/UG4-Proj/output/tpch-1.sdql\n"
     ]
    },
    {
     "data": {
      "text/plain": [
       "{<l_returnflag = R, l_linestatus = F, sum_qty = 36511, sum_base_price = 3.657084124000001E7, sum_disc_price = 3.473847287579999E7, sum_charge = 3.616906011219298E7, avg_qty = 25.059025394646532, avg_price = 25100.096938915587, avg_disc = 0.050027453671928776, count_order = 1457> -> 1, <l_returnflag = A, l_linestatus = F, sum_qty = 37474, sum_base_price = 3.756962464000001E7, sum_disc_price = 3.567619209700003E7, sum_charge = 3.710141622242402E7, avg_qty = 25.35453315290934, avg_price = 25419.23182679297, avg_disc = 0.05086603518267956, count_order = 1478> -> 1, <l_returnflag = N, l_linestatus = F, sum_qty = 1041, sum_base_price = 1041301.07, sum_disc_price = 999060.8979999998, sum_charge = 1036450.8022800002, avg_qty = 27.39473684210526, avg_price = 27402.659736842103, avg_disc = 0.042894736842105284, count_order = 38> -> 1, <l_returnflag = N, l_linestatus = O, sum_qty = 75618, sum_base_price = 7.583660204000002E7, sum_disc_price = 7.20762324659999E7, sum_charge = 7.4937938123901E7, avg_qty = 25.55525515376816, avg_price = 25629.132152754315, avg_disc = 0.04979722879351147, count_order = 2959> -> 1}"
      ]
     },
     "execution_count": 2,
     "metadata": {},
     "output_type": "execute_result"
    }
   ],
   "source": [
    "# Try replace pysdql with pandas to get result in pandas!\n",
    "# import pandas as pd  # get answer in pandas\n",
    "import pysdql as pd  # get answer in pysdql\n",
    "\n",
    "# display all columns\n",
    "pd.set_option('display.max_columns', None)\n",
    "# display all rows\n",
    "pd.set_option('display.max_rows', None)\n",
    "\n",
    "days = 76\n",
    "var1 = str((datetime.strptime('1998-12-01', \"%Y-%m-%d\") - timedelta(days=days)).strftime(\"%Y-%m-%d\"))\n",
    "\n",
    "lineitem = pd.read_table(rf'{data_path}/lineitem.tbl', sep='|', index_col=False, header=None, names=pysdql.LINEITEM_COLS)\n",
    "\n",
    "r = lineitem[lineitem['l_shipdate'] <= var1]\n",
    "\n",
    "r['disc_price'] = r['l_extendedprice'] * (1 - r['l_discount'])\n",
    "r['charge'] = r['l_extendedprice'] * (1 - r['l_discount']) * (1 + r['l_tax'])\n",
    "\n",
    "r = r.groupby(['l_returnflag', 'l_linestatus'], as_index=False) \\\n",
    "    .agg(sum_qty=('l_quantity', 'sum'),\n",
    "         sum_base_price=('l_extendedprice', 'sum'),\n",
    "         sum_disc_price=('disc_price', 'sum'),\n",
    "         sum_charge=('charge', 'sum'),\n",
    "         avg_qty=('l_quantity', 'mean'),\n",
    "         avg_price=('l_extendedprice', 'mean'),\n",
    "         avg_disc=('l_discount', 'mean'),\n",
    "         count_order=('l_quantity', 'count'))\n",
    "\n",
    "print(r)\n",
    "\n",
    "pysdql.db_driver(db_path=sdql_database_path, name='tpch-1').run(r).export().to()"
   ]
  },
  {
   "cell_type": "markdown",
   "metadata": {},
   "source": [
    "### pandas - 1"
   ]
  },
  {
   "cell_type": "code",
   "execution_count": 3,
   "metadata": {},
   "outputs": [
    {
     "name": "stdout",
     "output_type": "stream",
     "text": [
      "  l_returnflag l_linestatus  sum_qty  sum_base_price  sum_disc_price  \\\n",
      "0            A            F    37474     37569624.64    3.567619e+07   \n",
      "1            N            F     1041      1041301.07    9.990609e+05   \n",
      "2            N            O    75618     75836602.04    7.207623e+07   \n",
      "3            R            F    36511     36570841.24    3.473847e+07   \n",
      "\n",
      "     sum_charge    avg_qty     avg_price  avg_disc  count_order  \n",
      "0  3.710142e+07  25.354533  25419.231827  0.050866         1478  \n",
      "1  1.036451e+06  27.394737  27402.659737  0.042895           38  \n",
      "2  7.493794e+07  25.555255  25629.132153  0.049797         2959  \n",
      "3  3.616906e+07  25.059025  25100.096939  0.050027         1457  \n"
     ]
    },
    {
     "name": "stderr",
     "output_type": "stream",
     "text": [
      "C:\\Users\\Y\\AppData\\Local\\Temp\\ipykernel_6788\\3382729007.py:17: SettingWithCopyWarning: \n",
      "A value is trying to be set on a copy of a slice from a DataFrame.\n",
      "Try using .loc[row_indexer,col_indexer] = value instead\n",
      "\n",
      "See the caveats in the documentation: https://pandas.pydata.org/pandas-docs/stable/user_guide/indexing.html#returning-a-view-versus-a-copy\n",
      "  r['disc_price'] = r['l_extendedprice'] * (1 - r['l_discount'])\n",
      "C:\\Users\\Y\\AppData\\Local\\Temp\\ipykernel_6788\\3382729007.py:18: SettingWithCopyWarning: \n",
      "A value is trying to be set on a copy of a slice from a DataFrame.\n",
      "Try using .loc[row_indexer,col_indexer] = value instead\n",
      "\n",
      "See the caveats in the documentation: https://pandas.pydata.org/pandas-docs/stable/user_guide/indexing.html#returning-a-view-versus-a-copy\n",
      "  r['charge'] = r['l_extendedprice'] * (1 - r['l_discount']) * (1 + r['l_tax'])\n"
     ]
    }
   ],
   "source": [
    "# Try replace pysdql with pandas to get result in pandas!\n",
    "import pandas as pd  # get answer in pandas\n",
    "# import pysdql as pd  # get answer in pysdql\n",
    "\n",
    "# display all columns\n",
    "pd.set_option('display.max_columns', None)\n",
    "# display all rows\n",
    "pd.set_option('display.max_rows', None)\n",
    "\n",
    "days = 76\n",
    "var1 = str((datetime.strptime('1998-12-01', \"%Y-%m-%d\") - timedelta(days=days)).strftime(\"%Y-%m-%d\"))\n",
    "\n",
    "lineitem = pd.read_table(rf'{data_path}/lineitem.tbl', sep='|', index_col=False, header=None, names=pysdql.LINEITEM_COLS)\n",
    "\n",
    "r = lineitem[lineitem['l_shipdate'] <= var1]\n",
    "\n",
    "r['disc_price'] = r['l_extendedprice'] * (1 - r['l_discount'])\n",
    "r['charge'] = r['l_extendedprice'] * (1 - r['l_discount']) * (1 + r['l_tax'])\n",
    "\n",
    "r = r.groupby(['l_returnflag', 'l_linestatus'], as_index=False) \\\n",
    "    .agg(sum_qty=('l_quantity', 'sum'),\n",
    "         sum_base_price=('l_extendedprice', 'sum'),\n",
    "         sum_disc_price=('disc_price', 'sum'),\n",
    "         sum_charge=('charge', 'sum'),\n",
    "         avg_qty=('l_quantity', 'mean'),\n",
    "         avg_price=('l_extendedprice', 'mean'),\n",
    "         avg_disc=('l_discount', 'mean'),\n",
    "         count_order=('l_quantity', 'count'))\n",
    "\n",
    "print(r)\n",
    "\n",
    "pysdql.db_driver(db_path=sdql_database_path, name='tpch-1').run(r).export().to()"
   ]
  },
  {
   "cell_type": "markdown",
   "metadata": {},
   "source": [
    "# TPCH - 2 ✅"
   ]
  },
  {
   "cell_type": "markdown",
   "metadata": {},
   "source": [
    "### SQL - 2"
   ]
  },
  {
   "cell_type": "markdown",
   "metadata": {},
   "source": [
    "```\n",
    "select\n",
    "\ts_acctbal,\n",
    "\ts_name,\n",
    "\tn_name,\n",
    "\tp_partkey,\n",
    "\tp_mfgr,\n",
    "\ts_address,\n",
    "\ts_phone,\n",
    "\ts_comment\n",
    "from\n",
    "\tpart,\n",
    "\tsupplier,\n",
    "\tpartsupp,\n",
    "\tnation,\n",
    "\tregion\n",
    "where\n",
    "\tp_partkey = ps_partkey\n",
    "\tand s_suppkey = ps_suppkey\n",
    "\tand p_size = :1\n",
    "\tand p_type like '%:2'\n",
    "\tand s_nationkey = n_nationkey\n",
    "\tand n_regionkey = r_regionkey\n",
    "\tand r_name = ':3'\n",
    "\tand ps_supplycost = (\n",
    "\t\tselect\n",
    "\t\t\tmin(ps_supplycost)\n",
    "\t\tfrom\n",
    "\t\t\tpartsupp,\n",
    "\t\t\tsupplier,\n",
    "\t\t\tnation,\n",
    "\t\t\tregion\n",
    "\t\twhere\n",
    "\t\t\tp_partkey = ps_partkey\n",
    "\t\t\tand s_suppkey = ps_suppkey\n",
    "\t\t\tand s_nationkey = n_nationkey\n",
    "\t\t\tand n_regionkey = r_regionkey\n",
    "\t\t\tand r_name = ':3'\n",
    "\t)\n",
    "```"
   ]
  },
  {
   "cell_type": "markdown",
   "metadata": {},
   "source": [
    "### pysdql - 2"
   ]
  },
  {
   "cell_type": "code",
   "execution_count": 4,
   "metadata": {
    "scrolled": false
   },
   "outputs": [
    {
     "name": "stdout",
     "output_type": "stream",
     "text": [
      "let part = load[{<p_partkey: int, p_name: string, p_mfgr: string, p_brand: string, p_type: string, p_size: int, p_container: string, p_retailprice: double, p_comment: string> -> int}](\"T:/UG4-Proj/datasets/part.tbl\")\n",
      "let pmp = sum (<par_k, par_v> in part) if ((par_k.p_size == 14)) then { par_k -> 1 } else {  }\n",
      "let tmp = sum (<p_k, p_v> in pmp) if (ext(`StrEndsWith`, p_k.p_type, \"BRASS\")) then { p_k -> 1 } else {  }\n",
      "let sub_p = tmp\n",
      "let partsupp = load[{<ps_partkey: int, ps_suppkey: int, ps_availqty: int, ps_supplycost: double, ps_comment: string> -> int}](\"T:/UG4-Proj/datasets/partsupp.tbl\")\n",
      "let supplier = load[{<s_suppkey: int, s_name: string, s_address: string, s_nationkey: int, s_phone: string, s_acctbal: double, s_comment: string> -> int}](\"T:/UG4-Proj/datasets/supplier.tbl\")\n",
      "let region = load[{<r_regionkey: int, r_name: string, r_comment: string> -> int}](\"T:/UG4-Proj/datasets/region.tbl\")\n",
      "let rmp = sum (<reg_k, reg_v> in region) if ((reg_k.r_name == \"EUROPE\")) then { reg_k -> 1 } else {  }\n",
      "let sub_r = rmp\n",
      "let nation = load[{<n_nationkey: int, n_name: string, n_regionkey: int, n_comment: string> -> int}](\"T:/UG4-Proj/datasets/nation.tbl\")\n",
      "let part_sub_r = sum (<sr_k, sr_v> in sub_r) { < r_regionkey=sr_k.r_regionkey > -> { sr_k -> sr_v } }\n",
      "let Rm0 = sum (<nat_k, nat_v> in nation) if ((part_sub_r(<r_regionkey=nat_k.n_regionkey>) != {  })) then sum(<p_k, p_v> in part_sub_r(<r_regionkey=nat_k.n_regionkey>)) { concat(nat_k, p_k) -> nat_v * p_v } else {  }\n",
      "let part_supplier = sum (<sup_k, sup_v> in supplier) { < s_nationkey=sup_k.s_nationkey > -> { sup_k -> sup_v } }\n",
      "let Rm1 = sum (<r0_k, r0_v> in Rm0) if ((part_supplier(<s_nationkey=r0_k.n_nationkey>) != {  })) then sum(<p_k, p_v> in part_supplier(<s_nationkey=r0_k.n_nationkey>)) { concat(r0_k, p_k) -> r0_v * p_v } else {  }\n",
      "let part_partsupp = sum (<psup_k, psup_v> in partsupp) { < ps_suppkey=psup_k.ps_suppkey > -> { psup_k -> psup_v } }\n",
      "let Rm2 = sum (<r1_k, r1_v> in Rm1) if ((part_partsupp(<ps_suppkey=r1_k.s_suppkey>) != {  })) then sum(<p_k, p_v> in part_partsupp(<ps_suppkey=r1_k.s_suppkey>)) { concat(r1_k, p_k) -> r1_v * p_v } else {  }\n",
      "let part_sub_p = sum (<sp_k, sp_v> in sub_p) { < p_partkey=sp_k.p_partkey > -> { sp_k -> sp_v } }\n",
      "let Rm3 = sum (<r2_k, r2_v> in Rm2) if ((part_sub_p(<p_partkey=r2_k.ps_partkey>) != {  })) then sum(<p_k, p_v> in part_sub_p(<p_partkey=r2_k.ps_partkey>)) { concat(r2_k, p_k) -> r2_v * p_v } else {  }\n",
      "let r2 = Rm3\n",
      "let rmp = sum (<reg_k, reg_v> in region) if ((reg_k.r_name == \"EUROPE\")) then { reg_k -> 1 } else {  }\n",
      "let nation = load[{<n_nationkey: int, n_name: string, n_regionkey: int, n_comment: string> -> int}](\"T:/UG4-Proj/datasets/nation.tbl\")\n",
      "let partsupp = load[{<ps_partkey: int, ps_suppkey: int, ps_availqty: int, ps_supplycost: double, ps_comment: string> -> int}](\"T:/UG4-Proj/datasets/partsupp.tbl\")\n",
      "let part_supplier = sum (<sup_k, sup_v> in supplier) { < s_suppkey=sup_k.s_suppkey > -> { sup_k -> sup_v } }\n",
      "let Rm0 = sum (<psup_k, psup_v> in partsupp) if ((part_supplier(<s_suppkey=psup_k.ps_suppkey>) != {  })) then sum(<p_k, p_v> in part_supplier(<s_suppkey=psup_k.ps_suppkey>)) { concat(psup_k, p_k) -> psup_v * p_v } else {  }\n",
      "let part_nation = sum (<nat_k, nat_v> in nation) { < n_nationkey=nat_k.n_nationkey > -> { nat_k -> nat_v } }\n",
      "let Rm1 = sum (<r0_k, r0_v> in Rm0) if ((part_nation(<n_nationkey=r0_k.s_nationkey>) != {  })) then sum(<p_k, p_v> in part_nation(<n_nationkey=r0_k.s_nationkey>)) { concat(r0_k, p_k) -> r0_v * p_v } else {  }\n",
      "let part_sub_r = sum (<sr_k, sr_v> in sub_r) { < r_regionkey=sr_k.r_regionkey > -> { sr_k -> sr_v } }\n",
      "let Rm2 = sum (<r1_k, r1_v> in Rm1) if ((part_sub_r(<r_regionkey=r1_k.n_regionkey>) != {  })) then sum(<p_k, p_v> in part_sub_r(<r_regionkey=r1_k.n_regionkey>)) { concat(r1_k, p_k) -> r1_v * p_v } else {  }\n",
      "let tmpa = sum (<r2_k, r2_v> in Rm2) { < ps_partkey=r2_k.ps_partkey, ps_suppkey=r2_k.ps_suppkey > -> < min_supplycost=promote[mnpr](r2_k.ps_supplycost) * promote[mnpr](r2_v) > }\n",
      "let agg_Rm2 = sum (<ta_k, ta_v> in tmpa) { < ps_partkey=ta_k.ps_partkey, ps_suppkey=ta_k.ps_suppkey, min_supplycost=promote[real](ta_v.min_supplycost) > -> 1 }\n",
      "let amp = sum (<a2_k, a2_v> in agg_Rm2) { concat(a2_k, < min_partkey=a2_k.ps_partkey >) -> 1 }\n",
      "let tmpb = sum (<a_k, a_v> in amp) { concat(a_k, < min_suppkey=a_k.ps_suppkey >) -> 1 }\n",
      "let tmpc = sum (<tb_k, tb_v> in tmpb) { < min_partkey=tb_k.min_partkey, min_suppkey=tb_k.min_suppkey, min_supplycost=tb_k.min_supplycost > -> 1 }\n",
      "let r1 = tmpc\n",
      "let part_r2 = sum (<r2_k, r2_v> in r2) { < ps_partkey=r2_k.ps_partkey, ps_suppkey=r2_k.ps_suppkey, ps_supplycost=r2_k.ps_supplycost > -> { r2_k -> r2_v } }\n",
      "let Rm0 = sum (<r1_k, r1_v> in r1) if ((part_r2(< ps_partkey=r1_k.min_partkey, ps_suppkey=r1_k.min_suppkey, ps_supplycost=r1_k.min_supplycost >) != {  })) then sum(<p_k, p_v> in part_r2(< ps_partkey=r1_k.min_partkey, ps_suppkey=r1_k.min_suppkey, ps_supplycost=r1_k.min_supplycost >)) { concat(r1_k, p_k) -> r1_v * p_v } else {  }\n",
      "let r = Rm0\n",
      "let tmpc = sum (<r_k, r_v> in r) { < s_acctbal=r_k.s_acctbal, s_name=r_k.s_name, n_name=r_k.n_name, p_partkey=r_k.p_partkey, p_mfgr=r_k.p_mfgr, s_address=r_k.s_address, s_phone=r_k.s_phone, s_comment=r_k.s_comment > -> 1 }\n",
      "tmpc\n"
     ]
    },
    {
     "name": "stderr",
     "output_type": "stream",
     "text": [
      "[info] welcome to sbt 1.6.0 (Oracle Corporation Java 17)\n",
      "[info] loading project definition from T:\\sdql\\project\n",
      "[info] loading settings for project sdql from build.sbt ...\n",
      "[info] set current project to sdql (in build file:/T:/sdql/)\n",
      "[info] sbt server started at local:sbt-server-ec9dcaf7bfc5935dead3\n",
      "[warn] sbt server could not start in 10s\n",
      "\u001b[?2004h>....[info] running sdql.driver.Main interpret T:/UG4-Proj/output/Q00.sdql\n",
      "{<s_acctbal = 6820.35, s_name = Supplier#000000007, n_name = UNITED KINGDOM, p_partkey = 4, p_mfgr = Manufacturer#3, s_address = s,4TicNGB4uO6PaSqNBUq, s_phone = 33-990-965-2201, s_comment = s unwind silently furiously regular courts. final requests are deposits. requests wake quietly blit\n",
      "> -> 1}\n",
      "[success] Total time: 1 s, completed 2022年7月30日 上午8:47:04\n",
      "========================================================\n",
      "pysdql execution time: 16.09527325630188\n",
      "export sdql script \"tpch-2.sdql\" to \"T:/UG4-Proj/output/tpch-2.sdql\"\n",
      "excute by:\n",
      "run interpret T:/UG4-Proj/output/tpch-2.sdql\n"
     ]
    },
    {
     "data": {
      "text/plain": [
       "{<s_acctbal = 6820.35, s_name = Supplier#000000007, n_name = UNITED KINGDOM, p_partkey = 4, p_mfgr = Manufacturer#3, s_address = s,4TicNGB4uO6PaSqNBUq, s_phone = 33-990-965-2201, s_comment = s unwind silently furiously regular courts. final requests are deposits. requests wake quietly blit> -> 1}"
      ]
     },
     "execution_count": 4,
     "metadata": {},
     "output_type": "execute_result"
    }
   ],
   "source": [
    "# Try replace pysdql with pandas to get result in pandas!\n",
    "# import pandas as pd  # get answer in pandas\n",
    "import pysdql as pd  # get answer in pysdql\n",
    "\n",
    "# display all columns\n",
    "pd.set_option('display.max_columns', None)\n",
    "# display all rows\n",
    "pd.set_option('display.max_rows', None)\n",
    "\n",
    "var1 = 14\n",
    "var2 = 'BRASS'\n",
    "var3 = 'EUROPE'\n",
    "\n",
    "part = pd.read_table(rf'{data_path}/part.tbl', sep='|', index_col=False, header=None, names=pysdql.PART_COLS)\n",
    "supplier = pd.read_table(rf'{data_path}/supplier.tbl', sep='|', index_col=False, header=None, names=pysdql.SUPPLIER_COLS)\n",
    "lineitem = pd.read_table(rf'{data_path}/lineitem.tbl', sep='|', index_col=False, header=None, names=pysdql.LINEITEM_COLS)\n",
    "partsupp = pd.read_table(rf'{data_path}/partsupp.tbl', sep='|', index_col=False, header=None, names=pysdql.PARTSUPP_COLS)\n",
    "nation = pd.read_table(rf'{data_path}/nation.tbl', sep='|', index_col=False, header=None, names=pysdql.NATION_COLS)\n",
    "region = pd.read_table(rf'{data_path}/region.tbl', sep='|', index_col=False, header=None, names=pysdql.REGION_COLS)\n",
    "\n",
    "sub_r = region[region['r_name'] == var3]\n",
    "sub_r.columns.name = 'sub_r'\n",
    "\n",
    "r1 = partsupp.merge(supplier, left_on='ps_suppkey', right_on='s_suppkey')\n",
    "r1 = r1.merge(nation, left_on='s_nationkey', right_on='n_nationkey')\n",
    "r1 = r1.merge(sub_r, left_on='n_regionkey', right_on='r_regionkey')\n",
    "r1 = r1.groupby(['ps_partkey', 'ps_suppkey'], as_index=False).agg(min_supplycost=('ps_supplycost', 'min'))\n",
    "\n",
    "r1['min_partkey'] = r1['ps_partkey']\n",
    "r1['min_suppkey'] = r1['ps_suppkey']\n",
    "\n",
    "r1 = r1[['min_partkey', 'min_suppkey', 'min_supplycost']]\n",
    "\n",
    "r1.columns.name = 'r1'\n",
    "\n",
    "sub_p = part[part['p_size'] == var1]\n",
    "sub_p = sub_p[sub_p['p_type'].str.endswith(var2)]\n",
    "\n",
    "sub_p.columns.name = 'sub_p'\n",
    "\n",
    "r2 = nation.merge(sub_r, left_on='n_regionkey', right_on='r_regionkey')\n",
    "r2 = r2.merge(supplier, left_on='n_nationkey', right_on='s_nationkey')\n",
    "r2 = r2.merge(partsupp, left_on='s_suppkey', right_on='ps_suppkey')\n",
    "r2 = r2.merge(sub_p, left_on='ps_partkey', right_on='p_partkey')\n",
    "\n",
    "r2.columns.name = 'r2'\n",
    "\n",
    "r = r1.merge(r2,\n",
    "             left_on=['min_partkey', 'min_suppkey', 'min_supplycost'],\n",
    "             right_on=['ps_partkey', 'ps_suppkey', 'ps_supplycost'])\n",
    "\n",
    "r.columns.name = 'r'\n",
    "\n",
    "r = r[['s_acctbal', 's_name', 'n_name', 'p_partkey', 'p_mfgr', 's_address', 's_phone', 's_comment']]\n",
    "\n",
    "print(r)\n",
    "\n",
    "pysdql.db_driver(db_path=sdql_database_path, name='tpch-2').run(r).export().to()"
   ]
  },
  {
   "cell_type": "markdown",
   "metadata": {},
   "source": [
    "### pandas - 2"
   ]
  },
  {
   "cell_type": "code",
   "execution_count": 5,
   "metadata": {},
   "outputs": [
    {
     "name": "stdout",
     "output_type": "stream",
     "text": [
      "r  s_acctbal              s_name          n_name  p_partkey          p_mfgr  \\\n",
      "0    6820.35  Supplier#000000007  UNITED KINGDOM          4  Manufacturer#3   \n",
      "\n",
      "r              s_address          s_phone  \\\n",
      "0  s,4TicNGB4uO6PaSqNBUq  33-990-965-2201   \n",
      "\n",
      "r                                          s_comment  \n",
      "0  s unwind silently furiously regular courts. fi...  \n"
     ]
    }
   ],
   "source": [
    "# Try replace pysdql with pandas to get result in pandas!\n",
    "import pandas as pd  # get answer in pandas\n",
    "# import pysdql as pd  # get answer in pysdql\n",
    "\n",
    "# display all columns\n",
    "pd.set_option('display.max_columns', None)\n",
    "# display all rows\n",
    "pd.set_option('display.max_rows', None)\n",
    "\n",
    "var1 = 14\n",
    "var2 = 'BRASS'\n",
    "var3 = 'EUROPE'\n",
    "\n",
    "part = pd.read_table(rf'{data_path}/part.tbl', sep='|', index_col=False, header=None, names=pysdql.PART_COLS)\n",
    "supplier = pd.read_table(rf'{data_path}/supplier.tbl', sep='|', index_col=False, header=None, names=pysdql.SUPPLIER_COLS)\n",
    "lineitem = pd.read_table(rf'{data_path}/lineitem.tbl', sep='|', index_col=False, header=None, names=pysdql.LINEITEM_COLS)\n",
    "partsupp = pd.read_table(rf'{data_path}/partsupp.tbl', sep='|', index_col=False, header=None, names=pysdql.PARTSUPP_COLS)\n",
    "nation = pd.read_table(rf'{data_path}/nation.tbl', sep='|', index_col=False, header=None, names=pysdql.NATION_COLS)\n",
    "region = pd.read_table(rf'{data_path}/region.tbl', sep='|', index_col=False, header=None, names=pysdql.REGION_COLS)\n",
    "\n",
    "sub_r = region[region['r_name'] == var3]\n",
    "sub_r.columns.name = 'sub_r'\n",
    "\n",
    "r1 = partsupp.merge(supplier, left_on='ps_suppkey', right_on='s_suppkey')\n",
    "r1 = r1.merge(nation, left_on='s_nationkey', right_on='n_nationkey')\n",
    "r1 = r1.merge(sub_r, left_on='n_regionkey', right_on='r_regionkey')\n",
    "r1 = r1.groupby(['ps_partkey', 'ps_suppkey'], as_index=False).agg(min_supplycost=('ps_supplycost', 'min'))\n",
    "\n",
    "r1['min_partkey'] = r1['ps_partkey']\n",
    "r1['min_suppkey'] = r1['ps_suppkey']\n",
    "\n",
    "r1 = r1[['min_partkey', 'min_suppkey', 'min_supplycost']]\n",
    "\n",
    "r1.columns.name = 'r1'\n",
    "\n",
    "sub_p = part[part['p_size'] == var1]\n",
    "sub_p = sub_p[sub_p['p_type'].str.endswith(var2)]\n",
    "\n",
    "sub_p.columns.name = 'sub_p'\n",
    "\n",
    "r2 = nation.merge(sub_r, left_on='n_regionkey', right_on='r_regionkey')\n",
    "r2 = r2.merge(supplier, left_on='n_nationkey', right_on='s_nationkey')\n",
    "r2 = r2.merge(partsupp, left_on='s_suppkey', right_on='ps_suppkey')\n",
    "r2 = r2.merge(sub_p, left_on='ps_partkey', right_on='p_partkey')\n",
    "\n",
    "r2.columns.name = 'r2'\n",
    "\n",
    "r = r1.merge(r2,\n",
    "             left_on=['min_partkey', 'min_suppkey', 'min_supplycost'],\n",
    "             right_on=['ps_partkey', 'ps_suppkey', 'ps_supplycost'])\n",
    "\n",
    "r.columns.name = 'r'\n",
    "\n",
    "r = r[['s_acctbal', 's_name', 'n_name', 'p_partkey', 'p_mfgr', 's_address', 's_phone', 's_comment']]\n",
    "\n",
    "print(r)\n",
    "\n",
    "pysdql.db_driver(db_path=sdql_database_path, name='tpch-2').run(r).export().to()"
   ]
  },
  {
   "cell_type": "markdown",
   "metadata": {},
   "source": [
    "# TPCH - 3 ✅"
   ]
  },
  {
   "cell_type": "markdown",
   "metadata": {},
   "source": [
    "### SQL - 3"
   ]
  },
  {
   "cell_type": "markdown",
   "metadata": {},
   "source": [
    "```\n",
    "select\n",
    "\tl_orderkey,\n",
    "\tsum(l_extendedprice * (1 - l_discount)) as revenue,\n",
    "\to_orderdate,\n",
    "\to_shippriority\n",
    "from\n",
    "\tcustomer,\n",
    "\torders,\n",
    "\tlineitem\n",
    "where\n",
    "\tc_mktsegment = ':1'\n",
    "\tand c_custkey = o_custkey\n",
    "\tand l_orderkey = o_orderkey\n",
    "\tand o_orderdate < date ':2'\n",
    "\tand l_shipdate > date ':2'\n",
    "group by\n",
    "\tl_orderkey,\n",
    "\to_orderdate,\n",
    "\to_shippriority\n",
    "```"
   ]
  },
  {
   "cell_type": "markdown",
   "metadata": {},
   "source": [
    "### pysdql - 3"
   ]
  },
  {
   "cell_type": "code",
   "execution_count": 6,
   "metadata": {},
   "outputs": [
    {
     "name": "stdout",
     "output_type": "stream",
     "text": [
      "let lineitem = load[{<l_orderkey: int, l_partkey: int, l_suppkey: int, l_linenumber: int, l_quantity: int, l_extendedprice: double, l_discount: double, l_tax: double, l_returnflag: string, l_linestatus: string, l_shipdate: date, l_commitdate: date, l_receiptdate: date, l_shipinstruct: string, l_shipmode: string, l_comment: string> -> int}](\"T:/UG4-Proj/datasets/lineitem.tbl\")\n",
      "let lmp = sum (<lin_k, lin_v> in lineitem) if ((date(19950322) < lin_k.l_shipdate)) then { lin_k -> 1 } else {  }\n",
      "let sub_l = lmp\n",
      "let orders = load[{<o_orderkey: int, o_custkey: int, o_orderstatus: string, o_totalprice: double, o_orderdate: date, o_orderpriority: string, o_clerk: string, o_shippriority: int, o_comment: string> -> int}](\"T:/UG4-Proj/datasets/orders.tbl\")\n",
      "let omp = sum (<ord_k, ord_v> in orders) if ((ord_k.o_orderdate < date(19950322))) then { ord_k -> 1 } else {  }\n",
      "let sub_o = omp\n",
      "let customer = load[{<c_custkey: int, c_name: string, c_address: string, c_nationkey: int, c_phone: string, c_acctbal: double, c_mktsegment: string, c_comment: string> -> int}](\"T:/UG4-Proj/datasets/customer.tbl\")\n",
      "let cmp = sum (<cus_k, cus_v> in customer) if ((cus_k.c_mktsegment == \"BUILDING\")) then { cus_k -> 1 } else {  }\n",
      "let sub_c = cmp\n",
      "let part_sub_o = sum (<so_k, so_v> in sub_o) { < o_custkey=so_k.o_custkey > -> { so_k -> so_v } }\n",
      "let Rm0 = sum (<sc_k, sc_v> in sub_c) if ((part_sub_o(<o_custkey=sc_k.c_custkey>) != {  })) then sum(<p_k, p_v> in part_sub_o(<o_custkey=sc_k.c_custkey>)) { concat(sc_k, p_k) -> sc_v * p_v } else {  }\n",
      "let part_sub_l = sum (<sl_k, sl_v> in sub_l) { < l_orderkey=sl_k.l_orderkey > -> { sl_k -> sl_v } }\n",
      "let Rm1 = sum (<r0_k, r0_v> in Rm0) if ((part_sub_l(<l_orderkey=r0_k.o_orderkey>) != {  })) then sum(<p_k, p_v> in part_sub_l(<l_orderkey=r0_k.o_orderkey>)) { concat(r0_k, p_k) -> r0_v * p_v } else {  }\n",
      "let rmp = sum (<r1_k, r1_v> in Rm1) { concat(r1_k, < value=(r1_k.l_extendedprice * (1 - r1_k.l_discount)) >) -> 1 }\n",
      "let tmpa = sum (<r_k, r_v> in rmp) { < l_orderkey=r_k.l_orderkey, o_orderdate=r_k.o_orderdate, o_shippriority=r_k.o_shippriority > -> < revenue=promote[nullable[real]](r_k.value * r_v) > }\n",
      "let agg_rmp = sum (<ta_k, ta_v> in tmpa) { < l_orderkey=ta_k.l_orderkey, o_orderdate=ta_k.o_orderdate, o_shippriority=ta_k.o_shippriority, revenue=promote[real](ta_v.revenue) > -> 1 }\n",
      "agg_rmp\n"
     ]
    },
    {
     "name": "stderr",
     "output_type": "stream",
     "text": [
      "[info] welcome to sbt 1.6.0 (Oracle Corporation Java 17)\n",
      "[info] loading project definition from T:\\sdql\\project\n",
      "[info] loading settings for project sdql from build.sbt ...\n",
      "[info] set current project to sdql (in build file:/T:/sdql/)\n",
      "[info] sbt server started at local:sbt-server-ec9dcaf7bfc5935dead3\n",
      "[warn] sbt server could not start in 10s\n",
      "\u001b[?2004h>....[info] running sdql.driver.Main interpret T:/UG4-Proj/output/Q00.sdql\n",
      "{<l_orderkey = 3492, o_orderdate = DateValue(19941124), o_shippriority = 0, revenue = 43716.072400000005> -> 1, <l_orderkey = 1637, o_orderdate = DateValue(19950208), o_shippriority = 0, revenue = 87438.8481> -> 1, <l_orderkey = 775, o_orderdate = DateValue(19950318), o_shippriority = 0, revenue = 55713.6063> -> 1, <l_orderkey = 998, o_orderdate = DateValue(19941126), o_shippriority = 0, revenue = 6811.434> -> 1, <l_orderkey = 742, o_orderdate = DateValue(19941223), o_shippriority = 0, revenue = 43728.048> -> 1, <l_orderkey = 5191, o_orderdate = DateValue(19941211), o_shippriority = 0, revenue = 49378.309400000006> -> 1, <l_orderkey = 3430, o_orderdate = DateValue(19941212), o_shippriority = 0, revenue = 4726.6775> -> 1, <l_orderkey = 2883, o_orderdate = DateValue(19950123), o_shippriority = 0, revenue = 36666.9612> -> 1}\n",
      "[success] Total time: 1 s, completed 2022年7月30日 上午8:47:20\n",
      "========================================================\n",
      "pysdql execution time: 16.312793970108032\n",
      "export sdql script \"tpch-3.sdql\" to \"T:/UG4-Proj/output/tpch-3.sdql\"\n",
      "excute by:\n",
      "run interpret T:/UG4-Proj/output/tpch-3.sdql\n"
     ]
    },
    {
     "data": {
      "text/plain": [
       "{<l_orderkey = 3492, o_orderdate = DateValue(19941124), o_shippriority = 0, revenue = 43716.072400000005> -> 1, <l_orderkey = 1637, o_orderdate = DateValue(19950208), o_shippriority = 0, revenue = 87438.8481> -> 1, <l_orderkey = 775, o_orderdate = DateValue(19950318), o_shippriority = 0, revenue = 55713.6063> -> 1, <l_orderkey = 998, o_orderdate = DateValue(19941126), o_shippriority = 0, revenue = 6811.434> -> 1, <l_orderkey = 742, o_orderdate = DateValue(19941223), o_shippriority = 0, revenue = 43728.048> -> 1, <l_orderkey = 5191, o_orderdate = DateValue(19941211), o_shippriority = 0, revenue = 49378.309400000006> -> 1, <l_orderkey = 3430, o_orderdate = DateValue(19941212), o_shippriority = 0, revenue = 4726.6775> -> 1, <l_orderkey = 2883, o_orderdate = DateValue(19950123), o_shippriority = 0, revenue = 36666.9612> -> 1}"
      ]
     },
     "execution_count": 6,
     "metadata": {},
     "output_type": "execute_result"
    }
   ],
   "source": [
    "# Try replace pysdql with pandas to get result in pandas!\n",
    "# import pandas as pd  # get answer in pandas\n",
    "import pysdql as pd  # get answer in pysdql\n",
    "\n",
    "# display all columns\n",
    "pd.set_option('display.max_columns', None)\n",
    "# display all rows\n",
    "pd.set_option('display.max_rows', None)\n",
    "\n",
    "var1 = 'BUILDING'\n",
    "var2 = '1995-03-22'\n",
    "\n",
    "customer = pd.read_table(rf'{data_path}/customer.tbl', sep='|', index_col=False, header=None, names=pysdql.CUSTOMER_COLS)\n",
    "orders = pd.read_table(rf'{data_path}/orders.tbl', sep='|', index_col=False, header=None, names=pysdql.ORDERS_COLS)\n",
    "lineitem = pd.read_table(rf'{data_path}/lineitem.tbl', sep='|', index_col=False, header=None, names=pysdql.LINEITEM_COLS)\n",
    "\n",
    "sub_c = customer[customer['c_mktsegment'] == var1]\n",
    "sub_c.columns.name = 'sub_c'\n",
    "\n",
    "sub_o = orders[orders['o_orderdate'] < var2]\n",
    "sub_o.columns.name = 'sub_o'\n",
    "\n",
    "sub_l = lineitem[lineitem['l_shipdate'] > var2]\n",
    "sub_l.columns.name = 'sub_l'\n",
    "\n",
    "r = sub_c.merge(sub_o, left_on='c_custkey', right_on='o_custkey')\n",
    "r = r.merge(sub_l, left_on='o_orderkey', right_on='l_orderkey')\n",
    "\n",
    "r['value'] = r['l_extendedprice'] * (1 - r['l_discount'])\n",
    "\n",
    "r = r.groupby(['l_orderkey', 'o_orderdate', 'o_shippriority'], as_index=False) \\\n",
    "    .agg(revenue=('value', 'sum'))\n",
    "\n",
    "print(r)\n",
    "\n",
    "pysdql.db_driver(db_path=sdql_database_path, name='tpch-3').run(r).export().to()"
   ]
  },
  {
   "cell_type": "markdown",
   "metadata": {},
   "source": [
    "### pandas - 3"
   ]
  },
  {
   "cell_type": "code",
   "execution_count": 7,
   "metadata": {},
   "outputs": [
    {
     "name": "stdout",
     "output_type": "stream",
     "text": [
      "   l_orderkey o_orderdate  o_shippriority     revenue\n",
      "0         742  1994-12-23               0  43728.0480\n",
      "1         775  1995-03-18               0  55713.6063\n",
      "2         998  1994-11-26               0   6811.4340\n",
      "3        1637  1995-02-08               0  87438.8481\n",
      "4        2883  1995-01-23               0  36666.9612\n",
      "5        3430  1994-12-12               0   4726.6775\n",
      "6        3492  1994-11-24               0  43716.0724\n",
      "7        5191  1994-12-11               0  49378.3094\n"
     ]
    }
   ],
   "source": [
    "# Try replace pysdql with pandas to get result in pandas!\n",
    "import pandas as pd  # get answer in pandas\n",
    "# import pysdql as pd  # get answer in pysdql\n",
    "\n",
    "# display all columns\n",
    "pd.set_option('display.max_columns', None)\n",
    "# display all rows\n",
    "pd.set_option('display.max_rows', None)\n",
    "\n",
    "var1 = 'BUILDING'\n",
    "var2 = '1995-03-22'\n",
    "\n",
    "customer = pd.read_table(rf'{data_path}/customer.tbl', sep='|', index_col=False, header=None, names=pysdql.CUSTOMER_COLS)\n",
    "orders = pd.read_table(rf'{data_path}/orders.tbl', sep='|', index_col=False, header=None, names=pysdql.ORDERS_COLS)\n",
    "lineitem = pd.read_table(rf'{data_path}/lineitem.tbl', sep='|', index_col=False, header=None, names=pysdql.LINEITEM_COLS)\n",
    "\n",
    "sub_c = customer[customer['c_mktsegment'] == var1]\n",
    "sub_c.columns.name = 'sub_c'\n",
    "\n",
    "sub_o = orders[orders['o_orderdate'] < var2]\n",
    "sub_o.columns.name = 'sub_o'\n",
    "\n",
    "sub_l = lineitem[lineitem['l_shipdate'] > var2]\n",
    "sub_l.columns.name = 'sub_l'\n",
    "\n",
    "r = sub_c.merge(sub_o, left_on='c_custkey', right_on='o_custkey')\n",
    "r = r.merge(sub_l, left_on='o_orderkey', right_on='l_orderkey')\n",
    "\n",
    "r['value'] = r['l_extendedprice'] * (1 - r['l_discount'])\n",
    "\n",
    "r = r.groupby(['l_orderkey', 'o_orderdate', 'o_shippriority'], as_index=False) \\\n",
    "    .agg(revenue=('value', 'sum'))\n",
    "\n",
    "print(r)\n",
    "\n",
    "pysdql.db_driver(db_path=sdql_database_path, name='tpch-3').run(r).export().to()"
   ]
  },
  {
   "cell_type": "markdown",
   "metadata": {},
   "source": [
    "# TPCH - 4 ✅"
   ]
  },
  {
   "cell_type": "markdown",
   "metadata": {},
   "source": [
    "### SQL - 4"
   ]
  },
  {
   "cell_type": "markdown",
   "metadata": {},
   "source": [
    "```\n",
    "select\n",
    "\to_orderpriority,\n",
    "\tcount(*) as order_count\n",
    "from\n",
    "\torders\n",
    "where\n",
    "\to_orderdate >= date ':1'\n",
    "\tand o_orderdate < date ':1' + interval '3' month\n",
    "\tand exists (\n",
    "\t\tselect\n",
    "\t\t\t*\n",
    "\t\tfrom\n",
    "\t\t\tlineitem\n",
    "\t\twhere\n",
    "\t\t\tl_orderkey = o_orderkey\n",
    "\t\t\tand l_commitdate < l_receiptdate\n",
    "\t)\n",
    "group by\n",
    "\to_orderpriority\n",
    "```"
   ]
  },
  {
   "cell_type": "markdown",
   "metadata": {},
   "source": [
    "### pysdql - 4"
   ]
  },
  {
   "cell_type": "code",
   "execution_count": 8,
   "metadata": {},
   "outputs": [
    {
     "name": "stdout",
     "output_type": "stream",
     "text": [
      "let lineitem = load[{<l_orderkey: int, l_partkey: int, l_suppkey: int, l_linenumber: int, l_quantity: int, l_extendedprice: double, l_discount: double, l_tax: double, l_returnflag: string, l_linestatus: string, l_shipdate: date, l_commitdate: date, l_receiptdate: date, l_shipinstruct: string, l_shipmode: string, l_comment: string> -> int}](\"T:/UG4-Proj/datasets/lineitem.tbl\")\n",
      "let orders = load[{<o_orderkey: int, o_custkey: int, o_orderstatus: string, o_totalprice: double, o_orderdate: date, o_orderpriority: string, o_clerk: string, o_shippriority: int, o_comment: string> -> int}](\"T:/UG4-Proj/datasets/orders.tbl\")\n",
      "let omp = sum (<ord_k, ord_v> in orders) if (((date(19960501) <= ord_k.o_orderdate) && (ord_k.o_orderdate < date(19960801)))) then { ord_k -> 1 } else {  }\n",
      "let sub_o = omp\n",
      "let part_lineitem = sum (<lin_k, lin_v> in lineitem) { < l_orderkey=lin_k.l_orderkey > -> { lin_k -> lin_v } }\n",
      "let Rm0 = sum (<so_k, so_v> in sub_o) if ((part_lineitem(<l_orderkey=so_k.o_orderkey>) != {  })) then sum(<p_k, p_v> in part_lineitem(<l_orderkey=so_k.o_orderkey>)) { concat(so_k, p_k) -> so_v * p_v } else {  }\n",
      "let rmp = sum (<r0_k, r0_v> in Rm0) if ((r0_k.l_commitdate < r0_k.l_receiptdate)) then { concat(r0_k, < exists=1 >) -> 1 } else { concat(r0_k, < exists=0 >) -> 1 }\n",
      "let tmpa = sum (<r_k, r_v> in rmp) { < o_orderpriority=r_k.o_orderpriority, o_orderkey=r_k.o_orderkey > -> < exists=promote[nullable[real]](r_k.exists * r_v) > }\n",
      "let agg_rmp = sum (<ta_k, ta_v> in tmpa) { < o_orderpriority=ta_k.o_orderpriority, o_orderkey=ta_k.o_orderkey, exists=promote[real](ta_v.exists) > -> 1 }\n",
      "let amp = sum (<ar_k, ar_v> in agg_rmp) if ((0 < ar_k.exists)) then { ar_k -> 1 } else {  }\n",
      "let tmpc = sum (<a_k, a_v> in amp) { < o_orderpriority=a_k.o_orderpriority > -> < order_count=a_v > }\n",
      "let agg_amp = sum (<tc_k, tc_v> in tmpc) { < o_orderpriority=tc_k.o_orderpriority, order_count=tc_v.order_count > -> 1 }\n",
      "agg_amp\n"
     ]
    },
    {
     "name": "stderr",
     "output_type": "stream",
     "text": [
      "[info] welcome to sbt 1.6.0 (Oracle Corporation Java 17)\n",
      "[info] loading project definition from T:\\sdql\\project\n",
      "[info] loading settings for project sdql from build.sbt ...\n",
      "[info] set current project to sdql (in build file:/T:/sdql/)\n",
      "[info] sbt server started at local:sbt-server-ec9dcaf7bfc5935dead3\n",
      "[warn] sbt server could not start in 10s\n",
      "\u001b[?2004h>....[info] running sdql.driver.Main interpret T:/UG4-Proj/output/Q00.sdql\n",
      "{<o_orderpriority = 4-NOT SPECIFIED, order_count = 12> -> 1, <o_orderpriority = 2-HIGH, order_count = 6> -> 1, <o_orderpriority = 5-LOW, order_count = 4> -> 1, <o_orderpriority = 1-URGENT, order_count = 10> -> 1, <o_orderpriority = 3-MEDIUM, order_count = 9> -> 1}\n",
      "[success] Total time: 1 s, completed 2022年7月30日 上午8:47:36\n",
      "========================================================\n",
      "pysdql execution time: 16.22284245491028\n",
      "export sdql script \"tpch-4.sdql\" to \"T:/UG4-Proj/output/tpch-4.sdql\"\n",
      "excute by:\n",
      "run interpret T:/UG4-Proj/output/tpch-4.sdql\n"
     ]
    },
    {
     "data": {
      "text/plain": [
       "{<o_orderpriority = 4-NOT SPECIFIED, order_count = 12> -> 1, <o_orderpriority = 2-HIGH, order_count = 6> -> 1, <o_orderpriority = 5-LOW, order_count = 4> -> 1, <o_orderpriority = 1-URGENT, order_count = 10> -> 1, <o_orderpriority = 3-MEDIUM, order_count = 9> -> 1}"
      ]
     },
     "execution_count": 8,
     "metadata": {},
     "output_type": "execute_result"
    }
   ],
   "source": [
    "# Try replace pysdql with pandas to get result in pandas!\n",
    "# import pandas as pd  # get answer in pandas\n",
    "# import numpy as np  # use numpy.select() must use together with pandas\n",
    "import pysdql as pd  # get answer in pysdql\n",
    "import pysdqlnp as np  # use pysdqlnp.select() must use together with pysdql\n",
    "\n",
    "# display all columns\n",
    "pd.set_option('display.max_columns', None)\n",
    "# display all rows\n",
    "pd.set_option('display.max_rows', None)\n",
    "\n",
    "var1 = '1996-05-01'\n",
    "var2 = '1996-08-01'  # var1 + 3 month\n",
    "\n",
    "lineitem = pd.read_table(rf'{data_path}/lineitem.tbl', sep='|', index_col=False, header=None, names=pysdql.LINEITEM_COLS)\n",
    "orders = pd.read_table(rf'{data_path}/orders.tbl', sep='|', index_col=False, header=None, names=pysdql.ORDERS_COLS)\n",
    "\n",
    "sub_o = orders[(orders['o_orderdate'] >= var1) & (orders['o_orderdate'] < var2)]\n",
    "sub_o.columns.name = 'sub_o'\n",
    "\n",
    "r = sub_o.merge(lineitem, left_on='o_orderkey', right_on='l_orderkey')\n",
    "r['exists'] = np.select(\n",
    "    [\n",
    "        (r['l_commitdate'] < r['l_receiptdate'])\n",
    "    ],\n",
    "    [\n",
    "        1\n",
    "    ],\n",
    "    default=0)\n",
    "r = r.groupby(['o_orderpriority', 'o_orderkey'], as_index=False).agg(exists=('exists', 'sum'))\n",
    "r = r[r['exists'] > 0]\n",
    "\n",
    "r = r.groupby(['o_orderpriority'], as_index=False).agg(order_count=('o_orderkey', 'count'))\n",
    "\n",
    "print(r)\n",
    "\n",
    "pysdql.db_driver(db_path=sdql_database_path, name='tpch-4').run(r).export().to()"
   ]
  },
  {
   "cell_type": "markdown",
   "metadata": {},
   "source": [
    "### pandas - 4"
   ]
  },
  {
   "cell_type": "code",
   "execution_count": 9,
   "metadata": {},
   "outputs": [
    {
     "name": "stdout",
     "output_type": "stream",
     "text": [
      "   o_orderpriority  order_count\n",
      "0         1-URGENT           10\n",
      "1           2-HIGH            6\n",
      "2         3-MEDIUM            9\n",
      "3  4-NOT SPECIFIED           12\n",
      "4            5-LOW            4\n"
     ]
    }
   ],
   "source": [
    "# Try replace pysdql with pandas to get result in pandas!\n",
    "import pandas as pd  # get answer in pandas\n",
    "import numpy as np  # use numpy.select() must use together with pandas\n",
    "# import pysdql as pd  # get answer in pysdql\n",
    "# import pysdqlnp as np  # use pysdqlnp.select() must use together with pysdql\n",
    "\n",
    "# display all columns\n",
    "pd.set_option('display.max_columns', None)\n",
    "# display all rows\n",
    "pd.set_option('display.max_rows', None)\n",
    "\n",
    "var1 = '1996-05-01'\n",
    "var2 = '1996-08-01'  # var1 + 3 month\n",
    "\n",
    "lineitem = pd.read_table(rf'{data_path}/lineitem.tbl', sep='|', index_col=False, header=None, names=pysdql.LINEITEM_COLS)\n",
    "orders = pd.read_table(rf'{data_path}/orders.tbl', sep='|', index_col=False, header=None, names=pysdql.ORDERS_COLS)\n",
    "\n",
    "sub_o = orders[(orders['o_orderdate'] >= var1) & (orders['o_orderdate'] < var2)]\n",
    "sub_o.columns.name = 'sub_o'\n",
    "\n",
    "r = sub_o.merge(lineitem, left_on='o_orderkey', right_on='l_orderkey')\n",
    "r['exists'] = np.select(\n",
    "    [\n",
    "        (r['l_commitdate'] < r['l_receiptdate'])\n",
    "    ],\n",
    "    [\n",
    "        1\n",
    "    ],\n",
    "    default=0)\n",
    "r = r.groupby(['o_orderpriority', 'o_orderkey'], as_index=False).agg(exists=('exists', 'sum'))\n",
    "r = r[r['exists'] > 0]\n",
    "\n",
    "r = r.groupby(['o_orderpriority'], as_index=False).agg(order_count=('o_orderkey', 'count'))\n",
    "\n",
    "print(r)\n",
    "\n",
    "pysdql.db_driver(db_path=sdql_database_path, name='tpch-4').run(r).export().to()"
   ]
  },
  {
   "cell_type": "markdown",
   "metadata": {},
   "source": [
    "# TPCH - 5 ✅"
   ]
  },
  {
   "cell_type": "markdown",
   "metadata": {},
   "source": [
    "### SQL - 5"
   ]
  },
  {
   "cell_type": "markdown",
   "metadata": {},
   "source": [
    "```\n",
    "select\n",
    "\tn_name,\n",
    "\tsum(l_extendedprice * (1 - l_discount)) as revenue\n",
    "from\n",
    "\tcustomer,\n",
    "\torders,\n",
    "\tlineitem,\n",
    "\tsupplier,\n",
    "\tnation,\n",
    "\tregion\n",
    "where\n",
    "\tc_custkey = o_custkey\n",
    "\tand l_orderkey = o_orderkey\n",
    "\tand l_suppkey = s_suppkey\n",
    "\tand c_nationkey = s_nationkey\n",
    "\tand s_nationkey = n_nationkey\n",
    "\tand n_regionkey = r_regionkey\n",
    "\tand r_name = ':1'\n",
    "\tand o_orderdate >= date ':2'\n",
    "\tand o_orderdate < date ':2' + interval '1' year\n",
    "group by\n",
    "\tn_name\n",
    "```"
   ]
  },
  {
   "cell_type": "markdown",
   "metadata": {},
   "source": [
    "### pysdql - 5"
   ]
  },
  {
   "cell_type": "code",
   "execution_count": 10,
   "metadata": {
    "scrolled": false
   },
   "outputs": [
    {
     "name": "stdout",
     "output_type": "stream",
     "text": [
      "let supplier = load[{<s_suppkey: int, s_name: string, s_address: string, s_nationkey: int, s_phone: string, s_acctbal: double, s_comment: string> -> int}](\"T:/UG4-Proj/datasets/supplier.tbl\")\n",
      "let lineitem = load[{<l_orderkey: int, l_partkey: int, l_suppkey: int, l_linenumber: int, l_quantity: int, l_extendedprice: double, l_discount: double, l_tax: double, l_returnflag: string, l_linestatus: string, l_shipdate: date, l_commitdate: date, l_receiptdate: date, l_shipinstruct: string, l_shipmode: string, l_comment: string> -> int}](\"T:/UG4-Proj/datasets/lineitem.tbl\")\n",
      "let orders = load[{<o_orderkey: int, o_custkey: int, o_orderstatus: string, o_totalprice: double, o_orderdate: date, o_orderpriority: string, o_clerk: string, o_shippriority: int, o_comment: string> -> int}](\"T:/UG4-Proj/datasets/orders.tbl\")\n",
      "let omp = sum (<ord_k, ord_v> in orders) if (((date(19950101) <= ord_k.o_orderdate) && (ord_k.o_orderdate < date(19960101)))) then { ord_k -> 1 } else {  }\n",
      "let sub_o = omp\n",
      "let customer = load[{<c_custkey: int, c_name: string, c_address: string, c_nationkey: int, c_phone: string, c_acctbal: double, c_mktsegment: string, c_comment: string> -> int}](\"T:/UG4-Proj/datasets/customer.tbl\")\n",
      "let nation = load[{<n_nationkey: int, n_name: string, n_regionkey: int, n_comment: string> -> int}](\"T:/UG4-Proj/datasets/nation.tbl\")\n",
      "let region = load[{<r_regionkey: int, r_name: string, r_comment: string> -> int}](\"T:/UG4-Proj/datasets/region.tbl\")\n",
      "let rmp = sum (<reg_k, reg_v> in region) if ((reg_k.r_name == \"MIDDLE EAST\")) then { reg_k -> 1 } else {  }\n",
      "let sub_r = rmp\n",
      "let part_nation = sum (<nat_k, nat_v> in nation) { < n_regionkey=nat_k.n_regionkey > -> { nat_k -> nat_v } }\n",
      "let Rm0 = sum (<sr_k, sr_v> in sub_r) if ((part_nation(<n_regionkey=sr_k.r_regionkey>) != {  })) then sum(<p_k, p_v> in part_nation(<n_regionkey=sr_k.r_regionkey>)) { concat(sr_k, p_k) -> sr_v * p_v } else {  }\n",
      "let part_customer = sum (<cus_k, cus_v> in customer) { < c_nationkey=cus_k.c_nationkey > -> { cus_k -> cus_v } }\n",
      "let Rm1 = sum (<r0_k, r0_v> in Rm0) if ((part_customer(<c_nationkey=r0_k.n_nationkey>) != {  })) then sum(<p_k, p_v> in part_customer(<c_nationkey=r0_k.n_nationkey>)) { concat(r0_k, p_k) -> r0_v * p_v } else {  }\n",
      "let part_sub_o = sum (<so_k, so_v> in sub_o) { < o_custkey=so_k.o_custkey > -> { so_k -> so_v } }\n",
      "let Rm2 = sum (<r1_k, r1_v> in Rm1) if ((part_sub_o(<o_custkey=r1_k.c_custkey>) != {  })) then sum(<p_k, p_v> in part_sub_o(<o_custkey=r1_k.c_custkey>)) { concat(r1_k, p_k) -> r1_v * p_v } else {  }\n",
      "let part_lineitem = sum (<lin_k, lin_v> in lineitem) { < l_orderkey=lin_k.l_orderkey > -> { lin_k -> lin_v } }\n",
      "let Rm3 = sum (<r2_k, r2_v> in Rm2) if ((part_lineitem(<l_orderkey=r2_k.o_orderkey>) != {  })) then sum(<p_k, p_v> in part_lineitem(<l_orderkey=r2_k.o_orderkey>)) { concat(r2_k, p_k) -> r2_v * p_v } else {  }\n",
      "let part_supplier = sum (<sup_k, sup_v> in supplier) { < s_nationkey=sup_k.s_nationkey, s_suppkey=sup_k.s_suppkey > -> { sup_k -> sup_v } }\n",
      "let Rm4 = sum (<r3_k, r3_v> in Rm3) if ((part_supplier(< s_nationkey=r3_k.n_nationkey, s_suppkey=r3_k.l_suppkey >) != {  })) then sum(<p_k, p_v> in part_supplier(< s_nationkey=r3_k.n_nationkey, s_suppkey=r3_k.l_suppkey >)) { concat(r3_k, p_k) -> r3_v * p_v } else {  }\n",
      "let tmp = sum (<r4_k, r4_v> in Rm4) { concat(r4_k, < value=(r4_k.l_extendedprice * (1 - r4_k.l_discount)) >) -> 1 }\n",
      "let tmpb = sum (<t_k, t_v> in tmp) { < n_name=t_k.n_name > -> < revenue=promote[nullable[real]](t_k.value * t_v) > }\n",
      "let agg_tmp = sum (<tb_k, tb_v> in tmpb) { < n_name=tb_k.n_name, revenue=promote[real](tb_v.revenue) > -> 1 }\n",
      "agg_tmp\n"
     ]
    },
    {
     "name": "stderr",
     "output_type": "stream",
     "text": [
      "[info] welcome to sbt 1.6.0 (Oracle Corporation Java 17)\n",
      "[info] loading project definition from T:\\sdql\\project\n",
      "[info] loading settings for project sdql from build.sbt ...\n",
      "[info] set current project to sdql (in build file:/T:/sdql/)\n",
      "[info] sbt server started at local:sbt-server-ec9dcaf7bfc5935dead3\n",
      "[warn] sbt server could not start in 10s\n",
      "\u001b[?2004h>....[info] running sdql.driver.Main interpret T:/UG4-Proj/output/Q00.sdql\n",
      "{<c_name = Customer#000000070, c_custkey = 70, o_orderkey = 2567, o_orderdate = DateValue(19980227), o_totalprice = 263411.29, l_quantity_sum = 1862> -> 1, <c_name = Customer#000000082, c_custkey = 82, o_orderkey = 3460, o_orderdate = DateValue(19951003), o_totalprice = 245976.74, l_quantity_sum = 1778> -> 1, <c_name = Customer#000000068, c_custkey = 68, o_orderkey = 2208, o_orderdate = DateValue(19950501), o_totalprice = 245388.06, l_quantity_sum = 1792> -> 1, <c_name = Customer#000000010, c_custkey = 10, o_orderkey = 4421, o_orderdate = DateValue(19970404), o_totalprice = 258779.02, l_quantity_sum = 1785> -> 1}\n",
      "[success] Total time: 2 s, completed 2022年7月30日 上午8:47:53\n",
      "========================================================\n",
      "pysdql execution time: 16.66753315925598\n",
      "export sdql script \"tpch-5.sdql\" to \"T:/UG4-Proj/output/tpch-5.sdql\"\n",
      "excute by:\n",
      "run interpret T:/UG4-Proj/output/tpch-5.sdql\n"
     ]
    },
    {
     "data": {
      "text/plain": [
       "{<c_name = Customer#000000070, c_custkey = 70, o_orderkey = 2567, o_orderdate = DateValue(19980227), o_totalprice = 263411.29, l_quantity_sum = 1862> -> 1, <c_name = Customer#000000082, c_custkey = 82, o_orderkey = 3460, o_orderdate = DateValue(19951003), o_totalprice = 245976.74, l_quantity_sum = 1778> -> 1, <c_name = Customer#000000068, c_custkey = 68, o_orderkey = 2208, o_orderdate = DateValue(19950501), o_totalprice = 245388.06, l_quantity_sum = 1792> -> 1, <c_name = Customer#000000010, c_custkey = 10, o_orderkey = 4421, o_orderdate = DateValue(19970404), o_totalprice = 258779.02, l_quantity_sum = 1785> -> 1}"
      ]
     },
     "execution_count": 10,
     "metadata": {},
     "output_type": "execute_result"
    }
   ],
   "source": [
    "# Try replace pysdql with pandas to get result in pandas!\n",
    "# import pandas as pd  # get answer in pandas\n",
    "import pysdql as pd  # get answer in pysdql\n",
    "\n",
    "# display all columns\n",
    "pd.set_option('display.max_columns', None)\n",
    "# display all rows\n",
    "pd.set_option('display.max_rows', None)\n",
    "\n",
    "var1 = 'MIDDLE EAST'\n",
    "var2 = '1995-01-01'\n",
    "var3 = '1996-01-01'  # var2 + 1 year\n",
    "\n",
    "customer = pd.read_table(rf'{data_path}/customer.tbl', sep='|', index_col=False, header=None, names=pysdql.CUSTOMER_COLS)\n",
    "orders = pd.read_table(rf'{data_path}/orders.tbl', sep='|', index_col=False, header=None, names=pysdql.ORDERS_COLS)\n",
    "lineitem = pd.read_table(rf'{data_path}/lineitem.tbl', sep='|', index_col=False, header=None, names=pysdql.LINEITEM_COLS)\n",
    "supplier = pd.read_table(rf'{data_path}/supplier.tbl', sep='|', index_col=False, header=None, names=pysdql.SUPPLIER_COLS)\n",
    "nation = pd.read_table(rf'{data_path}/nation.tbl', sep='|', index_col=False, header=None, names=pysdql.NATION_COLS)\n",
    "region = pd.read_table(rf'{data_path}/region.tbl', sep='|', index_col=False, header=None, names=pysdql.REGION_COLS)\n",
    "\n",
    "sub_r = region[region['r_name'] == var1]\n",
    "sub_r.columns.name = 'sub_r'\n",
    "\n",
    "sub_o = orders[(orders['o_orderdate'] >= var2) & (orders['o_orderdate'] < var3)]\n",
    "sub_o.columns.name = 'sub_o'\n",
    "\n",
    "r = sub_r.merge(right=nation, left_on='r_regionkey', right_on='n_regionkey')\n",
    "r = r.merge(right=customer, left_on='n_nationkey', right_on='c_nationkey')\n",
    "r = r.merge(right=sub_o, left_on='c_custkey', right_on='o_custkey')\n",
    "r = r.merge(right=lineitem, left_on='o_orderkey', right_on='l_orderkey')\n",
    "r = r.merge(right=supplier,\n",
    "            left_on=['c_nationkey', 'n_nationkey', 'l_suppkey'],\n",
    "            right_on=['s_nationkey', 's_nationkey', 's_suppkey'])\n",
    "\n",
    "r['value'] = r['l_extendedprice'] * (1 - r['l_discount'])\n",
    "\n",
    "r = r.groupby(['n_name'], as_index=False).agg(revenue=('value', 'sum'))\n",
    "\n",
    "print(r)\n",
    "\n",
    "pysdql.db_driver(db_path=sdql_database_path, name='tpch-5').run(r).export().to()"
   ]
  },
  {
   "cell_type": "markdown",
   "metadata": {},
   "source": [
    "### pandas - 5"
   ]
  },
  {
   "cell_type": "code",
   "execution_count": 11,
   "metadata": {},
   "outputs": [
    {
     "name": "stdout",
     "output_type": "stream",
     "text": [
      "  n_name     revenue\n",
      "0   IRAN  64854.8802\n",
      "1   IRAQ  28957.4409\n"
     ]
    }
   ],
   "source": [
    "# Try replace pysdql with pandas to get result in pandas!\n",
    "import pandas as pd  # get answer in pandas\n",
    "# import pysdql as pd  # get answer in pysdql\n",
    "\n",
    "# display all columns\n",
    "pd.set_option('display.max_columns', None)\n",
    "# display all rows\n",
    "pd.set_option('display.max_rows', None)\n",
    "\n",
    "var1 = 'MIDDLE EAST'\n",
    "var2 = '1995-01-01'\n",
    "var3 = '1996-01-01'  # var2 + 1 year\n",
    "\n",
    "customer = pd.read_table(rf'{data_path}/customer.tbl', sep='|', index_col=False, header=None, names=pysdql.CUSTOMER_COLS)\n",
    "orders = pd.read_table(rf'{data_path}/orders.tbl', sep='|', index_col=False, header=None, names=pysdql.ORDERS_COLS)\n",
    "lineitem = pd.read_table(rf'{data_path}/lineitem.tbl', sep='|', index_col=False, header=None, names=pysdql.LINEITEM_COLS)\n",
    "supplier = pd.read_table(rf'{data_path}/supplier.tbl', sep='|', index_col=False, header=None, names=pysdql.SUPPLIER_COLS)\n",
    "nation = pd.read_table(rf'{data_path}/nation.tbl', sep='|', index_col=False, header=None, names=pysdql.NATION_COLS)\n",
    "region = pd.read_table(rf'{data_path}/region.tbl', sep='|', index_col=False, header=None, names=pysdql.REGION_COLS)\n",
    "\n",
    "sub_r = region[region['r_name'] == var1]\n",
    "sub_r.columns.name = 'sub_r'\n",
    "\n",
    "sub_o = orders[(orders['o_orderdate'] >= var2) & (orders['o_orderdate'] < var3)]\n",
    "sub_o.columns.name = 'sub_o'\n",
    "\n",
    "r = sub_r.merge(right=nation, left_on='r_regionkey', right_on='n_regionkey')\n",
    "r = r.merge(right=customer, left_on='n_nationkey', right_on='c_nationkey')\n",
    "r = r.merge(right=sub_o, left_on='c_custkey', right_on='o_custkey')\n",
    "r = r.merge(right=lineitem, left_on='o_orderkey', right_on='l_orderkey')\n",
    "r = r.merge(right=supplier,\n",
    "            left_on=['c_nationkey', 'n_nationkey', 'l_suppkey'],\n",
    "            right_on=['s_nationkey', 's_nationkey', 's_suppkey'])\n",
    "\n",
    "r['value'] = r['l_extendedprice'] * (1 - r['l_discount'])\n",
    "\n",
    "r = r.groupby(['n_name'], as_index=False).agg(revenue=('value', 'sum'))\n",
    "\n",
    "print(r)\n",
    "\n",
    "pysdql.db_driver(db_path=sdql_database_path, name='tpch-5').run(r).export().to()"
   ]
  },
  {
   "cell_type": "markdown",
   "metadata": {},
   "source": [
    "# TPCH - 6 ✅"
   ]
  },
  {
   "cell_type": "markdown",
   "metadata": {},
   "source": [
    "### SQL - 6"
   ]
  },
  {
   "cell_type": "markdown",
   "metadata": {},
   "source": [
    "```\n",
    "select\n",
    "    sum(l_extendedprice * l_discount) as revenue\n",
    "from\n",
    "    lineitem\n",
    "where\n",
    "    l_shipdate >= date ':1'\n",
    "    and l_shipdate < date ':1' + interval '1' year\n",
    "    and l_discount between :2 - 0.01 and :2 + 0.01\n",
    "    and l_quantity < :3\n",
    "```"
   ]
  },
  {
   "cell_type": "markdown",
   "metadata": {},
   "source": [
    "### pysdql - 6"
   ]
  },
  {
   "cell_type": "code",
   "execution_count": 12,
   "metadata": {},
   "outputs": [
    {
     "name": "stdout",
     "output_type": "stream",
     "text": [
      "let lineitem = load[{<l_orderkey: int, l_partkey: int, l_suppkey: int, l_linenumber: int, l_quantity: int, l_extendedprice: double, l_discount: double, l_tax: double, l_returnflag: string, l_linestatus: string, l_shipdate: date, l_commitdate: date, l_receiptdate: date, l_shipinstruct: string, l_shipmode: string, l_comment: string> -> int}](\"T:/UG4-Proj/datasets/lineitem.tbl\")\n",
      "let lmp = sum (<lin_k, lin_v> in lineitem) if ((((((date(19970101) <= lin_k.l_shipdate) && (lin_k.l_shipdate < date(19980101))) && (0.05 < lin_k.l_discount)) && (lin_k.l_discount < 0.07)) && (lin_k.l_quantity < 24))) then { lin_k -> 1 } else {  }\n",
      "let tmp = sum (<l_k, l_v> in lmp) { concat(l_k, < value=(l_k.l_extendedprice * (1 - l_k.l_discount)) >) -> 1 }\n",
      "let tmpa = sum (<t_k, t_v> in tmp) < revenue=t_k. value * t_v >\n",
      "let tmpb = { < revenue=tmpa.revenue > -> 1 }\n",
      "tmpb\n"
     ]
    },
    {
     "name": "stderr",
     "output_type": "stream",
     "text": [
      "[info] welcome to sbt 1.6.0 (Oracle Corporation Java 17)\n",
      "[info] loading project definition from T:\\sdql\\project\n",
      "[info] loading settings for project sdql from build.sbt ...\n",
      "[info] set current project to sdql (in build file:/T:/sdql/)\n",
      "[info] sbt server started at local:sbt-server-ec9dcaf7bfc5935dead3\n",
      "[warn] sbt server could not start in 10s\n",
      "\u001b[?2004h>....[info] running sdql.driver.Main interpret T:/UG4-Proj/output/Q00.sdql\n",
      "{<revenue = 361995.00580000004> -> 1}\n",
      "[success] Total time: 1 s, completed 2022年7月30日 上午8:48:09\n",
      "========================================================\n",
      "pysdql execution time: 15.835960149765015\n",
      "export sdql script \"tpch-6.sdql\" to \"T:/UG4-Proj/output/tpch-6.sdql\"\n",
      "excute by:\n",
      "run interpret T:/UG4-Proj/output/tpch-6.sdql\n"
     ]
    },
    {
     "data": {
      "text/plain": [
       "{<revenue = 361995.00580000004> -> 1}"
      ]
     },
     "execution_count": 12,
     "metadata": {},
     "output_type": "execute_result"
    }
   ],
   "source": [
    "# Try replace pysdql with pandas to get result in pandas!\n",
    "# import pandas as pd  # get answer in pandas\n",
    "import pysdql as pd  # get answer in pysdql\n",
    "\n",
    "# display all columns\n",
    "pd.set_option('display.max_columns', None)\n",
    "# display all rows\n",
    "pd.set_option('display.max_rows', None)\n",
    "\n",
    "var1 = '1997-01-01'\n",
    "var2 = '1998-01-01'  # var1 + 1 year\n",
    "discount = 0.06\n",
    "var3 = round(discount - 0.01, 2)\n",
    "var4 = round(discount + 0.01, 2)\n",
    "var5 = 24\n",
    "\n",
    "lineitem = pd.read_table(rf'{data_path}/lineitem.tbl', sep='|', index_col=False, header=None, names=pysdql.LINEITEM_COLS)\n",
    "\n",
    "r = lineitem[(lineitem['l_shipdate'] >= var1) & (lineitem['l_shipdate'] < var2)\n",
    "             & (lineitem['l_discount'] > var3) & (lineitem['l_discount'] < var4)\n",
    "             & (lineitem['l_quantity'] < var5)]\n",
    "\n",
    "r['value'] = r['l_extendedprice'] * (1 - r['l_discount'])\n",
    "\n",
    "r = r.agg(revenue=('value', 'sum'))\n",
    "\n",
    "print(r)\n",
    "\n",
    "pysdql.db_driver(db_path=sdql_database_path, name='tpch-6').run(r).export().to()"
   ]
  },
  {
   "cell_type": "markdown",
   "metadata": {},
   "source": [
    "### pandas - 6"
   ]
  },
  {
   "cell_type": "code",
   "execution_count": 13,
   "metadata": {},
   "outputs": [
    {
     "name": "stdout",
     "output_type": "stream",
     "text": [
      "               value\n",
      "revenue  361995.0058\n"
     ]
    },
    {
     "name": "stderr",
     "output_type": "stream",
     "text": [
      "C:\\Users\\Y\\AppData\\Local\\Temp\\ipykernel_6788\\2851537430.py:23: SettingWithCopyWarning: \n",
      "A value is trying to be set on a copy of a slice from a DataFrame.\n",
      "Try using .loc[row_indexer,col_indexer] = value instead\n",
      "\n",
      "See the caveats in the documentation: https://pandas.pydata.org/pandas-docs/stable/user_guide/indexing.html#returning-a-view-versus-a-copy\n",
      "  r['value'] = r['l_extendedprice'] * (1 - r['l_discount'])\n"
     ]
    }
   ],
   "source": [
    "# Try replace pysdql with pandas to get result in pandas!\n",
    "import pandas as pd  # get answer in pandas\n",
    "# import pysdql as pd  # get answer in pysdql\n",
    "\n",
    "# display all columns\n",
    "pd.set_option('display.max_columns', None)\n",
    "# display all rows\n",
    "pd.set_option('display.max_rows', None)\n",
    "\n",
    "var1 = '1997-01-01'\n",
    "var2 = '1998-01-01'  # var1 + 1 year\n",
    "discount = 0.06\n",
    "var3 = round(discount - 0.01, 2)\n",
    "var4 = round(discount + 0.01, 2)\n",
    "var5 = 24\n",
    "\n",
    "lineitem = pd.read_table(rf'{data_path}/lineitem.tbl', sep='|', index_col=False, header=None, names=pysdql.LINEITEM_COLS)\n",
    "\n",
    "r = lineitem[(lineitem['l_shipdate'] >= var1) & (lineitem['l_shipdate'] < var2)\n",
    "             & (lineitem['l_discount'] > var3) & (lineitem['l_discount'] < var4)\n",
    "             & (lineitem['l_quantity'] < var5)]\n",
    "\n",
    "r['value'] = r['l_extendedprice'] * (1 - r['l_discount'])\n",
    "\n",
    "r = r.agg(revenue=('value', 'sum'))\n",
    "\n",
    "print(r)\n",
    "\n",
    "pysdql.db_driver(db_path=sdql_database_path, name='tpch-6').run(r).export().to()"
   ]
  },
  {
   "cell_type": "markdown",
   "metadata": {},
   "source": [
    "# TPCH - 7 ✅"
   ]
  },
  {
   "cell_type": "markdown",
   "metadata": {
    "pycharm": {
     "name": "#%%\n"
    }
   },
   "source": [
    "### SQL - 7"
   ]
  },
  {
   "cell_type": "markdown",
   "metadata": {},
   "source": [
    "```\n",
    "select\n",
    "\tsupp_nation,\n",
    "\tcust_nation,\n",
    "\tl_year,\n",
    "\tsum(volume) as revenue\n",
    "from\n",
    "\t(\n",
    "\t\tselect\n",
    "\t\t\tn1.n_name as supp_nation,\n",
    "\t\t\tn2.n_name as cust_nation,\n",
    "\t\t\textract(year from l_shipdate) as l_year,\n",
    "\t\t\tl_extendedprice * (1 - l_discount) as volume\n",
    "\t\tfrom\n",
    "\t\t\tsupplier,\n",
    "\t\t\tlineitem,\n",
    "\t\t\torders,\n",
    "\t\t\tcustomer,\n",
    "\t\t\tnation n1,\n",
    "\t\t\tnation n2\n",
    "\t\twhere\n",
    "\t\t\ts_suppkey = l_suppkey\n",
    "\t\t\tand o_orderkey = l_orderkey\n",
    "\t\t\tand c_custkey = o_custkey\n",
    "\t\t\tand s_nationkey = n1.n_nationkey\n",
    "\t\t\tand c_nationkey = n2.n_nationkey\n",
    "\t\t\tand (\n",
    "\t\t\t\t(n1.n_name = ':1' and n2.n_name = ':2')\n",
    "\t\t\t\tor (n1.n_name = ':2' and n2.n_name = ':1')\n",
    "\t\t\t)\n",
    "\t\t\tand l_shipdate between date '1995-01-01' and date '1996-12-31'\n",
    "\t) as shipping\n",
    "group by\n",
    "\tsupp_nation,\n",
    "\tcust_nation,\n",
    "\tl_year\n",
    "```"
   ]
  },
  {
   "cell_type": "markdown",
   "metadata": {},
   "source": [
    "### pysdql - 7"
   ]
  },
  {
   "cell_type": "code",
   "execution_count": 14,
   "metadata": {},
   "outputs": [
    {
     "name": "stdout",
     "output_type": "stream",
     "text": [
      "let lineitem = load[{<l_orderkey: int, l_partkey: int, l_suppkey: int, l_linenumber: int, l_quantity: int, l_extendedprice: double, l_discount: double, l_tax: double, l_returnflag: string, l_linestatus: string, l_shipdate: date, l_commitdate: date, l_receiptdate: date, l_shipinstruct: string, l_shipmode: string, l_comment: string> -> int}](\"T:/UG4-Proj/datasets/lineitem.tbl\")\n",
      "let lmp = sum (<lin_k, lin_v> in lineitem) if (((date(19950101) <= lin_k.l_shipdate) && (lin_k.l_shipdate <= date(19961231)))) then { lin_k -> 1 } else {  }\n",
      "let orders = load[{<o_orderkey: int, o_custkey: int, o_orderstatus: string, o_totalprice: double, o_orderdate: date, o_orderpriority: string, o_clerk: string, o_shippriority: int, o_comment: string> -> int}](\"T:/UG4-Proj/datasets/orders.tbl\")\n",
      "let supplier = load[{<s_suppkey: int, s_name: string, s_address: string, s_nationkey: int, s_phone: string, s_acctbal: double, s_comment: string> -> int}](\"T:/UG4-Proj/datasets/supplier.tbl\")\n",
      "let customer = load[{<c_custkey: int, c_name: string, c_address: string, c_nationkey: int, c_phone: string, c_acctbal: double, c_mktsegment: string, c_comment: string> -> int}](\"T:/UG4-Proj/datasets/customer.tbl\")\n",
      "let nation = load[{<n2_nationkey: int, n2_name: string, n2_regionkey: int, n2_comment: string> -> int}](\"T:/UG4-Proj/datasets/nation.tbl\")\n",
      "let n2 = nation\n",
      "let nation = load[{<n1_nationkey: int, n1_name: string, n1_regionkey: int, n1_comment: string> -> int}](\"T:/UG4-Proj/datasets/nation.tbl\")\n",
      "let n1 = nation\n",
      "let Rm0 = sum (<n1_k, n1_v> in n1) sum (<n2_k, n2_v> in n2) { concat(n1_k, n2_k) -> n1_v * n2_v }\n",
      "let rmp = sum (<r0_k, r0_v> in Rm0) if ((((r0_k.n1_name == \"PERU\") && (r0_k.n2_name == \"MOROCCO\")) || ((r0_k.n1_name == \"MOROCCO\") && (r0_k.n2_name == \"PERU\")))) then { r0_k -> 1 } else {  }\n",
      "let part_customer = sum (<cus_k, cus_v> in customer) { < c_nationkey=cus_k.c_nationkey > -> { cus_k -> cus_v } }\n",
      "let Rm1 = sum (<r_k, r_v> in rmp) if ((part_customer(<c_nationkey=r_k.n2_nationkey>) != {  })) then sum(<p_k, p_v> in part_customer(<c_nationkey=r_k.n2_nationkey>)) { concat(r_k, p_k) -> r_v * p_v } else {  }\n",
      "let part_supplier = sum (<sup_k, sup_v> in supplier) { < s_nationkey=sup_k.s_nationkey > -> { sup_k -> sup_v } }\n",
      "let Rm2 = sum (<r1_k, r1_v> in Rm1) if ((part_supplier(<s_nationkey=r1_k.n1_nationkey>) != {  })) then sum(<p_k, p_v> in part_supplier(<s_nationkey=r1_k.n1_nationkey>)) { concat(r1_k, p_k) -> r1_v * p_v } else {  }\n",
      "let part_orders = sum (<ord_k, ord_v> in orders) { < o_custkey=ord_k.o_custkey > -> { ord_k -> ord_v } }\n",
      "let Rm3 = sum (<r2_k, r2_v> in Rm2) if ((part_orders(<o_custkey=r2_k.c_custkey>) != {  })) then sum(<p_k, p_v> in part_orders(<o_custkey=r2_k.c_custkey>)) { concat(r2_k, p_k) -> r2_v * p_v } else {  }\n",
      "let part_lmp = sum (<l_k, l_v> in lmp) { < l_orderkey=l_k.l_orderkey, l_suppkey=l_k.l_suppkey > -> { l_k -> l_v } }\n",
      "let Rm4 = sum (<r3_k, r3_v> in Rm3) if ((part_lmp(< l_orderkey=r3_k.o_orderkey, l_suppkey=r3_k.s_suppkey >) != {  })) then sum(<p_k, p_v> in part_lmp(< l_orderkey=r3_k.o_orderkey, l_suppkey=r3_k.s_suppkey >)) { concat(r3_k, p_k) -> r3_v * p_v } else {  }\n",
      "let tmp = sum (<r4_k, r4_v> in Rm4) { concat(r4_k, < supp_nation=r4_k.n1_name >) -> 1 }\n",
      "let tmpa = sum (<t_k, t_v> in tmp) { concat(t_k, < cust_nation=t_k.n2_name >) -> 1 }\n",
      "let tmpb = sum (<ta_k, ta_v> in tmpa) { concat(ta_k, < volume=(ta_k.l_extendedprice * (1 - ta_k.l_discount)) >) -> 1 }\n",
      "let tmpc = sum (<tb_k, tb_v> in tmpb) { concat(tb_k, < l_year=ext(`Year`, tb_k.l_shipdate) >) -> 1 }\n",
      "let tmpd = sum (<tc_k, tc_v> in tmpc) { < supp_nation=tc_k.supp_nation, cust_nation=tc_k.cust_nation, l_year=tc_k.l_year, volume=tc_k.volume > -> 1 }\n",
      "let shiping = tmpd\n",
      "let tmpd = sum (<s_k, s_v> in shiping) { < supp_nation=s_k.supp_nation, cust_nation=s_k.cust_nation, l_year=s_k.l_year > -> < revenue=promote[nullable[real]](s_k.volume * s_v) > }\n",
      "let agg_shiping = sum (<td_k, td_v> in tmpd) { < supp_nation=td_k.supp_nation, cust_nation=td_k.cust_nation, l_year=td_k.l_year, revenue=promote[real](td_v.revenue) > -> 1 }\n",
      "agg_shiping\n"
     ]
    },
    {
     "name": "stderr",
     "output_type": "stream",
     "text": [
      "[info] welcome to sbt 1.6.0 (Oracle Corporation Java 17)\n",
      "[info] loading project definition from T:\\sdql\\project\n",
      "[info] loading settings for project sdql from build.sbt ...\n",
      "[info] set current project to sdql (in build file:/T:/sdql/)\n",
      "[info] sbt server started at local:sbt-server-ec9dcaf7bfc5935dead3\n",
      "[warn] sbt server could not start in 10s\n",
      "\u001b[?2004h>....[info] running sdql.driver.Main interpret T:/UG4-Proj/output/Q00.sdql\n",
      "{<supp_nation = PERU, cust_nation = MOROCCO, l_year = 1996, revenue = 203568.86399999997> -> 1, <supp_nation = MOROCCO, cust_nation = PERU, l_year = 1995, revenue = 228013.98859999998> -> 1, <supp_nation = PERU, cust_nation = MOROCCO, l_year = 1995, revenue = 306687.8357> -> 1, <supp_nation = MOROCCO, cust_nation = PERU, l_year = 1996, revenue = 180769.569> -> 1}\n",
      "[success] Total time: 1 s, completed 2022年7月30日 上午8:48:25\n",
      "========================================================\n",
      "pysdql execution time: 16.073507070541382\n",
      "export sdql script \"tpch-7.sdql\" to \"T:/UG4-Proj/output/tpch-7.sdql\"\n",
      "excute by:\n",
      "run interpret T:/UG4-Proj/output/tpch-7.sdql\n"
     ]
    },
    {
     "data": {
      "text/plain": [
       "{<supp_nation = PERU, cust_nation = MOROCCO, l_year = 1996, revenue = 203568.86399999997> -> 1, <supp_nation = MOROCCO, cust_nation = PERU, l_year = 1995, revenue = 228013.98859999998> -> 1, <supp_nation = PERU, cust_nation = MOROCCO, l_year = 1995, revenue = 306687.8357> -> 1, <supp_nation = MOROCCO, cust_nation = PERU, l_year = 1996, revenue = 180769.569> -> 1}"
      ]
     },
     "execution_count": 14,
     "metadata": {},
     "output_type": "execute_result"
    }
   ],
   "source": [
    "# Try replace pysdql with pandas to get result in pandas!\n",
    "# import pandas as pd  # get answer in pandas\n",
    "import pysdql as pd  # get answer in pysdql\n",
    "\n",
    "# display all columns\n",
    "pd.set_option('display.max_columns', None)\n",
    "# display all rows\n",
    "pd.set_option('display.max_rows', None)\n",
    "\n",
    "var1 = 'PERU'\n",
    "var2 = 'MOROCCO'\n",
    "\n",
    "supplier = pd.read_table(rf'{data_path}/supplier.tbl', sep='|', index_col=False, header=None, names=pysdql.SUPPLIER_COLS)\n",
    "lineitem = pd.read_table(rf'{data_path}/lineitem.tbl', sep='|', index_col=False, header=None, names=pysdql.LINEITEM_COLS)\n",
    "orders = pd.read_table(rf'{data_path}/orders.tbl', sep='|', index_col=False, header=None, names=pysdql.ORDERS_COLS)\n",
    "customer = pd.read_table(rf'{data_path}/customer.tbl', sep='|', index_col=False, header=None, names=pysdql.CUSTOMER_COLS)\n",
    "\n",
    "n1_cols = ['n1_nationkey', 'n1_name', 'n1_regionkey', 'n1_comment']\n",
    "n2_cols = ['n2_nationkey', 'n2_name', 'n2_regionkey', 'n2_comment']\n",
    "n1 = pd.read_table(rf'{data_path}/nation.tbl', sep='|', index_col=False, header=None, names=n1_cols)\n",
    "n2 = pd.read_table(rf'{data_path}/nation.tbl', sep='|', index_col=False, header=None, names=n2_cols)\n",
    "\n",
    "n1.columns.name = 'n1'\n",
    "n2.columns.name = 'n2'\n",
    "\n",
    "sub_n = n1.merge(n2, how='cross')\n",
    "r = sub_n[(sub_n['n1_name'] == var1) & (sub_n['n2_name'] == var2)\n",
    "          | ((sub_n['n1_name'] == var2) & (sub_n['n2_name'] == var1))]\n",
    "\n",
    "r = r.merge(customer, left_on='n2_nationkey', right_on='c_nationkey')\n",
    "r = r.merge(supplier, left_on='n1_nationkey', right_on='s_nationkey')\n",
    "r = r.merge(orders, left_on='c_custkey', right_on='o_custkey')\n",
    "\n",
    "sub_l = lineitem[(lineitem['l_shipdate'] >= '1995-01-01') & (lineitem['l_shipdate'] <= '1996-12-31')]\n",
    "r = r.merge(sub_l, left_on=['o_orderkey', 's_suppkey'], right_on=['l_orderkey', 'l_suppkey'])\n",
    "\n",
    "r['supp_nation'] = r['n1_name']\n",
    "r['cust_nation'] = r['n2_name']\n",
    "r['volume'] = r['l_extendedprice'] * (1 - r['l_discount'])\n",
    "r['l_year'] = pd.DatetimeIndex(r['l_shipdate']).year\n",
    "\n",
    "r = r[['supp_nation', 'cust_nation', 'l_year', 'volume']]\n",
    "\n",
    "r.columns.name = 'shiping'\n",
    "\n",
    "r = r.groupby(['supp_nation', 'cust_nation', 'l_year'], as_index=False).agg(revenue=('volume', 'sum'))\n",
    "\n",
    "print(r)\n",
    "\n",
    "pysdql.db_driver(db_path=sdql_database_path, name='tpch-7').run(r).export().to()"
   ]
  },
  {
   "cell_type": "markdown",
   "metadata": {},
   "source": [
    "### pandas - 7"
   ]
  },
  {
   "cell_type": "code",
   "execution_count": 15,
   "metadata": {},
   "outputs": [
    {
     "name": "stdout",
     "output_type": "stream",
     "text": [
      "  supp_nation cust_nation  l_year      revenue\n",
      "0     MOROCCO        PERU    1995  228013.9886\n",
      "1     MOROCCO        PERU    1996  180769.5690\n",
      "2        PERU     MOROCCO    1995  306687.8357\n",
      "3        PERU     MOROCCO    1996  203568.8640\n"
     ]
    }
   ],
   "source": [
    "# Try replace pysdql with pandas to get result in pandas!\n",
    "import pandas as pd  # get answer in pandas\n",
    "# import pysdql as pd  # get answer in pysdql\n",
    "\n",
    "# display all columns\n",
    "pd.set_option('display.max_columns', None)\n",
    "# display all rows\n",
    "pd.set_option('display.max_rows', None)\n",
    "\n",
    "var1 = 'PERU'\n",
    "var2 = 'MOROCCO'\n",
    "\n",
    "supplier = pd.read_table(rf'{data_path}/supplier.tbl', sep='|', index_col=False, header=None, names=pysdql.SUPPLIER_COLS)\n",
    "lineitem = pd.read_table(rf'{data_path}/lineitem.tbl', sep='|', index_col=False, header=None, names=pysdql.LINEITEM_COLS)\n",
    "orders = pd.read_table(rf'{data_path}/orders.tbl', sep='|', index_col=False, header=None, names=pysdql.ORDERS_COLS)\n",
    "customer = pd.read_table(rf'{data_path}/customer.tbl', sep='|', index_col=False, header=None, names=pysdql.CUSTOMER_COLS)\n",
    "\n",
    "n1_cols = ['n1_nationkey', 'n1_name', 'n1_regionkey', 'n1_comment']\n",
    "n2_cols = ['n2_nationkey', 'n2_name', 'n2_regionkey', 'n2_comment']\n",
    "n1 = pd.read_table(rf'{data_path}/nation.tbl', sep='|', index_col=False, header=None, names=n1_cols)\n",
    "n2 = pd.read_table(rf'{data_path}/nation.tbl', sep='|', index_col=False, header=None, names=n2_cols)\n",
    "\n",
    "n1.columns.name = 'n1'\n",
    "n2.columns.name = 'n2'\n",
    "\n",
    "sub_n = n1.merge(n2, how='cross')\n",
    "r = sub_n[(sub_n['n1_name'] == var1) & (sub_n['n2_name'] == var2)\n",
    "          | ((sub_n['n1_name'] == var2) & (sub_n['n2_name'] == var1))]\n",
    "\n",
    "r = r.merge(customer, left_on='n2_nationkey', right_on='c_nationkey')\n",
    "r = r.merge(supplier, left_on='n1_nationkey', right_on='s_nationkey')\n",
    "r = r.merge(orders, left_on='c_custkey', right_on='o_custkey')\n",
    "\n",
    "sub_l = lineitem[(lineitem['l_shipdate'] >= '1995-01-01') & (lineitem['l_shipdate'] <= '1996-12-31')]\n",
    "r = r.merge(sub_l, left_on=['o_orderkey', 's_suppkey'], right_on=['l_orderkey', 'l_suppkey'])\n",
    "\n",
    "r['supp_nation'] = r['n1_name']\n",
    "r['cust_nation'] = r['n2_name']\n",
    "r['volume'] = r['l_extendedprice'] * (1 - r['l_discount'])\n",
    "r['l_year'] = pd.DatetimeIndex(r['l_shipdate']).year\n",
    "\n",
    "r = r[['supp_nation', 'cust_nation', 'l_year', 'volume']]\n",
    "\n",
    "r.columns.name = 'shiping'\n",
    "\n",
    "r = r.groupby(['supp_nation', 'cust_nation', 'l_year'], as_index=False).agg(revenue=('volume', 'sum'))\n",
    "\n",
    "print(r)\n",
    "\n",
    "pysdql.db_driver(db_path=sdql_database_path, name='tpch-7').run(r).export().to()"
   ]
  },
  {
   "cell_type": "markdown",
   "metadata": {},
   "source": [
    "# TPCH - 8 ✅"
   ]
  },
  {
   "cell_type": "markdown",
   "metadata": {},
   "source": [
    "### SQL - 8"
   ]
  },
  {
   "cell_type": "markdown",
   "metadata": {},
   "source": [
    "```\n",
    "select\n",
    "\to_year,\n",
    "\tsum(case\n",
    "\t\twhen nation = ':1' then volume\n",
    "\t\telse 0\n",
    "\tend) / sum(volume) as mkt_share\n",
    "from\n",
    "\t(\n",
    "\t\tselect\n",
    "\t\t\textract(year from o_orderdate) as o_year,\n",
    "\t\t\tl_extendedprice * (1 - l_discount) as volume,\n",
    "\t\t\tn2.n_name as nation\n",
    "\t\tfrom\n",
    "\t\t\tpart,\n",
    "\t\t\tsupplier,\n",
    "\t\t\tlineitem,\n",
    "\t\t\torders,\n",
    "\t\t\tcustomer,\n",
    "\t\t\tnation n1,\n",
    "\t\t\tnation n2,\n",
    "\t\t\tregion\n",
    "\t\twhere\n",
    "\t\t\tp_partkey = l_partkey\n",
    "\t\t\tand s_suppkey = l_suppkey\n",
    "\t\t\tand l_orderkey = o_orderkey\n",
    "\t\t\tand o_custkey = c_custkey\n",
    "\t\t\tand c_nationkey = n1.n_nationkey\n",
    "\t\t\tand n1.n_regionkey = r_regionkey\n",
    "\t\t\tand r_name = ':2'\n",
    "\t\t\tand s_nationkey = n2.n_nationkey\n",
    "\t\t\tand o_orderdate between date '1995-01-01' and date '1996-12-31'\n",
    "\t\t\tand p_type = ':3'\n",
    "\t) as all_nations\n",
    "group by\n",
    "\to_year\n",
    "```"
   ]
  },
  {
   "cell_type": "markdown",
   "metadata": {},
   "source": [
    "### pysdql - 8"
   ]
  },
  {
   "cell_type": "code",
   "execution_count": 16,
   "metadata": {},
   "outputs": [
    {
     "name": "stdout",
     "output_type": "stream",
     "text": [
      "let nation = load[{<n2_nationkey: int, n2_name: string, n2_regionkey: int, n2_comment: string> -> int}](\"T:/UG4-Proj/datasets/nation.tbl\")\n",
      "let n2 = nation\n",
      "let supplier = load[{<s_suppkey: int, s_name: string, s_address: string, s_nationkey: int, s_phone: string, s_acctbal: double, s_comment: string> -> int}](\"T:/UG4-Proj/datasets/supplier.tbl\")\n",
      "let customer = load[{<c_custkey: int, c_name: string, c_address: string, c_nationkey: int, c_phone: string, c_acctbal: double, c_mktsegment: string, c_comment: string> -> int}](\"T:/UG4-Proj/datasets/customer.tbl\")\n",
      "let orders = load[{<o_orderkey: int, o_custkey: int, o_orderstatus: string, o_totalprice: double, o_orderdate: date, o_orderpriority: string, o_clerk: string, o_shippriority: int, o_comment: string> -> int}](\"T:/UG4-Proj/datasets/orders.tbl\")\n",
      "let omp = sum (<ord_k, ord_v> in orders) if (((date(19950101) <= ord_k.o_orderdate) && (ord_k.o_orderdate <= date(19961231)))) then { ord_k -> 1 } else {  }\n",
      "let sub_o = omp\n",
      "let lineitem = load[{<l_orderkey: int, l_partkey: int, l_suppkey: int, l_linenumber: int, l_quantity: int, l_extendedprice: double, l_discount: double, l_tax: double, l_returnflag: string, l_linestatus: string, l_shipdate: date, l_commitdate: date, l_receiptdate: date, l_shipinstruct: string, l_shipmode: string, l_comment: string> -> int}](\"T:/UG4-Proj/datasets/lineitem.tbl\")\n",
      "let part = load[{<p_partkey: int, p_name: string, p_mfgr: string, p_brand: string, p_type: string, p_size: int, p_container: string, p_retailprice: double, p_comment: string> -> int}](\"T:/UG4-Proj/datasets/part.tbl\")\n",
      "let part_lineitem = sum (<lin_k, lin_v> in lineitem) { < l_partkey=lin_k.l_partkey > -> { lin_k -> lin_v } }\n",
      "let Rm0 = sum (<par_k, par_v> in part) if ((part_lineitem(<l_partkey=par_k.p_partkey>) != {  })) then sum(<p_k, p_v> in part_lineitem(<l_partkey=par_k.p_partkey>)) { concat(par_k, p_k) -> par_v * p_v } else {  }\n",
      "let part_orders = sum (<ord_k, ord_v> in orders) { < o_orderkey=ord_k.o_orderkey > -> { ord_k -> ord_v } }\n",
      "let Rm1 = sum (<r0_k, r0_v> in Rm0) if ((part_orders(<o_orderkey=r0_k.l_orderkey>) != {  })) then sum(<p_k, p_v> in part_orders(<o_orderkey=r0_k.l_orderkey>)) { concat(r0_k, p_k) -> r0_v * p_v } else {  }\n",
      "let part_customer = sum (<cus_k, cus_v> in customer) { < c_custkey=cus_k.c_custkey > -> { cus_k -> cus_v } }\n",
      "let Rm2 = sum (<r1_k, r1_v> in Rm1) if ((part_customer(<c_custkey=r1_k.o_custkey>) != {  })) then sum(<p_k, p_v> in part_customer(<c_custkey=r1_k.o_custkey>)) { concat(r1_k, p_k) -> r1_v * p_v } else {  }\n",
      "let r2 = Rm2\n",
      "let region = load[{<r_regionkey: int, r_name: string, r_comment: string> -> int}](\"T:/UG4-Proj/datasets/region.tbl\")\n",
      "let rmp = sum (<reg_k, reg_v> in region) if ((reg_k.r_name == \"MIDDLE EAST\")) then { reg_k -> 1 } else {  }\n",
      "let sub_r = rmp\n",
      "let nation = load[{<n1_nationkey: int, n1_name: string, n1_regionkey: int, n1_comment: string> -> int}](\"T:/UG4-Proj/datasets/nation.tbl\")\n",
      "let n1 = nation\n",
      "let part_sub_r = sum (<sr_k, sr_v> in sub_r) { < r_regionkey=sr_k.r_regionkey > -> { sr_k -> sr_v } }\n",
      "let Rm0 = sum (<n1_k, n1_v> in n1) if ((part_sub_r(<r_regionkey=n1_k.n1_regionkey>) != {  })) then sum(<p_k, p_v> in part_sub_r(<r_regionkey=n1_k.n1_regionkey>)) { concat(n1_k, p_k) -> n1_v * p_v } else {  }\n",
      "let r1 = Rm0\n",
      "let part_r2 = sum (<r2_k, r2_v> in r2) { < c_nationkey=r2_k.c_nationkey > -> { r2_k -> r2_v } }\n",
      "let Rm1 = sum (<r1_k, r1_v> in r1) if ((part_r2(<c_nationkey=r1_k.n1_nationkey>) != {  })) then sum(<p_k, p_v> in part_r2(<c_nationkey=r1_k.n1_nationkey>)) { concat(r1_k, p_k) -> r1_v * p_v } else {  }\n",
      "let part_supplier = sum (<sup_k, sup_v> in supplier) { < s_suppkey=sup_k.s_suppkey > -> { sup_k -> sup_v } }\n",
      "let Rm3 = sum (<r1_k, r1_v> in Rm1) if ((part_supplier(<s_suppkey=r1_k.l_suppkey>) != {  })) then sum(<p_k, p_v> in part_supplier(<s_suppkey=r1_k.l_suppkey>)) { concat(r1_k, p_k) -> r1_v * p_v } else {  }\n",
      "let part_n2 = sum (<n2_k, n2_v> in n2) { < n2_nationkey=n2_k.n2_nationkey > -> { n2_k -> n2_v } }\n",
      "let Rm4 = sum (<r3_k, r3_v> in Rm3) if ((part_n2(<n2_nationkey=r3_k.s_nationkey>) != {  })) then sum(<p_k, p_v> in part_n2(<n2_nationkey=r3_k.s_nationkey>)) { concat(r3_k, p_k) -> r3_v * p_v } else {  }\n",
      "let tmp = sum (<r4_k, r4_v> in Rm4) { concat(r4_k, < o_year=ext(`Year`, r4_k.o_orderdate) >) -> 1 }\n",
      "let tmpa = sum (<t_k, t_v> in tmp) { concat(t_k, < volume=(t_k.l_extendedprice * (1 - t_k.l_discount)) >) -> 1 }\n",
      "let tmpb = sum (<ta_k, ta_v> in tmpa) { concat(ta_k, < nation=ta_k.n2_name >) -> 1 }\n",
      "let tmpc = sum (<tb_k, tb_v> in tmpb) { < o_year=tb_k.o_year, volume=tb_k.volume, nation=tb_k.nation > -> 1 }\n",
      "let all_nations = tmpc\n",
      "let amp = sum (<an_k, an_v> in all_nations) if ((an_k.nation == \"MOROCCO\")) then { concat(an_k, < value1=an_k.volume >) -> 1 } else { concat(an_k, < value1=0 >) -> 1 }\n",
      "let tmpd = sum (<a_k, a_v> in amp) { < o_year=a_k.o_year > -> < value2=promote[nullable[real]](a_k.value1 * a_v), value3=promote[nullable[real]](a_k.volume * a_v) > }\n",
      "let agg_amp = sum (<td_k, td_v> in tmpd) { < o_year=td_k.o_year, value2=promote[real](td_v.value2), value3=promote[real](td_v.value3) > -> 1 }\n",
      "let amp = sum (<aa_k, aa_v> in agg_amp) { concat(aa_k, < mkt_share=(aa_k.value2 / aa_k.value3) >) -> 1 }\n",
      "let tmp = sum (<a_k, a_v> in amp) { < o_year=a_k.o_year, mkt_share=a_k.mkt_share > -> 1 }\n",
      "tmp\n"
     ]
    },
    {
     "name": "stderr",
     "output_type": "stream",
     "text": [
      "[info] welcome to sbt 1.6.0 (Oracle Corporation Java 17)\n",
      "[info] loading project definition from T:\\sdql\\project\n",
      "[info] loading settings for project sdql from build.sbt ...\n",
      "[info] set current project to sdql (in build file:/T:/sdql/)\n",
      "[info] sbt server started at local:sbt-server-ec9dcaf7bfc5935dead3\n",
      "[warn] sbt server could not start in 10s\n",
      "\u001b[?2004h>....[info] running sdql.driver.Main interpret T:/UG4-Proj/output/Q00.sdql\n",
      "{<o_year = 1996, mkt_share = 0.12566399268595244> -> 1, <o_year = 1994, mkt_share = 0.12800000212860663> -> 1, <o_year = 1993, mkt_share = 0.1158002773002865> -> 1, <o_year = 1997, mkt_share = 0.1084387201594838> -> 1, <o_year = 1995, mkt_share = 0.0821313677313182> -> 1, <o_year = 1992, mkt_share = 0.08378330784862213> -> 1, <o_year = 1998, mkt_share = 0.14439034519150373> -> 1}\n",
      "[success] Total time: 7 s, completed 2022年7月30日 上午8:48:47\n",
      "========================================================\n",
      "pysdql execution time: 21.474262952804565\n",
      "export sdql script \"tpch-8.sdql\" to \"T:/UG4-Proj/output/tpch-8.sdql\"\n",
      "excute by:\n",
      "run interpret T:/UG4-Proj/output/tpch-8.sdql\n"
     ]
    },
    {
     "data": {
      "text/plain": [
       "{<o_year = 1996, mkt_share = 0.12566399268595244> -> 1, <o_year = 1994, mkt_share = 0.12800000212860663> -> 1, <o_year = 1993, mkt_share = 0.1158002773002865> -> 1, <o_year = 1997, mkt_share = 0.1084387201594838> -> 1, <o_year = 1995, mkt_share = 0.0821313677313182> -> 1, <o_year = 1992, mkt_share = 0.08378330784862213> -> 1, <o_year = 1998, mkt_share = 0.14439034519150373> -> 1}"
      ]
     },
     "execution_count": 16,
     "metadata": {},
     "output_type": "execute_result"
    }
   ],
   "source": [
    "# Try replace pysdql with pandas to get result in pandas!\n",
    "# import pandas as pd  # get answer in pandas\n",
    "# import numpy as np  # for numpy.select(), must use together with pandas\n",
    "import pysdql as pd  # get answer in pysdql\n",
    "import pysdqlnp as np  # for pysdqlnp.select(), must use together with pysdql\n",
    "\n",
    "# display all columns\n",
    "pd.set_option('display.max_columns', None)\n",
    "# display all rows\n",
    "pd.set_option('display.max_rows', None)\n",
    "\n",
    "\n",
    "var1 = 'MOROCCO'\n",
    "var2 = 'MIDDLE EAST'\n",
    "var3 = 'SMALL ANODIZED COPPER'\n",
    "\n",
    "part = pd.read_table(rf'{data_path}/part.tbl', sep='|', index_col=False, header=None, names=pysdql.PART_COLS)\n",
    "supplier = pd.read_table(rf'{data_path}/supplier.tbl', sep='|', index_col=False, header=None, names=pysdql.SUPPLIER_COLS)\n",
    "lineitem = pd.read_table(rf'{data_path}/lineitem.tbl', sep='|', index_col=False, header=None, names=pysdql.LINEITEM_COLS)\n",
    "orders = pd.read_table(rf'{data_path}/orders.tbl', sep='|', index_col=False, header=None, names=pysdql.ORDERS_COLS)\n",
    "customer = pd.read_table(rf'{data_path}/customer.tbl', sep='|', index_col=False, header=None, names=pysdql.CUSTOMER_COLS)\n",
    "region = pd.read_table(rf'{data_path}/region.tbl', sep='|', index_col=False, header=None, names=pysdql.REGION_COLS)\n",
    "\n",
    "n1_cols = ['n1_nationkey', 'n1_name', 'n1_regionkey', 'n1_comment']\n",
    "n2_cols = ['n2_nationkey', 'n2_name', 'n2_regionkey', 'n2_comment']\n",
    "n1 = pd.read_table(rf'{data_path}/nation.tbl', sep='|', index_col=False, header=None, names=n1_cols)\n",
    "n2 = pd.read_table(rf'{data_path}/nation.tbl', sep='|', index_col=False, header=None, names=n2_cols)\n",
    "\n",
    "n1.columns.name = 'n1'\n",
    "n2.columns.name = 'n2'\n",
    "\n",
    "sub_r = region[(region['r_name'] == var2)]\n",
    "sub_r.columns.name = 'sub_r'\n",
    "\n",
    "sub_o = orders[(orders['o_orderdate'] >= '1995-01-01') & (orders['o_orderdate'] <= '1996-12-31')]\n",
    "sub_o.columns.name = 'sub_o'\n",
    "\n",
    "r1 = n1.merge(sub_r, left_on='n1_regionkey', right_on='r_regionkey')\n",
    "r1.columns.name = 'r1'\n",
    "\n",
    "r2 = part.merge(lineitem, left_on='p_partkey', right_on='l_partkey')\n",
    "r2 = r2.merge(orders, left_on='l_orderkey', right_on='o_orderkey')\n",
    "r2 = r2.merge(customer, left_on='o_custkey', right_on='c_custkey')\n",
    "\n",
    "r2.columns.name = 'r2'\n",
    "\n",
    "r = r1.merge(r2, left_on='n1_nationkey', right_on='c_nationkey')\n",
    "r = r.merge(supplier, left_on='l_suppkey', right_on='s_suppkey')\n",
    "r = r.merge(n2, left_on='s_nationkey', right_on='n2_nationkey')\n",
    "\n",
    "r['o_year'] = pd.DatetimeIndex(r['o_orderdate']).year\n",
    "r['volume'] = r['l_extendedprice'] * (1 - r['l_discount'])\n",
    "r['nation'] = r['n2_name']\n",
    "\n",
    "all_nations = r[['o_year', 'volume', 'nation']]\n",
    "\n",
    "all_nations.columns.name = 'all_nations'\n",
    "\n",
    "all_nations['value1'] = np.select(\n",
    "    [\n",
    "        all_nations['nation'] == var1\n",
    "    ],\n",
    "    [\n",
    "        all_nations['volume']\n",
    "    ], default=0)\n",
    "\n",
    "s = all_nations.groupby(['o_year'], as_index=False).agg(value2=('value1', 'sum'),\n",
    "                                                        value3=('volume', 'sum'))\n",
    "s['mkt_share'] = s['value2'] / s['value3']\n",
    "\n",
    "s = s[['o_year', 'mkt_share']]\n",
    "\n",
    "print(s)\n",
    "\n",
    "pysdql.db_driver(db_path=sdql_database_path, name='tpch-8').run(s).export().to()"
   ]
  },
  {
   "cell_type": "markdown",
   "metadata": {},
   "source": [
    "### pandas - 8"
   ]
  },
  {
   "cell_type": "code",
   "execution_count": 17,
   "metadata": {
    "pycharm": {
     "name": "#%%\n"
    }
   },
   "outputs": [
    {
     "name": "stdout",
     "output_type": "stream",
     "text": [
      "   o_year  mkt_share\n",
      "0    1992   0.083783\n",
      "1    1993   0.115800\n",
      "2    1994   0.128000\n",
      "3    1995   0.082131\n",
      "4    1996   0.125664\n",
      "5    1997   0.108439\n",
      "6    1998   0.144390\n"
     ]
    },
    {
     "name": "stderr",
     "output_type": "stream",
     "text": [
      "C:\\Users\\Y\\AppData\\Local\\Temp\\ipykernel_6788\\2769840673.py:59: SettingWithCopyWarning: \n",
      "A value is trying to be set on a copy of a slice from a DataFrame.\n",
      "Try using .loc[row_indexer,col_indexer] = value instead\n",
      "\n",
      "See the caveats in the documentation: https://pandas.pydata.org/pandas-docs/stable/user_guide/indexing.html#returning-a-view-versus-a-copy\n",
      "  all_nations['value1'] = np.select(\n"
     ]
    }
   ],
   "source": [
    "# Try replace pysdql with pandas to get result in pandas!\n",
    "import pandas as pd  # get answer in pandas\n",
    "import numpy as np  # for numpy.select(), must use together with pandas\n",
    "# import pysdql as pd  # get answer in pysdql\n",
    "# import pysdqlnp as np  # for pysdqlnp.select(), must use together with pysdql\n",
    "\n",
    "# display all columns\n",
    "pd.set_option('display.max_columns', None)\n",
    "# display all rows\n",
    "pd.set_option('display.max_rows', None)\n",
    "\n",
    "\n",
    "var1 = 'MOROCCO'\n",
    "var2 = 'MIDDLE EAST'\n",
    "var3 = 'SMALL ANODIZED COPPER'\n",
    "\n",
    "part = pd.read_table(rf'{data_path}/part.tbl', sep='|', index_col=False, header=None, names=pysdql.PART_COLS)\n",
    "supplier = pd.read_table(rf'{data_path}/supplier.tbl', sep='|', index_col=False, header=None, names=pysdql.SUPPLIER_COLS)\n",
    "lineitem = pd.read_table(rf'{data_path}/lineitem.tbl', sep='|', index_col=False, header=None, names=pysdql.LINEITEM_COLS)\n",
    "orders = pd.read_table(rf'{data_path}/orders.tbl', sep='|', index_col=False, header=None, names=pysdql.ORDERS_COLS)\n",
    "customer = pd.read_table(rf'{data_path}/customer.tbl', sep='|', index_col=False, header=None, names=pysdql.CUSTOMER_COLS)\n",
    "region = pd.read_table(rf'{data_path}/region.tbl', sep='|', index_col=False, header=None, names=pysdql.REGION_COLS)\n",
    "\n",
    "n1_cols = ['n1_nationkey', 'n1_name', 'n1_regionkey', 'n1_comment']\n",
    "n2_cols = ['n2_nationkey', 'n2_name', 'n2_regionkey', 'n2_comment']\n",
    "n1 = pd.read_table(rf'{data_path}/nation.tbl', sep='|', index_col=False, header=None, names=n1_cols)\n",
    "n2 = pd.read_table(rf'{data_path}/nation.tbl', sep='|', index_col=False, header=None, names=n2_cols)\n",
    "\n",
    "n1.columns.name = 'n1'\n",
    "n2.columns.name = 'n2'\n",
    "\n",
    "sub_r = region[(region['r_name'] == var2)]\n",
    "sub_r.columns.name = 'sub_r'\n",
    "\n",
    "sub_o = orders[(orders['o_orderdate'] >= '1995-01-01') & (orders['o_orderdate'] <= '1996-12-31')]\n",
    "sub_o.columns.name = 'sub_o'\n",
    "\n",
    "r1 = n1.merge(sub_r, left_on='n1_regionkey', right_on='r_regionkey')\n",
    "r1.columns.name = 'r1'\n",
    "\n",
    "r2 = part.merge(lineitem, left_on='p_partkey', right_on='l_partkey')\n",
    "r2 = r2.merge(orders, left_on='l_orderkey', right_on='o_orderkey')\n",
    "r2 = r2.merge(customer, left_on='o_custkey', right_on='c_custkey')\n",
    "\n",
    "r2.columns.name = 'r2'\n",
    "\n",
    "r = r1.merge(r2, left_on='n1_nationkey', right_on='c_nationkey')\n",
    "r = r.merge(supplier, left_on='l_suppkey', right_on='s_suppkey')\n",
    "r = r.merge(n2, left_on='s_nationkey', right_on='n2_nationkey')\n",
    "\n",
    "r['o_year'] = pd.DatetimeIndex(r['o_orderdate']).year\n",
    "r['volume'] = r['l_extendedprice'] * (1 - r['l_discount'])\n",
    "r['nation'] = r['n2_name']\n",
    "\n",
    "all_nations = r[['o_year', 'volume', 'nation']]\n",
    "\n",
    "all_nations.columns.name = 'all_nations'\n",
    "\n",
    "all_nations['value1'] = np.select(\n",
    "    [\n",
    "        all_nations['nation'] == var1\n",
    "    ],\n",
    "    [\n",
    "        all_nations['volume']\n",
    "    ], default=0)\n",
    "\n",
    "s = all_nations.groupby(['o_year'], as_index=False).agg(value2=('value1', 'sum'),\n",
    "                                                        value3=('volume', 'sum'))\n",
    "s['mkt_share'] = s['value2'] / s['value3']\n",
    "\n",
    "s = s[['o_year', 'mkt_share']]\n",
    "\n",
    "print(s)\n",
    "\n",
    "pysdql.db_driver(db_path=sdql_database_path, name='tpch-8').run(s).export().to()"
   ]
  },
  {
   "cell_type": "markdown",
   "metadata": {},
   "source": [
    "# TPCH - 9 ✅"
   ]
  },
  {
   "cell_type": "markdown",
   "metadata": {},
   "source": [
    "### SQL - 9"
   ]
  },
  {
   "cell_type": "markdown",
   "metadata": {},
   "source": [
    "```\n",
    "select\n",
    "\tnation,\n",
    "\to_year,\n",
    "\tsum(amount) as sum_profit\n",
    "from\n",
    "\t(\n",
    "\t\tselect\n",
    "\t\t\tn_name as nation,\n",
    "\t\t\textract(year from o_orderdate) as o_year,\n",
    "\t\t\tl_extendedprice * (1 - l_discount) - ps_supplycost * l_quantity as amount\n",
    "\t\tfrom\n",
    "\t\t\tpart,\n",
    "\t\t\tsupplier,\n",
    "\t\t\tlineitem,\n",
    "\t\t\tpartsupp,\n",
    "\t\t\torders,\n",
    "\t\t\tnation\n",
    "\t\twhere\n",
    "\t\t\ts_suppkey = l_suppkey\n",
    "\t\t\tand ps_suppkey = l_suppkey\n",
    "\t\t\tand ps_partkey = l_partkey\n",
    "\t\t\tand p_partkey = l_partkey\n",
    "\t\t\tand o_orderkey = l_orderkey\n",
    "\t\t\tand s_nationkey = n_nationkey\n",
    "\t\t\tand p_name like '%:1%'\n",
    "\t) as profit\n",
    "group by\n",
    "\tnation,\n",
    "\to_year\n",
    "```"
   ]
  },
  {
   "cell_type": "markdown",
   "metadata": {},
   "source": [
    "### pysdql - 9"
   ]
  },
  {
   "cell_type": "code",
   "execution_count": 18,
   "metadata": {
    "pycharm": {
     "name": "#%%\n"
    },
    "scrolled": false
   },
   "outputs": [
    {
     "name": "stdout",
     "output_type": "stream",
     "text": [
      "let orders = load[{<o_orderkey: int, o_custkey: int, o_orderstatus: string, o_totalprice: double, o_orderdate: date, o_orderpriority: string, o_clerk: string, o_shippriority: int, o_comment: string> -> int}](\"T:/UG4-Proj/datasets/orders.tbl\")\n",
      "let lineitem = load[{<l_orderkey: int, l_partkey: int, l_suppkey: int, l_linenumber: int, l_quantity: int, l_extendedprice: double, l_discount: double, l_tax: double, l_returnflag: string, l_linestatus: string, l_shipdate: date, l_commitdate: date, l_receiptdate: date, l_shipinstruct: string, l_shipmode: string, l_comment: string> -> int}](\"T:/UG4-Proj/datasets/lineitem.tbl\")\n",
      "let partsupp = load[{<ps_partkey: int, ps_suppkey: int, ps_availqty: int, ps_supplycost: double, ps_comment: string> -> int}](\"T:/UG4-Proj/datasets/partsupp.tbl\")\n",
      "let part = load[{<p_partkey: int, p_name: string, p_mfgr: string, p_brand: string, p_type: string, p_size: int, p_container: string, p_retailprice: double, p_comment: string> -> int}](\"T:/UG4-Proj/datasets/part.tbl\")\n",
      "let pmp = sum (<par_k, par_v> in part) if (ext(`StrContainsN`, par_k.p_name, \"cornflower\")) then { par_k -> 1 } else {  }\n",
      "let sub_p = pmp\n",
      "let part_partsupp = sum (<psup_k, psup_v> in partsupp) { < ps_partkey=psup_k.ps_partkey > -> { psup_k -> psup_v } }\n",
      "let Rm0 = sum (<sp_k, sp_v> in sub_p) if ((part_partsupp(<ps_partkey=sp_k.p_partkey>) != {  })) then sum(<p_k, p_v> in part_partsupp(<ps_partkey=sp_k.p_partkey>)) { concat(sp_k, p_k) -> sp_v * p_v } else {  }\n",
      "let r1 = Rm0\n",
      "let nation = load[{<n_nationkey: int, n_name: string, n_regionkey: int, n_comment: string> -> int}](\"T:/UG4-Proj/datasets/nation.tbl\")\n",
      "let supplier = load[{<s_suppkey: int, s_name: string, s_address: string, s_nationkey: int, s_phone: string, s_acctbal: double, s_comment: string> -> int}](\"T:/UG4-Proj/datasets/supplier.tbl\")\n",
      "let part_nation = sum (<nat_k, nat_v> in nation) { < n_nationkey=nat_k.n_nationkey > -> { nat_k -> nat_v } }\n",
      "let Rm0 = sum (<sup_k, sup_v> in supplier) if ((part_nation(<n_nationkey=sup_k.s_nationkey>) != {  })) then sum(<p_k, p_v> in part_nation(<n_nationkey=sup_k.s_nationkey>)) { concat(sup_k, p_k) -> sup_v * p_v } else {  }\n",
      "let part_r1 = sum (<r1_k, r1_v> in r1) { < ps_suppkey=r1_k.ps_suppkey > -> { r1_k -> r1_v } }\n",
      "let Rm1 = sum (<r0_k, r0_v> in Rm0) if ((part_r1(<ps_suppkey=r0_k.s_suppkey>) != {  })) then sum(<p_k, p_v> in part_r1(<ps_suppkey=r0_k.s_suppkey>)) { concat(r0_k, p_k) -> r0_v * p_v } else {  }\n",
      "let r2 = Rm1\n",
      "let part_lineitem = sum (<lin_k, lin_v> in lineitem) { < l_suppkey=lin_k.l_suppkey > -> { lin_k -> lin_v } }\n",
      "let Rm2 = sum (<r2_k, r2_v> in r2) if ((part_lineitem(< l_suppkey=r2_k.ps_suppkey >) != {  })) then sum(<p_k, p_v> in part_lineitem(< l_suppkey=r2_k.ps_suppkey >)) { concat(r2_k, p_k) -> r2_v * p_v } else {  }\n",
      "let part_orders = sum (<ord_k, ord_v> in orders) { < o_orderkey=ord_k.o_orderkey > -> { ord_k -> ord_v } }\n",
      "let Rm3 = sum (<r2_k, r2_v> in Rm2) if ((part_orders(<o_orderkey=r2_k.l_orderkey>) != {  })) then sum(<p_k, p_v> in part_orders(<o_orderkey=r2_k.l_orderkey>)) { concat(r2_k, p_k) -> r2_v * p_v } else {  }\n",
      "let rmp = sum (<r3_k, r3_v> in Rm3) { concat(r3_k, < nation=r3_k.n_name >) -> 1 }\n",
      "let tmp = sum (<r_k, r_v> in rmp) { concat(r_k, < o_year=ext(`Year`, r_k.o_orderdate) >) -> 1 }\n",
      "let tmpa = sum (<t_k, t_v> in tmp) { concat(t_k, < amount=((t_k.l_extendedprice * (1 - t_k.l_discount)) - (t_k.ps_supplycost * t_k.l_quantity)) >) -> 1 }\n",
      "let tmpb = sum (<ta_k, ta_v> in tmpa) { < nation=ta_k.nation, o_year=ta_k.o_year, amount=ta_k.amount > -> 1 }\n",
      "let profit = tmpb\n",
      "let tmpc = sum (<p_k, p_v> in profit) { < nation=p_k.nation, o_year=p_k.o_year > -> < sum_profit=promote[nullable[real]](p_k.amount * p_v) > }\n",
      "let agg_profit = sum (<tc_k, tc_v> in tmpc) { < nation=tc_k.nation, o_year=tc_k.o_year, sum_profit=promote[real](tc_v.sum_profit) > -> 1 }\n",
      "agg_profit\n"
     ]
    },
    {
     "name": "stderr",
     "output_type": "stream",
     "text": [
      "[info] welcome to sbt 1.6.0 (Oracle Corporation Java 17)\n",
      "[info] loading project definition from T:\\sdql\\project\n",
      "[info] loading settings for project sdql from build.sbt ...\n",
      "[info] set current project to sdql (in build file:/T:/sdql/)\n",
      "[info] sbt server started at local:sbt-server-ec9dcaf7bfc5935dead3\n",
      "[warn] sbt server could not start in 10s\n",
      "\u001b[?2004h>....[info] running sdql.driver.Main interpret T:/UG4-Proj/output/Q00.sdql\n",
      "{<nation = ARGENTINA, o_year = 1998, sum_profit = 3170233.2497999985> -> 1, <nation = UNITED STATES, o_year = 1994, sum_profit = 4071392.9371999954> -> 1, <nation = IRAN, o_year = 1998, sum_profit = 5975164.405199997> -> 1, <nation = UNITED STATES, o_year = 1996, sum_profit = 4904476.306399992> -> 1, <nation = IRAN, o_year = 1992, sum_profit = 5888961.661800001> -> 1, <nation = UNITED KINGDOM, o_year = 1996, sum_profit = 7194796.275999997> -> 1, <nation = KENYA, o_year = 1996, sum_profit = 2684231.2020000005> -> 1, <nation = MOROCCO, o_year = 1998, sum_profit = 5620572.989500002> -> 1, <nation = UNITED STATES, o_year = 1997, sum_profit = 4477949.9695999995> -> 1, <nation = KENYA, o_year = 1992, sum_profit = 3391742.8251999984> -> 1, <nation = IRAQ, o_year = 1994, sum_profit = 2807937.0718000005> -> 1, <nation = ETHIOPIA, o_year = 1997, sum_profit = 5427467.490000002> -> 1, <nation = ETHIOPIA, o_year = 1995, sum_profit = 6589617.376800005> -> 1, <nation = KENYA, o_year = 1994, sum_profit = 2977975.767199999> -> 1, <nation = UNITED STATES, o_year = 1998, sum_profit = 2058171.7511999994> -> 1, <nation = MOROCCO, o_year = 1995, sum_profit = 6927614.133100006> -> 1, <nation = ARGENTINA, o_year = 1997, sum_profit = 4753882.294400001> -> 1, <nation = IRAN, o_year = 1993, sum_profit = 8936717.029599996> -> 1, <nation = ETHIOPIA, o_year = 1996, sum_profit = 6349722.897199998> -> 1, <nation = ARGENTINA, o_year = 1995, sum_profit = 5029412.164799993> -> 1, <nation = UNITED KINGDOM, o_year = 1993, sum_profit = 6020105.597999995> -> 1, <nation = IRAN, o_year = 1994, sum_profit = 8478272.900199993> -> 1, <nation = PERU, o_year = 1992, sum_profit = 1.4836918844700031E7> -> 1, <nation = MOROCCO, o_year = 1994, sum_profit = 7366058.8431> -> 1, <nation = IRAQ, o_year = 1992, sum_profit = 3698407.7039999994> -> 1, <nation = IRAQ, o_year = 1993, sum_profit = 3167979.4268000033> -> 1, <nation = ETHIOPIA, o_year = 1992, sum_profit = 5376197.638799994> -> 1, <nation = PERU, o_year = 1994, sum_profit = 1.3674786689400012E7> -> 1, <nation = UNITED KINGDOM, o_year = 1997, sum_profit = 5023760.213499996> -> 1, <nation = UNITED STATES, o_year = 1992, sum_profit = 5975355.892400004> -> 1, <nation = IRAQ, o_year = 1998, sum_profit = 2235906.361599999> -> 1, <nation = UNITED STATES, o_year = 1993, sum_profit = 4621070.3308000015> -> 1, <nation = KENYA, o_year = 1998, sum_profit = 1925397.0456000003> -> 1, <nation = UNITED STATES, o_year = 1995, sum_profit = 5002141.659199993> -> 1, <nation = UNITED KINGDOM, o_year = 1992, sum_profit = 6205130.275999996> -> 1, <nation = IRAN, o_year = 1995, sum_profit = 8187430.611> -> 1, <nation = ARGENTINA, o_year = 1993, sum_profit = 5230638.7129999995> -> 1, <nation = KENYA, o_year = 1995, sum_profit = 2556888.2420000015> -> 1, <nation = PERU, o_year = 1996, sum_profit = 1.5893475450400008E7> -> 1, <nation = MOROCCO, o_year = 1996, sum_profit = 8456976.627200002> -> 1, <nation = KENYA, o_year = 1993, sum_profit = 3086954.9295999995> -> 1, <nation = ARGENTINA, o_year = 1996, sum_profit = 4904186.498199995> -> 1, <nation = PERU, o_year = 1997, sum_profit = 1.6385963949500004E7> -> 1, <nation = IRAQ, o_year = 1995, sum_profit = 3049840.5586000048> -> 1, <nation = PERU, o_year = 1995, sum_profit = 1.5958091976600012E7> -> 1, <nation = UNITED KINGDOM, o_year = 1998, sum_profit = 4028273.7229999998> -> 1, <nation = MOROCCO, o_year = 1993, sum_profit = 9746324.468700001> -> 1, <nation = UNITED KINGDOM, o_year = 1994, sum_profit = 4908936.928999997> -> 1, <nation = IRAN, o_year = 1997, sum_profit = 9220612.12460001> -> 1, <nation = MOROCCO, o_year = 1997, sum_profit = 7276756.769699999> -> 1, <nation = IRAN, o_year = 1996, sum_profit = 1.0820329303200006E7> -> 1, <nation = MOROCCO, o_year = 1992, sum_profit = 7653884.617099992> -> 1, <nation = IRAQ, o_year = 1997, sum_profit = 4734595.029400003> -> 1, <nation = ARGENTINA, o_year = 1992, sum_profit = 5595441.0009999955> -> 1, <nation = PERU, o_year = 1998, sum_profit = 8188046.655100006> -> 1, <nation = IRAQ, o_year = 1996, sum_profit = 4218683.790799997> -> 1, <nation = UNITED KINGDOM, o_year = 1995, sum_profit = 5421591.322499996> -> 1, <nation = ETHIOPIA, o_year = 1993, sum_profit = 6655896.730800002> -> 1, <nation = PERU, o_year = 1993, sum_profit = 1.36160542467E7> -> 1, <nation = ARGENTINA, o_year = 1994, sum_profit = 5150131.978199999> -> 1, <nation = ETHIOPIA, o_year = 1994, sum_profit = 7318040.554399998> -> 1, <nation = KENYA, o_year = 1997, sum_profit = 3045326.0424000015> -> 1, <nation = ETHIOPIA, o_year = 1998, sum_profit = 3933001.6915999986> -> 1}\n",
      "[success] Total time: 9 s, completed 2022年7月30日 上午8:49:10\n",
      "========================================================\n",
      "pysdql execution time: 23.438294410705566\n",
      "export sdql script \"tpch-9.sdql\" to \"T:/UG4-Proj/output/tpch-9.sdql\"\n",
      "excute by:\n",
      "run interpret T:/UG4-Proj/output/tpch-9.sdql\n"
     ]
    },
    {
     "data": {
      "text/plain": [
       "{<nation = ARGENTINA, o_year = 1998, sum_profit = 3170233.2497999985> -> 1, <nation = UNITED STATES, o_year = 1994, sum_profit = 4071392.9371999954> -> 1, <nation = IRAN, o_year = 1998, sum_profit = 5975164.405199997> -> 1, <nation = UNITED STATES, o_year = 1996, sum_profit = 4904476.306399992> -> 1, <nation = IRAN, o_year = 1992, sum_profit = 5888961.661800001> -> 1, <nation = UNITED KINGDOM, o_year = 1996, sum_profit = 7194796.275999997> -> 1, <nation = KENYA, o_year = 1996, sum_profit = 2684231.2020000005> -> 1, <nation = MOROCCO, o_year = 1998, sum_profit = 5620572.989500002> -> 1, <nation = UNITED STATES, o_year = 1997, sum_profit = 4477949.9695999995> -> 1, <nation = KENYA, o_year = 1992, sum_profit = 3391742.8251999984> -> 1, <nation = IRAQ, o_year = 1994, sum_profit = 2807937.0718000005> -> 1, <nation = ETHIOPIA, o_year = 1997, sum_profit = 5427467.490000002> -> 1, <nation = ETHIOPIA, o_year = 1995, sum_profit = 6589617.376800005> -> 1, <nation = KENYA, o_year = 1994, sum_profit = 2977975.767199999> -> 1, <nation = UNITED STATES, o_year = 1998, sum_profit = 2058171.7511999994> -> 1, <nation = MOROCCO, o_year = 1995, sum_profit = 6927614.133100006> -> 1, <nation = ARGENTINA, o_year = 1997, sum_profit = 4753882.294400001> -> 1, <nation = IRAN, o_year = 1993, sum_profit = 8936717.029599996> -> 1, <nation = ETHIOPIA, o_year = 1996, sum_profit = 6349722.897199998> -> 1, <nation = ARGENTINA, o_year = 1995, sum_profit = 5029412.164799993> -> 1, <nation = UNITED KINGDOM, o_year = 1993, sum_profit = 6020105.597999995> -> 1, <nation = IRAN, o_year = 1994, sum_profit = 8478272.900199993> -> 1, <nation = PERU, o_year = 1992, sum_profit = 1.4836918844700031E7> -> 1, <nation = MOROCCO, o_year = 1994, sum_profit = 7366058.8431> -> 1, <nation = IRAQ, o_year = 1992, sum_profit = 3698407.7039999994> -> 1, <nation = IRAQ, o_year = 1993, sum_profit = 3167979.4268000033> -> 1, <nation = ETHIOPIA, o_year = 1992, sum_profit = 5376197.638799994> -> 1, <nation = PERU, o_year = 1994, sum_profit = 1.3674786689400012E7> -> 1, <nation = UNITED KINGDOM, o_year = 1997, sum_profit = 5023760.213499996> -> 1, <nation = UNITED STATES, o_year = 1992, sum_profit = 5975355.892400004> -> 1, <nation = IRAQ, o_year = 1998, sum_profit = 2235906.361599999> -> 1, <nation = UNITED STATES, o_year = 1993, sum_profit = 4621070.3308000015> -> 1, <nation = KENYA, o_year = 1998, sum_profit = 1925397.0456000003> -> 1, <nation = UNITED STATES, o_year = 1995, sum_profit = 5002141.659199993> -> 1, <nation = UNITED KINGDOM, o_year = 1992, sum_profit = 6205130.275999996> -> 1, <nation = IRAN, o_year = 1995, sum_profit = 8187430.611> -> 1, <nation = ARGENTINA, o_year = 1993, sum_profit = 5230638.7129999995> -> 1, <nation = KENYA, o_year = 1995, sum_profit = 2556888.2420000015> -> 1, <nation = PERU, o_year = 1996, sum_profit = 1.5893475450400008E7> -> 1, <nation = MOROCCO, o_year = 1996, sum_profit = 8456976.627200002> -> 1, <nation = KENYA, o_year = 1993, sum_profit = 3086954.9295999995> -> 1, <nation = ARGENTINA, o_year = 1996, sum_profit = 4904186.498199995> -> 1, <nation = PERU, o_year = 1997, sum_profit = 1.6385963949500004E7> -> 1, <nation = IRAQ, o_year = 1995, sum_profit = 3049840.5586000048> -> 1, <nation = PERU, o_year = 1995, sum_profit = 1.5958091976600012E7> -> 1, <nation = UNITED KINGDOM, o_year = 1998, sum_profit = 4028273.7229999998> -> 1, <nation = MOROCCO, o_year = 1993, sum_profit = 9746324.468700001> -> 1, <nation = UNITED KINGDOM, o_year = 1994, sum_profit = 4908936.928999997> -> 1, <nation = IRAN, o_year = 1997, sum_profit = 9220612.12460001> -> 1, <nation = MOROCCO, o_year = 1997, sum_profit = 7276756.769699999> -> 1, <nation = IRAN, o_year = 1996, sum_profit = 1.0820329303200006E7> -> 1, <nation = MOROCCO, o_year = 1992, sum_profit = 7653884.617099992> -> 1, <nation = IRAQ, o_year = 1997, sum_profit = 4734595.029400003> -> 1, <nation = ARGENTINA, o_year = 1992, sum_profit = 5595441.0009999955> -> 1, <nation = PERU, o_year = 1998, sum_profit = 8188046.655100006> -> 1, <nation = IRAQ, o_year = 1996, sum_profit = 4218683.790799997> -> 1, <nation = UNITED KINGDOM, o_year = 1995, sum_profit = 5421591.322499996> -> 1, <nation = ETHIOPIA, o_year = 1993, sum_profit = 6655896.730800002> -> 1, <nation = PERU, o_year = 1993, sum_profit = 1.36160542467E7> -> 1, <nation = ARGENTINA, o_year = 1994, sum_profit = 5150131.978199999> -> 1, <nation = ETHIOPIA, o_year = 1994, sum_profit = 7318040.554399998> -> 1, <nation = KENYA, o_year = 1997, sum_profit = 3045326.0424000015> -> 1, <nation = ETHIOPIA, o_year = 1998, sum_profit = 3933001.6915999986> -> 1}"
      ]
     },
     "execution_count": 18,
     "metadata": {},
     "output_type": "execute_result"
    }
   ],
   "source": [
    "# Try replace pysdql with pandas to get result in pandas!\n",
    "# import pandas as pd  # get answer in pandas\n",
    "import pysdql as pd  # get answer in pysdql\n",
    "\n",
    "# display all columns\n",
    "pd.set_option('display.max_columns', None)\n",
    "# display all rows\n",
    "pd.set_option('display.max_rows', None)\n",
    "\n",
    "var1 = 'cornflower'\n",
    "\n",
    "part = pd.read_table(rf'{data_path}/part.tbl', sep='|', index_col=False, header=None, names=pysdql.PART_COLS)\n",
    "supplier = pd.read_table(rf'{data_path}/supplier.tbl', sep='|', index_col=False, header=None, names=pysdql.SUPPLIER_COLS)\n",
    "lineitem = pd.read_table(rf'{data_path}/lineitem.tbl', sep='|', index_col=False, header=None, names=pysdql.LINEITEM_COLS)\n",
    "partsupp = pd.read_table(rf'{data_path}/partsupp.tbl', sep='|', index_col=False, header=None, names=pysdql.PARTSUPP_COLS)\n",
    "orders = pd.read_table(rf'{data_path}/orders.tbl', sep='|', index_col=False, header=None, names=pysdql.ORDERS_COLS)\n",
    "nation = pd.read_table(rf'{data_path}/nation.tbl', sep='|', index_col=False, header=None, names=pysdql.NATION_COLS)\n",
    "\n",
    "# part_p\n",
    "sub_p = part[part['p_name'].str.contains(var1)]\n",
    "sub_p.columns.name = 'sub_p'\n",
    "\n",
    "# optimized hash join (part, partsupp)\n",
    "r1 = sub_p.merge(partsupp, left_on='p_partkey', right_on='ps_partkey')\n",
    "r1.columns.name = 'r1'\n",
    "# optimized hash join (supplier, nation)\n",
    "r2 = supplier.merge(nation, left_on='s_nationkey', right_on='n_nationkey')\n",
    "# optimized hash join ((supplier, nation), (part, partsupp))\n",
    "r2 = r2.merge(r1, left_on='s_suppkey', right_on='ps_suppkey')\n",
    "r2.columns.name = 'r2'\n",
    "# optimized hash join ((supplier, nation, part, partsupp), lineitem)\n",
    "r = r2.merge(lineitem, how='inner', left_on=['s_suppkey', 'ps_suppkey'], right_on=['l_suppkey', 'l_suppkey'])\n",
    "# optimized hash join ((supplier, nation, part, partsupp, lineitem), orders)\n",
    "r = r.merge(orders, left_on='l_orderkey', right_on='o_orderkey')\n",
    "\n",
    "r['nation'] = r['n_name']\n",
    "r['o_year'] = pd.DatetimeIndex(r['o_orderdate']).year\n",
    "r['amount'] = r['l_extendedprice'] * (1 - r['l_discount']) - r['ps_supplycost'] * r['l_quantity']\n",
    "\n",
    "profit = r[['nation', 'o_year', 'amount']]\n",
    "profit.columns.name = 'profit'\n",
    "\n",
    "s = profit.groupby(['nation', 'o_year'], as_index=False).agg(sum_profit=('amount', 'sum'))\n",
    "\n",
    "print(s)\n",
    "\n",
    "pysdql.db_driver(db_path=sdql_database_path, name='tpch-9').run(s).export().to()"
   ]
  },
  {
   "cell_type": "markdown",
   "metadata": {},
   "source": [
    "### pandas - 9"
   ]
  },
  {
   "cell_type": "code",
   "execution_count": 19,
   "metadata": {},
   "outputs": [
    {
     "name": "stdout",
     "output_type": "stream",
     "text": [
      "            nation  o_year    sum_profit\n",
      "0        ARGENTINA    1992  5.595441e+06\n",
      "1        ARGENTINA    1993  5.230639e+06\n",
      "2        ARGENTINA    1994  5.150132e+06\n",
      "3        ARGENTINA    1995  5.029412e+06\n",
      "4        ARGENTINA    1996  4.904186e+06\n",
      "5        ARGENTINA    1997  4.753882e+06\n",
      "6        ARGENTINA    1998  3.170233e+06\n",
      "7         ETHIOPIA    1992  5.376198e+06\n",
      "8         ETHIOPIA    1993  6.655897e+06\n",
      "9         ETHIOPIA    1994  7.318041e+06\n",
      "10        ETHIOPIA    1995  6.589617e+06\n",
      "11        ETHIOPIA    1996  6.349723e+06\n",
      "12        ETHIOPIA    1997  5.427467e+06\n",
      "13        ETHIOPIA    1998  3.933002e+06\n",
      "14            IRAN    1992  5.888962e+06\n",
      "15            IRAN    1993  8.936717e+06\n",
      "16            IRAN    1994  8.478273e+06\n",
      "17            IRAN    1995  8.187431e+06\n",
      "18            IRAN    1996  1.082033e+07\n",
      "19            IRAN    1997  9.220612e+06\n",
      "20            IRAN    1998  5.975164e+06\n",
      "21            IRAQ    1992  3.698408e+06\n",
      "22            IRAQ    1993  3.167979e+06\n",
      "23            IRAQ    1994  2.807937e+06\n",
      "24            IRAQ    1995  3.049841e+06\n",
      "25            IRAQ    1996  4.218684e+06\n",
      "26            IRAQ    1997  4.734595e+06\n",
      "27            IRAQ    1998  2.235906e+06\n",
      "28           KENYA    1992  3.391743e+06\n",
      "29           KENYA    1993  3.086955e+06\n",
      "30           KENYA    1994  2.977976e+06\n",
      "31           KENYA    1995  2.556888e+06\n",
      "32           KENYA    1996  2.684231e+06\n",
      "33           KENYA    1997  3.045326e+06\n",
      "34           KENYA    1998  1.925397e+06\n",
      "35         MOROCCO    1992  7.653885e+06\n",
      "36         MOROCCO    1993  9.746324e+06\n",
      "37         MOROCCO    1994  7.366059e+06\n",
      "38         MOROCCO    1995  6.927614e+06\n",
      "39         MOROCCO    1996  8.456977e+06\n",
      "40         MOROCCO    1997  7.276757e+06\n",
      "41         MOROCCO    1998  5.620573e+06\n",
      "42            PERU    1992  1.483692e+07\n",
      "43            PERU    1993  1.361605e+07\n",
      "44            PERU    1994  1.367479e+07\n",
      "45            PERU    1995  1.595809e+07\n",
      "46            PERU    1996  1.589348e+07\n",
      "47            PERU    1997  1.638596e+07\n",
      "48            PERU    1998  8.188047e+06\n",
      "49  UNITED KINGDOM    1992  6.205130e+06\n",
      "50  UNITED KINGDOM    1993  6.020106e+06\n",
      "51  UNITED KINGDOM    1994  4.908937e+06\n",
      "52  UNITED KINGDOM    1995  5.421591e+06\n",
      "53  UNITED KINGDOM    1996  7.194796e+06\n",
      "54  UNITED KINGDOM    1997  5.023760e+06\n",
      "55  UNITED KINGDOM    1998  4.028274e+06\n",
      "56   UNITED STATES    1992  5.975356e+06\n",
      "57   UNITED STATES    1993  4.621070e+06\n",
      "58   UNITED STATES    1994  4.071393e+06\n",
      "59   UNITED STATES    1995  5.002142e+06\n",
      "60   UNITED STATES    1996  4.904476e+06\n",
      "61   UNITED STATES    1997  4.477950e+06\n",
      "62   UNITED STATES    1998  2.058172e+06\n"
     ]
    }
   ],
   "source": [
    "# Try replace pysdql with pandas to get result in pandas!\n",
    "import pandas as pd  # get answer in pandas\n",
    "# import pysdql as pd  # get answer in pysdql\n",
    "\n",
    "# display all columns\n",
    "pd.set_option('display.max_columns', None)\n",
    "# display all rows\n",
    "pd.set_option('display.max_rows', None)\n",
    "\n",
    "var1 = 'cornflower'\n",
    "\n",
    "part = pd.read_table(rf'{data_path}/part.tbl', sep='|', index_col=False, header=None, names=pysdql.PART_COLS)\n",
    "supplier = pd.read_table(rf'{data_path}/supplier.tbl', sep='|', index_col=False, header=None, names=pysdql.SUPPLIER_COLS)\n",
    "lineitem = pd.read_table(rf'{data_path}/lineitem.tbl', sep='|', index_col=False, header=None, names=pysdql.LINEITEM_COLS)\n",
    "partsupp = pd.read_table(rf'{data_path}/partsupp.tbl', sep='|', index_col=False, header=None, names=pysdql.PARTSUPP_COLS)\n",
    "orders = pd.read_table(rf'{data_path}/orders.tbl', sep='|', index_col=False, header=None, names=pysdql.ORDERS_COLS)\n",
    "nation = pd.read_table(rf'{data_path}/nation.tbl', sep='|', index_col=False, header=None, names=pysdql.NATION_COLS)\n",
    "\n",
    "# part_p\n",
    "sub_p = part[part['p_name'].str.contains(var1)]\n",
    "sub_p.columns.name = 'sub_p'\n",
    "\n",
    "# optimized hash join (part, partsupp)\n",
    "r1 = sub_p.merge(partsupp, left_on='p_partkey', right_on='ps_partkey')\n",
    "r1.columns.name = 'r1'\n",
    "# optimized hash join (supplier, nation)\n",
    "r2 = supplier.merge(nation, left_on='s_nationkey', right_on='n_nationkey')\n",
    "# optimized hash join ((supplier, nation), (part, partsupp))\n",
    "r2 = r2.merge(r1, left_on='s_suppkey', right_on='ps_suppkey')\n",
    "r2.columns.name = 'r2'\n",
    "# optimized hash join ((supplier, nation, part, partsupp), lineitem)\n",
    "r = r2.merge(lineitem, how='inner', left_on=['s_suppkey', 'ps_suppkey'], right_on=['l_suppkey', 'l_suppkey'])\n",
    "# optimized hash join ((supplier, nation, part, partsupp, lineitem), orders)\n",
    "r = r.merge(orders, left_on='l_orderkey', right_on='o_orderkey')\n",
    "\n",
    "r['nation'] = r['n_name']\n",
    "r['o_year'] = pd.DatetimeIndex(r['o_orderdate']).year\n",
    "r['amount'] = r['l_extendedprice'] * (1 - r['l_discount']) - r['ps_supplycost'] * r['l_quantity']\n",
    "\n",
    "profit = r[['nation', 'o_year', 'amount']]\n",
    "profit.columns.name = 'profit'\n",
    "\n",
    "s = profit.groupby(['nation', 'o_year'], as_index=False).agg(sum_profit=('amount', 'sum'))\n",
    "\n",
    "print(s)\n",
    "\n",
    "pysdql.db_driver(db_path=sdql_database_path, name='tpch-9').run(s).export().to()"
   ]
  },
  {
   "cell_type": "markdown",
   "metadata": {},
   "source": [
    "# TPCH - 10 ✅"
   ]
  },
  {
   "cell_type": "markdown",
   "metadata": {},
   "source": [
    "### SQL - 10"
   ]
  },
  {
   "cell_type": "markdown",
   "metadata": {},
   "source": [
    "```\n",
    "select\n",
    "\tc_custkey,\n",
    "\tc_name,\n",
    "\tsum(l_extendedprice * (1 - l_discount)) as revenue,\n",
    "\tc_acctbal,\n",
    "\tn_name,\n",
    "\tc_address,\n",
    "\tc_phone,\n",
    "\tc_comment\n",
    "from\n",
    "\tcustomer,\n",
    "\torders,\n",
    "\tlineitem,\n",
    "\tnation\n",
    "where\n",
    "\tc_custkey = o_custkey\n",
    "\tand l_orderkey = o_orderkey\n",
    "\tand o_orderdate >= date ':1'\n",
    "\tand o_orderdate < date ':1' + interval '3' month\n",
    "\tand l_returnflag = 'R'\n",
    "\tand c_nationkey = n_nationkey\n",
    "group by\n",
    "\tc_custkey,\n",
    "\tc_name,\n",
    "\tc_acctbal,\n",
    "\tc_phone,\n",
    "\tn_name,\n",
    "\tc_address,\n",
    "\tc_comment\n",
    "```"
   ]
  },
  {
   "cell_type": "markdown",
   "metadata": {},
   "source": [
    "### pysdql - 10"
   ]
  },
  {
   "cell_type": "code",
   "execution_count": 20,
   "metadata": {
    "scrolled": false
   },
   "outputs": [
    {
     "name": "stdout",
     "output_type": "stream",
     "text": [
      "let lineitem = load[{<l_orderkey: int, l_partkey: int, l_suppkey: int, l_linenumber: int, l_quantity: int, l_extendedprice: double, l_discount: double, l_tax: double, l_returnflag: string, l_linestatus: string, l_shipdate: date, l_commitdate: date, l_receiptdate: date, l_shipinstruct: string, l_shipmode: string, l_comment: string> -> int}](\"T:/UG4-Proj/datasets/lineitem.tbl\")\n",
      "let lmp = sum (<lin_k, lin_v> in lineitem) if ((lin_k.l_returnflag == \"R\")) then { lin_k -> 1 } else {  }\n",
      "let sub_l = lmp\n",
      "let nation = load[{<n_nationkey: int, n_name: string, n_regionkey: int, n_comment: string> -> int}](\"T:/UG4-Proj/datasets/nation.tbl\")\n",
      "let orders = load[{<o_orderkey: int, o_custkey: int, o_orderstatus: string, o_totalprice: double, o_orderdate: date, o_orderpriority: string, o_clerk: string, o_shippriority: int, o_comment: string> -> int}](\"T:/UG4-Proj/datasets/orders.tbl\")\n",
      "let omp = sum (<ord_k, ord_v> in orders) if (((date(19930801) <= ord_k.o_orderdate) && (ord_k.o_orderdate < date(19931101)))) then { ord_k -> 1 } else {  }\n",
      "let sub_o = omp\n",
      "let customer = load[{<c_custkey: int, c_name: string, c_address: string, c_nationkey: int, c_phone: string, c_acctbal: double, c_mktsegment: string, c_comment: string> -> int}](\"T:/UG4-Proj/datasets/customer.tbl\")\n",
      "let part_sub_o = sum (<so_k, so_v> in sub_o) { < o_custkey=so_k.o_custkey > -> { so_k -> so_v } }\n",
      "let Rm0 = sum (<cus_k, cus_v> in customer) if ((part_sub_o(<o_custkey=cus_k.c_custkey>) != {  })) then sum(<p_k, p_v> in part_sub_o(<o_custkey=cus_k.c_custkey>)) { concat(cus_k, p_k) -> cus_v * p_v } else {  }\n",
      "let part_nation = sum (<nat_k, nat_v> in nation) { < n_nationkey=nat_k.n_nationkey > -> { nat_k -> nat_v } }\n",
      "let Rm1 = sum (<r0_k, r0_v> in Rm0) if ((part_nation(<n_nationkey=r0_k.c_nationkey>) != {  })) then sum(<p_k, p_v> in part_nation(<n_nationkey=r0_k.c_nationkey>)) { concat(r0_k, p_k) -> r0_v * p_v } else {  }\n",
      "let part_sub_l = sum (<sl_k, sl_v> in sub_l) { < l_orderkey=sl_k.l_orderkey > -> { sl_k -> sl_v } }\n",
      "let Rm2 = sum (<r1_k, r1_v> in Rm1) if ((part_sub_l(<l_orderkey=r1_k.o_custkey>) != {  })) then sum(<p_k, p_v> in part_sub_l(<l_orderkey=r1_k.o_custkey>)) { concat(r1_k, p_k) -> r1_v * p_v } else {  }\n",
      "let rmp = sum (<r2_k, r2_v> in Rm2) { concat(r2_k, < value=(r2_k.l_extendedprice * (1 - r2_k.l_discount)) >) -> 1 }\n",
      "let tmpa = sum (<r_k, r_v> in rmp) { < c_custkey=r_k.c_custkey, c_name=r_k.c_name, c_acctbal=r_k.c_acctbal, n_name=r_k.n_name, c_address=r_k.c_address, c_phone=r_k.c_phone, c_comment=r_k.c_comment > -> < revenue=promote[nullable[real]](r_k.value * r_v) > }\n",
      "let agg_rmp = sum (<ta_k, ta_v> in tmpa) { < c_custkey=ta_k.c_custkey, c_name=ta_k.c_name, c_acctbal=ta_k.c_acctbal, n_name=ta_k.n_name, c_address=ta_k.c_address, c_phone=ta_k.c_phone, c_comment=ta_k.c_comment, revenue=promote[real](ta_v.revenue) > -> 1 }\n",
      "agg_rmp\n"
     ]
    },
    {
     "name": "stderr",
     "output_type": "stream",
     "text": [
      "[info] welcome to sbt 1.6.0 (Oracle Corporation Java 17)\n",
      "[info] loading project definition from T:\\sdql\\project\n",
      "[info] loading settings for project sdql from build.sbt ...\n",
      "[info] set current project to sdql (in build file:/T:/sdql/)\n",
      "[info] sbt server started at local:sbt-server-ec9dcaf7bfc5935dead3\n",
      "[warn] sbt server could not start in 10s\n",
      "\u001b[?2004h>....[info] running sdql.driver.Main interpret T:/UG4-Proj/output/Q00.sdql\n",
      "{<c_custkey = 64, c_name = Customer#000000064, c_acctbal = -646.64, n_name = CANADA, c_address = MbCeGY20kaKK3oalJD,OT, c_phone = 13-558-731-7204, c_comment = structions after the quietly ironic theodolites cajole be\n",
      ", revenue = 19672.296> -> 1, <c_custkey = 97, c_name = Customer#000000097, c_acctbal = 2164.48, n_name = PERU, c_address = OApyejbhJG,0Iw3j rd1M, c_phone = 27-588-919-5638, c_comment = haggle slyly. bold, special ideas are blithely above the thinly bold theo\n",
      ", revenue = 61459.780399999996> -> 1, <c_custkey = 131, c_name = Customer#000000131, c_acctbal = 8595.53, n_name = IRAQ, c_address = jyN6lAjb1FtH10rMC,XzlWyCBrg75, c_phone = 21-840-210-3572, c_comment = jole special packages. furiously final dependencies about the furiously speci\n",
      ", revenue = 43260.479999999996> -> 1, <c_custkey = 70, c_name = Customer#000000070, c_acctbal = 4867.52, n_name = RUSSIA, c_address = mFowIuhnHjp2GjCiYYavkW kUwOjIaTCQ, c_phone = 32-828-107-2832, c_comment = fter the special asymptotes. ideas after the unusual frets cajole quickly regular pinto be\n",
      ", revenue = 40120.1103> -> 1}\n",
      "[success] Total time: 1 s, completed 2022年7月30日 上午8:49:27\n",
      "========================================================\n",
      "pysdql execution time: 16.219496965408325\n",
      "export sdql script \"tpch-10.sdql\" to \"T:/UG4-Proj/output/tpch-10.sdql\"\n",
      "excute by:\n",
      "run interpret T:/UG4-Proj/output/tpch-10.sdql\n"
     ]
    },
    {
     "data": {
      "text/plain": [
       "{<c_custkey = 64, c_name = Customer#000000064, c_acctbal = -646.64, n_name = CANADA, c_address = MbCeGY20kaKK3oalJD,OT, c_phone = 13-558-731-7204, c_comment = structions after the quietly ironic theodolites cajole be, revenue = 19672.296> -> 1, <c_custkey = 97, c_name = Customer#000000097, c_acctbal = 2164.48, n_name = PERU, c_address = OApyejbhJG,0Iw3j rd1M, c_phone = 27-588-919-5638, c_comment = haggle slyly. bold, special ideas are blithely above the thinly bold theo, revenue = 61459.780399999996> -> 1, <c_custkey = 131, c_name = Customer#000000131, c_acctbal = 8595.53, n_name = IRAQ, c_address = jyN6lAjb1FtH10rMC,XzlWyCBrg75, c_phone = 21-840-210-3572, c_comment = jole special packages. furiously final dependencies about the furiously speci, revenue = 43260.479999999996> -> 1, <c_custkey = 70, c_name = Customer#000000070, c_acctbal = 4867.52, n_name = RUSSIA, c_address = mFowIuhnHjp2GjCiYYavkW kUwOjIaTCQ, c_phone = 32-828-107-2832, c_comment = fter the special asymptotes. ideas after the unusual frets cajole quickly regular pinto be, revenue = 40120.1103> -> 1}"
      ]
     },
     "execution_count": 20,
     "metadata": {},
     "output_type": "execute_result"
    }
   ],
   "source": [
    "# Try replace pysdql with pandas to get result in pandas!\n",
    "# import pandas as pd  # get answer in pandas\n",
    "import pysdql as pd  # get answer in pysdql\n",
    "\n",
    "# display all columns\n",
    "pd.set_option('display.max_columns', None)\n",
    "# display all rows\n",
    "pd.set_option('display.max_rows', None)\n",
    "\n",
    "var1 = '1993-08-01'\n",
    "var2 = '1993-11-01'  # var1 + 3 month\n",
    "\n",
    "customer = pd.read_table(rf'{data_path}/customer.tbl', sep='|', index_col=False, header=None, names=pysdql.CUSTOMER_COLS)\n",
    "orders = pd.read_table(rf'{data_path}/orders.tbl', sep='|', index_col=False, header=None, names=pysdql.ORDERS_COLS)\n",
    "lineitem = pd.read_table(rf'{data_path}/lineitem.tbl', sep='|', index_col=False, header=None, names=pysdql.LINEITEM_COLS)\n",
    "nation = pd.read_table(rf'{data_path}/nation.tbl', sep='|', index_col=False, header=None, names=pysdql.NATION_COLS)\n",
    "\n",
    "sub_o = orders[(orders['o_orderdate'] >= var1) & (orders['o_orderdate'] < var2)]\n",
    "sub_o.columns.name = 'sub_o'\n",
    "\n",
    "r = customer.merge(sub_o, left_on='c_custkey', right_on='o_custkey')\n",
    "r = r.merge(nation, left_on='c_nationkey', right_on='n_nationkey')\n",
    "\n",
    "sub_l = lineitem[lineitem['l_returnflag'] == 'R']\n",
    "sub_l.columns.name = 'sub_l'\n",
    "r = r.merge(sub_l, left_on='o_custkey', right_on='l_orderkey')\n",
    "\n",
    "r['value'] = r['l_extendedprice'] * (1 - r['l_discount'])\n",
    "\n",
    "r = r.groupby(['c_custkey', 'c_name', 'c_acctbal', 'n_name', 'c_address', 'c_phone', 'c_comment'], as_index=False)\\\n",
    "    .agg(revenue=('value', 'sum'))\n",
    "\n",
    "print(r)\n",
    "\n",
    "pysdql.db_driver(db_path=sdql_database_path, name='tpch-10').run(r).export().to()"
   ]
  },
  {
   "cell_type": "markdown",
   "metadata": {},
   "source": [
    "### pandas - 10"
   ]
  },
  {
   "cell_type": "code",
   "execution_count": 21,
   "metadata": {},
   "outputs": [
    {
     "name": "stdout",
     "output_type": "stream",
     "text": [
      "   c_custkey              c_name  c_acctbal  n_name  \\\n",
      "0         64  Customer#000000064    -646.64  CANADA   \n",
      "1         70  Customer#000000070    4867.52  RUSSIA   \n",
      "2         97  Customer#000000097    2164.48    PERU   \n",
      "3        131  Customer#000000131    8595.53    IRAQ   \n",
      "\n",
      "                           c_address          c_phone  \\\n",
      "0              MbCeGY20kaKK3oalJD,OT  13-558-731-7204   \n",
      "1  mFowIuhnHjp2GjCiYYavkW kUwOjIaTCQ  32-828-107-2832   \n",
      "2              OApyejbhJG,0Iw3j rd1M  27-588-919-5638   \n",
      "3      jyN6lAjb1FtH10rMC,XzlWyCBrg75  21-840-210-3572   \n",
      "\n",
      "                                           c_comment     revenue  \n",
      "0  structions after the quietly ironic theodolite...  19672.2960  \n",
      "1  fter the special asymptotes. ideas after the u...  40120.1103  \n",
      "2  haggle slyly. bold, special ideas are blithely...  61459.7804  \n",
      "3  jole special packages. furiously final depende...  43260.4800  \n"
     ]
    }
   ],
   "source": [
    "# Try replace pysdql with pandas to get result in pandas!\n",
    "import pandas as pd  # get answer in pandas\n",
    "# import pysdql as pd  # get answer in pysdql\n",
    "\n",
    "# display all columns\n",
    "pd.set_option('display.max_columns', None)\n",
    "# display all rows\n",
    "pd.set_option('display.max_rows', None)\n",
    "\n",
    "var1 = '1993-08-01'\n",
    "var2 = '1993-11-01'  # var1 + 3 month\n",
    "\n",
    "customer = pd.read_table(rf'{data_path}/customer.tbl', sep='|', index_col=False, header=None, names=pysdql.CUSTOMER_COLS)\n",
    "orders = pd.read_table(rf'{data_path}/orders.tbl', sep='|', index_col=False, header=None, names=pysdql.ORDERS_COLS)\n",
    "lineitem = pd.read_table(rf'{data_path}/lineitem.tbl', sep='|', index_col=False, header=None, names=pysdql.LINEITEM_COLS)\n",
    "nation = pd.read_table(rf'{data_path}/nation.tbl', sep='|', index_col=False, header=None, names=pysdql.NATION_COLS)\n",
    "\n",
    "sub_o = orders[(orders['o_orderdate'] >= var1) & (orders['o_orderdate'] < var2)]\n",
    "sub_o.columns.name = 'sub_o'\n",
    "\n",
    "r = customer.merge(sub_o, left_on='c_custkey', right_on='o_custkey')\n",
    "r = r.merge(nation, left_on='c_nationkey', right_on='n_nationkey')\n",
    "\n",
    "sub_l = lineitem[lineitem['l_returnflag'] == 'R']\n",
    "sub_l.columns.name = 'sub_l'\n",
    "r = r.merge(sub_l, left_on='o_custkey', right_on='l_orderkey')\n",
    "\n",
    "r['value'] = r['l_extendedprice'] * (1 - r['l_discount'])\n",
    "\n",
    "r = r.groupby(['c_custkey', 'c_name', 'c_acctbal', 'n_name', 'c_address', 'c_phone', 'c_comment'], as_index=False)\\\n",
    "    .agg(revenue=('value', 'sum'))\n",
    "\n",
    "print(r)\n",
    "\n",
    "pysdql.db_driver(db_path=sdql_database_path, name='tpch-10').run(r).export().to()"
   ]
  },
  {
   "cell_type": "markdown",
   "metadata": {},
   "source": [
    "# TPCH - 11 ✅"
   ]
  },
  {
   "cell_type": "markdown",
   "metadata": {},
   "source": [
    "### SQL - 11"
   ]
  },
  {
   "cell_type": "markdown",
   "metadata": {},
   "source": [
    "```\n",
    "select\n",
    "\tps_partkey,\n",
    "\tsum(ps_supplycost * ps_availqty) as value\n",
    "from\n",
    "\tpartsupp,\n",
    "\tsupplier,\n",
    "\tnation\n",
    "where\n",
    "\tps_suppkey = s_suppkey\n",
    "\tand s_nationkey = n_nationkey\n",
    "\tand n_name = ':1'\n",
    "group by\n",
    "\tps_partkey having\n",
    "\t\tsum(ps_supplycost * ps_availqty) > (\n",
    "\t\t\tselect\n",
    "\t\t\t\tsum(ps_supplycost * ps_availqty) * :2\n",
    "\t\t\tfrom\n",
    "\t\t\t\tpartsupp,\n",
    "\t\t\t\tsupplier,\n",
    "\t\t\t\tnation\n",
    "\t\t\twhere\n",
    "\t\t\t\tps_suppkey = s_suppkey\n",
    "\t\t\t\tand s_nationkey = n_nationkey\n",
    "\t\t\t\tand n_name = ':1'\n",
    "\t\t)\n",
    "```"
   ]
  },
  {
   "cell_type": "markdown",
   "metadata": {},
   "source": [
    "### pysdql - 11"
   ]
  },
  {
   "cell_type": "code",
   "execution_count": 22,
   "metadata": {
    "scrolled": false
   },
   "outputs": [
    {
     "name": "stdout",
     "output_type": "stream",
     "text": [
      "let partsupp = load[{<ps_partkey: int, ps_suppkey: int, ps_availqty: int, ps_supplycost: double, ps_comment: string> -> int}](\"T:/UG4-Proj/datasets/partsupp.tbl\")\n",
      "let supplier = load[{<s_suppkey: int, s_name: string, s_address: string, s_nationkey: int, s_phone: string, s_acctbal: double, s_comment: string> -> int}](\"T:/UG4-Proj/datasets/supplier.tbl\")\n",
      "let nation = load[{<n_nationkey: int, n_name: string, n_regionkey: int, n_comment: string> -> int}](\"T:/UG4-Proj/datasets/nation.tbl\")\n",
      "let nmp = sum (<nat_k, nat_v> in nation) if ((nat_k.n_name == \"PERU\")) then { nat_k -> 1 } else {  }\n",
      "let sub_n = nmp\n",
      "let part_supplier = sum (<sup_k, sup_v> in supplier) { < s_nationkey=sup_k.s_nationkey > -> { sup_k -> sup_v } }\n",
      "let Rm0 = sum (<sn_k, sn_v> in sub_n) if ((part_supplier(<s_nationkey=sn_k.n_nationkey>) != {  })) then sum(<p_k, p_v> in part_supplier(<s_nationkey=sn_k.n_nationkey>)) { concat(sn_k, p_k) -> sn_v * p_v } else {  }\n",
      "let r1 = Rm0\n",
      "let part_partsupp = sum (<psup_k, psup_v> in partsupp) { < ps_suppkey=psup_k.ps_suppkey > -> { psup_k -> psup_v } }\n",
      "let Rm1 = sum (<r1_k, r1_v> in r1) if ((part_partsupp(<ps_suppkey=r1_k.s_suppkey>) != {  })) then sum(<p_k, p_v> in part_partsupp(<ps_suppkey=r1_k.s_suppkey>)) { concat(r1_k, p_k) -> r1_v * p_v } else {  }\n",
      "let r2 = Rm1\n",
      "let agg_val = sum (<r2_k, r2_v> in r2) r2_v\n",
      "let supplier = load[{<s_suppkey: int, s_name: string, s_address: string, s_nationkey: int, s_phone: string, s_acctbal: double, s_comment: string> -> int}](\"T:/UG4-Proj/datasets/supplier.tbl\")\n",
      "let nmp = sum (<nat_k, nat_v> in nation) if ((nat_k.n_name == \"PERU\")) then { nat_k -> 1 } else {  }\n",
      "let part_supplier = sum (<sup_k, sup_v> in supplier) { < s_nationkey=sup_k.s_nationkey > -> { sup_k -> sup_v } }\n",
      "let r1 = Rm0\n",
      "let Rm1 = sum (<r1_k, r1_v> in r1) if ((part_partsupp(<ps_suppkey=r1_k.s_suppkey>) != {  })) then sum(<p_k, p_v> in part_partsupp(<ps_suppkey=r1_k.s_suppkey>)) { concat(r1_k, p_k) -> r1_v * p_v } else {  }\n",
      "let agg_val = sum (<r2_k, r2_v> in r2) r2_v\n",
      "let tmp = sum (<r2_k, r2_v> in r2) { < ps_partkey=r2_k.ps_partkey > -> { r2_k -> r2_v } }\n",
      "let rmp = sum (<t_k, t_v> in tmp) { < ps_partkey=t_k.ps_partkey, group=t_v > -> 1 }\n",
      "let hvmp = sum (<r_k, r_v> in rmp) sum (<g_k, g_v> in r_k.group) { < ps_partkey=r_k.ps_partkey > -> < val=((g_k.ps_supplycost * g_k.ps_availqty) * g_v) > }\n",
      "let hvR = sum (<hv_k, hv_v> in hvmp) if ((agg_val < hv_v.val)) then { < ps_partkey=hv_k.ps_partkey > -> 1 } else {  }\n",
      "let fhr2 = sum (<r2_k, r2_v> in r2) sum (<h_k, h_v> in hvR) if ((h_k.ps_partkey == r2_k.ps_partkey)) then { r2_k -> 1 } else {  }\n",
      "let fmp = sum (<f2_k, f2_v> in fhr2) { concat(f2_k, < value=(f2_k.ps_supplycost * f2_k.ps_availqty) >) -> 1 }\n",
      "let tmpb = sum (<f_k, f_v> in fmp) { < ps_partkey=f_k.ps_partkey > -> < value=promote[nullable[real]](f_k.value * f_v) > }\n",
      "let agg_fmp = sum (<tb_k, tb_v> in tmpb) { < ps_partkey=tb_k.ps_partkey, value=promote[real](tb_v.value) > -> 1 }\n",
      "agg_fmp\n"
     ]
    },
    {
     "name": "stderr",
     "output_type": "stream",
     "text": [
      "[info] welcome to sbt 1.6.0 (Oracle Corporation Java 17)\n",
      "[info] loading project definition from T:\\sdql\\project\n",
      "[info] loading settings for project sdql from build.sbt ...\n",
      "[info] set current project to sdql (in build file:/T:/sdql/)\n",
      "[info] sbt server started at local:sbt-server-ec9dcaf7bfc5935dead3\n",
      "[warn] sbt server could not start in 10s\n",
      "\u001b[?2004h>....[info] running sdql.driver.Main interpret T:/UG4-Proj/output/Q00.sdql\n",
      "{<ps_partkey = 97, value = 4314022.47> -> 1, <ps_partkey = 164, value = 2643604.15> -> 1, <ps_partkey = 171, value = 1998922.56> -> 1, <ps_partkey = 72, value = 2023966.94> -> 1, <ps_partkey = 62, value = 2056642.72> -> 1, <ps_partkey = 44, value = 607304.7000000001> -> 1, <ps_partkey = 141, value = 231038.80000000002> -> 1, <ps_partkey = 17, value = 1.3534598E7> -> 1, <ps_partkey = 170, value = 4371681.399999999> -> 1, <ps_partkey = 50, value = 1036069.2799999999> -> 1, <ps_partkey = 122, value = 3226213.8800000004> -> 1, <ps_partkey = 135, value = 873132.22> -> 1, <ps_partkey = 166, value = 4239796.54> -> 1, <ps_partkey = 40, value = 7662503.61> -> 1, <ps_partkey = 150, value = 4245428.61> -> 1, <ps_partkey = 148, value = 1424237.3699999999> -> 1, <ps_partkey = 194, value = 626466.0> -> 1, <ps_partkey = 179, value = 751076.4999999999> -> 1, <ps_partkey = 94, value = 2687324.8800000004> -> 1, <ps_partkey = 42, value = 107882.52> -> 1, <ps_partkey = 56, value = 5440869.45> -> 1, <ps_partkey = 140, value = 1205933.31> -> 1, <ps_partkey = 11, value = 4552359.66> -> 1, <ps_partkey = 199, value = 381417.48000000004> -> 1, <ps_partkey = 132, value = 3634867.0999999996> -> 1, <ps_partkey = 163, value = 5548992.48> -> 1, <ps_partkey = 35, value = 5604884.25> -> 1, <ps_partkey = 10, value = 2940546.24> -> 1, <ps_partkey = 101, value = 33664.950000000004> -> 1, <ps_partkey = 1, value = 1456050.96> -> 1, <ps_partkey = 57, value = 365882.92> -> 1, <ps_partkey = 103, value = 1866682.7200000002> -> 1, <ps_partkey = 178, value = 695176.94> -> 1, <ps_partkey = 145, value = 567974.4> -> 1, <ps_partkey = 53, value = 6179193.36> -> 1, <ps_partkey = 144, value = 419880.24> -> 1, <ps_partkey = 180, value = 6187728.92> -> 1, <ps_partkey = 200, value = 2422399.1999999997> -> 1, <ps_partkey = 23, value = 591863.07> -> 1, <ps_partkey = 64, value = 5490141.5> -> 1, <ps_partkey = 142, value = 3295040.64> -> 1, <ps_partkey = 172, value = 1571479.54> -> 1, <ps_partkey = 90, value = 1.373279748E7> -> 1, <ps_partkey = 4, value = 1102037.6> -> 1, <ps_partkey = 87, value = 1.168637671E7> -> 1, <ps_partkey = 167, value = 3288831.1> -> 1, <ps_partkey = 157, value = 2000148.16> -> 1, <ps_partkey = 18, value = 2501227.75> -> 1, <ps_partkey = 60, value = 6897784.01> -> 1, <ps_partkey = 59, value = 372372.0> -> 1, <ps_partkey = 108, value = 1182720.06> -> 1, <ps_partkey = 128, value = 6150602.9399999995> -> 1, <ps_partkey = 47, value = 2044422.2799999998> -> 1, <ps_partkey = 49, value = 485134.14> -> 1, <ps_partkey = 114, value = 3429966.9699999997> -> 1, <ps_partkey = 8, value = 379106.64> -> 1, <ps_partkey = 73, value = 1215990.96> -> 1, <ps_partkey = 96, value = 2823364.5999999996> -> 1, <ps_partkey = 107, value = 1218049.47> -> 1, <ps_partkey = 95, value = 362309.74> -> 1, <ps_partkey = 159, value = 2939663.79> -> 1, <ps_partkey = 3, value = 2528031.8> -> 1, <ps_partkey = 137, value = 2911222.77> -> 1, <ps_partkey = 20, value = 1977305.5799999998> -> 1, <ps_partkey = 147, value = 6989079.88> -> 1, <ps_partkey = 22, value = 2813659.4400000004> -> 1, <ps_partkey = 156, value = 800339.55> -> 1, <ps_partkey = 161, value = 6663701.13> -> 1, <ps_partkey = 63, value = 2932839.25> -> 1, <ps_partkey = 98, value = 478577.0> -> 1, <ps_partkey = 80, value = 4350491.149999999> -> 1, <ps_partkey = 32, value = 6846704.2> -> 1, <ps_partkey = 190, value = 7017966.9> -> 1, <ps_partkey = 129, value = 1751796.41> -> 1, <ps_partkey = 149, value = 1281966.48> -> 1, <ps_partkey = 41, value = 2329702.2600000002> -> 1, <ps_partkey = 169, value = 6239980.67> -> 1, <ps_partkey = 195, value = 32723.02> -> 1, <ps_partkey = 100, value = 3868459.85> -> 1, <ps_partkey = 104, value = 2457281.22> -> 1, <ps_partkey = 99, value = 3760269.31> -> 1, <ps_partkey = 61, value = 3017869.88> -> 1, <ps_partkey = 196, value = 2429515.15> -> 1, <ps_partkey = 187, value = 1.214970141E7> -> 1, <ps_partkey = 78, value = 4182608.58> -> 1, <ps_partkey = 69, value = 6970845.15> -> 1, <ps_partkey = 28, value = 6657301.64> -> 1, <ps_partkey = 110, value = 1575891.7200000002> -> 1, <ps_partkey = 153, value = 7755681.279999999> -> 1, <ps_partkey = 160, value = 9603044.139999999> -> 1, <ps_partkey = 125, value = 4473736.359999999> -> 1, <ps_partkey = 106, value = 437974.39999999997> -> 1, <ps_partkey = 198, value = 1403881.3> -> 1, <ps_partkey = 67, value = 3040109.5100000002> -> 1, <ps_partkey = 5, value = 487669.56000000006> -> 1, <ps_partkey = 197, value = 1.532715414E7> -> 1, <ps_partkey = 7, value = 5694706.92> -> 1, <ps_partkey = 70, value = 1579752.72> -> 1, <ps_partkey = 126, value = 461263.74> -> 1, <ps_partkey = 127, value = 5455023.140000001> -> 1, <ps_partkey = 6, value = 2142145.68> -> 1, <ps_partkey = 130, value = 1100816.64> -> 1, <ps_partkey = 111, value = 7093041.7700000005> -> 1, <ps_partkey = 118, value = 4834899.05> -> 1, <ps_partkey = 123, value = 4612955.220000001> -> 1, <ps_partkey = 29, value = 6751706.920000001> -> 1, <ps_partkey = 117, value = 4812298.94> -> 1, <ps_partkey = 120, value = 1001220.9600000001> -> 1, <ps_partkey = 25, value = 5479970.600000001> -> 1, <ps_partkey = 45, value = 3019876.3000000003> -> 1, <ps_partkey = 37, value = 6027604.5200000005> -> 1, <ps_partkey = 177, value = 55445.25> -> 1, <ps_partkey = 66, value = 235991.91999999998> -> 1, <ps_partkey = 71, value = 1995378.53> -> 1, <ps_partkey = 79, value = 2912681.07> -> 1, <ps_partkey = 30, value = 4714801.35> -> 1, <ps_partkey = 173, value = 5409250.08> -> 1, <ps_partkey = 105, value = 42668.78> -> 1, <ps_partkey = 14, value = 8028694.640000001> -> 1, <ps_partkey = 162, value = 271336.8> -> 1, <ps_partkey = 48, value = 3717809.16> -> 1, <ps_partkey = 26, value = 5867999.4> -> 1, <ps_partkey = 77, value = 140715.84> -> 1, <ps_partkey = 27, value = 937305.11> -> 1}\n",
      "[success] Total time: 1 s, completed 2022年7月30日 上午8:49:43\n",
      "========================================================\n",
      "pysdql execution time: 16.257302284240723\n",
      "export sdql script \"tpch-11.sdql\" to \"T:/UG4-Proj/output/tpch-11.sdql\"\n",
      "excute by:\n",
      "run interpret T:/UG4-Proj/output/tpch-11.sdql\n"
     ]
    },
    {
     "data": {
      "text/plain": [
       "{<ps_partkey = 97, value = 4314022.47> -> 1, <ps_partkey = 164, value = 2643604.15> -> 1, <ps_partkey = 171, value = 1998922.56> -> 1, <ps_partkey = 72, value = 2023966.94> -> 1, <ps_partkey = 62, value = 2056642.72> -> 1, <ps_partkey = 44, value = 607304.7000000001> -> 1, <ps_partkey = 141, value = 231038.80000000002> -> 1, <ps_partkey = 17, value = 1.3534598E7> -> 1, <ps_partkey = 170, value = 4371681.399999999> -> 1, <ps_partkey = 50, value = 1036069.2799999999> -> 1, <ps_partkey = 122, value = 3226213.8800000004> -> 1, <ps_partkey = 135, value = 873132.22> -> 1, <ps_partkey = 166, value = 4239796.54> -> 1, <ps_partkey = 40, value = 7662503.61> -> 1, <ps_partkey = 150, value = 4245428.61> -> 1, <ps_partkey = 148, value = 1424237.3699999999> -> 1, <ps_partkey = 194, value = 626466.0> -> 1, <ps_partkey = 179, value = 751076.4999999999> -> 1, <ps_partkey = 94, value = 2687324.8800000004> -> 1, <ps_partkey = 42, value = 107882.52> -> 1, <ps_partkey = 56, value = 5440869.45> -> 1, <ps_partkey = 140, value = 1205933.31> -> 1, <ps_partkey = 11, value = 4552359.66> -> 1, <ps_partkey = 199, value = 381417.48000000004> -> 1, <ps_partkey = 132, value = 3634867.0999999996> -> 1, <ps_partkey = 163, value = 5548992.48> -> 1, <ps_partkey = 35, value = 5604884.25> -> 1, <ps_partkey = 10, value = 2940546.24> -> 1, <ps_partkey = 101, value = 33664.950000000004> -> 1, <ps_partkey = 1, value = 1456050.96> -> 1, <ps_partkey = 57, value = 365882.92> -> 1, <ps_partkey = 103, value = 1866682.7200000002> -> 1, <ps_partkey = 178, value = 695176.94> -> 1, <ps_partkey = 145, value = 567974.4> -> 1, <ps_partkey = 53, value = 6179193.36> -> 1, <ps_partkey = 144, value = 419880.24> -> 1, <ps_partkey = 180, value = 6187728.92> -> 1, <ps_partkey = 200, value = 2422399.1999999997> -> 1, <ps_partkey = 23, value = 591863.07> -> 1, <ps_partkey = 64, value = 5490141.5> -> 1, <ps_partkey = 142, value = 3295040.64> -> 1, <ps_partkey = 172, value = 1571479.54> -> 1, <ps_partkey = 90, value = 1.373279748E7> -> 1, <ps_partkey = 4, value = 1102037.6> -> 1, <ps_partkey = 87, value = 1.168637671E7> -> 1, <ps_partkey = 167, value = 3288831.1> -> 1, <ps_partkey = 157, value = 2000148.16> -> 1, <ps_partkey = 18, value = 2501227.75> -> 1, <ps_partkey = 60, value = 6897784.01> -> 1, <ps_partkey = 59, value = 372372.0> -> 1, <ps_partkey = 108, value = 1182720.06> -> 1, <ps_partkey = 128, value = 6150602.9399999995> -> 1, <ps_partkey = 47, value = 2044422.2799999998> -> 1, <ps_partkey = 49, value = 485134.14> -> 1, <ps_partkey = 114, value = 3429966.9699999997> -> 1, <ps_partkey = 8, value = 379106.64> -> 1, <ps_partkey = 73, value = 1215990.96> -> 1, <ps_partkey = 96, value = 2823364.5999999996> -> 1, <ps_partkey = 107, value = 1218049.47> -> 1, <ps_partkey = 95, value = 362309.74> -> 1, <ps_partkey = 159, value = 2939663.79> -> 1, <ps_partkey = 3, value = 2528031.8> -> 1, <ps_partkey = 137, value = 2911222.77> -> 1, <ps_partkey = 20, value = 1977305.5799999998> -> 1, <ps_partkey = 147, value = 6989079.88> -> 1, <ps_partkey = 22, value = 2813659.4400000004> -> 1, <ps_partkey = 156, value = 800339.55> -> 1, <ps_partkey = 161, value = 6663701.13> -> 1, <ps_partkey = 63, value = 2932839.25> -> 1, <ps_partkey = 98, value = 478577.0> -> 1, <ps_partkey = 80, value = 4350491.149999999> -> 1, <ps_partkey = 32, value = 6846704.2> -> 1, <ps_partkey = 190, value = 7017966.9> -> 1, <ps_partkey = 129, value = 1751796.41> -> 1, <ps_partkey = 149, value = 1281966.48> -> 1, <ps_partkey = 41, value = 2329702.2600000002> -> 1, <ps_partkey = 169, value = 6239980.67> -> 1, <ps_partkey = 195, value = 32723.02> -> 1, <ps_partkey = 100, value = 3868459.85> -> 1, <ps_partkey = 104, value = 2457281.22> -> 1, <ps_partkey = 99, value = 3760269.31> -> 1, <ps_partkey = 61, value = 3017869.88> -> 1, <ps_partkey = 196, value = 2429515.15> -> 1, <ps_partkey = 187, value = 1.214970141E7> -> 1, <ps_partkey = 78, value = 4182608.58> -> 1, <ps_partkey = 69, value = 6970845.15> -> 1, <ps_partkey = 28, value = 6657301.64> -> 1, <ps_partkey = 110, value = 1575891.7200000002> -> 1, <ps_partkey = 153, value = 7755681.279999999> -> 1, <ps_partkey = 160, value = 9603044.139999999> -> 1, <ps_partkey = 125, value = 4473736.359999999> -> 1, <ps_partkey = 106, value = 437974.39999999997> -> 1, <ps_partkey = 198, value = 1403881.3> -> 1, <ps_partkey = 67, value = 3040109.5100000002> -> 1, <ps_partkey = 5, value = 487669.56000000006> -> 1, <ps_partkey = 197, value = 1.532715414E7> -> 1, <ps_partkey = 7, value = 5694706.92> -> 1, <ps_partkey = 70, value = 1579752.72> -> 1, <ps_partkey = 126, value = 461263.74> -> 1, <ps_partkey = 127, value = 5455023.140000001> -> 1, <ps_partkey = 6, value = 2142145.68> -> 1, <ps_partkey = 130, value = 1100816.64> -> 1, <ps_partkey = 111, value = 7093041.7700000005> -> 1, <ps_partkey = 118, value = 4834899.05> -> 1, <ps_partkey = 123, value = 4612955.220000001> -> 1, <ps_partkey = 29, value = 6751706.920000001> -> 1, <ps_partkey = 117, value = 4812298.94> -> 1, <ps_partkey = 120, value = 1001220.9600000001> -> 1, <ps_partkey = 25, value = 5479970.600000001> -> 1, <ps_partkey = 45, value = 3019876.3000000003> -> 1, <ps_partkey = 37, value = 6027604.5200000005> -> 1, <ps_partkey = 177, value = 55445.25> -> 1, <ps_partkey = 66, value = 235991.91999999998> -> 1, <ps_partkey = 71, value = 1995378.53> -> 1, <ps_partkey = 79, value = 2912681.07> -> 1, <ps_partkey = 30, value = 4714801.35> -> 1, <ps_partkey = 173, value = 5409250.08> -> 1, <ps_partkey = 105, value = 42668.78> -> 1, <ps_partkey = 14, value = 8028694.640000001> -> 1, <ps_partkey = 162, value = 271336.8> -> 1, <ps_partkey = 48, value = 3717809.16> -> 1, <ps_partkey = 26, value = 5867999.4> -> 1, <ps_partkey = 77, value = 140715.84> -> 1, <ps_partkey = 27, value = 937305.11> -> 1}"
      ]
     },
     "execution_count": 22,
     "metadata": {},
     "output_type": "execute_result"
    }
   ],
   "source": [
    "# Try replace pysdql with pandas to get result in pandas!\n",
    "# import pandas as pd  # get answer in pandas\n",
    "import pysdql as pd  # get answer in pysdql\n",
    "\n",
    "# display all columns\n",
    "pd.set_option('display.max_columns', None)\n",
    "# display all rows\n",
    "pd.set_option('display.max_rows', None)\n",
    "\n",
    "var1 = 'PERU'\n",
    "var2 = 0.0001\n",
    "\n",
    "partsupp = pd.read_table(rf'{data_path}/partsupp.tbl', sep='|', index_col=False, header=None, names=pysdql.PARTSUPP_COLS)\n",
    "supplier = pd.read_table(rf'{data_path}/supplier.tbl', sep='|', index_col=False, header=None, names=pysdql.SUPPLIER_COLS)\n",
    "nation = pd.read_table(rf'{data_path}/nation.tbl', sep='|', index_col=False, header=None, names=pysdql.NATION_COLS)\n",
    "\n",
    "sub_n = nation[(nation['n_name'] == var1)]\n",
    "sub_n.columns.name = 'sub_n'\n",
    "\n",
    "r1 = sub_n.merge(supplier, left_on='n_nationkey', right_on='s_nationkey')\n",
    "r1.columns.name = 'r1'\n",
    "\n",
    "r2 = r1.merge(partsupp, left_on='s_suppkey', right_on='ps_suppkey')\n",
    "r2.columns.name = 'r2'\n",
    "\n",
    "agg_val = (r2['ps_supplycost'] * r2['ps_availqty'] * var2).sum()\n",
    "\n",
    "# GOURPBY HAVING\n",
    "r = r2.groupby(['ps_partkey']).filter(lambda x: (x['ps_supplycost'] * x['ps_availqty']).sum() > agg_val)\n",
    "\n",
    "r['value'] = r['ps_supplycost'] * r['ps_availqty']\n",
    "\n",
    "# SELECT GROUPBY AGGREGATION\n",
    "r = r.groupby(['ps_partkey'], as_index=False).agg(value=('value', 'sum'))\n",
    "\n",
    "print(r)\n",
    "\n",
    "pysdql.db_driver(db_path=sdql_database_path, name='tpch-11').run(r).export().to()"
   ]
  },
  {
   "cell_type": "markdown",
   "metadata": {},
   "source": [
    "### pandas - 11"
   ]
  },
  {
   "cell_type": "code",
   "execution_count": 23,
   "metadata": {
    "scrolled": false
   },
   "outputs": [
    {
     "name": "stdout",
     "output_type": "stream",
     "text": [
      "     ps_partkey        value\n",
      "0             1   1456050.96\n",
      "1             3   2528031.80\n",
      "2             4   1102037.60\n",
      "3             5    487669.56\n",
      "4             6   2142145.68\n",
      "5             7   5694706.92\n",
      "6             8    379106.64\n",
      "7            10   2940546.24\n",
      "8            11   4552359.66\n",
      "9            14   8028694.64\n",
      "10           17  13534598.00\n",
      "11           18   2501227.75\n",
      "12           20   1977305.58\n",
      "13           22   2813659.44\n",
      "14           23    591863.07\n",
      "15           25   5479970.60\n",
      "16           26   5867999.40\n",
      "17           27    937305.11\n",
      "18           28   6657301.64\n",
      "19           29   6751706.92\n",
      "20           30   4714801.35\n",
      "21           32   6846704.20\n",
      "22           35   5604884.25\n",
      "23           37   6027604.52\n",
      "24           40   7662503.61\n",
      "25           41   2329702.26\n",
      "26           42    107882.52\n",
      "27           44    607304.70\n",
      "28           45   3019876.30\n",
      "29           47   2044422.28\n",
      "30           48   3717809.16\n",
      "31           49    485134.14\n",
      "32           50   1036069.28\n",
      "33           53   6179193.36\n",
      "34           56   5440869.45\n",
      "35           57    365882.92\n",
      "36           59    372372.00\n",
      "37           60   6897784.01\n",
      "38           61   3017869.88\n",
      "39           62   2056642.72\n",
      "40           63   2932839.25\n",
      "41           64   5490141.50\n",
      "42           66    235991.92\n",
      "43           67   3040109.51\n",
      "44           69   6970845.15\n",
      "45           70   1579752.72\n",
      "46           71   1995378.53\n",
      "47           72   2023966.94\n",
      "48           73   1215990.96\n",
      "49           77    140715.84\n",
      "50           78   4182608.58\n",
      "51           79   2912681.07\n",
      "52           80   4350491.15\n",
      "53           87  11686376.71\n",
      "54           90  13732797.48\n",
      "55           94   2687324.88\n",
      "56           95    362309.74\n",
      "57           96   2823364.60\n",
      "58           97   4314022.47\n",
      "59           98    478577.00\n",
      "60           99   3760269.31\n",
      "61          100   3868459.85\n",
      "62          103   1866682.72\n",
      "63          104   2457281.22\n",
      "64          105     42668.78\n",
      "65          106    437974.40\n",
      "66          107   1218049.47\n",
      "67          108   1182720.06\n",
      "68          110   1575891.72\n",
      "69          111   7093041.77\n",
      "70          114   3429966.97\n",
      "71          117   4812298.94\n",
      "72          118   4834899.05\n",
      "73          120   1001220.96\n",
      "74          122   3226213.88\n",
      "75          123   4612955.22\n",
      "76          125   4473736.36\n",
      "77          126    461263.74\n",
      "78          127   5455023.14\n",
      "79          128   6150602.94\n",
      "80          129   1751796.41\n",
      "81          130   1100816.64\n",
      "82          132   3634867.10\n",
      "83          135    873132.22\n",
      "84          137   2911222.77\n",
      "85          140   1205933.31\n",
      "86          141    231038.80\n",
      "87          142   3295040.64\n",
      "88          144    419880.24\n",
      "89          145    567974.40\n",
      "90          147   6989079.88\n",
      "91          148   1424237.37\n",
      "92          149   1281966.48\n",
      "93          150   4245428.61\n",
      "94          153   7755681.28\n",
      "95          156    800339.55\n",
      "96          157   2000148.16\n",
      "97          159   2939663.79\n",
      "98          160   9603044.14\n",
      "99          161   6663701.13\n",
      "100         162    271336.80\n",
      "101         163   5548992.48\n",
      "102         164   2643604.15\n",
      "103         166   4239796.54\n",
      "104         167   3288831.10\n",
      "105         169   6239980.67\n",
      "106         170   4371681.40\n",
      "107         171   1998922.56\n",
      "108         172   1571479.54\n",
      "109         173   5409250.08\n",
      "110         177     55445.25\n",
      "111         178    695176.94\n",
      "112         179    751076.50\n",
      "113         180   6187728.92\n",
      "114         187  12149701.41\n",
      "115         190   7017966.90\n",
      "116         194    626466.00\n",
      "117         196   2429515.15\n",
      "118         197  15327154.14\n",
      "119         198   1403881.30\n",
      "120         199    381417.48\n",
      "121         200   2422399.20\n"
     ]
    }
   ],
   "source": [
    "# Try replace pysdql with pandas to get result in pandas!\n",
    "import pandas as pd  # get answer in pandas\n",
    "# import pysdql as pd  # get answer in pysdql\n",
    "\n",
    "# display all columns\n",
    "pd.set_option('display.max_columns', None)\n",
    "# display all rows\n",
    "pd.set_option('display.max_rows', None)\n",
    "\n",
    "var1 = 'PERU'\n",
    "var2 = 0.0001\n",
    "\n",
    "partsupp = pd.read_table(rf'{data_path}/partsupp.tbl', sep='|', index_col=False, header=None, names=pysdql.PARTSUPP_COLS)\n",
    "supplier = pd.read_table(rf'{data_path}/supplier.tbl', sep='|', index_col=False, header=None, names=pysdql.SUPPLIER_COLS)\n",
    "nation = pd.read_table(rf'{data_path}/nation.tbl', sep='|', index_col=False, header=None, names=pysdql.NATION_COLS)\n",
    "\n",
    "sub_n = nation[(nation['n_name'] == var1)]\n",
    "sub_n.columns.name = 'sub_n'\n",
    "\n",
    "r1 = sub_n.merge(supplier, left_on='n_nationkey', right_on='s_nationkey')\n",
    "r1.columns.name = 'r1'\n",
    "\n",
    "r2 = r1.merge(partsupp, left_on='s_suppkey', right_on='ps_suppkey')\n",
    "r2.columns.name = 'r2'\n",
    "\n",
    "agg_val = (r2['ps_supplycost'] * r2['ps_availqty'] * var2).sum()\n",
    "\n",
    "# GOURPBY HAVING\n",
    "r = r2.groupby(['ps_partkey']).filter(lambda x: (x['ps_supplycost'] * x['ps_availqty']).sum() > agg_val)\n",
    "\n",
    "r['value'] = r['ps_supplycost'] * r['ps_availqty']\n",
    "\n",
    "# SELECT GROUPBY AGGREGATION\n",
    "r = r.groupby(['ps_partkey'], as_index=False).agg(value=('value', 'sum'))\n",
    "\n",
    "print(r)\n",
    "\n",
    "pysdql.db_driver(db_path=sdql_database_path, name='tpch-11').run(r).export().to()"
   ]
  },
  {
   "cell_type": "markdown",
   "metadata": {},
   "source": [
    "# TPCH - 12 ✅"
   ]
  },
  {
   "cell_type": "markdown",
   "metadata": {},
   "source": [
    "### SQL - 12"
   ]
  },
  {
   "cell_type": "markdown",
   "metadata": {},
   "source": [
    "```\n",
    "select\n",
    "\tl_shipmode,\n",
    "\tsum(case\n",
    "\t\twhen o_orderpriority = '1-URGENT'\n",
    "\t\t\tor o_orderpriority = '2-HIGH'\n",
    "\t\t\tthen 1\n",
    "\t\telse 0\n",
    "\tend) as high_line_count,\n",
    "\tsum(case\n",
    "\t\twhen o_orderpriority <> '1-URGENT'\n",
    "\t\t\tand o_orderpriority <> '2-HIGH'\n",
    "\t\t\tthen 1\n",
    "\t\telse 0\n",
    "\tend) as low_line_count\n",
    "from\n",
    "\torders,\n",
    "\tlineitem\n",
    "where\n",
    "\to_orderkey = l_orderkey\n",
    "\tand l_shipmode in (':1', ':2')\n",
    "\tand l_commitdate < l_receiptdate\n",
    "\tand l_shipdate < l_commitdate\n",
    "\tand l_receiptdate >= date ':3'\n",
    "\tand l_receiptdate < date ':3' + interval '1' year\n",
    "group by\n",
    "\tl_shipmode\n",
    "```"
   ]
  },
  {
   "cell_type": "markdown",
   "metadata": {},
   "source": [
    "### pysdql - 12"
   ]
  },
  {
   "cell_type": "code",
   "execution_count": 24,
   "metadata": {
    "pycharm": {
     "name": "#%%\n"
    }
   },
   "outputs": [
    {
     "name": "stdout",
     "output_type": "stream",
     "text": [
      "let lineitem = load[{<l_orderkey: int, l_partkey: int, l_suppkey: int, l_linenumber: int, l_quantity: int, l_extendedprice: double, l_discount: double, l_tax: double, l_returnflag: string, l_linestatus: string, l_shipdate: date, l_commitdate: date, l_receiptdate: date, l_shipinstruct: string, l_shipmode: string, l_comment: string> -> int}](\"T:/UG4-Proj/datasets/lineitem.tbl\")\n",
      "let lmp = sum (<lin_k, lin_v> in lineitem) if (((((((lin_k.l_shipmode == \"AIR\") || (lin_k.l_shipmode == \"FOB\")) && (lin_k.l_commitdate < lin_k.l_receiptdate)) && (lin_k.l_shipdate < lin_k.l_commitdate)) && (date(19950101) <= lin_k.l_receiptdate)) && (lin_k.l_receiptdate < date(19960101)))) then { lin_k -> 1 } else {  }\n",
      "let sub_l = lmp\n",
      "let orders = load[{<o_orderkey: int, o_custkey: int, o_orderstatus: string, o_totalprice: double, o_orderdate: date, o_orderpriority: string, o_clerk: string, o_shippriority: int, o_comment: string> -> int}](\"T:/UG4-Proj/datasets/orders.tbl\")\n",
      "let part_sub_l = sum (<sl_k, sl_v> in sub_l) { < l_orderkey=sl_k.l_orderkey > -> { sl_k -> sl_v } }\n",
      "let Rm0 = sum (<ord_k, ord_v> in orders) if ((part_sub_l(<l_orderkey=ord_k.o_orderkey>) != {  })) then sum(<p_k, p_v> in part_sub_l(<l_orderkey=ord_k.o_orderkey>)) { concat(ord_k, p_k) -> ord_v * p_v } else {  }\n",
      "let rmp = sum (<r0_k, r0_v> in Rm0) if (((r0_k.o_orderpriority == \"1-URGENT\") || (r0_k.o_orderpriority == \"2-HIGH\"))) then { concat(r0_k, < high_line_priority=1 >) -> 1 } else { concat(r0_k, < high_line_priority=0 >) -> 1 }\n",
      "let tmp = sum (<r_k, r_v> in rmp) if (((r_k.o_orderpriority != \"1-URGENT\") || (r_k.o_orderpriority != \"2-HIGH\"))) then { concat(r_k, < low_line_priority=1 >) -> 1 } else { concat(r_k, < low_line_priority=0 >) -> 1 }\n",
      "let tmpb = sum (<t_k, t_v> in tmp) { < l_shipmode=t_k.l_shipmode > -> < high_line_count=promote[nullable[real]](t_k.high_line_priority * t_v), low_line_count=promote[nullable[real]](t_k.low_line_priority * t_v) > }\n",
      "let agg_tmp = sum (<tb_k, tb_v> in tmpb) { < l_shipmode=tb_k.l_shipmode, high_line_count=promote[real](tb_v.high_line_count), low_line_count=promote[real](tb_v.low_line_count) > -> 1 }\n",
      "agg_tmp\n"
     ]
    },
    {
     "name": "stderr",
     "output_type": "stream",
     "text": [
      "[info] welcome to sbt 1.6.0 (Oracle Corporation Java 17)\n",
      "[info] loading project definition from T:\\sdql\\project\n",
      "[info] loading settings for project sdql from build.sbt ...\n",
      "[info] set current project to sdql (in build file:/T:/sdql/)\n",
      "[info] sbt server started at local:sbt-server-ec9dcaf7bfc5935dead3\n",
      "[warn] sbt server could not start in 10s\n",
      "\u001b[?2004h>....[info] running sdql.driver.Main interpret T:/UG4-Proj/output/Q00.sdql\n",
      "{<l_shipmode = FOB, high_line_count = 6, low_line_count = 12> -> 1, <l_shipmode = AIR, high_line_count = 8, low_line_count = 13> -> 1}\n",
      "[success] Total time: 1 s, completed 2022年7月30日 上午8:49:59\n",
      "========================================================\n",
      "pysdql execution time: 16.056381702423096\n",
      "export sdql script \"tpch-12.sdql\" to \"T:/UG4-Proj/output/tpch-12.sdql\"\n",
      "excute by:\n",
      "run interpret T:/UG4-Proj/output/tpch-12.sdql\n"
     ]
    },
    {
     "data": {
      "text/plain": [
       "{<l_shipmode = FOB, high_line_count = 6, low_line_count = 12> -> 1, <l_shipmode = AIR, high_line_count = 8, low_line_count = 13> -> 1}"
      ]
     },
     "execution_count": 24,
     "metadata": {},
     "output_type": "execute_result"
    }
   ],
   "source": [
    "# Try replace pysdql with pandas to get result in pandas!\n",
    "# import pandas as pd  # get answer in pandas\n",
    "# import numpy as np  # for numpy.select(), must use together with pandas\n",
    "import pysdql as pd  # get answer in pysdql\n",
    "import pysdqlnp as np  # for pysdqlnp.select(), must use together with pysdql\n",
    "\n",
    "# display all columns\n",
    "pd.set_option('display.max_columns', None)\n",
    "# display all rows\n",
    "pd.set_option('display.max_rows', None)\n",
    "\n",
    "var1 = 'FOB'\n",
    "var2 = 'AIR'\n",
    "var3 = '1995-01-01'\n",
    "var4 = '1996-01-01'\n",
    "\n",
    "orders = pd.read_table(rf'{data_path}/orders.tbl', sep='|', index_col=False, header=None, names=pysdql.ORDERS_COLS)\n",
    "lineitem = pd.read_table(rf'{data_path}/lineitem.tbl', sep='|', index_col=False, header=None, names=pysdql.LINEITEM_COLS)\n",
    "\n",
    "sub_l = lineitem[(lineitem['l_shipmode'].isin((var1, var2)))\n",
    "                 & (lineitem['l_commitdate'] < lineitem['l_receiptdate'])\n",
    "                 & (lineitem['l_shipdate'] < lineitem['l_commitdate'])\n",
    "                 & (lineitem['l_receiptdate'] >= var3) & (lineitem['l_receiptdate'] < var4)]\n",
    "sub_l.columns.name = 'sub_l'\n",
    "\n",
    "r = orders.merge(sub_l, left_on='o_orderkey', right_on='l_orderkey')\n",
    "\n",
    "r['high_line_priority'] = np.select(\n",
    "    [\n",
    "        (r['o_orderpriority'] == '1-URGENT') | (r['o_orderpriority'] == '2-HIGH')\n",
    "    ],\n",
    "    [\n",
    "        1\n",
    "    ],\n",
    "    default=0)\n",
    "\n",
    "r['low_line_priority'] = np.select(\n",
    "    [\n",
    "        (r['o_orderpriority'] != '1-URGENT') | (r['o_orderpriority'] != '2-HIGH')\n",
    "    ],\n",
    "    [\n",
    "        1\n",
    "    ],\n",
    "    default=0)\n",
    "\n",
    "r = r.groupby(['l_shipmode'], as_index=False)\\\n",
    "    .agg(high_line_count=('high_line_priority', 'sum'),\n",
    "         low_line_count=('low_line_priority', 'sum'))\n",
    "\n",
    "print(r)\n",
    "\n",
    "pysdql.db_driver(db_path=sdql_database_path, name='tpch-12').run(r).export().to()"
   ]
  },
  {
   "cell_type": "markdown",
   "metadata": {},
   "source": [
    "### pandas - 12"
   ]
  },
  {
   "cell_type": "code",
   "execution_count": 25,
   "metadata": {},
   "outputs": [
    {
     "name": "stdout",
     "output_type": "stream",
     "text": [
      "  l_shipmode  high_line_count  low_line_count\n",
      "0        AIR                8              13\n",
      "1        FOB                6              12\n"
     ]
    }
   ],
   "source": [
    "# Try replace pysdql with pandas to get result in pandas!\n",
    "import pandas as pd  # get answer in pandas\n",
    "import numpy as np  # for numpy.select(), must use together with pandas\n",
    "# import pysdql as pd  # get answer in pysdql\n",
    "# import pysdqlnp as np  # for pysdqlnp.select(), must use together with pysdql\n",
    "\n",
    "# display all columns\n",
    "pd.set_option('display.max_columns', None)\n",
    "# display all rows\n",
    "pd.set_option('display.max_rows', None)\n",
    "\n",
    "var1 = 'FOB'\n",
    "var2 = 'AIR'\n",
    "var3 = '1995-01-01'\n",
    "var4 = '1996-01-01'\n",
    "\n",
    "orders = pd.read_table(rf'{data_path}/orders.tbl', sep='|', index_col=False, header=None, names=pysdql.ORDERS_COLS)\n",
    "lineitem = pd.read_table(rf'{data_path}/lineitem.tbl', sep='|', index_col=False, header=None, names=pysdql.LINEITEM_COLS)\n",
    "\n",
    "sub_l = lineitem[(lineitem['l_shipmode'].isin((var1, var2)))\n",
    "                 & (lineitem['l_commitdate'] < lineitem['l_receiptdate'])\n",
    "                 & (lineitem['l_shipdate'] < lineitem['l_commitdate'])\n",
    "                 & (lineitem['l_receiptdate'] >= var3) & (lineitem['l_receiptdate'] < var4)]\n",
    "sub_l.columns.name = 'sub_l'\n",
    "\n",
    "r = orders.merge(sub_l, left_on='o_orderkey', right_on='l_orderkey')\n",
    "\n",
    "r['high_line_priority'] = np.select(\n",
    "    [\n",
    "        (r['o_orderpriority'] == '1-URGENT') | (r['o_orderpriority'] == '2-HIGH')\n",
    "    ],\n",
    "    [\n",
    "        1\n",
    "    ],\n",
    "    default=0)\n",
    "\n",
    "r['low_line_priority'] = np.select(\n",
    "    [\n",
    "        (r['o_orderpriority'] != '1-URGENT') | (r['o_orderpriority'] != '2-HIGH')\n",
    "    ],\n",
    "    [\n",
    "        1\n",
    "    ],\n",
    "    default=0)\n",
    "\n",
    "r = r.groupby(['l_shipmode'], as_index=False)\\\n",
    "    .agg(high_line_count=('high_line_priority', 'sum'),\n",
    "         low_line_count=('low_line_priority', 'sum'))\n",
    "\n",
    "print(r)\n",
    "\n",
    "pysdql.db_driver(db_path=sdql_database_path, name='tpch-12').run(r).export().to()"
   ]
  },
  {
   "cell_type": "markdown",
   "metadata": {},
   "source": [
    "# TPCH - 13 ✅"
   ]
  },
  {
   "cell_type": "markdown",
   "metadata": {
    "pycharm": {
     "name": "#%%\n"
    }
   },
   "source": [
    "### SQL - 13"
   ]
  },
  {
   "cell_type": "markdown",
   "metadata": {},
   "source": [
    "```\n",
    "select\n",
    "\tc_count,\n",
    "\tcount(*) as custdist\n",
    "from\n",
    "\t(\n",
    "\t\tselect\n",
    "\t\t\tc_custkey,\n",
    "\t\t\tcount(o_orderkey)\n",
    "\t\tfrom\n",
    "\t\t\tcustomer left outer join orders on\n",
    "\t\t\t\tc_custkey = o_custkey\n",
    "\t\t\t\tand o_comment not like '%:1%:2%'\n",
    "\t\tgroup by\n",
    "\t\t\tc_custkey\n",
    "\t) as c_orders (c_custkey, c_count)\n",
    "group by\n",
    "\tc_count\n",
    "```"
   ]
  },
  {
   "cell_type": "markdown",
   "metadata": {},
   "source": [
    "### pysdql - 13"
   ]
  },
  {
   "cell_type": "code",
   "execution_count": 26,
   "metadata": {},
   "outputs": [
    {
     "name": "stdout",
     "output_type": "stream",
     "text": [
      "let orders = load[{<o_orderkey: int, o_custkey: int, o_orderstatus: string, o_totalprice: double, o_orderdate: date, o_orderpriority: string, o_clerk: string, o_shippriority: int, o_comment: string> -> int}](\"T:/UG4-Proj/datasets/orders.tbl\")\n",
      "let omp = sum (<ord_k, ord_v> in orders) { concat(ord_k, < var1_index=ext(`StrIndexOf`, ord_k.o_comment, \"special\", 0) >) -> 1 }\n",
      "let tmp = sum (<o_k, o_v> in omp) { concat(o_k, < var2_index=ext(`StrIndexOf`, o_k.o_comment, \"requests\", 0) >) -> 1 }\n",
      "let tmpa = sum (<t_k, t_v> in tmp) if ((!((((t_k.var1_index != -1) && (t_k.var2_index != -1)) && (t_k.var1_index < t_k.var2_index))))) then { t_k -> 1 } else {  }\n",
      "let sub_o = tmpa\n",
      "let customer = load[{<c_custkey: int, c_name: string, c_address: string, c_nationkey: int, c_phone: string, c_acctbal: double, c_mktsegment: string, c_comment: string> -> int}](\"T:/UG4-Proj/datasets/customer.tbl\")\n",
      "let sub_o_right_group = sum (<so_k, so_v> in sub_o) { <o_custkey=so_k.o_custkey> -> { so_k -> so_v } }\n",
      "let left_join_c_s = sum (<cus_k, cus_v> in customer) if ((sub_o_right_group(<o_custkey=cus_k.c_custkey>) != {  })) then sum(<rgnd_s_k, rgnd_s_v> in sub_o_right_group(<o_custkey=cus_k.c_custkey>)) { < left=cus_k, right=rgnd_s_k > -> 1 } else { < left=cus_k, right=<  > > -> 1 }\n",
      "let tmpb = sum (<ljcs_k, ljcs_v> in left_join_c_s) if ((ljcs_k.right != <  >)) then { < c_custkey=ljcs_k.left.c_custkey > -> < c_count=promote[nullable[int]](ljcs_v) > } else { < c_custkey=ljcs_k.left.c_custkey > -> < c_count=promote[nullable[int]](0) > }\n",
      "let tmpc = sum (<tb_k, tb_v> in tmpb) { < c_custkey=tb_k.c_custkey, c_count=promote[int](tb_v.c_count) > -> 1 }\n",
      "let c_orders = tmpc\n",
      "let tmp = sum (<co_k, co_v> in c_orders) { < c_count=co_k.c_count > -> < custdist=co_v > }\n",
      "let agg_c_orders = sum (<t_k, t_v> in tmp) { < c_count=t_k.c_count, custdist=t_v.custdist > -> 1 }\n",
      "agg_c_orders\n"
     ]
    },
    {
     "name": "stderr",
     "output_type": "stream",
     "text": [
      "[info] welcome to sbt 1.6.0 (Oracle Corporation Java 17)\n",
      "[info] loading project definition from T:\\sdql\\project\n",
      "[info] loading settings for project sdql from build.sbt ...\n",
      "[info] set current project to sdql (in build file:/T:/sdql/)\n",
      "[info] sbt server started at local:sbt-server-ec9dcaf7bfc5935dead3\n",
      "[warn] sbt server could not start in 10s\n",
      "\u001b[?2004h>....[info] running sdql.driver.Main interpret T:/UG4-Proj/output/Q00.sdql\n",
      "{<c_count = 26, custdist = 3> -> 1, <c_count = 29, custdist = 2> -> 1, <c_count = 12, custdist = 6> -> 1, <c_count = 5, custdist = 3> -> 1, <c_count = 7, custdist = 4> -> 1, <c_count = 10, custdist = 5> -> 1, <c_count = 11, custdist = 4> -> 1, <c_count = 8, custdist = 4> -> 1, <c_count = 9, custdist = 6> -> 1, <c_count = 13, custdist = 6> -> 1, <c_count = 15, custdist = 2> -> 1, <c_count = 0, custdist = 50> -> 1, <c_count = 21, custdist = 4> -> 1, <c_count = 22, custdist = 3> -> 1, <c_count = 4, custdist = 3> -> 1, <c_count = 6, custdist = 3> -> 1, <c_count = 17, custdist = 7> -> 1, <c_count = 18, custdist = 4> -> 1, <c_count = 19, custdist = 2> -> 1, <c_count = 28, custdist = 1> -> 1, <c_count = 24, custdist = 2> -> 1, <c_count = 16, custdist = 8> -> 1, <c_count = 3, custdist = 1> -> 1, <c_count = 14, custdist = 5> -> 1, <c_count = 25, custdist = 1> -> 1, <c_count = 20, custdist = 6> -> 1, <c_count = 23, custdist = 5> -> 1}\n",
      "[success] Total time: 1 s, completed 2022年7月30日 上午8:50:16\n",
      "========================================================\n",
      "pysdql execution time: 17.042388439178467\n",
      "export sdql script \"tpch-13.sdql\" to \"T:/UG4-Proj/output/tpch-13.sdql\"\n",
      "excute by:\n",
      "run interpret T:/UG4-Proj/output/tpch-13.sdql\n"
     ]
    },
    {
     "data": {
      "text/plain": [
       "{<c_count = 26, custdist = 3> -> 1, <c_count = 29, custdist = 2> -> 1, <c_count = 12, custdist = 6> -> 1, <c_count = 5, custdist = 3> -> 1, <c_count = 7, custdist = 4> -> 1, <c_count = 10, custdist = 5> -> 1, <c_count = 11, custdist = 4> -> 1, <c_count = 8, custdist = 4> -> 1, <c_count = 9, custdist = 6> -> 1, <c_count = 13, custdist = 6> -> 1, <c_count = 15, custdist = 2> -> 1, <c_count = 0, custdist = 50> -> 1, <c_count = 21, custdist = 4> -> 1, <c_count = 22, custdist = 3> -> 1, <c_count = 4, custdist = 3> -> 1, <c_count = 6, custdist = 3> -> 1, <c_count = 17, custdist = 7> -> 1, <c_count = 18, custdist = 4> -> 1, <c_count = 19, custdist = 2> -> 1, <c_count = 28, custdist = 1> -> 1, <c_count = 24, custdist = 2> -> 1, <c_count = 16, custdist = 8> -> 1, <c_count = 3, custdist = 1> -> 1, <c_count = 14, custdist = 5> -> 1, <c_count = 25, custdist = 1> -> 1, <c_count = 20, custdist = 6> -> 1, <c_count = 23, custdist = 5> -> 1}"
      ]
     },
     "execution_count": 26,
     "metadata": {},
     "output_type": "execute_result"
    }
   ],
   "source": [
    "# Try replace pysdql with pandas to get result in pandas!\n",
    "# import pandas as pd  # get answer in pandas\n",
    "import pysdql as pd  # get answer in pysdql\n",
    "\n",
    "# display all columns\n",
    "pd.set_option('display.max_columns', None)\n",
    "# display all rows\n",
    "pd.set_option('display.max_rows', None)\n",
    "\n",
    "var1 = 'special'\n",
    "var2 = 'requests'\n",
    "\n",
    "orders = pd.read_table(rf'{data_path}/orders.tbl', sep='|', index_col=False, header=None, names=pysdql.ORDERS_COLS)\n",
    "customer = pd.read_table(rf'{data_path}/customer.tbl', sep='|', index_col=False, header=None, names=pysdql.CUSTOMER_COLS)\n",
    "\n",
    "orders['var1_index'] = orders['o_comment'].str.find(var1)\n",
    "orders['var2_index'] = orders['o_comment'].str.find(var2)\n",
    "\n",
    "sub_o = orders[~((orders['var1_index'] != -1) & (orders['var2_index'] != -1) & (orders['var1_index'] < orders['var2_index']))]\n",
    "sub_o.columns.name = 'sub_o'\n",
    "\n",
    "# LEFT OUTER JOIN\n",
    "r = customer.merge(sub_o, how='left', left_on='c_custkey', right_on='o_custkey')\n",
    "\n",
    "c_orders = r.groupby(['c_custkey'], as_index=False).agg(c_count=('o_orderkey', 'count'))\n",
    "c_orders.columns.name = 'c_orders'\n",
    "\n",
    "s = c_orders.groupby(['c_count'], as_index=False).agg(custdist=('c_custkey', 'count'))\n",
    "\n",
    "print(s)\n",
    "\n",
    "pysdql.db_driver(db_path=sdql_database_path, name='tpch-13').run(s).export().to()"
   ]
  },
  {
   "cell_type": "markdown",
   "metadata": {},
   "source": [
    "### pandas - 13"
   ]
  },
  {
   "cell_type": "code",
   "execution_count": 27,
   "metadata": {},
   "outputs": [
    {
     "name": "stdout",
     "output_type": "stream",
     "text": [
      "    c_count  custdist\n",
      "0         0        50\n",
      "1         3         1\n",
      "2         4         3\n",
      "3         5         3\n",
      "4         6         3\n",
      "5         7         4\n",
      "6         8         4\n",
      "7         9         6\n",
      "8        10         5\n",
      "9        11         4\n",
      "10       12         6\n",
      "11       13         6\n",
      "12       14         5\n",
      "13       15         2\n",
      "14       16         8\n",
      "15       17         7\n",
      "16       18         4\n",
      "17       19         2\n",
      "18       20         6\n",
      "19       21         4\n",
      "20       22         3\n",
      "21       23         5\n",
      "22       24         2\n",
      "23       25         1\n",
      "24       26         3\n",
      "25       28         1\n",
      "26       29         2\n"
     ]
    }
   ],
   "source": [
    "# Try replace pysdql with pandas to get result in pandas!\n",
    "import pandas as pd  # get answer in pandas\n",
    "# import pysdql as pd  # get answer in pysdql\n",
    "\n",
    "# display all columns\n",
    "pd.set_option('display.max_columns', None)\n",
    "# display all rows\n",
    "pd.set_option('display.max_rows', None)\n",
    "\n",
    "var1 = 'special'\n",
    "var2 = 'requests'\n",
    "\n",
    "orders = pd.read_table(rf'{data_path}/orders.tbl', sep='|', index_col=False, header=None, names=pysdql.ORDERS_COLS)\n",
    "customer = pd.read_table(rf'{data_path}/customer.tbl', sep='|', index_col=False, header=None, names=pysdql.CUSTOMER_COLS)\n",
    "\n",
    "orders['var1_index'] = orders['o_comment'].str.find(var1)\n",
    "orders['var2_index'] = orders['o_comment'].str.find(var2)\n",
    "\n",
    "sub_o = orders[~((orders['var1_index'] != -1) & (orders['var2_index'] != -1) & (orders['var1_index'] < orders['var2_index']))]\n",
    "sub_o.columns.name = 'sub_o'\n",
    "\n",
    "# LEFT OUTER JOIN\n",
    "r = customer.merge(sub_o, how='left', left_on='c_custkey', right_on='o_custkey')\n",
    "\n",
    "c_orders = r.groupby(['c_custkey'], as_index=False).agg(c_count=('o_orderkey', 'count'))\n",
    "c_orders.columns.name = 'c_orders'\n",
    "\n",
    "s = c_orders.groupby(['c_count'], as_index=False).agg(custdist=('c_custkey', 'count'))\n",
    "\n",
    "print(s)\n",
    "\n",
    "pysdql.db_driver(db_path=sdql_database_path, name='tpch-13').run(s).export().to()"
   ]
  },
  {
   "cell_type": "markdown",
   "metadata": {},
   "source": [
    "# TPCH - 14 ✅"
   ]
  },
  {
   "cell_type": "markdown",
   "metadata": {},
   "source": [
    "### SQL - 14"
   ]
  },
  {
   "cell_type": "markdown",
   "metadata": {},
   "source": [
    "```\n",
    "select\n",
    "\t100.00 * sum(case\n",
    "\t\twhen p_type like 'PROMO%'\n",
    "\t\t\tthen l_extendedprice * (1 - l_discount)\n",
    "\t\telse 0\n",
    "\tend) / sum(l_extendedprice * (1 - l_discount)) as promo_revenue\n",
    "from\n",
    "\tlineitem,\n",
    "\tpart\n",
    "where\n",
    "\tl_partkey = p_partkey\n",
    "\tand l_shipdate >= date ':1'\n",
    "\tand l_shipdate < date ':1' + interval '1' month\n",
    "```"
   ]
  },
  {
   "cell_type": "markdown",
   "metadata": {},
   "source": [
    "### pysdql - 14"
   ]
  },
  {
   "cell_type": "code",
   "execution_count": 28,
   "metadata": {
    "pycharm": {
     "name": "#%%\n"
    }
   },
   "outputs": [
    {
     "name": "stdout",
     "output_type": "stream",
     "text": [
      "let part = load[{<p_partkey: int, p_name: string, p_mfgr: string, p_brand: string, p_type: string, p_size: int, p_container: string, p_retailprice: double, p_comment: string> -> int}](\"T:/UG4-Proj/datasets/part.tbl\")\n",
      "let lineitem = load[{<l_orderkey: int, l_partkey: int, l_suppkey: int, l_linenumber: int, l_quantity: int, l_extendedprice: double, l_discount: double, l_tax: double, l_returnflag: string, l_linestatus: string, l_shipdate: date, l_commitdate: date, l_receiptdate: date, l_shipinstruct: string, l_shipmode: string, l_comment: string> -> int}](\"T:/UG4-Proj/datasets/lineitem.tbl\")\n",
      "let lmp = sum (<lin_k, lin_v> in lineitem) if (((date(19950301) <= lin_k.l_shipdate) && (lin_k.l_shipdate < date(19950401)))) then { lin_k -> 1 } else {  }\n",
      "let sub_l = lmp\n",
      "let part_part = sum (<par_k, par_v> in part) { < p_partkey=par_k.p_partkey > -> { par_k -> par_v } }\n",
      "let Rm0 = sum (<sl_k, sl_v> in sub_l) if ((part_part(<p_partkey=sl_k.l_partkey>) != {  })) then sum(<p_k, p_v> in part_part(<p_partkey=sl_k.l_partkey>)) { concat(sl_k, p_k) -> sl_v * p_v } else {  }\n",
      "let rmp = sum (<r0_k, r0_v> in Rm0) if (ext(`StrStartsWith`, r0_k.p_type, \"PROMO\")) then { concat(r0_k, < value1=(r0_k.l_extendedprice * (1 - r0_k.l_discount)) >) -> 1 } else { concat(r0_k, < value1=0 >) -> 1 }\n",
      "let tmp = sum (<r_k, r_v> in rmp) { concat(r_k, < value2=(r_k.l_extendedprice * (1 - r_k.l_discount)) >) -> 1 }\n",
      "let value1_sum = sum (<t_k, t_v> in tmp) t_k.value1 * t_v\n",
      "let value2_sum = sum (<t_k, t_v> in tmp) t_k.value2 * t_v\n",
      "let tmpa = { < promo_revenue=((100 * value1_sum) / value2_sum) > -> 1 }\n",
      "let tmpb = sum (<ta_k, ta_v> in tmpa) { < promo_revenue=ta_k.promo_revenue > -> 1 }\n",
      "let tmpc = sum (<tb_k, tb_v> in tmpb) { < promo_revenue=tb_k.promo_revenue > -> { tb_k -> tb_v } }\n",
      "let tmpd = sum (<tc_k, tc_v> in tmpc) { < promo_revenue=tc_k.promo_revenue > -> 1 }\n",
      "tmpd\n"
     ]
    },
    {
     "name": "stderr",
     "output_type": "stream",
     "text": [
      "[info] welcome to sbt 1.6.0 (Oracle Corporation Java 17)\n",
      "[info] loading project definition from T:\\sdql\\project\n",
      "[info] loading settings for project sdql from build.sbt ...\n",
      "[info] set current project to sdql (in build file:/T:/sdql/)\n",
      "[info] sbt server started at local:sbt-server-ec9dcaf7bfc5935dead3\n",
      "[warn] sbt server could not start in 10s\n",
      "\u001b[?2004h>....[info] running sdql.driver.Main interpret T:/UG4-Proj/output/Q00.sdql\n",
      "{<promo_revenue = 9.627538426612762> -> 1}\n",
      "[success] Total time: 1 s, completed 2022年7月30日 上午8:50:33\n",
      "========================================================\n",
      "pysdql execution time: 16.103394031524658\n",
      "export sdql script \"tpch-14.sdql\" to \"T:/UG4-Proj/output/tpch-14.sdql\"\n",
      "excute by:\n",
      "run interpret T:/UG4-Proj/output/tpch-14.sdql\n"
     ]
    },
    {
     "data": {
      "text/plain": [
       "{<promo_revenue = 9.627538426612762> -> 1}"
      ]
     },
     "execution_count": 28,
     "metadata": {},
     "output_type": "execute_result"
    }
   ],
   "source": [
    "# Try replace pysdql with pandas to get result in pandas!\n",
    "# import pandas as pd  # get answer in pandas\n",
    "# import numpy as np  # use numpy.select() must use together with pandas\n",
    "import pysdql as pd  # get answer in pysdql\n",
    "import pysdqlnp as np  # use pysdqlnp.select() must use together with pysdql\n",
    "\n",
    "# display all columns\n",
    "pd.set_option('display.max_columns', None)\n",
    "# display all rows\n",
    "pd.set_option('display.max_rows', None)\n",
    "\n",
    "var1 = '1995-03-01'\n",
    "var2 = '1995-04-01'  # var1 + 1 month\n",
    "\n",
    "lineitem = pd.read_table(rf'{data_path}/lineitem.tbl', sep='|', index_col=False, header=None, names=pysdql.LINEITEM_COLS)\n",
    "part = pd.read_table(rf'{data_path}/part.tbl', sep='|', index_col=False, header=None, names=pysdql.PART_COLS)\n",
    "\n",
    "sub_l = lineitem[(lineitem['l_shipdate'] >= var1) & (lineitem['l_shipdate'] < var2)]\n",
    "sub_l.columns.name = 'sub_l'\n",
    "\n",
    "r = sub_l.merge(part, left_on='l_partkey', right_on='p_partkey')\n",
    "\n",
    "r['value1'] = np.select(\n",
    "    [\n",
    "        r['p_type'].str.startswith('PROMO')\n",
    "    ],\n",
    "    [\n",
    "        r['l_extendedprice'] * (1 - r['l_discount'])\n",
    "    ],\n",
    "    default=0)\n",
    "\n",
    "r['value2'] = r['l_extendedprice'] * (1 - r['l_discount'])\n",
    "\n",
    "r['promo_revenue'] = 100 * r['value1'].sum() / r['value2'].sum()\n",
    "\n",
    "r = r[['promo_revenue']].drop_duplicates(['promo_revenue'])\n",
    "\n",
    "print(r)\n",
    "\n",
    "pysdql.db_driver(db_path=sdql_database_path, name='tpch-14').run(r).export().to()"
   ]
  },
  {
   "cell_type": "markdown",
   "metadata": {},
   "source": [
    "### pandas - 14"
   ]
  },
  {
   "cell_type": "code",
   "execution_count": 29,
   "metadata": {},
   "outputs": [
    {
     "name": "stdout",
     "output_type": "stream",
     "text": [
      "   promo_revenue\n",
      "0       9.627538\n"
     ]
    }
   ],
   "source": [
    "# Try replace pysdql with pandas to get result in pandas!\n",
    "import pandas as pd  # get answer in pandas\n",
    "import numpy as np  # use numpy.select() must use together with pandas\n",
    "# import pysdql as pd  # get answer in pysdql\n",
    "# import pysdqlnp as np  # use pysdqlnp.select() must use together with pysdql\n",
    "\n",
    "# display all columns\n",
    "pd.set_option('display.max_columns', None)\n",
    "# display all rows\n",
    "pd.set_option('display.max_rows', None)\n",
    "\n",
    "var1 = '1995-03-01'\n",
    "var2 = '1995-04-01'  # var1 + 1 month\n",
    "\n",
    "lineitem = pd.read_table(rf'{data_path}/lineitem.tbl', sep='|', index_col=False, header=None, names=pysdql.LINEITEM_COLS)\n",
    "part = pd.read_table(rf'{data_path}/part.tbl', sep='|', index_col=False, header=None, names=pysdql.PART_COLS)\n",
    "\n",
    "sub_l = lineitem[(lineitem['l_shipdate'] >= var1) & (lineitem['l_shipdate'] < var2)]\n",
    "sub_l.columns.name = 'sub_l'\n",
    "\n",
    "r = sub_l.merge(part, left_on='l_partkey', right_on='p_partkey')\n",
    "\n",
    "r['value1'] = np.select(\n",
    "    [\n",
    "        r['p_type'].str.startswith('PROMO')\n",
    "    ],\n",
    "    [\n",
    "        r['l_extendedprice'] * (1 - r['l_discount'])\n",
    "    ],\n",
    "    default=0)\n",
    "\n",
    "r['value2'] = r['l_extendedprice'] * (1 - r['l_discount'])\n",
    "\n",
    "r['promo_revenue'] = 100 * r['value1'].sum() / r['value2'].sum()\n",
    "\n",
    "r = r[['promo_revenue']].drop_duplicates(['promo_revenue'])\n",
    "\n",
    "print(r)\n",
    "\n",
    "pysdql.db_driver(db_path=sdql_database_path, name='tpch-14').run(r).export().to()"
   ]
  },
  {
   "cell_type": "markdown",
   "metadata": {},
   "source": [
    "# TPCH - 15 ✅"
   ]
  },
  {
   "cell_type": "markdown",
   "metadata": {},
   "source": [
    "### SQL - 15"
   ]
  },
  {
   "cell_type": "markdown",
   "metadata": {},
   "source": [
    "```\n",
    "WITH revenue (supplier_no, total_revenue) as (\n",
    "    SELECT\n",
    "        l_suppkey,\n",
    "        SUM(l_extendedprice * (1-l_discount))\n",
    "    FROM\n",
    "        lineitem\n",
    "    WHERE\n",
    "        l_shipdate >= date ':1'\n",
    "        AND l_shipdate < date ':1' + interval '3' month\n",
    "    GROUP BY\n",
    "        l_suppkey\n",
    ")\n",
    "SELECT\n",
    "    s_suppkey,\n",
    "    s_name,\n",
    "    s_address,\n",
    "    s_phone,\n",
    "    total_revenue\n",
    "FROM\n",
    "    supplier,\n",
    "    revenue\n",
    "WHERE\n",
    "    s_suppkey = supplier_no\n",
    "    AND total_revenue = (\n",
    "        SELECT\n",
    "            MAX(total_revenue)\n",
    "        FROM\n",
    "            revenue\n",
    "    )\n",
    "```"
   ]
  },
  {
   "cell_type": "markdown",
   "metadata": {},
   "source": [
    "### pysdql - 15"
   ]
  },
  {
   "cell_type": "code",
   "execution_count": 30,
   "metadata": {},
   "outputs": [
    {
     "name": "stdout",
     "output_type": "stream",
     "text": [
      "let lineitem = load[{<l_orderkey: int, l_partkey: int, l_suppkey: int, l_linenumber: int, l_quantity: int, l_extendedprice: double, l_discount: double, l_tax: double, l_returnflag: string, l_linestatus: string, l_shipdate: date, l_commitdate: date, l_receiptdate: date, l_shipinstruct: string, l_shipmode: string, l_comment: string> -> int}](\"T:/UG4-Proj/datasets/lineitem.tbl\")\n",
      "let lmp = sum (<lin_k, lin_v> in lineitem) if (((date(19960201) <= lin_k.l_shipdate) && (lin_k.l_shipdate < date(19960501)))) then { lin_k -> 1 } else {  }\n",
      "let sub_l = lmp\n",
      "let smp = sum (<sl_k, sl_v> in sub_l) { concat(sl_k, < tmp_val=(sl_k.l_extendedprice * (1 - sl_k.l_discount)) >) -> 1 }\n",
      "let tmpa = sum (<s_k, s_v> in smp) { < l_suppkey=s_k.l_suppkey > -> < total_revenue=promote[nullable[real]](s_k.tmp_val * s_v) > }\n",
      "let agg_smp = sum (<ta_k, ta_v> in tmpa) { < l_suppkey=ta_k.l_suppkey, total_revenue=promote[real](ta_v.total_revenue) > -> 1 }\n",
      "let amp = sum (<as_k, as_v> in agg_smp) { concat(as_k, < supplier_no=as_k.l_suppkey >) -> 1 }\n",
      "let tmpb = sum (<a_k, a_v> in amp) { < supplier_no=a_k.supplier_no, total_revenue=a_k.total_revenue > -> 1 }\n",
      "let revenue0 = tmpb\n",
      "let total_revenue_max = promote[real](sum (<r0_k, r0_v> in revenue0) promote[mxpr](r0_k.total_revenue))\n",
      "let supplier = load[{<s_suppkey: int, s_name: string, s_address: string, s_nationkey: int, s_phone: string, s_acctbal: double, s_comment: string> -> int}](\"T:/UG4-Proj/datasets/supplier.tbl\")\n",
      "let part_revenue0 = sum (<r0_k, r0_v> in revenue0) { < supplier_no=r0_k.supplier_no > -> { r0_k -> r0_v } }\n",
      "let Rm0 = sum (<sup_k, sup_v> in supplier) if ((part_revenue0(<supplier_no=sup_k.s_suppkey>) != {  })) then sum(<p_k, p_v> in part_revenue0(<supplier_no=sup_k.s_suppkey>)) { concat(sup_k, p_k) -> sup_v * p_v } else {  }\n",
      "let rmp = sum (<r0_k, r0_v> in Rm0) if ((r0_k.total_revenue == total_revenue_max)) then { r0_k -> 1 } else {  }\n",
      "let tmpb = sum (<r_k, r_v> in rmp) { < s_suppkey=r_k.s_suppkey, s_name=r_k.s_name, s_address=r_k.s_address, s_phone=r_k.s_phone, total_revenue=r_k.total_revenue > -> 1 }\n",
      "tmpb\n"
     ]
    },
    {
     "name": "stderr",
     "output_type": "stream",
     "text": [
      "[info] welcome to sbt 1.6.0 (Oracle Corporation Java 17)\n",
      "[info] loading project definition from T:\\sdql\\project\n",
      "[info] loading settings for project sdql from build.sbt ...\n",
      "[info] set current project to sdql (in build file:/T:/sdql/)\n",
      "[info] sbt server started at local:sbt-server-ec9dcaf7bfc5935dead3\n",
      "[warn] sbt server could not start in 10s\n",
      "\u001b[?2004h>....[info] running sdql.driver.Main interpret T:/UG4-Proj/output/Q00.sdql\n",
      "{<s_suppkey = 9, s_name = Supplier#000000009, s_address = 1KhUgZegwM3ua7dsYmekYBsK, s_phone = 20-403-398-8662, total_revenue = 607520.0095> -> 1}\n",
      "[success] Total time: 1 s, completed 2022年7月30日 上午8:50:49\n",
      "========================================================\n",
      "pysdql execution time: 15.830260515213013\n",
      "export sdql script \"tpch-15.sdql\" to \"T:/UG4-Proj/output/tpch-15.sdql\"\n",
      "excute by:\n",
      "run interpret T:/UG4-Proj/output/tpch-15.sdql\n"
     ]
    },
    {
     "data": {
      "text/plain": [
       "{<s_suppkey = 9, s_name = Supplier#000000009, s_address = 1KhUgZegwM3ua7dsYmekYBsK, s_phone = 20-403-398-8662, total_revenue = 607520.0095> -> 1}"
      ]
     },
     "execution_count": 30,
     "metadata": {},
     "output_type": "execute_result"
    }
   ],
   "source": [
    "# Try replace pysdql with pandas to get result in pandas!\n",
    "# import pandas as pd  # get answer in pandas\n",
    "import pysdql as pd  # get answer in pysdql\n",
    "\n",
    "# display all columns\n",
    "pd.set_option('display.max_columns', None)\n",
    "# display all rows\n",
    "pd.set_option('display.max_rows', None)\n",
    "\n",
    "var1 = '1996-02-01'\n",
    "var2 = '1996-05-01'  # var1 + 3 month\n",
    "\n",
    "lineitem = pd.read_table(rf'{data_path}/lineitem.tbl', sep='|', index_col=False, header=None, names=pysdql.LINEITEM_COLS)\n",
    "supplier = pd.read_table(rf'{data_path}/supplier.tbl', sep='|', index_col=False, header=None, names=pysdql.SUPPLIER_COLS)\n",
    "\n",
    "sub_l = lineitem[(lineitem['l_shipdate'] >= var1) & (lineitem['l_shipdate'] < var2)]\n",
    "sub_l.columns.name = 'sub_l'\n",
    "\n",
    "sub_l['tmp_val'] = sub_l['l_extendedprice'] * (1 - sub_l['l_discount'])\n",
    "\n",
    "revenue0 = sub_l.groupby(['l_suppkey'], as_index=False).agg(total_revenue=('tmp_val', 'sum'))\n",
    "revenue0['supplier_no'] = revenue0['l_suppkey']\n",
    "revenue0 = revenue0[['supplier_no', 'total_revenue']]\n",
    "revenue0.columns.name = 'revenue0'\n",
    "\n",
    "max_revenue = revenue0['total_revenue'].max()\n",
    "\n",
    "r = supplier.merge(revenue0, left_on='s_suppkey', right_on='supplier_no')\n",
    "\n",
    "r = r[r['total_revenue'] == max_revenue]\n",
    "\n",
    "r = r[['s_suppkey', 's_name', 's_address', 's_phone', 'total_revenue']]\n",
    "\n",
    "print(r)\n",
    "\n",
    "pysdql.db_driver(db_path=sdql_database_path, name='tpch-15').run(r).export().to()"
   ]
  },
  {
   "cell_type": "markdown",
   "metadata": {},
   "source": [
    "### pandas - 15"
   ]
  },
  {
   "cell_type": "code",
   "execution_count": 31,
   "metadata": {},
   "outputs": [
    {
     "name": "stdout",
     "output_type": "stream",
     "text": [
      "   s_suppkey              s_name                 s_address          s_phone  \\\n",
      "8          9  Supplier#000000009  1KhUgZegwM3ua7dsYmekYBsK  20-403-398-8662   \n",
      "\n",
      "   total_revenue  \n",
      "8    607520.0095  \n"
     ]
    },
    {
     "name": "stderr",
     "output_type": "stream",
     "text": [
      "C:\\Users\\Y\\AppData\\Local\\Temp\\ipykernel_6788\\2234108538.py:19: SettingWithCopyWarning: \n",
      "A value is trying to be set on a copy of a slice from a DataFrame.\n",
      "Try using .loc[row_indexer,col_indexer] = value instead\n",
      "\n",
      "See the caveats in the documentation: https://pandas.pydata.org/pandas-docs/stable/user_guide/indexing.html#returning-a-view-versus-a-copy\n",
      "  sub_l['tmp_val'] = sub_l['l_extendedprice'] * (1 - sub_l['l_discount'])\n"
     ]
    }
   ],
   "source": [
    "# Try replace pysdql with pandas to get result in pandas!\n",
    "import pandas as pd  # get answer in pandas\n",
    "# import pysdql as pd  # get answer in pysdql\n",
    "\n",
    "# display all columns\n",
    "pd.set_option('display.max_columns', None)\n",
    "# display all rows\n",
    "pd.set_option('display.max_rows', None)\n",
    "\n",
    "var1 = '1996-02-01'\n",
    "var2 = '1996-05-01'  # var1 + 3 month\n",
    "\n",
    "lineitem = pd.read_table(rf'{data_path}/lineitem.tbl', sep='|', index_col=False, header=None, names=pysdql.LINEITEM_COLS)\n",
    "supplier = pd.read_table(rf'{data_path}/supplier.tbl', sep='|', index_col=False, header=None, names=pysdql.SUPPLIER_COLS)\n",
    "\n",
    "sub_l = lineitem[(lineitem['l_shipdate'] >= var1) & (lineitem['l_shipdate'] < var2)]\n",
    "sub_l.columns.name = 'sub_l'\n",
    "\n",
    "sub_l['tmp_val'] = sub_l['l_extendedprice'] * (1 - sub_l['l_discount'])\n",
    "\n",
    "revenue0 = sub_l.groupby(['l_suppkey'], as_index=False).agg(total_revenue=('tmp_val', 'sum'))\n",
    "revenue0['supplier_no'] = revenue0['l_suppkey']\n",
    "revenue0 = revenue0[['supplier_no', 'total_revenue']]\n",
    "revenue0.columns.name = 'revenue0'\n",
    "\n",
    "max_revenue = revenue0['total_revenue'].max()\n",
    "\n",
    "r = supplier.merge(revenue0, left_on='s_suppkey', right_on='supplier_no')\n",
    "\n",
    "r = r[r['total_revenue'] == max_revenue]\n",
    "\n",
    "r = r[['s_suppkey', 's_name', 's_address', 's_phone', 'total_revenue']]\n",
    "\n",
    "print(r)\n",
    "\n",
    "pysdql.db_driver(db_path=sdql_database_path, name='tpch-15').run(r).export().to()"
   ]
  },
  {
   "cell_type": "markdown",
   "metadata": {},
   "source": [
    "# TPCH - 16 ✅"
   ]
  },
  {
   "cell_type": "markdown",
   "metadata": {
    "pycharm": {
     "name": "#%%\n"
    }
   },
   "source": [
    "### SQL - 16"
   ]
  },
  {
   "cell_type": "markdown",
   "metadata": {},
   "source": [
    "```\n",
    "select\n",
    "\tp_brand,\n",
    "\tp_type,\n",
    "\tp_size,\n",
    "\tcount(distinct ps_suppkey) as supplier_cnt\n",
    "from\n",
    "\tpartsupp,\n",
    "\tpart\n",
    "where\n",
    "\tp_partkey = ps_partkey\n",
    "\tand p_brand <> ':1'\n",
    "\tand p_type not like ':2%'\n",
    "\tand p_size in (:3, :4, :5, :6, :7, :8, :9, :10)\n",
    "\tand ps_suppkey not in (\n",
    "\t\tselect\n",
    "\t\t\ts_suppkey\n",
    "\t\tfrom\n",
    "\t\t\tsupplier\n",
    "\t\twhere\n",
    "\t\t\ts_comment like '%Customer%Complaints%'\n",
    "\t)\n",
    "group by\n",
    "\tp_brand,\n",
    "\tp_type,\n",
    "\tp_size\n",
    "```"
   ]
  },
  {
   "cell_type": "markdown",
   "metadata": {},
   "source": [
    "### pysdql - 16"
   ]
  },
  {
   "cell_type": "code",
   "execution_count": 32,
   "metadata": {},
   "outputs": [
    {
     "name": "stdout",
     "output_type": "stream",
     "text": [
      "let supplier = load[{<s_suppkey: int, s_name: string, s_address: string, s_nationkey: int, s_phone: string, s_acctbal: double, s_comment: string> -> int}](\"T:/UG4-Proj/datasets/supplier.tbl\")\n",
      "let smp = sum (<sup_k, sup_v> in supplier) { concat(sup_k, < var1_index=ext(`StrIndexOf`, sup_k.s_comment, \"Customer\", 0) >) -> 1 }\n",
      "let tmp = sum (<s_k, s_v> in smp) { concat(s_k, < var2_index=ext(`StrIndexOf`, s_k.s_comment, \"Complaints\", 0) >) -> 1 }\n",
      "let tmpa = sum (<t_k, t_v> in tmp) if ((((t_k.var1_index != -1) && (t_k.var2_index != -1)) && (t_k.var1_index < t_k.var2_index))) then { t_k -> 1 } else {  }\n",
      "let sub_s = tmpa\n",
      "let supplier = load[{<s_suppkey: int, s_name: string, s_address: string, s_nationkey: int, s_phone: string, s_acctbal: double, s_comment: string> -> int}](\"T:/UG4-Proj/datasets/supplier.tbl\")\n",
      "let smp = sum (<sup_k, sup_v> in supplier) { concat(sup_k, < var1_index=ext(`StrIndexOf`, sup_k.s_comment, \"Customer\", 0) >) -> 1 }\n",
      "let tmp = sum (<s_k, s_v> in smp) { concat(s_k, < var2_index=ext(`StrIndexOf`, s_k.s_comment, \"Complaints\", 0) >) -> 1 }\n",
      "let tmpa = sum (<t_k, t_v> in tmp) if ((((t_k.var1_index != -1) && (t_k.var2_index != -1)) && (t_k.var1_index < t_k.var2_index))) then { t_k -> 1 } else {  }\n",
      "let sub_s = tmpa\n",
      "let partsupp = load[{<ps_partkey: int, ps_suppkey: int, ps_availqty: int, ps_supplycost: double, ps_comment: string> -> int}](\"T:/UG4-Proj/datasets/partsupp.tbl\")\n",
      "let part = load[{<p_partkey: int, p_name: string, p_mfgr: string, p_brand: string, p_type: string, p_size: int, p_container: string, p_retailprice: double, p_comment: string> -> int}](\"T:/UG4-Proj/datasets/part.tbl\")\n",
      "let pmp = sum (<par_k, par_v> in part) if ((((par_k.p_brand != \"Brand#21\") && !(ext(`StrStartsWith`, par_k.p_type, \"SMALL ANODIZED\"))) && ((((((((par_k.p_size == 42) || (par_k.p_size == 10)) || (par_k.p_size == 48)) || (par_k.p_size == 33)) || (par_k.p_size == 18)) || (par_k.p_size == 16)) || (par_k.p_size == 8)) || (par_k.p_size == 3)))) then { par_k -> 1 } else {  }\n",
      "let sub_p = pmp\n",
      "let part_partsupp = sum (<psup_k, psup_v> in partsupp) { < ps_partkey=psup_k.ps_partkey > -> { psup_k -> psup_v } }\n",
      "let Rm0 = sum (<sp_k, sp_v> in sub_p) if ((part_partsupp(<ps_partkey=sp_k.p_partkey>) != {  })) then sum(<p_k, p_v> in part_partsupp(<ps_partkey=sp_k.p_partkey>)) { concat(sp_k, p_k) -> sp_v * p_v } else {  }\n",
      "let rmp = if ((sub_s == { })) then Rm0 else sum (<r0_k, r0_v> in Rm0) sum (<ss_k, ss_v> in sub_s) if ((r0_k.ps_suppkey == ss_k.s_suppkey)) then { r0_k -> 1 } else {  }\n",
      "let tmpb = sum (<r_k, r_v> in rmp) { < p_brand=r_k.p_brand, p_type=r_k.p_type, p_size=r_k.p_size, ps_suppkey=r_k.ps_suppkey > -> { r_k -> r_v } }\n",
      "let tmpc = sum (<tb_k, tb_v> in tmpb) { < p_brand=tb_k.p_brand, p_type=tb_k.p_type, p_size=tb_k.p_size, ps_suppkey=tb_k.ps_suppkey > -> 1 }\n",
      "let tmpe = sum (<tc_k, tc_v> in tmpc) { < p_brand=tc_k.p_brand, p_type=tc_k.p_type, p_size=tc_k.p_size > -> < supplier_cnt=tc_v > }\n",
      "let agg_tmpc = sum (<te_k, te_v> in tmpe) { < p_brand=te_k.p_brand, p_type=te_k.p_type, p_size=te_k.p_size, supplier_cnt=te_v.supplier_cnt > -> 1 }\n",
      "agg_tmpc\n"
     ]
    },
    {
     "name": "stderr",
     "output_type": "stream",
     "text": [
      "[info] welcome to sbt 1.6.0 (Oracle Corporation Java 17)\n",
      "[info] loading project definition from T:\\sdql\\project\n",
      "[info] loading settings for project sdql from build.sbt ...\n",
      "[info] set current project to sdql (in build file:/T:/sdql/)\n",
      "[info] sbt server started at local:sbt-server-ec9dcaf7bfc5935dead3\n",
      "[warn] sbt server could not start in 10s\n",
      "\u001b[?2004h>....[info] running sdql.driver.Main interpret T:/UG4-Proj/output/Q00.sdql\n",
      "{<p_brand = Brand#44, p_type = PROMO PLATED COPPER, p_size = 16, supplier_cnt = 1> -> 1, <p_brand = Brand#43, p_type = PROMO BRUSHED STEEL, p_size = 42, supplier_cnt = 4> -> 1, <p_brand = Brand#22, p_type = ECONOMY PLATED NICKEL, p_size = 16, supplier_cnt = 2> -> 1, <p_brand = Brand#11, p_type = SMALL BURNISHED STEEL, p_size = 42, supplier_cnt = 4> -> 1, <p_brand = Brand#53, p_type = STANDARD BRUSHED TIN, p_size = 10, supplier_cnt = 2> -> 1, <p_brand = Brand#13, p_type = ECONOMY BURNISHED COPPER, p_size = 42, supplier_cnt = 2> -> 1, <p_brand = Brand#43, p_type = ECONOMY BRUSHED STEEL, p_size = 16, supplier_cnt = 4> -> 1, <p_brand = Brand#13, p_type = LARGE BRUSHED STEEL, p_size = 8, supplier_cnt = 2> -> 1, <p_brand = Brand#13, p_type = STANDARD POLISHED TIN, p_size = 10, supplier_cnt = 4> -> 1, <p_brand = Brand#53, p_type = MEDIUM POLISHED STEEL, p_size = 48, supplier_cnt = 4> -> 1, <p_brand = Brand#55, p_type = PROMO ANODIZED NICKEL, p_size = 16, supplier_cnt = 1> -> 1, <p_brand = Brand#11, p_type = STANDARD BRUSHED STEEL, p_size = 42, supplier_cnt = 4> -> 1, <p_brand = Brand#35, p_type = MEDIUM BURNISHED TIN, p_size = 42, supplier_cnt = 4> -> 1, <p_brand = Brand#32, p_type = STANDARD BURNISHED NICKEL, p_size = 10, supplier_cnt = 4> -> 1, <p_brand = Brand#54, p_type = SMALL BURNISHED NICKEL, p_size = 18, supplier_cnt = 4> -> 1, <p_brand = Brand#45, p_type = MEDIUM PLATED TIN, p_size = 48, supplier_cnt = 4> -> 1, <p_brand = Brand#25, p_type = SMALL BURNISHED COPPER, p_size = 3, supplier_cnt = 2> -> 1, <p_brand = Brand#55, p_type = STANDARD BRUSHED COPPER, p_size = 3, supplier_cnt = 4> -> 1, <p_brand = Brand#45, p_type = LARGE POLISHED TIN, p_size = 48, supplier_cnt = 2> -> 1, <p_brand = Brand#53, p_type = SMALL POLISHED TIN, p_size = 42, supplier_cnt = 1> -> 1, <p_brand = Brand#53, p_type = MEDIUM BRUSHED COPPER, p_size = 3, supplier_cnt = 4> -> 1, <p_brand = Brand#55, p_type = STANDARD POLISHED BRASS, p_size = 10, supplier_cnt = 4> -> 1, <p_brand = Brand#53, p_type = PROMO POLISHED NICKEL, p_size = 33, supplier_cnt = 4> -> 1, <p_brand = Brand#33, p_type = SMALL BURNISHED NICKEL, p_size = 3, supplier_cnt = 4> -> 1, <p_brand = Brand#11, p_type = PROMO ANODIZED STEEL, p_size = 10, supplier_cnt = 4> -> 1, <p_brand = Brand#12, p_type = LARGE POLISHED NICKEL, p_size = 48, supplier_cnt = 4> -> 1}\n",
      "[success] Total time: 1 s, completed 2022年7月30日 上午8:51:04\n",
      "========================================================\n",
      "pysdql execution time: 15.730454921722412\n",
      "export sdql script \"tpch-16.sdql\" to \"T:/UG4-Proj/output/tpch-16.sdql\"\n",
      "excute by:\n",
      "run interpret T:/UG4-Proj/output/tpch-16.sdql\n"
     ]
    },
    {
     "data": {
      "text/plain": [
       "{<p_brand = Brand#44, p_type = PROMO PLATED COPPER, p_size = 16, supplier_cnt = 1> -> 1, <p_brand = Brand#43, p_type = PROMO BRUSHED STEEL, p_size = 42, supplier_cnt = 4> -> 1, <p_brand = Brand#22, p_type = ECONOMY PLATED NICKEL, p_size = 16, supplier_cnt = 2> -> 1, <p_brand = Brand#11, p_type = SMALL BURNISHED STEEL, p_size = 42, supplier_cnt = 4> -> 1, <p_brand = Brand#53, p_type = STANDARD BRUSHED TIN, p_size = 10, supplier_cnt = 2> -> 1, <p_brand = Brand#13, p_type = ECONOMY BURNISHED COPPER, p_size = 42, supplier_cnt = 2> -> 1, <p_brand = Brand#43, p_type = ECONOMY BRUSHED STEEL, p_size = 16, supplier_cnt = 4> -> 1, <p_brand = Brand#13, p_type = LARGE BRUSHED STEEL, p_size = 8, supplier_cnt = 2> -> 1, <p_brand = Brand#13, p_type = STANDARD POLISHED TIN, p_size = 10, supplier_cnt = 4> -> 1, <p_brand = Brand#53, p_type = MEDIUM POLISHED STEEL, p_size = 48, supplier_cnt = 4> -> 1, <p_brand = Brand#55, p_type = PROMO ANODIZED NICKEL, p_size = 16, supplier_cnt = 1> -> 1, <p_brand = Brand#11, p_type = STANDARD BRUSHED STEEL, p_size = 42, supplier_cnt = 4> -> 1, <p_brand = Brand#35, p_type = MEDIUM BURNISHED TIN, p_size = 42, supplier_cnt = 4> -> 1, <p_brand = Brand#32, p_type = STANDARD BURNISHED NICKEL, p_size = 10, supplier_cnt = 4> -> 1, <p_brand = Brand#54, p_type = SMALL BURNISHED NICKEL, p_size = 18, supplier_cnt = 4> -> 1, <p_brand = Brand#45, p_type = MEDIUM PLATED TIN, p_size = 48, supplier_cnt = 4> -> 1, <p_brand = Brand#25, p_type = SMALL BURNISHED COPPER, p_size = 3, supplier_cnt = 2> -> 1, <p_brand = Brand#55, p_type = STANDARD BRUSHED COPPER, p_size = 3, supplier_cnt = 4> -> 1, <p_brand = Brand#45, p_type = LARGE POLISHED TIN, p_size = 48, supplier_cnt = 2> -> 1, <p_brand = Brand#53, p_type = SMALL POLISHED TIN, p_size = 42, supplier_cnt = 1> -> 1, <p_brand = Brand#53, p_type = MEDIUM BRUSHED COPPER, p_size = 3, supplier_cnt = 4> -> 1, <p_brand = Brand#55, p_type = STANDARD POLISHED BRASS, p_size = 10, supplier_cnt = 4> -> 1, <p_brand = Brand#53, p_type = PROMO POLISHED NICKEL, p_size = 33, supplier_cnt = 4> -> 1, <p_brand = Brand#33, p_type = SMALL BURNISHED NICKEL, p_size = 3, supplier_cnt = 4> -> 1, <p_brand = Brand#11, p_type = PROMO ANODIZED STEEL, p_size = 10, supplier_cnt = 4> -> 1, <p_brand = Brand#12, p_type = LARGE POLISHED NICKEL, p_size = 48, supplier_cnt = 4> -> 1}"
      ]
     },
     "execution_count": 32,
     "metadata": {},
     "output_type": "execute_result"
    }
   ],
   "source": [
    "# Try replace pysdql with pandas to get result in pandas!\n",
    "# import pandas as pd  # get answer in pandas\n",
    "import pysdql as pd  # get answer in pysdql\n",
    "\n",
    "# display all columns\n",
    "pd.set_option('display.max_columns', None)\n",
    "# display all rows\n",
    "pd.set_option('display.max_rows', None)\n",
    "\n",
    "var1 = 'Brand#21'\n",
    "var2 = 'SMALL ANODIZED'\n",
    "var3 = (48, 33, 18, 16, 8, 3, 10, 42)\n",
    "\n",
    "supplier = pd.read_table(rf'{data_path}/supplier.tbl', sep='|', index_col=False, header=None, names=pysdql.SUPPLIER_COLS)\n",
    "part = pd.read_table(rf'{data_path}/part.tbl', sep='|', index_col=False, header=None, names=pysdql.PART_COLS)\n",
    "partsupp = pd.read_table(rf'{data_path}/partsupp.tbl', sep='|', index_col=False, header=None, names=pysdql.PARTSUPP_COLS)\n",
    "\n",
    "supplier['var1_index'] = supplier['s_comment'].str.find('Customer')\n",
    "supplier['var2_index'] = supplier['s_comment'].str.find('Complaints')\n",
    "\n",
    "sub_s = supplier[(supplier['var1_index'] != -1) & (supplier['var2_index'] != -1)\n",
    "                 & (supplier['var1_index'] < supplier['var2_index'])]\n",
    "sub_s.columns.name = 'sub_s'\n",
    "\n",
    "sub_p = part[(part['p_brand'] != var1)\n",
    "             & (~part['p_type'].str.startswith(var2))\n",
    "             & (part['p_size'].isin(var3))]\n",
    "sub_p.columns.name = 'sub_p'\n",
    "\n",
    "r = sub_p.merge(partsupp, left_on='p_partkey', right_on='ps_partkey')\n",
    "\n",
    "r = r[~(r['ps_suppkey'].isin(sub_s['s_suppkey']))]\n",
    "\n",
    "r = r.drop_duplicates(['p_brand', 'p_type', 'p_size', 'ps_suppkey'])\n",
    "\n",
    "# COUNT DISTINCT\n",
    "r = r.groupby(['p_brand', 'p_type', 'p_size'], as_index=False).agg(supplier_cnt=('ps_suppkey', 'count'))\n",
    "\n",
    "print(r)\n",
    "\n",
    "pysdql.db_driver(db_path=sdql_database_path, name='tpch-16').run(r).export().to()"
   ]
  },
  {
   "cell_type": "markdown",
   "metadata": {},
   "source": [
    "### pandas - 16"
   ]
  },
  {
   "cell_type": "code",
   "execution_count": 33,
   "metadata": {},
   "outputs": [
    {
     "name": "stdout",
     "output_type": "stream",
     "text": [
      "     p_brand                     p_type  p_size  supplier_cnt\n",
      "0   Brand#11       PROMO ANODIZED STEEL      10             4\n",
      "1   Brand#11      SMALL BURNISHED STEEL      42             4\n",
      "2   Brand#11     STANDARD BRUSHED STEEL      42             4\n",
      "3   Brand#12      LARGE POLISHED NICKEL      48             4\n",
      "4   Brand#13   ECONOMY BURNISHED COPPER      42             2\n",
      "5   Brand#13        LARGE BRUSHED STEEL       8             2\n",
      "6   Brand#13      STANDARD POLISHED TIN      10             4\n",
      "7   Brand#22      ECONOMY PLATED NICKEL      16             2\n",
      "8   Brand#25     SMALL BURNISHED COPPER       3             2\n",
      "9   Brand#32  STANDARD BURNISHED NICKEL      10             4\n",
      "10  Brand#33     SMALL BURNISHED NICKEL       3             4\n",
      "11  Brand#35       MEDIUM BURNISHED TIN      42             4\n",
      "12  Brand#43      ECONOMY BRUSHED STEEL      16             4\n",
      "13  Brand#43        PROMO BRUSHED STEEL      42             4\n",
      "14  Brand#44        PROMO PLATED COPPER      16             1\n",
      "15  Brand#45         LARGE POLISHED TIN      48             2\n",
      "16  Brand#45          MEDIUM PLATED TIN      48             4\n",
      "17  Brand#53      MEDIUM BRUSHED COPPER       3             4\n",
      "18  Brand#53      MEDIUM POLISHED STEEL      48             4\n",
      "19  Brand#53      PROMO POLISHED NICKEL      33             4\n",
      "20  Brand#53         SMALL POLISHED TIN      42             1\n",
      "21  Brand#53       STANDARD BRUSHED TIN      10             2\n",
      "22  Brand#54     SMALL BURNISHED NICKEL      18             4\n",
      "23  Brand#55      PROMO ANODIZED NICKEL      16             1\n",
      "24  Brand#55    STANDARD BRUSHED COPPER       3             4\n",
      "25  Brand#55    STANDARD POLISHED BRASS      10             4\n"
     ]
    }
   ],
   "source": [
    "# Try replace pysdql with pandas to get result in pandas!\n",
    "import pandas as pd  # get answer in pandas\n",
    "# import pysdql as pd  # get answer in pysdql\n",
    "\n",
    "# display all columns\n",
    "pd.set_option('display.max_columns', None)\n",
    "# display all rows\n",
    "pd.set_option('display.max_rows', None)\n",
    "\n",
    "var1 = 'Brand#21'\n",
    "var2 = 'SMALL ANODIZED'\n",
    "var3 = (48, 33, 18, 16, 8, 3, 10, 42)\n",
    "\n",
    "supplier = pd.read_table(rf'{data_path}/supplier.tbl', sep='|', index_col=False, header=None, names=pysdql.SUPPLIER_COLS)\n",
    "part = pd.read_table(rf'{data_path}/part.tbl', sep='|', index_col=False, header=None, names=pysdql.PART_COLS)\n",
    "partsupp = pd.read_table(rf'{data_path}/partsupp.tbl', sep='|', index_col=False, header=None, names=pysdql.PARTSUPP_COLS)\n",
    "\n",
    "supplier['var1_index'] = supplier['s_comment'].str.find('Customer')\n",
    "supplier['var2_index'] = supplier['s_comment'].str.find('Complaints')\n",
    "\n",
    "sub_s = supplier[(supplier['var1_index'] != -1) & (supplier['var2_index'] != -1)\n",
    "                 & (supplier['var1_index'] < supplier['var2_index'])]\n",
    "sub_s.columns.name = 'sub_s'\n",
    "\n",
    "sub_p = part[(part['p_brand'] != var1)\n",
    "             & (~part['p_type'].str.startswith(var2))\n",
    "             & (part['p_size'].isin(var3))]\n",
    "sub_p.columns.name = 'sub_p'\n",
    "\n",
    "r = sub_p.merge(partsupp, left_on='p_partkey', right_on='ps_partkey')\n",
    "\n",
    "r = r[~(r['ps_suppkey'].isin(sub_s['s_suppkey']))]\n",
    "\n",
    "r = r.drop_duplicates(['p_brand', 'p_type', 'p_size', 'ps_suppkey'])\n",
    "\n",
    "# COUNT DISTINCT\n",
    "r = r.groupby(['p_brand', 'p_type', 'p_size'], as_index=False).agg(supplier_cnt=('ps_suppkey', 'count'))\n",
    "\n",
    "print(r)\n",
    "\n",
    "pysdql.db_driver(db_path=sdql_database_path, name='tpch-16').run(r).export().to()"
   ]
  },
  {
   "cell_type": "markdown",
   "metadata": {},
   "source": [
    "# TPCH - 17 ✅"
   ]
  },
  {
   "cell_type": "markdown",
   "metadata": {},
   "source": [
    "### SQL - 17"
   ]
  },
  {
   "cell_type": "markdown",
   "metadata": {},
   "source": [
    "```\n",
    "select\n",
    "\tsum(l_extendedprice) / 7.0 as avg_yearly\n",
    "from\n",
    "\tlineitem,\n",
    "\tpart,\n",
    "\t(SELECT l_partkey AS agg_partkey, 0.2 * avg(l_quantity) AS avg_quantity FROM lineitem GROUP BY l_partkey) part_agg\n",
    "where\n",
    "\tp_partkey = l_partkey\n",
    "\tand agg_partkey = l_partkey\n",
    "\tand p_brand = ':1'\n",
    "\tand p_container = ':2'\n",
    "\tand l_quantity < avg_quantity\n",
    "```"
   ]
  },
  {
   "cell_type": "markdown",
   "metadata": {},
   "source": [
    "### pysdql - 17"
   ]
  },
  {
   "cell_type": "code",
   "execution_count": 34,
   "metadata": {
    "scrolled": false
   },
   "outputs": [
    {
     "name": "stdout",
     "output_type": "stream",
     "text": [
      "let lineitem = load[{<l_orderkey: int, l_partkey: int, l_suppkey: int, l_linenumber: int, l_quantity: int, l_extendedprice: double, l_discount: double, l_tax: double, l_returnflag: string, l_linestatus: string, l_shipdate: date, l_commitdate: date, l_receiptdate: date, l_shipinstruct: string, l_shipmode: string, l_comment: string> -> int}](\"T:/UG4-Proj/datasets/lineitem.tbl\")\n",
      "let tmp = sum (<lin_k, lin_v> in lineitem) { < l_partkey=lin_k.l_partkey > -> < tmp_val_sum=lin_k.l_quantity * lin_v, tmp_val_count=lin_v > }\n",
      "let agg_lineitem = sum (<t_k, t_v> in tmp) { < l_partkey=t_k.l_partkey, tmp_val=(t_v.tmp_val_sum / t_v.tmp_val_count) > -> 1 }\n",
      "let amp = sum (<al_k, al_v> in agg_lineitem) { concat(al_k, < avg_quantity=(0.2 * al_k.tmp_val) >) -> 1 }\n",
      "let tmpa = sum (<a_k, a_v> in amp) { concat(a_k, < agg_partkey=a_k.l_partkey >) -> 1 }\n",
      "let tmpb = sum (<ta_k, ta_v> in tmpa) { < avg_quantity=ta_k.avg_quantity, agg_partkey=ta_k.agg_partkey > -> 1 }\n",
      "let part_agg = tmpb\n",
      "let part = load[{<p_partkey: int, p_name: string, p_mfgr: string, p_brand: string, p_type: string, p_size: int, p_container: string, p_retailprice: double, p_comment: string> -> int}](\"T:/UG4-Proj/datasets/part.tbl\")\n",
      "let pmp = sum (<par_k, par_v> in part) if (((par_k.p_brand == \"Brand#11\") && (par_k.p_container == \"WRAP CASE\"))) then { par_k -> 1 } else {  }\n",
      "let sub_p = pmp\n",
      "let part_lineitem = sum (<lin_k, lin_v> in lineitem) { < l_partkey=lin_k.l_partkey > -> { lin_k -> lin_v } }\n",
      "let Rm0 = sum (<sp_k, sp_v> in sub_p) if ((part_lineitem(<l_partkey=sp_k.p_partkey>) != {  })) then sum(<p_k, p_v> in part_lineitem(<l_partkey=sp_k.p_partkey>)) { concat(sp_k, p_k) -> sp_v * p_v } else {  }\n",
      "let part_part_agg = sum (<pa_k, pa_v> in part_agg) { < agg_partkey=pa_k.agg_partkey > -> { pa_k -> pa_v } }\n",
      "let Rm1 = sum (<r0_k, r0_v> in Rm0) if ((part_part_agg(<agg_partkey=r0_k.l_partkey>) != {  })) then sum(<p_k, p_v> in part_part_agg(<agg_partkey=r0_k.l_partkey>)) { concat(r0_k, p_k) -> r0_v * p_v } else {  }\n",
      "let rmp = sum (<r1_k, r1_v> in Rm1) if ((r1_k.l_quantity < r1_k.avg_quantity)) then { r1_k -> 1 } else {  }\n",
      "let l_extendedprice_sum = sum (<r_k, r_v> in rmp) r_k.l_extendedprice * r_v\n",
      "let tmpb = { < tmp_val=l_extendedprice_sum > -> 1 }\n",
      "let tmpc = sum (<tb_k, tb_v> in tmpb) { concat(tb_k, < avg_yearly=(tb_k.tmp_val / 7.0) >) -> 1 }\n",
      "let tmpd = sum (<tc_k, tc_v> in tmpc) { < avg_yearly=tc_k.avg_yearly > -> 1 }\n",
      "tmpd\n"
     ]
    },
    {
     "name": "stderr",
     "output_type": "stream",
     "text": [
      "[info] welcome to sbt 1.6.0 (Oracle Corporation Java 17)\n",
      "[info] loading project definition from T:\\sdql\\project\n",
      "[info] loading settings for project sdql from build.sbt ...\n",
      "[info] set current project to sdql (in build file:/T:/sdql/)\n",
      "[info] sbt server started at local:sbt-server-ec9dcaf7bfc5935dead3\n",
      "[warn] sbt server could not start in 10s\n",
      "\u001b[?2004h>....[info] running sdql.driver.Main interpret T:/UG4-Proj/output/Q00.sdql\n",
      "{<avg_yearly = 1351.4857142857143> -> 1}\n",
      "[success] Total time: 2 s, completed 2022年7月30日 上午8:51:21\n",
      "========================================================\n",
      "pysdql execution time: 16.46758460998535\n",
      "export sdql script \"tpch-17.sdql\" to \"T:/UG4-Proj/output/tpch-17.sdql\"\n",
      "excute by:\n",
      "run interpret T:/UG4-Proj/output/tpch-17.sdql\n"
     ]
    },
    {
     "data": {
      "text/plain": [
       "{<avg_yearly = 1351.4857142857143> -> 1}"
      ]
     },
     "execution_count": 34,
     "metadata": {},
     "output_type": "execute_result"
    }
   ],
   "source": [
    "# Try replace pysdql with pandas to get result in pandas!\n",
    "# import pandas as pd  # get answer in pandas\n",
    "import pysdql as pd  # get answer in pysdql\n",
    "\n",
    "# display all columns\n",
    "pd.set_option('display.max_columns', None)\n",
    "# display all rows\n",
    "pd.set_option('display.max_rows', None)\n",
    "\n",
    "var1 = 'Brand#11'\n",
    "var2 = 'WRAP CASE'\n",
    "\n",
    "lineitem = pd.read_table(rf'{data_path}/lineitem.tbl', sep='|', index_col=False, header=None, names=pysdql.LINEITEM_COLS)\n",
    "part = pd.read_table(rf'{data_path}/part.tbl', sep='|', index_col=False, header=None, names=pysdql.PART_COLS)\n",
    "\n",
    "# Co-related Nested Queries\n",
    "part_agg = lineitem.groupby(['l_partkey'], as_index=False).agg(tmp_val=('l_quantity', 'mean'))\n",
    "part_agg['avg_quantity'] = 0.2 * part_agg['tmp_val']\n",
    "part_agg['agg_partkey'] = part_agg['l_partkey']\n",
    "\n",
    "part_agg = part_agg[['avg_quantity', 'agg_partkey']]\n",
    "part_agg.columns.name = 'part_agg'\n",
    "\n",
    "sub_p = part[(part['p_brand'] == var1) & (part['p_container'] == var2)]\n",
    "sub_p.columns.name = 'sub_p'\n",
    "\n",
    "r = sub_p.merge(lineitem, left_on='p_partkey', right_on='l_partkey')\n",
    "\n",
    "r = r.merge(part_agg, left_on='l_partkey', right_on='agg_partkey')\n",
    "r = r[r['l_quantity'] < r['avg_quantity']]\n",
    "\n",
    "r['tmp_val'] = r['l_extendedprice'].sum()\n",
    "\n",
    "r['avg_yearly'] = r['tmp_val'] / 7.0\n",
    "\n",
    "r = r[['avg_yearly']].drop_duplicates()\n",
    "\n",
    "print(r)\n",
    "\n",
    "pysdql.db_driver(db_path=sdql_database_path, name='tpch-17').run(r).export().to()"
   ]
  },
  {
   "cell_type": "markdown",
   "metadata": {},
   "source": [
    "### pandas - 17"
   ]
  },
  {
   "cell_type": "code",
   "execution_count": 35,
   "metadata": {},
   "outputs": [
    {
     "name": "stdout",
     "output_type": "stream",
     "text": [
      "    avg_yearly\n",
      "2  1351.485714\n"
     ]
    }
   ],
   "source": [
    "# Try replace pysdql with pandas to get result in pandas!\n",
    "import pandas as pd  # get answer in pandas\n",
    "# import pysdql as pd  # get answer in pysdql\n",
    "\n",
    "# display all columns\n",
    "pd.set_option('display.max_columns', None)\n",
    "# display all rows\n",
    "pd.set_option('display.max_rows', None)\n",
    "\n",
    "var1 = 'Brand#11'\n",
    "var2 = 'WRAP CASE'\n",
    "\n",
    "lineitem = pd.read_table(rf'{data_path}/lineitem.tbl', sep='|', index_col=False, header=None, names=pysdql.LINEITEM_COLS)\n",
    "part = pd.read_table(rf'{data_path}/part.tbl', sep='|', index_col=False, header=None, names=pysdql.PART_COLS)\n",
    "\n",
    "# Co-related Nested Queries\n",
    "part_agg = lineitem.groupby(['l_partkey'], as_index=False).agg(tmp_val=('l_quantity', 'mean'))\n",
    "part_agg['avg_quantity'] = 0.2 * part_agg['tmp_val']\n",
    "part_agg['agg_partkey'] = part_agg['l_partkey']\n",
    "\n",
    "part_agg = part_agg[['avg_quantity', 'agg_partkey']]\n",
    "part_agg.columns.name = 'part_agg'\n",
    "\n",
    "sub_p = part[(part['p_brand'] == var1) & (part['p_container'] == var2)]\n",
    "sub_p.columns.name = 'sub_p'\n",
    "\n",
    "r = sub_p.merge(lineitem, left_on='p_partkey', right_on='l_partkey')\n",
    "\n",
    "r = r.merge(part_agg, left_on='l_partkey', right_on='agg_partkey')\n",
    "r = r[r['l_quantity'] < r['avg_quantity']]\n",
    "\n",
    "r['tmp_val'] = r['l_extendedprice'].sum()\n",
    "\n",
    "r['avg_yearly'] = r['tmp_val'] / 7.0\n",
    "\n",
    "r = r[['avg_yearly']].drop_duplicates()\n",
    "\n",
    "print(r)\n",
    "\n",
    "pysdql.db_driver(db_path=sdql_database_path, name='tpch-17').run(r).export().to()"
   ]
  },
  {
   "cell_type": "markdown",
   "metadata": {},
   "source": [
    "# TPCH - 18 ✅"
   ]
  },
  {
   "cell_type": "markdown",
   "metadata": {},
   "source": [
    "### SQL - 18"
   ]
  },
  {
   "cell_type": "markdown",
   "metadata": {},
   "source": [
    "```\n",
    "select\n",
    "\tc_name,\n",
    "\tc_custkey,\n",
    "\to_orderkey,\n",
    "\to_orderdate,\n",
    "\to_totalprice,\n",
    "\tsum(l_quantity)\n",
    "from\n",
    "\tcustomer,\n",
    "\torders,\n",
    "\tlineitem\n",
    "where\n",
    "\to_orderkey in (\n",
    "\t\tselect\n",
    "\t\t\tl_orderkey\n",
    "\t\tfrom\n",
    "\t\t\tlineitem\n",
    "\t\tgroup by\n",
    "\t\t\tl_orderkey having\n",
    "\t\t\t\tsum(l_quantity) > :1\n",
    "\t)\n",
    "\tand c_custkey = o_custkey\n",
    "\tand o_orderkey = l_orderkey\n",
    "group by\n",
    "\tc_name,\n",
    "\tc_custkey,\n",
    "\to_orderkey,\n",
    "\to_orderdate,\n",
    "\to_totalprice\n",
    "```"
   ]
  },
  {
   "cell_type": "markdown",
   "metadata": {},
   "source": [
    "### pysdql - 18"
   ]
  },
  {
   "cell_type": "code",
   "execution_count": 47,
   "metadata": {
    "pycharm": {
     "name": "#%%\n"
    }
   },
   "outputs": [
    {
     "name": "stdout",
     "output_type": "stream",
     "text": [
      "let lineitem = load[{<l_orderkey: int, l_partkey: int, l_suppkey: int, l_linenumber: int, l_quantity: int, l_extendedprice: double, l_discount: double, l_tax: double, l_returnflag: string, l_linestatus: string, l_shipdate: date, l_commitdate: date, l_receiptdate: date, l_shipinstruct: string, l_shipmode: string, l_comment: string> -> int}](\"T:/UG4-Proj/datasets/lineitem.tbl\")\n",
      "let tmp = sum (<lin_k, lin_v> in lineitem) { < l_orderkey=lin_k.l_orderkey > -> { lin_k -> lin_v } }\n",
      "let lmp = sum (<t_k, t_v> in tmp) { < l_orderkey=t_k.l_orderkey, group=t_v > -> 1 }\n",
      "let hvmp = sum (<l_k, l_v> in lmp) sum (<g_k, g_v> in l_k.group) { < l_orderkey=l_k.l_orderkey > -> < val=(g_k.l_quantity * g_v) > }\n",
      "let hvR = sum (<hv_k, hv_v> in hvmp) if ((251 < hv_v.val)) then { < l_orderkey=hv_k.l_orderkey > -> 1 } else {  }\n",
      "let fhv_lineitem = sum (<lin_k, lin_v> in lineitem) sum (<h_k, h_v> in hvR) if ((h_k.l_orderkey == lin_k.l_orderkey)) then { lin_k -> 1 } else {  }\n",
      "let fmp = sum (<fl_k, fl_v> in fhv_lineitem) { < l_orderkey=fl_k.l_orderkey > -> { fl_k -> fl_v } }\n",
      "let tmpa = sum (<f_k, f_v> in fmp) { < l_orderkey=f_k.l_orderkey > -> 1 }\n",
      "let agg_l = tmpa\n",
      "let orders = load[{<o_orderkey: int, o_custkey: int, o_orderstatus: string, o_totalprice: double, o_orderdate: date, o_orderpriority: string, o_clerk: string, o_shippriority: int, o_comment: string> -> int}](\"T:/UG4-Proj/datasets/orders.tbl\")\n",
      "let customer = load[{<c_custkey: int, c_name: string, c_address: string, c_nationkey: int, c_phone: string, c_acctbal: double, c_mktsegment: string, c_comment: string> -> int}](\"T:/UG4-Proj/datasets/customer.tbl\")\n",
      "let part_orders = sum (<ord_k, ord_v> in orders) { < o_custkey=ord_k.o_custkey > -> { ord_k -> ord_v } }\n",
      "let Rm0 = sum (<cus_k, cus_v> in customer) if ((part_orders(<o_custkey=cus_k.c_custkey>) != {  })) then sum(<p_k, p_v> in part_orders(<o_custkey=cus_k.c_custkey>)) { concat(cus_k, p_k) -> cus_v * p_v } else {  }\n",
      "let part_lineitem = sum (<lin_k, lin_v> in lineitem) { < l_orderkey=lin_k.l_orderkey > -> { lin_k -> lin_v } }\n",
      "let Rm1 = sum (<r0_k, r0_v> in Rm0) if ((part_lineitem(<l_orderkey=r0_k.o_orderkey>) != {  })) then sum(<p_k, p_v> in part_lineitem(<l_orderkey=r0_k.o_orderkey>)) { concat(r0_k, p_k) -> r0_v * p_v } else {  }\n",
      "let rmp = sum (<r1_k, r1_v> in Rm1) sum (<al_k, al_v> in agg_l) if ((r1_k.o_orderkey == al_k.l_orderkey)) then { r1_k -> 1 } else {  }\n",
      "let tmpc = sum (<r_k, r_v> in rmp) { < c_name=r_k.c_name, c_custkey=r_k.c_custkey, o_orderkey=r_k.o_orderkey, o_orderdate=r_k.o_orderdate, o_totalprice=r_k.o_totalprice > -> < l_quantity_sum=promote[nullable[real]](r_k.l_quantity * r_v) > }\n",
      "let agg_rmp = sum (<tc_k, tc_v> in tmpc) { < c_name=tc_k.c_name, c_custkey=tc_k.c_custkey, o_orderkey=tc_k.o_orderkey, o_orderdate=tc_k.o_orderdate, o_totalprice=tc_k.o_totalprice, l_quantity_sum=promote[real](tc_v.l_quantity_sum) > -> 1 }\n",
      "agg_rmp\n"
     ]
    },
    {
     "name": "stderr",
     "output_type": "stream",
     "text": [
      "[info] welcome to sbt 1.6.0 (Oracle Corporation Java 17)\n",
      "[info] welcome to sbt 1.6.0 (Oracle Corporation Java 17)\n",
      "[info] welcome to sbt 1.6.0 (Oracle Corporation Java 17)\n",
      "[info] loading project definition from T:\\sdql\\project\n",
      "[info] loading project definition from T:\\sdql\\project\n",
      "[info] loading project definition from T:\\sdql\\project\n",
      "[info] loading settings for project sdql from build.sbt ...\n",
      "[info] loading settings for project sdql from build.sbt ...\n",
      "[info] loading settings for project sdql from build.sbt ...\n",
      "[info] set current project to sdql (in build file:/T:/sdql/)\n",
      "[info] set current project to sdql (in build file:/T:/sdql/)\n",
      "[info] set current project to sdql (in build file:/T:/sdql/)\n",
      "[info] sbt server started at local:sbt-server-ec9dcaf7bfc5935dead3\n",
      "[info] sbt server started at local:sbt-server-ec9dcaf7bfc5935dead3\n",
      "[info] sbt server started at local:sbt-server-ec9dcaf7bfc5935dead3\n",
      "[warn] sbt server could not start in 10s\n",
      "[warn] sbt server could not start in 10s\n",
      "[warn] sbt server could not start in 10s\n",
      "\u001b[?2004h>....[info] running sdql.driver.Main interpret T:/UG4-Proj/output/Q00.sdql\n",
      "\u001b[?2004h>....[info] running sdql.driver.Main interpret T:/UG4-Proj/output/Q00.sdql\n",
      "\u001b[?2004h>....[info] running sdql.driver.Main interpret T:/UG4-Proj/output/Q00.sdql\n",
      "{<c_name = Customer#000000068, c_custkey = 68, o_orderkey = 2208, o_orderdate = DateValue(19950501), o_totalprice = 245388.06, l_quantity_sum = 256> -> 1, <c_name = Customer#000000010, c_custkey = 10, o_orderkey = 4421, o_orderdate = DateValue(19970404), o_totalprice = 258779.02, l_quantity_sum = 255> -> 1, <c_name = Customer#000000082, c_custkey = 82, o_orderkey = 3460, o_orderdate = DateValue(19951003), o_totalprice = 245976.74, l_quantity_sum = 254> -> 1, <c_name = Customer#000000070, c_custkey = 70, o_orderkey = 2567, o_orderdate = DateValue(19980227), o_totalprice = 263411.29, l_quantity_sum = 266> -> 1}\n",
      "{<c_name = Customer#000000068, c_custkey = 68, o_orderkey = 2208, o_orderdate = DateValue(19950501), o_totalprice = 245388.06, l_quantity_sum = 256> -> 1, <c_name = Customer#000000010, c_custkey = 10, o_orderkey = 4421, o_orderdate = DateValue(19970404), o_totalprice = 258779.02, l_quantity_sum = 255> -> 1, <c_name = Customer#000000082, c_custkey = 82, o_orderkey = 3460, o_orderdate = DateValue(19951003), o_totalprice = 245976.74, l_quantity_sum = 254> -> 1, <c_name = Customer#000000070, c_custkey = 70, o_orderkey = 2567, o_orderdate = DateValue(19980227), o_totalprice = 263411.29, l_quantity_sum = 266> -> 1}\n",
      "{<c_name = Customer#000000068, c_custkey = 68, o_orderkey = 2208, o_orderdate = DateValue(19950501), o_totalprice = 245388.06, l_quantity_sum = 256> -> 1, <c_name = Customer#000000010, c_custkey = 10, o_orderkey = 4421, o_orderdate = DateValue(19970404), o_totalprice = 258779.02, l_quantity_sum = 255> -> 1, <c_name = Customer#000000082, c_custkey = 82, o_orderkey = 3460, o_orderdate = DateValue(19951003), o_totalprice = 245976.74, l_quantity_sum = 254> -> 1, <c_name = Customer#000000070, c_custkey = 70, o_orderkey = 2567, o_orderdate = DateValue(19980227), o_totalprice = 263411.29, l_quantity_sum = 266> -> 1}\n",
      "[success] Total time: 2 s, completed 2022年7月30日 上午9:20:33\n",
      "[success] Total time: 2 s, completed 2022年7月30日 上午9:20:33\n",
      "[success] Total time: 2 s, completed 2022年7月30日 上午9:20:33\n",
      "========================================================\n",
      "========================================================\n",
      "========================================================\n",
      "pysdql execution time: 16.696771144866943\n",
      "pysdql execution time: 16.696771144866943\n",
      "pysdql execution time: 16.696771144866943\n",
      "export sdql script \"tpch-18.sdql\" to \"T:/UG4-Proj/output/tpch-18.sdql\"\n",
      "export sdql script \"tpch-18.sdql\" to \"T:/UG4-Proj/output/tpch-18.sdql\"\n",
      "export sdql script \"tpch-18.sdql\" to \"T:/UG4-Proj/output/tpch-18.sdql\"\n",
      "excute by:\n",
      "excute by:\n",
      "excute by:\n",
      "run interpret T:/UG4-Proj/output/tpch-18.sdql\n",
      "run interpret T:/UG4-Proj/output/tpch-18.sdql\n",
      "run interpret T:/UG4-Proj/output/tpch-18.sdql\n"
     ]
    },
    {
     "data": {
      "text/plain": [
       "{<c_name = Customer#000000068, c_custkey = 68, o_orderkey = 2208, o_orderdate = DateValue(19950501), o_totalprice = 245388.06, l_quantity_sum = 256> -> 1, <c_name = Customer#000000010, c_custkey = 10, o_orderkey = 4421, o_orderdate = DateValue(19970404), o_totalprice = 258779.02, l_quantity_sum = 255> -> 1, <c_name = Customer#000000082, c_custkey = 82, o_orderkey = 3460, o_orderdate = DateValue(19951003), o_totalprice = 245976.74, l_quantity_sum = 254> -> 1, <c_name = Customer#000000070, c_custkey = 70, o_orderkey = 2567, o_orderdate = DateValue(19980227), o_totalprice = 263411.29, l_quantity_sum = 266> -> 1}"
      ]
     },
     "execution_count": 47,
     "metadata": {},
     "output_type": "execute_result"
    }
   ],
   "source": [
    "# Try replace pysdql with pandas to get result in pandas!\n",
    "# import pandas as pd  # get answer in pandas\n",
    "import pysdql as pd  # get answer in pysdql\n",
    "\n",
    "# display all columns\n",
    "pd.set_option('display.max_columns', None)\n",
    "# display all rows\n",
    "pd.set_option('display.max_rows', None)\n",
    "\n",
    "var1 = 251\n",
    "\n",
    "customer = pd.read_table(rf'{data_path}/customer.tbl', sep='|', index_col=False, header=None, names=pysdql.CUSTOMER_COLS)\n",
    "orders = pd.read_table(rf'{data_path}/orders.tbl', sep='|', index_col=False, header=None, names=pysdql.ORDERS_COLS)\n",
    "lineitem = pd.read_table(rf'{data_path}/lineitem.tbl', sep='|', index_col=False, header=None, names=pysdql.LINEITEM_COLS)\n",
    "\n",
    "agg_l = lineitem.groupby(['l_orderkey'], as_index=False).filter(lambda x: x['l_quantity'].sum() > var1)\n",
    "agg_l = agg_l.drop_duplicates(['l_orderkey'])\n",
    "agg_l.columns.name = 'agg_l'\n",
    "\n",
    "r = customer.merge(orders, left_on='c_custkey', right_on='o_custkey')\n",
    "r = r.merge(lineitem, left_on='o_orderkey', right_on='l_orderkey')\n",
    "\n",
    "r = r[(r['o_orderkey'].isin(agg_l['l_orderkey']))]\n",
    "\n",
    "r = r.groupby(['c_name', 'c_custkey', 'o_orderkey', 'o_orderdate', 'o_totalprice'], as_index=False)\\\n",
    "    .agg(l_quantity_sum=('l_quantity', 'sum'))\n",
    "\n",
    "print(r)\n",
    "\n",
    "pysdql.db_driver(db_path=sdql_database_path, name='tpch-18').run(r).export().to()"
   ]
  },
  {
   "cell_type": "markdown",
   "metadata": {},
   "source": [
    "### pandas - 18"
   ]
  },
  {
   "cell_type": "code",
   "execution_count": 48,
   "metadata": {},
   "outputs": [
    {
     "name": "stdout",
     "output_type": "stream",
     "text": [
      "               c_name  c_custkey  o_orderkey o_orderdate  o_totalprice  \\\n",
      "0  Customer#000000010         10        4421  1997-04-04     258779.02   \n",
      "1  Customer#000000068         68        2208  1995-05-01     245388.06   \n",
      "2  Customer#000000070         70        2567  1998-02-27     263411.29   \n",
      "3  Customer#000000082         82        3460  1995-10-03     245976.74   \n",
      "\n",
      "   l_quantity_sum  \n",
      "0             255  \n",
      "1             256  \n",
      "2             266  \n",
      "3             254  \n"
     ]
    }
   ],
   "source": [
    "# Try replace pysdql with pandas to get result in pandas!\n",
    "import pandas as pd  # get answer in pandas\n",
    "# import pysdql as pd  # get answer in pysdql\n",
    "\n",
    "# display all columns\n",
    "pd.set_option('display.max_columns', None)\n",
    "# display all rows\n",
    "pd.set_option('display.max_rows', None)\n",
    "\n",
    "var1 = 251\n",
    "\n",
    "customer = pd.read_table(rf'{data_path}/customer.tbl', sep='|', index_col=False, header=None, names=pysdql.CUSTOMER_COLS)\n",
    "orders = pd.read_table(rf'{data_path}/orders.tbl', sep='|', index_col=False, header=None, names=pysdql.ORDERS_COLS)\n",
    "lineitem = pd.read_table(rf'{data_path}/lineitem.tbl', sep='|', index_col=False, header=None, names=pysdql.LINEITEM_COLS)\n",
    "\n",
    "agg_l = lineitem.groupby(['l_orderkey'], as_index=False).filter(lambda x: x['l_quantity'].sum() > var1)\n",
    "agg_l = agg_l.drop_duplicates(['l_orderkey'])\n",
    "agg_l.columns.name = 'agg_l'\n",
    "\n",
    "r = customer.merge(orders, left_on='c_custkey', right_on='o_custkey')\n",
    "r = r.merge(lineitem, left_on='o_orderkey', right_on='l_orderkey')\n",
    "\n",
    "r = r[(r['o_orderkey'].isin(agg_l['l_orderkey']))]\n",
    "\n",
    "r = r.groupby(['c_name', 'c_custkey', 'o_orderkey', 'o_orderdate', 'o_totalprice'], as_index=False)\\\n",
    "    .agg(l_quantity_sum=('l_quantity', 'sum'))\n",
    "\n",
    "print(r)\n",
    "\n",
    "pysdql.db_driver(db_path=sdql_database_path, name='tpch-18').run(r).export().to()"
   ]
  },
  {
   "cell_type": "markdown",
   "metadata": {},
   "source": [
    "# TPCH - 19 ✅"
   ]
  },
  {
   "cell_type": "markdown",
   "metadata": {},
   "source": [
    "### SQL - 19"
   ]
  },
  {
   "cell_type": "markdown",
   "metadata": {},
   "source": [
    "```\n",
    "select\n",
    "\tsum(l_extendedprice* (1 - l_discount)) as revenue\n",
    "from\n",
    "\tlineitem,\n",
    "\tpart\n",
    "where\n",
    "\t(\n",
    "\t\tp_partkey = l_partkey\n",
    "\t\tand p_brand = ':1'\n",
    "\t\tand p_container in ('SM CASE', 'SM BOX', 'SM PACK', 'SM PKG')\n",
    "\t\tand l_quantity >= :4 and l_quantity <= :4 + 10\n",
    "\t\tand p_size between 1 and 5\n",
    "\t\tand l_shipmode in ('AIR', 'AIR REG')\n",
    "\t\tand l_shipinstruct = 'DELIVER IN PERSON'\n",
    "\t)\n",
    "\tor\n",
    "\t(\n",
    "\t\tp_partkey = l_partkey\n",
    "\t\tand p_brand = ':2'\n",
    "\t\tand p_container in ('MED BAG', 'MED BOX', 'MED PKG', 'MED PACK')\n",
    "\t\tand l_quantity >= :5 and l_quantity <= :5 + 10\n",
    "\t\tand p_size between 1 and 10\n",
    "\t\tand l_shipmode in ('AIR', 'AIR REG')\n",
    "\t\tand l_shipinstruct = 'DELIVER IN PERSON'\n",
    "\t)\n",
    "\tor\n",
    "\t(\n",
    "\t\tp_partkey = l_partkey\n",
    "\t\tand p_brand = ':3'\n",
    "\t\tand p_container in ('LG CASE', 'LG BOX', 'LG PACK', 'LG PKG')\n",
    "\t\tand l_quantity >= :6 and l_quantity <= :6 + 10\n",
    "\t\tand p_size between 1 and 15\n",
    "\t\tand l_shipmode in ('AIR', 'AIR REG')\n",
    "\t\tand l_shipinstruct = 'DELIVER IN PERSON'\n",
    "\t)\n",
    "```"
   ]
  },
  {
   "cell_type": "markdown",
   "metadata": {},
   "source": [
    "### pysdql - 19"
   ]
  },
  {
   "cell_type": "code",
   "execution_count": 38,
   "metadata": {},
   "outputs": [
    {
     "name": "stdout",
     "output_type": "stream",
     "text": [
      "let part = load[{<p_partkey: int, p_name: string, p_mfgr: string, p_brand: string, p_type: string, p_size: int, p_container: string, p_retailprice: double, p_comment: string> -> int}](\"T:/UG4-Proj/datasets/part.tbl\")\n",
      "let lineitem = load[{<l_orderkey: int, l_partkey: int, l_suppkey: int, l_linenumber: int, l_quantity: int, l_extendedprice: double, l_discount: double, l_tax: double, l_returnflag: string, l_linestatus: string, l_shipdate: date, l_commitdate: date, l_receiptdate: date, l_shipinstruct: string, l_shipmode: string, l_comment: string> -> int}](\"T:/UG4-Proj/datasets/lineitem.tbl\")\n",
      "let part_part = sum (<par_k, par_v> in part) { < p_partkey=par_k.p_partkey > -> { par_k -> par_v } }\n",
      "let Rm0 = sum (<lin_k, lin_v> in lineitem) if ((part_part(<p_partkey=lin_k.l_partkey>) != {  })) then sum(<p_k, p_v> in part_part(<p_partkey=lin_k.l_partkey>)) { concat(lin_k, p_k) -> lin_v * p_v } else {  }\n",
      "let rmp = sum (<r0_k, r0_v> in Rm0) if (((((((((((r0_k.p_brand == \"Brand#54\") && ((((r0_k.p_container == \"SM PKG\") || (r0_k.p_container == \"SM PACK\")) || (r0_k.p_container == \"SM CASE\")) || (r0_k.p_container == \"SM BOX\"))) && (1 <= r0_k.p_size)) && (r0_k.p_size <= 5)) && (1 <= r0_k.l_quantity)) && (r0_k.l_quantity <= 11)) && ((r0_k.l_shipmode == \"AIR REG\") || (r0_k.l_shipmode == \"AIR\"))) && (r0_k.l_shipinstruct == \"DELIVER IN PERSON\")) || ((((((((r0_k.p_brand == \"Brand#22\") && ((((r0_k.p_container == \"MED PACK\") || (r0_k.p_container == \"MED PKG\")) || (r0_k.p_container == \"MED BAG\")) || (r0_k.p_container == \"MED BOX\"))) && (1 <= r0_k.p_size)) && (r0_k.p_size <= 10)) && (18 <= r0_k.l_quantity)) && (r0_k.l_quantity <= 28)) && ((r0_k.l_shipmode == \"AIR REG\") || (r0_k.l_shipmode == \"AIR\"))) && (r0_k.l_shipinstruct == \"DELIVER IN PERSON\"))) || ((((((((r0_k.p_brand == \"Brand#33\") && ((((r0_k.p_container == \"LG PKG\") || (r0_k.p_container == \"LG PACK\")) || (r0_k.p_container == \"LG CASE\")) || (r0_k.p_container == \"LG BOX\"))) && (1 <= r0_k.p_size)) && (r0_k.p_size <= 15)) && (26 <= r0_k.l_quantity)) && (r0_k.l_quantity <= 36)) && ((r0_k.l_shipmode == \"AIR REG\") || (r0_k.l_shipmode == \"AIR\"))) && (r0_k.l_shipinstruct == \"DELIVER IN PERSON\")))) then { r0_k -> 1 } else {  }\n",
      "let tmp = sum (<r_k, r_v> in rmp) { concat(r_k, < tmp_val=(r_k.l_extendedprice * (1 - r_k.l_discount)) >) -> 1 }\n",
      "let tmp_val_sum = sum (<t_k, t_v> in tmp) t_k.tmp_val * t_v\n",
      "let tmpa = { < revenue=tmp_val_sum > -> 1 }\n",
      "let tmpb = sum (<ta_k, ta_v> in tmpa) { < revenue=ta_k.revenue > -> 1 }\n",
      "tmpb\n"
     ]
    },
    {
     "name": "stderr",
     "output_type": "stream",
     "text": [
      "[info] welcome to sbt 1.6.0 (Oracle Corporation Java 17)\n",
      "[info] loading project definition from T:\\sdql\\project\n",
      "[info] loading settings for project sdql from build.sbt ...\n",
      "[info] set current project to sdql (in build file:/T:/sdql/)\n",
      "[info] sbt server started at local:sbt-server-ec9dcaf7bfc5935dead3\n",
      "[warn] sbt server could not start in 10s\n",
      "\u001b[?2004h>....[info] running sdql.driver.Main interpret T:/UG4-Proj/output/Q00.sdql\n",
      "{<revenue = 57579.246> -> 1}\n",
      "[success] Total time: 1 s, completed 2022年7月30日 上午8:51:54\n",
      "========================================================\n",
      "pysdql execution time: 15.98100233078003\n",
      "export sdql script \"tpch-19.sdql\" to \"T:/UG4-Proj/output/tpch-19.sdql\"\n",
      "excute by:\n",
      "run interpret T:/UG4-Proj/output/tpch-19.sdql\n"
     ]
    },
    {
     "data": {
      "text/plain": [
       "{<revenue = 57579.246> -> 1}"
      ]
     },
     "execution_count": 38,
     "metadata": {},
     "output_type": "execute_result"
    }
   ],
   "source": [
    "# Try replace pysdql with pandas to get result in pandas!\n",
    "# import pandas as pd  # get answer in pandas\n",
    "import pysdql as pd  # get answer in pysdql\n",
    "\n",
    "# display all columns\n",
    "pd.set_option('display.max_columns', None)\n",
    "# display all rows\n",
    "pd.set_option('display.max_rows', None)\n",
    "\n",
    "var1 = 'Brand#54'\n",
    "var2 = 'Brand#22'\n",
    "var3 = 'Brand#33'\n",
    "var4 = 1\n",
    "var4_1 = var4 + 10\n",
    "var5 = 18\n",
    "var5_1 = var5 + 10\n",
    "var6 = 26\n",
    "var6_1 = var6 + 10\n",
    "\n",
    "lineitem = pd.read_table(rf'{data_path}/lineitem.tbl', sep='|', index_col=False, header=None, names=pysdql.LINEITEM_COLS)\n",
    "part = pd.read_table(rf'{data_path}/part.tbl', sep='|', index_col=False, header=None, names=pysdql.PART_COLS)\n",
    "\n",
    "r = lineitem.merge(part, left_on='l_partkey', right_on='p_partkey')\n",
    "\n",
    "r = r[((r['p_brand'] == var1)\n",
    "       & (r['p_container'].isin(['SM CASE', 'SM BOX', 'SM PACK', 'SM PKG']))\n",
    "       & (r['p_size'] >= 1) & (r['p_size'] <= 5)\n",
    "       & (r['l_quantity'] >= var4)\n",
    "       & (r['l_quantity'] <= var4_1)\n",
    "       & (r['l_shipmode'].isin(['AIR', 'AIR REG']))\n",
    "       & (r['l_shipinstruct'] == 'DELIVER IN PERSON')\n",
    "       )\n",
    "      | ((r['p_brand'] == var2)\n",
    "         & (r['p_container'].isin(['MED BAG', 'MED BOX', 'MED PKG', 'MED PACK']))\n",
    "         & (r['p_size'] >= 1) & (r['p_size'] <= 10)\n",
    "         & (r['l_quantity'] >= var5) & (r['l_quantity'] <= var5_1)\n",
    "         & (r['l_shipmode'].isin(['AIR', 'AIR REG']))\n",
    "         & (r['l_shipinstruct'] == 'DELIVER IN PERSON')\n",
    "         )\n",
    "      | ((r['p_brand'] == var3)\n",
    "         & (r['p_container'].isin(['LG CASE', 'LG BOX', 'LG PACK', 'LG PKG']))\n",
    "         & (r['p_size'] >= 1) & (r['p_size'] <= 15)\n",
    "         & (r['l_quantity'] >= var6)\n",
    "         & (r['l_quantity'] <= var6_1)\n",
    "         & (r['l_shipmode'].isin(['AIR', 'AIR REG']))\n",
    "         & (r['l_shipinstruct'] == 'DELIVER IN PERSON'))]\n",
    "\n",
    "r['tmp_val'] = r['l_extendedprice'] * (1 - r['l_discount'])\n",
    "r['revenue'] = r['tmp_val'].sum()\n",
    "\n",
    "r = r[['revenue']].drop_duplicates()\n",
    "\n",
    "print(r)\n",
    "\n",
    "pysdql.db_driver(db_path=sdql_database_path, name='tpch-19').run(r).export().to()"
   ]
  },
  {
   "cell_type": "markdown",
   "metadata": {},
   "source": [
    "### pandas - 19"
   ]
  },
  {
   "cell_type": "code",
   "execution_count": 39,
   "metadata": {},
   "outputs": [
    {
     "name": "stdout",
     "output_type": "stream",
     "text": [
      "       revenue\n",
      "428  57579.246\n"
     ]
    }
   ],
   "source": [
    "# Try replace pysdql with pandas to get result in pandas!\n",
    "import pandas as pd  # get answer in pandas\n",
    "# import pysdql as pd  # get answer in pysdql\n",
    "\n",
    "# display all columns\n",
    "pd.set_option('display.max_columns', None)\n",
    "# display all rows\n",
    "pd.set_option('display.max_rows', None)\n",
    "\n",
    "var1 = 'Brand#54'\n",
    "var2 = 'Brand#22'\n",
    "var3 = 'Brand#33'\n",
    "var4 = 1\n",
    "var4_1 = var4 + 10\n",
    "var5 = 18\n",
    "var5_1 = var5 + 10\n",
    "var6 = 26\n",
    "var6_1 = var6 + 10\n",
    "\n",
    "lineitem = pd.read_table(rf'{data_path}/lineitem.tbl', sep='|', index_col=False, header=None, names=pysdql.LINEITEM_COLS)\n",
    "part = pd.read_table(rf'{data_path}/part.tbl', sep='|', index_col=False, header=None, names=pysdql.PART_COLS)\n",
    "\n",
    "r = lineitem.merge(part, left_on='l_partkey', right_on='p_partkey')\n",
    "\n",
    "r = r[((r['p_brand'] == var1)\n",
    "       & (r['p_container'].isin(['SM CASE', 'SM BOX', 'SM PACK', 'SM PKG']))\n",
    "       & (r['p_size'] >= 1) & (r['p_size'] <= 5)\n",
    "       & (r['l_quantity'] >= var4)\n",
    "       & (r['l_quantity'] <= var4_1)\n",
    "       & (r['l_shipmode'].isin(['AIR', 'AIR REG']))\n",
    "       & (r['l_shipinstruct'] == 'DELIVER IN PERSON')\n",
    "       )\n",
    "      | ((r['p_brand'] == var2)\n",
    "         & (r['p_container'].isin(['MED BAG', 'MED BOX', 'MED PKG', 'MED PACK']))\n",
    "         & (r['p_size'] >= 1) & (r['p_size'] <= 10)\n",
    "         & (r['l_quantity'] >= var5) & (r['l_quantity'] <= var5_1)\n",
    "         & (r['l_shipmode'].isin(['AIR', 'AIR REG']))\n",
    "         & (r['l_shipinstruct'] == 'DELIVER IN PERSON')\n",
    "         )\n",
    "      | ((r['p_brand'] == var3)\n",
    "         & (r['p_container'].isin(['LG CASE', 'LG BOX', 'LG PACK', 'LG PKG']))\n",
    "         & (r['p_size'] >= 1) & (r['p_size'] <= 15)\n",
    "         & (r['l_quantity'] >= var6)\n",
    "         & (r['l_quantity'] <= var6_1)\n",
    "         & (r['l_shipmode'].isin(['AIR', 'AIR REG']))\n",
    "         & (r['l_shipinstruct'] == 'DELIVER IN PERSON'))]\n",
    "\n",
    "r['tmp_val'] = r['l_extendedprice'] * (1 - r['l_discount'])\n",
    "r['revenue'] = r['tmp_val'].sum()\n",
    "\n",
    "r = r[['revenue']].drop_duplicates()\n",
    "\n",
    "print(r)\n",
    "\n",
    "pysdql.db_driver(db_path=sdql_database_path, name='tpch-19').run(r).export().to()"
   ]
  },
  {
   "cell_type": "markdown",
   "metadata": {},
   "source": [
    "# TPCH - 20 ✅"
   ]
  },
  {
   "cell_type": "markdown",
   "metadata": {},
   "source": [
    "### SQL - 20"
   ]
  },
  {
   "cell_type": "markdown",
   "metadata": {},
   "source": [
    "```\n",
    "select\n",
    "\ts_name,\n",
    "\ts_address\n",
    "from\n",
    "\tsupplier,\n",
    "\tnation\n",
    "where\n",
    "\ts_suppkey in (\n",
    "\t\tselect\n",
    "\t\t\tps_suppkey\n",
    "\t\tfrom\n",
    "\t\t\tpartsupp,\n",
    "\t\t\t(\n",
    "\t\t\t\tselect\n",
    "\t\t\t\t\tl_partkey agg_partkey,\n",
    "\t\t\t\t\tl_suppkey agg_suppkey,\n",
    "\t\t\t\t\t0.5 * sum(l_quantity) AS agg_quantity\n",
    "\t\t\t\tfrom\n",
    "\t\t\t\t\tlineitem\n",
    "\t\t\t\twhere\n",
    "\t\t\t\t\tl_shipdate >= date ':2'\n",
    "\t\t\t\t\tand l_shipdate < date ':2' + interval '1' year\n",
    "\t\t\t\tgroup by\n",
    "\t\t\t\t\tl_partkey,\n",
    "\t\t\t\t\tl_suppkey\n",
    "\t\t\t) agg_lineitem\n",
    "\t\twhere\n",
    "\t\t\tagg_partkey = ps_partkey\n",
    "\t\t\tand agg_suppkey = ps_suppkey\n",
    "\t\t\tand ps_partkey in (\n",
    "\t\t\t\tselect\n",
    "\t\t\t\t\tp_partkey\n",
    "\t\t\t\tfrom\n",
    "\t\t\t\t\tpart\n",
    "\t\t\t\twhere\n",
    "\t\t\t\t\tp_name like ':1%'\n",
    "\t\t\t)\n",
    "\t\t\tand ps_availqty > agg_quantity\n",
    "\t)\n",
    "\tand s_nationkey = n_nationkey\n",
    "\tand n_name = ':3'\n",
    "```"
   ]
  },
  {
   "cell_type": "markdown",
   "metadata": {},
   "source": [
    "### pysdql - 20"
   ]
  },
  {
   "cell_type": "code",
   "execution_count": 40,
   "metadata": {},
   "outputs": [
    {
     "name": "stdout",
     "output_type": "stream",
     "text": [
      "let part = load[{<p_partkey: int, p_name: string, p_mfgr: string, p_brand: string, p_type: string, p_size: int, p_container: string, p_retailprice: double, p_comment: string> -> int}](\"T:/UG4-Proj/datasets/part.tbl\")\n",
      "let pmp = sum (<par_k, par_v> in part) if (ext(`StrStartsWith`, par_k.p_name, \"orange\")) then { par_k -> 1 } else {  }\n",
      "let sub_p = pmp\n",
      "let lineitem = load[{<l_orderkey: int, l_partkey: int, l_suppkey: int, l_linenumber: int, l_quantity: int, l_extendedprice: double, l_discount: double, l_tax: double, l_returnflag: string, l_linestatus: string, l_shipdate: date, l_commitdate: date, l_receiptdate: date, l_shipinstruct: string, l_shipmode: string, l_comment: string> -> int}](\"T:/UG4-Proj/datasets/lineitem.tbl\")\n",
      "let lmp = sum (<lin_k, lin_v> in lineitem) if (((date(19950101) <= lin_k.l_shipdate) && (lin_k.l_shipdate < date(19960101)))) then { lin_k -> 1 } else {  }\n",
      "let sub_l = lmp\n",
      "let tmp = sum (<sl_k, sl_v> in sub_l) { < l_partkey=sl_k.l_partkey, l_suppkey=sl_k.l_suppkey > -> < tmp_val=promote[nullable[real]](sl_k.l_quantity * sl_v) > }\n",
      "let agg_sub_l = sum (<t_k, t_v> in tmp) { < l_partkey=t_k.l_partkey, l_suppkey=t_k.l_suppkey, tmp_val=promote[real](t_v.tmp_val) > -> 1 }\n",
      "let amp = sum (<asl_k, asl_v> in agg_sub_l) { concat(asl_k, < agg_partkey=asl_k.l_partkey >) -> 1 }\n",
      "let tmpa = sum (<a_k, a_v> in amp) { concat(a_k, < agg_suppkey=a_k.l_suppkey >) -> 1 }\n",
      "let tmpb = sum (<ta_k, ta_v> in tmpa) { concat(ta_k, < agg_quantity=(ta_k.tmp_val * 0.5) >) -> 1 }\n",
      "let agg_lineitem = tmpb\n",
      "let partsupp = load[{<ps_partkey: int, ps_suppkey: int, ps_availqty: int, ps_supplycost: double, ps_comment: string> -> int}](\"T:/UG4-Proj/datasets/partsupp.tbl\")\n",
      "let part_agg_lineitem = sum (<al_k, al_v> in agg_lineitem) { < agg_partkey=al_k.agg_partkey, agg_suppkey=al_k.agg_suppkey > -> { al_k -> al_v } }\n",
      "let Rm0 = sum (<psup_k, psup_v> in partsupp) if ((part_agg_lineitem(< agg_partkey=psup_k.ps_partkey, agg_suppkey=psup_k.ps_suppkey >) != {  })) then sum(<p_k, p_v> in part_agg_lineitem(< agg_partkey=psup_k.ps_partkey, agg_suppkey=psup_k.ps_suppkey >)) { concat(psup_k, p_k) -> psup_v * p_v } else {  }\n",
      "let rmp = sum (<r0_k, r0_v> in Rm0) if ((r0_k.agg_quantity < r0_k.ps_availqty)) then { r0_k -> 1 } else {  }\n",
      "let tmpc = sum (<r_k, r_v> in rmp) sum (<sp_k, sp_v> in sub_p) if ((r_k.ps_partkey == sp_k.p_partkey)) then { r_k -> 1 } else {  }\n",
      "let nation = load[{<n_nationkey: int, n_name: string, n_regionkey: int, n_comment: string> -> int}](\"T:/UG4-Proj/datasets/nation.tbl\")\n",
      "let nmp = sum (<nat_k, nat_v> in nation) if ((nat_k.n_name == \"UNITED STATES\")) then { nat_k -> 1 } else {  }\n",
      "let sub_n = nmp\n",
      "let supplier = load[{<s_suppkey: int, s_name: string, s_address: string, s_nationkey: int, s_phone: string, s_acctbal: double, s_comment: string> -> int}](\"T:/UG4-Proj/datasets/supplier.tbl\")\n",
      "let part_sub_n = sum (<sn_k, sn_v> in sub_n) { < n_nationkey=sn_k.n_nationkey > -> { sn_k -> sn_v } }\n",
      "let Rm0 = sum (<sup_k, sup_v> in supplier) if ((part_sub_n(<n_nationkey=sup_k.s_nationkey>) != {  })) then sum(<p_k, p_v> in part_sub_n(<n_nationkey=sup_k.s_nationkey>)) { concat(sup_k, p_k) -> sup_v * p_v } else {  }\n",
      "let tmpd = sum (<r0_k, r0_v> in Rm0) sum (<tc_k, tc_v> in tmpc) if ((r0_k.s_suppkey == tc_k.ps_suppkey)) then { r0_k -> 1 } else {  }\n",
      "let tmpe = sum (<td_k, td_v> in tmpd) { < s_name=td_k.s_name, s_address=td_k.s_address > -> 1 }\n",
      "tmpe\n"
     ]
    },
    {
     "name": "stderr",
     "output_type": "stream",
     "text": [
      "[info] welcome to sbt 1.6.0 (Oracle Corporation Java 17)\n",
      "[info] loading project definition from T:\\sdql\\project\n",
      "[info] loading settings for project sdql from build.sbt ...\n",
      "[info] set current project to sdql (in build file:/T:/sdql/)\n",
      "[info] sbt server started at local:sbt-server-ec9dcaf7bfc5935dead3\n",
      "[warn] sbt server could not start in 10s\n",
      "\u001b[?2004h>....[info] running sdql.driver.Main interpret T:/UG4-Proj/output/Q00.sdql\n",
      "{<s_name = Supplier#000000010, s_address = Saygah3gYWMp72i PY> -> 1}\n",
      "[success] Total time: 1 s, completed 2022年7月30日 上午8:52:10\n",
      "========================================================\n",
      "pysdql execution time: 16.032318353652954\n",
      "export sdql script \"tpch-20.sdql\" to \"T:/UG4-Proj/output/tpch-20.sdql\"\n",
      "excute by:\n",
      "run interpret T:/UG4-Proj/output/tpch-20.sdql\n"
     ]
    },
    {
     "data": {
      "text/plain": [
       "{<s_name = Supplier#000000010, s_address = Saygah3gYWMp72i PY> -> 1}"
      ]
     },
     "execution_count": 40,
     "metadata": {},
     "output_type": "execute_result"
    }
   ],
   "source": [
    "# Try replace pysdql with pandas to get result in pandas!\n",
    "# import pandas as pd  # get answer in pandas\n",
    "import pysdql as pd  # get answer in pysdql\n",
    "\n",
    "# display all columns\n",
    "pd.set_option('display.max_columns', None)\n",
    "# display all rows\n",
    "pd.set_option('display.max_rows', None)\n",
    "\n",
    "var1 = 'orange'\n",
    "var2 = '1995-01-01'\n",
    "var2_1 = '1996-01-01'  # var2 + 1 year\n",
    "var3 = 'UNITED STATES'\n",
    "\n",
    "lineitem = pd.read_table(rf'{data_path}/lineitem.tbl', sep='|', index_col=False, header=None, names=pysdql.LINEITEM_COLS)\n",
    "part = pd.read_table(rf'{data_path}/part.tbl', sep='|', index_col=False, header=None, names=pysdql.PART_COLS)\n",
    "partsupp = pd.read_table(rf'{data_path}/partsupp.tbl', sep='|', index_col=False, header=None, names=pysdql.PARTSUPP_COLS)\n",
    "supplier = pd.read_table(rf'{data_path}/supplier.tbl', sep='|', index_col=False, header=None, names=pysdql.SUPPLIER_COLS)\n",
    "nation = pd.read_table(rf'{data_path}/nation.tbl', sep='|', index_col=False, header=None, names=pysdql.NATION_COLS)\n",
    "\n",
    "sub_l = lineitem[(lineitem['l_shipdate'] >= var2) & (lineitem['l_shipdate'] < var2_1)]\n",
    "sub_l.columns.name = 'sub_l'\n",
    "\n",
    "agg_lineitem = sub_l.groupby(['l_partkey', 'l_suppkey'], as_index=False).agg(tmp_val=('l_quantity', 'sum'))\n",
    "\n",
    "agg_lineitem['agg_partkey'] = agg_lineitem['l_partkey']\n",
    "agg_lineitem['agg_suppkey'] = agg_lineitem['l_suppkey']\n",
    "agg_lineitem['agg_quantity'] = agg_lineitem['tmp_val'] * 0.5\n",
    "\n",
    "agg_lineitem.columns.name = 'agg_lineitem'\n",
    "\n",
    "r = partsupp.merge(agg_lineitem, left_on=['ps_partkey', 'ps_suppkey'], right_on=['agg_partkey', 'agg_suppkey'])\n",
    "r = r[r['ps_availqty'] > r['agg_quantity']]\n",
    "\n",
    "sub_p = part[part['p_name'].str.startswith(var1)]\n",
    "sub_p.columns.name = 'sub_p'\n",
    "\n",
    "r = r[(r['ps_partkey'].isin(sub_p['p_partkey']))]\n",
    "\n",
    "sub_n = nation[(nation['n_name'] == var3)]\n",
    "sub_n.columns.name = 'sub_n'\n",
    "\n",
    "s = supplier.merge(sub_n, left_on='s_nationkey', right_on='n_nationkey')\n",
    "\n",
    "s = s[(s['s_suppkey'].isin(r['ps_suppkey']))]\n",
    "\n",
    "s = s[['s_name', 's_address']]\n",
    "\n",
    "print(s)\n",
    "\n",
    "pysdql.db_driver(db_path=sdql_database_path, name='tpch-20').run(s).export().to()"
   ]
  },
  {
   "cell_type": "markdown",
   "metadata": {},
   "source": [
    "### pandas - 20"
   ]
  },
  {
   "cell_type": "code",
   "execution_count": 41,
   "metadata": {},
   "outputs": [
    {
     "name": "stdout",
     "output_type": "stream",
     "text": [
      "               s_name           s_address\n",
      "0  Supplier#000000010  Saygah3gYWMp72i PY\n"
     ]
    }
   ],
   "source": [
    "# Try replace pysdql with pandas to get result in pandas!\n",
    "import pandas as pd  # get answer in pandas\n",
    "# import pysdql as pd  # get answer in pysdql\n",
    "\n",
    "# display all columns\n",
    "pd.set_option('display.max_columns', None)\n",
    "# display all rows\n",
    "pd.set_option('display.max_rows', None)\n",
    "\n",
    "var1 = 'orange'\n",
    "var2 = '1995-01-01'\n",
    "var2_1 = '1996-01-01'  # var2 + 1 year\n",
    "var3 = 'UNITED STATES'\n",
    "\n",
    "lineitem = pd.read_table(rf'{data_path}/lineitem.tbl', sep='|', index_col=False, header=None, names=pysdql.LINEITEM_COLS)\n",
    "part = pd.read_table(rf'{data_path}/part.tbl', sep='|', index_col=False, header=None, names=pysdql.PART_COLS)\n",
    "partsupp = pd.read_table(rf'{data_path}/partsupp.tbl', sep='|', index_col=False, header=None, names=pysdql.PARTSUPP_COLS)\n",
    "supplier = pd.read_table(rf'{data_path}/supplier.tbl', sep='|', index_col=False, header=None, names=pysdql.SUPPLIER_COLS)\n",
    "nation = pd.read_table(rf'{data_path}/nation.tbl', sep='|', index_col=False, header=None, names=pysdql.NATION_COLS)\n",
    "\n",
    "sub_l = lineitem[(lineitem['l_shipdate'] >= var2) & (lineitem['l_shipdate'] < var2_1)]\n",
    "sub_l.columns.name = 'sub_l'\n",
    "\n",
    "agg_lineitem = sub_l.groupby(['l_partkey', 'l_suppkey'], as_index=False).agg(tmp_val=('l_quantity', 'sum'))\n",
    "\n",
    "agg_lineitem['agg_partkey'] = agg_lineitem['l_partkey']\n",
    "agg_lineitem['agg_suppkey'] = agg_lineitem['l_suppkey']\n",
    "agg_lineitem['agg_quantity'] = agg_lineitem['tmp_val'] * 0.5\n",
    "\n",
    "agg_lineitem.columns.name = 'agg_lineitem'\n",
    "\n",
    "r = partsupp.merge(agg_lineitem, left_on=['ps_partkey', 'ps_suppkey'], right_on=['agg_partkey', 'agg_suppkey'])\n",
    "r = r[r['ps_availqty'] > r['agg_quantity']]\n",
    "\n",
    "sub_p = part[part['p_name'].str.startswith(var1)]\n",
    "sub_p.columns.name = 'sub_p'\n",
    "\n",
    "r = r[(r['ps_partkey'].isin(sub_p['p_partkey']))]\n",
    "\n",
    "sub_n = nation[(nation['n_name'] == var3)]\n",
    "sub_n.columns.name = 'sub_n'\n",
    "\n",
    "s = supplier.merge(sub_n, left_on='s_nationkey', right_on='n_nationkey')\n",
    "\n",
    "s = s[(s['s_suppkey'].isin(r['ps_suppkey']))]\n",
    "\n",
    "s = s[['s_name', 's_address']]\n",
    "\n",
    "print(s)\n",
    "\n",
    "pysdql.db_driver(db_path=sdql_database_path, name='tpch-20').run(s).export().to()"
   ]
  },
  {
   "cell_type": "markdown",
   "metadata": {},
   "source": [
    "# TPCH - 21 ✅"
   ]
  },
  {
   "cell_type": "markdown",
   "metadata": {},
   "source": [
    "### SQL - 21"
   ]
  },
  {
   "cell_type": "markdown",
   "metadata": {},
   "source": [
    "```\n",
    "select\n",
    "\ts_name,\n",
    "\tcount(*) as numwait\n",
    "from\n",
    "\tsupplier,\n",
    "\tlineitem l1,\n",
    "\torders,\n",
    "\tnation\n",
    "where\n",
    "\ts_suppkey = l1.l_suppkey\n",
    "\tand o_orderkey = l1.l_orderkey\n",
    "\tand o_orderstatus = 'F'\n",
    "\tand l1.l_receiptdate > l1.l_commitdate\n",
    "\tand exists (\n",
    "\t\tselect\n",
    "\t\t\t*\n",
    "\t\tfrom\n",
    "\t\t\tlineitem l2\n",
    "\t\twhere\n",
    "\t\t\tl2.l_orderkey = l1.l_orderkey\n",
    "\t\t\tand l2.l_suppkey <> l1.l_suppkey\n",
    "\t)\n",
    "\tand not exists (\n",
    "\t\tselect\n",
    "\t\t\t*\n",
    "\t\tfrom\n",
    "\t\t\tlineitem l3\n",
    "\t\twhere\n",
    "\t\t\tl3.l_orderkey = l1.l_orderkey\n",
    "\t\t\tand l3.l_suppkey <> l1.l_suppkey\n",
    "\t\t\tand l3.l_receiptdate > l3.l_commitdate\n",
    "\t)\n",
    "\tand s_nationkey = n_nationkey\n",
    "\tand n_name = ':1'\n",
    "group by\n",
    "\ts_name\n",
    "```"
   ]
  },
  {
   "cell_type": "markdown",
   "metadata": {},
   "source": [
    "### pysdql - 21"
   ]
  },
  {
   "cell_type": "code",
   "execution_count": 42,
   "metadata": {
    "pycharm": {
     "name": "#%%\n"
    }
   },
   "outputs": [
    {
     "name": "stdout",
     "output_type": "stream",
     "text": [
      "let lineitem = load[{<l3_orderkey: int, l3_partkey: int, l3_suppkey: int, l3_linenumber: int, l3_quantity: int, l3_extendedprice: double, l3_discount: double, l3_tax: double, l3_returnflag: string, l3_linestatus: string, l3_shipdate: date, l3_commitdate: date, l3_receiptdate: date, l3_shipinstruct: string, l3_shipmode: string, l3_comment: string> -> int}](\"T:/UG4-Proj/datasets/lineitem.tbl\")\n",
      "let l3 = lineitem\n",
      "let lineitem = load[{<l2_orderkey: int, l2_partkey: int, l2_suppkey: int, l2_linenumber: int, l2_quantity: int, l2_extendedprice: double, l2_discount: double, l2_tax: double, l2_returnflag: string, l2_linestatus: string, l2_shipdate: date, l2_commitdate: date, l2_receiptdate: date, l2_shipinstruct: string, l2_shipmode: string, l2_comment: string> -> int}](\"T:/UG4-Proj/datasets/lineitem.tbl\")\n",
      "let l2 = lineitem\n",
      "let orders = load[{<o_orderkey: int, o_custkey: int, o_orderstatus: string, o_totalprice: double, o_orderdate: date, o_orderpriority: string, o_clerk: string, o_shippriority: int, o_comment: string> -> int}](\"T:/UG4-Proj/datasets/orders.tbl\")\n",
      "let omp = sum (<ord_k, ord_v> in orders) if ((ord_k.o_orderstatus == \"F\")) then { ord_k -> 1 } else {  }\n",
      "let sub_o = omp\n",
      "let lineitem = load[{<l1_orderkey: int, l1_partkey: int, l1_suppkey: int, l1_linenumber: int, l1_quantity: int, l1_extendedprice: double, l1_discount: double, l1_tax: double, l1_returnflag: string, l1_linestatus: string, l1_shipdate: date, l1_commitdate: date, l1_receiptdate: date, l1_shipinstruct: string, l1_shipmode: string, l1_comment: string> -> int}](\"T:/UG4-Proj/datasets/lineitem.tbl\")\n",
      "let l1 = lineitem\n",
      "let lmp = sum (<l1_k, l1_v> in l1) if ((l1_k.l1_commitdate < l1_k.l1_receiptdate)) then { l1_k -> 1 } else {  }\n",
      "let sub_l1 = lmp\n",
      "let nation = load[{<n_nationkey: int, n_name: string, n_regionkey: int, n_comment: string> -> int}](\"T:/UG4-Proj/datasets/nation.tbl\")\n",
      "let nmp = sum (<nat_k, nat_v> in nation) if ((nat_k.n_name == \"UNITED KINGDOM\")) then { nat_k -> 1 } else {  }\n",
      "let sub_n = nmp\n",
      "let supplier = load[{<s_suppkey: int, s_name: string, s_address: string, s_nationkey: int, s_phone: string, s_acctbal: double, s_comment: string> -> int}](\"T:/UG4-Proj/datasets/supplier.tbl\")\n",
      "let part_sub_n = sum (<sn_k, sn_v> in sub_n) { < n_nationkey=sn_k.n_nationkey > -> { sn_k -> sn_v } }\n",
      "let Rm0 = sum (<sup_k, sup_v> in supplier) if ((part_sub_n(<n_nationkey=sup_k.s_nationkey>) != {  })) then sum(<p_k, p_v> in part_sub_n(<n_nationkey=sup_k.s_nationkey>)) { concat(sup_k, p_k) -> sup_v * p_v } else {  }\n",
      "let join_ns = Rm0\n",
      "let part_sub_l1 = sum (<s1_k, s1_v> in sub_l1) { < l1_suppkey=s1_k.l1_suppkey > -> { s1_k -> s1_v } }\n",
      "let Rm1 = sum (<jn_k, jn_v> in join_ns) if ((part_sub_l1(<l1_suppkey=jn_k.s_suppkey>) != {  })) then sum(<p_k, p_v> in part_sub_l1(<l1_suppkey=jn_k.s_suppkey>)) { concat(jn_k, p_k) -> jn_v * p_v } else {  }\n",
      "let part_sub_o = sum (<so_k, so_v> in sub_o) { < o_orderkey=so_k.o_orderkey > -> { so_k -> so_v } }\n",
      "let Rm2 = sum (<r1_k, r1_v> in Rm1) if ((part_sub_o(<o_orderkey=r1_k.l1_orderkey>) != {  })) then sum(<p_k, p_v> in part_sub_o(<o_orderkey=r1_k.l1_orderkey>)) { concat(r1_k, p_k) -> r1_v * p_v } else {  }\n",
      "let part_l2 = sum (<l2_k, l2_v> in l2) { < l2_orderkey=l2_k.l2_orderkey > -> { l2_k -> l2_v } }\n",
      "let Rm3 = sum (<r2_k, r2_v> in Rm2) if ((part_l2(<l2_orderkey=r2_k.l1_orderkey>) != {  })) then sum(<p_k, p_v> in part_l2(<l2_orderkey=r2_k.l1_orderkey>)) { concat(r2_k, p_k) -> r2_v * p_v } else {  }\n",
      "let rmp = sum (<r3_k, r3_v> in Rm3) if ((r3_k.l1_suppkey != r3_k.l2_suppkey)) then { concat(r3_k, < exists_l2=1 >) -> 1 } else { concat(r3_k, < exists_l2=0 >) -> 1 }\n",
      "let tmpa = sum (<r_k, r_v> in rmp) { < s_suppkey=r_k.s_suppkey, s_name=r_k.s_name, s_address=r_k.s_address, s_nationkey=r_k.s_nationkey, s_phone=r_k.s_phone, s_acctbal=r_k.s_acctbal, s_comment=r_k.s_comment, o_orderkey=r_k.o_orderkey, o_custkey=r_k.o_custkey, o_orderstatus=r_k.o_orderstatus, o_totalprice=r_k.o_totalprice, o_orderdate=r_k.o_orderdate, o_orderpriority=r_k.o_orderpriority, o_clerk=r_k.o_clerk, o_shippriority=r_k.o_shippriority, o_comment=r_k.o_comment, n_nationkey=r_k.n_nationkey, n_name=r_k.n_name, n_regionkey=r_k.n_regionkey, n_comment=r_k.n_comment, l1_orderkey=r_k.l1_orderkey, l1_partkey=r_k.l1_partkey, l1_suppkey=r_k.l1_suppkey, l1_linenumber=r_k.l1_linenumber, l1_quantity=r_k.l1_quantity, l1_extendedprice=r_k.l1_extendedprice, l1_discount=r_k.l1_discount, l1_tax=r_k.l1_tax, l1_returnflag=r_k.l1_returnflag, l1_linestatus=r_k.l1_linestatus, l1_shipdate=r_k.l1_shipdate, l1_commitdate=r_k.l1_commitdate, l1_receiptdate=r_k.l1_receiptdate, l1_shipinstruct=r_k.l1_shipinstruct, l1_shipmode=r_k.l1_shipmode, l1_comment=r_k.l1_comment > -> < exists_l2=promote[nullable[real]](r_k.exists_l2 * r_v) > }\n",
      "let agg_rmp = sum (<ta_k, ta_v> in tmpa) { < s_suppkey=ta_k.s_suppkey, s_name=ta_k.s_name, s_address=ta_k.s_address, s_nationkey=ta_k.s_nationkey, s_phone=ta_k.s_phone, s_acctbal=ta_k.s_acctbal, s_comment=ta_k.s_comment, o_orderkey=ta_k.o_orderkey, o_custkey=ta_k.o_custkey, o_orderstatus=ta_k.o_orderstatus, o_totalprice=ta_k.o_totalprice, o_orderdate=ta_k.o_orderdate, o_orderpriority=ta_k.o_orderpriority, o_clerk=ta_k.o_clerk, o_shippriority=ta_k.o_shippriority, o_comment=ta_k.o_comment, n_nationkey=ta_k.n_nationkey, n_name=ta_k.n_name, n_regionkey=ta_k.n_regionkey, n_comment=ta_k.n_comment, l1_orderkey=ta_k.l1_orderkey, l1_partkey=ta_k.l1_partkey, l1_suppkey=ta_k.l1_suppkey, l1_linenumber=ta_k.l1_linenumber, l1_quantity=ta_k.l1_quantity, l1_extendedprice=ta_k.l1_extendedprice, l1_discount=ta_k.l1_discount, l1_tax=ta_k.l1_tax, l1_returnflag=ta_k.l1_returnflag, l1_linestatus=ta_k.l1_linestatus, l1_shipdate=ta_k.l1_shipdate, l1_commitdate=ta_k.l1_commitdate, l1_receiptdate=ta_k.l1_receiptdate, l1_shipinstruct=ta_k.l1_shipinstruct, l1_shipmode=ta_k.l1_shipmode, l1_comment=ta_k.l1_comment, exists_l2=promote[real](ta_v.exists_l2) > -> 1 }\n",
      "let amp = sum (<ar_k, ar_v> in agg_rmp) if ((0 < ar_k.exists_l2)) then { ar_k -> 1 } else {  }\n",
      "let part_l3 = sum (<l3_k, l3_v> in l3) { < l3_orderkey=l3_k.l3_orderkey > -> { l3_k -> l3_v } }\n",
      "let Rm0 = sum (<a_k, a_v> in amp) if ((part_l3(<l3_orderkey=a_k.l1_orderkey>) != {  })) then sum(<p_k, p_v> in part_l3(<l3_orderkey=a_k.l1_orderkey>)) { concat(a_k, p_k) -> a_v * p_v } else {  }\n",
      "let rmp = sum (<r0_k, r0_v> in Rm0) if (((r0_k.l1_suppkey != r0_k.l3_suppkey) && (r0_k.l3_commitdate < r0_k.l3_receiptdate))) then { concat(r0_k, < exists_l3=1 >) -> 1 } else { concat(r0_k, < exists_l3=0 >) -> 1 }\n",
      "let tmpc = sum (<r_k, r_v> in rmp) { < s_suppkey=r_k.s_suppkey, s_name=r_k.s_name, s_address=r_k.s_address, s_nationkey=r_k.s_nationkey, s_phone=r_k.s_phone, s_acctbal=r_k.s_acctbal, s_comment=r_k.s_comment, o_orderkey=r_k.o_orderkey, o_custkey=r_k.o_custkey, o_orderstatus=r_k.o_orderstatus, o_totalprice=r_k.o_totalprice, o_orderdate=r_k.o_orderdate, o_orderpriority=r_k.o_orderpriority, o_clerk=r_k.o_clerk, o_shippriority=r_k.o_shippriority, o_comment=r_k.o_comment, n_nationkey=r_k.n_nationkey, n_name=r_k.n_name, n_regionkey=r_k.n_regionkey, n_comment=r_k.n_comment, l1_orderkey=r_k.l1_orderkey, l1_partkey=r_k.l1_partkey, l1_suppkey=r_k.l1_suppkey, l1_linenumber=r_k.l1_linenumber, l1_quantity=r_k.l1_quantity, l1_extendedprice=r_k.l1_extendedprice, l1_discount=r_k.l1_discount, l1_tax=r_k.l1_tax, l1_returnflag=r_k.l1_returnflag, l1_linestatus=r_k.l1_linestatus, l1_shipdate=r_k.l1_shipdate, l1_commitdate=r_k.l1_commitdate, l1_receiptdate=r_k.l1_receiptdate, l1_shipinstruct=r_k.l1_shipinstruct, l1_shipmode=r_k.l1_shipmode, l1_comment=r_k.l1_comment > -> < exists_l3=promote[nullable[real]](r_k.exists_l3 * r_v) > }\n",
      "let agg_rmp = sum (<tc_k, tc_v> in tmpc) { < s_suppkey=tc_k.s_suppkey, s_name=tc_k.s_name, s_address=tc_k.s_address, s_nationkey=tc_k.s_nationkey, s_phone=tc_k.s_phone, s_acctbal=tc_k.s_acctbal, s_comment=tc_k.s_comment, o_orderkey=tc_k.o_orderkey, o_custkey=tc_k.o_custkey, o_orderstatus=tc_k.o_orderstatus, o_totalprice=tc_k.o_totalprice, o_orderdate=tc_k.o_orderdate, o_orderpriority=tc_k.o_orderpriority, o_clerk=tc_k.o_clerk, o_shippriority=tc_k.o_shippriority, o_comment=tc_k.o_comment, n_nationkey=tc_k.n_nationkey, n_name=tc_k.n_name, n_regionkey=tc_k.n_regionkey, n_comment=tc_k.n_comment, l1_orderkey=tc_k.l1_orderkey, l1_partkey=tc_k.l1_partkey, l1_suppkey=tc_k.l1_suppkey, l1_linenumber=tc_k.l1_linenumber, l1_quantity=tc_k.l1_quantity, l1_extendedprice=tc_k.l1_extendedprice, l1_discount=tc_k.l1_discount, l1_tax=tc_k.l1_tax, l1_returnflag=tc_k.l1_returnflag, l1_linestatus=tc_k.l1_linestatus, l1_shipdate=tc_k.l1_shipdate, l1_commitdate=tc_k.l1_commitdate, l1_receiptdate=tc_k.l1_receiptdate, l1_shipinstruct=tc_k.l1_shipinstruct, l1_shipmode=tc_k.l1_shipmode, l1_comment=tc_k.l1_comment, exists_l3=promote[real](tc_v.exists_l3) > -> 1 }\n",
      "let amp = sum (<ar_k, ar_v> in agg_rmp) if ((ar_k.exists_l3 == 0)) then { ar_k -> 1 } else {  }\n",
      "let tmpa = sum (<a_k, a_v> in amp) { < s_name=a_k.s_name > -> < numwait=a_v > }\n",
      "let agg_amp = sum (<ta_k, ta_v> in tmpa) { < s_name=ta_k.s_name, numwait=ta_v.numwait > -> 1 }\n",
      "agg_amp\n"
     ]
    },
    {
     "name": "stderr",
     "output_type": "stream",
     "text": [
      "[info] welcome to sbt 1.6.0 (Oracle Corporation Java 17)\n",
      "[info] loading project definition from T:\\sdql\\project\n",
      "[info] loading settings for project sdql from build.sbt ...\n",
      "[info] set current project to sdql (in build file:/T:/sdql/)\n",
      "[info] sbt server started at local:sbt-server-ec9dcaf7bfc5935dead3\n",
      "[warn] sbt server could not start in 10s\n",
      "\u001b[?2004h>....[info] running sdql.driver.Main interpret T:/UG4-Proj/output/Q00.sdql\n",
      "{<s_name = Supplier#000000007, numwait = 17> -> 1}\n",
      "[success] Total time: 4 s, completed 2022年7月30日 上午8:52:28\n",
      "========================================================\n",
      "pysdql execution time: 18.250247955322266\n",
      "export sdql script \"tpch-21.sdql\" to \"T:/UG4-Proj/output/tpch-21.sdql\"\n",
      "excute by:\n",
      "run interpret T:/UG4-Proj/output/tpch-21.sdql\n"
     ]
    },
    {
     "data": {
      "text/plain": [
       "{<s_name = Supplier#000000007, numwait = 17> -> 1}"
      ]
     },
     "execution_count": 42,
     "metadata": {},
     "output_type": "execute_result"
    }
   ],
   "source": [
    "# Try replace pysdql with pandas to get result in pandas!\n",
    "# import pandas as pd  # get answer in pandas\n",
    "# import numpy as np  # for numpy.select(), must use together with pandas\n",
    "import pysdql as pd  # get answer in pysdql\n",
    "import pysdqlnp as np  # for pysdqlnp.select(), must use together with pysdql\n",
    "\n",
    "# display all columns\n",
    "pd.set_option('display.max_columns', None)\n",
    "# display all rows\n",
    "pd.set_option('display.max_rows', None)\n",
    "\n",
    "var1 = 'UNITED KINGDOM'\n",
    "\n",
    "supplier = pd.read_table(rf'{data_path}/supplier.tbl', sep='|', index_col=False, header=None, names=pysdql.SUPPLIER_COLS)\n",
    "orders = pd.read_table(rf'{data_path}/orders.tbl', sep='|', index_col=False, header=None, names=pysdql.ORDERS_COLS)\n",
    "nation = pd.read_table(rf'{data_path}/nation.tbl', sep='|', index_col=False, header=None, names=pysdql.NATION_COLS)\n",
    "l1_cols = ['l1_orderkey', 'l1_partkey', 'l1_suppkey', 'l1_linenumber', 'l1_quantity', 'l1_extendedprice',\n",
    "           'l1_discount', 'l1_tax', 'l1_returnflag', 'l1_linestatus', 'l1_shipdate', 'l1_commitdate',\n",
    "           'l1_receiptdate', 'l1_shipinstruct', 'l1_shipmode', 'l1_comment']\n",
    "l1 = pd.read_table(rf'{data_path}/lineitem.tbl', sep='|', index_col=False, header=None, names=l1_cols)\n",
    "l1.columns.name = 'l1'\n",
    "l2_cols = ['l2_orderkey', 'l2_partkey', 'l2_suppkey', 'l2_linenumber', 'l2_quantity', 'l2_extendedprice',\n",
    "           'l2_discount', 'l2_tax', 'l2_returnflag', 'l2_linestatus', 'l2_shipdate', 'l2_commitdate',\n",
    "           'l2_receiptdate', 'l2_shipinstruct', 'l2_shipmode', 'l2_comment']\n",
    "l2 = pd.read_table(rf'{data_path}/lineitem.tbl', sep='|', index_col=False, header=None, names=l2_cols)\n",
    "l2.columns.name = 'l2'\n",
    "l3_cols = ['l3_orderkey', 'l3_partkey', 'l3_suppkey', 'l3_linenumber', 'l3_quantity', 'l3_extendedprice',\n",
    "           'l3_discount', 'l3_tax', 'l3_returnflag', 'l3_linestatus', 'l3_shipdate', 'l3_commitdate',\n",
    "           'l3_receiptdate', 'l3_shipinstruct', 'l3_shipmode', 'l3_comment']\n",
    "l3 = pd.read_table(rf'{data_path}/lineitem.tbl', sep='|', index_col=False, header=None, names=l3_cols)\n",
    "l3.columns.name = 'l3'\n",
    "\n",
    "sub_n = nation[(nation['n_name'] == var1)]\n",
    "sub_n.columns.name = 'sub_n'\n",
    "join_ns = supplier.merge(sub_n, left_on='s_nationkey', right_on='n_nationkey')\n",
    "join_ns.columns.name = 'join_ns'\n",
    "sub_l1 = l1[(l1['l1_receiptdate'] > l1['l1_commitdate'])]\n",
    "sub_l1.columns.name = 'sub_l1'\n",
    "r = join_ns.merge(sub_l1, left_on='s_suppkey', right_on='l1_suppkey')\n",
    "\n",
    "sub_o = orders[(orders['o_orderstatus'] == 'F')]\n",
    "sub_o.columns.name = 'sub_o'\n",
    "r = r.merge(sub_o, left_on='l1_orderkey', right_on='o_orderkey')\n",
    "\n",
    "main_cols = pysdql.SUPPLIER_COLS + pysdql.ORDERS_COLS + pysdql.NATION_COLS + l1_cols\n",
    "\n",
    "r = r.merge(l2, left_on='l1_orderkey', right_on='l2_orderkey')\n",
    "r['exists_l2'] = np.select(\n",
    "    [\n",
    "        (r['l1_suppkey'] != r['l2_suppkey'])\n",
    "    ],\n",
    "    [\n",
    "        1\n",
    "    ],\n",
    "    default=0)\n",
    "r = r.groupby(main_cols, as_index=False).agg(exists_l2=('exists_l2', 'sum'))\n",
    "r = r[r['exists_l2'] > 0]\n",
    "\n",
    "r = r.merge(l3, left_on='l1_orderkey', right_on='l3_orderkey')\n",
    "r['exists_l3'] = np.select(\n",
    "    [\n",
    "        (r['l1_suppkey'] != r['l3_suppkey'])\n",
    "        & (r['l3_receiptdate'] > r['l3_commitdate'])\n",
    "    ],\n",
    "    [\n",
    "        1\n",
    "    ],\n",
    "    default=0)\n",
    "r = r.groupby(main_cols, as_index=False).agg(exists_l3=('exists_l3', 'sum'))\n",
    "r = r[r['exists_l3'] == 0]\n",
    "\n",
    "r = r.groupby(['s_name'], as_index=False).agg(numwait=('l1_orderkey', 'count'))\n",
    "\n",
    "print(r)\n",
    "\n",
    "pysdql.db_driver(db_path=sdql_database_path, name='tpch-21').run(r).export().to()"
   ]
  },
  {
   "cell_type": "markdown",
   "metadata": {},
   "source": [
    "### pandas - 21"
   ]
  },
  {
   "cell_type": "code",
   "execution_count": 43,
   "metadata": {},
   "outputs": [
    {
     "name": "stdout",
     "output_type": "stream",
     "text": [
      "               s_name  numwait\n",
      "0  Supplier#000000007       17\n"
     ]
    }
   ],
   "source": [
    "# Try replace pysdql with pandas to get result in pandas!\n",
    "import pandas as pd  # get answer in pandas\n",
    "import numpy as np  # for numpy.select(), must use together with pandas\n",
    "# import pysdql as pd  # get answer in pysdql\n",
    "# import pysdqlnp as np  # for pysdqlnp.select(), must use together with pysdql\n",
    "\n",
    "# display all columns\n",
    "pd.set_option('display.max_columns', None)\n",
    "# display all rows\n",
    "pd.set_option('display.max_rows', None)\n",
    "\n",
    "var1 = 'UNITED KINGDOM'\n",
    "\n",
    "supplier = pd.read_table(rf'{data_path}/supplier.tbl', sep='|', index_col=False, header=None, names=pysdql.SUPPLIER_COLS)\n",
    "orders = pd.read_table(rf'{data_path}/orders.tbl', sep='|', index_col=False, header=None, names=pysdql.ORDERS_COLS)\n",
    "nation = pd.read_table(rf'{data_path}/nation.tbl', sep='|', index_col=False, header=None, names=pysdql.NATION_COLS)\n",
    "l1_cols = ['l1_orderkey', 'l1_partkey', 'l1_suppkey', 'l1_linenumber', 'l1_quantity', 'l1_extendedprice',\n",
    "           'l1_discount', 'l1_tax', 'l1_returnflag', 'l1_linestatus', 'l1_shipdate', 'l1_commitdate',\n",
    "           'l1_receiptdate', 'l1_shipinstruct', 'l1_shipmode', 'l1_comment']\n",
    "l1 = pd.read_table(rf'{data_path}/lineitem.tbl', sep='|', index_col=False, header=None, names=l1_cols)\n",
    "l1.columns.name = 'l1'\n",
    "l2_cols = ['l2_orderkey', 'l2_partkey', 'l2_suppkey', 'l2_linenumber', 'l2_quantity', 'l2_extendedprice',\n",
    "           'l2_discount', 'l2_tax', 'l2_returnflag', 'l2_linestatus', 'l2_shipdate', 'l2_commitdate',\n",
    "           'l2_receiptdate', 'l2_shipinstruct', 'l2_shipmode', 'l2_comment']\n",
    "l2 = pd.read_table(rf'{data_path}/lineitem.tbl', sep='|', index_col=False, header=None, names=l2_cols)\n",
    "l2.columns.name = 'l2'\n",
    "l3_cols = ['l3_orderkey', 'l3_partkey', 'l3_suppkey', 'l3_linenumber', 'l3_quantity', 'l3_extendedprice',\n",
    "           'l3_discount', 'l3_tax', 'l3_returnflag', 'l3_linestatus', 'l3_shipdate', 'l3_commitdate',\n",
    "           'l3_receiptdate', 'l3_shipinstruct', 'l3_shipmode', 'l3_comment']\n",
    "l3 = pd.read_table(rf'{data_path}/lineitem.tbl', sep='|', index_col=False, header=None, names=l3_cols)\n",
    "l3.columns.name = 'l3'\n",
    "\n",
    "sub_n = nation[(nation['n_name'] == var1)]\n",
    "sub_n.columns.name = 'sub_n'\n",
    "join_ns = supplier.merge(sub_n, left_on='s_nationkey', right_on='n_nationkey')\n",
    "join_ns.columns.name = 'join_ns'\n",
    "sub_l1 = l1[(l1['l1_receiptdate'] > l1['l1_commitdate'])]\n",
    "sub_l1.columns.name = 'sub_l1'\n",
    "r = join_ns.merge(sub_l1, left_on='s_suppkey', right_on='l1_suppkey')\n",
    "\n",
    "sub_o = orders[(orders['o_orderstatus'] == 'F')]\n",
    "sub_o.columns.name = 'sub_o'\n",
    "r = r.merge(sub_o, left_on='l1_orderkey', right_on='o_orderkey')\n",
    "\n",
    "main_cols = pysdql.SUPPLIER_COLS + pysdql.ORDERS_COLS + pysdql.NATION_COLS + l1_cols\n",
    "\n",
    "r = r.merge(l2, left_on='l1_orderkey', right_on='l2_orderkey')\n",
    "r['exists_l2'] = np.select(\n",
    "    [\n",
    "        (r['l1_suppkey'] != r['l2_suppkey'])\n",
    "    ],\n",
    "    [\n",
    "        1\n",
    "    ],\n",
    "    default=0)\n",
    "r = r.groupby(main_cols, as_index=False).agg(exists_l2=('exists_l2', 'sum'))\n",
    "r = r[r['exists_l2'] > 0]\n",
    "\n",
    "r = r.merge(l3, left_on='l1_orderkey', right_on='l3_orderkey')\n",
    "r['exists_l3'] = np.select(\n",
    "    [\n",
    "        (r['l1_suppkey'] != r['l3_suppkey'])\n",
    "        & (r['l3_receiptdate'] > r['l3_commitdate'])\n",
    "    ],\n",
    "    [\n",
    "        1\n",
    "    ],\n",
    "    default=0)\n",
    "r = r.groupby(main_cols, as_index=False).agg(exists_l3=('exists_l3', 'sum'))\n",
    "r = r[r['exists_l3'] == 0]\n",
    "\n",
    "r = r.groupby(['s_name'], as_index=False).agg(numwait=('l1_orderkey', 'count'))\n",
    "\n",
    "print(r)\n",
    "\n",
    "pysdql.db_driver(db_path=sdql_database_path, name='tpch-21').run(r).export().to()"
   ]
  },
  {
   "cell_type": "markdown",
   "metadata": {
    "pycharm": {
     "name": "#%% md\n"
    }
   },
   "source": [
    "# TPCH - 22 ✅"
   ]
  },
  {
   "cell_type": "markdown",
   "metadata": {},
   "source": [
    "### SQL - 22"
   ]
  },
  {
   "cell_type": "markdown",
   "metadata": {},
   "source": [
    "```\n",
    "select\n",
    "\tcntrycode,\n",
    "\tcount(*) as numcust,\n",
    "\tsum(c_acctbal) as totacctbal\n",
    "from\n",
    "\t(\n",
    "\t\tselect\n",
    "\t\t\tsubstring(c_phone from 1 for 2) as cntrycode,\n",
    "\t\t\tc_acctbal\n",
    "\t\tfrom\n",
    "\t\t\tcustomer\n",
    "\t\twhere\n",
    "\t\t\tsubstring(c_phone from 1 for 2) in\n",
    "\t\t\t\t(':1', ':2', ':3', ':4', ':5', ':6', ':7')\n",
    "\t\t\tand c_acctbal > (\n",
    "\t\t\t\tselect\n",
    "\t\t\t\t\tavg(c_acctbal)\n",
    "\t\t\t\tfrom\n",
    "\t\t\t\t\tcustomer\n",
    "\t\t\t\twhere\n",
    "\t\t\t\t\tc_acctbal > 0.00\n",
    "\t\t\t\t\tand substring(c_phone from 1 for 2) in\n",
    "\t\t\t\t\t\t(':1', ':2', ':3', ':4', ':5', ':6', ':7')\n",
    "\t\t\t)\n",
    "\t\t\tand not exists (\n",
    "\t\t\t\tselect\n",
    "\t\t\t\t\t*\n",
    "\t\t\t\tfrom\n",
    "\t\t\t\t\torders\n",
    "\t\t\t\twhere\n",
    "\t\t\t\t\to_custkey = c_custkey\n",
    "\t\t\t)\n",
    "\t) as custsale\n",
    "group by\n",
    "\tcntrycode\n",
    "```"
   ]
  },
  {
   "cell_type": "markdown",
   "metadata": {},
   "source": [
    "### pysdql - 22"
   ]
  },
  {
   "cell_type": "code",
   "execution_count": 44,
   "metadata": {
    "pycharm": {
     "name": "#%%\n"
    }
   },
   "outputs": [
    {
     "name": "stdout",
     "output_type": "stream",
     "text": [
      "let orders = load[{<o_orderkey: int, o_custkey: int, o_orderstatus: string, o_totalprice: double, o_orderdate: date, o_orderpriority: string, o_clerk: string, o_shippriority: int, o_comment: string> -> int}](\"T:/UG4-Proj/datasets/orders.tbl\")\n",
      "let customer = load[{<c_custkey: int, c_name: string, c_address: string, c_nationkey: int, c_phone: string, c_acctbal: double, c_mktsegment: string, c_comment: string> -> int}](\"T:/UG4-Proj/datasets/customer.tbl\")\n",
      "let cmp = sum (<cus_k, cus_v> in customer) if (((0.0 < cus_k.c_acctbal) && (((((((ext(`SubString`, cus_k.c_phone, 0, 2) == \"25\") || (ext(`SubString`, cus_k.c_phone, 0, 2) == \"27\")) || (ext(`SubString`, cus_k.c_phone, 0, 2) == \"16\")) || (ext(`SubString`, cus_k.c_phone, 0, 2) == \"12\")) || (ext(`SubString`, cus_k.c_phone, 0, 2) == \"18\")) || (ext(`SubString`, cus_k.c_phone, 0, 2) == \"14\")) || (ext(`SubString`, cus_k.c_phone, 0, 2) == \"30\")))) then { cus_k -> 1 } else {  }\n",
      "let sub_c = cmp\n",
      "let c_acctbal_mean = let c_acctbal_sumcount = sum (<sc_k, sc_v> in sub_c) < c_acctbal_sum=sc_k.c_acctbal * sc_v, c_acctbal_count=sc_v > in c_acctbal_sumcount.c_acctbal_sum / c_acctbal_sumcount.c_acctbal_count\n",
      "let tmp = sum (<cus_k, cus_v> in customer) if ((((((((ext(`SubString`, cus_k.c_phone, 0, 2) == \"25\") || (ext(`SubString`, cus_k.c_phone, 0, 2) == \"27\")) || (ext(`SubString`, cus_k.c_phone, 0, 2) == \"16\")) || (ext(`SubString`, cus_k.c_phone, 0, 2) == \"12\")) || (ext(`SubString`, cus_k.c_phone, 0, 2) == \"18\")) || (ext(`SubString`, cus_k.c_phone, 0, 2) == \"14\")) || (ext(`SubString`, cus_k.c_phone, 0, 2) == \"30\"))) then { cus_k -> 1 } else {  }\n",
      "let tmpa = sum (<t_k, t_v> in tmp) if ((c_acctbal_mean < t_k.c_acctbal)) then { t_k -> 1 } else {  }\n",
      "let Rm0 = sum (<ta_k, ta_v> in tmpa) sum (<ord_k, ord_v> in orders) { concat(ta_k, ord_k) -> ta_v * ord_v }\n",
      "let rmp = sum (<r0_k, r0_v> in Rm0) if ((r0_k.o_custkey == r0_k.c_custkey)) then { concat(r0_k, < exists=1 >) -> 1 } else { concat(r0_k, < exists=0 >) -> 1 }\n",
      "let tmpc = sum (<r_k, r_v> in rmp) { < c_custkey=r_k.c_custkey, c_name=r_k.c_name, c_address=r_k.c_address, c_nationkey=r_k.c_nationkey, c_phone=r_k.c_phone, c_acctbal=r_k.c_acctbal, c_mktsegment=r_k.c_mktsegment, c_comment=r_k.c_comment > -> < exists=promote[nullable[real]](r_k.exists * r_v) > }\n",
      "let agg_rmp = sum (<tc_k, tc_v> in tmpc) { < c_custkey=tc_k.c_custkey, c_name=tc_k.c_name, c_address=tc_k.c_address, c_nationkey=tc_k.c_nationkey, c_phone=tc_k.c_phone, c_acctbal=tc_k.c_acctbal, c_mktsegment=tc_k.c_mktsegment, c_comment=tc_k.c_comment, exists=promote[real](tc_v.exists) > -> 1 }\n",
      "let amp = sum (<ar_k, ar_v> in agg_rmp) if ((ar_k.exists == 0)) then { ar_k -> 1 } else {  }\n",
      "let tmp = sum (<a_k, a_v> in amp) { concat(a_k, < cntrycode=ext(`SubString`, a_k.c_phone, 0, 2) >) -> 1 }\n",
      "let tmpa = sum (<t_k, t_v> in tmp) { < cntrycode=t_k.cntrycode, c_acctbal=t_k.c_acctbal > -> 1 }\n",
      "let custsale = tmpa\n",
      "custsale\n"
     ]
    },
    {
     "name": "stderr",
     "output_type": "stream",
     "text": [
      "[info] welcome to sbt 1.6.0 (Oracle Corporation Java 17)\n",
      "[info] loading project definition from T:\\sdql\\project\n",
      "[info] loading settings for project sdql from build.sbt ...\n",
      "[info] set current project to sdql (in build file:/T:/sdql/)\n",
      "[info] sbt server started at local:sbt-server-ec9dcaf7bfc5935dead3\n",
      "[warn] sbt server could not start in 10s\n",
      "\u001b[?2004h>....[info] running sdql.driver.Main interpret T:/UG4-Proj/output/Q00.sdql\n",
      "{<cntrycode = 18, c_acctbal = 8324.07> -> 1, <cntrycode = 12, c_acctbal = 6264.31> -> 1, <cntrycode = 18, c_acctbal = 6323.92> -> 1, <cntrycode = 16, c_acctbal = 5494.43> -> 1, <cntrycode = 30, c_acctbal = 7638.57> -> 1}\n",
      "[success] Total time: 2 s, completed 2022年7月30日 上午8:52:45\n",
      "========================================================\n",
      "pysdql execution time: 16.926605939865112\n",
      "export sdql script \"tpch-22.sdql\" to \"T:/UG4-Proj/output/tpch-22.sdql\"\n",
      "excute by:\n",
      "run interpret T:/UG4-Proj/output/tpch-22.sdql\n"
     ]
    },
    {
     "data": {
      "text/plain": [
       "{<cntrycode = 18, c_acctbal = 8324.07> -> 1, <cntrycode = 12, c_acctbal = 6264.31> -> 1, <cntrycode = 18, c_acctbal = 6323.92> -> 1, <cntrycode = 16, c_acctbal = 5494.43> -> 1, <cntrycode = 30, c_acctbal = 7638.57> -> 1}"
      ]
     },
     "execution_count": 44,
     "metadata": {},
     "output_type": "execute_result"
    }
   ],
   "source": [
    "# Try replace pysdql with pandas to get result in pandas!\n",
    "# import pandas as pd  # get answer in pandas\n",
    "# import numpy as np  # for numpy.select(), must use together with pandas\n",
    "import pysdql as pd  # get answer in pysdql\n",
    "import pysdqlnp as np  # for pysdqlnp.select(), must use together with pysdql\n",
    "\n",
    "# display all columns\n",
    "pd.set_option('display.max_columns', None)\n",
    "# display all rows\n",
    "pd.set_option('display.max_rows', None)\n",
    "\n",
    "var1 = ('16', '12', '18', '14', '30', '27', '25')\n",
    "\n",
    "customer = pd.read_table(rf'{data_path}/customer.tbl', sep='|', index_col=False, header=None, names=pysdql.CUSTOMER_COLS)\n",
    "orders = pd.read_table(rf'{data_path}/orders.tbl', sep='|', index_col=False, header=None, names=pysdql.ORDERS_COLS)\n",
    "\n",
    "sub_c = customer[(customer['c_acctbal'] > 0.00)\n",
    "                 & (customer['c_phone'].str.slice(0, 2).isin(var1))]\n",
    "sub_c.columns.name = 'sub_c'\n",
    "\n",
    "avg_acctbal = sub_c['c_acctbal'].mean()\n",
    "\n",
    "r = customer[customer['c_phone'].str.slice(0, 2).isin(var1)]\n",
    "\n",
    "r = r[r['c_acctbal'] > avg_acctbal]\n",
    "\n",
    "r = r.merge(orders, how='cross')\n",
    "r['exists'] = np.select(\n",
    "    [\n",
    "        (r['o_custkey'] == r['c_custkey'])\n",
    "    ],\n",
    "    [\n",
    "        1\n",
    "    ],\n",
    "    default=0)\n",
    "r = r.groupby(pysdql.CUSTOMER_COLS, as_index=False).agg(exists=('exists', 'sum'))\n",
    "r = r[r['exists'] == 0]\n",
    "\n",
    "r['cntrycode'] = r['c_phone'].str.slice(0, 2)\n",
    "\n",
    "custsale = r[['cntrycode', 'c_acctbal']]\n",
    "custsale.columns.name = 'custsale'\n",
    "\n",
    "custsale = custsale.groupby(['cntrycode'], as_index=False).agg(numcust=('c_acctbal', 'count'), totacctbal=('c_acctbal', 'sum'))\n",
    "\n",
    "print(custsale)\n",
    "\n",
    "pysdql.db_driver(db_path=sdql_database_path, name='tpch-22').run(custsale).export().to()"
   ]
  },
  {
   "cell_type": "markdown",
   "metadata": {},
   "source": [
    "### pandas - 22"
   ]
  },
  {
   "cell_type": "code",
   "execution_count": 45,
   "metadata": {},
   "outputs": [
    {
     "name": "stdout",
     "output_type": "stream",
     "text": [
      "  cntrycode  numcust  totacctbal\n",
      "0        12        1     6264.31\n",
      "1        16        1     5494.43\n",
      "2        18        2    14647.99\n",
      "3        30        1     7638.57\n"
     ]
    }
   ],
   "source": [
    "# Try replace pysdql with pandas to get result in pandas!\n",
    "import pandas as pd  # get answer in pandas\n",
    "import numpy as np  # for numpy.select(), must use together with pandas\n",
    "# import pysdql as pd  # get answer in pysdql\n",
    "# import pysdqlnp as np  # for pysdqlnp.select(), must use together with pysdql\n",
    "\n",
    "# display all columns\n",
    "pd.set_option('display.max_columns', None)\n",
    "# display all rows\n",
    "pd.set_option('display.max_rows', None)\n",
    "\n",
    "var1 = ('16', '12', '18', '14', '30', '27', '25')\n",
    "\n",
    "customer = pd.read_table(rf'{data_path}/customer.tbl', sep='|', index_col=False, header=None, names=pysdql.CUSTOMER_COLS)\n",
    "orders = pd.read_table(rf'{data_path}/orders.tbl', sep='|', index_col=False, header=None, names=pysdql.ORDERS_COLS)\n",
    "\n",
    "sub_c = customer[(customer['c_acctbal'] > 0.00)\n",
    "                 & (customer['c_phone'].str.slice(0, 2).isin(var1))]\n",
    "sub_c.columns.name = 'sub_c'\n",
    "\n",
    "avg_acctbal = sub_c['c_acctbal'].mean()\n",
    "\n",
    "r = customer[customer['c_phone'].str.slice(0, 2).isin(var1)]\n",
    "\n",
    "r = r[r['c_acctbal'] > avg_acctbal]\n",
    "\n",
    "r = r.merge(orders, how='cross')\n",
    "r['exists'] = np.select(\n",
    "    [\n",
    "        (r['o_custkey'] == r['c_custkey'])\n",
    "    ],\n",
    "    [\n",
    "        1\n",
    "    ],\n",
    "    default=0)\n",
    "r = r.groupby(pysdql.CUSTOMER_COLS, as_index=False).agg(exists=('exists', 'sum'))\n",
    "r = r[r['exists'] == 0]\n",
    "\n",
    "r['cntrycode'] = r['c_phone'].str.slice(0, 2)\n",
    "\n",
    "custsale = r[['cntrycode', 'c_acctbal']]\n",
    "custsale.columns.name = 'custsale'\n",
    "\n",
    "custsale = custsale.groupby(['cntrycode'], as_index=False).agg(numcust=('c_acctbal', 'count'), totacctbal=('c_acctbal', 'sum'))\n",
    "\n",
    "print(custsale)\n",
    "\n",
    "pysdql.db_driver(db_path=sdql_database_path, name='tpch-22').run(custsale).export().to()"
   ]
  },
  {
   "cell_type": "code",
   "execution_count": 46,
   "metadata": {},
   "outputs": [
    {
     "data": {
      "text/plain": [
       "374.69336342811584"
      ]
     },
     "execution_count": 46,
     "metadata": {},
     "output_type": "execute_result"
    }
   ],
   "source": [
    "tpch_query_end = time()\n",
    "\n",
    "tpch_query_end - tpch_query_start"
   ]
  }
 ],
 "metadata": {
  "kernelspec": {
   "display_name": "Python 3 (ipykernel)",
   "language": "python",
   "name": "python3"
  },
  "language_info": {
   "codemirror_mode": {
    "name": "ipython",
    "version": 3
   },
   "file_extension": ".py",
   "mimetype": "text/x-python",
   "name": "python",
   "nbconvert_exporter": "python",
   "pygments_lexer": "ipython3",
   "version": "3.9.7"
  }
 },
 "nbformat": 4,
 "nbformat_minor": 1
}
