{
 "cells": [
  {
   "cell_type": "markdown",
   "metadata": {
    "collapsed": true
   },
   "source": [
    "# TPCH - 1"
   ]
  },
  {
   "cell_type": "code",
   "execution_count": 1,
   "metadata": {},
   "outputs": [
    {
     "name": "stdout",
     "output_type": "stream",
     "text": [
      "========================================================\n",
      "let lineitem = { < l_orderkey = 1, l_partkey = 1, l_suppkey = 1, l_linenumber = 1, l_quantity = 17, l_extendedprice = 15317.0, l_discount = 0.04, l_tax = 0.02, l_returnflag = \"N\", l_linestatus = \"O\", l_shipdate = 19960313, l_commitdate = 19960212, l_receiptdate = 19960322, l_shipinstruct = \"DELIVER IN PERSON\", l_shipmode = \"TRUCK\", l_comment = \"egular courts above the\" > -> 1, \n",
      "< l_orderkey = 1, l_partkey = 1, l_suppkey = 1, l_linenumber = 2, l_quantity = 36, l_extendedprice = 32436.0, l_discount = 0.09, l_tax = 0.06, l_returnflag = \"N\", l_linestatus = \"O\", l_shipdate = 19960412, l_commitdate = 19960228, l_receiptdate = 19960420, l_shipinstruct = \"TAKE BACK RETURN\", l_shipmode = \"MAIL\", l_comment = \"ly final dependencies: slyly bold \" > -> 1, \n",
      "< l_orderkey = 1, l_partkey = 1, l_suppkey = 1, l_linenumber = 3, l_quantity = 8, l_extendedprice = 7208.0, l_discount = 0.1, l_tax = 0.02, l_returnflag = \"R\", l_linestatus = \"O\", l_shipdate = 19960129, l_commitdate = 19960305, l_receiptdate = 19960131, l_shipinstruct = \"TAKE BACK RETURN\", l_shipmode = \"REG AIR\", l_comment = \"riously. regular, express dep\" > -> 1, \n",
      "< l_orderkey = 1, l_partkey = 1, l_suppkey = 1, l_linenumber = 4, l_quantity = 28, l_extendedprice = 25228.0, l_discount = 0.09, l_tax = 0.06, l_returnflag = \"N\", l_linestatus = \"O\", l_shipdate = 19960421, l_commitdate = 19960330, l_receiptdate = 19960516, l_shipinstruct = \"NONE\", l_shipmode = \"AIR\", l_comment = \"lites. fluffily even de\" > -> 1, \n",
      "< l_orderkey = 1, l_partkey = 1, l_suppkey = 1, l_linenumber = 5, l_quantity = 24, l_extendedprice = 21624.0, l_discount = 0.1, l_tax = 0.04, l_returnflag = \"N\", l_linestatus = \"O\", l_shipdate = 19960330, l_commitdate = 19960314, l_receiptdate = 19960401, l_shipinstruct = \"NONE\", l_shipmode = \"FOB\", l_comment = \" pending foxes. slyly re\" > -> 1, \n",
      "< l_orderkey = 1, l_partkey = 1, l_suppkey = 1, l_linenumber = 6, l_quantity = 32, l_extendedprice = 28832.0, l_discount = 0.07, l_tax = 0.02, l_returnflag = \"N\", l_linestatus = \"O\", l_shipdate = 19960130, l_commitdate = 19960207, l_receiptdate = 19960203, l_shipinstruct = \"DELIVER IN PERSON\", l_shipmode = \"MAIL\", l_comment = \"arefully slyly ex\" > -> 1, \n",
      "< l_orderkey = 1, l_partkey = 1, l_suppkey = 1, l_linenumber = 7, l_quantity = 3, l_extendedprice = 2787.06, l_discount = 0.07, l_tax = 0.05, l_returnflag = \"N\", l_linestatus = \"O\", l_shipdate = 19960707, l_commitdate = 19960420, l_receiptdate = 19960723, l_shipinstruct = \"DELIVER IN PERSON\", l_shipmode = \"RAIL\", l_comment = \"ccounts ha\" > -> 1 }\n",
      "let lmp = sum (<l_k, l_v> in lineitem) if ((l_k.l_shipdate <= 19960401)) then { l_k -> 1 } else {  }\n",
      "let tmpa = sum (<l_k, l_v> in lmp) { < l_returnflag=l_k.l_returnflag, l_linestatus=l_k.l_linestatus > -> { l_k -> l_v } }\n",
      "let tmp = sum (<ta_k, ta_v> in tmpa) { < l_returnflag=ta_k.l_returnflag, l_linestatus=ta_k.l_linestatus, group=ta_v > -> 1 }\n",
      "let tmpb = sum (<t_k, t_v> in tmp) sum (<g_k, g_v> in t_k.group) { < l_returnflag=t_k.l_returnflag, l_linestatus=t_k.l_linestatus > -> < sum_qty=g_k.l_quantity * g_v, sum_base_price=g_k.l_extendedprice * g_v, sum_disc_price=(g_k.l_extendedprice * (1 - g_k.l_discount)) * g_v, sum_charge=((g_k.l_extendedprice * (1 - g_k.l_discount)) * (1 + g_k.l_tax)) * g_v, avg_qty_sum=g_k.l_quantity * g_v, avg_qty_count=g_v, avg_price_sum=g_k.l_extendedprice * g_v, avg_price_count=g_v, avg_disc_sum=g_k.l_discount * g_v, avg_disc_count=g_v, count_order=g_v > }\n",
      "let aggr_lmp = sum (<tb_k, tb_v> in tmpb) { < l_returnflag=tb_k.l_returnflag, l_linestatus=tb_k.l_linestatus, sum_qty=tb_v.sum_qty, sum_base_price=tb_v.sum_base_price, sum_disc_price=tb_v.sum_disc_price, sum_charge=tb_v.sum_charge, avg_qty=(tb_v.avg_qty_sum / tb_v.avg_qty_count), avg_price=(tb_v.avg_price_sum / tb_v.avg_price_count), avg_disc=(tb_v.avg_disc_sum / tb_v.avg_disc_count), count_order=tb_v.count_order > -> 1 }\n",
      "aggr_lmp\n",
      "========================================================\n",
      "[info] welcome to sbt 1.6.0 (Oracle Corporation Java 17)\n",
      "[info] loading project definition from T:\\sdql\\project\n",
      "[info] loading settings for project sdql from build.sbt ...\n",
      "[info] set current project to sdql (in build file:/T:/sdql/)\n",
      "[info]\n",
      "[info] Here are some highlights of this release:\n",
      "[info]   - Improved JDK 17 support\n",
      "[info]   - Improved Build Server Protocol (BSP) support\n",
      "[info]   - Tab completion of global keys\n",
      "[info] See https://eed3si9n.com/sbt-1.6.0 for full release notes.\n",
      "[info] Hide the banner for this release by running `skipBanner`.\n",
      "[error] server failed to start on local:sbt-server-ec9dcaf7bfc5935dead3. java.io.IOException: Could not create lock for \\\\.\\pipe\\sbt-server-ec9dcaf7bfc5935dead3_lock, error 5\n",
      "\u001B[?2004h>....[info] running sdql.driver.Main interpret T:/UG4-Proj/sdql_scripts/q.sdql\n",
      "{<l_returnflag = R, l_linestatus = O, sum_qty = 8, sum_base_price = 7208.0, sum_disc_price = 6487.2, sum_charge = 6616.9439999999995, avg_qty = 8.0, avg_price = 7208.0, avg_disc = 0.1, count_order = 1> -> 1, <l_returnflag = N, l_linestatus = O, sum_qty = 73, sum_base_price = 65773.0, sum_disc_price = 60979.68, sum_charge = 62588.5056, avg_qty = 24.333333333333332, avg_price = 21924.333333333332, avg_disc = 0.07, count_order = 3> -> 1}\n",
      "[success] Total time: 1 s, completed 2022年7月16日 上午1:09:46\n",
      "========================================================\n"
     ]
    },
    {
     "data": {
      "text/plain": [
       "{<l_returnflag = R, l_linestatus = O, sum_qty = 8, sum_base_price = 7208.0, sum_disc_price = 6487.2, sum_charge = 6616.9439999999995, avg_qty = 8.0, avg_price = 7208.0, avg_disc = 0.1, count_order = 1> -> 1, <l_returnflag = N, l_linestatus = O, sum_qty = 73, sum_base_price = 65773.0, sum_disc_price = 60979.68, sum_charge = 62588.5056, avg_qty = 24.333333333333332, avg_price = 21924.333333333332, avg_disc = 0.07, count_order = 3> -> 1}"
      ]
     },
     "execution_count": 1,
     "metadata": {},
     "output_type": "execute_result"
    }
   ],
   "source": [
    "from datetime import datetime, timedelta\n",
    "import pysdql\n",
    "\n",
    "db_driver = pysdql.db_driver(db_path=r'T:/sdql')\n",
    "\n",
    "lineitem = pysdql.read_tbl(path=r'T:/UG4-Proj/datasets/lineitem.tbl', header=pysdql.LINEITEM_COLS)\n",
    "\n",
    "d1 = datetime.strptime('1998-12-01', \"%Y-%m-%d\")\n",
    "d3 = d1 + timedelta(days=76)\n",
    "var1 = d3.strftime(\"%Y-%m-%d\")\n",
    "\n",
    "r = lineitem[(lineitem['l_shipdate'] <= var1)]\n",
    "r = r.groupby(['l_returnflag', 'l_linestatus'])\n",
    "r = r.aggr(sum_qty=(r['l_quantity'], 'sum'),\n",
    "           sum_base_price=(r['l_extendedprice'], 'sum'),\n",
    "           sum_disc_price=(r['l_extendedprice'] * (1 - r['l_discount']), 'sum'),\n",
    "           sum_charge=(r['l_extendedprice'] * (1 - r['l_discount']) * (1 + r['l_tax']), 'sum'),\n",
    "           avg_qty=(r['l_quantity'], 'avg'),\n",
    "           avg_price=(r['l_extendedprice'], 'avg'),\n",
    "           avg_disc=(r['l_discount'], 'avg'),\n",
    "           count_order=('*', 'count'))\n",
    "db_driver.run(r)"
   ]
  },
  {
   "cell_type": "markdown",
   "metadata": {},
   "source": [
    "# TPCH - 3"
   ]
  },
  {
   "cell_type": "code",
   "execution_count": 2,
   "metadata": {},
   "outputs": [
    {
     "name": "stdout",
     "output_type": "stream",
     "text": [
      "========================================================\n",
      "let customer = { < c_custkey = 1, c_name = \"Customer#000000001\", c_address = \"IVhzIApeRb ot,c,E\", c_nationkey = 15, c_phone = \"25-989-741-2988\", c_acctbal = 711.56, c_mktsegment = \"BUILDING\", c_comment = \"to the even, regular platelets. regular, ironic epitaphs nag e\" > -> 1 }\n",
      "let orders = { < o_orderkey = 1, o_custkey = 1, o_orderstatus = \"O\", o_totalprice = 124828.11, o_orderdate = 19960102, o_orderpriority = \"5-LOW\", o_clerk = \"Clerk#000000951\", o_shippriority = 0, o_comment = \"nstructions sleep furiously among \" > -> 1 }\n",
      "let lineitem = { < l_orderkey = 1, l_partkey = 1, l_suppkey = 1, l_linenumber = 1, l_quantity = 17, l_extendedprice = 15317.0, l_discount = 0.04, l_tax = 0.02, l_returnflag = \"N\", l_linestatus = \"O\", l_shipdate = 19960313, l_commitdate = 19960212, l_receiptdate = 19960322, l_shipinstruct = \"DELIVER IN PERSON\", l_shipmode = \"TRUCK\", l_comment = \"egular courts above the\" > -> 1, \n",
      "< l_orderkey = 1, l_partkey = 1, l_suppkey = 1, l_linenumber = 2, l_quantity = 36, l_extendedprice = 32436.0, l_discount = 0.09, l_tax = 0.06, l_returnflag = \"N\", l_linestatus = \"O\", l_shipdate = 19960412, l_commitdate = 19960228, l_receiptdate = 19960420, l_shipinstruct = \"TAKE BACK RETURN\", l_shipmode = \"MAIL\", l_comment = \"ly final dependencies: slyly bold \" > -> 1, \n",
      "< l_orderkey = 1, l_partkey = 1, l_suppkey = 1, l_linenumber = 3, l_quantity = 8, l_extendedprice = 7208.0, l_discount = 0.1, l_tax = 0.02, l_returnflag = \"R\", l_linestatus = \"O\", l_shipdate = 19960129, l_commitdate = 19960305, l_receiptdate = 19960131, l_shipinstruct = \"TAKE BACK RETURN\", l_shipmode = \"REG AIR\", l_comment = \"riously. regular, express dep\" > -> 1, \n",
      "< l_orderkey = 1, l_partkey = 1, l_suppkey = 1, l_linenumber = 4, l_quantity = 28, l_extendedprice = 25228.0, l_discount = 0.09, l_tax = 0.06, l_returnflag = \"N\", l_linestatus = \"O\", l_shipdate = 19960421, l_commitdate = 19960330, l_receiptdate = 19960516, l_shipinstruct = \"NONE\", l_shipmode = \"AIR\", l_comment = \"lites. fluffily even de\" > -> 1, \n",
      "< l_orderkey = 1, l_partkey = 1, l_suppkey = 1, l_linenumber = 5, l_quantity = 24, l_extendedprice = 21624.0, l_discount = 0.1, l_tax = 0.04, l_returnflag = \"N\", l_linestatus = \"O\", l_shipdate = 19960330, l_commitdate = 19960314, l_receiptdate = 19960401, l_shipinstruct = \"NONE\", l_shipmode = \"FOB\", l_comment = \" pending foxes. slyly re\" > -> 1, \n",
      "< l_orderkey = 1, l_partkey = 1, l_suppkey = 1, l_linenumber = 6, l_quantity = 32, l_extendedprice = 28832.0, l_discount = 0.07, l_tax = 0.02, l_returnflag = \"N\", l_linestatus = \"O\", l_shipdate = 19960130, l_commitdate = 19960207, l_receiptdate = 19960203, l_shipinstruct = \"DELIVER IN PERSON\", l_shipmode = \"MAIL\", l_comment = \"arefully slyly ex\" > -> 1, \n",
      "< l_orderkey = 1, l_partkey = 1, l_suppkey = 1, l_linenumber = 7, l_quantity = 3, l_extendedprice = 2787.06, l_discount = 0.07, l_tax = 0.05, l_returnflag = \"N\", l_linestatus = \"O\", l_shipdate = 19960707, l_commitdate = 19960420, l_receiptdate = 19960723, l_shipinstruct = \"DELIVER IN PERSON\", l_shipmode = \"RAIL\", l_comment = \"ccounts ha\" > -> 1 }\n",
      "let R = sum (<c_k, c_v> in customer) sum (<o_k, o_v> in orders) sum (<l_k, l_v> in lineitem) if (((c_k.c_custkey == o_k.o_custkey) && (o_k.o_orderkey == l_k.l_orderkey))) then { < c_custkey=c_k.c_custkey, c_name=c_k.c_name, c_address=c_k.c_address, c_nationkey=c_k.c_nationkey, c_phone=c_k.c_phone, c_acctbal=c_k.c_acctbal, c_mktsegment=c_k.c_mktsegment, c_comment=c_k.c_comment, o_orderkey=o_k.o_orderkey, o_custkey=o_k.o_custkey, o_orderstatus=o_k.o_orderstatus, o_totalprice=o_k.o_totalprice, o_orderdate=o_k.o_orderdate, o_orderpriority=o_k.o_orderpriority, o_clerk=o_k.o_clerk, o_shippriority=o_k.o_shippriority, o_comment=o_k.o_comment, l_orderkey=l_k.l_orderkey, l_partkey=l_k.l_partkey, l_suppkey=l_k.l_suppkey, l_linenumber=l_k.l_linenumber, l_quantity=l_k.l_quantity, l_extendedprice=l_k.l_extendedprice, l_discount=l_k.l_discount, l_tax=l_k.l_tax, l_returnflag=l_k.l_returnflag, l_linestatus=l_k.l_linestatus, l_shipdate=l_k.l_shipdate, l_commitdate=l_k.l_commitdate, l_receiptdate=l_k.l_receiptdate, l_shipinstruct=l_k.l_shipinstruct, l_shipmode=l_k.l_shipmode, l_comment=l_k.l_comment > -> 1 } else {  }\n",
      "let rmp = sum (<r_k, r_v> in R) if ((((r_k.c_mktsegment == \"BUILDING\") && (r_k.o_orderdate < 19960301)) && (19960301 < r_k.l_shipdate))) then { r_k -> 1 } else {  }\n",
      "let tmpa = sum (<r_k, r_v> in rmp) { < l_orderkey=r_k.l_orderkey, o_orderdate=r_k.o_orderdate, o_shippriority=r_k.o_shippriority > -> { r_k -> r_v } }\n",
      "let tmp = sum (<ta_k, ta_v> in tmpa) { < l_orderkey=ta_k.l_orderkey, o_orderdate=ta_k.o_orderdate, o_shippriority=ta_k.o_shippriority, group=ta_v > -> 1 }\n",
      "let tmpb = sum (<t_k, t_v> in tmp) sum (<g_k, g_v> in t_k.group) { < l_orderkey=t_k.l_orderkey, o_orderdate=t_k.o_orderdate, o_shippriority=t_k.o_shippriority > -> < revenue=(g_k.l_extendedprice * (1 - g_k.l_discount)) * g_v > }\n",
      "let aggr_rmp = sum (<tb_k, tb_v> in tmpb) { < l_orderkey=tb_k.l_orderkey, o_orderdate=tb_k.o_orderdate, o_shippriority=tb_k.o_shippriority, revenue=tb_v.revenue > -> 1 }\n",
      "aggr_rmp\n",
      "========================================================\n",
      "[info] welcome to sbt 1.6.0 (Oracle Corporation Java 17)\n",
      "[info] loading project definition from T:\\sdql\\project\n",
      "[info] loading settings for project sdql from build.sbt ...\n",
      "[info] set current project to sdql (in build file:/T:/sdql/)\n",
      "[info]\n",
      "[info] Here are some highlights of this release:\n",
      "[info]   - Improved JDK 17 support\n",
      "[info]   - Improved Build Server Protocol (BSP) support\n",
      "[info]   - Tab completion of global keys\n",
      "[info] See https://eed3si9n.com/sbt-1.6.0 for full release notes.\n",
      "[info] Hide the banner for this release by running `skipBanner`.\n",
      "[error] server failed to start on local:sbt-server-ec9dcaf7bfc5935dead3. java.io.IOException: Could not create lock for \\\\.\\pipe\\sbt-server-ec9dcaf7bfc5935dead3_lock, error 5\n",
      "\u001B[?2004h>....[info] running sdql.driver.Main interpret T:/UG4-Proj/sdql_scripts/q.sdql\n",
      "{<l_orderkey = 1, o_orderdate = 19960102, o_shippriority = 0, revenue = 89232.12580000001> -> 1}\n",
      "[success] Total time: 1 s, completed 2022年7月16日 上午1:09:51\n",
      "========================================================\n"
     ]
    },
    {
     "data": {
      "text/plain": [
       "{<l_orderkey = 1, o_orderdate = 19960102, o_shippriority = 0, revenue = 89232.12580000001> -> 1}"
      ]
     },
     "execution_count": 2,
     "metadata": {},
     "output_type": "execute_result"
    }
   ],
   "source": [
    "import pysdql\n",
    "\n",
    "var1 = 'BUILDING'\n",
    "var2 = '1995-03-22'\n",
    "\n",
    "db_driver = pysdql.db_driver(db_path=r'T:/sdql')\n",
    "\n",
    "customer = pysdql.read_tbl(path=r'T:/UG4-Proj/datasets/customer.tbl', header=pysdql.CUSTOMER_COLS)\n",
    "orders = pysdql.read_tbl(path=r'T:/UG4-Proj/datasets/orders.tbl', header=pysdql.ORDERS_COLS)\n",
    "lineitem = pysdql.read_tbl(path=r'T:/UG4-Proj/datasets/lineitem.tbl', header=pysdql.LINEITEM_COLS)\n",
    "\n",
    "r = customer.merge(orders, on=(customer['c_custkey'] == orders['o_custkey']))\n",
    "r = r.merge(lineitem, on=(r['o_orderkey'] == lineitem['l_orderkey']))\n",
    "\n",
    "r = r[(r['c_mktsegment'] == var1)\n",
    "      & (r['o_orderdate'] < var2)\n",
    "      & (r['l_shipdate'] > var2)]\n",
    "\n",
    "r = r.groupby(['l_orderkey', 'o_orderdate', 'o_shippriority']) \\\n",
    "    .aggr(revenue=((r['l_extendedprice'] * (1 - r['l_discount'])), 'sum'))\n",
    "\n",
    "db_driver.run(r)"
   ]
  },
  {
   "cell_type": "markdown",
   "metadata": {},
   "source": [
    "# TPCH - 4"
   ]
  },
  {
   "cell_type": "code",
   "execution_count": 3,
   "metadata": {},
   "outputs": [
    {
     "name": "stdout",
     "output_type": "stream",
     "text": [
      "========================================================\n",
      "let lineitem = { < l_orderkey = 1, l_partkey = 1, l_suppkey = 1, l_linenumber = 1, l_quantity = 17, l_extendedprice = 15317.0, l_discount = 0.04, l_tax = 0.02, l_returnflag = \"N\", l_linestatus = \"O\", l_shipdate = 19960313, l_commitdate = 19960212, l_receiptdate = 19960322, l_shipinstruct = \"DELIVER IN PERSON\", l_shipmode = \"TRUCK\", l_comment = \"egular courts above the\" > -> 1, \n",
      "< l_orderkey = 1, l_partkey = 1, l_suppkey = 1, l_linenumber = 2, l_quantity = 36, l_extendedprice = 32436.0, l_discount = 0.09, l_tax = 0.06, l_returnflag = \"N\", l_linestatus = \"O\", l_shipdate = 19960412, l_commitdate = 19960228, l_receiptdate = 19960420, l_shipinstruct = \"TAKE BACK RETURN\", l_shipmode = \"MAIL\", l_comment = \"ly final dependencies: slyly bold \" > -> 1, \n",
      "< l_orderkey = 1, l_partkey = 1, l_suppkey = 1, l_linenumber = 3, l_quantity = 8, l_extendedprice = 7208.0, l_discount = 0.1, l_tax = 0.02, l_returnflag = \"R\", l_linestatus = \"O\", l_shipdate = 19960129, l_commitdate = 19960305, l_receiptdate = 19960131, l_shipinstruct = \"TAKE BACK RETURN\", l_shipmode = \"REG AIR\", l_comment = \"riously. regular, express dep\" > -> 1, \n",
      "< l_orderkey = 1, l_partkey = 1, l_suppkey = 1, l_linenumber = 4, l_quantity = 28, l_extendedprice = 25228.0, l_discount = 0.09, l_tax = 0.06, l_returnflag = \"N\", l_linestatus = \"O\", l_shipdate = 19960421, l_commitdate = 19960330, l_receiptdate = 19960516, l_shipinstruct = \"NONE\", l_shipmode = \"AIR\", l_comment = \"lites. fluffily even de\" > -> 1, \n",
      "< l_orderkey = 1, l_partkey = 1, l_suppkey = 1, l_linenumber = 5, l_quantity = 24, l_extendedprice = 21624.0, l_discount = 0.1, l_tax = 0.04, l_returnflag = \"N\", l_linestatus = \"O\", l_shipdate = 19960330, l_commitdate = 19960314, l_receiptdate = 19960401, l_shipinstruct = \"NONE\", l_shipmode = \"FOB\", l_comment = \" pending foxes. slyly re\" > -> 1, \n",
      "< l_orderkey = 1, l_partkey = 1, l_suppkey = 1, l_linenumber = 6, l_quantity = 32, l_extendedprice = 28832.0, l_discount = 0.07, l_tax = 0.02, l_returnflag = \"N\", l_linestatus = \"O\", l_shipdate = 19960130, l_commitdate = 19960207, l_receiptdate = 19960203, l_shipinstruct = \"DELIVER IN PERSON\", l_shipmode = \"MAIL\", l_comment = \"arefully slyly ex\" > -> 1, \n",
      "< l_orderkey = 1, l_partkey = 1, l_suppkey = 1, l_linenumber = 7, l_quantity = 3, l_extendedprice = 2787.06, l_discount = 0.07, l_tax = 0.05, l_returnflag = \"N\", l_linestatus = \"O\", l_shipdate = 19960707, l_commitdate = 19960420, l_receiptdate = 19960723, l_shipinstruct = \"DELIVER IN PERSON\", l_shipmode = \"RAIL\", l_comment = \"ccounts ha\" > -> 1 }\n",
      "let orders = { < o_orderkey = 1, o_custkey = 1, o_orderstatus = \"O\", o_totalprice = 124828.11, o_orderdate = 19960102, o_orderpriority = \"5-LOW\", o_clerk = \"Clerk#000000951\", o_shippriority = 0, o_comment = \"nstructions sleep furiously among \" > -> 1 }\n",
      "let R = sum (<l_k, l_v> in lineitem) sum (<o_k, o_v> in orders) if ((l_k.l_orderkey == o_k.o_orderkey)) then { < l_orderkey=l_k.l_orderkey, l_partkey=l_k.l_partkey, l_suppkey=l_k.l_suppkey, l_linenumber=l_k.l_linenumber, l_quantity=l_k.l_quantity, l_extendedprice=l_k.l_extendedprice, l_discount=l_k.l_discount, l_tax=l_k.l_tax, l_returnflag=l_k.l_returnflag, l_linestatus=l_k.l_linestatus, l_shipdate=l_k.l_shipdate, l_commitdate=l_k.l_commitdate, l_receiptdate=l_k.l_receiptdate, l_shipinstruct=l_k.l_shipinstruct, l_shipmode=l_k.l_shipmode, l_comment=l_k.l_comment, o_orderkey=o_k.o_orderkey, o_custkey=o_k.o_custkey, o_orderstatus=o_k.o_orderstatus, o_totalprice=o_k.o_totalprice, o_orderdate=o_k.o_orderdate, o_orderpriority=o_k.o_orderpriority, o_clerk=o_k.o_clerk, o_shippriority=o_k.o_shippriority, o_comment=o_k.o_comment > -> 1 } else {  }\n",
      "let rmp = sum (<r_k, r_v> in R) if ((r_k.l_commitdate < r_k.l_receiptdate)) then { r_k -> 1 } else {  }\n",
      "let count_rmp = sum (<r_k, r_v> in rmp) r_v\n",
      "let omp = sum (<o_k, o_v> in orders) if ((((19960101 <= o_k.o_orderdate) && (o_k.o_orderdate < 19960401)) && (0 < count_rmp))) then { o_k -> 1 } else {  }\n",
      "let tmpa = sum (<o_k, o_v> in omp) { < o_orderpriority=o_k.o_orderpriority > -> { o_k -> o_v } }\n",
      "let tmp = sum (<ta_k, ta_v> in tmpa) { < o_orderpriority=ta_k.o_orderpriority, group=ta_v > -> 1 }\n",
      "let tmpb = sum (<t_k, t_v> in tmp) sum (<g_k, g_v> in t_k.group) { < o_orderpriority=t_k.o_orderpriority > -> < order_count=g_v > }\n",
      "let aggr_omp = sum (<tb_k, tb_v> in tmpb) { < o_orderpriority=tb_k.o_orderpriority, order_count=tb_v.order_count > -> 1 }\n",
      "aggr_omp\n",
      "========================================================\n",
      "[info] welcome to sbt 1.6.0 (Oracle Corporation Java 17)\n",
      "[info] loading project definition from T:\\sdql\\project\n",
      "[info] loading settings for project sdql from build.sbt ...\n",
      "[info] set current project to sdql (in build file:/T:/sdql/)\n",
      "[info]\n",
      "[info] Here are some highlights of this release:\n",
      "[info]   - Improved JDK 17 support\n",
      "[info]   - Improved Build Server Protocol (BSP) support\n",
      "[info]   - Tab completion of global keys\n",
      "[info] See https://eed3si9n.com/sbt-1.6.0 for full release notes.\n",
      "[info] Hide the banner for this release by running `skipBanner`.\n",
      "[error] server failed to start on local:sbt-server-ec9dcaf7bfc5935dead3. java.io.IOException: Could not create lock for \\\\.\\pipe\\sbt-server-ec9dcaf7bfc5935dead3_lock, error 5\n",
      "\u001B[?2004h>....[info] running sdql.driver.Main interpret T:/UG4-Proj/sdql_scripts/q.sdql\n",
      "{<o_orderpriority = 5-LOW, order_count = 1> -> 1}\n",
      "[success] Total time: 1 s, completed 2022年7月16日 上午1:09:57\n",
      "========================================================\n"
     ]
    },
    {
     "data": {
      "text/plain": [
       "{<o_orderpriority = 5-LOW, order_count = 1> -> 1}"
      ]
     },
     "execution_count": 3,
     "metadata": {},
     "output_type": "execute_result"
    }
   ],
   "source": [
    "import pysdql\n",
    "\n",
    "var1 = '1996-05-01'\n",
    "var2 = '1996-08-01'  # var1 + 3 month\n",
    "\n",
    "db_driver = pysdql.db_driver(db_path=r'T:/sdql')\n",
    "\n",
    "lineitem = pysdql.read_tbl(path=r'T:/UG4-Proj/datasets/lineitem.tbl', header=pysdql.LINEITEM_COLS)\n",
    "orders = pysdql.read_tbl(path=r'T:/UG4-Proj/datasets/orders.tbl', header=pysdql.ORDERS_COLS)\n",
    "\n",
    "r = lineitem[(lineitem['l_commitdate'] < lineitem['l_receiptdate'])]\n",
    "r = r.merge(orders, on=(r['l_orderkey'] == orders['o_orderkey']))\n",
    "\n",
    "s = orders[(orders['o_orderdate'] >= var1) & (orders['o_orderdate'] < var2) & r.exists()]\n",
    "\n",
    "s = s.groupby(['o_orderpriority']).aggr(order_count=('*', 'count'))\n",
    "\n",
    "db_driver.run(s)"
   ]
  },
  {
   "cell_type": "markdown",
   "metadata": {},
   "source": [
    "# TPCH - 5"
   ]
  },
  {
   "cell_type": "code",
   "execution_count": 4,
   "metadata": {
    "scrolled": false
   },
   "outputs": [
    {
     "name": "stdout",
     "output_type": "stream",
     "text": [
      "========================================================\n",
      "let customer = { < c_custkey = 1, c_name = \"Customer#000000001\", c_address = \"IVhzIApeRb ot,c,E\", c_nationkey = 15, c_phone = \"25-989-741-2988\", c_acctbal = 711.56, c_mktsegment = \"BUILDING\", c_comment = \"to the even, regular platelets. regular, ironic epitaphs nag e\" > -> 1 }\n",
      "let orders = { < o_orderkey = 1, o_custkey = 1, o_orderstatus = \"O\", o_totalprice = 124828.11, o_orderdate = 19960102, o_orderpriority = \"5-LOW\", o_clerk = \"Clerk#000000951\", o_shippriority = 0, o_comment = \"nstructions sleep furiously among \" > -> 1 }\n",
      "let lineitem = { < l_orderkey = 1, l_partkey = 1, l_suppkey = 1, l_linenumber = 1, l_quantity = 17, l_extendedprice = 15317.0, l_discount = 0.04, l_tax = 0.02, l_returnflag = \"N\", l_linestatus = \"O\", l_shipdate = 19960313, l_commitdate = 19960212, l_receiptdate = 19960322, l_shipinstruct = \"DELIVER IN PERSON\", l_shipmode = \"TRUCK\", l_comment = \"egular courts above the\" > -> 1, \n",
      "< l_orderkey = 1, l_partkey = 1, l_suppkey = 1, l_linenumber = 2, l_quantity = 36, l_extendedprice = 32436.0, l_discount = 0.09, l_tax = 0.06, l_returnflag = \"N\", l_linestatus = \"O\", l_shipdate = 19960412, l_commitdate = 19960228, l_receiptdate = 19960420, l_shipinstruct = \"TAKE BACK RETURN\", l_shipmode = \"MAIL\", l_comment = \"ly final dependencies: slyly bold \" > -> 1, \n",
      "< l_orderkey = 1, l_partkey = 1, l_suppkey = 1, l_linenumber = 3, l_quantity = 8, l_extendedprice = 7208.0, l_discount = 0.1, l_tax = 0.02, l_returnflag = \"R\", l_linestatus = \"O\", l_shipdate = 19960129, l_commitdate = 19960305, l_receiptdate = 19960131, l_shipinstruct = \"TAKE BACK RETURN\", l_shipmode = \"REG AIR\", l_comment = \"riously. regular, express dep\" > -> 1, \n",
      "< l_orderkey = 1, l_partkey = 1, l_suppkey = 1, l_linenumber = 4, l_quantity = 28, l_extendedprice = 25228.0, l_discount = 0.09, l_tax = 0.06, l_returnflag = \"N\", l_linestatus = \"O\", l_shipdate = 19960421, l_commitdate = 19960330, l_receiptdate = 19960516, l_shipinstruct = \"NONE\", l_shipmode = \"AIR\", l_comment = \"lites. fluffily even de\" > -> 1, \n",
      "< l_orderkey = 1, l_partkey = 1, l_suppkey = 1, l_linenumber = 5, l_quantity = 24, l_extendedprice = 21624.0, l_discount = 0.1, l_tax = 0.04, l_returnflag = \"N\", l_linestatus = \"O\", l_shipdate = 19960330, l_commitdate = 19960314, l_receiptdate = 19960401, l_shipinstruct = \"NONE\", l_shipmode = \"FOB\", l_comment = \" pending foxes. slyly re\" > -> 1, \n",
      "< l_orderkey = 1, l_partkey = 1, l_suppkey = 1, l_linenumber = 6, l_quantity = 32, l_extendedprice = 28832.0, l_discount = 0.07, l_tax = 0.02, l_returnflag = \"N\", l_linestatus = \"O\", l_shipdate = 19960130, l_commitdate = 19960207, l_receiptdate = 19960203, l_shipinstruct = \"DELIVER IN PERSON\", l_shipmode = \"MAIL\", l_comment = \"arefully slyly ex\" > -> 1, \n",
      "< l_orderkey = 1, l_partkey = 1, l_suppkey = 1, l_linenumber = 7, l_quantity = 3, l_extendedprice = 2787.06, l_discount = 0.07, l_tax = 0.05, l_returnflag = \"N\", l_linestatus = \"O\", l_shipdate = 19960707, l_commitdate = 19960420, l_receiptdate = 19960723, l_shipinstruct = \"DELIVER IN PERSON\", l_shipmode = \"RAIL\", l_comment = \"ccounts ha\" > -> 1 }\n",
      "let supplier = { < s_suppkey = 1, s_name = \"Supplier#000000001\", s_address = \" N kD4on9OM Ipw3,gf0JBoQDd7tgrzrddZ\", s_nationkey = 15, s_phone = \"27-918-335-1736\", s_acctbal = 5755.94, s_comment = \"each slyly above the careful\" > -> 1 }\n",
      "let nation = { < n_nationkey = 0, n_name = \"ALGERIA\", n_regionkey = 0, n_comment = \" haggle. carefully final deposits detect slyly agai\" > -> 1, \n",
      "< n_nationkey = 1, n_name = \"ARGENTINA\", n_regionkey = 1, n_comment = \"al foxes promise slyly according to the regular accounts. bold requests alon\" > -> 1, \n",
      "< n_nationkey = 2, n_name = \"BRAZIL\", n_regionkey = 1, n_comment = \"y alongside of the pending deposits. carefully special packages are about the ironic forges. slyly special \" > -> 1, \n",
      "< n_nationkey = 3, n_name = \"CANADA\", n_regionkey = 1, n_comment = \"eas hang ironic, silent packages. slyly regular packages are furiously over the tithes. fluffily bold\" > -> 1, \n",
      "< n_nationkey = 4, n_name = \"EGYPT\", n_regionkey = 4, n_comment = \"y above the carefully unusual theodolites. final dugouts are quickly across the furiously regular d\" > -> 1, \n",
      "< n_nationkey = 5, n_name = \"ETHIOPIA\", n_regionkey = 0, n_comment = \"ven packages wake quickly. regu\" > -> 1, \n",
      "< n_nationkey = 6, n_name = \"FRANCE\", n_regionkey = 3, n_comment = \"refully final requests. regular, ironi\" > -> 1, \n",
      "< n_nationkey = 7, n_name = \"GERMANY\", n_regionkey = 3, n_comment = \"l platelets. regular accounts x-ray: unusual, regular acco\" > -> 1, \n",
      "< n_nationkey = 8, n_name = \"INDIA\", n_regionkey = 2, n_comment = \"ss excuses cajole slyly across the packages. deposits print aroun\" > -> 1, \n",
      "< n_nationkey = 9, n_name = \"INDONESIA\", n_regionkey = 2, n_comment = \" slyly express asymptotes. regular deposits haggle slyly. carefully ironic hockey players sleep blithely. carefull\" > -> 1, \n",
      "< n_nationkey = 10, n_name = \"IRAN\", n_regionkey = 4, n_comment = \"efully alongside of the slyly final dependencies. \" > -> 1, \n",
      "< n_nationkey = 11, n_name = \"IRAQ\", n_regionkey = 4, n_comment = \"nic deposits boost atop the quickly final requests? quickly regula\" > -> 1, \n",
      "< n_nationkey = 12, n_name = \"JAPAN\", n_regionkey = 2, n_comment = \"ously. final, express gifts cajole a\" > -> 1, \n",
      "< n_nationkey = 13, n_name = \"JORDAN\", n_regionkey = 4, n_comment = \"ic deposits are blithely about the carefully regular pa\" > -> 1, \n",
      "< n_nationkey = 14, n_name = \"KENYA\", n_regionkey = 0, n_comment = \" pending excuses haggle furiously deposits. pending, express pinto beans wake fluffily past t\" > -> 1, \n",
      "< n_nationkey = 15, n_name = \"MOROCCO\", n_regionkey = 0, n_comment = \"rns. blithely bold courts among the closely regular packages use furiously bold platelets?\" > -> 1, \n",
      "< n_nationkey = 16, n_name = \"MOZAMBIQUE\", n_regionkey = 0, n_comment = \"s. ironic, unusual asymptotes wake blithely r\" > -> 1, \n",
      "< n_nationkey = 17, n_name = \"PERU\", n_regionkey = 1, n_comment = \"platelets. blithely pending dependencies use fluffily across the even pinto beans. carefully silent accoun\" > -> 1, \n",
      "< n_nationkey = 18, n_name = \"CHINA\", n_regionkey = 2, n_comment = \"c dependencies. furiously express notornis sleep slyly regular accounts. ideas sleep. depos\" > -> 1, \n",
      "< n_nationkey = 19, n_name = \"ROMANIA\", n_regionkey = 3, n_comment = \"ular asymptotes are about the furious multipliers. express dependencies nag above the ironically ironic account\" > -> 1, \n",
      "< n_nationkey = 20, n_name = \"SAUDI ARABIA\", n_regionkey = 4, n_comment = \"ts. silent requests haggle. closely express packages sleep across the blithely\" > -> 1, \n",
      "< n_nationkey = 21, n_name = \"VIETNAM\", n_regionkey = 2, n_comment = \"hely enticingly express accounts. even, final \" > -> 1, \n",
      "< n_nationkey = 22, n_name = \"RUSSIA\", n_regionkey = 3, n_comment = \" requests against the platelets use never according to the quickly regular pint\" > -> 1, \n",
      "< n_nationkey = 23, n_name = \"UNITED KINGDOM\", n_regionkey = 3, n_comment = \"eans boost carefully special requests. accounts are. carefull\" > -> 1, \n",
      "< n_nationkey = 24, n_name = \"UNITED STATES\", n_regionkey = 1, n_comment = \"y final packages. slow foxes cajole quickly. quickly silent platelets breach ironic accounts. unusual pinto be\" > -> 1 }\n",
      "let region = { < r_regionkey = 0, r_name = \"AFRICA\", r_comment = \"lar deposits. blithely final packages cajole. regular waters are final requests. regular accounts are according to \" > -> 1, \n",
      "< r_regionkey = 1, r_name = \"AMERICA\", r_comment = \"hs use ironic, even requests. s\" > -> 1, \n",
      "< r_regionkey = 2, r_name = \"ASIA\", r_comment = \"ges. thinly even pinto beans ca\" > -> 1, \n",
      "< r_regionkey = 3, r_name = \"EUROPE\", r_comment = \"ly final courts cajole furiously final excuse\" > -> 1, \n",
      "< r_regionkey = 4, r_name = \"MIDDLE EAST\", r_comment = \"uickly special accounts cajole carefully blithely close requests. carefully final asymptotes haggle furiousl\" > -> 1 }\n",
      "let R = sum (<c_k, c_v> in customer) sum (<o_k, o_v> in orders) sum (<l_k, l_v> in lineitem) sum (<s_k, s_v> in supplier) sum (<n_k, n_v> in nation) sum (<r_k, r_v> in region) if (((((((c_k.c_custkey == o_k.o_custkey) && (l_k.l_orderkey == o_k.o_orderkey)) && (l_k.l_suppkey == s_k.s_suppkey)) && (c_k.c_nationkey == s_k.s_nationkey)) && (s_k.s_nationkey == n_k.n_nationkey)) && (n_k.n_regionkey == r_k.r_regionkey))) then { < c_custkey=c_k.c_custkey, c_name=c_k.c_name, c_address=c_k.c_address, c_nationkey=c_k.c_nationkey, c_phone=c_k.c_phone, c_acctbal=c_k.c_acctbal, c_mktsegment=c_k.c_mktsegment, c_comment=c_k.c_comment, o_orderkey=o_k.o_orderkey, o_custkey=o_k.o_custkey, o_orderstatus=o_k.o_orderstatus, o_totalprice=o_k.o_totalprice, o_orderdate=o_k.o_orderdate, o_orderpriority=o_k.o_orderpriority, o_clerk=o_k.o_clerk, o_shippriority=o_k.o_shippriority, o_comment=o_k.o_comment, l_orderkey=l_k.l_orderkey, l_partkey=l_k.l_partkey, l_suppkey=l_k.l_suppkey, l_linenumber=l_k.l_linenumber, l_quantity=l_k.l_quantity, l_extendedprice=l_k.l_extendedprice, l_discount=l_k.l_discount, l_tax=l_k.l_tax, l_returnflag=l_k.l_returnflag, l_linestatus=l_k.l_linestatus, l_shipdate=l_k.l_shipdate, l_commitdate=l_k.l_commitdate, l_receiptdate=l_k.l_receiptdate, l_shipinstruct=l_k.l_shipinstruct, l_shipmode=l_k.l_shipmode, l_comment=l_k.l_comment, s_suppkey=s_k.s_suppkey, s_name=s_k.s_name, s_address=s_k.s_address, s_nationkey=s_k.s_nationkey, s_phone=s_k.s_phone, s_acctbal=s_k.s_acctbal, s_comment=s_k.s_comment, n_nationkey=n_k.n_nationkey, n_name=n_k.n_name, n_regionkey=n_k.n_regionkey, n_comment=n_k.n_comment, r_regionkey=r_k.r_regionkey, r_name=r_k.r_name, r_comment=r_k.r_comment > -> 1 } else {  }\n",
      "let rmp = sum (<r_k, r_v> in R) if ((((r_k.r_name == \"AFRICA\") && (19960101 <= r_k.o_orderdate)) && (r_k.o_orderdate < 19970101))) then { r_k -> 1 } else {  }\n",
      "let tmpa = sum (<r_k, r_v> in rmp) { < n_name=r_k.n_name > -> { r_k -> r_v } }\n",
      "let tmp = sum (<ta_k, ta_v> in tmpa) { < n_name=ta_k.n_name, group=ta_v > -> 1 }\n",
      "let tmpb = sum (<t_k, t_v> in tmp) sum (<g_k, g_v> in t_k.group) { < n_name=t_k.n_name > -> < revenue=(g_k.l_extendedprice * (1 - g_k.l_discount)) * g_v > }\n",
      "let aggr_rmp = sum (<tb_k, tb_v> in tmpb) { < n_name=tb_k.n_name, revenue=tb_v.revenue > -> 1 }\n",
      "aggr_rmp\n",
      "========================================================\n"
     ]
    },
    {
     "name": "stdout",
     "output_type": "stream",
     "text": [
      "[info] welcome to sbt 1.6.0 (Oracle Corporation Java 17)\n",
      "[info] loading project definition from T:\\sdql\\project\n",
      "[info] loading settings for project sdql from build.sbt ...\n",
      "[info] set current project to sdql (in build file:/T:/sdql/)\n",
      "[info]\n",
      "[info] Here are some highlights of this release:\n",
      "[info]   - Improved JDK 17 support\n",
      "[info]   - Improved Build Server Protocol (BSP) support\n",
      "[info]   - Tab completion of global keys\n",
      "[info] See https://eed3si9n.com/sbt-1.6.0 for full release notes.\n",
      "[info] Hide the banner for this release by running `skipBanner`.\n",
      "[error] server failed to start on local:sbt-server-ec9dcaf7bfc5935dead3. java.io.IOException: Could not create lock for \\\\.\\pipe\\sbt-server-ec9dcaf7bfc5935dead3_lock, error 5\n",
      "\u001B[?2004h>....[info] running sdql.driver.Main interpret T:/UG4-Proj/sdql_scripts/q.sdql\n",
      "{<n_name = MOROCCO, revenue = 122533.0858> -> 1}\n",
      "[success] Total time: 1 s, completed 2022年7月16日 上午1:10:03\n",
      "========================================================\n"
     ]
    },
    {
     "data": {
      "text/plain": [
       "{<n_name = MOROCCO, revenue = 122533.0858> -> 1}"
      ]
     },
     "execution_count": 4,
     "metadata": {},
     "output_type": "execute_result"
    }
   ],
   "source": [
    "import pysdql\n",
    "\n",
    "db_driver = pysdql.db_driver(db_path=r'T:/sdql')\n",
    "\n",
    "var1 = 'MIDDLE EAST'\n",
    "var2 = '1993-01-01'\n",
    "var3 = '1994-01-01'  # var2 + 1 year\n",
    "\n",
    "customer = pysdql.read_tbl(path=r'T:/UG4-Proj/datasets/customer.tbl', header=pysdql.CUSTOMER_COLS)\n",
    "orders = pysdql.read_tbl(path=r'T:/UG4-Proj/datasets/orders.tbl', header=pysdql.ORDERS_COLS)\n",
    "lineitem = pysdql.read_tbl(path=r'T:/UG4-Proj/datasets/lineitem.tbl', header=pysdql.LINEITEM_COLS)\n",
    "supplier = pysdql.read_tbl(path=r'T:/UG4-Proj/datasets/supplier.tbl', header=pysdql.SUPPLIER_COLS)\n",
    "nation = pysdql.read_tbl(path=r'T:/UG4-Proj/datasets/nation.tbl', header=pysdql.NATION_COLS)\n",
    "region = pysdql.read_tbl(path=r'T:/UG4-Proj/datasets/region.tbl', header=pysdql.REGION_COLS)\n",
    "\n",
    "r = customer.merge(right=orders, on=(customer['c_custkey'] == orders['o_custkey']))\n",
    "r = r.merge(lineitem, on=(r['o_orderkey'] == lineitem['l_orderkey']))\n",
    "r = r.merge(supplier, on=((r['l_suppkey'] == supplier['s_suppkey'])\n",
    "                          & (r['c_nationkey'] == supplier['s_nationkey'])\n",
    "                          )\n",
    "            )\n",
    "r = r.merge(nation, on=(r['s_nationkey'] == nation['n_nationkey']))\n",
    "r = r.merge(region, on=(r['n_regionkey'] == region['r_regionkey']))\n",
    "\n",
    "r = r[(region['r_name'] == var1)\n",
    "      & (orders['o_orderdate'] >= var2)\n",
    "      & (orders['o_orderdate'] < var3)]\n",
    "\n",
    "r = r.groupby(['n_name']).aggr(revenue=((lineitem['l_extendedprice'] * (1 - lineitem['l_discount'])), 'sum'))\n",
    "\n",
    "db_driver.run(r)"
   ]
  },
  {
   "cell_type": "markdown",
   "metadata": {},
   "source": [
    "# TPCH - 6"
   ]
  },
  {
   "cell_type": "code",
   "execution_count": 5,
   "metadata": {
    "pycharm": {
     "is_executing": true
    }
   },
   "outputs": [
    {
     "name": "stdout",
     "output_type": "stream",
     "text": [
      "========================================================\n",
      "let lineitem = { < l_orderkey = 1, l_partkey = 1, l_suppkey = 1, l_linenumber = 1, l_quantity = 17, l_extendedprice = 15317.0, l_discount = 0.04, l_tax = 0.02, l_returnflag = \"N\", l_linestatus = \"O\", l_shipdate = 19960313, l_commitdate = 19960212, l_receiptdate = 19960322, l_shipinstruct = \"DELIVER IN PERSON\", l_shipmode = \"TRUCK\", l_comment = \"egular courts above the\" > -> 1, \n",
      "< l_orderkey = 1, l_partkey = 1, l_suppkey = 1, l_linenumber = 2, l_quantity = 36, l_extendedprice = 32436.0, l_discount = 0.09, l_tax = 0.06, l_returnflag = \"N\", l_linestatus = \"O\", l_shipdate = 19960412, l_commitdate = 19960228, l_receiptdate = 19960420, l_shipinstruct = \"TAKE BACK RETURN\", l_shipmode = \"MAIL\", l_comment = \"ly final dependencies: slyly bold \" > -> 1, \n",
      "< l_orderkey = 1, l_partkey = 1, l_suppkey = 1, l_linenumber = 3, l_quantity = 8, l_extendedprice = 7208.0, l_discount = 0.1, l_tax = 0.02, l_returnflag = \"R\", l_linestatus = \"O\", l_shipdate = 19960129, l_commitdate = 19960305, l_receiptdate = 19960131, l_shipinstruct = \"TAKE BACK RETURN\", l_shipmode = \"REG AIR\", l_comment = \"riously. regular, express dep\" > -> 1, \n",
      "< l_orderkey = 1, l_partkey = 1, l_suppkey = 1, l_linenumber = 4, l_quantity = 28, l_extendedprice = 25228.0, l_discount = 0.09, l_tax = 0.06, l_returnflag = \"N\", l_linestatus = \"O\", l_shipdate = 19960421, l_commitdate = 19960330, l_receiptdate = 19960516, l_shipinstruct = \"NONE\", l_shipmode = \"AIR\", l_comment = \"lites. fluffily even de\" > -> 1, \n",
      "< l_orderkey = 1, l_partkey = 1, l_suppkey = 1, l_linenumber = 5, l_quantity = 24, l_extendedprice = 21624.0, l_discount = 0.1, l_tax = 0.04, l_returnflag = \"N\", l_linestatus = \"O\", l_shipdate = 19960330, l_commitdate = 19960314, l_receiptdate = 19960401, l_shipinstruct = \"NONE\", l_shipmode = \"FOB\", l_comment = \" pending foxes. slyly re\" > -> 1, \n",
      "< l_orderkey = 1, l_partkey = 1, l_suppkey = 1, l_linenumber = 6, l_quantity = 32, l_extendedprice = 28832.0, l_discount = 0.07, l_tax = 0.02, l_returnflag = \"N\", l_linestatus = \"O\", l_shipdate = 19960130, l_commitdate = 19960207, l_receiptdate = 19960203, l_shipinstruct = \"DELIVER IN PERSON\", l_shipmode = \"MAIL\", l_comment = \"arefully slyly ex\" > -> 1, \n",
      "< l_orderkey = 1, l_partkey = 1, l_suppkey = 1, l_linenumber = 7, l_quantity = 3, l_extendedprice = 2787.06, l_discount = 0.07, l_tax = 0.05, l_returnflag = \"N\", l_linestatus = \"O\", l_shipdate = 19960707, l_commitdate = 19960420, l_receiptdate = 19960723, l_shipinstruct = \"DELIVER IN PERSON\", l_shipmode = \"RAIL\", l_comment = \"ccounts ha\" > -> 1 }\n",
      "let lmp = sum (<l_k, l_v> in lineitem) if ((((((19960301 <= l_k.l_shipdate) && (l_k.l_shipdate < 19970301)) && (0.09 < l_k.l_discount)) && (l_k.l_discount < 1.01)) && (20 < l_k.l_quantity))) then { l_k -> 1 } else {  }\n",
      "let tmp = sum (<l_k, l_v> in lmp) < revenue=(l_k.l_extendedprice * l_k.l_discount) * l_v >\n",
      "let tmpa = { < revenue=tmp.revenue > -> 1 }\n",
      "tmpa\n",
      "========================================================\n",
      "[info] welcome to sbt 1.6.0 (Oracle Corporation Java 17)\n",
      "[info] loading project definition from T:\\sdql\\project\n",
      "[info] loading settings for project sdql from build.sbt ...\n",
      "[info] set current project to sdql (in build file:/T:/sdql/)\n",
      "[info]\n",
      "[info] Here are some highlights of this release:\n",
      "[info]   - Improved JDK 17 support\n",
      "[info]   - Improved Build Server Protocol (BSP) support\n",
      "[info]   - Tab completion of global keys\n",
      "[info] See https://eed3si9n.com/sbt-1.6.0 for full release notes.\n",
      "[info] Hide the banner for this release by running `skipBanner`.\n",
      "[error] server failed to start on local:sbt-server-ec9dcaf7bfc5935dead3. java.io.IOException: Could not create lock for \\\\.\\pipe\\sbt-server-ec9dcaf7bfc5935dead3_lock, error 5\n",
      "\u001B[?2004h>....[info] running sdql.driver.Main interpret T:/UG4-Proj/sdql_scripts/q.sdql\n",
      "{<revenue = 2162.4> -> 1}\n",
      "[success] Total time: 1 s, completed 2022年7月16日 上午1:10:09\n",
      "========================================================\n"
     ]
    },
    {
     "data": {
      "text/plain": [
       "{<revenue = 2162.4> -> 1}"
      ]
     },
     "execution_count": 5,
     "metadata": {},
     "output_type": "execute_result"
    }
   ],
   "source": [
    "import pysdql\n",
    "\n",
    "var1 = '1993-01-01'\n",
    "var2 = '1994-01-01'  # var1 + 1 year\n",
    "discount = 0.07\n",
    "var3 = discount - 0.01\n",
    "var4 = discount + 0.01\n",
    "var5 = 25\n",
    "\n",
    "db_driver = pysdql.db_driver(db_path=r'T:/sdql')\n",
    "\n",
    "lineitem = pysdql.read_tbl(path=r'T:/UG4-Proj/datasets/lineitem.tbl', header=pysdql.LINEITEM_COLS)\n",
    "\n",
    "r = lineitem[(lineitem['l_shipdate'] >= var1) & (lineitem['l_shipdate'] < var2)\n",
    "             & (lineitem['l_discount'] > var3) & (lineitem['l_discount'] < var4)\n",
    "             & (lineitem['l_quantity'] < var5)]\n",
    "\n",
    "r = r.aggr(revenue=(r['l_extendedprice'] * r['l_discount'], 'sum'))\n",
    "\n",
    "db_driver.run(r)"
   ]
  },
  {
   "cell_type": "markdown",
   "metadata": {},
   "source": [
    "# TPCH - 10"
   ]
  },
  {
   "cell_type": "code",
   "execution_count": 6,
   "metadata": {
    "pycharm": {
     "is_executing": true
    },
    "scrolled": false
   },
   "outputs": [
    {
     "name": "stdout",
     "output_type": "stream",
     "text": [
      "========================================================\n",
      "let customer = { < c_custkey = 1, c_name = \"Customer#000000001\", c_address = \"IVhzIApeRb ot,c,E\", c_nationkey = 15, c_phone = \"25-989-741-2988\", c_acctbal = 711.56, c_mktsegment = \"BUILDING\", c_comment = \"to the even, regular platelets. regular, ironic epitaphs nag e\" > -> 1 }\n",
      "let orders = { < o_orderkey = 1, o_custkey = 1, o_orderstatus = \"O\", o_totalprice = 124828.11, o_orderdate = 19960102, o_orderpriority = \"5-LOW\", o_clerk = \"Clerk#000000951\", o_shippriority = 0, o_comment = \"nstructions sleep furiously among \" > -> 1 }\n",
      "let lineitem = { < l_orderkey = 1, l_partkey = 1, l_suppkey = 1, l_linenumber = 1, l_quantity = 17, l_extendedprice = 15317.0, l_discount = 0.04, l_tax = 0.02, l_returnflag = \"N\", l_linestatus = \"O\", l_shipdate = 19960313, l_commitdate = 19960212, l_receiptdate = 19960322, l_shipinstruct = \"DELIVER IN PERSON\", l_shipmode = \"TRUCK\", l_comment = \"egular courts above the\" > -> 1, \n",
      "< l_orderkey = 1, l_partkey = 1, l_suppkey = 1, l_linenumber = 2, l_quantity = 36, l_extendedprice = 32436.0, l_discount = 0.09, l_tax = 0.06, l_returnflag = \"N\", l_linestatus = \"O\", l_shipdate = 19960412, l_commitdate = 19960228, l_receiptdate = 19960420, l_shipinstruct = \"TAKE BACK RETURN\", l_shipmode = \"MAIL\", l_comment = \"ly final dependencies: slyly bold \" > -> 1, \n",
      "< l_orderkey = 1, l_partkey = 1, l_suppkey = 1, l_linenumber = 3, l_quantity = 8, l_extendedprice = 7208.0, l_discount = 0.1, l_tax = 0.02, l_returnflag = \"R\", l_linestatus = \"O\", l_shipdate = 19960129, l_commitdate = 19960305, l_receiptdate = 19960131, l_shipinstruct = \"TAKE BACK RETURN\", l_shipmode = \"REG AIR\", l_comment = \"riously. regular, express dep\" > -> 1, \n",
      "< l_orderkey = 1, l_partkey = 1, l_suppkey = 1, l_linenumber = 4, l_quantity = 28, l_extendedprice = 25228.0, l_discount = 0.09, l_tax = 0.06, l_returnflag = \"N\", l_linestatus = \"O\", l_shipdate = 19960421, l_commitdate = 19960330, l_receiptdate = 19960516, l_shipinstruct = \"NONE\", l_shipmode = \"AIR\", l_comment = \"lites. fluffily even de\" > -> 1, \n",
      "< l_orderkey = 1, l_partkey = 1, l_suppkey = 1, l_linenumber = 5, l_quantity = 24, l_extendedprice = 21624.0, l_discount = 0.1, l_tax = 0.04, l_returnflag = \"N\", l_linestatus = \"O\", l_shipdate = 19960330, l_commitdate = 19960314, l_receiptdate = 19960401, l_shipinstruct = \"NONE\", l_shipmode = \"FOB\", l_comment = \" pending foxes. slyly re\" > -> 1, \n",
      "< l_orderkey = 1, l_partkey = 1, l_suppkey = 1, l_linenumber = 6, l_quantity = 32, l_extendedprice = 28832.0, l_discount = 0.07, l_tax = 0.02, l_returnflag = \"N\", l_linestatus = \"O\", l_shipdate = 19960130, l_commitdate = 19960207, l_receiptdate = 19960203, l_shipinstruct = \"DELIVER IN PERSON\", l_shipmode = \"MAIL\", l_comment = \"arefully slyly ex\" > -> 1, \n",
      "< l_orderkey = 1, l_partkey = 1, l_suppkey = 1, l_linenumber = 7, l_quantity = 3, l_extendedprice = 2787.06, l_discount = 0.07, l_tax = 0.05, l_returnflag = \"N\", l_linestatus = \"O\", l_shipdate = 19960707, l_commitdate = 19960420, l_receiptdate = 19960723, l_shipinstruct = \"DELIVER IN PERSON\", l_shipmode = \"RAIL\", l_comment = \"ccounts ha\" > -> 1 }\n",
      "let nation = { < n_nationkey = 0, n_name = \"ALGERIA\", n_regionkey = 0, n_comment = \" haggle. carefully final deposits detect slyly agai\" > -> 1, \n",
      "< n_nationkey = 1, n_name = \"ARGENTINA\", n_regionkey = 1, n_comment = \"al foxes promise slyly according to the regular accounts. bold requests alon\" > -> 1, \n",
      "< n_nationkey = 2, n_name = \"BRAZIL\", n_regionkey = 1, n_comment = \"y alongside of the pending deposits. carefully special packages are about the ironic forges. slyly special \" > -> 1, \n",
      "< n_nationkey = 3, n_name = \"CANADA\", n_regionkey = 1, n_comment = \"eas hang ironic, silent packages. slyly regular packages are furiously over the tithes. fluffily bold\" > -> 1, \n",
      "< n_nationkey = 4, n_name = \"EGYPT\", n_regionkey = 4, n_comment = \"y above the carefully unusual theodolites. final dugouts are quickly across the furiously regular d\" > -> 1, \n",
      "< n_nationkey = 5, n_name = \"ETHIOPIA\", n_regionkey = 0, n_comment = \"ven packages wake quickly. regu\" > -> 1, \n",
      "< n_nationkey = 6, n_name = \"FRANCE\", n_regionkey = 3, n_comment = \"refully final requests. regular, ironi\" > -> 1, \n",
      "< n_nationkey = 7, n_name = \"GERMANY\", n_regionkey = 3, n_comment = \"l platelets. regular accounts x-ray: unusual, regular acco\" > -> 1, \n",
      "< n_nationkey = 8, n_name = \"INDIA\", n_regionkey = 2, n_comment = \"ss excuses cajole slyly across the packages. deposits print aroun\" > -> 1, \n",
      "< n_nationkey = 9, n_name = \"INDONESIA\", n_regionkey = 2, n_comment = \" slyly express asymptotes. regular deposits haggle slyly. carefully ironic hockey players sleep blithely. carefull\" > -> 1, \n",
      "< n_nationkey = 10, n_name = \"IRAN\", n_regionkey = 4, n_comment = \"efully alongside of the slyly final dependencies. \" > -> 1, \n",
      "< n_nationkey = 11, n_name = \"IRAQ\", n_regionkey = 4, n_comment = \"nic deposits boost atop the quickly final requests? quickly regula\" > -> 1, \n",
      "< n_nationkey = 12, n_name = \"JAPAN\", n_regionkey = 2, n_comment = \"ously. final, express gifts cajole a\" > -> 1, \n",
      "< n_nationkey = 13, n_name = \"JORDAN\", n_regionkey = 4, n_comment = \"ic deposits are blithely about the carefully regular pa\" > -> 1, \n",
      "< n_nationkey = 14, n_name = \"KENYA\", n_regionkey = 0, n_comment = \" pending excuses haggle furiously deposits. pending, express pinto beans wake fluffily past t\" > -> 1, \n",
      "< n_nationkey = 15, n_name = \"MOROCCO\", n_regionkey = 0, n_comment = \"rns. blithely bold courts among the closely regular packages use furiously bold platelets?\" > -> 1, \n",
      "< n_nationkey = 16, n_name = \"MOZAMBIQUE\", n_regionkey = 0, n_comment = \"s. ironic, unusual asymptotes wake blithely r\" > -> 1, \n",
      "< n_nationkey = 17, n_name = \"PERU\", n_regionkey = 1, n_comment = \"platelets. blithely pending dependencies use fluffily across the even pinto beans. carefully silent accoun\" > -> 1, \n",
      "< n_nationkey = 18, n_name = \"CHINA\", n_regionkey = 2, n_comment = \"c dependencies. furiously express notornis sleep slyly regular accounts. ideas sleep. depos\" > -> 1, \n",
      "< n_nationkey = 19, n_name = \"ROMANIA\", n_regionkey = 3, n_comment = \"ular asymptotes are about the furious multipliers. express dependencies nag above the ironically ironic account\" > -> 1, \n",
      "< n_nationkey = 20, n_name = \"SAUDI ARABIA\", n_regionkey = 4, n_comment = \"ts. silent requests haggle. closely express packages sleep across the blithely\" > -> 1, \n",
      "< n_nationkey = 21, n_name = \"VIETNAM\", n_regionkey = 2, n_comment = \"hely enticingly express accounts. even, final \" > -> 1, \n",
      "< n_nationkey = 22, n_name = \"RUSSIA\", n_regionkey = 3, n_comment = \" requests against the platelets use never according to the quickly regular pint\" > -> 1, \n",
      "< n_nationkey = 23, n_name = \"UNITED KINGDOM\", n_regionkey = 3, n_comment = \"eans boost carefully special requests. accounts are. carefull\" > -> 1, \n",
      "< n_nationkey = 24, n_name = \"UNITED STATES\", n_regionkey = 1, n_comment = \"y final packages. slow foxes cajole quickly. quickly silent platelets breach ironic accounts. unusual pinto be\" > -> 1 }\n",
      "let R = sum (<c_k, c_v> in customer) sum (<o_k, o_v> in orders) sum (<l_k, l_v> in lineitem) sum (<n_k, n_v> in nation) if ((((c_k.c_custkey == o_k.o_custkey) && (l_k.l_orderkey == o_k.o_custkey)) && (c_k.c_nationkey == n_k.n_nationkey))) then { < c_custkey=c_k.c_custkey, c_name=c_k.c_name, c_address=c_k.c_address, c_nationkey=c_k.c_nationkey, c_phone=c_k.c_phone, c_acctbal=c_k.c_acctbal, c_mktsegment=c_k.c_mktsegment, c_comment=c_k.c_comment, o_orderkey=o_k.o_orderkey, o_custkey=o_k.o_custkey, o_orderstatus=o_k.o_orderstatus, o_totalprice=o_k.o_totalprice, o_orderdate=o_k.o_orderdate, o_orderpriority=o_k.o_orderpriority, o_clerk=o_k.o_clerk, o_shippriority=o_k.o_shippriority, o_comment=o_k.o_comment, l_orderkey=l_k.l_orderkey, l_partkey=l_k.l_partkey, l_suppkey=l_k.l_suppkey, l_linenumber=l_k.l_linenumber, l_quantity=l_k.l_quantity, l_extendedprice=l_k.l_extendedprice, l_discount=l_k.l_discount, l_tax=l_k.l_tax, l_returnflag=l_k.l_returnflag, l_linestatus=l_k.l_linestatus, l_shipdate=l_k.l_shipdate, l_commitdate=l_k.l_commitdate, l_receiptdate=l_k.l_receiptdate, l_shipinstruct=l_k.l_shipinstruct, l_shipmode=l_k.l_shipmode, l_comment=l_k.l_comment, n_nationkey=n_k.n_nationkey, n_name=n_k.n_name, n_regionkey=n_k.n_regionkey, n_comment=n_k.n_comment > -> 1 } else {  }\n",
      "let rmp = sum (<r_k, r_v> in R) if ((((19960101 <= r_k.o_orderdate) && (r_k.o_orderdate < 19960401)) && (r_k.l_returnflag == \"R\"))) then { r_k -> 1 } else {  }\n",
      "let tmpa = sum (<r_k, r_v> in rmp) { < c_custkey=r_k.c_custkey, c_name=r_k.c_name, c_acctbal=r_k.c_acctbal, c_phone=r_k.c_phone, n_name=r_k.n_name, c_address=r_k.c_address, c_comment=r_k.c_comment > -> { r_k -> r_v } }\n",
      "let tmp = sum (<ta_k, ta_v> in tmpa) { < c_custkey=ta_k.c_custkey, c_name=ta_k.c_name, c_acctbal=ta_k.c_acctbal, c_phone=ta_k.c_phone, n_name=ta_k.n_name, c_address=ta_k.c_address, c_comment=ta_k.c_comment, group=ta_v > -> 1 }\n",
      "let tmpb = sum (<t_k, t_v> in tmp) sum (<g_k, g_v> in t_k.group) { < c_custkey=t_k.c_custkey, c_name=t_k.c_name, c_acctbal=t_k.c_acctbal, c_phone=t_k.c_phone, n_name=t_k.n_name, c_address=t_k.c_address, c_comment=t_k.c_comment > -> < revenue=(g_k.l_extendedprice * (1 - g_k.l_discount)) * g_v > }\n",
      "let aggr_rmp = sum (<tb_k, tb_v> in tmpb) { < c_custkey=tb_k.c_custkey, c_name=tb_k.c_name, c_acctbal=tb_k.c_acctbal, c_phone=tb_k.c_phone, n_name=tb_k.n_name, c_address=tb_k.c_address, c_comment=tb_k.c_comment, revenue=tb_v.revenue > -> 1 }\n",
      "aggr_rmp\n",
      "========================================================\n"
     ]
    },
    {
     "name": "stdout",
     "output_type": "stream",
     "text": [
      "[info] welcome to sbt 1.6.0 (Oracle Corporation Java 17)\n",
      "[info] loading project definition from T:\\sdql\\project\n",
      "[info] loading settings for project sdql from build.sbt ...\n",
      "[info] set current project to sdql (in build file:/T:/sdql/)\n",
      "[info]\n",
      "[info] Here are some highlights of this release:\n",
      "[info]   - Improved JDK 17 support\n",
      "[info]   - Improved Build Server Protocol (BSP) support\n",
      "[info]   - Tab completion of global keys\n",
      "[info] See https://eed3si9n.com/sbt-1.6.0 for full release notes.\n",
      "[info] Hide the banner for this release by running `skipBanner`.\n",
      "[error] server failed to start on local:sbt-server-ec9dcaf7bfc5935dead3. java.io.IOException: Could not create lock for \\\\.\\pipe\\sbt-server-ec9dcaf7bfc5935dead3_lock, error 5\n",
      "\u001B[?2004h>....[info] running sdql.driver.Main interpret T:/UG4-Proj/sdql_scripts/q.sdql\n",
      "{<c_custkey = 1, c_name = Customer#000000001, c_acctbal = 711.56, c_phone = 25-989-741-2988, n_name = MOROCCO, c_address = IVhzIApeRb ot,c,E, c_comment = to the even, regular platelets. regular, ironic epitaphs nag e, revenue = 6487.2> -> 1}\n",
      "[success] Total time: 1 s, completed 2022年7月16日 上午1:10:15\n",
      "========================================================\n"
     ]
    },
    {
     "data": {
      "text/plain": [
       "{<c_custkey = 1, c_name = Customer#000000001, c_acctbal = 711.56, c_phone = 25-989-741-2988, n_name = MOROCCO, c_address = IVhzIApeRb ot,c,E, c_comment = to the even, regular platelets. regular, ironic epitaphs nag e, revenue = 6487.2> -> 1}"
      ]
     },
     "execution_count": 6,
     "metadata": {},
     "output_type": "execute_result"
    }
   ],
   "source": [
    "db_driver = pysdql.driver(db_path=r'T:/sdql')\n",
    "\n",
    "customer = pysdql.read_tbl(path=r'T:/UG4-Proj/datasets/customer.tbl', header=pysdql.CUSTOMER_COLS)\n",
    "orders = pysdql.read_tbl(path=r'T:/UG4-Proj/datasets/orders.tbl', header=pysdql.ORDERS_COLS)\n",
    "lineitem = pysdql.read_tbl(path=r'T:/UG4-Proj/datasets/lineitem.tbl', header=pysdql.LINEITEM_COLS)\n",
    "nation = pysdql.read_tbl(path=r'T:/UG4-Proj/datasets/nation.tbl', header=pysdql.NATION_COLS)\n",
    "\n",
    "r = pysdql.merge(customer, orders, lineitem, nation,\n",
    "                 on=(customer['c_custkey'] == orders['o_custkey'])\n",
    "                    & (lineitem['l_orderkey'] == orders['o_custkey'])\n",
    "                    & (customer['c_nationkey'] == nation['n_nationkey'])\n",
    "                 )\n",
    "\n",
    "r = r[(orders['o_orderdate'] >= 19960101)\n",
    "      & (orders['o_orderdate'] < 19960401)\n",
    "      & (lineitem['l_returnflag'] == 'R')]\n",
    "\n",
    "r = r.groupby(['c_custkey', 'c_name', 'c_acctbal', 'c_phone', 'n_name', 'c_address', 'c_comment']).aggr(\n",
    "    revenue=((lineitem['l_extendedprice'] * (1 - lineitem['l_discount'])), 'sum'))\n",
    "\n",
    "db_driver.run(r)"
   ]
  },
  {
   "cell_type": "markdown",
   "metadata": {},
   "source": [
    "# TPCH - 11"
   ]
  },
  {
   "cell_type": "code",
   "execution_count": 7,
   "metadata": {},
   "outputs": [
    {
     "name": "stdout",
     "output_type": "stream",
     "text": [
      "========================================================\n",
      "let partsupp = { < ps_partkey = 1, ps_suppkey = 1, ps_availqty = 3325, ps_supplycost = 771.64, ps_comment = \", even theodolites. regular, final theodolites eat after the carefully pending foxes. furiously regular deposits sleep slyly. carefully bold realms above the ironic dependencies haggle careful\" > -> 1, \n",
      "< ps_partkey = 1, ps_suppkey = 1, ps_availqty = 8076, ps_supplycost = 993.49, ps_comment = \"ven ideas. quickly even packages print. pending multipliers must have to are fluff\" > -> 1, \n",
      "< ps_partkey = 1, ps_suppkey = 1, ps_availqty = 3956, ps_supplycost = 337.09, ps_comment = \"after the fluffily ironic deposits? blithely special dependencies integrate furiously even excuses. blithely silent theodolites could have to haggle pending, express requests; fu\" > -> 1, \n",
      "< ps_partkey = 1, ps_suppkey = 1, ps_availqty = 4069, ps_supplycost = 357.84, ps_comment = \"al, regular dependencies serve carefully after the quickly final pinto beans. furiously even deposits sleep quickly final, silent pinto beans. fluffily reg\" > -> 1 }\n",
      "let supplier = { < s_suppkey = 1, s_name = \"Supplier#000000001\", s_address = \" N kD4on9OM Ipw3,gf0JBoQDd7tgrzrddZ\", s_nationkey = 15, s_phone = \"27-918-335-1736\", s_acctbal = 5755.94, s_comment = \"each slyly above the careful\" > -> 1 }\n",
      "let nation = { < n_nationkey = 0, n_name = \"ALGERIA\", n_regionkey = 0, n_comment = \" haggle. carefully final deposits detect slyly agai\" > -> 1, \n",
      "< n_nationkey = 1, n_name = \"ARGENTINA\", n_regionkey = 1, n_comment = \"al foxes promise slyly according to the regular accounts. bold requests alon\" > -> 1, \n",
      "< n_nationkey = 2, n_name = \"BRAZIL\", n_regionkey = 1, n_comment = \"y alongside of the pending deposits. carefully special packages are about the ironic forges. slyly special \" > -> 1, \n",
      "< n_nationkey = 3, n_name = \"CANADA\", n_regionkey = 1, n_comment = \"eas hang ironic, silent packages. slyly regular packages are furiously over the tithes. fluffily bold\" > -> 1, \n",
      "< n_nationkey = 4, n_name = \"EGYPT\", n_regionkey = 4, n_comment = \"y above the carefully unusual theodolites. final dugouts are quickly across the furiously regular d\" > -> 1, \n",
      "< n_nationkey = 5, n_name = \"ETHIOPIA\", n_regionkey = 0, n_comment = \"ven packages wake quickly. regu\" > -> 1, \n",
      "< n_nationkey = 6, n_name = \"FRANCE\", n_regionkey = 3, n_comment = \"refully final requests. regular, ironi\" > -> 1, \n",
      "< n_nationkey = 7, n_name = \"GERMANY\", n_regionkey = 3, n_comment = \"l platelets. regular accounts x-ray: unusual, regular acco\" > -> 1, \n",
      "< n_nationkey = 8, n_name = \"INDIA\", n_regionkey = 2, n_comment = \"ss excuses cajole slyly across the packages. deposits print aroun\" > -> 1, \n",
      "< n_nationkey = 9, n_name = \"INDONESIA\", n_regionkey = 2, n_comment = \" slyly express asymptotes. regular deposits haggle slyly. carefully ironic hockey players sleep blithely. carefull\" > -> 1, \n",
      "< n_nationkey = 10, n_name = \"IRAN\", n_regionkey = 4, n_comment = \"efully alongside of the slyly final dependencies. \" > -> 1, \n",
      "< n_nationkey = 11, n_name = \"IRAQ\", n_regionkey = 4, n_comment = \"nic deposits boost atop the quickly final requests? quickly regula\" > -> 1, \n",
      "< n_nationkey = 12, n_name = \"JAPAN\", n_regionkey = 2, n_comment = \"ously. final, express gifts cajole a\" > -> 1, \n",
      "< n_nationkey = 13, n_name = \"JORDAN\", n_regionkey = 4, n_comment = \"ic deposits are blithely about the carefully regular pa\" > -> 1, \n",
      "< n_nationkey = 14, n_name = \"KENYA\", n_regionkey = 0, n_comment = \" pending excuses haggle furiously deposits. pending, express pinto beans wake fluffily past t\" > -> 1, \n",
      "< n_nationkey = 15, n_name = \"MOROCCO\", n_regionkey = 0, n_comment = \"rns. blithely bold courts among the closely regular packages use furiously bold platelets?\" > -> 1, \n",
      "< n_nationkey = 16, n_name = \"MOZAMBIQUE\", n_regionkey = 0, n_comment = \"s. ironic, unusual asymptotes wake blithely r\" > -> 1, \n",
      "< n_nationkey = 17, n_name = \"PERU\", n_regionkey = 1, n_comment = \"platelets. blithely pending dependencies use fluffily across the even pinto beans. carefully silent accoun\" > -> 1, \n",
      "< n_nationkey = 18, n_name = \"CHINA\", n_regionkey = 2, n_comment = \"c dependencies. furiously express notornis sleep slyly regular accounts. ideas sleep. depos\" > -> 1, \n",
      "< n_nationkey = 19, n_name = \"ROMANIA\", n_regionkey = 3, n_comment = \"ular asymptotes are about the furious multipliers. express dependencies nag above the ironically ironic account\" > -> 1, \n",
      "< n_nationkey = 20, n_name = \"SAUDI ARABIA\", n_regionkey = 4, n_comment = \"ts. silent requests haggle. closely express packages sleep across the blithely\" > -> 1, \n",
      "< n_nationkey = 21, n_name = \"VIETNAM\", n_regionkey = 2, n_comment = \"hely enticingly express accounts. even, final \" > -> 1, \n",
      "< n_nationkey = 22, n_name = \"RUSSIA\", n_regionkey = 3, n_comment = \" requests against the platelets use never according to the quickly regular pint\" > -> 1, \n",
      "< n_nationkey = 23, n_name = \"UNITED KINGDOM\", n_regionkey = 3, n_comment = \"eans boost carefully special requests. accounts are. carefull\" > -> 1, \n",
      "< n_nationkey = 24, n_name = \"UNITED STATES\", n_regionkey = 1, n_comment = \"y final packages. slow foxes cajole quickly. quickly silent platelets breach ironic accounts. unusual pinto be\" > -> 1 }\n",
      "let S = sum (<p_k, p_v> in partsupp) sum (<s_k, s_v> in supplier) sum (<n_k, n_v> in nation) if (((p_k.ps_suppkey == s_k.s_suppkey) && (s_k.s_nationkey == n_k.n_nationkey))) then { < ps_partkey=p_k.ps_partkey, ps_suppkey=p_k.ps_suppkey, ps_availqty=p_k.ps_availqty, ps_supplycost=p_k.ps_supplycost, ps_comment=p_k.ps_comment, s_suppkey=s_k.s_suppkey, s_name=s_k.s_name, s_address=s_k.s_address, s_nationkey=s_k.s_nationkey, s_phone=s_k.s_phone, s_acctbal=s_k.s_acctbal, s_comment=s_k.s_comment, n_nationkey=n_k.n_nationkey, n_name=n_k.n_name, n_regionkey=n_k.n_regionkey, n_comment=n_k.n_comment > -> 1 } else {  }\n",
      "let smp = sum (<s_k, s_v> in S) if ((s_k.n_name == \"MOROCCO\")) then { s_k -> 1 } else {  }\n",
      "let agg_val = sum (<s_k, s_v> in smp) s_v\n",
      "let supplier = { < s_suppkey = 1, s_name = \"Supplier#000000001\", s_address = \" N kD4on9OM Ipw3,gf0JBoQDd7tgrzrddZ\", s_nationkey = 15, s_phone = \"27-918-335-1736\", s_acctbal = 5755.94, s_comment = \"each slyly above the careful\" > -> 1 }\n",
      "let R = sum (<p_k, p_v> in partsupp) sum (<s_k, s_v> in supplier) sum (<n_k, n_v> in nation) if (((p_k.ps_suppkey == s_k.s_suppkey) && (s_k.s_nationkey == n_k.n_nationkey))) then { < ps_partkey=p_k.ps_partkey, ps_suppkey=p_k.ps_suppkey, ps_availqty=p_k.ps_availqty, ps_supplycost=p_k.ps_supplycost, ps_comment=p_k.ps_comment, s_suppkey=s_k.s_suppkey, s_name=s_k.s_name, s_address=s_k.s_address, s_nationkey=s_k.s_nationkey, s_phone=s_k.s_phone, s_acctbal=s_k.s_acctbal, s_comment=s_k.s_comment, n_nationkey=n_k.n_nationkey, n_name=n_k.n_name, n_regionkey=n_k.n_regionkey, n_comment=n_k.n_comment > -> 1 } else {  }\n",
      "let rmp = sum (<r_k, r_v> in R) if ((r_k.n_name == \"MOROCCO\")) then { r_k -> 1 } else {  }\n",
      "let tmpa = sum (<r_k, r_v> in rmp) { < ps_partkey=r_k.ps_partkey > -> { r_k -> r_v } }\n",
      "let tmp = sum (<ta_k, ta_v> in tmpa) { < ps_partkey=ta_k.ps_partkey, group=ta_v > -> 1 }\n",
      "let hvmp = sum (<t_k, t_v> in tmp) sum (<g_k, g_v> in t_k.group) { < ps_partkey=t_k.ps_partkey > -> < val=((g_k.ps_supplycost * g_k.ps_availqty) * g_v) > }\n",
      "let hvR = sum (<hv_k, hv_v> in hvmp) if ((agg_val < hv_v.val)) then { < ps_partkey=hv_k.ps_partkey > -> 1 } else {  }\n",
      "let fhrmp = sum (<r_k, r_v> in rmp) sum (<h_k, h_v> in hvR) if ((h_k.ps_partkey == r_k.ps_partkey)) then { r_k -> 1 } else {  }\n",
      "let tmpb = sum (<f_k, f_v> in fhrmp) { < ps_partkey=f_k.ps_partkey > -> { f_k -> f_v } }\n",
      "let fmp = sum (<tb_k, tb_v> in tmpb) { < ps_partkey=tb_k.ps_partkey, group=tb_v > -> 1 }\n",
      "let tmpc = sum (<f_k, f_v> in fmp) sum (<g_k, g_v> in f_k.group) { < ps_partkey=f_k.ps_partkey > -> < value=(g_k.ps_supplycost * g_k.ps_availqty) * g_v > }\n",
      "let aggr_fhrmp = sum (<tc_k, tc_v> in tmpc) { < ps_partkey=tc_k.ps_partkey, value=tc_v.value > -> 1 }\n",
      "aggr_fhrmp\n",
      "========================================================\n",
      "[info] welcome to sbt 1.6.0 (Oracle Corporation Java 17)\n",
      "[info] loading project definition from T:\\sdql\\project\n",
      "[info] loading settings for project sdql from build.sbt ...\n",
      "[info] set current project to sdql (in build file:/T:/sdql/)\n"
     ]
    },
    {
     "name": "stdout",
     "output_type": "stream",
     "text": [
      "[info]\n",
      "[info] Here are some highlights of this release:\n",
      "[info]   - Improved JDK 17 support\n",
      "[info]   - Improved Build Server Protocol (BSP) support\n",
      "[info]   - Tab completion of global keys\n",
      "[info] See https://eed3si9n.com/sbt-1.6.0 for full release notes.\n",
      "[info] Hide the banner for this release by running `skipBanner`.\n",
      "[error] server failed to start on local:sbt-server-ec9dcaf7bfc5935dead3. java.io.IOException: Could not create lock for \\\\.\\pipe\\sbt-server-ec9dcaf7bfc5935dead3_lock, error 5\n",
      "\u001B[?2004h>....[info] running sdql.driver.Main interpret T:/UG4-Proj/sdql_scripts/q.sdql\n",
      "{<ps_partkey = 1, value = 1.3378707239999998E7> -> 1}\n",
      "[success] Total time: 1 s, completed 2022年7月16日 上午1:10:21\n",
      "========================================================\n"
     ]
    },
    {
     "data": {
      "text/plain": [
       "{<ps_partkey = 1, value = 1.3378707239999998E7> -> 1}"
      ]
     },
     "execution_count": 7,
     "metadata": {},
     "output_type": "execute_result"
    }
   ],
   "source": [
    "db_driver = pysdql.driver(db_path=r'T:/sdql')\n",
    "\n",
    "partsupp = pysdql.read_tbl(path=r'T:/UG4-Proj/datasets/partsupp.tbl', header=pysdql.PARTSUPP_COLS)\n",
    "supplier = pysdql.read_tbl(path=r'T:/UG4-Proj/datasets/supplier.tbl', header=pysdql.SUPPLIER_COLS)\n",
    "nation = pysdql.read_tbl(path=r'T:/UG4-Proj/datasets/nation.tbl', header=pysdql.NATION_COLS)\n",
    "\n",
    "s = pysdql.merge(partsupp, supplier, nation,\n",
    "                 on=(partsupp['ps_suppkey'] == supplier['s_suppkey'])\n",
    "                    & (supplier['s_nationkey'] == nation['n_nationkey']),\n",
    "                 name='S'\n",
    "                 )\n",
    "\n",
    "s = s[(nation['n_name'] == 'MOROCCO')]\n",
    "\n",
    "agg_val = (s['ps_supplycost'] * s['ps_availqty'] * 1).sum()\n",
    "\n",
    "# FROM\n",
    "r = pysdql.merge(partsupp, supplier, nation,\n",
    "                 on=(partsupp['ps_suppkey'] == supplier['s_suppkey'])\n",
    "                    & (supplier['s_nationkey'] == nation['n_nationkey']),\n",
    "                 name='R'\n",
    "                 )\n",
    "\n",
    "# WHERE\n",
    "r = r[(nation['n_name'] == 'MOROCCO')]\n",
    "\n",
    "# GOURPBY HAVING\n",
    "r = r.groupby(['ps_partkey']).filter(lambda x: (x['ps_supplycost'] * x['ps_availqty']).sum() > agg_val)\n",
    "\n",
    "# SELECT GROUPBY AGGREGATION\n",
    "r = r.groupby(['ps_partkey']).aggr(value=(r['ps_supplycost'] * r['ps_availqty'], 'sum'))\n",
    "\n",
    "db_driver.run(r)"
   ]
  },
  {
   "cell_type": "markdown",
   "metadata": {},
   "source": [
    "# TPCH - 17"
   ]
  },
  {
   "cell_type": "code",
   "execution_count": 8,
   "metadata": {
    "scrolled": false
   },
   "outputs": [
    {
     "name": "stdout",
     "output_type": "stream",
     "text": [
      "========================================================\n",
      "let lineitem = { < l_orderkey = 1, l_partkey = 1, l_suppkey = 1, l_linenumber = 1, l_quantity = 17, l_extendedprice = 15317.0, l_discount = 0.04, l_tax = 0.02, l_returnflag = \"N\", l_linestatus = \"O\", l_shipdate = 19960313, l_commitdate = 19960212, l_receiptdate = 19960322, l_shipinstruct = \"DELIVER IN PERSON\", l_shipmode = \"TRUCK\", l_comment = \"egular courts above the\" > -> 1, \n",
      "< l_orderkey = 1, l_partkey = 1, l_suppkey = 1, l_linenumber = 2, l_quantity = 36, l_extendedprice = 32436.0, l_discount = 0.09, l_tax = 0.06, l_returnflag = \"N\", l_linestatus = \"O\", l_shipdate = 19960412, l_commitdate = 19960228, l_receiptdate = 19960420, l_shipinstruct = \"TAKE BACK RETURN\", l_shipmode = \"MAIL\", l_comment = \"ly final dependencies: slyly bold \" > -> 1, \n",
      "< l_orderkey = 1, l_partkey = 1, l_suppkey = 1, l_linenumber = 3, l_quantity = 8, l_extendedprice = 7208.0, l_discount = 0.1, l_tax = 0.02, l_returnflag = \"R\", l_linestatus = \"O\", l_shipdate = 19960129, l_commitdate = 19960305, l_receiptdate = 19960131, l_shipinstruct = \"TAKE BACK RETURN\", l_shipmode = \"REG AIR\", l_comment = \"riously. regular, express dep\" > -> 1, \n",
      "< l_orderkey = 1, l_partkey = 1, l_suppkey = 1, l_linenumber = 4, l_quantity = 28, l_extendedprice = 25228.0, l_discount = 0.09, l_tax = 0.06, l_returnflag = \"N\", l_linestatus = \"O\", l_shipdate = 19960421, l_commitdate = 19960330, l_receiptdate = 19960516, l_shipinstruct = \"NONE\", l_shipmode = \"AIR\", l_comment = \"lites. fluffily even de\" > -> 1, \n",
      "< l_orderkey = 1, l_partkey = 1, l_suppkey = 1, l_linenumber = 5, l_quantity = 24, l_extendedprice = 21624.0, l_discount = 0.1, l_tax = 0.04, l_returnflag = \"N\", l_linestatus = \"O\", l_shipdate = 19960330, l_commitdate = 19960314, l_receiptdate = 19960401, l_shipinstruct = \"NONE\", l_shipmode = \"FOB\", l_comment = \" pending foxes. slyly re\" > -> 1, \n",
      "< l_orderkey = 1, l_partkey = 1, l_suppkey = 1, l_linenumber = 6, l_quantity = 32, l_extendedprice = 28832.0, l_discount = 0.07, l_tax = 0.02, l_returnflag = \"N\", l_linestatus = \"O\", l_shipdate = 19960130, l_commitdate = 19960207, l_receiptdate = 19960203, l_shipinstruct = \"DELIVER IN PERSON\", l_shipmode = \"MAIL\", l_comment = \"arefully slyly ex\" > -> 1, \n",
      "< l_orderkey = 1, l_partkey = 1, l_suppkey = 1, l_linenumber = 7, l_quantity = 3, l_extendedprice = 2787.06, l_discount = 0.07, l_tax = 0.05, l_returnflag = \"N\", l_linestatus = \"O\", l_shipdate = 19960707, l_commitdate = 19960420, l_receiptdate = 19960723, l_shipinstruct = \"DELIVER IN PERSON\", l_shipmode = \"RAIL\", l_comment = \"ccounts ha\" > -> 1 }\n",
      "let part = { < p_partkey = 1, p_name = \"goldenrod lavender spring chocolate lace\", p_mfgr = \"Manufacturer#1\", p_brand = \"Brand#13\", p_type = \"PROMO BURNISHED COPPER\", p_size = 7, p_container = \"JUMBO PKG\", p_retailprice = 901.0, p_comment = \"ly. slyly ironi\" > -> 1 }\n",
      "let lineitem = { < l_orderkey = 1, l_partkey = 1, l_suppkey = 1, l_linenumber = 1, l_quantity = 17, l_extendedprice = 15317.0, l_discount = 0.04, l_tax = 0.02, l_returnflag = \"N\", l_linestatus = \"O\", l_shipdate = 19960313, l_commitdate = 19960212, l_receiptdate = 19960322, l_shipinstruct = \"DELIVER IN PERSON\", l_shipmode = \"TRUCK\", l_comment = \"egular courts above the\" > -> 1, \n",
      "< l_orderkey = 1, l_partkey = 1, l_suppkey = 1, l_linenumber = 2, l_quantity = 36, l_extendedprice = 32436.0, l_discount = 0.09, l_tax = 0.06, l_returnflag = \"N\", l_linestatus = \"O\", l_shipdate = 19960412, l_commitdate = 19960228, l_receiptdate = 19960420, l_shipinstruct = \"TAKE BACK RETURN\", l_shipmode = \"MAIL\", l_comment = \"ly final dependencies: slyly bold \" > -> 1, \n",
      "< l_orderkey = 1, l_partkey = 1, l_suppkey = 1, l_linenumber = 3, l_quantity = 8, l_extendedprice = 7208.0, l_discount = 0.1, l_tax = 0.02, l_returnflag = \"R\", l_linestatus = \"O\", l_shipdate = 19960129, l_commitdate = 19960305, l_receiptdate = 19960131, l_shipinstruct = \"TAKE BACK RETURN\", l_shipmode = \"REG AIR\", l_comment = \"riously. regular, express dep\" > -> 1, \n",
      "< l_orderkey = 1, l_partkey = 1, l_suppkey = 1, l_linenumber = 4, l_quantity = 28, l_extendedprice = 25228.0, l_discount = 0.09, l_tax = 0.06, l_returnflag = \"N\", l_linestatus = \"O\", l_shipdate = 19960421, l_commitdate = 19960330, l_receiptdate = 19960516, l_shipinstruct = \"NONE\", l_shipmode = \"AIR\", l_comment = \"lites. fluffily even de\" > -> 1, \n",
      "< l_orderkey = 1, l_partkey = 1, l_suppkey = 1, l_linenumber = 5, l_quantity = 24, l_extendedprice = 21624.0, l_discount = 0.1, l_tax = 0.04, l_returnflag = \"N\", l_linestatus = \"O\", l_shipdate = 19960330, l_commitdate = 19960314, l_receiptdate = 19960401, l_shipinstruct = \"NONE\", l_shipmode = \"FOB\", l_comment = \" pending foxes. slyly re\" > -> 1, \n",
      "< l_orderkey = 1, l_partkey = 1, l_suppkey = 1, l_linenumber = 6, l_quantity = 32, l_extendedprice = 28832.0, l_discount = 0.07, l_tax = 0.02, l_returnflag = \"N\", l_linestatus = \"O\", l_shipdate = 19960130, l_commitdate = 19960207, l_receiptdate = 19960203, l_shipinstruct = \"DELIVER IN PERSON\", l_shipmode = \"MAIL\", l_comment = \"arefully slyly ex\" > -> 1, \n",
      "< l_orderkey = 1, l_partkey = 1, l_suppkey = 1, l_linenumber = 7, l_quantity = 3, l_extendedprice = 2787.06, l_discount = 0.07, l_tax = 0.05, l_returnflag = \"N\", l_linestatus = \"O\", l_shipdate = 19960707, l_commitdate = 19960420, l_receiptdate = 19960723, l_shipinstruct = \"DELIVER IN PERSON\", l_shipmode = \"RAIL\", l_comment = \"ccounts ha\" > -> 1 }\n",
      "let tmp = sum (<l_k, l_v> in lineitem) { < l_partkey=l_k.l_partkey > -> { l_k -> l_v } }\n",
      "let lmp = sum (<t_k, t_v> in tmp) { < l_partkey=t_k.l_partkey, group=t_v > -> 1 }\n",
      "let tmpa = sum (<l_k, l_v> in lmp) sum (<g_k, g_v> in l_k.group) { < l_partkey=l_k.l_partkey > -> < avg_quantity_sum=(0.2 * g_k.l_quantity) * g_v, avg_quantity_count=g_v > }\n",
      "let aggr_lineitem = sum (<ta_k, ta_v> in tmpa) { < agg_partkey=ta_k.l_partkey, avg_quantity=(ta_v.avg_quantity_sum / ta_v.avg_quantity_count) > -> 1 }\n",
      "let part_agg = aggr_lineitem\n",
      "let R = sum (<l_k, l_v> in lineitem) sum (<p_k, p_v> in part) sum (<al_k, al_v> in aggr_lineitem) if (((p_k.p_partkey == l_k.l_partkey) && (al_k.agg_partkey == l_k.l_partkey))) then { < l_orderkey=l_k.l_orderkey, l_partkey=l_k.l_partkey, l_suppkey=l_k.l_suppkey, l_linenumber=l_k.l_linenumber, l_quantity=l_k.l_quantity, l_extendedprice=l_k.l_extendedprice, l_discount=l_k.l_discount, l_tax=l_k.l_tax, l_returnflag=l_k.l_returnflag, l_linestatus=l_k.l_linestatus, l_shipdate=l_k.l_shipdate, l_commitdate=l_k.l_commitdate, l_receiptdate=l_k.l_receiptdate, l_shipinstruct=l_k.l_shipinstruct, l_shipmode=l_k.l_shipmode, l_comment=l_k.l_comment, p_partkey=p_k.p_partkey, p_name=p_k.p_name, p_mfgr=p_k.p_mfgr, p_brand=p_k.p_brand, p_type=p_k.p_type, p_size=p_k.p_size, p_container=p_k.p_container, p_retailprice=p_k.p_retailprice, p_comment=p_k.p_comment, agg_partkey=al_k.agg_partkey, avg_quantity=al_k.avg_quantity > -> 1 } else {  }\n",
      "let rmp = sum (<r_k, r_v> in R) if ((((r_k.p_brand == \"Brand#13\") && (r_k.p_container == \"JUMBO PKG\")) && (r_k.l_quantity < r_k.avg_quantity))) then { r_k -> 1 } else {  }\n",
      "let tmp = sum (<r_k, r_v> in rmp) < avg_yearly=(r_k.l_extendedprice / 7.0) * r_v >\n",
      "let tmpa = { < avg_yearly=tmp.avg_yearly > -> 1 }\n",
      "tmpa\n",
      "========================================================\n",
      "[info] welcome to sbt 1.6.0 (Oracle Corporation Java 17)\n",
      "[info] loading project definition from T:\\sdql\\project\n",
      "[info] loading settings for project sdql from build.sbt ...\n",
      "[info] set current project to sdql (in build file:/T:/sdql/)\n",
      "[info]\n",
      "[info] Here are some highlights of this release:\n",
      "[info]   - Improved JDK 17 support\n",
      "[info]   - Improved Build Server Protocol (BSP) support\n",
      "[info]   - Tab completion of global keys\n",
      "[info] See https://eed3si9n.com/sbt-1.6.0 for full release notes.\n",
      "[info] Hide the banner for this release by running `skipBanner`.\n",
      "[error] server failed to start on local:sbt-server-ec9dcaf7bfc5935dead3. java.io.IOException: Could not create lock for \\\\.\\pipe\\sbt-server-ec9dcaf7bfc5935dead3_lock, error 5\n",
      "\u001B[?2004h>....[info] running sdql.driver.Main interpret T:/UG4-Proj/sdql_scripts/q.sdql\n",
      "{<avg_yearly = 398.15142857142854> -> 1}\n",
      "[success] Total time: 1 s, completed 2022年7月16日 上午1:10:27\n",
      "========================================================\n"
     ]
    },
    {
     "data": {
      "text/plain": [
       "{<avg_yearly = 398.15142857142854> -> 1}"
      ]
     },
     "execution_count": 8,
     "metadata": {},
     "output_type": "execute_result"
    }
   ],
   "source": [
    "db_driver = pysdql.driver(db_path=r'T:/sdql')\n",
    "\n",
    "lineitem = pysdql.read_tbl(path=r'T:/UG4-Proj/datasets/lineitem.tbl', header=pysdql.LINEITEM_COLS)\n",
    "part = pysdql.read_tbl(path=r'T:/UG4-Proj/datasets/part.tbl', header=pysdql.PART_COLS)\n",
    "\n",
    "part_agg = lineitem.groupby(['l_partkey']) \\\n",
    "    .aggr(agg_partkey=lineitem['l_partkey'], avg_quantity=(0.2 * lineitem['l_quantity'], 'avg')) \\\n",
    "    .rename('part_agg')\n",
    "\n",
    "r = pysdql.merge(lineitem, part, part_agg,\n",
    "                 on=((part['p_partkey'] == lineitem['l_partkey'])\n",
    "                     & (part_agg['agg_partkey'] == lineitem['l_partkey']))\n",
    "                 )\n",
    "\n",
    "r = r[(part['p_brand'] == 'Brand#13')\n",
    "      & (part['p_container'] == 'JUMBO PKG')\n",
    "      & (lineitem['l_quantity'] < part_agg['avg_quantity'])]\n",
    "\n",
    "r = r.aggr(avg_yearly=((lineitem['l_extendedprice'] / 7.0), 'sum'))\n",
    "\n",
    "db_driver.run(r)"
   ]
  },
  {
   "cell_type": "markdown",
   "metadata": {},
   "source": [
    "# TPCH - 19"
   ]
  },
  {
   "cell_type": "code",
   "execution_count": 9,
   "metadata": {},
   "outputs": [
    {
     "name": "stdout",
     "output_type": "stream",
     "text": [
      "========================================================\n",
      "let lineitem = { < l_orderkey = 1, l_partkey = 1, l_suppkey = 1, l_linenumber = 1, l_quantity = 17, l_extendedprice = 15317.0, l_discount = 0.04, l_tax = 0.02, l_returnflag = \"N\", l_linestatus = \"O\", l_shipdate = 19960313, l_commitdate = 19960212, l_receiptdate = 19960322, l_shipinstruct = \"DELIVER IN PERSON\", l_shipmode = \"TRUCK\", l_comment = \"egular courts above the\" > -> 1, \n",
      "< l_orderkey = 1, l_partkey = 1, l_suppkey = 1, l_linenumber = 2, l_quantity = 36, l_extendedprice = 32436.0, l_discount = 0.09, l_tax = 0.06, l_returnflag = \"N\", l_linestatus = \"O\", l_shipdate = 19960412, l_commitdate = 19960228, l_receiptdate = 19960420, l_shipinstruct = \"TAKE BACK RETURN\", l_shipmode = \"MAIL\", l_comment = \"ly final dependencies: slyly bold \" > -> 1, \n",
      "< l_orderkey = 1, l_partkey = 1, l_suppkey = 1, l_linenumber = 3, l_quantity = 8, l_extendedprice = 7208.0, l_discount = 0.1, l_tax = 0.02, l_returnflag = \"R\", l_linestatus = \"O\", l_shipdate = 19960129, l_commitdate = 19960305, l_receiptdate = 19960131, l_shipinstruct = \"TAKE BACK RETURN\", l_shipmode = \"REG AIR\", l_comment = \"riously. regular, express dep\" > -> 1, \n",
      "< l_orderkey = 1, l_partkey = 1, l_suppkey = 1, l_linenumber = 4, l_quantity = 28, l_extendedprice = 25228.0, l_discount = 0.09, l_tax = 0.06, l_returnflag = \"N\", l_linestatus = \"O\", l_shipdate = 19960421, l_commitdate = 19960330, l_receiptdate = 19960516, l_shipinstruct = \"NONE\", l_shipmode = \"AIR\", l_comment = \"lites. fluffily even de\" > -> 1, \n",
      "< l_orderkey = 1, l_partkey = 1, l_suppkey = 1, l_linenumber = 5, l_quantity = 24, l_extendedprice = 21624.0, l_discount = 0.1, l_tax = 0.04, l_returnflag = \"N\", l_linestatus = \"O\", l_shipdate = 19960330, l_commitdate = 19960314, l_receiptdate = 19960401, l_shipinstruct = \"NONE\", l_shipmode = \"FOB\", l_comment = \" pending foxes. slyly re\" > -> 1, \n",
      "< l_orderkey = 1, l_partkey = 1, l_suppkey = 1, l_linenumber = 6, l_quantity = 32, l_extendedprice = 28832.0, l_discount = 0.07, l_tax = 0.02, l_returnflag = \"N\", l_linestatus = \"O\", l_shipdate = 19960130, l_commitdate = 19960207, l_receiptdate = 19960203, l_shipinstruct = \"DELIVER IN PERSON\", l_shipmode = \"MAIL\", l_comment = \"arefully slyly ex\" > -> 1, \n",
      "< l_orderkey = 1, l_partkey = 1, l_suppkey = 1, l_linenumber = 7, l_quantity = 3, l_extendedprice = 2787.06, l_discount = 0.07, l_tax = 0.05, l_returnflag = \"N\", l_linestatus = \"O\", l_shipdate = 19960707, l_commitdate = 19960420, l_receiptdate = 19960723, l_shipinstruct = \"DELIVER IN PERSON\", l_shipmode = \"RAIL\", l_comment = \"ccounts ha\" > -> 1, \n",
      "< l_orderkey = 1, l_partkey = 1, l_suppkey = 1, l_linenumber = 8, l_quantity = 20, l_extendedprice = 17817.0, l_discount = 0.09, l_tax = 0.02, l_returnflag = \"N\", l_linestatus = \"O\", l_shipdate = 19960313, l_commitdate = 19960212, l_receiptdate = 19960322, l_shipinstruct = \"DELIVER IN PERSON\", l_shipmode = \"AIR\", l_comment = \"egular courts above the\" > -> 1 }\n",
      "let part = { < p_partkey = 1, p_name = \"goldenrod lavender spring chocolate lace\", p_mfgr = \"Manufacturer#1\", p_brand = \"Brand#13\", p_type = \"PROMO BURNISHED COPPER\", p_size = 7, p_container = \"JUMBO PKG\", p_retailprice = 901.0, p_comment = \"ly. slyly ironi\" > -> 1, \n",
      "< p_partkey = 6, p_name = \"bisque cornflower lawn forest magenta\", p_mfgr = \"Manufacturer#2\", p_brand = \"Brand#13\", p_type = \"PROMO PLATED STEEL\", p_size = 2, p_container = \"SM BAG\", p_retailprice = 906.0, p_comment = \"sual a\" > -> 1 }\n",
      "let R = sum (<l_k, l_v> in lineitem) sum (<p_k, p_v> in part) if ((p_k.p_partkey == l_k.l_partkey)) then { < l_orderkey=l_k.l_orderkey, l_partkey=l_k.l_partkey, l_suppkey=l_k.l_suppkey, l_linenumber=l_k.l_linenumber, l_quantity=l_k.l_quantity, l_extendedprice=l_k.l_extendedprice, l_discount=l_k.l_discount, l_tax=l_k.l_tax, l_returnflag=l_k.l_returnflag, l_linestatus=l_k.l_linestatus, l_shipdate=l_k.l_shipdate, l_commitdate=l_k.l_commitdate, l_receiptdate=l_k.l_receiptdate, l_shipinstruct=l_k.l_shipinstruct, l_shipmode=l_k.l_shipmode, l_comment=l_k.l_comment, p_partkey=p_k.p_partkey, p_name=p_k.p_name, p_mfgr=p_k.p_mfgr, p_brand=p_k.p_brand, p_type=p_k.p_type, p_size=p_k.p_size, p_container=p_k.p_container, p_retailprice=p_k.p_retailprice, p_comment=p_k.p_comment > -> 1 } else {  }\n",
      "let rmp = sum (<r_k, r_v> in R) if (((((((((((r_k.p_brand == \"Brand#13\") && ((r_k.p_container == \"SM BOX\")) || ((r_k.p_container == \"SM CASE\"))) && (15 <= r_k.l_quantity)) && (r_k.l_quantity <= 25)) && (1 < r_k.p_size)) && (r_k.p_size < 5)) && ((r_k.l_shipmode == \"AIR REG\")) || ((r_k.l_shipmode == \"AIR\"))) && (r_k.l_shipinstruct == \"DELIVER IN PERSON\"))) || (((((((((r_k.p_brand == \"Brand#13\") && ((r_k.p_container == \"MED BOX\")) || ((r_k.p_container == \"MED BAG\"))) && (15 <= r_k.l_quantity)) && (r_k.l_quantity <= 25)) && (1 < r_k.p_size)) && (r_k.p_size < 10)) && ((r_k.l_shipmode == \"AIR REG\")) || ((r_k.l_shipmode == \"AIR\"))) && (r_k.l_shipinstruct == \"DELIVER IN PERSON\")))) || (((((((((r_k.p_brand == \"Brand#13\") && ((r_k.p_container == \"LG BOX\")) || ((r_k.p_container == \"LG CASE\"))) && (15 <= r_k.l_quantity)) && (r_k.l_quantity <= 25)) && (1 < r_k.p_size)) && (r_k.p_size < 15)) && ((r_k.l_shipmode == \"AIR REG\")) || ((r_k.l_shipmode == \"AIR\"))) && (r_k.l_shipinstruct == \"DELIVER IN PERSON\")))) then { r_k -> 1 } else {  }\n",
      "let tmp = sum (<r_k, r_v> in rmp) < revenue=(r_k.l_extendedprice * (1 - r_k.l_discount)) * r_v >\n",
      "let tmpa = { < revenue=tmp.revenue > -> 1 }\n",
      "tmpa\n",
      "========================================================\n",
      "[info] welcome to sbt 1.6.0 (Oracle Corporation Java 17)\n",
      "[info] loading project definition from T:\\sdql\\project\n",
      "[info] loading settings for project sdql from build.sbt ...\n",
      "[info] set current project to sdql (in build file:/T:/sdql/)\n",
      "[info]\n",
      "[info] Here are some highlights of this release:\n",
      "[info]   - Improved JDK 17 support\n",
      "[info]   - Improved Build Server Protocol (BSP) support\n",
      "[info]   - Tab completion of global keys\n",
      "[info] See https://eed3si9n.com/sbt-1.6.0 for full release notes.\n",
      "[info] Hide the banner for this release by running `skipBanner`.\n",
      "[error] server failed to start on local:sbt-server-ec9dcaf7bfc5935dead3. java.io.IOException: Could not create lock for \\\\.\\pipe\\sbt-server-ec9dcaf7bfc5935dead3_lock, error 5\n",
      "\u001B[?2004h>....[info] running sdql.driver.Main interpret T:/UG4-Proj/sdql_scripts/q.sdql\n",
      "{<revenue = 16213.470000000001> -> 1}\n",
      "[success] Total time: 1 s, completed 2022年7月16日 上午1:25:29\n",
      "========================================================\n"
     ]
    },
    {
     "data": {
      "text/plain": [
       "{<revenue = 16213.470000000001> -> 1}"
      ]
     },
     "execution_count": 9,
     "metadata": {},
     "output_type": "execute_result"
    }
   ],
   "source": [
    "db_driver = pysdql.driver(db_path=r'T:/sdql')\n",
    "\n",
    "lineitem = pysdql.read_tbl(path=r'T:/UG4-Proj/datasets/lineitem.tbl', header=pysdql.LINEITEM_COLS)\n",
    "part = pysdql.read_tbl(path=r'T:/UG4-Proj/datasets/part.tbl', header=pysdql.PART_COLS)\n",
    "\n",
    "c1 = (part['p_brand'] == 'Brand#13') \\\n",
    "     & (part['p_container'].isin(('SM CASE', 'SM BOX', 'SM PACK', 'SM PKG'))) \\\n",
    "     & (lineitem['l_quantity'] >= 15) \\\n",
    "     & (lineitem['l_quantity'] <= 25) \\\n",
    "     & (part['p_size'] > 1) \\\n",
    "     & (part['p_size'] < 5) \\\n",
    "     & (lineitem['l_shipmode'].isin(('AIR', 'AIR REG'))) \\\n",
    "     & (lineitem['l_shipinstruct'] == 'DELIVER IN PERSON')\n",
    "c2 = (part['p_brand'] == 'Brand#13') \\\n",
    "     & (part['p_container'].isin(('MED BAG', 'MED BOX', 'MED PKG', 'MED PACK'))) \\\n",
    "     & (lineitem['l_quantity'] >= 15) \\\n",
    "     & (lineitem['l_quantity'] <= 25) \\\n",
    "     & (part['p_size'] > 1) \\\n",
    "     & (part['p_size'] < 10) \\\n",
    "     & (lineitem['l_shipmode'].isin(('AIR', 'AIR REG'))) \\\n",
    "     & (lineitem['l_shipinstruct'] == 'DELIVER IN PERSON')\n",
    "c3 = (part['p_brand'] == 'Brand#13') \\\n",
    "     & (part['p_container'].isin(('LG CASE', 'LG BOX', 'LG PACK', 'LG PKG'))) \\\n",
    "     & (lineitem['l_quantity'] >= 15) \\\n",
    "     & (lineitem['l_quantity'] <= 25) \\\n",
    "     & (part['p_size'] > 1) \\\n",
    "     & (part['p_size'] < 15) \\\n",
    "     & (lineitem['l_shipmode'].isin(('AIR', 'AIR REG'))) \\\n",
    "     & (lineitem['l_shipinstruct'] == 'DELIVER IN PERSON')\n",
    "\n",
    "r = pysdql.merge(lineitem, part, on=(part['p_partkey'] == lineitem['l_partkey']))\n",
    "\n",
    "r = r[c1 | c2 | c3]\n",
    "\n",
    "r = r.aggr(revenue=((r['l_extendedprice'] * (1 - r['l_discount'])), 'sum'))\n",
    "\n",
    "db_driver.run(r)"
   ]
  },
  {
   "cell_type": "markdown",
   "metadata": {},
   "source": []
  },
  {
   "cell_type": "code",
   "execution_count": null,
   "metadata": {},
   "outputs": [],
   "source": []
  }
 ],
 "metadata": {
  "kernelspec": {
   "display_name": "Python 3 (ipykernel)",
   "language": "python",
   "name": "python3"
  },
  "language_info": {
   "codemirror_mode": {
    "name": "ipython",
    "version": 3
   },
   "file_extension": ".py",
   "mimetype": "text/x-python",
   "name": "python",
   "nbconvert_exporter": "python",
   "pygments_lexer": "ipython3",
   "version": "3.9.7"
  }
 },
 "nbformat": 4,
 "nbformat_minor": 1
}